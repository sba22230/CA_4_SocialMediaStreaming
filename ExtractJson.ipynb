{
 "cells": [
  {
   "cell_type": "code",
   "execution_count": null,
   "metadata": {},
   "outputs": [],
   "source": [
    "# import packages used in this notebook\n",
    "import os\n",
    "import json"
   ]
  },
  {
   "cell_type": "code",
   "execution_count": null,
   "metadata": {},
   "outputs": [],
   "source": [
    "tweets = [] # list of tweets"
   ]
  },
  {
   "cell_type": "code",
   "execution_count": null,
   "metadata": {},
   "outputs": [],
   "source": [
    "def getbz2Tweets(files, subject):\n",
    "    import bz2\n",
    "    import re\n",
    "    subj = subject.lower()\n",
    "    with bz2.open(filbz, \"rt\", encoding=\"utf-8\") as f:\n",
    "    # error encountered when loading the entire file as json object\n",
    "        for line in f:\n",
    "            try:\n",
    "                data = json.loads(line)\n",
    "                # filter the data for my subject\n",
    "                fltrData = re.search(r'\\b{}\\b'.format(subj), line.lower())\n",
    "\n",
    "                if fltrData:\n",
    "                    try:\n",
    "                        tweet = {'id':[data[\"id\"]],\n",
    "                              'text': data[\"text\"]}\n",
    "                \n",
    "                        # user = data[\"user\"]\n",
    "                        # tweet['userName'] = user[\"name\"]\n",
    "                        # tweet['userLocation'] = user[\"location\"]\n",
    "                        # tweet['userFollowers'] = user[\"followers_count\"]\n",
    "                        # if 'retweeted_status' in data:\n",
    "                        #     retweet = data[\"retweeted_status\"]\n",
    "                        #     tweet['retweetUserName'] = retweet[\"user\"]\n",
    "                        #     tweet['retweetCount'] = retweet[\"retweet_count\"]\n",
    "                        tweets.append(tweet)\n",
    "                    except KeyError as e:\n",
    "                        #print(\"KeyError encountered\", {e}) # error is encountered mainly due to deleted tweets \n",
    "                        #print(line)\n",
    "                        continue\n",
    "            except json.decoder.JSONDecodeError as e:\n",
    "                print(\"Error encountered at line: \", {e})\n",
    "                continue\n",
    "    return tweets\n",
    "   "
   ]
  },
  {
   "cell_type": "code",
   "execution_count": null,
   "metadata": {},
   "outputs": [],
   "source": [
    "def getgzTweets(files, subject):\n",
    "    import gzip\n",
    "    import re\n",
    "    subj = subject.lower()\n",
    "    with gzip.open(files, \"rt\", encoding=\"utf-8\") as f:\n",
    "    # error encountered when loading the entire file as json object\n",
    "        for line in f:\n",
    "            try:\n",
    "                data = json.loads(line)\n",
    "                # filter the data for my subject\n",
    "                fltrData = re.search(r'\\b{}\\b'.format(subj), line.lower())\n",
    "\n",
    "                if fltrData:\n",
    "                    print(line)\n",
    "                    try:\n",
    "                        tweet = {'id':[data[\"id\"]],\n",
    "                              'text': data[\"text\"]}\n",
    "                \n",
    "                        # user = data[\"user\"]\n",
    "                        # tweet['userName'] = user[\"name\"]\n",
    "                        # tweet['userLocation'] = user[\"location\"]\n",
    "                        # tweet['userFollowers'] = user[\"followers_count\"]\n",
    "                        # if 'retweeted_status' in data:\n",
    "                        #     retweet = data[\"retweeted_status\"]\n",
    "                        #     tweet['retweetUserName'] = retweet[\"user\"]\n",
    "                        #     tweet['retweetCount'] = retweet[\"retweet_count\"]\n",
    "                        tweets.append(tweet)\n",
    "                    except KeyError as e:\n",
    "                        #print(\"KeyError encountered\", {e}) # error is encountered mainly due to deleted tweets \n",
    "                        #print(line)\n",
    "                        continue\n",
    "            except json.decoder.JSONDecodeError as e:\n",
    "                print(\"Error encountered at line: \", {e})\n",
    "                continue\n",
    "    return tweets\n",
    "   "
   ]
  },
  {
   "cell_type": "code",
   "execution_count": null,
   "metadata": {},
   "outputs": [],
   "source": [
    "tweetFiles = os.listdir('./SampleTweets/archive')\n",
    "for filbz in tweetFiles:\n",
    "    filbz = './SampleTweets/archive/' + filbz\n",
    "    if filbz.endswith('.bz2'):\n",
    "        tweets.append(getbz2Tweets(filbz, 'euro'))\n",
    "    elif filbz.endswith('.gz'):\n",
    "        tweets.append(getgzTweets(filbz, 'euro'))"
   ]
  },
  {
   "cell_type": "code",
   "execution_count": null,
   "metadata": {},
   "outputs": [],
   "source": [
    "display(tweets[0]['id'])"
   ]
  },
  {
   "cell_type": "code",
   "execution_count": null,
   "metadata": {},
   "outputs": [],
   "source": [
    "idList = [tweet['id'] for tweet in tweets]\n",
    "if [1410485572347387910] in idList:\n",
    "    print(\"True\")"
   ]
  },
  {
   "cell_type": "code",
   "execution_count": null,
   "metadata": {},
   "outputs": [],
   "source": [
    "display(tweets)"
   ]
  },
  {
   "cell_type": "code",
   "execution_count": null,
   "metadata": {},
   "outputs": [],
   "source": [
    "type(tweets[0])"
   ]
  },
  {
   "cell_type": "code",
   "execution_count": null,
   "metadata": {},
   "outputs": [],
   "source": []
  }
 ],
 "metadata": {
  "kernelspec": {
   "display_name": "tf",
   "language": "python",
   "name": "python3"
  },
  "language_info": {
   "codemirror_mode": {
    "name": "ipython",
    "version": 3
   },
   "file_extension": ".py",
   "mimetype": "text/x-python",
   "name": "python",
   "nbconvert_exporter": "python",
   "pygments_lexer": "ipython3",
   "version": "3.9.9"
  },
  "orig_nbformat": 4
 },
 "nbformat": 4,
 "nbformat_minor": 2
}
