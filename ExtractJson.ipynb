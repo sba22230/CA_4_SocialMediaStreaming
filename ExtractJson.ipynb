{
 "cells": [
  {
   "cell_type": "code",
   "execution_count": 7,
   "metadata": {},
   "outputs": [],
   "source": [
    "# import packages used in this notebook\n",
    "import os # need this to read the list of files in the directory\n",
    "import io # need this to read the data from the zip file\n",
    "from zipfile import ZipFile  # need this to read the data from the zip file\n",
    "import tarfile # need this to read the data from the tar file\n",
    "import json\n",
    "import bz2\n",
    "import gzip\n",
    "import re # this is used for the regular expression to extract the subject from the file "
   ]
  },
  {
   "cell_type": "code",
   "execution_count": 8,
   "metadata": {},
   "outputs": [],
   "source": [
    "#!hadoop fs -mkdir /ca4\n"
   ]
  },
  {
   "cell_type": "code",
   "execution_count": 9,
   "metadata": {},
   "outputs": [],
   "source": [
    "def loadtoMongo(contents, subject):\n",
    "    import pymongo\n",
    "    client = pymongo.MongoClient(\"localhost\", 27017)\n",
    "    db = client.twitter\n",
    "    db.tweets\n",
    "    for line in contents:\n",
    "        try:\n",
    "            \n",
    "            # filter the data for my subject\n",
    "            fltrData = re.search(r'\\b{}\\b'.format(subject), line.lower())\n",
    "\n",
    "            if fltrData:\n",
    "                try:\n",
    "                    data = json.loads(line)\n",
    "                    #data.show()\n",
    "                    #if the subject is found we write into hadoop\n",
    "                    db.tweets.insert_one(data)\n",
    "                except KeyError as e:\n",
    "                    #print(\"KeyError encountered\", {e}) # error is encountered mainly due to deleted tweets \n",
    "                    #print(line)\n",
    "                    continue\n",
    "        except json.decoder.JSONDecodeError as e:\n",
    "            print(\"Error encountered at line: \", {e})\n",
    "            continue\n",
    "    \n",
    "   "
   ]
  },
  {
   "cell_type": "code",
   "execution_count": 19,
   "metadata": {},
   "outputs": [],
   "source": [
    "tweetDrv = \"/home/sba22230/shared-drives/E:/TwitterStream/\"\n",
    "import fnmatch\n",
    "#tweetDrv = \"./SampleTweets/\"\n",
    "tweetWrappers = fnmatch.filter(os.listdir(tweetDrv), 'twitter-stream-202*') # doing this to speed things up otherwise it won't be done in time\n",
    "\n",
    "#display(tweetWrappers)\n"
   ]
  },
  {
   "cell_type": "code",
   "execution_count": 20,
   "metadata": {},
   "outputs": [
    {
     "name": "stdout",
     "output_type": "stream",
     "text": [
      "Zip file found twitter-stream-2021-07-21.zip\n",
      "Zip file found twitter-stream-2021-07-22.zip\n",
      "Zip file found twitter-stream-2021-07-24.zip\n",
      "Zip file found twitter-stream-2021-07-25.zip\n",
      "Zip file found twitter-stream-2021-07-26.zip\n",
      "Zip file found twitter-stream-2021-07-27.zip\n",
      "Zip file found twitter-stream-2021-07-28.zip\n",
      "Zip file found twitter-stream-2021-07-29.zip\n",
      "Zip file found twitter-stream-2021-07-30.zip\n",
      "Zip file found twitter-stream-2021-07-31.zip\n"
     ]
    }
   ],
   "source": [
    "def bz2_func(data):\n",
    "    data = bz2.decompress(data)\n",
    "    data = io.StringIO(data.decode('utf-8'))\n",
    "    contents = data.readlines()\n",
    "    return contents\n",
    "\n",
    "def gz_func(data):\n",
    "    \n",
    "    data = gzip.decompress(data)\n",
    "    data = io.StringIO(data.decode('utf-8'))\n",
    "    contents = data.readlines()\n",
    "    return contents\n",
    "\n",
    "for wrap in tweetWrappers:\n",
    "    file = tweetDrv + wrap\n",
    "    if file.endswith('.zip'):\n",
    "        print(\"Zip file found \" + wrap) # need to a count of the files in the zip file format\n",
    "        #display(file)\n",
    "        try:\n",
    "            with ZipFile(file, 'r') as zip:\n",
    "                zipLn = len(zip.namelist())\n",
    "                for i in range(zipLn):\n",
    "                    #print(i, zip.namelist()[i])\n",
    "                    files = zip.namelist()[i]\n",
    "                    if files.endswith('bz2'):\n",
    "                        data = zip.read(files)\n",
    "                        contents = bz2_func(data) # now that we have the contents, we can push the tweets into mongoDB    \n",
    "                        loadtoMongo(contents, 'rugby')\n",
    "                    elif files.endswith('gz'):\n",
    "                        data = zip.read(files)\n",
    "                        contents = gz_func(data)\n",
    "                        loadtoMongo(contents, 'rugby')\n",
    "        except: \n",
    "            continue\n",
    "    elif file.endswith('.tar'):\n",
    "        print(\"Tar file found \" + wrap) # need to a count of the files in the tar file format\n",
    "        try:\n",
    "            with tarfile.open(file, 'r') as tar:\n",
    "                tarLn = len(tar.getnames())\n",
    "                for i in range(tarLn):\n",
    "                    #print(i, tar.getnames()[i])\n",
    "                    files = tar.getnames()[i]\n",
    "                    if files.endswith('bz2'):\n",
    "                        data = tar.extractfile(files)\n",
    "                        contents = bz2_func(data.read()) # tar behaves differently to zip it doesn't return a bytes object    \n",
    "                        loadtoMongo(contents, 'rugby')\n",
    "                    elif files.endswith('gz'):\n",
    "                        data = tar.extractfile(files)\n",
    "                        contents = gz_func(data.read())\n",
    "                        loadtoMongo(contents, 'rugby')\n",
    "        except: # some tar files did not download correctly \n",
    "            continue \n",
    "        \n",
    "    else:\n",
    "        #print(\"unknown file\" + os.path.splitext(file)[-1])\n",
    "        continue\n",
    "    os.replace(file, tweetDrv + \"processed/\" + wrap) # move the file to the processed folder\n"
   ]
  },
  {
   "cell_type": "code",
   "execution_count": null,
   "metadata": {},
   "outputs": [],
   "source": []
  }
 ],
 "metadata": {
  "kernelspec": {
   "display_name": "Python 3 (ipykernel)",
   "language": "python",
   "name": "python3"
  },
  "language_info": {
   "codemirror_mode": {
    "name": "ipython",
    "version": 3
   },
   "file_extension": ".py",
   "mimetype": "text/x-python",
   "name": "python",
   "nbconvert_exporter": "python",
   "pygments_lexer": "ipython3",
   "version": "3.9.9"
  }
 },
 "nbformat": 4,
 "nbformat_minor": 2
}
