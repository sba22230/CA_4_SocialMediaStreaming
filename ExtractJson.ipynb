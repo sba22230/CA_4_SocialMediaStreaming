{
 "cells": [
  {
   "cell_type": "code",
   "execution_count": 48,
   "metadata": {},
   "outputs": [],
   "source": [
    "# import packages used in this notebook\n",
    "import os # need this to read the list of files in the directory\n",
    "import io # need this to read the data from the zip file\n",
    "from zipfile import ZipFile  # need this to read the data from the zip file\n",
    "import tarfile # need this to read the data from the tar file\n",
    "import json\n",
    "import bz2\n",
    "import gzip\n",
    "import re # this is used for the regular expression to extract the subject from the file "
   ]
  },
  {
   "cell_type": "code",
   "execution_count": 56,
   "metadata": {},
   "outputs": [],
   "source": [
    "def loadtoMongo(contents, subject):\n",
    "    from pymongo import MongoClient\n",
    "    client = MongoClient('localhost', 27017)\n",
    "    db = client['twitter']\n",
    "    collection = db['tweets']\n",
    "    subj = subject.lower()\n",
    "    for line in contents:\n",
    "        try:\n",
    "            data = json.loads(line)\n",
    "            # filter the data for my subject\n",
    "            fltrData = re.search(r'\\b{}\\b'.format(subj), line.lower())\n",
    "\n",
    "            if fltrData:\n",
    "                try:\n",
    "                    # if the subject is in the text, then load the entire line into mongo\n",
    "                    content_dict = json.loads(line)\n",
    "                    collection.insert_one(content_dict)\n",
    "                except KeyError as e:\n",
    "                    #print(\"KeyError encountered\", {e}) # error is encountered mainly due to deleted tweets \n",
    "                    #print(line)\n",
    "                    continue\n",
    "        except json.decoder.JSONDecodeError as e:\n",
    "            print(\"Error encountered at line: \", {e})\n",
    "            continue\n",
    "    \n",
    "   "
   ]
  },
  {
   "cell_type": "code",
   "execution_count": 53,
   "metadata": {},
   "outputs": [
    {
     "data": {
      "text/plain": [
       "['2021',\n",
       " '20221101000000.json',\n",
       " '20221101235900.json',\n",
       " '29.json',\n",
       " 'archive',\n",
       " 'onetweet.txt',\n",
       " 'SampleTweets.zip']"
      ]
     },
     "metadata": {},
     "output_type": "display_data"
    }
   ],
   "source": [
    "# tweetDrv = \"/home/sba22230/shared-drives/E:/TwitterStream\"\n",
    "tweetDrv = \"./SampleTweets/\"\n",
    "tweetWrappers = os.listdir(tweetDrv)\n",
    "#display(tweetWrappers)\n"
   ]
  },
  {
   "cell_type": "code",
   "execution_count": 57,
   "metadata": {},
   "outputs": [
    {
     "name": "stdout",
     "output_type": "stream",
     "text": [
      "unknown file\n",
      "unknown file.json\n",
      "unknown file.json\n",
      "unknown file.json\n",
      "unknown file\n",
      "unknown file.txt\n",
      "Zip file found\n",
      "0 SampleTweets/2021/\n",
      "unknown file\n",
      "1 SampleTweets/2021/01/\n",
      "unknown file\n",
      "2 SampleTweets/2021/01/01/\n",
      "unknown file\n",
      "3 SampleTweets/2021/01/01/00/\n",
      "unknown file\n",
      "4 SampleTweets/2021/01/01/00/29.json.bz2\n",
      "5 SampleTweets/20221101000000.json\n",
      "unknown file.json\n",
      "6 SampleTweets/20221101235900.json\n",
      "unknown file.json\n",
      "7 SampleTweets/29.json\n",
      "unknown file.json\n",
      "8 SampleTweets/archive/\n",
      "unknown file\n",
      "9 SampleTweets/archive/20221101000000.json.gz\n",
      "10 SampleTweets/onetweet.txt\n",
      "unknown file.txt\n"
     ]
    }
   ],
   "source": [
    "def bz2_func(data):\n",
    "    data = bz2.decompress(data)\n",
    "    data = io.StringIO(data.decode('utf-8'))\n",
    "    contents = data.readlines()\n",
    "    return contents\n",
    "\n",
    "def gz_func(data):\n",
    "    \n",
    "    data = gzip.decompress(data)\n",
    "    data = io.StringIO(data.decode('utf-8'))\n",
    "    contents = data.readlines()\n",
    "    return contents\n",
    "\n",
    "for wrap in tweetWrappers:\n",
    "    file = tweetDrv + wrap\n",
    "    if file.endswith('.zip'):\n",
    "        print(\"Zip file found\") # need to a count of the files in the zip file format\n",
    "        #display(file)\n",
    "        with ZipFile(file, 'r') as zip:\n",
    "            zipLn = len(zip.namelist())\n",
    "            for i in range(zipLn):\n",
    "                print(i, zip.namelist()[i])\n",
    "                files = zip.namelist()[i]\n",
    "                if files.endswith('bz2'):\n",
    "                    data = zip.read(files)\n",
    "                    contents = bz2_func(data) # now that we have the contents, we can push the tweets into mongoDB    \n",
    "                    loadtoMongo(contents, 'euro')\n",
    "                elif files.endswith('gz'):\n",
    "                    data = zip.read(files)\n",
    "                    contents = gz_func(data)\n",
    "                    loadtoMongo(contents, 'euro')\n",
    "                else:\n",
    "                    print(\"unknown file\" + os.path.splitext(files)[-1])\n",
    "    elif file.endswith('.tar'):\n",
    "        print(\"Tar file found\") # need to a count of the files in the tar file format\n",
    "        with tarfile.open(file, 'r') as tar:\n",
    "            tarLn = len(tar.getnames())\n",
    "            for i in range(tarLn):\n",
    "                print(i, tar.getnames()[i])\n",
    "                files = tar.getnames()[i]\n",
    "                if files.endswith('bz2'):\n",
    "                    data = tar.extractfile(files)\n",
    "                    contents = bz2_func(data) # now that we have the contents, we can push the tweets into mongoDB    \n",
    "                    loadtoMongo(contents, 'euro')\n",
    "                elif files.endswith('gz'):\n",
    "                    data = tar.extractfile(files)\n",
    "                    contents = gz_func(data)\n",
    "                    loadtoMongo(contents, 'euro')\n",
    "    else:\n",
    "        print(\"unknown file\" + os.path.splitext(file)[-1])\n"
   ]
  },
  {
   "cell_type": "code",
   "execution_count": null,
   "metadata": {},
   "outputs": [],
   "source": []
  }
 ],
 "metadata": {
  "kernelspec": {
   "display_name": "Python 3 (ipykernel)",
   "language": "python",
   "name": "python3"
  },
  "language_info": {
   "codemirror_mode": {
    "name": "ipython",
    "version": 3
   },
   "file_extension": ".py",
   "mimetype": "text/x-python",
   "name": "python",
   "nbconvert_exporter": "python",
   "pygments_lexer": "ipython3",
   "version": "3.9.9"
  }
 },
 "nbformat": 4,
 "nbformat_minor": 2
}
