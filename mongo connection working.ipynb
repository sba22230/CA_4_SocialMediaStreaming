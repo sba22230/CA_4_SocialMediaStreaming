{
 "cells": [
  {
   "attachments": {},
   "cell_type": "markdown",
   "id": "1cef3a63",
   "metadata": {},
   "source": [
    "# Twitter Sentiment Analysis for the word Euro\n",
    "\n",
    "Connect Spark to Mongo DB"
   ]
  },
  {
   "cell_type": "code",
   "execution_count": 151,
   "id": "1df04beb",
   "metadata": {
    "vscode": {
     "languageId": "python"
    }
   },
   "outputs": [],
   "source": [
    "import os\n",
    "os.environ['PYSPARK_SUBMIT_ARGS'] = '--jars \"/usr/local/spark/jars/mongo-spark-connector_2.12-3.0.2.jar,/usr/local/spark/jars/mongo-java-driver-3.12.9.jar\" pyspark-shell'"
   ]
  },
  {
   "attachments": {},
   "cell_type": "markdown",
   "id": "c12edd37",
   "metadata": {},
   "source": [
    "Note the inferschema is set to false, this makes spark read the entire database and not infer the values of fields from the first set of fields"
   ]
  },
  {
   "cell_type": "code",
   "execution_count": 152,
   "id": "84472e36",
   "metadata": {
    "vscode": {
     "languageId": "python"
    }
   },
   "outputs": [],
   "source": [
    "from pyspark.sql import SparkSession\n",
    "# fix read bug, basically turn off sampling\n",
    "spark = SparkSession.builder.appName(\"TwitterMongo\") \\\n",
    ".config(\"spark.mongodb.input.database\", \"mongodb://localhost:27017/twitter\") \\\n",
    ".config(\"spark.mongodb.input.uri\", \"mongodb://localhost:27017/twitter.tweets\") \\\n",
    ".config(\"spark.mongodb.read.sql.inferSchema.mapTypes.enabled\", \"FALSE\") \\\n",
    ".config(\"spark.mongodb.output.uri\",\"mongodb://localhost:27017/twitter.tweets\").getOrCreate()"
   ]
  },
  {
   "attachments": {},
   "cell_type": "markdown",
   "id": "4badca7e",
   "metadata": {},
   "source": [
    "### Create the Session\n",
    "\n",
    "And load all of the Twitter data in MongoDB\n",
    "\n",
    "Print out the twitter tweet schema"
   ]
  },
  {
   "cell_type": "code",
   "execution_count": 153,
   "id": "c59e3c9a",
   "metadata": {
    "vscode": {
     "languageId": "python"
    }
   },
   "outputs": [
    {
     "name": "stdout",
     "output_type": "stream",
     "text": [
      "root\n",
      " |-- _id: struct (nullable = true)\n",
      " |    |-- oid: string (nullable = true)\n",
      " |-- contributors: void (nullable = true)\n",
      " |-- coordinates: void (nullable = true)\n",
      " |-- created_at: string (nullable = true)\n",
      " |-- display_text_range: array (nullable = true)\n",
      " |    |-- element: integer (containsNull = true)\n",
      " |-- entities: struct (nullable = true)\n",
      " |    |-- hashtags: array (nullable = true)\n",
      " |    |    |-- element: struct (containsNull = true)\n",
      " |    |    |    |-- text: string (nullable = true)\n",
      " |    |    |    |-- indices: array (nullable = true)\n",
      " |    |    |    |    |-- element: integer (containsNull = true)\n",
      " |    |-- media: array (nullable = true)\n",
      " |    |    |-- element: struct (containsNull = true)\n",
      " |    |    |    |-- additional_media_info: struct (nullable = true)\n",
      " |    |    |    |    |-- description: string (nullable = true)\n",
      " |    |    |    |    |-- embeddable: boolean (nullable = true)\n",
      " |    |    |    |    |-- monetizable: boolean (nullable = true)\n",
      " |    |    |    |    |-- title: string (nullable = true)\n",
      " |    |    |    |-- description: string (nullable = true)\n",
      " |    |    |    |-- display_url: string (nullable = true)\n",
      " |    |    |    |-- expanded_url: string (nullable = true)\n",
      " |    |    |    |-- id: long (nullable = true)\n",
      " |    |    |    |-- id_str: string (nullable = true)\n",
      " |    |    |    |-- indices: array (nullable = true)\n",
      " |    |    |    |    |-- element: integer (containsNull = true)\n",
      " |    |    |    |-- media_url: string (nullable = true)\n",
      " |    |    |    |-- media_url_https: string (nullable = true)\n",
      " |    |    |    |-- sizes: struct (nullable = true)\n",
      " |    |    |    |    |-- large: struct (nullable = true)\n",
      " |    |    |    |    |    |-- w: integer (nullable = true)\n",
      " |    |    |    |    |    |-- h: integer (nullable = true)\n",
      " |    |    |    |    |    |-- resize: string (nullable = true)\n",
      " |    |    |    |    |-- medium: struct (nullable = true)\n",
      " |    |    |    |    |    |-- w: integer (nullable = true)\n",
      " |    |    |    |    |    |-- h: integer (nullable = true)\n",
      " |    |    |    |    |    |-- resize: string (nullable = true)\n",
      " |    |    |    |    |-- small: struct (nullable = true)\n",
      " |    |    |    |    |    |-- w: integer (nullable = true)\n",
      " |    |    |    |    |    |-- h: integer (nullable = true)\n",
      " |    |    |    |    |    |-- resize: string (nullable = true)\n",
      " |    |    |    |    |-- thumb: struct (nullable = true)\n",
      " |    |    |    |    |    |-- w: integer (nullable = true)\n",
      " |    |    |    |    |    |-- h: integer (nullable = true)\n",
      " |    |    |    |    |    |-- resize: string (nullable = true)\n",
      " |    |    |    |-- source_status_id: long (nullable = true)\n",
      " |    |    |    |-- source_status_id_str: string (nullable = true)\n",
      " |    |    |    |-- source_user_id: long (nullable = true)\n",
      " |    |    |    |-- source_user_id_str: string (nullable = true)\n",
      " |    |    |    |-- type: string (nullable = true)\n",
      " |    |    |    |-- url: string (nullable = true)\n",
      " |    |-- symbols: array (nullable = true)\n",
      " |    |    |-- element: struct (containsNull = true)\n",
      " |    |    |    |-- text: string (nullable = true)\n",
      " |    |    |    |-- indices: array (nullable = true)\n",
      " |    |    |    |    |-- element: integer (containsNull = true)\n",
      " |    |-- urls: array (nullable = true)\n",
      " |    |    |-- element: struct (containsNull = true)\n",
      " |    |    |    |-- url: string (nullable = true)\n",
      " |    |    |    |-- expanded_url: string (nullable = true)\n",
      " |    |    |    |-- display_url: string (nullable = true)\n",
      " |    |    |    |-- indices: array (nullable = true)\n",
      " |    |    |    |    |-- element: integer (containsNull = true)\n",
      " |    |-- user_mentions: array (nullable = true)\n",
      " |    |    |-- element: struct (containsNull = true)\n",
      " |    |    |    |-- screen_name: string (nullable = true)\n",
      " |    |    |    |-- name: string (nullable = true)\n",
      " |    |    |    |-- id: long (nullable = true)\n",
      " |    |    |    |-- id_str: string (nullable = true)\n",
      " |    |    |    |-- indices: array (nullable = true)\n",
      " |    |    |    |    |-- element: integer (containsNull = true)\n",
      " |-- extended_entities: struct (nullable = true)\n",
      " |    |-- media: array (nullable = true)\n",
      " |    |    |-- element: struct (containsNull = true)\n",
      " |    |    |    |-- additional_media_info: struct (nullable = true)\n",
      " |    |    |    |    |-- description: string (nullable = true)\n",
      " |    |    |    |    |-- embeddable: boolean (nullable = true)\n",
      " |    |    |    |    |-- monetizable: boolean (nullable = true)\n",
      " |    |    |    |    |-- title: string (nullable = true)\n",
      " |    |    |    |-- description: string (nullable = true)\n",
      " |    |    |    |-- display_url: string (nullable = true)\n",
      " |    |    |    |-- expanded_url: string (nullable = true)\n",
      " |    |    |    |-- id: long (nullable = true)\n",
      " |    |    |    |-- id_str: string (nullable = true)\n",
      " |    |    |    |-- indices: array (nullable = true)\n",
      " |    |    |    |    |-- element: integer (containsNull = true)\n",
      " |    |    |    |-- media_url: string (nullable = true)\n",
      " |    |    |    |-- media_url_https: string (nullable = true)\n",
      " |    |    |    |-- sizes: struct (nullable = true)\n",
      " |    |    |    |    |-- large: struct (nullable = true)\n",
      " |    |    |    |    |    |-- w: integer (nullable = true)\n",
      " |    |    |    |    |    |-- h: integer (nullable = true)\n",
      " |    |    |    |    |    |-- resize: string (nullable = true)\n",
      " |    |    |    |    |-- medium: struct (nullable = true)\n",
      " |    |    |    |    |    |-- w: integer (nullable = true)\n",
      " |    |    |    |    |    |-- h: integer (nullable = true)\n",
      " |    |    |    |    |    |-- resize: string (nullable = true)\n",
      " |    |    |    |    |-- small: struct (nullable = true)\n",
      " |    |    |    |    |    |-- w: integer (nullable = true)\n",
      " |    |    |    |    |    |-- h: integer (nullable = true)\n",
      " |    |    |    |    |    |-- resize: string (nullable = true)\n",
      " |    |    |    |    |-- thumb: struct (nullable = true)\n",
      " |    |    |    |    |    |-- w: integer (nullable = true)\n",
      " |    |    |    |    |    |-- h: integer (nullable = true)\n",
      " |    |    |    |    |    |-- resize: string (nullable = true)\n",
      " |    |    |    |-- source_status_id: long (nullable = true)\n",
      " |    |    |    |-- source_status_id_str: string (nullable = true)\n",
      " |    |    |    |-- source_user_id: long (nullable = true)\n",
      " |    |    |    |-- source_user_id_str: string (nullable = true)\n",
      " |    |    |    |-- type: string (nullable = true)\n",
      " |    |    |    |-- url: string (nullable = true)\n",
      " |    |    |    |-- video_info: struct (nullable = true)\n",
      " |    |    |    |    |-- aspect_ratio: array (nullable = true)\n",
      " |    |    |    |    |    |-- element: integer (containsNull = true)\n",
      " |    |    |    |    |-- duration_millis: integer (nullable = true)\n",
      " |    |    |    |    |-- variants: array (nullable = true)\n",
      " |    |    |    |    |    |-- element: struct (containsNull = true)\n",
      " |    |    |    |    |    |    |-- bitrate: integer (nullable = true)\n",
      " |    |    |    |    |    |    |-- content_type: string (nullable = true)\n",
      " |    |    |    |    |    |    |-- url: string (nullable = true)\n",
      " |-- extended_tweet: struct (nullable = true)\n",
      " |    |-- display_text_range: array (nullable = true)\n",
      " |    |    |-- element: integer (containsNull = true)\n",
      " |    |-- entities: struct (nullable = true)\n",
      " |    |    |-- hashtags: array (nullable = true)\n",
      " |    |    |    |-- element: struct (containsNull = true)\n",
      " |    |    |    |    |-- text: string (nullable = true)\n",
      " |    |    |    |    |-- indices: array (nullable = true)\n",
      " |    |    |    |    |    |-- element: integer (containsNull = true)\n",
      " |    |    |-- media: array (nullable = true)\n",
      " |    |    |    |-- element: struct (containsNull = true)\n",
      " |    |    |    |    |-- additional_media_info: struct (nullable = true)\n",
      " |    |    |    |    |    |-- description: string (nullable = true)\n",
      " |    |    |    |    |    |-- embeddable: boolean (nullable = true)\n",
      " |    |    |    |    |    |-- monetizable: boolean (nullable = true)\n",
      " |    |    |    |    |    |-- title: string (nullable = true)\n",
      " |    |    |    |    |-- description: string (nullable = true)\n",
      " |    |    |    |    |-- display_url: string (nullable = true)\n",
      " |    |    |    |    |-- expanded_url: string (nullable = true)\n",
      " |    |    |    |    |-- id: long (nullable = true)\n",
      " |    |    |    |    |-- id_str: string (nullable = true)\n",
      " |    |    |    |    |-- indices: array (nullable = true)\n",
      " |    |    |    |    |    |-- element: integer (containsNull = true)\n",
      " |    |    |    |    |-- media_url: string (nullable = true)\n",
      " |    |    |    |    |-- media_url_https: string (nullable = true)\n",
      " |    |    |    |    |-- sizes: struct (nullable = true)\n",
      " |    |    |    |    |    |-- large: struct (nullable = true)\n",
      " |    |    |    |    |    |    |-- w: integer (nullable = true)\n",
      " |    |    |    |    |    |    |-- h: integer (nullable = true)\n",
      " |    |    |    |    |    |    |-- resize: string (nullable = true)\n",
      " |    |    |    |    |    |-- medium: struct (nullable = true)\n",
      " |    |    |    |    |    |    |-- w: integer (nullable = true)\n",
      " |    |    |    |    |    |    |-- h: integer (nullable = true)\n",
      " |    |    |    |    |    |    |-- resize: string (nullable = true)\n",
      " |    |    |    |    |    |-- small: struct (nullable = true)\n",
      " |    |    |    |    |    |    |-- w: integer (nullable = true)\n",
      " |    |    |    |    |    |    |-- h: integer (nullable = true)\n",
      " |    |    |    |    |    |    |-- resize: string (nullable = true)\n",
      " |    |    |    |    |    |-- thumb: struct (nullable = true)\n",
      " |    |    |    |    |    |    |-- w: integer (nullable = true)\n",
      " |    |    |    |    |    |    |-- h: integer (nullable = true)\n",
      " |    |    |    |    |    |    |-- resize: string (nullable = true)\n",
      " |    |    |    |    |-- type: string (nullable = true)\n",
      " |    |    |    |    |-- url: string (nullable = true)\n",
      " |    |    |    |    |-- video_info: struct (nullable = true)\n",
      " |    |    |    |    |    |-- aspect_ratio: array (nullable = true)\n",
      " |    |    |    |    |    |    |-- element: integer (containsNull = true)\n",
      " |    |    |    |    |    |-- duration_millis: integer (nullable = true)\n",
      " |    |    |    |    |    |-- variants: array (nullable = true)\n",
      " |    |    |    |    |    |    |-- element: struct (containsNull = true)\n",
      " |    |    |    |    |    |    |    |-- bitrate: integer (nullable = true)\n",
      " |    |    |    |    |    |    |    |-- content_type: string (nullable = true)\n",
      " |    |    |    |    |    |    |    |-- url: string (nullable = true)\n",
      " |    |    |-- urls: array (nullable = true)\n",
      " |    |    |    |-- element: struct (containsNull = true)\n",
      " |    |    |    |    |-- url: string (nullable = true)\n",
      " |    |    |    |    |-- expanded_url: string (nullable = true)\n",
      " |    |    |    |    |-- display_url: string (nullable = true)\n",
      " |    |    |    |    |-- indices: array (nullable = true)\n",
      " |    |    |    |    |    |-- element: integer (containsNull = true)\n",
      " |    |    |-- user_mentions: array (nullable = true)\n",
      " |    |    |    |-- element: struct (containsNull = true)\n",
      " |    |    |    |    |-- screen_name: string (nullable = true)\n",
      " |    |    |    |    |-- name: string (nullable = true)\n",
      " |    |    |    |    |-- id: long (nullable = true)\n",
      " |    |    |    |    |-- id_str: string (nullable = true)\n",
      " |    |    |    |    |-- indices: array (nullable = true)\n",
      " |    |    |    |    |    |-- element: integer (containsNull = true)\n",
      " |    |-- extended_entities: struct (nullable = true)\n",
      " |    |    |-- media: array (nullable = true)\n",
      " |    |    |    |-- element: struct (containsNull = true)\n",
      " |    |    |    |    |-- additional_media_info: struct (nullable = true)\n",
      " |    |    |    |    |    |-- description: string (nullable = true)\n",
      " |    |    |    |    |    |-- embeddable: boolean (nullable = true)\n",
      " |    |    |    |    |    |-- monetizable: boolean (nullable = true)\n",
      " |    |    |    |    |    |-- title: string (nullable = true)\n",
      " |    |    |    |    |-- description: string (nullable = true)\n",
      " |    |    |    |    |-- display_url: string (nullable = true)\n",
      " |    |    |    |    |-- expanded_url: string (nullable = true)\n",
      " |    |    |    |    |-- id: long (nullable = true)\n",
      " |    |    |    |    |-- id_str: string (nullable = true)\n",
      " |    |    |    |    |-- indices: array (nullable = true)\n",
      " |    |    |    |    |    |-- element: integer (containsNull = true)\n",
      " |    |    |    |    |-- media_url: string (nullable = true)\n",
      " |    |    |    |    |-- media_url_https: string (nullable = true)\n",
      " |    |    |    |    |-- sizes: struct (nullable = true)\n",
      " |    |    |    |    |    |-- large: struct (nullable = true)\n",
      " |    |    |    |    |    |    |-- w: integer (nullable = true)\n",
      " |    |    |    |    |    |    |-- h: integer (nullable = true)\n",
      " |    |    |    |    |    |    |-- resize: string (nullable = true)\n",
      " |    |    |    |    |    |-- medium: struct (nullable = true)\n",
      " |    |    |    |    |    |    |-- w: integer (nullable = true)\n",
      " |    |    |    |    |    |    |-- h: integer (nullable = true)\n",
      " |    |    |    |    |    |    |-- resize: string (nullable = true)\n",
      " |    |    |    |    |    |-- small: struct (nullable = true)\n",
      " |    |    |    |    |    |    |-- w: integer (nullable = true)\n",
      " |    |    |    |    |    |    |-- h: integer (nullable = true)\n",
      " |    |    |    |    |    |    |-- resize: string (nullable = true)\n",
      " |    |    |    |    |    |-- thumb: struct (nullable = true)\n",
      " |    |    |    |    |    |    |-- w: integer (nullable = true)\n",
      " |    |    |    |    |    |    |-- h: integer (nullable = true)\n",
      " |    |    |    |    |    |    |-- resize: string (nullable = true)\n",
      " |    |    |    |    |-- type: string (nullable = true)\n",
      " |    |    |    |    |-- url: string (nullable = true)\n",
      " |    |    |    |    |-- video_info: struct (nullable = true)\n",
      " |    |    |    |    |    |-- aspect_ratio: array (nullable = true)\n",
      " |    |    |    |    |    |    |-- element: integer (containsNull = true)\n",
      " |    |    |    |    |    |-- duration_millis: integer (nullable = true)\n",
      " |    |    |    |    |    |-- variants: array (nullable = true)\n",
      " |    |    |    |    |    |    |-- element: struct (containsNull = true)\n",
      " |    |    |    |    |    |    |    |-- bitrate: integer (nullable = true)\n",
      " |    |    |    |    |    |    |    |-- content_type: string (nullable = true)\n",
      " |    |    |    |    |    |    |    |-- url: string (nullable = true)\n",
      " |    |-- full_text: string (nullable = true)\n",
      " |-- favorite_count: integer (nullable = true)\n",
      " |-- favorited: boolean (nullable = true)\n",
      " |-- filter_level: string (nullable = true)\n",
      " |-- geo: void (nullable = true)\n",
      " |-- id: long (nullable = true)\n",
      " |-- id_str: string (nullable = true)\n",
      " |-- in_reply_to_screen_name: string (nullable = true)\n",
      " |-- in_reply_to_status_id: long (nullable = true)\n",
      " |-- in_reply_to_status_id_str: string (nullable = true)\n",
      " |-- in_reply_to_user_id: long (nullable = true)\n",
      " |-- in_reply_to_user_id_str: string (nullable = true)\n",
      " |-- is_quote_status: boolean (nullable = true)\n",
      " |-- lang: string (nullable = true)\n",
      " |-- place: struct (nullable = true)\n",
      " |    |-- id: string (nullable = true)\n",
      " |    |-- url: string (nullable = true)\n",
      " |    |-- place_type: string (nullable = true)\n",
      " |    |-- name: string (nullable = true)\n",
      " |    |-- full_name: string (nullable = true)\n",
      " |    |-- country_code: string (nullable = true)\n",
      " |    |-- country: string (nullable = true)\n",
      " |    |-- bounding_box: struct (nullable = true)\n",
      " |    |    |-- type: string (nullable = true)\n",
      " |    |    |-- coordinates: array (nullable = true)\n",
      " |    |    |    |-- element: array (containsNull = true)\n",
      " |    |    |    |    |-- element: array (containsNull = true)\n",
      " |    |    |    |    |    |-- element: double (containsNull = true)\n",
      " |-- possibly_sensitive: boolean (nullable = true)\n",
      " |-- quote_count: integer (nullable = true)\n",
      " |-- quoted_status: struct (nullable = true)\n",
      " |    |-- contributors: void (nullable = true)\n",
      " |    |-- coordinates: void (nullable = true)\n",
      " |    |-- created_at: string (nullable = true)\n",
      " |    |-- display_text_range: array (nullable = true)\n",
      " |    |    |-- element: integer (containsNull = true)\n",
      " |    |-- entities: struct (nullable = true)\n",
      " |    |    |-- hashtags: array (nullable = true)\n",
      " |    |    |    |-- element: struct (containsNull = true)\n",
      " |    |    |    |    |-- text: string (nullable = true)\n",
      " |    |    |    |    |-- indices: array (nullable = true)\n",
      " |    |    |    |    |    |-- element: integer (containsNull = true)\n",
      " |    |    |-- media: array (nullable = true)\n",
      " |    |    |    |-- element: struct (containsNull = true)\n",
      " |    |    |    |    |-- additional_media_info: struct (nullable = true)\n",
      " |    |    |    |    |    |-- description: string (nullable = true)\n",
      " |    |    |    |    |    |-- embeddable: boolean (nullable = true)\n",
      " |    |    |    |    |    |-- monetizable: boolean (nullable = true)\n",
      " |    |    |    |    |    |-- title: string (nullable = true)\n",
      " |    |    |    |    |-- description: string (nullable = true)\n",
      " |    |    |    |    |-- display_url: string (nullable = true)\n",
      " |    |    |    |    |-- expanded_url: string (nullable = true)\n",
      " |    |    |    |    |-- id: long (nullable = true)\n",
      " |    |    |    |    |-- id_str: string (nullable = true)\n",
      " |    |    |    |    |-- indices: array (nullable = true)\n",
      " |    |    |    |    |    |-- element: integer (containsNull = true)\n",
      " |    |    |    |    |-- media_url: string (nullable = true)\n",
      " |    |    |    |    |-- media_url_https: string (nullable = true)\n",
      " |    |    |    |    |-- sizes: struct (nullable = true)\n",
      " |    |    |    |    |    |-- large: struct (nullable = true)\n",
      " |    |    |    |    |    |    |-- w: integer (nullable = true)\n",
      " |    |    |    |    |    |    |-- h: integer (nullable = true)\n",
      " |    |    |    |    |    |    |-- resize: string (nullable = true)\n",
      " |    |    |    |    |    |-- medium: struct (nullable = true)\n",
      " |    |    |    |    |    |    |-- w: integer (nullable = true)\n",
      " |    |    |    |    |    |    |-- h: integer (nullable = true)\n",
      " |    |    |    |    |    |    |-- resize: string (nullable = true)\n",
      " |    |    |    |    |    |-- small: struct (nullable = true)\n",
      " |    |    |    |    |    |    |-- w: integer (nullable = true)\n",
      " |    |    |    |    |    |    |-- h: integer (nullable = true)\n",
      " |    |    |    |    |    |    |-- resize: string (nullable = true)\n",
      " |    |    |    |    |    |-- thumb: struct (nullable = true)\n",
      " |    |    |    |    |    |    |-- w: integer (nullable = true)\n",
      " |    |    |    |    |    |    |-- h: integer (nullable = true)\n",
      " |    |    |    |    |    |    |-- resize: string (nullable = true)\n",
      " |    |    |    |    |-- source_status_id: long (nullable = true)\n",
      " |    |    |    |    |-- source_status_id_str: string (nullable = true)\n",
      " |    |    |    |    |-- source_user_id: long (nullable = true)\n",
      " |    |    |    |    |-- source_user_id_str: string (nullable = true)\n",
      " |    |    |    |    |-- type: string (nullable = true)\n",
      " |    |    |    |    |-- url: string (nullable = true)\n",
      " |    |    |-- symbols: array (nullable = true)\n",
      " |    |    |    |-- element: struct (containsNull = true)\n",
      " |    |    |    |    |-- text: string (nullable = true)\n",
      " |    |    |    |    |-- indices: array (nullable = true)\n",
      " |    |    |    |    |    |-- element: integer (containsNull = true)\n",
      " |    |    |-- urls: array (nullable = true)\n",
      " |    |    |    |-- element: struct (containsNull = true)\n",
      " |    |    |    |    |-- url: string (nullable = true)\n",
      " |    |    |    |    |-- expanded_url: string (nullable = true)\n",
      " |    |    |    |    |-- display_url: string (nullable = true)\n",
      " |    |    |    |    |-- indices: array (nullable = true)\n",
      " |    |    |    |    |    |-- element: integer (containsNull = true)\n",
      " |    |    |-- user_mentions: array (nullable = true)\n",
      " |    |    |    |-- element: struct (containsNull = true)\n",
      " |    |    |    |    |-- screen_name: string (nullable = true)\n",
      " |    |    |    |    |-- name: string (nullable = true)\n",
      " |    |    |    |    |-- id: long (nullable = true)\n",
      " |    |    |    |    |-- id_str: string (nullable = true)\n",
      " |    |    |    |    |-- indices: array (nullable = true)\n",
      " |    |    |    |    |    |-- element: integer (containsNull = true)\n",
      " |    |-- extended_entities: struct (nullable = true)\n",
      " |    |    |-- media: array (nullable = true)\n",
      " |    |    |    |-- element: struct (containsNull = true)\n",
      " |    |    |    |    |-- additional_media_info: struct (nullable = true)\n",
      " |    |    |    |    |    |-- description: string (nullable = true)\n",
      " |    |    |    |    |    |-- embeddable: boolean (nullable = true)\n",
      " |    |    |    |    |    |-- monetizable: boolean (nullable = true)\n",
      " |    |    |    |    |    |-- title: string (nullable = true)\n",
      " |    |    |    |    |-- description: string (nullable = true)\n",
      " |    |    |    |    |-- display_url: string (nullable = true)\n",
      " |    |    |    |    |-- expanded_url: string (nullable = true)\n",
      " |    |    |    |    |-- id: long (nullable = true)\n",
      " |    |    |    |    |-- id_str: string (nullable = true)\n",
      " |    |    |    |    |-- indices: array (nullable = true)\n",
      " |    |    |    |    |    |-- element: integer (containsNull = true)\n",
      " |    |    |    |    |-- media_url: string (nullable = true)\n",
      " |    |    |    |    |-- media_url_https: string (nullable = true)\n",
      " |    |    |    |    |-- sizes: struct (nullable = true)\n",
      " |    |    |    |    |    |-- large: struct (nullable = true)\n",
      " |    |    |    |    |    |    |-- w: integer (nullable = true)\n",
      " |    |    |    |    |    |    |-- h: integer (nullable = true)\n",
      " |    |    |    |    |    |    |-- resize: string (nullable = true)\n",
      " |    |    |    |    |    |-- medium: struct (nullable = true)\n",
      " |    |    |    |    |    |    |-- w: integer (nullable = true)\n",
      " |    |    |    |    |    |    |-- h: integer (nullable = true)\n",
      " |    |    |    |    |    |    |-- resize: string (nullable = true)\n",
      " |    |    |    |    |    |-- small: struct (nullable = true)\n",
      " |    |    |    |    |    |    |-- w: integer (nullable = true)\n",
      " |    |    |    |    |    |    |-- h: integer (nullable = true)\n",
      " |    |    |    |    |    |    |-- resize: string (nullable = true)\n",
      " |    |    |    |    |    |-- thumb: struct (nullable = true)\n",
      " |    |    |    |    |    |    |-- w: integer (nullable = true)\n",
      " |    |    |    |    |    |    |-- h: integer (nullable = true)\n",
      " |    |    |    |    |    |    |-- resize: string (nullable = true)\n",
      " |    |    |    |    |-- source_status_id: long (nullable = true)\n",
      " |    |    |    |    |-- source_status_id_str: string (nullable = true)\n",
      " |    |    |    |    |-- source_user_id: long (nullable = true)\n",
      " |    |    |    |    |-- source_user_id_str: string (nullable = true)\n",
      " |    |    |    |    |-- type: string (nullable = true)\n",
      " |    |    |    |    |-- url: string (nullable = true)\n",
      " |    |    |    |    |-- video_info: struct (nullable = true)\n",
      " |    |    |    |    |    |-- aspect_ratio: array (nullable = true)\n",
      " |    |    |    |    |    |    |-- element: integer (containsNull = true)\n",
      " |    |    |    |    |    |-- duration_millis: integer (nullable = true)\n",
      " |    |    |    |    |    |-- variants: array (nullable = true)\n",
      " |    |    |    |    |    |    |-- element: struct (containsNull = true)\n",
      " |    |    |    |    |    |    |    |-- bitrate: integer (nullable = true)\n",
      " |    |    |    |    |    |    |    |-- content_type: string (nullable = true)\n",
      " |    |    |    |    |    |    |    |-- url: string (nullable = true)\n",
      " |    |-- extended_tweet: struct (nullable = true)\n",
      " |    |    |-- display_text_range: array (nullable = true)\n",
      " |    |    |    |-- element: integer (containsNull = true)\n",
      " |    |    |-- entities: struct (nullable = true)\n",
      " |    |    |    |-- hashtags: array (nullable = true)\n",
      " |    |    |    |    |-- element: struct (containsNull = true)\n",
      " |    |    |    |    |    |-- text: string (nullable = true)\n",
      " |    |    |    |    |    |-- indices: array (nullable = true)\n",
      " |    |    |    |    |    |    |-- element: integer (containsNull = true)\n",
      " |    |    |    |-- media: array (nullable = true)\n",
      " |    |    |    |    |-- element: struct (containsNull = true)\n",
      " |    |    |    |    |    |-- additional_media_info: struct (nullable = true)\n",
      " |    |    |    |    |    |    |-- description: string (nullable = true)\n",
      " |    |    |    |    |    |    |-- embeddable: boolean (nullable = true)\n",
      " |    |    |    |    |    |    |-- monetizable: boolean (nullable = true)\n",
      " |    |    |    |    |    |    |-- title: string (nullable = true)\n",
      " |    |    |    |    |    |-- display_url: string (nullable = true)\n",
      " |    |    |    |    |    |-- expanded_url: string (nullable = true)\n",
      " |    |    |    |    |    |-- id: long (nullable = true)\n",
      " |    |    |    |    |    |-- id_str: string (nullable = true)\n",
      " |    |    |    |    |    |-- indices: array (nullable = true)\n",
      " |    |    |    |    |    |    |-- element: integer (containsNull = true)\n",
      " |    |    |    |    |    |-- media_url: string (nullable = true)\n",
      " |    |    |    |    |    |-- media_url_https: string (nullable = true)\n",
      " |    |    |    |    |    |-- sizes: struct (nullable = true)\n",
      " |    |    |    |    |    |    |-- large: struct (nullable = true)\n",
      " |    |    |    |    |    |    |    |-- w: integer (nullable = true)\n",
      " |    |    |    |    |    |    |    |-- h: integer (nullable = true)\n",
      " |    |    |    |    |    |    |    |-- resize: string (nullable = true)\n",
      " |    |    |    |    |    |    |-- medium: struct (nullable = true)\n",
      " |    |    |    |    |    |    |    |-- w: integer (nullable = true)\n",
      " |    |    |    |    |    |    |    |-- h: integer (nullable = true)\n",
      " |    |    |    |    |    |    |    |-- resize: string (nullable = true)\n",
      " |    |    |    |    |    |    |-- small: struct (nullable = true)\n",
      " |    |    |    |    |    |    |    |-- w: integer (nullable = true)\n",
      " |    |    |    |    |    |    |    |-- h: integer (nullable = true)\n",
      " |    |    |    |    |    |    |    |-- resize: string (nullable = true)\n",
      " |    |    |    |    |    |    |-- thumb: struct (nullable = true)\n",
      " |    |    |    |    |    |    |    |-- w: integer (nullable = true)\n",
      " |    |    |    |    |    |    |    |-- h: integer (nullable = true)\n",
      " |    |    |    |    |    |    |    |-- resize: string (nullable = true)\n",
      " |    |    |    |    |    |-- source_status_id: long (nullable = true)\n",
      " |    |    |    |    |    |-- source_status_id_str: string (nullable = true)\n",
      " |    |    |    |    |    |-- source_user_id: long (nullable = true)\n",
      " |    |    |    |    |    |-- source_user_id_str: string (nullable = true)\n",
      " |    |    |    |    |    |-- type: string (nullable = true)\n",
      " |    |    |    |    |    |-- url: string (nullable = true)\n",
      " |    |    |    |    |    |-- video_info: struct (nullable = true)\n",
      " |    |    |    |    |    |    |-- aspect_ratio: array (nullable = true)\n",
      " |    |    |    |    |    |    |    |-- element: integer (containsNull = true)\n",
      " |    |    |    |    |    |    |-- duration_millis: integer (nullable = true)\n",
      " |    |    |    |    |    |    |-- variants: array (nullable = true)\n",
      " |    |    |    |    |    |    |    |-- element: struct (containsNull = true)\n",
      " |    |    |    |    |    |    |    |    |-- bitrate: integer (nullable = true)\n",
      " |    |    |    |    |    |    |    |    |-- content_type: string (nullable = true)\n",
      " |    |    |    |    |    |    |    |    |-- url: string (nullable = true)\n",
      " |    |    |    |-- symbols: array (nullable = true)\n",
      " |    |    |    |    |-- element: struct (containsNull = true)\n",
      " |    |    |    |    |    |-- text: string (nullable = true)\n",
      " |    |    |    |    |    |-- indices: array (nullable = true)\n",
      " |    |    |    |    |    |    |-- element: integer (containsNull = true)\n",
      " |    |    |    |-- urls: array (nullable = true)\n",
      " |    |    |    |    |-- element: struct (containsNull = true)\n",
      " |    |    |    |    |    |-- url: string (nullable = true)\n",
      " |    |    |    |    |    |-- expanded_url: string (nullable = true)\n",
      " |    |    |    |    |    |-- display_url: string (nullable = true)\n",
      " |    |    |    |    |    |-- indices: array (nullable = true)\n",
      " |    |    |    |    |    |    |-- element: integer (containsNull = true)\n",
      " |    |    |    |-- user_mentions: array (nullable = true)\n",
      " |    |    |    |    |-- element: struct (containsNull = true)\n",
      " |    |    |    |    |    |-- screen_name: string (nullable = true)\n",
      " |    |    |    |    |    |-- name: string (nullable = true)\n",
      " |    |    |    |    |    |-- id: long (nullable = true)\n",
      " |    |    |    |    |    |-- id_str: string (nullable = true)\n",
      " |    |    |    |    |    |-- indices: array (nullable = true)\n",
      " |    |    |    |    |    |    |-- element: integer (containsNull = true)\n",
      " |    |    |-- extended_entities: struct (nullable = true)\n",
      " |    |    |    |-- media: array (nullable = true)\n",
      " |    |    |    |    |-- element: struct (containsNull = true)\n",
      " |    |    |    |    |    |-- additional_media_info: struct (nullable = true)\n",
      " |    |    |    |    |    |    |-- description: string (nullable = true)\n",
      " |    |    |    |    |    |    |-- embeddable: boolean (nullable = true)\n",
      " |    |    |    |    |    |    |-- monetizable: boolean (nullable = true)\n",
      " |    |    |    |    |    |    |-- title: string (nullable = true)\n",
      " |    |    |    |    |    |-- display_url: string (nullable = true)\n",
      " |    |    |    |    |    |-- expanded_url: string (nullable = true)\n",
      " |    |    |    |    |    |-- id: long (nullable = true)\n",
      " |    |    |    |    |    |-- id_str: string (nullable = true)\n",
      " |    |    |    |    |    |-- indices: array (nullable = true)\n",
      " |    |    |    |    |    |    |-- element: integer (containsNull = true)\n",
      " |    |    |    |    |    |-- media_url: string (nullable = true)\n",
      " |    |    |    |    |    |-- media_url_https: string (nullable = true)\n",
      " |    |    |    |    |    |-- sizes: struct (nullable = true)\n",
      " |    |    |    |    |    |    |-- large: struct (nullable = true)\n",
      " |    |    |    |    |    |    |    |-- w: integer (nullable = true)\n",
      " |    |    |    |    |    |    |    |-- h: integer (nullable = true)\n",
      " |    |    |    |    |    |    |    |-- resize: string (nullable = true)\n",
      " |    |    |    |    |    |    |-- medium: struct (nullable = true)\n",
      " |    |    |    |    |    |    |    |-- w: integer (nullable = true)\n",
      " |    |    |    |    |    |    |    |-- h: integer (nullable = true)\n",
      " |    |    |    |    |    |    |    |-- resize: string (nullable = true)\n",
      " |    |    |    |    |    |    |-- small: struct (nullable = true)\n",
      " |    |    |    |    |    |    |    |-- w: integer (nullable = true)\n",
      " |    |    |    |    |    |    |    |-- h: integer (nullable = true)\n",
      " |    |    |    |    |    |    |    |-- resize: string (nullable = true)\n",
      " |    |    |    |    |    |    |-- thumb: struct (nullable = true)\n",
      " |    |    |    |    |    |    |    |-- w: integer (nullable = true)\n",
      " |    |    |    |    |    |    |    |-- h: integer (nullable = true)\n",
      " |    |    |    |    |    |    |    |-- resize: string (nullable = true)\n",
      " |    |    |    |    |    |-- source_status_id: long (nullable = true)\n",
      " |    |    |    |    |    |-- source_status_id_str: string (nullable = true)\n",
      " |    |    |    |    |    |-- source_user_id: long (nullable = true)\n",
      " |    |    |    |    |    |-- source_user_id_str: string (nullable = true)\n",
      " |    |    |    |    |    |-- type: string (nullable = true)\n",
      " |    |    |    |    |    |-- url: string (nullable = true)\n",
      " |    |    |    |    |    |-- video_info: struct (nullable = true)\n",
      " |    |    |    |    |    |    |-- aspect_ratio: array (nullable = true)\n",
      " |    |    |    |    |    |    |    |-- element: integer (containsNull = true)\n",
      " |    |    |    |    |    |    |-- duration_millis: integer (nullable = true)\n",
      " |    |    |    |    |    |    |-- variants: array (nullable = true)\n",
      " |    |    |    |    |    |    |    |-- element: struct (containsNull = true)\n",
      " |    |    |    |    |    |    |    |    |-- bitrate: integer (nullable = true)\n",
      " |    |    |    |    |    |    |    |    |-- content_type: string (nullable = true)\n",
      " |    |    |    |    |    |    |    |    |-- url: string (nullable = true)\n",
      " |    |    |-- full_text: string (nullable = true)\n",
      " |    |-- favorite_count: integer (nullable = true)\n",
      " |    |-- favorited: boolean (nullable = true)\n",
      " |    |-- filter_level: string (nullable = true)\n",
      " |    |-- geo: void (nullable = true)\n",
      " |    |-- id: long (nullable = true)\n",
      " |    |-- id_str: string (nullable = true)\n",
      " |    |-- in_reply_to_screen_name: string (nullable = true)\n",
      " |    |-- in_reply_to_status_id: long (nullable = true)\n",
      " |    |-- in_reply_to_status_id_str: string (nullable = true)\n",
      " |    |-- in_reply_to_user_id: long (nullable = true)\n",
      " |    |-- in_reply_to_user_id_str: string (nullable = true)\n",
      " |    |-- is_quote_status: boolean (nullable = true)\n",
      " |    |-- lang: string (nullable = true)\n",
      " |    |-- place: struct (nullable = true)\n",
      " |    |    |-- id: string (nullable = true)\n",
      " |    |    |-- url: string (nullable = true)\n",
      " |    |    |-- place_type: string (nullable = true)\n",
      " |    |    |-- name: string (nullable = true)\n",
      " |    |    |-- full_name: string (nullable = true)\n",
      " |    |    |-- country_code: string (nullable = true)\n",
      " |    |    |-- country: string (nullable = true)\n",
      " |    |    |-- bounding_box: struct (nullable = true)\n",
      " |    |    |    |-- type: string (nullable = true)\n",
      " |    |    |    |-- coordinates: array (nullable = true)\n",
      " |    |    |    |    |-- element: array (containsNull = true)\n",
      " |    |    |    |    |    |-- element: array (containsNull = true)\n",
      " |    |    |    |    |    |    |-- element: double (containsNull = true)\n",
      " |    |-- possibly_sensitive: boolean (nullable = true)\n",
      " |    |-- quote_count: integer (nullable = true)\n",
      " |    |-- quoted_status_id: long (nullable = true)\n",
      " |    |-- quoted_status_id_str: string (nullable = true)\n",
      " |    |-- reply_count: integer (nullable = true)\n",
      " |    |-- retweet_count: integer (nullable = true)\n",
      " |    |-- retweeted: boolean (nullable = true)\n",
      " |    |-- source: string (nullable = true)\n",
      " |    |-- text: string (nullable = true)\n",
      " |    |-- truncated: boolean (nullable = true)\n",
      " |    |-- user: struct (nullable = true)\n",
      " |    |    |-- contributors_enabled: boolean (nullable = true)\n",
      " |    |    |-- created_at: string (nullable = true)\n",
      " |    |    |-- default_profile: boolean (nullable = true)\n",
      " |    |    |-- default_profile_image: boolean (nullable = true)\n",
      " |    |    |-- description: string (nullable = true)\n",
      " |    |    |-- favourites_count: integer (nullable = true)\n",
      " |    |    |-- follow_request_sent: void (nullable = true)\n",
      " |    |    |-- followers_count: integer (nullable = true)\n",
      " |    |    |-- following: void (nullable = true)\n",
      " |    |    |-- friends_count: integer (nullable = true)\n",
      " |    |    |-- geo_enabled: boolean (nullable = true)\n",
      " |    |    |-- id: long (nullable = true)\n",
      " |    |    |-- id_str: string (nullable = true)\n",
      " |    |    |-- is_translator: boolean (nullable = true)\n",
      " |    |    |-- lang: void (nullable = true)\n",
      " |    |    |-- listed_count: integer (nullable = true)\n",
      " |    |    |-- location: string (nullable = true)\n",
      " |    |    |-- name: string (nullable = true)\n",
      " |    |    |-- notifications: void (nullable = true)\n",
      " |    |    |-- profile_background_color: string (nullable = true)\n",
      " |    |    |-- profile_background_image_url: string (nullable = true)\n",
      " |    |    |-- profile_background_image_url_https: string (nullable = true)\n",
      " |    |    |-- profile_background_tile: boolean (nullable = true)\n",
      " |    |    |-- profile_banner_url: string (nullable = true)\n",
      " |    |    |-- profile_image_url: string (nullable = true)\n",
      " |    |    |-- profile_image_url_https: string (nullable = true)\n",
      " |    |    |-- profile_link_color: string (nullable = true)\n",
      " |    |    |-- profile_sidebar_border_color: string (nullable = true)\n",
      " |    |    |-- profile_sidebar_fill_color: string (nullable = true)\n",
      " |    |    |-- profile_text_color: string (nullable = true)\n",
      " |    |    |-- profile_use_background_image: boolean (nullable = true)\n",
      " |    |    |-- protected: boolean (nullable = true)\n",
      " |    |    |-- screen_name: string (nullable = true)\n",
      " |    |    |-- statuses_count: integer (nullable = true)\n",
      " |    |    |-- time_zone: void (nullable = true)\n",
      " |    |    |-- translator_type: string (nullable = true)\n",
      " |    |    |-- url: string (nullable = true)\n",
      " |    |    |-- utc_offset: void (nullable = true)\n",
      " |    |    |-- verified: boolean (nullable = true)\n",
      " |-- quoted_status_id: long (nullable = true)\n",
      " |-- quoted_status_id_str: string (nullable = true)\n",
      " |-- quoted_status_permalink: struct (nullable = true)\n",
      " |    |-- url: string (nullable = true)\n",
      " |    |-- expanded: string (nullable = true)\n",
      " |    |-- display: string (nullable = true)\n",
      " |-- reply_count: integer (nullable = true)\n",
      " |-- retweet_count: integer (nullable = true)\n",
      " |-- retweeted: boolean (nullable = true)\n",
      " |-- retweeted_status: struct (nullable = true)\n",
      " |    |-- contributors: void (nullable = true)\n",
      " |    |-- coordinates: void (nullable = true)\n",
      " |    |-- created_at: string (nullable = true)\n",
      " |    |-- display_text_range: array (nullable = true)\n",
      " |    |    |-- element: integer (containsNull = true)\n",
      " |    |-- entities: struct (nullable = true)\n",
      " |    |    |-- hashtags: array (nullable = true)\n",
      " |    |    |    |-- element: struct (containsNull = true)\n",
      " |    |    |    |    |-- text: string (nullable = true)\n",
      " |    |    |    |    |-- indices: array (nullable = true)\n",
      " |    |    |    |    |    |-- element: integer (containsNull = true)\n",
      " |    |    |-- media: array (nullable = true)\n",
      " |    |    |    |-- element: struct (containsNull = true)\n",
      " |    |    |    |    |-- additional_media_info: struct (nullable = true)\n",
      " |    |    |    |    |    |-- description: string (nullable = true)\n",
      " |    |    |    |    |    |-- embeddable: boolean (nullable = true)\n",
      " |    |    |    |    |    |-- monetizable: boolean (nullable = true)\n",
      " |    |    |    |    |    |-- title: string (nullable = true)\n",
      " |    |    |    |    |-- description: string (nullable = true)\n",
      " |    |    |    |    |-- display_url: string (nullable = true)\n",
      " |    |    |    |    |-- expanded_url: string (nullable = true)\n",
      " |    |    |    |    |-- id: long (nullable = true)\n",
      " |    |    |    |    |-- id_str: string (nullable = true)\n",
      " |    |    |    |    |-- indices: array (nullable = true)\n",
      " |    |    |    |    |    |-- element: integer (containsNull = true)\n",
      " |    |    |    |    |-- media_url: string (nullable = true)\n",
      " |    |    |    |    |-- media_url_https: string (nullable = true)\n",
      " |    |    |    |    |-- sizes: struct (nullable = true)\n",
      " |    |    |    |    |    |-- large: struct (nullable = true)\n",
      " |    |    |    |    |    |    |-- w: integer (nullable = true)\n",
      " |    |    |    |    |    |    |-- h: integer (nullable = true)\n",
      " |    |    |    |    |    |    |-- resize: string (nullable = true)\n",
      " |    |    |    |    |    |-- medium: struct (nullable = true)\n",
      " |    |    |    |    |    |    |-- w: integer (nullable = true)\n",
      " |    |    |    |    |    |    |-- h: integer (nullable = true)\n",
      " |    |    |    |    |    |    |-- resize: string (nullable = true)\n",
      " |    |    |    |    |    |-- small: struct (nullable = true)\n",
      " |    |    |    |    |    |    |-- w: integer (nullable = true)\n",
      " |    |    |    |    |    |    |-- h: integer (nullable = true)\n",
      " |    |    |    |    |    |    |-- resize: string (nullable = true)\n",
      " |    |    |    |    |    |-- thumb: struct (nullable = true)\n",
      " |    |    |    |    |    |    |-- w: integer (nullable = true)\n",
      " |    |    |    |    |    |    |-- h: integer (nullable = true)\n",
      " |    |    |    |    |    |    |-- resize: string (nullable = true)\n",
      " |    |    |    |    |-- source_status_id: long (nullable = true)\n",
      " |    |    |    |    |-- source_status_id_str: string (nullable = true)\n",
      " |    |    |    |    |-- source_user_id: long (nullable = true)\n",
      " |    |    |    |    |-- source_user_id_str: string (nullable = true)\n",
      " |    |    |    |    |-- type: string (nullable = true)\n",
      " |    |    |    |    |-- url: string (nullable = true)\n",
      " |    |    |-- symbols: array (nullable = true)\n",
      " |    |    |    |-- element: struct (containsNull = true)\n",
      " |    |    |    |    |-- text: string (nullable = true)\n",
      " |    |    |    |    |-- indices: array (nullable = true)\n",
      " |    |    |    |    |    |-- element: integer (containsNull = true)\n",
      " |    |    |-- urls: array (nullable = true)\n",
      " |    |    |    |-- element: struct (containsNull = true)\n",
      " |    |    |    |    |-- url: string (nullable = true)\n",
      " |    |    |    |    |-- expanded_url: string (nullable = true)\n",
      " |    |    |    |    |-- display_url: string (nullable = true)\n",
      " |    |    |    |    |-- indices: array (nullable = true)\n",
      " |    |    |    |    |    |-- element: integer (containsNull = true)\n",
      " |    |    |-- user_mentions: array (nullable = true)\n",
      " |    |    |    |-- element: struct (containsNull = true)\n",
      " |    |    |    |    |-- screen_name: string (nullable = true)\n",
      " |    |    |    |    |-- name: string (nullable = true)\n",
      " |    |    |    |    |-- id: long (nullable = true)\n",
      " |    |    |    |    |-- id_str: string (nullable = true)\n",
      " |    |    |    |    |-- indices: array (nullable = true)\n",
      " |    |    |    |    |    |-- element: integer (containsNull = true)\n",
      " |    |-- extended_entities: struct (nullable = true)\n",
      " |    |    |-- media: array (nullable = true)\n",
      " |    |    |    |-- element: struct (containsNull = true)\n",
      " |    |    |    |    |-- additional_media_info: struct (nullable = true)\n",
      " |    |    |    |    |    |-- description: string (nullable = true)\n",
      " |    |    |    |    |    |-- embeddable: boolean (nullable = true)\n",
      " |    |    |    |    |    |-- monetizable: boolean (nullable = true)\n",
      " |    |    |    |    |    |-- title: string (nullable = true)\n",
      " |    |    |    |    |-- description: string (nullable = true)\n",
      " |    |    |    |    |-- display_url: string (nullable = true)\n",
      " |    |    |    |    |-- expanded_url: string (nullable = true)\n",
      " |    |    |    |    |-- id: long (nullable = true)\n",
      " |    |    |    |    |-- id_str: string (nullable = true)\n",
      " |    |    |    |    |-- indices: array (nullable = true)\n",
      " |    |    |    |    |    |-- element: integer (containsNull = true)\n",
      " |    |    |    |    |-- media_url: string (nullable = true)\n",
      " |    |    |    |    |-- media_url_https: string (nullable = true)\n",
      " |    |    |    |    |-- sizes: struct (nullable = true)\n",
      " |    |    |    |    |    |-- large: struct (nullable = true)\n",
      " |    |    |    |    |    |    |-- w: integer (nullable = true)\n",
      " |    |    |    |    |    |    |-- h: integer (nullable = true)\n",
      " |    |    |    |    |    |    |-- resize: string (nullable = true)\n",
      " |    |    |    |    |    |-- medium: struct (nullable = true)\n",
      " |    |    |    |    |    |    |-- w: integer (nullable = true)\n",
      " |    |    |    |    |    |    |-- h: integer (nullable = true)\n",
      " |    |    |    |    |    |    |-- resize: string (nullable = true)\n",
      " |    |    |    |    |    |-- small: struct (nullable = true)\n",
      " |    |    |    |    |    |    |-- w: integer (nullable = true)\n",
      " |    |    |    |    |    |    |-- h: integer (nullable = true)\n",
      " |    |    |    |    |    |    |-- resize: string (nullable = true)\n",
      " |    |    |    |    |    |-- thumb: struct (nullable = true)\n",
      " |    |    |    |    |    |    |-- w: integer (nullable = true)\n",
      " |    |    |    |    |    |    |-- h: integer (nullable = true)\n",
      " |    |    |    |    |    |    |-- resize: string (nullable = true)\n",
      " |    |    |    |    |-- source_status_id: long (nullable = true)\n",
      " |    |    |    |    |-- source_status_id_str: string (nullable = true)\n",
      " |    |    |    |    |-- source_user_id: long (nullable = true)\n",
      " |    |    |    |    |-- source_user_id_str: string (nullable = true)\n",
      " |    |    |    |    |-- type: string (nullable = true)\n",
      " |    |    |    |    |-- url: string (nullable = true)\n",
      " |    |    |    |    |-- video_info: struct (nullable = true)\n",
      " |    |    |    |    |    |-- aspect_ratio: array (nullable = true)\n",
      " |    |    |    |    |    |    |-- element: integer (containsNull = true)\n",
      " |    |    |    |    |    |-- duration_millis: integer (nullable = true)\n",
      " |    |    |    |    |    |-- variants: array (nullable = true)\n",
      " |    |    |    |    |    |    |-- element: struct (containsNull = true)\n",
      " |    |    |    |    |    |    |    |-- bitrate: integer (nullable = true)\n",
      " |    |    |    |    |    |    |    |-- content_type: string (nullable = true)\n",
      " |    |    |    |    |    |    |    |-- url: string (nullable = true)\n",
      " |    |-- extended_tweet: struct (nullable = true)\n",
      " |    |    |-- display_text_range: array (nullable = true)\n",
      " |    |    |    |-- element: integer (containsNull = true)\n",
      " |    |    |-- entities: struct (nullable = true)\n",
      " |    |    |    |-- hashtags: array (nullable = true)\n",
      " |    |    |    |    |-- element: struct (containsNull = true)\n",
      " |    |    |    |    |    |-- text: string (nullable = true)\n",
      " |    |    |    |    |    |-- indices: array (nullable = true)\n",
      " |    |    |    |    |    |    |-- element: integer (containsNull = true)\n",
      " |    |    |    |-- media: array (nullable = true)\n",
      " |    |    |    |    |-- element: struct (containsNull = true)\n",
      " |    |    |    |    |    |-- additional_media_info: struct (nullable = true)\n",
      " |    |    |    |    |    |    |-- description: string (nullable = true)\n",
      " |    |    |    |    |    |    |-- embeddable: boolean (nullable = true)\n",
      " |    |    |    |    |    |    |-- monetizable: boolean (nullable = true)\n",
      " |    |    |    |    |    |    |-- title: string (nullable = true)\n",
      " |    |    |    |    |    |-- description: string (nullable = true)\n",
      " |    |    |    |    |    |-- display_url: string (nullable = true)\n",
      " |    |    |    |    |    |-- expanded_url: string (nullable = true)\n",
      " |    |    |    |    |    |-- id: long (nullable = true)\n",
      " |    |    |    |    |    |-- id_str: string (nullable = true)\n",
      " |    |    |    |    |    |-- indices: array (nullable = true)\n",
      " |    |    |    |    |    |    |-- element: integer (containsNull = true)\n",
      " |    |    |    |    |    |-- media_url: string (nullable = true)\n",
      " |    |    |    |    |    |-- media_url_https: string (nullable = true)\n",
      " |    |    |    |    |    |-- sizes: struct (nullable = true)\n",
      " |    |    |    |    |    |    |-- large: struct (nullable = true)\n",
      " |    |    |    |    |    |    |    |-- w: integer (nullable = true)\n",
      " |    |    |    |    |    |    |    |-- h: integer (nullable = true)\n",
      " |    |    |    |    |    |    |    |-- resize: string (nullable = true)\n",
      " |    |    |    |    |    |    |-- medium: struct (nullable = true)\n",
      " |    |    |    |    |    |    |    |-- w: integer (nullable = true)\n",
      " |    |    |    |    |    |    |    |-- h: integer (nullable = true)\n",
      " |    |    |    |    |    |    |    |-- resize: string (nullable = true)\n",
      " |    |    |    |    |    |    |-- small: struct (nullable = true)\n",
      " |    |    |    |    |    |    |    |-- w: integer (nullable = true)\n",
      " |    |    |    |    |    |    |    |-- h: integer (nullable = true)\n",
      " |    |    |    |    |    |    |    |-- resize: string (nullable = true)\n",
      " |    |    |    |    |    |    |-- thumb: struct (nullable = true)\n",
      " |    |    |    |    |    |    |    |-- w: integer (nullable = true)\n",
      " |    |    |    |    |    |    |    |-- h: integer (nullable = true)\n",
      " |    |    |    |    |    |    |    |-- resize: string (nullable = true)\n",
      " |    |    |    |    |    |-- source_status_id: long (nullable = true)\n",
      " |    |    |    |    |    |-- source_status_id_str: string (nullable = true)\n",
      " |    |    |    |    |    |-- source_user_id: long (nullable = true)\n",
      " |    |    |    |    |    |-- source_user_id_str: string (nullable = true)\n",
      " |    |    |    |    |    |-- type: string (nullable = true)\n",
      " |    |    |    |    |    |-- url: string (nullable = true)\n",
      " |    |    |    |    |    |-- video_info: struct (nullable = true)\n",
      " |    |    |    |    |    |    |-- aspect_ratio: array (nullable = true)\n",
      " |    |    |    |    |    |    |    |-- element: integer (containsNull = true)\n",
      " |    |    |    |    |    |    |-- duration_millis: integer (nullable = true)\n",
      " |    |    |    |    |    |    |-- variants: array (nullable = true)\n",
      " |    |    |    |    |    |    |    |-- element: struct (containsNull = true)\n",
      " |    |    |    |    |    |    |    |    |-- bitrate: integer (nullable = true)\n",
      " |    |    |    |    |    |    |    |    |-- content_type: string (nullable = true)\n",
      " |    |    |    |    |    |    |    |    |-- url: string (nullable = true)\n",
      " |    |    |    |-- symbols: array (nullable = true)\n",
      " |    |    |    |    |-- element: struct (containsNull = true)\n",
      " |    |    |    |    |    |-- text: string (nullable = true)\n",
      " |    |    |    |    |    |-- indices: array (nullable = true)\n",
      " |    |    |    |    |    |    |-- element: integer (containsNull = true)\n",
      " |    |    |    |-- urls: array (nullable = true)\n",
      " |    |    |    |    |-- element: struct (containsNull = true)\n",
      " |    |    |    |    |    |-- url: string (nullable = true)\n",
      " |    |    |    |    |    |-- expanded_url: string (nullable = true)\n",
      " |    |    |    |    |    |-- display_url: string (nullable = true)\n",
      " |    |    |    |    |    |-- indices: array (nullable = true)\n",
      " |    |    |    |    |    |    |-- element: integer (containsNull = true)\n",
      " |    |    |    |-- user_mentions: array (nullable = true)\n",
      " |    |    |    |    |-- element: struct (containsNull = true)\n",
      " |    |    |    |    |    |-- screen_name: string (nullable = true)\n",
      " |    |    |    |    |    |-- name: string (nullable = true)\n",
      " |    |    |    |    |    |-- id: long (nullable = true)\n",
      " |    |    |    |    |    |-- id_str: string (nullable = true)\n",
      " |    |    |    |    |    |-- indices: array (nullable = true)\n",
      " |    |    |    |    |    |    |-- element: integer (containsNull = true)\n",
      " |    |    |-- extended_entities: struct (nullable = true)\n",
      " |    |    |    |-- media: array (nullable = true)\n",
      " |    |    |    |    |-- element: struct (containsNull = true)\n",
      " |    |    |    |    |    |-- additional_media_info: struct (nullable = true)\n",
      " |    |    |    |    |    |    |-- description: string (nullable = true)\n",
      " |    |    |    |    |    |    |-- embeddable: boolean (nullable = true)\n",
      " |    |    |    |    |    |    |-- monetizable: boolean (nullable = true)\n",
      " |    |    |    |    |    |    |-- title: string (nullable = true)\n",
      " |    |    |    |    |    |-- description: string (nullable = true)\n",
      " |    |    |    |    |    |-- display_url: string (nullable = true)\n",
      " |    |    |    |    |    |-- expanded_url: string (nullable = true)\n",
      " |    |    |    |    |    |-- id: long (nullable = true)\n",
      " |    |    |    |    |    |-- id_str: string (nullable = true)\n",
      " |    |    |    |    |    |-- indices: array (nullable = true)\n",
      " |    |    |    |    |    |    |-- element: integer (containsNull = true)\n",
      " |    |    |    |    |    |-- media_url: string (nullable = true)\n",
      " |    |    |    |    |    |-- media_url_https: string (nullable = true)\n",
      " |    |    |    |    |    |-- sizes: struct (nullable = true)\n",
      " |    |    |    |    |    |    |-- large: struct (nullable = true)\n",
      " |    |    |    |    |    |    |    |-- w: integer (nullable = true)\n",
      " |    |    |    |    |    |    |    |-- h: integer (nullable = true)\n",
      " |    |    |    |    |    |    |    |-- resize: string (nullable = true)\n",
      " |    |    |    |    |    |    |-- medium: struct (nullable = true)\n",
      " |    |    |    |    |    |    |    |-- w: integer (nullable = true)\n",
      " |    |    |    |    |    |    |    |-- h: integer (nullable = true)\n",
      " |    |    |    |    |    |    |    |-- resize: string (nullable = true)\n",
      " |    |    |    |    |    |    |-- small: struct (nullable = true)\n",
      " |    |    |    |    |    |    |    |-- w: integer (nullable = true)\n",
      " |    |    |    |    |    |    |    |-- h: integer (nullable = true)\n",
      " |    |    |    |    |    |    |    |-- resize: string (nullable = true)\n",
      " |    |    |    |    |    |    |-- thumb: struct (nullable = true)\n",
      " |    |    |    |    |    |    |    |-- w: integer (nullable = true)\n",
      " |    |    |    |    |    |    |    |-- h: integer (nullable = true)\n",
      " |    |    |    |    |    |    |    |-- resize: string (nullable = true)\n",
      " |    |    |    |    |    |-- source_status_id: long (nullable = true)\n",
      " |    |    |    |    |    |-- source_status_id_str: string (nullable = true)\n",
      " |    |    |    |    |    |-- source_user_id: long (nullable = true)\n",
      " |    |    |    |    |    |-- source_user_id_str: string (nullable = true)\n",
      " |    |    |    |    |    |-- type: string (nullable = true)\n",
      " |    |    |    |    |    |-- url: string (nullable = true)\n",
      " |    |    |    |    |    |-- video_info: struct (nullable = true)\n",
      " |    |    |    |    |    |    |-- aspect_ratio: array (nullable = true)\n",
      " |    |    |    |    |    |    |    |-- element: integer (containsNull = true)\n",
      " |    |    |    |    |    |    |-- duration_millis: integer (nullable = true)\n",
      " |    |    |    |    |    |    |-- variants: array (nullable = true)\n",
      " |    |    |    |    |    |    |    |-- element: struct (containsNull = true)\n",
      " |    |    |    |    |    |    |    |    |-- bitrate: integer (nullable = true)\n",
      " |    |    |    |    |    |    |    |    |-- content_type: string (nullable = true)\n",
      " |    |    |    |    |    |    |    |    |-- url: string (nullable = true)\n",
      " |    |    |-- full_text: string (nullable = true)\n",
      " |    |-- favorite_count: integer (nullable = true)\n",
      " |    |-- favorited: boolean (nullable = true)\n",
      " |    |-- filter_level: string (nullable = true)\n",
      " |    |-- geo: void (nullable = true)\n",
      " |    |-- id: long (nullable = true)\n",
      " |    |-- id_str: string (nullable = true)\n",
      " |    |-- in_reply_to_screen_name: string (nullable = true)\n",
      " |    |-- in_reply_to_status_id: long (nullable = true)\n",
      " |    |-- in_reply_to_status_id_str: string (nullable = true)\n",
      " |    |-- in_reply_to_user_id: long (nullable = true)\n",
      " |    |-- in_reply_to_user_id_str: string (nullable = true)\n",
      " |    |-- is_quote_status: boolean (nullable = true)\n",
      " |    |-- lang: string (nullable = true)\n",
      " |    |-- place: struct (nullable = true)\n",
      " |    |    |-- id: string (nullable = true)\n",
      " |    |    |-- url: string (nullable = true)\n",
      " |    |    |-- place_type: string (nullable = true)\n",
      " |    |    |-- name: string (nullable = true)\n",
      " |    |    |-- full_name: string (nullable = true)\n",
      " |    |    |-- country_code: string (nullable = true)\n",
      " |    |    |-- country: string (nullable = true)\n",
      " |    |    |-- bounding_box: struct (nullable = true)\n",
      " |    |    |    |-- type: string (nullable = true)\n",
      " |    |    |    |-- coordinates: array (nullable = true)\n",
      " |    |    |    |    |-- element: array (containsNull = true)\n",
      " |    |    |    |    |    |-- element: array (containsNull = true)\n",
      " |    |    |    |    |    |    |-- element: double (containsNull = true)\n",
      " |    |-- possibly_sensitive: boolean (nullable = true)\n",
      " |    |-- quote_count: integer (nullable = true)\n",
      " |    |-- quoted_status: struct (nullable = true)\n",
      " |    |    |-- contributors: void (nullable = true)\n",
      " |    |    |-- coordinates: void (nullable = true)\n",
      " |    |    |-- created_at: string (nullable = true)\n",
      " |    |    |-- display_text_range: array (nullable = true)\n",
      " |    |    |    |-- element: integer (containsNull = true)\n",
      " |    |    |-- entities: struct (nullable = true)\n",
      " |    |    |    |-- hashtags: array (nullable = true)\n",
      " |    |    |    |    |-- element: struct (containsNull = true)\n",
      " |    |    |    |    |    |-- text: string (nullable = true)\n",
      " |    |    |    |    |    |-- indices: array (nullable = true)\n",
      " |    |    |    |    |    |    |-- element: integer (containsNull = true)\n",
      " |    |    |    |-- media: array (nullable = true)\n",
      " |    |    |    |    |-- element: struct (containsNull = true)\n",
      " |    |    |    |    |    |-- additional_media_info: struct (nullable = true)\n",
      " |    |    |    |    |    |    |-- description: string (nullable = true)\n",
      " |    |    |    |    |    |    |-- embeddable: boolean (nullable = true)\n",
      " |    |    |    |    |    |    |-- monetizable: boolean (nullable = true)\n",
      " |    |    |    |    |    |    |-- title: string (nullable = true)\n",
      " |    |    |    |    |    |-- display_url: string (nullable = true)\n",
      " |    |    |    |    |    |-- expanded_url: string (nullable = true)\n",
      " |    |    |    |    |    |-- id: long (nullable = true)\n",
      " |    |    |    |    |    |-- id_str: string (nullable = true)\n",
      " |    |    |    |    |    |-- indices: array (nullable = true)\n",
      " |    |    |    |    |    |    |-- element: integer (containsNull = true)\n",
      " |    |    |    |    |    |-- media_url: string (nullable = true)\n",
      " |    |    |    |    |    |-- media_url_https: string (nullable = true)\n",
      " |    |    |    |    |    |-- sizes: struct (nullable = true)\n",
      " |    |    |    |    |    |    |-- large: struct (nullable = true)\n",
      " |    |    |    |    |    |    |    |-- w: integer (nullable = true)\n",
      " |    |    |    |    |    |    |    |-- h: integer (nullable = true)\n",
      " |    |    |    |    |    |    |    |-- resize: string (nullable = true)\n",
      " |    |    |    |    |    |    |-- medium: struct (nullable = true)\n",
      " |    |    |    |    |    |    |    |-- w: integer (nullable = true)\n",
      " |    |    |    |    |    |    |    |-- h: integer (nullable = true)\n",
      " |    |    |    |    |    |    |    |-- resize: string (nullable = true)\n",
      " |    |    |    |    |    |    |-- small: struct (nullable = true)\n",
      " |    |    |    |    |    |    |    |-- w: integer (nullable = true)\n",
      " |    |    |    |    |    |    |    |-- h: integer (nullable = true)\n",
      " |    |    |    |    |    |    |    |-- resize: string (nullable = true)\n",
      " |    |    |    |    |    |    |-- thumb: struct (nullable = true)\n",
      " |    |    |    |    |    |    |    |-- w: integer (nullable = true)\n",
      " |    |    |    |    |    |    |    |-- h: integer (nullable = true)\n",
      " |    |    |    |    |    |    |    |-- resize: string (nullable = true)\n",
      " |    |    |    |    |    |-- source_status_id: long (nullable = true)\n",
      " |    |    |    |    |    |-- source_status_id_str: string (nullable = true)\n",
      " |    |    |    |    |    |-- source_user_id: long (nullable = true)\n",
      " |    |    |    |    |    |-- source_user_id_str: string (nullable = true)\n",
      " |    |    |    |    |    |-- type: string (nullable = true)\n",
      " |    |    |    |    |    |-- url: string (nullable = true)\n",
      " |    |    |    |-- symbols: array (nullable = true)\n",
      " |    |    |    |    |-- element: struct (containsNull = true)\n",
      " |    |    |    |    |    |-- text: string (nullable = true)\n",
      " |    |    |    |    |    |-- indices: array (nullable = true)\n",
      " |    |    |    |    |    |    |-- element: integer (containsNull = true)\n",
      " |    |    |    |-- urls: array (nullable = true)\n",
      " |    |    |    |    |-- element: struct (containsNull = true)\n",
      " |    |    |    |    |    |-- url: string (nullable = true)\n",
      " |    |    |    |    |    |-- expanded_url: string (nullable = true)\n",
      " |    |    |    |    |    |-- display_url: string (nullable = true)\n",
      " |    |    |    |    |    |-- indices: array (nullable = true)\n",
      " |    |    |    |    |    |    |-- element: integer (containsNull = true)\n",
      " |    |    |    |-- user_mentions: array (nullable = true)\n",
      " |    |    |    |    |-- element: struct (containsNull = true)\n",
      " |    |    |    |    |    |-- screen_name: string (nullable = true)\n",
      " |    |    |    |    |    |-- name: string (nullable = true)\n",
      " |    |    |    |    |    |-- id: long (nullable = true)\n",
      " |    |    |    |    |    |-- id_str: string (nullable = true)\n",
      " |    |    |    |    |    |-- indices: array (nullable = true)\n",
      " |    |    |    |    |    |    |-- element: integer (containsNull = true)\n",
      " |    |    |-- extended_entities: struct (nullable = true)\n",
      " |    |    |    |-- media: array (nullable = true)\n",
      " |    |    |    |    |-- element: struct (containsNull = true)\n",
      " |    |    |    |    |    |-- additional_media_info: struct (nullable = true)\n",
      " |    |    |    |    |    |    |-- description: string (nullable = true)\n",
      " |    |    |    |    |    |    |-- embeddable: boolean (nullable = true)\n",
      " |    |    |    |    |    |    |-- monetizable: boolean (nullable = true)\n",
      " |    |    |    |    |    |    |-- title: string (nullable = true)\n",
      " |    |    |    |    |    |-- display_url: string (nullable = true)\n",
      " |    |    |    |    |    |-- expanded_url: string (nullable = true)\n",
      " |    |    |    |    |    |-- id: long (nullable = true)\n",
      " |    |    |    |    |    |-- id_str: string (nullable = true)\n",
      " |    |    |    |    |    |-- indices: array (nullable = true)\n",
      " |    |    |    |    |    |    |-- element: integer (containsNull = true)\n",
      " |    |    |    |    |    |-- media_url: string (nullable = true)\n",
      " |    |    |    |    |    |-- media_url_https: string (nullable = true)\n",
      " |    |    |    |    |    |-- sizes: struct (nullable = true)\n",
      " |    |    |    |    |    |    |-- large: struct (nullable = true)\n",
      " |    |    |    |    |    |    |    |-- w: integer (nullable = true)\n",
      " |    |    |    |    |    |    |    |-- h: integer (nullable = true)\n",
      " |    |    |    |    |    |    |    |-- resize: string (nullable = true)\n",
      " |    |    |    |    |    |    |-- medium: struct (nullable = true)\n",
      " |    |    |    |    |    |    |    |-- w: integer (nullable = true)\n",
      " |    |    |    |    |    |    |    |-- h: integer (nullable = true)\n",
      " |    |    |    |    |    |    |    |-- resize: string (nullable = true)\n",
      " |    |    |    |    |    |    |-- small: struct (nullable = true)\n",
      " |    |    |    |    |    |    |    |-- w: integer (nullable = true)\n",
      " |    |    |    |    |    |    |    |-- h: integer (nullable = true)\n",
      " |    |    |    |    |    |    |    |-- resize: string (nullable = true)\n",
      " |    |    |    |    |    |    |-- thumb: struct (nullable = true)\n",
      " |    |    |    |    |    |    |    |-- w: integer (nullable = true)\n",
      " |    |    |    |    |    |    |    |-- h: integer (nullable = true)\n",
      " |    |    |    |    |    |    |    |-- resize: string (nullable = true)\n",
      " |    |    |    |    |    |-- source_status_id: long (nullable = true)\n",
      " |    |    |    |    |    |-- source_status_id_str: string (nullable = true)\n",
      " |    |    |    |    |    |-- source_user_id: long (nullable = true)\n",
      " |    |    |    |    |    |-- source_user_id_str: string (nullable = true)\n",
      " |    |    |    |    |    |-- type: string (nullable = true)\n",
      " |    |    |    |    |    |-- url: string (nullable = true)\n",
      " |    |    |    |    |    |-- video_info: struct (nullable = true)\n",
      " |    |    |    |    |    |    |-- aspect_ratio: array (nullable = true)\n",
      " |    |    |    |    |    |    |    |-- element: integer (containsNull = true)\n",
      " |    |    |    |    |    |    |-- duration_millis: integer (nullable = true)\n",
      " |    |    |    |    |    |    |-- variants: array (nullable = true)\n",
      " |    |    |    |    |    |    |    |-- element: struct (containsNull = true)\n",
      " |    |    |    |    |    |    |    |    |-- bitrate: integer (nullable = true)\n",
      " |    |    |    |    |    |    |    |    |-- content_type: string (nullable = true)\n",
      " |    |    |    |    |    |    |    |    |-- url: string (nullable = true)\n",
      " |    |    |-- extended_tweet: struct (nullable = true)\n",
      " |    |    |    |-- display_text_range: array (nullable = true)\n",
      " |    |    |    |    |-- element: integer (containsNull = true)\n",
      " |    |    |    |-- entities: struct (nullable = true)\n",
      " |    |    |    |    |-- hashtags: array (nullable = true)\n",
      " |    |    |    |    |    |-- element: struct (containsNull = true)\n",
      " |    |    |    |    |    |    |-- text: string (nullable = true)\n",
      " |    |    |    |    |    |    |-- indices: array (nullable = true)\n",
      " |    |    |    |    |    |    |    |-- element: integer (containsNull = true)\n",
      " |    |    |    |    |-- media: array (nullable = true)\n",
      " |    |    |    |    |    |-- element: struct (containsNull = true)\n",
      " |    |    |    |    |    |    |-- additional_media_info: struct (nullable = true)\n",
      " |    |    |    |    |    |    |    |-- description: string (nullable = true)\n",
      " |    |    |    |    |    |    |    |-- embeddable: boolean (nullable = true)\n",
      " |    |    |    |    |    |    |    |-- monetizable: boolean (nullable = true)\n",
      " |    |    |    |    |    |    |    |-- title: string (nullable = true)\n",
      " |    |    |    |    |    |    |-- display_url: string (nullable = true)\n",
      " |    |    |    |    |    |    |-- expanded_url: string (nullable = true)\n",
      " |    |    |    |    |    |    |-- id: long (nullable = true)\n",
      " |    |    |    |    |    |    |-- id_str: string (nullable = true)\n",
      " |    |    |    |    |    |    |-- indices: array (nullable = true)\n",
      " |    |    |    |    |    |    |    |-- element: integer (containsNull = true)\n",
      " |    |    |    |    |    |    |-- media_url: string (nullable = true)\n",
      " |    |    |    |    |    |    |-- media_url_https: string (nullable = true)\n",
      " |    |    |    |    |    |    |-- sizes: struct (nullable = true)\n",
      " |    |    |    |    |    |    |    |-- large: struct (nullable = true)\n",
      " |    |    |    |    |    |    |    |    |-- w: integer (nullable = true)\n",
      " |    |    |    |    |    |    |    |    |-- h: integer (nullable = true)\n",
      " |    |    |    |    |    |    |    |    |-- resize: string (nullable = true)\n",
      " |    |    |    |    |    |    |    |-- medium: struct (nullable = true)\n",
      " |    |    |    |    |    |    |    |    |-- w: integer (nullable = true)\n",
      " |    |    |    |    |    |    |    |    |-- h: integer (nullable = true)\n",
      " |    |    |    |    |    |    |    |    |-- resize: string (nullable = true)\n",
      " |    |    |    |    |    |    |    |-- small: struct (nullable = true)\n",
      " |    |    |    |    |    |    |    |    |-- w: integer (nullable = true)\n",
      " |    |    |    |    |    |    |    |    |-- h: integer (nullable = true)\n",
      " |    |    |    |    |    |    |    |    |-- resize: string (nullable = true)\n",
      " |    |    |    |    |    |    |    |-- thumb: struct (nullable = true)\n",
      " |    |    |    |    |    |    |    |    |-- w: integer (nullable = true)\n",
      " |    |    |    |    |    |    |    |    |-- h: integer (nullable = true)\n",
      " |    |    |    |    |    |    |    |    |-- resize: string (nullable = true)\n",
      " |    |    |    |    |    |    |-- source_status_id: long (nullable = true)\n",
      " |    |    |    |    |    |    |-- source_status_id_str: string (nullable = true)\n",
      " |    |    |    |    |    |    |-- source_user_id: long (nullable = true)\n",
      " |    |    |    |    |    |    |-- source_user_id_str: string (nullable = true)\n",
      " |    |    |    |    |    |    |-- type: string (nullable = true)\n",
      " |    |    |    |    |    |    |-- url: string (nullable = true)\n",
      " |    |    |    |    |    |    |-- video_info: struct (nullable = true)\n",
      " |    |    |    |    |    |    |    |-- aspect_ratio: array (nullable = true)\n",
      " |    |    |    |    |    |    |    |    |-- element: integer (containsNull = true)\n",
      " |    |    |    |    |    |    |    |-- duration_millis: integer (nullable = true)\n",
      " |    |    |    |    |    |    |    |-- variants: array (nullable = true)\n",
      " |    |    |    |    |    |    |    |    |-- element: struct (containsNull = true)\n",
      " |    |    |    |    |    |    |    |    |    |-- bitrate: integer (nullable = true)\n",
      " |    |    |    |    |    |    |    |    |    |-- content_type: string (nullable = true)\n",
      " |    |    |    |    |    |    |    |    |    |-- url: string (nullable = true)\n",
      " |    |    |    |    |-- symbols: array (nullable = true)\n",
      " |    |    |    |    |    |-- element: struct (containsNull = true)\n",
      " |    |    |    |    |    |    |-- text: string (nullable = true)\n",
      " |    |    |    |    |    |    |-- indices: array (nullable = true)\n",
      " |    |    |    |    |    |    |    |-- element: integer (containsNull = true)\n",
      " |    |    |    |    |-- urls: array (nullable = true)\n",
      " |    |    |    |    |    |-- element: struct (containsNull = true)\n",
      " |    |    |    |    |    |    |-- url: string (nullable = true)\n",
      " |    |    |    |    |    |    |-- expanded_url: string (nullable = true)\n",
      " |    |    |    |    |    |    |-- display_url: string (nullable = true)\n",
      " |    |    |    |    |    |    |-- indices: array (nullable = true)\n",
      " |    |    |    |    |    |    |    |-- element: integer (containsNull = true)\n",
      " |    |    |    |    |-- user_mentions: array (nullable = true)\n",
      " |    |    |    |    |    |-- element: struct (containsNull = true)\n",
      " |    |    |    |    |    |    |-- screen_name: string (nullable = true)\n",
      " |    |    |    |    |    |    |-- name: string (nullable = true)\n",
      " |    |    |    |    |    |    |-- id: long (nullable = true)\n",
      " |    |    |    |    |    |    |-- id_str: string (nullable = true)\n",
      " |    |    |    |    |    |    |-- indices: array (nullable = true)\n",
      " |    |    |    |    |    |    |    |-- element: integer (containsNull = true)\n",
      " |    |    |    |-- extended_entities: struct (nullable = true)\n",
      " |    |    |    |    |-- media: array (nullable = true)\n",
      " |    |    |    |    |    |-- element: struct (containsNull = true)\n",
      " |    |    |    |    |    |    |-- additional_media_info: struct (nullable = true)\n",
      " |    |    |    |    |    |    |    |-- description: string (nullable = true)\n",
      " |    |    |    |    |    |    |    |-- embeddable: boolean (nullable = true)\n",
      " |    |    |    |    |    |    |    |-- monetizable: boolean (nullable = true)\n",
      " |    |    |    |    |    |    |    |-- title: string (nullable = true)\n",
      " |    |    |    |    |    |    |-- display_url: string (nullable = true)\n",
      " |    |    |    |    |    |    |-- expanded_url: string (nullable = true)\n",
      " |    |    |    |    |    |    |-- id: long (nullable = true)\n",
      " |    |    |    |    |    |    |-- id_str: string (nullable = true)\n",
      " |    |    |    |    |    |    |-- indices: array (nullable = true)\n",
      " |    |    |    |    |    |    |    |-- element: integer (containsNull = true)\n",
      " |    |    |    |    |    |    |-- media_url: string (nullable = true)\n",
      " |    |    |    |    |    |    |-- media_url_https: string (nullable = true)\n",
      " |    |    |    |    |    |    |-- sizes: struct (nullable = true)\n",
      " |    |    |    |    |    |    |    |-- large: struct (nullable = true)\n",
      " |    |    |    |    |    |    |    |    |-- w: integer (nullable = true)\n",
      " |    |    |    |    |    |    |    |    |-- h: integer (nullable = true)\n",
      " |    |    |    |    |    |    |    |    |-- resize: string (nullable = true)\n",
      " |    |    |    |    |    |    |    |-- medium: struct (nullable = true)\n",
      " |    |    |    |    |    |    |    |    |-- w: integer (nullable = true)\n",
      " |    |    |    |    |    |    |    |    |-- h: integer (nullable = true)\n",
      " |    |    |    |    |    |    |    |    |-- resize: string (nullable = true)\n",
      " |    |    |    |    |    |    |    |-- small: struct (nullable = true)\n",
      " |    |    |    |    |    |    |    |    |-- w: integer (nullable = true)\n",
      " |    |    |    |    |    |    |    |    |-- h: integer (nullable = true)\n",
      " |    |    |    |    |    |    |    |    |-- resize: string (nullable = true)\n",
      " |    |    |    |    |    |    |    |-- thumb: struct (nullable = true)\n",
      " |    |    |    |    |    |    |    |    |-- w: integer (nullable = true)\n",
      " |    |    |    |    |    |    |    |    |-- h: integer (nullable = true)\n",
      " |    |    |    |    |    |    |    |    |-- resize: string (nullable = true)\n",
      " |    |    |    |    |    |    |-- source_status_id: long (nullable = true)\n",
      " |    |    |    |    |    |    |-- source_status_id_str: string (nullable = true)\n",
      " |    |    |    |    |    |    |-- source_user_id: long (nullable = true)\n",
      " |    |    |    |    |    |    |-- source_user_id_str: string (nullable = true)\n",
      " |    |    |    |    |    |    |-- type: string (nullable = true)\n",
      " |    |    |    |    |    |    |-- url: string (nullable = true)\n",
      " |    |    |    |    |    |    |-- video_info: struct (nullable = true)\n",
      " |    |    |    |    |    |    |    |-- aspect_ratio: array (nullable = true)\n",
      " |    |    |    |    |    |    |    |    |-- element: integer (containsNull = true)\n",
      " |    |    |    |    |    |    |    |-- duration_millis: integer (nullable = true)\n",
      " |    |    |    |    |    |    |    |-- variants: array (nullable = true)\n",
      " |    |    |    |    |    |    |    |    |-- element: struct (containsNull = true)\n",
      " |    |    |    |    |    |    |    |    |    |-- bitrate: integer (nullable = true)\n",
      " |    |    |    |    |    |    |    |    |    |-- content_type: string (nullable = true)\n",
      " |    |    |    |    |    |    |    |    |    |-- url: string (nullable = true)\n",
      " |    |    |    |-- full_text: string (nullable = true)\n",
      " |    |    |-- favorite_count: integer (nullable = true)\n",
      " |    |    |-- favorited: boolean (nullable = true)\n",
      " |    |    |-- filter_level: string (nullable = true)\n",
      " |    |    |-- geo: void (nullable = true)\n",
      " |    |    |-- id: long (nullable = true)\n",
      " |    |    |-- id_str: string (nullable = true)\n",
      " |    |    |-- in_reply_to_screen_name: string (nullable = true)\n",
      " |    |    |-- in_reply_to_status_id: long (nullable = true)\n",
      " |    |    |-- in_reply_to_status_id_str: string (nullable = true)\n",
      " |    |    |-- in_reply_to_user_id: long (nullable = true)\n",
      " |    |    |-- in_reply_to_user_id_str: string (nullable = true)\n",
      " |    |    |-- is_quote_status: boolean (nullable = true)\n",
      " |    |    |-- lang: string (nullable = true)\n",
      " |    |    |-- place: struct (nullable = true)\n",
      " |    |    |    |-- id: string (nullable = true)\n",
      " |    |    |    |-- url: string (nullable = true)\n",
      " |    |    |    |-- place_type: string (nullable = true)\n",
      " |    |    |    |-- name: string (nullable = true)\n",
      " |    |    |    |-- full_name: string (nullable = true)\n",
      " |    |    |    |-- country_code: string (nullable = true)\n",
      " |    |    |    |-- country: string (nullable = true)\n",
      " |    |    |    |-- bounding_box: struct (nullable = true)\n",
      " |    |    |    |    |-- type: string (nullable = true)\n",
      " |    |    |    |    |-- coordinates: array (nullable = true)\n",
      " |    |    |    |    |    |-- element: array (containsNull = true)\n",
      " |    |    |    |    |    |    |-- element: array (containsNull = true)\n",
      " |    |    |    |    |    |    |    |-- element: double (containsNull = true)\n",
      " |    |    |-- possibly_sensitive: boolean (nullable = true)\n",
      " |    |    |-- quote_count: integer (nullable = true)\n",
      " |    |    |-- quoted_status_id: long (nullable = true)\n",
      " |    |    |-- quoted_status_id_str: string (nullable = true)\n",
      " |    |    |-- reply_count: integer (nullable = true)\n",
      " |    |    |-- retweet_count: integer (nullable = true)\n",
      " |    |    |-- retweeted: boolean (nullable = true)\n",
      " |    |    |-- source: string (nullable = true)\n",
      " |    |    |-- text: string (nullable = true)\n",
      " |    |    |-- truncated: boolean (nullable = true)\n",
      " |    |    |-- user: struct (nullable = true)\n",
      " |    |    |    |-- contributors_enabled: boolean (nullable = true)\n",
      " |    |    |    |-- created_at: string (nullable = true)\n",
      " |    |    |    |-- default_profile: boolean (nullable = true)\n",
      " |    |    |    |-- default_profile_image: boolean (nullable = true)\n",
      " |    |    |    |-- description: string (nullable = true)\n",
      " |    |    |    |-- favourites_count: integer (nullable = true)\n",
      " |    |    |    |-- follow_request_sent: void (nullable = true)\n",
      " |    |    |    |-- followers_count: integer (nullable = true)\n",
      " |    |    |    |-- following: void (nullable = true)\n",
      " |    |    |    |-- friends_count: integer (nullable = true)\n",
      " |    |    |    |-- geo_enabled: boolean (nullable = true)\n",
      " |    |    |    |-- id: long (nullable = true)\n",
      " |    |    |    |-- id_str: string (nullable = true)\n",
      " |    |    |    |-- is_translator: boolean (nullable = true)\n",
      " |    |    |    |-- lang: void (nullable = true)\n",
      " |    |    |    |-- listed_count: integer (nullable = true)\n",
      " |    |    |    |-- location: string (nullable = true)\n",
      " |    |    |    |-- name: string (nullable = true)\n",
      " |    |    |    |-- notifications: void (nullable = true)\n",
      " |    |    |    |-- profile_background_color: string (nullable = true)\n",
      " |    |    |    |-- profile_background_image_url: string (nullable = true)\n",
      " |    |    |    |-- profile_background_image_url_https: string (nullable = true)\n",
      " |    |    |    |-- profile_background_tile: boolean (nullable = true)\n",
      " |    |    |    |-- profile_banner_url: string (nullable = true)\n",
      " |    |    |    |-- profile_image_url: string (nullable = true)\n",
      " |    |    |    |-- profile_image_url_https: string (nullable = true)\n",
      " |    |    |    |-- profile_link_color: string (nullable = true)\n",
      " |    |    |    |-- profile_sidebar_border_color: string (nullable = true)\n",
      " |    |    |    |-- profile_sidebar_fill_color: string (nullable = true)\n",
      " |    |    |    |-- profile_text_color: string (nullable = true)\n",
      " |    |    |    |-- profile_use_background_image: boolean (nullable = true)\n",
      " |    |    |    |-- protected: boolean (nullable = true)\n",
      " |    |    |    |-- screen_name: string (nullable = true)\n",
      " |    |    |    |-- statuses_count: integer (nullable = true)\n",
      " |    |    |    |-- time_zone: void (nullable = true)\n",
      " |    |    |    |-- translator_type: string (nullable = true)\n",
      " |    |    |    |-- url: string (nullable = true)\n",
      " |    |    |    |-- utc_offset: void (nullable = true)\n",
      " |    |    |    |-- verified: boolean (nullable = true)\n",
      " |    |-- quoted_status_id: long (nullable = true)\n",
      " |    |-- quoted_status_id_str: string (nullable = true)\n",
      " |    |-- quoted_status_permalink: struct (nullable = true)\n",
      " |    |    |-- url: string (nullable = true)\n",
      " |    |    |-- expanded: string (nullable = true)\n",
      " |    |    |-- display: string (nullable = true)\n",
      " |    |-- reply_count: integer (nullable = true)\n",
      " |    |-- retweet_count: integer (nullable = true)\n",
      " |    |-- retweeted: boolean (nullable = true)\n",
      " |    |-- source: string (nullable = true)\n",
      " |    |-- text: string (nullable = true)\n",
      " |    |-- truncated: boolean (nullable = true)\n",
      " |    |-- user: struct (nullable = true)\n",
      " |    |    |-- contributors_enabled: boolean (nullable = true)\n",
      " |    |    |-- created_at: string (nullable = true)\n",
      " |    |    |-- default_profile: boolean (nullable = true)\n",
      " |    |    |-- default_profile_image: boolean (nullable = true)\n",
      " |    |    |-- description: string (nullable = true)\n",
      " |    |    |-- favourites_count: integer (nullable = true)\n",
      " |    |    |-- follow_request_sent: void (nullable = true)\n",
      " |    |    |-- followers_count: integer (nullable = true)\n",
      " |    |    |-- following: void (nullable = true)\n",
      " |    |    |-- friends_count: integer (nullable = true)\n",
      " |    |    |-- geo_enabled: boolean (nullable = true)\n",
      " |    |    |-- id: long (nullable = true)\n",
      " |    |    |-- id_str: string (nullable = true)\n",
      " |    |    |-- is_translator: boolean (nullable = true)\n",
      " |    |    |-- lang: void (nullable = true)\n",
      " |    |    |-- listed_count: integer (nullable = true)\n",
      " |    |    |-- location: string (nullable = true)\n",
      " |    |    |-- name: string (nullable = true)\n",
      " |    |    |-- notifications: void (nullable = true)\n",
      " |    |    |-- profile_background_color: string (nullable = true)\n",
      " |    |    |-- profile_background_image_url: string (nullable = true)\n",
      " |    |    |-- profile_background_image_url_https: string (nullable = true)\n",
      " |    |    |-- profile_background_tile: boolean (nullable = true)\n",
      " |    |    |-- profile_banner_url: string (nullable = true)\n",
      " |    |    |-- profile_image_url: string (nullable = true)\n",
      " |    |    |-- profile_image_url_https: string (nullable = true)\n",
      " |    |    |-- profile_link_color: string (nullable = true)\n",
      " |    |    |-- profile_sidebar_border_color: string (nullable = true)\n",
      " |    |    |-- profile_sidebar_fill_color: string (nullable = true)\n",
      " |    |    |-- profile_text_color: string (nullable = true)\n",
      " |    |    |-- profile_use_background_image: boolean (nullable = true)\n",
      " |    |    |-- protected: boolean (nullable = true)\n",
      " |    |    |-- screen_name: string (nullable = true)\n",
      " |    |    |-- statuses_count: integer (nullable = true)\n",
      " |    |    |-- time_zone: void (nullable = true)\n",
      " |    |    |-- translator_type: string (nullable = true)\n",
      " |    |    |-- url: string (nullable = true)\n",
      " |    |    |-- utc_offset: void (nullable = true)\n",
      " |    |    |-- verified: boolean (nullable = true)\n",
      " |    |-- withheld_in_countries: array (nullable = true)\n",
      " |    |    |-- element: string (containsNull = true)\n",
      " |-- source: string (nullable = true)\n",
      " |-- text: string (nullable = true)\n",
      " |-- timestamp_ms: string (nullable = true)\n",
      " |-- truncated: boolean (nullable = true)\n",
      " |-- user: struct (nullable = true)\n",
      " |    |-- contributors_enabled: boolean (nullable = true)\n",
      " |    |-- created_at: string (nullable = true)\n",
      " |    |-- default_profile: boolean (nullable = true)\n",
      " |    |-- default_profile_image: boolean (nullable = true)\n",
      " |    |-- description: string (nullable = true)\n",
      " |    |-- favourites_count: integer (nullable = true)\n",
      " |    |-- follow_request_sent: void (nullable = true)\n",
      " |    |-- followers_count: integer (nullable = true)\n",
      " |    |-- following: void (nullable = true)\n",
      " |    |-- friends_count: integer (nullable = true)\n",
      " |    |-- geo_enabled: boolean (nullable = true)\n",
      " |    |-- id: long (nullable = true)\n",
      " |    |-- id_str: string (nullable = true)\n",
      " |    |-- is_translator: boolean (nullable = true)\n",
      " |    |-- lang: void (nullable = true)\n",
      " |    |-- listed_count: integer (nullable = true)\n",
      " |    |-- location: string (nullable = true)\n",
      " |    |-- name: string (nullable = true)\n",
      " |    |-- notifications: void (nullable = true)\n",
      " |    |-- profile_background_color: string (nullable = true)\n",
      " |    |-- profile_background_image_url: string (nullable = true)\n",
      " |    |-- profile_background_image_url_https: string (nullable = true)\n",
      " |    |-- profile_background_tile: boolean (nullable = true)\n",
      " |    |-- profile_banner_url: string (nullable = true)\n",
      " |    |-- profile_image_url: string (nullable = true)\n",
      " |    |-- profile_image_url_https: string (nullable = true)\n",
      " |    |-- profile_link_color: string (nullable = true)\n",
      " |    |-- profile_sidebar_border_color: string (nullable = true)\n",
      " |    |-- profile_sidebar_fill_color: string (nullable = true)\n",
      " |    |-- profile_text_color: string (nullable = true)\n",
      " |    |-- profile_use_background_image: boolean (nullable = true)\n",
      " |    |-- protected: boolean (nullable = true)\n",
      " |    |-- screen_name: string (nullable = true)\n",
      " |    |-- statuses_count: integer (nullable = true)\n",
      " |    |-- time_zone: void (nullable = true)\n",
      " |    |-- translator_type: string (nullable = true)\n",
      " |    |-- url: string (nullable = true)\n",
      " |    |-- utc_offset: void (nullable = true)\n",
      " |    |-- verified: boolean (nullable = true)\n",
      " |-- withheld_in_countries: array (nullable = true)\n",
      " |    |-- element: string (containsNull = true)\n",
      "\n"
     ]
    }
   ],
   "source": [
    "# create a spark session\n",
    "spark = SparkSession \\\n",
    ".builder \\\n",
    ".master(\"local\") \\\n",
    ".appName(\"ABC\") \\\n",
    ".config(\"spark.driver.memory\", \"15g\") \\\n",
    ".config(\"spark.mongodb.read.connection.uri\", \"mongodb://localhost:27017/twitter\") \\\n",
    ".config(\"spark.mongodb.write.connection.uri\", \"mongodb://localhost:27017/twitter\") \\\n",
    ".config('spark.jars.packages', 'org.mongodb.spark:mongo-spark-connector:2.12-3.0.2') \\\n",
    ".getOrCreate()\n",
    "# read data from mongodb collection \"questions\" into a dataframe \"df\"\n",
    "df = spark.read \\\n",
    ".format(\"com.mongodb.spark.sql.DefaultSource\") \\\n",
    ".option(\"uri\", \"mongodb://localhost:27017/twitter\") \\\n",
    ".option(\"database\", \"twitter\") \\\n",
    ".option(\"collection\", \"tweets\") \\\n",
    ".load()\n",
    "df.printSchema()"
   ]
  },
  {
   "cell_type": "code",
   "execution_count": 154,
   "id": "d0b68eb5",
   "metadata": {
    "vscode": {
     "languageId": "python"
    }
   },
   "outputs": [
    {
     "name": "stderr",
     "output_type": "stream",
     "text": [
      "2023-05-14 20:39:32,700 WARN scheduler.DAGScheduler: Broadcasting large task binary with size 1325.3 KiB\n",
      "[Stage 443:>                                                        (0 + 1) / 1]\r"
     ]
    },
    {
     "name": "stdout",
     "output_type": "stream",
     "text": [
      "+--------------------+------------+-----------+--------------------+------------------+--------------------+--------------------+--------------------+--------------+---------+------------+----+-------------------+-------------------+-----------------------+---------------------+-------------------------+-------------------+-----------------------+---------------+----+-----+------------------+-----------+--------------------+-------------------+--------------------+-----------------------+-----------+-------------+---------+--------------------+--------------------+-------------------------------+-------------+---------+--------------------+---------------------+\n",
      "|                 _id|contributors|coordinates|          created_at|display_text_range|            entities|   extended_entities|      extended_tweet|favorite_count|favorited|filter_level| geo|                 id|             id_str|in_reply_to_screen_name|in_reply_to_status_id|in_reply_to_status_id_str|in_reply_to_user_id|in_reply_to_user_id_str|is_quote_status|lang|place|possibly_sensitive|quote_count|       quoted_status|   quoted_status_id|quoted_status_id_str|quoted_status_permalink|reply_count|retweet_count|retweeted|    retweeted_status|              source|                           text| timestamp_ms|truncated|                user|withheld_in_countries|\n",
      "+--------------------+------------+-----------+--------------------+------------------+--------------------+--------------------+--------------------+--------------+---------+------------+----+-------------------+-------------------+-----------------------+---------------------+-------------------------+-------------------+-----------------------+---------------+----+-----+------------------+-----------+--------------------+-------------------+--------------------+-----------------------+-----------+-------------+---------+--------------------+--------------------+-------------------------------+-------------+---------+--------------------+---------------------+\n",
      "|{6457fff2c83a2a16...|        null|       null|Sat Jan 02 02:31:...|              null|{[], null, [], []...|                null|                null|             0|    false|         low|null|1345195937367396352|1345195937367396352|                   null|                 null|                     null|               null|                   null|          false|  en| null|              null|          0|                null|               null|                null|                   null|          0|            0|    false|{null, null, Fri ...|<a href=\"http://t...|           RT @ksorbs: Happy...|1609554678657|    false|{false, Tue Jan 0...|                 null|\n",
      "|{6457fff5c83a2a16...|        null|       null|Sat Jan 02 02:28:...|              null|{[], [{null, null...|{[{null, null, pi...|                null|             0|    false|         low|null|1345195341793153037|1345195341793153037|                   null|                 null|                     null|               null|                   null|          false|  en| null|             false|          0|                null|               null|                null|                   null|          0|            0|    false|{null, null, Fri ...|<a href=\"http://t...|           RT @Raiders: All ...|1609554536661|    false|{false, Tue Jul 2...|                 null|\n",
      "|{6457fff7c83a2a16...|        null|       null|Sat Jan 02 02:41:...|              null|{[], null, [], []...|                null|                null|             0|    false|         low|null|1345198542038724614|1345198542038724614|                   null|                 null|                     null|               null|                   null|           true|  es| null|              null|          0|{null, null, Fri ...|1344999036181499905| 1344999036181499905|   {https://t.co/7uV...|          0|            0|    false|{null, null, Fri ...|<a href=\"http://t...|           RT @hermanntertsc...|1609555299659|    false|{false, Wed Feb 0...|                 null|\n",
      "|{6457fffbc83a2a16...|        null|       null|Sat Jan 02 02:08:...|              null|{[], null, [], [{...|                null|                null|             0|    false|         low|null|1345190145037897728|1345190145037897728|                   null|                 null|                     null|               null|                   null|          false|  it| null|             false|          0|                null|               null|                null|                   null|          0|            0|    false|                null|<a href=\"http://w...|           Dacia Duster 1.5 ...|1609553297658|    false|{false, Tue Jun 0...|                 null|\n",
      "|{6457fffdc83a2a16...|        null|       null|Sat Jan 02 02:03:...|              null|{[], null, [], [{...|                null|                null|             0|    false|         low|null|1345189025162911744|1345189025162911744|                   null|                 null|                     null|               null|                   null|          false|  fr| null|             false|          0|                null|               null|                null|                   null|          0|            0|    false|                null|<a href=\"http://w...|           Toyota Yaris 1.5 ...|1609553030659|    false|{false, Wed Feb 0...|                 null|\n",
      "|{64580001c83a2a16...|        null|       null|Sat Jan 02 02:18:...|              null|{[{BREXIT, [64, 7...|                null|                null|             0|    false|         low|null|1345192649054105606|1345192649054105606|                   null|                 null|                     null|               null|                   null|           true|  fr| null|              null|          0|{null, null, Thu ...|1344790309314691072| 1344790309314691072|   {https://t.co/Gth...|          0|            0|    false|{null, null, Fri ...|<a href=\"http://t...|           RT @UPR_Asselinea...|1609553894662|    false|{false, Sat Apr 0...|                 null|\n",
      "|{64580002c83a2a16...|        null|       null|Sat Jan 02 02:04:...|              null|{[], null, [], [{...|                null|                null|             0|    false|         low|null|1345189075490402309|1345189075490402309|                   null|                 null|                     null|               null|                   null|          false|  fi| null|             false|          0|                null|               null|                null|                   null|          0|            0|    false|                null|<a href=\"http://w...|           Citroën C3 Aircro...|1609553042658|    false|{false, Tue Aug 1...|                 null|\n",
      "|{64580002c83a2a16...|        null|       null|Sat Jan 02 02:04:...|              null|{[], null, [], [{...|                null|                null|             0|    false|         low|null|1345189079697272834|1345189079697272834|                   null|                 null|                     null|               null|                   null|          false|  fi| null|             false|          0|                null|               null|                null|                   null|          0|            0|    false|                null|<a href=\"http://w...|           Peugeot 208 BlueH...|1609553043661|    false|{false, Tue Aug 1...|                 null|\n",
      "|{64580002c83a2a16...|        null|       null|Sat Jan 02 02:04:...|              null|{[], null, [], [{...|                null|                null|             0|    false|         low|null|1345189163604258817|1345189163604258817|                   null|                 null|                     null|               null|                   null|          false|  de| null|             false|          0|                null|               null|                null|                   null|          0|            0|    false|                null|<a href=\"http://w...|           Toyota RAV4 2.5 H...|1609553063666|    false|{false, Tue Jan 0...|                 null|\n",
      "|{64580002c83a2a16...|        null|       null|Sat Jan 02 02:04:...|              null|{[], null, [], [{...|                null|                null|             0|    false|         low|null|1345189171976167426|1345189171976167426|                   null|                 null|                     null|               null|                   null|          false|  it| null|             false|          0|                null|               null|                null|                   null|          0|            0|    false|                null|<a href=\"http://w...|           FIAT Punto Punto ...|1609553065662|    false|{false, Tue Jan 0...|                 null|\n",
      "|{64580002c83a2a16...|        null|       null|Sat Jan 02 02:04:...|           [0, 28]|{[], [{null, null...|{[{null, null, pi...|                null|             0|    false|         low|null|1345189281023680515|1345189281023680515|                   null|                 null|                     null|               null|                   null|          false|  ja| null|             false|          0|                null|               null|                null|                   null|          0|            0|    false|                null|<a href=\"http://t...|これは親切♪\\n評価出来る！👍\\...|1609553091661|    false|{false, Sat Jun 1...|                 null|\n",
      "|{64580007c83a2a16...|        null|       null|Sat Jan 02 02:12:...|              null|{[], null, [], [{...|                null|{[0, 276], {[], n...|             0|    false|         low|null|1345191206209396739|1345191206209396739|            TheXaviWay_|  1345190663630057472|      1345190663630057472|1310994432389455874|    1310994432389455874|          false|  fr| null|              null|          0|                null|               null|                null|                   null|          0|            0|    false|                null|<a href=\"http://t...|           On rappelle que F...|1609553550661|     true|{false, Tue Sep 2...|                 null|\n",
      "|{64580008c83a2a16...|        null|       null|Sat Jan 02 02:42:...|              null|{[], null, [], [{...|                null|                null|             0|    false|         low|null|1345198726596481024|1345198726596481024|           Liberty1Jami|  1345194376864165889|      1345194376864165889|1157688381532450822|    1157688381532450822|          false| und| null|              true|          0|                null|               null|                null|                   null|          0|            0|    false|                null|<a href=\"https://...|           https://t.co/0v9G...|1609555343661|    false|{false, Sat Aug 0...|                 null|\n",
      "|{6458000ac83a2a16...|        null|       null|Sat Jan 02 02:51:...|         [52, 140]|{[], null, [], [{...|                null|{[52, 297], {[], ...|             0|    false|         low|null|1345201025079255049|1345201025079255049|               SPeitsch|  1345199850225332224|      1345199850225332224|           32677335|               32677335|          false|  en| null|             false|          0|                null|               null|                null|                   null|          0|            0|    false|                null|<a href=\"https://...|           @SPeitsch @tqwhit...|1609555891662|     true|{false, Fri May 1...|                 null|\n",
      "|{6458000ac83a2a16...|        null|       null|Sat Jan 02 02:51:...|              null|{[], null, [], [{...|                null|                null|             0|    false|         low|null|1345201041864876032|1345201041864876032|                   null|                 null|                     null|               null|                   null|          false|  fr| null|             false|          0|                null|               null|                null|                   null|          0|            0|    false|                null|<a href=\"http://w...|           Peugeot 308 SW 1....|1609555895664|    false|{false, Tue Nov 0...|                 null|\n",
      "|{6458000ec83a2a16...|        null|       null|Sat Jan 02 02:27:...|              null|{[], null, [], []...|                null|                null|             0|    false|         low|null|1345194989463040001|1345194989463040001|                   null|                 null|                     null|               null|                   null|           true|  in| null|              null|          0|{null, null, Sat ...|1345174850705375233| 1345174850705375233|   {https://t.co/Efq...|          0|            0|    false|                null|<a href=\"http://t...|           Si gosok voucher,...|1609554452659|    false|{false, Mon Aug 0...|                 null|\n",
      "|{6458000fc83a2a16...|        null|       null|Sat Jan 02 02:06:...|              null|{[], [{null, null...|{[{null, null, pi...|                null|             0|    false|         low|null|1345189813704663040|1345189813704663040|                   null|                 null|                     null|               null|                   null|          false|  en| null|             false|          0|                null|               null|                null|                   null|          0|            0|    false|{null, null, Sat ...|<a href=\"http://t...|           RT @HoneyNutCheli...|1609553218662|    false|{false, Mon Jul 0...|                 null|\n",
      "|{64580011c83a2a16...|        null|       null|Sat Jan 02 02:10:...|              null|{[], null, [], [{...|                null|{[0, 275], {[], n...|             0|    false|         low|null|1345190824544514048|1345190824544514048|                   null|                 null|                     null|               null|                   null|           true|  pt| null|              null|          0|{null, null, Fri ...|1345118770155696129| 1345118770155696129|   {https://t.co/vYn...|          0|            0|    false|                null|<a href=\"http://t...|           Faça suas previsõ...|1609553459665|     true|{false, Tue Mar 0...|                 null|\n",
      "|{64580015c83a2a16...|        null|       null|Sat Jan 02 02:29:...|              null|{[], [{null, null...|{[{null, null, pi...|                null|             0|    false|         low|null|1345195442464808960|1345195442464808960|                   null|                 null|                     null|               null|                   null|          false|  es| null|             false|          0|                null|               null|                null|                   null|          0|            0|    false|{null, null, Fri ...|<a href=\"http://t...|           RT @danidegiovann...|1609554560663|    false|{false, Wed Nov 3...|                 null|\n",
      "|{64580019c83a2a16...|        null|       null|Fri Jan 01 14:31:...|              null|{[], null, [], []...|                null|                null|             0|    false|         low|null|1345014911219490816|1345014911219490816|                   null|                 null|                     null|               null|                   null|          false|  de| null|              null|          0|                null|               null|                null|                   null|          0|            0|    false|{null, null, Fri ...|<a href=\"http://t...|           RT @hannovergenus...|1609511518660|    false|{false, Sun Dec 2...|                 null|\n",
      "+--------------------+------------+-----------+--------------------+------------------+--------------------+--------------------+--------------------+--------------+---------+------------+----+-------------------+-------------------+-----------------------+---------------------+-------------------------+-------------------+-----------------------+---------------+----+-----+------------------+-----------+--------------------+-------------------+--------------------+-----------------------+-----------+-------------+---------+--------------------+--------------------+-------------------------------+-------------+---------+--------------------+---------------------+\n",
      "only showing top 20 rows\n",
      "\n"
     ]
    },
    {
     "name": "stderr",
     "output_type": "stream",
     "text": [
      "                                                                                \r"
     ]
    }
   ],
   "source": [
    "df.show()"
   ]
  },
  {
   "attachments": {},
   "cell_type": "markdown",
   "id": "404e0b94",
   "metadata": {},
   "source": [
    "Create a spark object of the tweets held in the mongo db \n",
    "\n",
    "It is easier to use SQL statements and Pyspark to clean the data rather than writing queries in MongoDB"
   ]
  },
  {
   "cell_type": "code",
   "execution_count": 155,
   "id": "330eb426",
   "metadata": {
    "vscode": {
     "languageId": "python"
    }
   },
   "outputs": [],
   "source": [
    "df.createOrReplaceTempView(\"tweets\")"
   ]
  },
  {
   "attachments": {},
   "cell_type": "markdown",
   "id": "3ffce3ac",
   "metadata": {},
   "source": [
    "How many tweets in the DB all together"
   ]
  },
  {
   "cell_type": "code",
   "execution_count": 156,
   "id": "9cba51bf",
   "metadata": {
    "vscode": {
     "languageId": "python"
    }
   },
   "outputs": [
    {
     "name": "stderr",
     "output_type": "stream",
     "text": [
      "                                                                                \r"
     ]
    },
    {
     "data": {
      "text/plain": [
       "825219"
      ]
     },
     "execution_count": 156,
     "metadata": {},
     "output_type": "execute_result"
    }
   ],
   "source": [
    "df = spark.sql(\"SELECT DISTINCT id FROM tweets\")\n",
    "df.count()"
   ]
  },
  {
   "attachments": {},
   "cell_type": "markdown",
   "id": "55a62139",
   "metadata": {},
   "source": [
    "How many tweets by language \n"
   ]
  },
  {
   "cell_type": "code",
   "execution_count": 157,
   "id": "4d9015ec",
   "metadata": {
    "vscode": {
     "languageId": "python"
    }
   },
   "outputs": [
    {
     "name": "stderr",
     "output_type": "stream",
     "text": [
      "[Stage 450:======================================================>(72 + 1) / 73]\r"
     ]
    },
    {
     "name": "stdout",
     "output_type": "stream",
     "text": [
      "+----+----------+\n",
      "|lang|TweetCount|\n",
      "+----+----------+\n",
      "|  en|    256216|\n",
      "|  es|    122069|\n",
      "|  it|     75037|\n",
      "|  tr|     72788|\n",
      "|  fr|     69589|\n",
      "|  de|     61316|\n",
      "|  nl|     37689|\n",
      "| und|     30173|\n",
      "|  pt|     29393|\n",
      "|  pl|     18116|\n",
      "+----+----------+\n",
      "\n"
     ]
    },
    {
     "name": "stderr",
     "output_type": "stream",
     "text": [
      "                                                                                \r"
     ]
    }
   ],
   "source": [
    "#pip install plotly\n",
    "import pyspark.pandas as ps\n",
    "import plotly\n",
    "dfLang = spark.sql(\"SELECT DISTINCT lang, CAST(count(id) AS INT) as TweetCount FROM tweets GROUP BY lang \\\n",
    "                   ORDER BY TweetCount DESC LIMIT 10\")\n",
    "dfLang.show()"
   ]
  },
  {
   "cell_type": "code",
   "execution_count": 158,
   "id": "35e9e016",
   "metadata": {
    "vscode": {
     "languageId": "python"
    }
   },
   "outputs": [
    {
     "name": "stderr",
     "output_type": "stream",
     "text": [
      "2023-05-14 20:39:41,418 WARN window.WindowExec: No Partition Defined for Window operation! Moving all data to a single partition, this can cause serious performance degradation.\n",
      "2023-05-14 20:39:41,419 WARN window.WindowExec: No Partition Defined for Window operation! Moving all data to a single partition, this can cause serious performance degradation.\n",
      "2023-05-14 20:39:44,226 WARN window.WindowExec: No Partition Defined for Window operation! Moving all data to a single partition, this can cause serious performance degradation.\n",
      "2023-05-14 20:39:44,227 WARN window.WindowExec: No Partition Defined for Window operation! Moving all data to a single partition, this can cause serious performance degradation.\n",
      "                                                                                \r"
     ]
    },
    {
     "data": {
      "application/vnd.plotly.v1+json": {
       "config": {
        "plotlyServerURL": "https://plot.ly"
       },
       "data": [
        {
         "alignmentgroup": "True",
         "hovertemplate": "lang=%{x}<br>TweetCount=%{y}<extra></extra>",
         "legendgroup": "",
         "marker": {
          "color": "#636efa",
          "pattern": {
           "shape": ""
          }
         },
         "name": "",
         "offsetgroup": "",
         "orientation": "v",
         "showlegend": false,
         "textposition": "auto",
         "type": "bar",
         "x": [
          "en",
          "es",
          "it",
          "tr",
          "fr",
          "de",
          "nl",
          "und",
          "pt",
          "pl"
         ],
         "xaxis": "x",
         "y": [
          256216,
          122069,
          75037,
          72788,
          69589,
          61316,
          37689,
          30173,
          29393,
          18116
         ],
         "yaxis": "y"
        }
       ],
       "layout": {
        "barmode": "relative",
        "legend": {
         "tracegroupgap": 0
        },
        "margin": {
         "t": 60
        },
        "template": {
         "data": {
          "bar": [
           {
            "error_x": {
             "color": "#2a3f5f"
            },
            "error_y": {
             "color": "#2a3f5f"
            },
            "marker": {
             "line": {
              "color": "#E5ECF6",
              "width": 0.5
             },
             "pattern": {
              "fillmode": "overlay",
              "size": 10,
              "solidity": 0.2
             }
            },
            "type": "bar"
           }
          ],
          "barpolar": [
           {
            "marker": {
             "line": {
              "color": "#E5ECF6",
              "width": 0.5
             },
             "pattern": {
              "fillmode": "overlay",
              "size": 10,
              "solidity": 0.2
             }
            },
            "type": "barpolar"
           }
          ],
          "carpet": [
           {
            "aaxis": {
             "endlinecolor": "#2a3f5f",
             "gridcolor": "white",
             "linecolor": "white",
             "minorgridcolor": "white",
             "startlinecolor": "#2a3f5f"
            },
            "baxis": {
             "endlinecolor": "#2a3f5f",
             "gridcolor": "white",
             "linecolor": "white",
             "minorgridcolor": "white",
             "startlinecolor": "#2a3f5f"
            },
            "type": "carpet"
           }
          ],
          "choropleth": [
           {
            "colorbar": {
             "outlinewidth": 0,
             "ticks": ""
            },
            "type": "choropleth"
           }
          ],
          "contour": [
           {
            "colorbar": {
             "outlinewidth": 0,
             "ticks": ""
            },
            "colorscale": [
             [
              0,
              "#0d0887"
             ],
             [
              0.1111111111111111,
              "#46039f"
             ],
             [
              0.2222222222222222,
              "#7201a8"
             ],
             [
              0.3333333333333333,
              "#9c179e"
             ],
             [
              0.4444444444444444,
              "#bd3786"
             ],
             [
              0.5555555555555556,
              "#d8576b"
             ],
             [
              0.6666666666666666,
              "#ed7953"
             ],
             [
              0.7777777777777778,
              "#fb9f3a"
             ],
             [
              0.8888888888888888,
              "#fdca26"
             ],
             [
              1,
              "#f0f921"
             ]
            ],
            "type": "contour"
           }
          ],
          "contourcarpet": [
           {
            "colorbar": {
             "outlinewidth": 0,
             "ticks": ""
            },
            "type": "contourcarpet"
           }
          ],
          "heatmap": [
           {
            "colorbar": {
             "outlinewidth": 0,
             "ticks": ""
            },
            "colorscale": [
             [
              0,
              "#0d0887"
             ],
             [
              0.1111111111111111,
              "#46039f"
             ],
             [
              0.2222222222222222,
              "#7201a8"
             ],
             [
              0.3333333333333333,
              "#9c179e"
             ],
             [
              0.4444444444444444,
              "#bd3786"
             ],
             [
              0.5555555555555556,
              "#d8576b"
             ],
             [
              0.6666666666666666,
              "#ed7953"
             ],
             [
              0.7777777777777778,
              "#fb9f3a"
             ],
             [
              0.8888888888888888,
              "#fdca26"
             ],
             [
              1,
              "#f0f921"
             ]
            ],
            "type": "heatmap"
           }
          ],
          "heatmapgl": [
           {
            "colorbar": {
             "outlinewidth": 0,
             "ticks": ""
            },
            "colorscale": [
             [
              0,
              "#0d0887"
             ],
             [
              0.1111111111111111,
              "#46039f"
             ],
             [
              0.2222222222222222,
              "#7201a8"
             ],
             [
              0.3333333333333333,
              "#9c179e"
             ],
             [
              0.4444444444444444,
              "#bd3786"
             ],
             [
              0.5555555555555556,
              "#d8576b"
             ],
             [
              0.6666666666666666,
              "#ed7953"
             ],
             [
              0.7777777777777778,
              "#fb9f3a"
             ],
             [
              0.8888888888888888,
              "#fdca26"
             ],
             [
              1,
              "#f0f921"
             ]
            ],
            "type": "heatmapgl"
           }
          ],
          "histogram": [
           {
            "marker": {
             "pattern": {
              "fillmode": "overlay",
              "size": 10,
              "solidity": 0.2
             }
            },
            "type": "histogram"
           }
          ],
          "histogram2d": [
           {
            "colorbar": {
             "outlinewidth": 0,
             "ticks": ""
            },
            "colorscale": [
             [
              0,
              "#0d0887"
             ],
             [
              0.1111111111111111,
              "#46039f"
             ],
             [
              0.2222222222222222,
              "#7201a8"
             ],
             [
              0.3333333333333333,
              "#9c179e"
             ],
             [
              0.4444444444444444,
              "#bd3786"
             ],
             [
              0.5555555555555556,
              "#d8576b"
             ],
             [
              0.6666666666666666,
              "#ed7953"
             ],
             [
              0.7777777777777778,
              "#fb9f3a"
             ],
             [
              0.8888888888888888,
              "#fdca26"
             ],
             [
              1,
              "#f0f921"
             ]
            ],
            "type": "histogram2d"
           }
          ],
          "histogram2dcontour": [
           {
            "colorbar": {
             "outlinewidth": 0,
             "ticks": ""
            },
            "colorscale": [
             [
              0,
              "#0d0887"
             ],
             [
              0.1111111111111111,
              "#46039f"
             ],
             [
              0.2222222222222222,
              "#7201a8"
             ],
             [
              0.3333333333333333,
              "#9c179e"
             ],
             [
              0.4444444444444444,
              "#bd3786"
             ],
             [
              0.5555555555555556,
              "#d8576b"
             ],
             [
              0.6666666666666666,
              "#ed7953"
             ],
             [
              0.7777777777777778,
              "#fb9f3a"
             ],
             [
              0.8888888888888888,
              "#fdca26"
             ],
             [
              1,
              "#f0f921"
             ]
            ],
            "type": "histogram2dcontour"
           }
          ],
          "mesh3d": [
           {
            "colorbar": {
             "outlinewidth": 0,
             "ticks": ""
            },
            "type": "mesh3d"
           }
          ],
          "parcoords": [
           {
            "line": {
             "colorbar": {
              "outlinewidth": 0,
              "ticks": ""
             }
            },
            "type": "parcoords"
           }
          ],
          "pie": [
           {
            "automargin": true,
            "type": "pie"
           }
          ],
          "scatter": [
           {
            "fillpattern": {
             "fillmode": "overlay",
             "size": 10,
             "solidity": 0.2
            },
            "type": "scatter"
           }
          ],
          "scatter3d": [
           {
            "line": {
             "colorbar": {
              "outlinewidth": 0,
              "ticks": ""
             }
            },
            "marker": {
             "colorbar": {
              "outlinewidth": 0,
              "ticks": ""
             }
            },
            "type": "scatter3d"
           }
          ],
          "scattercarpet": [
           {
            "marker": {
             "colorbar": {
              "outlinewidth": 0,
              "ticks": ""
             }
            },
            "type": "scattercarpet"
           }
          ],
          "scattergeo": [
           {
            "marker": {
             "colorbar": {
              "outlinewidth": 0,
              "ticks": ""
             }
            },
            "type": "scattergeo"
           }
          ],
          "scattergl": [
           {
            "marker": {
             "colorbar": {
              "outlinewidth": 0,
              "ticks": ""
             }
            },
            "type": "scattergl"
           }
          ],
          "scattermapbox": [
           {
            "marker": {
             "colorbar": {
              "outlinewidth": 0,
              "ticks": ""
             }
            },
            "type": "scattermapbox"
           }
          ],
          "scatterpolar": [
           {
            "marker": {
             "colorbar": {
              "outlinewidth": 0,
              "ticks": ""
             }
            },
            "type": "scatterpolar"
           }
          ],
          "scatterpolargl": [
           {
            "marker": {
             "colorbar": {
              "outlinewidth": 0,
              "ticks": ""
             }
            },
            "type": "scatterpolargl"
           }
          ],
          "scatterternary": [
           {
            "marker": {
             "colorbar": {
              "outlinewidth": 0,
              "ticks": ""
             }
            },
            "type": "scatterternary"
           }
          ],
          "surface": [
           {
            "colorbar": {
             "outlinewidth": 0,
             "ticks": ""
            },
            "colorscale": [
             [
              0,
              "#0d0887"
             ],
             [
              0.1111111111111111,
              "#46039f"
             ],
             [
              0.2222222222222222,
              "#7201a8"
             ],
             [
              0.3333333333333333,
              "#9c179e"
             ],
             [
              0.4444444444444444,
              "#bd3786"
             ],
             [
              0.5555555555555556,
              "#d8576b"
             ],
             [
              0.6666666666666666,
              "#ed7953"
             ],
             [
              0.7777777777777778,
              "#fb9f3a"
             ],
             [
              0.8888888888888888,
              "#fdca26"
             ],
             [
              1,
              "#f0f921"
             ]
            ],
            "type": "surface"
           }
          ],
          "table": [
           {
            "cells": {
             "fill": {
              "color": "#EBF0F8"
             },
             "line": {
              "color": "white"
             }
            },
            "header": {
             "fill": {
              "color": "#C8D4E3"
             },
             "line": {
              "color": "white"
             }
            },
            "type": "table"
           }
          ]
         },
         "layout": {
          "annotationdefaults": {
           "arrowcolor": "#2a3f5f",
           "arrowhead": 0,
           "arrowwidth": 1
          },
          "autotypenumbers": "strict",
          "coloraxis": {
           "colorbar": {
            "outlinewidth": 0,
            "ticks": ""
           }
          },
          "colorscale": {
           "diverging": [
            [
             0,
             "#8e0152"
            ],
            [
             0.1,
             "#c51b7d"
            ],
            [
             0.2,
             "#de77ae"
            ],
            [
             0.3,
             "#f1b6da"
            ],
            [
             0.4,
             "#fde0ef"
            ],
            [
             0.5,
             "#f7f7f7"
            ],
            [
             0.6,
             "#e6f5d0"
            ],
            [
             0.7,
             "#b8e186"
            ],
            [
             0.8,
             "#7fbc41"
            ],
            [
             0.9,
             "#4d9221"
            ],
            [
             1,
             "#276419"
            ]
           ],
           "sequential": [
            [
             0,
             "#0d0887"
            ],
            [
             0.1111111111111111,
             "#46039f"
            ],
            [
             0.2222222222222222,
             "#7201a8"
            ],
            [
             0.3333333333333333,
             "#9c179e"
            ],
            [
             0.4444444444444444,
             "#bd3786"
            ],
            [
             0.5555555555555556,
             "#d8576b"
            ],
            [
             0.6666666666666666,
             "#ed7953"
            ],
            [
             0.7777777777777778,
             "#fb9f3a"
            ],
            [
             0.8888888888888888,
             "#fdca26"
            ],
            [
             1,
             "#f0f921"
            ]
           ],
           "sequentialminus": [
            [
             0,
             "#0d0887"
            ],
            [
             0.1111111111111111,
             "#46039f"
            ],
            [
             0.2222222222222222,
             "#7201a8"
            ],
            [
             0.3333333333333333,
             "#9c179e"
            ],
            [
             0.4444444444444444,
             "#bd3786"
            ],
            [
             0.5555555555555556,
             "#d8576b"
            ],
            [
             0.6666666666666666,
             "#ed7953"
            ],
            [
             0.7777777777777778,
             "#fb9f3a"
            ],
            [
             0.8888888888888888,
             "#fdca26"
            ],
            [
             1,
             "#f0f921"
            ]
           ]
          },
          "colorway": [
           "#636efa",
           "#EF553B",
           "#00cc96",
           "#ab63fa",
           "#FFA15A",
           "#19d3f3",
           "#FF6692",
           "#B6E880",
           "#FF97FF",
           "#FECB52"
          ],
          "font": {
           "color": "#2a3f5f"
          },
          "geo": {
           "bgcolor": "white",
           "lakecolor": "white",
           "landcolor": "#E5ECF6",
           "showlakes": true,
           "showland": true,
           "subunitcolor": "white"
          },
          "hoverlabel": {
           "align": "left"
          },
          "hovermode": "closest",
          "mapbox": {
           "style": "light"
          },
          "paper_bgcolor": "white",
          "plot_bgcolor": "#E5ECF6",
          "polar": {
           "angularaxis": {
            "gridcolor": "white",
            "linecolor": "white",
            "ticks": ""
           },
           "bgcolor": "#E5ECF6",
           "radialaxis": {
            "gridcolor": "white",
            "linecolor": "white",
            "ticks": ""
           }
          },
          "scene": {
           "xaxis": {
            "backgroundcolor": "#E5ECF6",
            "gridcolor": "white",
            "gridwidth": 2,
            "linecolor": "white",
            "showbackground": true,
            "ticks": "",
            "zerolinecolor": "white"
           },
           "yaxis": {
            "backgroundcolor": "#E5ECF6",
            "gridcolor": "white",
            "gridwidth": 2,
            "linecolor": "white",
            "showbackground": true,
            "ticks": "",
            "zerolinecolor": "white"
           },
           "zaxis": {
            "backgroundcolor": "#E5ECF6",
            "gridcolor": "white",
            "gridwidth": 2,
            "linecolor": "white",
            "showbackground": true,
            "ticks": "",
            "zerolinecolor": "white"
           }
          },
          "shapedefaults": {
           "line": {
            "color": "#2a3f5f"
           }
          },
          "ternary": {
           "aaxis": {
            "gridcolor": "white",
            "linecolor": "white",
            "ticks": ""
           },
           "baxis": {
            "gridcolor": "white",
            "linecolor": "white",
            "ticks": ""
           },
           "bgcolor": "#E5ECF6",
           "caxis": {
            "gridcolor": "white",
            "linecolor": "white",
            "ticks": ""
           }
          },
          "title": {
           "x": 0.05
          },
          "xaxis": {
           "automargin": true,
           "gridcolor": "white",
           "linecolor": "white",
           "ticks": "",
           "title": {
            "standoff": 15
           },
           "zerolinecolor": "white",
           "zerolinewidth": 2
          },
          "yaxis": {
           "automargin": true,
           "gridcolor": "white",
           "linecolor": "white",
           "ticks": "",
           "title": {
            "standoff": 15
           },
           "zerolinecolor": "white",
           "zerolinewidth": 2
          }
         }
        },
        "xaxis": {
         "anchor": "y",
         "domain": [
          0,
          1
         ],
         "title": {
          "text": "lang"
         }
        },
        "yaxis": {
         "anchor": "x",
         "domain": [
          0,
          1
         ],
         "title": {
          "text": "TweetCount"
         }
        }
       }
      },
      "text/html": [
       "<div>                            <div id=\"1878f46a-87a8-4ab5-b3e0-cc00e2719e1c\" class=\"plotly-graph-div\" style=\"height:525px; width:100%;\"></div>            <script type=\"text/javascript\">                require([\"plotly\"], function(Plotly) {                    window.PLOTLYENV=window.PLOTLYENV || {};                                    if (document.getElementById(\"1878f46a-87a8-4ab5-b3e0-cc00e2719e1c\")) {                    Plotly.newPlot(                        \"1878f46a-87a8-4ab5-b3e0-cc00e2719e1c\",                        [{\"alignmentgroup\":\"True\",\"hovertemplate\":\"lang=%{x}<br>TweetCount=%{y}<extra></extra>\",\"legendgroup\":\"\",\"marker\":{\"color\":\"#636efa\",\"pattern\":{\"shape\":\"\"}},\"name\":\"\",\"offsetgroup\":\"\",\"orientation\":\"v\",\"showlegend\":false,\"textposition\":\"auto\",\"x\":[\"en\",\"es\",\"it\",\"tr\",\"fr\",\"de\",\"nl\",\"und\",\"pt\",\"pl\"],\"xaxis\":\"x\",\"y\":[256216,122069,75037,72788,69589,61316,37689,30173,29393,18116],\"yaxis\":\"y\",\"type\":\"bar\"}],                        {\"template\":{\"data\":{\"histogram2dcontour\":[{\"type\":\"histogram2dcontour\",\"colorbar\":{\"outlinewidth\":0,\"ticks\":\"\"},\"colorscale\":[[0.0,\"#0d0887\"],[0.1111111111111111,\"#46039f\"],[0.2222222222222222,\"#7201a8\"],[0.3333333333333333,\"#9c179e\"],[0.4444444444444444,\"#bd3786\"],[0.5555555555555556,\"#d8576b\"],[0.6666666666666666,\"#ed7953\"],[0.7777777777777778,\"#fb9f3a\"],[0.8888888888888888,\"#fdca26\"],[1.0,\"#f0f921\"]]}],\"choropleth\":[{\"type\":\"choropleth\",\"colorbar\":{\"outlinewidth\":0,\"ticks\":\"\"}}],\"histogram2d\":[{\"type\":\"histogram2d\",\"colorbar\":{\"outlinewidth\":0,\"ticks\":\"\"},\"colorscale\":[[0.0,\"#0d0887\"],[0.1111111111111111,\"#46039f\"],[0.2222222222222222,\"#7201a8\"],[0.3333333333333333,\"#9c179e\"],[0.4444444444444444,\"#bd3786\"],[0.5555555555555556,\"#d8576b\"],[0.6666666666666666,\"#ed7953\"],[0.7777777777777778,\"#fb9f3a\"],[0.8888888888888888,\"#fdca26\"],[1.0,\"#f0f921\"]]}],\"heatmap\":[{\"type\":\"heatmap\",\"colorbar\":{\"outlinewidth\":0,\"ticks\":\"\"},\"colorscale\":[[0.0,\"#0d0887\"],[0.1111111111111111,\"#46039f\"],[0.2222222222222222,\"#7201a8\"],[0.3333333333333333,\"#9c179e\"],[0.4444444444444444,\"#bd3786\"],[0.5555555555555556,\"#d8576b\"],[0.6666666666666666,\"#ed7953\"],[0.7777777777777778,\"#fb9f3a\"],[0.8888888888888888,\"#fdca26\"],[1.0,\"#f0f921\"]]}],\"heatmapgl\":[{\"type\":\"heatmapgl\",\"colorbar\":{\"outlinewidth\":0,\"ticks\":\"\"},\"colorscale\":[[0.0,\"#0d0887\"],[0.1111111111111111,\"#46039f\"],[0.2222222222222222,\"#7201a8\"],[0.3333333333333333,\"#9c179e\"],[0.4444444444444444,\"#bd3786\"],[0.5555555555555556,\"#d8576b\"],[0.6666666666666666,\"#ed7953\"],[0.7777777777777778,\"#fb9f3a\"],[0.8888888888888888,\"#fdca26\"],[1.0,\"#f0f921\"]]}],\"contourcarpet\":[{\"type\":\"contourcarpet\",\"colorbar\":{\"outlinewidth\":0,\"ticks\":\"\"}}],\"contour\":[{\"type\":\"contour\",\"colorbar\":{\"outlinewidth\":0,\"ticks\":\"\"},\"colorscale\":[[0.0,\"#0d0887\"],[0.1111111111111111,\"#46039f\"],[0.2222222222222222,\"#7201a8\"],[0.3333333333333333,\"#9c179e\"],[0.4444444444444444,\"#bd3786\"],[0.5555555555555556,\"#d8576b\"],[0.6666666666666666,\"#ed7953\"],[0.7777777777777778,\"#fb9f3a\"],[0.8888888888888888,\"#fdca26\"],[1.0,\"#f0f921\"]]}],\"surface\":[{\"type\":\"surface\",\"colorbar\":{\"outlinewidth\":0,\"ticks\":\"\"},\"colorscale\":[[0.0,\"#0d0887\"],[0.1111111111111111,\"#46039f\"],[0.2222222222222222,\"#7201a8\"],[0.3333333333333333,\"#9c179e\"],[0.4444444444444444,\"#bd3786\"],[0.5555555555555556,\"#d8576b\"],[0.6666666666666666,\"#ed7953\"],[0.7777777777777778,\"#fb9f3a\"],[0.8888888888888888,\"#fdca26\"],[1.0,\"#f0f921\"]]}],\"mesh3d\":[{\"type\":\"mesh3d\",\"colorbar\":{\"outlinewidth\":0,\"ticks\":\"\"}}],\"scatter\":[{\"fillpattern\":{\"fillmode\":\"overlay\",\"size\":10,\"solidity\":0.2},\"type\":\"scatter\"}],\"parcoords\":[{\"type\":\"parcoords\",\"line\":{\"colorbar\":{\"outlinewidth\":0,\"ticks\":\"\"}}}],\"scatterpolargl\":[{\"type\":\"scatterpolargl\",\"marker\":{\"colorbar\":{\"outlinewidth\":0,\"ticks\":\"\"}}}],\"bar\":[{\"error_x\":{\"color\":\"#2a3f5f\"},\"error_y\":{\"color\":\"#2a3f5f\"},\"marker\":{\"line\":{\"color\":\"#E5ECF6\",\"width\":0.5},\"pattern\":{\"fillmode\":\"overlay\",\"size\":10,\"solidity\":0.2}},\"type\":\"bar\"}],\"scattergeo\":[{\"type\":\"scattergeo\",\"marker\":{\"colorbar\":{\"outlinewidth\":0,\"ticks\":\"\"}}}],\"scatterpolar\":[{\"type\":\"scatterpolar\",\"marker\":{\"colorbar\":{\"outlinewidth\":0,\"ticks\":\"\"}}}],\"histogram\":[{\"marker\":{\"pattern\":{\"fillmode\":\"overlay\",\"size\":10,\"solidity\":0.2}},\"type\":\"histogram\"}],\"scattergl\":[{\"type\":\"scattergl\",\"marker\":{\"colorbar\":{\"outlinewidth\":0,\"ticks\":\"\"}}}],\"scatter3d\":[{\"type\":\"scatter3d\",\"line\":{\"colorbar\":{\"outlinewidth\":0,\"ticks\":\"\"}},\"marker\":{\"colorbar\":{\"outlinewidth\":0,\"ticks\":\"\"}}}],\"scattermapbox\":[{\"type\":\"scattermapbox\",\"marker\":{\"colorbar\":{\"outlinewidth\":0,\"ticks\":\"\"}}}],\"scatterternary\":[{\"type\":\"scatterternary\",\"marker\":{\"colorbar\":{\"outlinewidth\":0,\"ticks\":\"\"}}}],\"scattercarpet\":[{\"type\":\"scattercarpet\",\"marker\":{\"colorbar\":{\"outlinewidth\":0,\"ticks\":\"\"}}}],\"carpet\":[{\"aaxis\":{\"endlinecolor\":\"#2a3f5f\",\"gridcolor\":\"white\",\"linecolor\":\"white\",\"minorgridcolor\":\"white\",\"startlinecolor\":\"#2a3f5f\"},\"baxis\":{\"endlinecolor\":\"#2a3f5f\",\"gridcolor\":\"white\",\"linecolor\":\"white\",\"minorgridcolor\":\"white\",\"startlinecolor\":\"#2a3f5f\"},\"type\":\"carpet\"}],\"table\":[{\"cells\":{\"fill\":{\"color\":\"#EBF0F8\"},\"line\":{\"color\":\"white\"}},\"header\":{\"fill\":{\"color\":\"#C8D4E3\"},\"line\":{\"color\":\"white\"}},\"type\":\"table\"}],\"barpolar\":[{\"marker\":{\"line\":{\"color\":\"#E5ECF6\",\"width\":0.5},\"pattern\":{\"fillmode\":\"overlay\",\"size\":10,\"solidity\":0.2}},\"type\":\"barpolar\"}],\"pie\":[{\"automargin\":true,\"type\":\"pie\"}]},\"layout\":{\"autotypenumbers\":\"strict\",\"colorway\":[\"#636efa\",\"#EF553B\",\"#00cc96\",\"#ab63fa\",\"#FFA15A\",\"#19d3f3\",\"#FF6692\",\"#B6E880\",\"#FF97FF\",\"#FECB52\"],\"font\":{\"color\":\"#2a3f5f\"},\"hovermode\":\"closest\",\"hoverlabel\":{\"align\":\"left\"},\"paper_bgcolor\":\"white\",\"plot_bgcolor\":\"#E5ECF6\",\"polar\":{\"bgcolor\":\"#E5ECF6\",\"angularaxis\":{\"gridcolor\":\"white\",\"linecolor\":\"white\",\"ticks\":\"\"},\"radialaxis\":{\"gridcolor\":\"white\",\"linecolor\":\"white\",\"ticks\":\"\"}},\"ternary\":{\"bgcolor\":\"#E5ECF6\",\"aaxis\":{\"gridcolor\":\"white\",\"linecolor\":\"white\",\"ticks\":\"\"},\"baxis\":{\"gridcolor\":\"white\",\"linecolor\":\"white\",\"ticks\":\"\"},\"caxis\":{\"gridcolor\":\"white\",\"linecolor\":\"white\",\"ticks\":\"\"}},\"coloraxis\":{\"colorbar\":{\"outlinewidth\":0,\"ticks\":\"\"}},\"colorscale\":{\"sequential\":[[0.0,\"#0d0887\"],[0.1111111111111111,\"#46039f\"],[0.2222222222222222,\"#7201a8\"],[0.3333333333333333,\"#9c179e\"],[0.4444444444444444,\"#bd3786\"],[0.5555555555555556,\"#d8576b\"],[0.6666666666666666,\"#ed7953\"],[0.7777777777777778,\"#fb9f3a\"],[0.8888888888888888,\"#fdca26\"],[1.0,\"#f0f921\"]],\"sequentialminus\":[[0.0,\"#0d0887\"],[0.1111111111111111,\"#46039f\"],[0.2222222222222222,\"#7201a8\"],[0.3333333333333333,\"#9c179e\"],[0.4444444444444444,\"#bd3786\"],[0.5555555555555556,\"#d8576b\"],[0.6666666666666666,\"#ed7953\"],[0.7777777777777778,\"#fb9f3a\"],[0.8888888888888888,\"#fdca26\"],[1.0,\"#f0f921\"]],\"diverging\":[[0,\"#8e0152\"],[0.1,\"#c51b7d\"],[0.2,\"#de77ae\"],[0.3,\"#f1b6da\"],[0.4,\"#fde0ef\"],[0.5,\"#f7f7f7\"],[0.6,\"#e6f5d0\"],[0.7,\"#b8e186\"],[0.8,\"#7fbc41\"],[0.9,\"#4d9221\"],[1,\"#276419\"]]},\"xaxis\":{\"gridcolor\":\"white\",\"linecolor\":\"white\",\"ticks\":\"\",\"title\":{\"standoff\":15},\"zerolinecolor\":\"white\",\"automargin\":true,\"zerolinewidth\":2},\"yaxis\":{\"gridcolor\":\"white\",\"linecolor\":\"white\",\"ticks\":\"\",\"title\":{\"standoff\":15},\"zerolinecolor\":\"white\",\"automargin\":true,\"zerolinewidth\":2},\"scene\":{\"xaxis\":{\"backgroundcolor\":\"#E5ECF6\",\"gridcolor\":\"white\",\"linecolor\":\"white\",\"showbackground\":true,\"ticks\":\"\",\"zerolinecolor\":\"white\",\"gridwidth\":2},\"yaxis\":{\"backgroundcolor\":\"#E5ECF6\",\"gridcolor\":\"white\",\"linecolor\":\"white\",\"showbackground\":true,\"ticks\":\"\",\"zerolinecolor\":\"white\",\"gridwidth\":2},\"zaxis\":{\"backgroundcolor\":\"#E5ECF6\",\"gridcolor\":\"white\",\"linecolor\":\"white\",\"showbackground\":true,\"ticks\":\"\",\"zerolinecolor\":\"white\",\"gridwidth\":2}},\"shapedefaults\":{\"line\":{\"color\":\"#2a3f5f\"}},\"annotationdefaults\":{\"arrowcolor\":\"#2a3f5f\",\"arrowhead\":0,\"arrowwidth\":1},\"geo\":{\"bgcolor\":\"white\",\"landcolor\":\"#E5ECF6\",\"subunitcolor\":\"white\",\"showland\":true,\"showlakes\":true,\"lakecolor\":\"white\"},\"title\":{\"x\":0.05},\"mapbox\":{\"style\":\"light\"}}},\"xaxis\":{\"anchor\":\"y\",\"domain\":[0.0,1.0],\"title\":{\"text\":\"lang\"}},\"yaxis\":{\"anchor\":\"x\",\"domain\":[0.0,1.0],\"title\":{\"text\":\"TweetCount\"}},\"legend\":{\"tracegroupgap\":0},\"margin\":{\"t\":60},\"barmode\":\"relative\"},                        {\"responsive\": true}                    ).then(function(){\n",
       "                            \n",
       "var gd = document.getElementById('1878f46a-87a8-4ab5-b3e0-cc00e2719e1c');\n",
       "var x = new MutationObserver(function (mutations, observer) {{\n",
       "        var display = window.getComputedStyle(gd).display;\n",
       "        if (!display || display === 'none') {{\n",
       "            console.log([gd, 'removed!']);\n",
       "            Plotly.purge(gd);\n",
       "            observer.disconnect();\n",
       "        }}\n",
       "}});\n",
       "\n",
       "// Listen for the removal of the full notebook cells\n",
       "var notebookContainer = gd.closest('#notebook-container');\n",
       "if (notebookContainer) {{\n",
       "    x.observe(notebookContainer, {childList: true});\n",
       "}}\n",
       "\n",
       "// Listen for the clearing of the current output cell\n",
       "var outputEl = gd.closest('.output');\n",
       "if (outputEl) {{\n",
       "    x.observe(outputEl, {childList: true});\n",
       "}}\n",
       "\n",
       "                        })                };                });            </script>        </div>"
      ]
     },
     "metadata": {},
     "output_type": "display_data"
    }
   ],
   "source": [
    "tempdf = ps.DataFrame(dfLang)\n",
    "\n",
    "tempdf.plot(kind='bar', x='lang', y='TweetCount')"
   ]
  },
  {
   "attachments": {},
   "cell_type": "markdown",
   "id": "8bc9f4f8",
   "metadata": {},
   "source": [
    "How many tweets by location"
   ]
  },
  {
   "cell_type": "code",
   "execution_count": 159,
   "id": "992c7c69",
   "metadata": {
    "vscode": {
     "languageId": "python"
    }
   },
   "outputs": [
    {
     "name": "stderr",
     "output_type": "stream",
     "text": [
      "[Stage 456:======================================================>(72 + 1) / 73]\r"
     ]
    },
    {
     "name": "stdout",
     "output_type": "stream",
     "text": [
      "+-----------------+----------+\n",
      "|         Location|TweetCount|\n",
      "+-----------------+----------+\n",
      "|             null|    344908|\n",
      "|İstanbul, Türkiye|      4911|\n",
      "|           France|      4338|\n",
      "|           Italia|      3980|\n",
      "|           España|      3908|\n",
      "|           London|      3496|\n",
      "|          Türkiye|      3374|\n",
      "|      Deutschland|      2791|\n",
      "|    Paris, France|      2710|\n",
      "|  London, England|      2690|\n",
      "+-----------------+----------+\n",
      "\n"
     ]
    },
    {
     "name": "stderr",
     "output_type": "stream",
     "text": [
      "                                                                                \r"
     ]
    }
   ],
   "source": [
    "dfLoc = spark.sql(\"SELECT DISTINCT user.location AS Location, CAST(count(id) AS INT) as TweetCount FROM tweets GROUP BY user.location \\\n",
    "                   ORDER BY TweetCount DESC LIMIT 10\")\n",
    "dfLoc.show()"
   ]
  },
  {
   "cell_type": "code",
   "execution_count": 160,
   "id": "73b94c58",
   "metadata": {
    "vscode": {
     "languageId": "python"
    }
   },
   "outputs": [
    {
     "name": "stderr",
     "output_type": "stream",
     "text": [
      "2023-05-14 20:40:04,140 WARN window.WindowExec: No Partition Defined for Window operation! Moving all data to a single partition, this can cause serious performance degradation.\n",
      "2023-05-14 20:40:04,141 WARN window.WindowExec: No Partition Defined for Window operation! Moving all data to a single partition, this can cause serious performance degradation.\n",
      "2023-05-14 20:40:19,257 WARN window.WindowExec: No Partition Defined for Window operation! Moving all data to a single partition, this can cause serious performance degradation.\n",
      "2023-05-14 20:40:19,258 WARN window.WindowExec: No Partition Defined for Window operation! Moving all data to a single partition, this can cause serious performance degradation.\n",
      "                                                                                \r"
     ]
    },
    {
     "data": {
      "application/vnd.plotly.v1+json": {
       "config": {
        "plotlyServerURL": "https://plot.ly"
       },
       "data": [
        {
         "alignmentgroup": "True",
         "hovertemplate": "Location=%{x}<br>TweetCount=%{y}<extra></extra>",
         "legendgroup": "",
         "marker": {
          "color": "#636efa",
          "pattern": {
           "shape": ""
          }
         },
         "name": "",
         "offsetgroup": "",
         "orientation": "v",
         "showlegend": false,
         "textposition": "auto",
         "type": "bar",
         "x": [
          null,
          "İstanbul, Türkiye",
          "France",
          "Italia",
          "España",
          "London",
          "Türkiye",
          "Deutschland",
          "Paris, France",
          "London, England"
         ],
         "xaxis": "x",
         "y": [
          344908,
          4911,
          4338,
          3980,
          3908,
          3496,
          3374,
          2791,
          2710,
          2690
         ],
         "yaxis": "y"
        }
       ],
       "layout": {
        "barmode": "relative",
        "legend": {
         "tracegroupgap": 0
        },
        "margin": {
         "t": 60
        },
        "template": {
         "data": {
          "bar": [
           {
            "error_x": {
             "color": "#2a3f5f"
            },
            "error_y": {
             "color": "#2a3f5f"
            },
            "marker": {
             "line": {
              "color": "#E5ECF6",
              "width": 0.5
             },
             "pattern": {
              "fillmode": "overlay",
              "size": 10,
              "solidity": 0.2
             }
            },
            "type": "bar"
           }
          ],
          "barpolar": [
           {
            "marker": {
             "line": {
              "color": "#E5ECF6",
              "width": 0.5
             },
             "pattern": {
              "fillmode": "overlay",
              "size": 10,
              "solidity": 0.2
             }
            },
            "type": "barpolar"
           }
          ],
          "carpet": [
           {
            "aaxis": {
             "endlinecolor": "#2a3f5f",
             "gridcolor": "white",
             "linecolor": "white",
             "minorgridcolor": "white",
             "startlinecolor": "#2a3f5f"
            },
            "baxis": {
             "endlinecolor": "#2a3f5f",
             "gridcolor": "white",
             "linecolor": "white",
             "minorgridcolor": "white",
             "startlinecolor": "#2a3f5f"
            },
            "type": "carpet"
           }
          ],
          "choropleth": [
           {
            "colorbar": {
             "outlinewidth": 0,
             "ticks": ""
            },
            "type": "choropleth"
           }
          ],
          "contour": [
           {
            "colorbar": {
             "outlinewidth": 0,
             "ticks": ""
            },
            "colorscale": [
             [
              0,
              "#0d0887"
             ],
             [
              0.1111111111111111,
              "#46039f"
             ],
             [
              0.2222222222222222,
              "#7201a8"
             ],
             [
              0.3333333333333333,
              "#9c179e"
             ],
             [
              0.4444444444444444,
              "#bd3786"
             ],
             [
              0.5555555555555556,
              "#d8576b"
             ],
             [
              0.6666666666666666,
              "#ed7953"
             ],
             [
              0.7777777777777778,
              "#fb9f3a"
             ],
             [
              0.8888888888888888,
              "#fdca26"
             ],
             [
              1,
              "#f0f921"
             ]
            ],
            "type": "contour"
           }
          ],
          "contourcarpet": [
           {
            "colorbar": {
             "outlinewidth": 0,
             "ticks": ""
            },
            "type": "contourcarpet"
           }
          ],
          "heatmap": [
           {
            "colorbar": {
             "outlinewidth": 0,
             "ticks": ""
            },
            "colorscale": [
             [
              0,
              "#0d0887"
             ],
             [
              0.1111111111111111,
              "#46039f"
             ],
             [
              0.2222222222222222,
              "#7201a8"
             ],
             [
              0.3333333333333333,
              "#9c179e"
             ],
             [
              0.4444444444444444,
              "#bd3786"
             ],
             [
              0.5555555555555556,
              "#d8576b"
             ],
             [
              0.6666666666666666,
              "#ed7953"
             ],
             [
              0.7777777777777778,
              "#fb9f3a"
             ],
             [
              0.8888888888888888,
              "#fdca26"
             ],
             [
              1,
              "#f0f921"
             ]
            ],
            "type": "heatmap"
           }
          ],
          "heatmapgl": [
           {
            "colorbar": {
             "outlinewidth": 0,
             "ticks": ""
            },
            "colorscale": [
             [
              0,
              "#0d0887"
             ],
             [
              0.1111111111111111,
              "#46039f"
             ],
             [
              0.2222222222222222,
              "#7201a8"
             ],
             [
              0.3333333333333333,
              "#9c179e"
             ],
             [
              0.4444444444444444,
              "#bd3786"
             ],
             [
              0.5555555555555556,
              "#d8576b"
             ],
             [
              0.6666666666666666,
              "#ed7953"
             ],
             [
              0.7777777777777778,
              "#fb9f3a"
             ],
             [
              0.8888888888888888,
              "#fdca26"
             ],
             [
              1,
              "#f0f921"
             ]
            ],
            "type": "heatmapgl"
           }
          ],
          "histogram": [
           {
            "marker": {
             "pattern": {
              "fillmode": "overlay",
              "size": 10,
              "solidity": 0.2
             }
            },
            "type": "histogram"
           }
          ],
          "histogram2d": [
           {
            "colorbar": {
             "outlinewidth": 0,
             "ticks": ""
            },
            "colorscale": [
             [
              0,
              "#0d0887"
             ],
             [
              0.1111111111111111,
              "#46039f"
             ],
             [
              0.2222222222222222,
              "#7201a8"
             ],
             [
              0.3333333333333333,
              "#9c179e"
             ],
             [
              0.4444444444444444,
              "#bd3786"
             ],
             [
              0.5555555555555556,
              "#d8576b"
             ],
             [
              0.6666666666666666,
              "#ed7953"
             ],
             [
              0.7777777777777778,
              "#fb9f3a"
             ],
             [
              0.8888888888888888,
              "#fdca26"
             ],
             [
              1,
              "#f0f921"
             ]
            ],
            "type": "histogram2d"
           }
          ],
          "histogram2dcontour": [
           {
            "colorbar": {
             "outlinewidth": 0,
             "ticks": ""
            },
            "colorscale": [
             [
              0,
              "#0d0887"
             ],
             [
              0.1111111111111111,
              "#46039f"
             ],
             [
              0.2222222222222222,
              "#7201a8"
             ],
             [
              0.3333333333333333,
              "#9c179e"
             ],
             [
              0.4444444444444444,
              "#bd3786"
             ],
             [
              0.5555555555555556,
              "#d8576b"
             ],
             [
              0.6666666666666666,
              "#ed7953"
             ],
             [
              0.7777777777777778,
              "#fb9f3a"
             ],
             [
              0.8888888888888888,
              "#fdca26"
             ],
             [
              1,
              "#f0f921"
             ]
            ],
            "type": "histogram2dcontour"
           }
          ],
          "mesh3d": [
           {
            "colorbar": {
             "outlinewidth": 0,
             "ticks": ""
            },
            "type": "mesh3d"
           }
          ],
          "parcoords": [
           {
            "line": {
             "colorbar": {
              "outlinewidth": 0,
              "ticks": ""
             }
            },
            "type": "parcoords"
           }
          ],
          "pie": [
           {
            "automargin": true,
            "type": "pie"
           }
          ],
          "scatter": [
           {
            "fillpattern": {
             "fillmode": "overlay",
             "size": 10,
             "solidity": 0.2
            },
            "type": "scatter"
           }
          ],
          "scatter3d": [
           {
            "line": {
             "colorbar": {
              "outlinewidth": 0,
              "ticks": ""
             }
            },
            "marker": {
             "colorbar": {
              "outlinewidth": 0,
              "ticks": ""
             }
            },
            "type": "scatter3d"
           }
          ],
          "scattercarpet": [
           {
            "marker": {
             "colorbar": {
              "outlinewidth": 0,
              "ticks": ""
             }
            },
            "type": "scattercarpet"
           }
          ],
          "scattergeo": [
           {
            "marker": {
             "colorbar": {
              "outlinewidth": 0,
              "ticks": ""
             }
            },
            "type": "scattergeo"
           }
          ],
          "scattergl": [
           {
            "marker": {
             "colorbar": {
              "outlinewidth": 0,
              "ticks": ""
             }
            },
            "type": "scattergl"
           }
          ],
          "scattermapbox": [
           {
            "marker": {
             "colorbar": {
              "outlinewidth": 0,
              "ticks": ""
             }
            },
            "type": "scattermapbox"
           }
          ],
          "scatterpolar": [
           {
            "marker": {
             "colorbar": {
              "outlinewidth": 0,
              "ticks": ""
             }
            },
            "type": "scatterpolar"
           }
          ],
          "scatterpolargl": [
           {
            "marker": {
             "colorbar": {
              "outlinewidth": 0,
              "ticks": ""
             }
            },
            "type": "scatterpolargl"
           }
          ],
          "scatterternary": [
           {
            "marker": {
             "colorbar": {
              "outlinewidth": 0,
              "ticks": ""
             }
            },
            "type": "scatterternary"
           }
          ],
          "surface": [
           {
            "colorbar": {
             "outlinewidth": 0,
             "ticks": ""
            },
            "colorscale": [
             [
              0,
              "#0d0887"
             ],
             [
              0.1111111111111111,
              "#46039f"
             ],
             [
              0.2222222222222222,
              "#7201a8"
             ],
             [
              0.3333333333333333,
              "#9c179e"
             ],
             [
              0.4444444444444444,
              "#bd3786"
             ],
             [
              0.5555555555555556,
              "#d8576b"
             ],
             [
              0.6666666666666666,
              "#ed7953"
             ],
             [
              0.7777777777777778,
              "#fb9f3a"
             ],
             [
              0.8888888888888888,
              "#fdca26"
             ],
             [
              1,
              "#f0f921"
             ]
            ],
            "type": "surface"
           }
          ],
          "table": [
           {
            "cells": {
             "fill": {
              "color": "#EBF0F8"
             },
             "line": {
              "color": "white"
             }
            },
            "header": {
             "fill": {
              "color": "#C8D4E3"
             },
             "line": {
              "color": "white"
             }
            },
            "type": "table"
           }
          ]
         },
         "layout": {
          "annotationdefaults": {
           "arrowcolor": "#2a3f5f",
           "arrowhead": 0,
           "arrowwidth": 1
          },
          "autotypenumbers": "strict",
          "coloraxis": {
           "colorbar": {
            "outlinewidth": 0,
            "ticks": ""
           }
          },
          "colorscale": {
           "diverging": [
            [
             0,
             "#8e0152"
            ],
            [
             0.1,
             "#c51b7d"
            ],
            [
             0.2,
             "#de77ae"
            ],
            [
             0.3,
             "#f1b6da"
            ],
            [
             0.4,
             "#fde0ef"
            ],
            [
             0.5,
             "#f7f7f7"
            ],
            [
             0.6,
             "#e6f5d0"
            ],
            [
             0.7,
             "#b8e186"
            ],
            [
             0.8,
             "#7fbc41"
            ],
            [
             0.9,
             "#4d9221"
            ],
            [
             1,
             "#276419"
            ]
           ],
           "sequential": [
            [
             0,
             "#0d0887"
            ],
            [
             0.1111111111111111,
             "#46039f"
            ],
            [
             0.2222222222222222,
             "#7201a8"
            ],
            [
             0.3333333333333333,
             "#9c179e"
            ],
            [
             0.4444444444444444,
             "#bd3786"
            ],
            [
             0.5555555555555556,
             "#d8576b"
            ],
            [
             0.6666666666666666,
             "#ed7953"
            ],
            [
             0.7777777777777778,
             "#fb9f3a"
            ],
            [
             0.8888888888888888,
             "#fdca26"
            ],
            [
             1,
             "#f0f921"
            ]
           ],
           "sequentialminus": [
            [
             0,
             "#0d0887"
            ],
            [
             0.1111111111111111,
             "#46039f"
            ],
            [
             0.2222222222222222,
             "#7201a8"
            ],
            [
             0.3333333333333333,
             "#9c179e"
            ],
            [
             0.4444444444444444,
             "#bd3786"
            ],
            [
             0.5555555555555556,
             "#d8576b"
            ],
            [
             0.6666666666666666,
             "#ed7953"
            ],
            [
             0.7777777777777778,
             "#fb9f3a"
            ],
            [
             0.8888888888888888,
             "#fdca26"
            ],
            [
             1,
             "#f0f921"
            ]
           ]
          },
          "colorway": [
           "#636efa",
           "#EF553B",
           "#00cc96",
           "#ab63fa",
           "#FFA15A",
           "#19d3f3",
           "#FF6692",
           "#B6E880",
           "#FF97FF",
           "#FECB52"
          ],
          "font": {
           "color": "#2a3f5f"
          },
          "geo": {
           "bgcolor": "white",
           "lakecolor": "white",
           "landcolor": "#E5ECF6",
           "showlakes": true,
           "showland": true,
           "subunitcolor": "white"
          },
          "hoverlabel": {
           "align": "left"
          },
          "hovermode": "closest",
          "mapbox": {
           "style": "light"
          },
          "paper_bgcolor": "white",
          "plot_bgcolor": "#E5ECF6",
          "polar": {
           "angularaxis": {
            "gridcolor": "white",
            "linecolor": "white",
            "ticks": ""
           },
           "bgcolor": "#E5ECF6",
           "radialaxis": {
            "gridcolor": "white",
            "linecolor": "white",
            "ticks": ""
           }
          },
          "scene": {
           "xaxis": {
            "backgroundcolor": "#E5ECF6",
            "gridcolor": "white",
            "gridwidth": 2,
            "linecolor": "white",
            "showbackground": true,
            "ticks": "",
            "zerolinecolor": "white"
           },
           "yaxis": {
            "backgroundcolor": "#E5ECF6",
            "gridcolor": "white",
            "gridwidth": 2,
            "linecolor": "white",
            "showbackground": true,
            "ticks": "",
            "zerolinecolor": "white"
           },
           "zaxis": {
            "backgroundcolor": "#E5ECF6",
            "gridcolor": "white",
            "gridwidth": 2,
            "linecolor": "white",
            "showbackground": true,
            "ticks": "",
            "zerolinecolor": "white"
           }
          },
          "shapedefaults": {
           "line": {
            "color": "#2a3f5f"
           }
          },
          "ternary": {
           "aaxis": {
            "gridcolor": "white",
            "linecolor": "white",
            "ticks": ""
           },
           "baxis": {
            "gridcolor": "white",
            "linecolor": "white",
            "ticks": ""
           },
           "bgcolor": "#E5ECF6",
           "caxis": {
            "gridcolor": "white",
            "linecolor": "white",
            "ticks": ""
           }
          },
          "title": {
           "x": 0.05
          },
          "xaxis": {
           "automargin": true,
           "gridcolor": "white",
           "linecolor": "white",
           "ticks": "",
           "title": {
            "standoff": 15
           },
           "zerolinecolor": "white",
           "zerolinewidth": 2
          },
          "yaxis": {
           "automargin": true,
           "gridcolor": "white",
           "linecolor": "white",
           "ticks": "",
           "title": {
            "standoff": 15
           },
           "zerolinecolor": "white",
           "zerolinewidth": 2
          }
         }
        },
        "xaxis": {
         "anchor": "y",
         "domain": [
          0,
          1
         ],
         "title": {
          "text": "Location"
         }
        },
        "yaxis": {
         "anchor": "x",
         "domain": [
          0,
          1
         ],
         "title": {
          "text": "TweetCount"
         }
        }
       }
      },
      "text/html": [
       "<div>                            <div id=\"255ff1a6-d027-43da-af96-643eb18a7a7d\" class=\"plotly-graph-div\" style=\"height:525px; width:100%;\"></div>            <script type=\"text/javascript\">                require([\"plotly\"], function(Plotly) {                    window.PLOTLYENV=window.PLOTLYENV || {};                                    if (document.getElementById(\"255ff1a6-d027-43da-af96-643eb18a7a7d\")) {                    Plotly.newPlot(                        \"255ff1a6-d027-43da-af96-643eb18a7a7d\",                        [{\"alignmentgroup\":\"True\",\"hovertemplate\":\"Location=%{x}<br>TweetCount=%{y}<extra></extra>\",\"legendgroup\":\"\",\"marker\":{\"color\":\"#636efa\",\"pattern\":{\"shape\":\"\"}},\"name\":\"\",\"offsetgroup\":\"\",\"orientation\":\"v\",\"showlegend\":false,\"textposition\":\"auto\",\"x\":[null,\"\\u0130stanbul, T\\u00fcrkiye\",\"France\",\"Italia\",\"Espa\\u00f1a\",\"London\",\"T\\u00fcrkiye\",\"Deutschland\",\"Paris, France\",\"London, England\"],\"xaxis\":\"x\",\"y\":[344908,4911,4338,3980,3908,3496,3374,2791,2710,2690],\"yaxis\":\"y\",\"type\":\"bar\"}],                        {\"template\":{\"data\":{\"histogram2dcontour\":[{\"type\":\"histogram2dcontour\",\"colorbar\":{\"outlinewidth\":0,\"ticks\":\"\"},\"colorscale\":[[0.0,\"#0d0887\"],[0.1111111111111111,\"#46039f\"],[0.2222222222222222,\"#7201a8\"],[0.3333333333333333,\"#9c179e\"],[0.4444444444444444,\"#bd3786\"],[0.5555555555555556,\"#d8576b\"],[0.6666666666666666,\"#ed7953\"],[0.7777777777777778,\"#fb9f3a\"],[0.8888888888888888,\"#fdca26\"],[1.0,\"#f0f921\"]]}],\"choropleth\":[{\"type\":\"choropleth\",\"colorbar\":{\"outlinewidth\":0,\"ticks\":\"\"}}],\"histogram2d\":[{\"type\":\"histogram2d\",\"colorbar\":{\"outlinewidth\":0,\"ticks\":\"\"},\"colorscale\":[[0.0,\"#0d0887\"],[0.1111111111111111,\"#46039f\"],[0.2222222222222222,\"#7201a8\"],[0.3333333333333333,\"#9c179e\"],[0.4444444444444444,\"#bd3786\"],[0.5555555555555556,\"#d8576b\"],[0.6666666666666666,\"#ed7953\"],[0.7777777777777778,\"#fb9f3a\"],[0.8888888888888888,\"#fdca26\"],[1.0,\"#f0f921\"]]}],\"heatmap\":[{\"type\":\"heatmap\",\"colorbar\":{\"outlinewidth\":0,\"ticks\":\"\"},\"colorscale\":[[0.0,\"#0d0887\"],[0.1111111111111111,\"#46039f\"],[0.2222222222222222,\"#7201a8\"],[0.3333333333333333,\"#9c179e\"],[0.4444444444444444,\"#bd3786\"],[0.5555555555555556,\"#d8576b\"],[0.6666666666666666,\"#ed7953\"],[0.7777777777777778,\"#fb9f3a\"],[0.8888888888888888,\"#fdca26\"],[1.0,\"#f0f921\"]]}],\"heatmapgl\":[{\"type\":\"heatmapgl\",\"colorbar\":{\"outlinewidth\":0,\"ticks\":\"\"},\"colorscale\":[[0.0,\"#0d0887\"],[0.1111111111111111,\"#46039f\"],[0.2222222222222222,\"#7201a8\"],[0.3333333333333333,\"#9c179e\"],[0.4444444444444444,\"#bd3786\"],[0.5555555555555556,\"#d8576b\"],[0.6666666666666666,\"#ed7953\"],[0.7777777777777778,\"#fb9f3a\"],[0.8888888888888888,\"#fdca26\"],[1.0,\"#f0f921\"]]}],\"contourcarpet\":[{\"type\":\"contourcarpet\",\"colorbar\":{\"outlinewidth\":0,\"ticks\":\"\"}}],\"contour\":[{\"type\":\"contour\",\"colorbar\":{\"outlinewidth\":0,\"ticks\":\"\"},\"colorscale\":[[0.0,\"#0d0887\"],[0.1111111111111111,\"#46039f\"],[0.2222222222222222,\"#7201a8\"],[0.3333333333333333,\"#9c179e\"],[0.4444444444444444,\"#bd3786\"],[0.5555555555555556,\"#d8576b\"],[0.6666666666666666,\"#ed7953\"],[0.7777777777777778,\"#fb9f3a\"],[0.8888888888888888,\"#fdca26\"],[1.0,\"#f0f921\"]]}],\"surface\":[{\"type\":\"surface\",\"colorbar\":{\"outlinewidth\":0,\"ticks\":\"\"},\"colorscale\":[[0.0,\"#0d0887\"],[0.1111111111111111,\"#46039f\"],[0.2222222222222222,\"#7201a8\"],[0.3333333333333333,\"#9c179e\"],[0.4444444444444444,\"#bd3786\"],[0.5555555555555556,\"#d8576b\"],[0.6666666666666666,\"#ed7953\"],[0.7777777777777778,\"#fb9f3a\"],[0.8888888888888888,\"#fdca26\"],[1.0,\"#f0f921\"]]}],\"mesh3d\":[{\"type\":\"mesh3d\",\"colorbar\":{\"outlinewidth\":0,\"ticks\":\"\"}}],\"scatter\":[{\"fillpattern\":{\"fillmode\":\"overlay\",\"size\":10,\"solidity\":0.2},\"type\":\"scatter\"}],\"parcoords\":[{\"type\":\"parcoords\",\"line\":{\"colorbar\":{\"outlinewidth\":0,\"ticks\":\"\"}}}],\"scatterpolargl\":[{\"type\":\"scatterpolargl\",\"marker\":{\"colorbar\":{\"outlinewidth\":0,\"ticks\":\"\"}}}],\"bar\":[{\"error_x\":{\"color\":\"#2a3f5f\"},\"error_y\":{\"color\":\"#2a3f5f\"},\"marker\":{\"line\":{\"color\":\"#E5ECF6\",\"width\":0.5},\"pattern\":{\"fillmode\":\"overlay\",\"size\":10,\"solidity\":0.2}},\"type\":\"bar\"}],\"scattergeo\":[{\"type\":\"scattergeo\",\"marker\":{\"colorbar\":{\"outlinewidth\":0,\"ticks\":\"\"}}}],\"scatterpolar\":[{\"type\":\"scatterpolar\",\"marker\":{\"colorbar\":{\"outlinewidth\":0,\"ticks\":\"\"}}}],\"histogram\":[{\"marker\":{\"pattern\":{\"fillmode\":\"overlay\",\"size\":10,\"solidity\":0.2}},\"type\":\"histogram\"}],\"scattergl\":[{\"type\":\"scattergl\",\"marker\":{\"colorbar\":{\"outlinewidth\":0,\"ticks\":\"\"}}}],\"scatter3d\":[{\"type\":\"scatter3d\",\"line\":{\"colorbar\":{\"outlinewidth\":0,\"ticks\":\"\"}},\"marker\":{\"colorbar\":{\"outlinewidth\":0,\"ticks\":\"\"}}}],\"scattermapbox\":[{\"type\":\"scattermapbox\",\"marker\":{\"colorbar\":{\"outlinewidth\":0,\"ticks\":\"\"}}}],\"scatterternary\":[{\"type\":\"scatterternary\",\"marker\":{\"colorbar\":{\"outlinewidth\":0,\"ticks\":\"\"}}}],\"scattercarpet\":[{\"type\":\"scattercarpet\",\"marker\":{\"colorbar\":{\"outlinewidth\":0,\"ticks\":\"\"}}}],\"carpet\":[{\"aaxis\":{\"endlinecolor\":\"#2a3f5f\",\"gridcolor\":\"white\",\"linecolor\":\"white\",\"minorgridcolor\":\"white\",\"startlinecolor\":\"#2a3f5f\"},\"baxis\":{\"endlinecolor\":\"#2a3f5f\",\"gridcolor\":\"white\",\"linecolor\":\"white\",\"minorgridcolor\":\"white\",\"startlinecolor\":\"#2a3f5f\"},\"type\":\"carpet\"}],\"table\":[{\"cells\":{\"fill\":{\"color\":\"#EBF0F8\"},\"line\":{\"color\":\"white\"}},\"header\":{\"fill\":{\"color\":\"#C8D4E3\"},\"line\":{\"color\":\"white\"}},\"type\":\"table\"}],\"barpolar\":[{\"marker\":{\"line\":{\"color\":\"#E5ECF6\",\"width\":0.5},\"pattern\":{\"fillmode\":\"overlay\",\"size\":10,\"solidity\":0.2}},\"type\":\"barpolar\"}],\"pie\":[{\"automargin\":true,\"type\":\"pie\"}]},\"layout\":{\"autotypenumbers\":\"strict\",\"colorway\":[\"#636efa\",\"#EF553B\",\"#00cc96\",\"#ab63fa\",\"#FFA15A\",\"#19d3f3\",\"#FF6692\",\"#B6E880\",\"#FF97FF\",\"#FECB52\"],\"font\":{\"color\":\"#2a3f5f\"},\"hovermode\":\"closest\",\"hoverlabel\":{\"align\":\"left\"},\"paper_bgcolor\":\"white\",\"plot_bgcolor\":\"#E5ECF6\",\"polar\":{\"bgcolor\":\"#E5ECF6\",\"angularaxis\":{\"gridcolor\":\"white\",\"linecolor\":\"white\",\"ticks\":\"\"},\"radialaxis\":{\"gridcolor\":\"white\",\"linecolor\":\"white\",\"ticks\":\"\"}},\"ternary\":{\"bgcolor\":\"#E5ECF6\",\"aaxis\":{\"gridcolor\":\"white\",\"linecolor\":\"white\",\"ticks\":\"\"},\"baxis\":{\"gridcolor\":\"white\",\"linecolor\":\"white\",\"ticks\":\"\"},\"caxis\":{\"gridcolor\":\"white\",\"linecolor\":\"white\",\"ticks\":\"\"}},\"coloraxis\":{\"colorbar\":{\"outlinewidth\":0,\"ticks\":\"\"}},\"colorscale\":{\"sequential\":[[0.0,\"#0d0887\"],[0.1111111111111111,\"#46039f\"],[0.2222222222222222,\"#7201a8\"],[0.3333333333333333,\"#9c179e\"],[0.4444444444444444,\"#bd3786\"],[0.5555555555555556,\"#d8576b\"],[0.6666666666666666,\"#ed7953\"],[0.7777777777777778,\"#fb9f3a\"],[0.8888888888888888,\"#fdca26\"],[1.0,\"#f0f921\"]],\"sequentialminus\":[[0.0,\"#0d0887\"],[0.1111111111111111,\"#46039f\"],[0.2222222222222222,\"#7201a8\"],[0.3333333333333333,\"#9c179e\"],[0.4444444444444444,\"#bd3786\"],[0.5555555555555556,\"#d8576b\"],[0.6666666666666666,\"#ed7953\"],[0.7777777777777778,\"#fb9f3a\"],[0.8888888888888888,\"#fdca26\"],[1.0,\"#f0f921\"]],\"diverging\":[[0,\"#8e0152\"],[0.1,\"#c51b7d\"],[0.2,\"#de77ae\"],[0.3,\"#f1b6da\"],[0.4,\"#fde0ef\"],[0.5,\"#f7f7f7\"],[0.6,\"#e6f5d0\"],[0.7,\"#b8e186\"],[0.8,\"#7fbc41\"],[0.9,\"#4d9221\"],[1,\"#276419\"]]},\"xaxis\":{\"gridcolor\":\"white\",\"linecolor\":\"white\",\"ticks\":\"\",\"title\":{\"standoff\":15},\"zerolinecolor\":\"white\",\"automargin\":true,\"zerolinewidth\":2},\"yaxis\":{\"gridcolor\":\"white\",\"linecolor\":\"white\",\"ticks\":\"\",\"title\":{\"standoff\":15},\"zerolinecolor\":\"white\",\"automargin\":true,\"zerolinewidth\":2},\"scene\":{\"xaxis\":{\"backgroundcolor\":\"#E5ECF6\",\"gridcolor\":\"white\",\"linecolor\":\"white\",\"showbackground\":true,\"ticks\":\"\",\"zerolinecolor\":\"white\",\"gridwidth\":2},\"yaxis\":{\"backgroundcolor\":\"#E5ECF6\",\"gridcolor\":\"white\",\"linecolor\":\"white\",\"showbackground\":true,\"ticks\":\"\",\"zerolinecolor\":\"white\",\"gridwidth\":2},\"zaxis\":{\"backgroundcolor\":\"#E5ECF6\",\"gridcolor\":\"white\",\"linecolor\":\"white\",\"showbackground\":true,\"ticks\":\"\",\"zerolinecolor\":\"white\",\"gridwidth\":2}},\"shapedefaults\":{\"line\":{\"color\":\"#2a3f5f\"}},\"annotationdefaults\":{\"arrowcolor\":\"#2a3f5f\",\"arrowhead\":0,\"arrowwidth\":1},\"geo\":{\"bgcolor\":\"white\",\"landcolor\":\"#E5ECF6\",\"subunitcolor\":\"white\",\"showland\":true,\"showlakes\":true,\"lakecolor\":\"white\"},\"title\":{\"x\":0.05},\"mapbox\":{\"style\":\"light\"}}},\"xaxis\":{\"anchor\":\"y\",\"domain\":[0.0,1.0],\"title\":{\"text\":\"Location\"}},\"yaxis\":{\"anchor\":\"x\",\"domain\":[0.0,1.0],\"title\":{\"text\":\"TweetCount\"}},\"legend\":{\"tracegroupgap\":0},\"margin\":{\"t\":60},\"barmode\":\"relative\"},                        {\"responsive\": true}                    ).then(function(){\n",
       "                            \n",
       "var gd = document.getElementById('255ff1a6-d027-43da-af96-643eb18a7a7d');\n",
       "var x = new MutationObserver(function (mutations, observer) {{\n",
       "        var display = window.getComputedStyle(gd).display;\n",
       "        if (!display || display === 'none') {{\n",
       "            console.log([gd, 'removed!']);\n",
       "            Plotly.purge(gd);\n",
       "            observer.disconnect();\n",
       "        }}\n",
       "}});\n",
       "\n",
       "// Listen for the removal of the full notebook cells\n",
       "var notebookContainer = gd.closest('#notebook-container');\n",
       "if (notebookContainer) {{\n",
       "    x.observe(notebookContainer, {childList: true});\n",
       "}}\n",
       "\n",
       "// Listen for the clearing of the current output cell\n",
       "var outputEl = gd.closest('.output');\n",
       "if (outputEl) {{\n",
       "    x.observe(outputEl, {childList: true});\n",
       "}}\n",
       "\n",
       "                        })                };                });            </script>        </div>"
      ]
     },
     "metadata": {},
     "output_type": "display_data"
    }
   ],
   "source": [
    "tempdf = ps.DataFrame(dfLoc)\n",
    "\n",
    "tempdf.plot(kind='bar', x='Location', y='TweetCount')"
   ]
  },
  {
   "attachments": {},
   "cell_type": "markdown",
   "id": "106f0306",
   "metadata": {},
   "source": [
    "Now limit the dataset to English texts and tweets with the Euro in the text"
   ]
  },
  {
   "cell_type": "code",
   "execution_count": 161,
   "id": "41824ab2",
   "metadata": {
    "vscode": {
     "languageId": "python"
    }
   },
   "outputs": [
    {
     "name": "stderr",
     "output_type": "stream",
     "text": [
      "2023-05-14 20:40:22,155 WARN scheduler.DAGScheduler: Broadcasting large task binary with size 1328.5 KiB\n",
      "[Stage 464:>                                                        (0 + 1) / 1]\r"
     ]
    },
    {
     "name": "stdout",
     "output_type": "stream",
     "text": [
      "+--------------------+------------+-----------+--------------------+------------------+--------------------+--------------------+--------------------+--------------+---------+------------+----+-------------------+-------------------+-----------------------+---------------------+-------------------------+-------------------+-----------------------+---------------+----+-----+------------------+-----------+--------------------+-------------------+--------------------+-----------------------+-----------+-------------+---------+--------------------+--------------------+--------------------+-------------+---------+--------------------+---------------------+\n",
      "|                 _id|contributors|coordinates|          created_at|display_text_range|            entities|   extended_entities|      extended_tweet|favorite_count|favorited|filter_level| geo|                 id|             id_str|in_reply_to_screen_name|in_reply_to_status_id|in_reply_to_status_id_str|in_reply_to_user_id|in_reply_to_user_id_str|is_quote_status|lang|place|possibly_sensitive|quote_count|       quoted_status|   quoted_status_id|quoted_status_id_str|quoted_status_permalink|reply_count|retweet_count|retweeted|    retweeted_status|              source|                text| timestamp_ms|truncated|                user|withheld_in_countries|\n",
      "+--------------------+------------+-----------+--------------------+------------------+--------------------+--------------------+--------------------+--------------+---------+------------+----+-------------------+-------------------+-----------------------+---------------------+-------------------------+-------------------+-----------------------+---------------+----+-----+------------------+-----------+--------------------+-------------------+--------------------+-----------------------+-----------+-------------+---------+--------------------+--------------------+--------------------+-------------+---------+--------------------+---------------------+\n",
      "|{6458004fc83a2a16...|        null|       null|Fri Jan 01 22:34:...|          [37, 95]|{[], null, [], []...|                null|                null|             0|    false|         low|null|1345136277591650309|1345136277591650309|           NotoriousJOS|  1345136022443732998|      1345136022443732998|          308647707|              308647707|          false|  en| null|              null|          0|                null|               null|                null|                   null|          0|            0|    false|                null|<a href=\"https://...|@NotoriousJOS @az...|1609540454658|    false|{false, Fri May 1...|                 null|\n",
      "|{64580062c83a2a16...|        null|       null|Fri Jan 01 22:46:...|              null|{[], null, [], []...|                null|                null|             0|    false|         low|null|1345139435906723842|1345139435906723842|                   null|                 null|                     null|               null|                   null|           true|  en| null|              null|          0|{null, null, Fri ...|1345084781898424321| 1345084781898424321|   {https://t.co/CDi...|          0|            0|    false|                null|<a href=\"http://t...|    The euro step 😂|1609541207659|    false|{false, Mon Jul 2...|                 null|\n",
      "|{6458006dc83a2a16...|        null|       null|Fri Jan 01 19:08:...|          [16, 40]|{[], null, [], []...|                null|                null|             0|    false|         low|null|1345084612188450817|1345084612188450817|         illiam_william|  1345031135982743553|      1345031135982743553|          223292822|              223292822|          false|  en| null|              null|          0|                null|               null|                null|                   null|          0|            0|    false|                null|<a href=\"http://t...|@illiam_william T...|1609528136666|    false|{false, Mon Oct 3...|                 null|\n",
      "|{6458007bc83a2a16...|        null|       null|Fri Jan 01 19:24:...|              null|{[], null, [], []...|                null|                null|             0|    false|         low|null|1345088558999232517|1345088558999232517|                   null|                 null|                     null|               null|                   null|           true|  en| null|              null|          0|{null, null, Fri ...|1345031135982743553| 1345031135982743553|   {https://t.co/e10...|          0|            0|    false|                null|<a href=\"http://t...|The euro to rever...|1609529077659|    false|{false, Fri Aug 1...|                 null|\n",
      "|{64580093c83a2a16...|        null|       null|Fri Jan 01 20:57:...|           [0, 66]|{[{btc, [41, 45]}...|{[{null, null, pi...|                null|             0|    false|         low|null|1345111866767515650|1345111866767515650|                   null|                 null|                     null|               null|                   null|          false|  en| null|             false|          0|                null|               null|                null|                   null|          0|            0|    false|                null|<a href=\"https://...|Digital euro \\nCo...|1609534634664|    false|{false, Wed May 1...|                 null|\n",
      "|{64580095c83a2a16...|        null|       null|Fri Jan 01 20:12:...|              null|{[], null, [], []...|                null|                null|             0|    false|         low|null|1345100558919741440|1345100558919741440|                   null|                 null|                     null|               null|                   null|           true|  en| null|              null|          0|{null, null, Fri ...|1345060926286929920| 1345060926286929920|   {https://t.co/0Q6...|          0|            0|    false|                null|<a href=\"http://t...|That euro-jelly c...|1609531938663|    false|{false, Wed Aug 1...|                 null|\n",
      "|{6458009ec83a2a16...|        null|       null|Fri Jan 01 20:25:...|              null|{[], null, [], []...|                null|                null|             0|    false|         low|null|1345103822063099904|1345103822063099904|                   null|                 null|                     null|               null|                   null|          false|  en| null|              null|          0|                null|               null|                null|                   null|          0|            0|    false|                null|<a href=\"http://t...|If I don’t win th...|1609532716657|    false|{false, Thu Oct 2...|                 null|\n",
      "|{645800e7c83a2a16...|        null|       null|Sat Jan 02 01:40:...|          [10, 36]|{[], null, [], []...|                null|                null|             0|    false|         low|null|1345183111210942466|1345183111210942466|               eurowtff|  1345182564437405699|      1345182564437405699|1305253620418568197|    1305253620418568197|          false|  en| null|              null|          0|                null|               null|                null|                   null|          0|            0|    false|                null|<a href=\"http://t...|@eurowtff I order...|1609551620663|    false|{false, Mon Oct 2...|                 null|\n",
      "|{645800fcc83a2a16...|        null|       null|Fri Jan 01 09:35:...|              null|{[], null, [], []...|                null|                null|             0|    false|         low|null|1344940265182793736|1344940265182793736|                   null|                 null|                     null|               null|                   null|          false|  en| null|              null|          0|                null|               null|                null|                   null|          0|            0|    false|{null, null, Fri ...|<a href=\"http://t...|RT @Zarkwan: Unio...|1609493721658|    false|{false, Wed Mar 1...|                 null|\n",
      "|{6458011fc83a2a16...|        null|       null|Fri Jan 01 10:00:...|              null|{[], null, [], []...|                null|                null|             0|    false|         low|null|1344946539890933760|1344946539890933760|                   null|                 null|                     null|               null|                   null|          false|  en| null|              null|          0|                null|               null|                null|                   null|          0|            0|    false|{null, null, Fri ...|<a href=\"https://...|RT @o_gillian: Bi...|1609495217665|    false|{false, Mon Jul 2...|                 null|\n",
      "|{6458013fc83a2a16...|        null|       null|Fri Jan 01 15:26:...|              null|{[], null, [], []...|                null|                null|             0|    false|         low|null|1345028601452879879|1345028601452879879|                   null|                 null|                     null|               null|                   null|          false|  en| null|              null|          0|                null|               null|                null|                   null|          0|            0|    false|{null, null, Fri ...|<a href=\"http://t...|RT @Zarkwan: Unio...|1609514782666|    false|{false, Sun Jul 0...|                 null|\n",
      "|{64580145c83a2a16...|        null|       null|Fri Jan 01 15:00:...|           [9, 37]|{[], null, [], []...|                null|                null|             0|    false|         low|null|1345022138022064129|1345022138022064129|                engrare|  1345020447507800064|      1345020447507800064|         1975910442|             1975910442|          false|  en| null|              null|          0|                null|               null|                null|                   null|          0|            0|    false|                null|<a href=\"http://t...|@engrare Don't fo...|1609513241664|    false|{false, Mon Jan 0...|                 null|\n",
      "|{6458014dc83a2a16...|        null|       null|Fri Jan 01 15:47:...|         [16, 140]|{[], null, [], [{...|                null|{[16, 282], {[], ...|             0|    false|         low|null|1345033873659490305|1345033873659490305|         DataSciBurgoon|  1345032681759891456|      1345032681759891456|         1863796074|             1863796074|          false|  en| null|              null|          0|                null|               null|                null|                   null|          0|            0|    false|                null|<a href=\"https://...|@DataSciBurgoon I...|1609516039658|     true|{false, Thu Mar 0...|                 null|\n",
      "|{6458016cc83a2a16...|        null|       null|Sat Jan 02 04:39:...|              null|{[], null, [], []...|                null|                null|             0|    false|         low|null|1345228132861661184|1345228132861661184|                   null|                 null|                     null|               null|                   null|          false|  en| null|              null|          0|                null|               null|                null|                   null|          0|            0|    false|{null, null, Sat ...|<a href=\"http://t...|RT @iamdarrius23:...|1609562354661|    false|{false, Sat Oct 2...|                 null|\n",
      "|{6458019ac83a2a16...|        null|       null|Fri Jan 01 13:23:...|              null|{[{Brexit, [68, 7...|                null|{[0, 147], {[{Bre...|             0|    false|         low|null|1344997718763167744|1344997718763167744|                   null|                 null|                     null|               null|                   null|          false|  en| null|              null|          0|                null|               null|                null|                   null|          0|            0|    false|                null|<a href=\"http://t...|Why have we not b...|1609507419659|     true|{false, Sun Nov 2...|                 null|\n",
      "|{645801cec83a2a16...|        null|       null|Fri Jan 01 12:14:...|              null|{[], null, [], []...|                null|                null|             0|    false|         low|null|1344980236916699137|1344980236916699137|                   null|                 null|                     null|               null|                   null|          false|  en| null|              null|          0|                null|               null|                null|                   null|          0|            0|    false|{null, null, Fri ...|<a href=\"https://...|RT @europug2: Hug...|1609503251662|    false|{false, Wed Jan 2...|                 null|\n",
      "|{645801d3c83a2a16...|        null|       null|Fri Jan 01 12:51:...|              null|{[], null, [], []...|                null|                null|             0|    false|         low|null|1344989552474206208|1344989552474206208|                   null|                 null|                     null|               null|                   null|          false|  en| null|              null|          0|                null|               null|                null|                   null|          0|            0|    false|{null, null, Fri ...|<a href=\"http://t...|RT @Zarkwan: Unio...|1609505472664|    false|{false, Mon Oct 0...|                 null|\n",
      "|{645801dcc83a2a16...|        null|       null|Fri Jan 01 12:13:...|              null|{[], null, [], []...|                null|                null|             0|    false|         low|null|1344980043974516738|1344980043974516738|                   null|                 null|                     null|               null|                   null|           true|  en| null|              null|          0|{null, null, Thu ...|1344690636478361600| 1344690636478361600|   {https://t.co/XYT...|          0|            0|    false|                null|<a href=\"http://t...|Why euro ? We’re ...|1609503205661|    false|{false, Fri Feb 1...|                 null|\n",
      "|{645801fbc83a2a16...|        null|       null|Fri Jan 01 18:27:...|              null|{[], null, [], []...|                null|                null|             0|    false|         low|null|1345074210306097152|1345074210306097152|                   null|                 null|                     null|               null|                   null|          false|  en| null|              null|          0|                null|               null|                null|                   null|          0|            0|    false|{null, null, Wed ...|<a href=\"http://t...|RT @OyPrice: The ...|1609525656664|    false|{false, Sun Oct 1...|                 null|\n",
      "|{64580206c83a2a16...|        null|       null|Fri Jan 01 23:28:...|           [9, 87]|{[], null, [], []...|                null|                null|             0|    false|         low|null|1345149829404626944|1345149829404626944|           umarfarouk__|  1345149595777716225|      1345149595777716225|1165719552992456705|    1165719552992456705|          false|  en| null|              null|          0|                null|               null|                null|                   null|          0|            0|    false|                null|<a href=\"http://t...|@Ibrexgx When Ron...|1609543685662|    false|{false, Sun Aug 2...|                 null|\n",
      "+--------------------+------------+-----------+--------------------+------------------+--------------------+--------------------+--------------------+--------------+---------+------------+----+-------------------+-------------------+-----------------------+---------------------+-------------------------+-------------------+-----------------------+---------------+----+-----+------------------+-----------+--------------------+-------------------+--------------------+-----------------------+-----------+-------------+---------+--------------------+--------------------+--------------------+-------------+---------+--------------------+---------------------+\n",
      "only showing top 20 rows\n",
      "\n"
     ]
    },
    {
     "name": "stderr",
     "output_type": "stream",
     "text": [
      "                                                                                \r"
     ]
    }
   ],
   "source": [
    "dfEnTwt = spark.sql(\"SELECT * FROM tweets WHERE lang = 'en' AND text LIKE '%euro%'\")\n",
    "dfEnTwt.createOrReplaceTempView(\"en_tweets\")\n",
    "dfEnTwt.show()"
   ]
  },
  {
   "attachments": {},
   "cell_type": "markdown",
   "id": "5654e5c3",
   "metadata": {},
   "source": [
    "Now how many tweets in the English language dataset"
   ]
  },
  {
   "cell_type": "code",
   "execution_count": 162,
   "id": "a37eb383",
   "metadata": {
    "vscode": {
     "languageId": "python"
    }
   },
   "outputs": [
    {
     "name": "stderr",
     "output_type": "stream",
     "text": [
      "                                                                                \r"
     ]
    },
    {
     "data": {
      "text/plain": [
       "25818"
      ]
     },
     "execution_count": 162,
     "metadata": {},
     "output_type": "execute_result"
    }
   ],
   "source": [
    "dfEnTwt.count()"
   ]
  },
  {
   "cell_type": "code",
   "execution_count": 163,
   "id": "e9182c74",
   "metadata": {
    "vscode": {
     "languageId": "python"
    }
   },
   "outputs": [
    {
     "name": "stderr",
     "output_type": "stream",
     "text": [
      "[Stage 468:============================>                            (2 + 2) / 4]\r"
     ]
    },
    {
     "name": "stdout",
     "output_type": "stream",
     "text": [
      "+--------------------+----------+\n",
      "|            Location|TweetCount|\n",
      "+--------------------+----------+\n",
      "|                null|     10214|\n",
      "|               Spain|       413|\n",
      "|     London, England|       178|\n",
      "|      United Kingdom|       152|\n",
      "|             Ireland|       140|\n",
      "|       Costa del Sol|       124|\n",
      "|       United States|       121|\n",
      "|             she/her|       114|\n",
      "|              London|       107|\n",
      "|England, United K...|       106|\n",
      "+--------------------+----------+\n",
      "\n"
     ]
    },
    {
     "name": "stderr",
     "output_type": "stream",
     "text": [
      "                                                                                \r"
     ]
    }
   ],
   "source": [
    "dfLoc = spark.sql(\"SELECT DISTINCT user.location AS Location, CAST(count(id) AS INT) as TweetCount FROM en_tweets GROUP BY user.location \\\n",
    "                   ORDER BY TweetCount DESC LIMIT 10\")\n",
    "dfLoc.show()"
   ]
  },
  {
   "cell_type": "code",
   "execution_count": 164,
   "id": "80c186b0",
   "metadata": {
    "vscode": {
     "languageId": "python"
    }
   },
   "outputs": [],
   "source": [
    "# select tweet id, geo, lang, quoted_status,quoted_status.geo \n",
    "# Having a look at some the data\n",
    "dfOne = spark.sql(\"SELECT DISTINCT id,  text, quote_count, reply_count, retweet_count, favorite_count, geo, place, lang, \\\n",
    "                  quoted_status,quoted_status.geo, quoted_status.text, user.name, user.location   \\\n",
    "                  FROM en_tweets\")"
   ]
  },
  {
   "cell_type": "code",
   "execution_count": 166,
   "id": "5bf79faf",
   "metadata": {
    "vscode": {
     "languageId": "python"
    }
   },
   "outputs": [
    {
     "name": "stderr",
     "output_type": "stream",
     "text": [
      "[Stage 472:==========================================>              (3 + 1) / 4]\r"
     ]
    },
    {
     "name": "stdout",
     "output_type": "stream",
     "text": [
      "+---------+----------+\n",
      "|     Date|TweetCount|\n",
      "+---------+----------+\n",
      "| 2021_1_1|        24|\n",
      "| 2021_1_2|        21|\n",
      "| 2021_1_3|        24|\n",
      "| 2021_1_4|        53|\n",
      "| 2021_1_5|        24|\n",
      "| 2021_1_6|        14|\n",
      "|2021_1_26|        31|\n",
      "|2021_1_27|        38|\n",
      "|2021_1_28|        33|\n",
      "|2021_1_29|        38|\n",
      "|2021_1_30|        16|\n",
      "|2021_1_31|        38|\n",
      "| 2021_2_1|        23|\n",
      "| 2021_2_2|        38|\n",
      "| 2021_2_3|        34|\n",
      "| 2021_2_4|        35|\n",
      "| 2021_2_5|        25|\n",
      "| 2021_2_6|        19|\n",
      "| 2021_2_7|        32|\n",
      "| 2021_2_8|        26|\n",
      "+---------+----------+\n",
      "only showing top 20 rows\n",
      "\n"
     ]
    },
    {
     "name": "stderr",
     "output_type": "stream",
     "text": [
      "                                                                                \r"
     ]
    }
   ],
   "source": [
    "\n",
    "dfDay= spark.sql(\"SELECT DISTINCT CAST(substring(created_at, 27, 4) AS INT) as Year, \\\n",
    "          CAST(from_unixtime(unix_timestamp(substring(created_at, 5, 3), 'MMM'), 'MM') As INT) as Month, \\\n",
    "          CAST(substring(created_at, 9, 2) AS INT) as Day, \\\n",
    "          CAST(count(id) AS INT) as TweetCount \\\n",
    "          FROM en_tweets \\\n",
    "          WHERE lang = 'en' AND text LIKE '%euro%' GROUP BY substring(created_at, 27, 4), \\\n",
    "          substring(created_at, 5, 3), \\\n",
    "          substring(created_at, 9, 2)\")\n",
    "\n",
    "dfDay.createOrReplaceTempView(\"tweetsByDay\")\n",
    "\n",
    "dfDay = spark.sql(\"SELECT CONCAT(Year, '_', Month, '_', DAY) AS Date, TweetCount  FROM tweetsByDay ORDER BY Year, Month, Day\")\n",
    "\n",
    "dfDay.show()\n"
   ]
  },
  {
   "cell_type": "code",
   "execution_count": 167,
   "id": "ccccb373",
   "metadata": {
    "vscode": {
     "languageId": "python"
    }
   },
   "outputs": [
    {
     "name": "stderr",
     "output_type": "stream",
     "text": [
      "2023-05-14 20:41:14,858 WARN window.WindowExec: No Partition Defined for Window operation! Moving all data to a single partition, this can cause serious performance degradation.\n",
      "2023-05-14 20:41:14,859 WARN window.WindowExec: No Partition Defined for Window operation! Moving all data to a single partition, this can cause serious performance degradation.\n",
      "2023-05-14 20:41:18,067 WARN window.WindowExec: No Partition Defined for Window operation! Moving all data to a single partition, this can cause serious performance degradation.\n",
      "2023-05-14 20:41:18,135 WARN window.WindowExec: No Partition Defined for Window operation! Moving all data to a single partition, this can cause serious performance degradation.\n",
      "2023-05-14 20:41:18,266 WARN window.WindowExec: No Partition Defined for Window operation! Moving all data to a single partition, this can cause serious performance degradation.\n",
      "2023-05-14 20:41:18,280 WARN window.WindowExec: No Partition Defined for Window operation! Moving all data to a single partition, this can cause serious performance degradation.\n"
     ]
    },
    {
     "data": {
      "application/vnd.plotly.v1+json": {
       "config": {
        "plotlyServerURL": "https://plot.ly"
       },
       "data": [
        {
         "alignmentgroup": "True",
         "hovertemplate": "Date=%{x}<br>TweetCount=%{y}<extra></extra>",
         "legendgroup": "",
         "marker": {
          "color": "#636efa",
          "pattern": {
           "shape": ""
          }
         },
         "name": "",
         "offsetgroup": "",
         "orientation": "v",
         "showlegend": false,
         "textposition": "auto",
         "type": "bar",
         "x": [
          "2021_1_1",
          "2021_1_2",
          "2021_1_3",
          "2021_1_4",
          "2021_1_5",
          "2021_1_6",
          "2021_1_26",
          "2021_1_27",
          "2021_1_28",
          "2021_1_29",
          "2021_1_30",
          "2021_1_31",
          "2021_2_1",
          "2021_2_2",
          "2021_2_3",
          "2021_2_4",
          "2021_2_5",
          "2021_2_6",
          "2021_2_7",
          "2021_2_8",
          "2021_2_9",
          "2021_2_10",
          "2021_2_11",
          "2021_2_12",
          "2021_2_13",
          "2021_2_14",
          "2021_2_15",
          "2021_2_16",
          "2021_2_17",
          "2021_2_18",
          "2021_2_19",
          "2021_2_20",
          "2021_2_21",
          "2021_2_22",
          "2021_2_23",
          "2021_2_24",
          "2021_2_25",
          "2021_2_26",
          "2021_2_27",
          "2021_2_28",
          "2021_3_1",
          "2021_3_2",
          "2021_3_3",
          "2021_3_4",
          "2021_3_5",
          "2021_3_6",
          "2021_3_7",
          "2021_3_8",
          "2021_3_9",
          "2021_3_10",
          "2021_3_11",
          "2021_3_12",
          "2021_3_13",
          "2021_3_14",
          "2021_3_15",
          "2021_3_16",
          "2021_3_17",
          "2021_3_18",
          "2021_3_19",
          "2021_3_20",
          "2021_3_21",
          "2021_3_22",
          "2021_3_23",
          "2021_3_24",
          "2021_3_25",
          "2021_3_26",
          "2021_3_27",
          "2021_3_28",
          "2021_3_29",
          "2021_3_30",
          "2021_3_31",
          "2021_4_1",
          "2021_4_2",
          "2021_4_3",
          "2021_4_4",
          "2021_4_5",
          "2021_4_6",
          "2021_4_7",
          "2021_4_8",
          "2021_4_9",
          "2021_4_10",
          "2021_4_27",
          "2021_4_28",
          "2021_4_29",
          "2021_4_30",
          "2021_5_1",
          "2021_5_2",
          "2021_5_3",
          "2021_5_4",
          "2021_5_5",
          "2021_5_6",
          "2021_5_7",
          "2021_5_8",
          "2021_5_9",
          "2021_5_10",
          "2021_5_11",
          "2021_5_12",
          "2021_5_13",
          "2021_5_14",
          "2021_5_15",
          "2021_5_16",
          "2021_5_17",
          "2021_5_18",
          "2021_5_19",
          "2021_5_20",
          "2021_5_21",
          "2021_5_22",
          "2021_5_23",
          "2021_5_24",
          "2021_5_25",
          "2021_5_26",
          "2021_5_27",
          "2021_5_28",
          "2021_5_29",
          "2021_5_30",
          "2021_5_31",
          "2021_6_1",
          "2021_6_2",
          "2021_6_3",
          "2021_6_4",
          "2021_6_5",
          "2021_6_6",
          "2021_6_7",
          "2021_6_8",
          "2021_6_9",
          "2021_6_10",
          "2021_6_11",
          "2021_6_12",
          "2021_6_13",
          "2021_6_14",
          "2021_6_15",
          "2021_6_16",
          "2021_6_17",
          "2021_6_18",
          "2021_6_19",
          "2021_6_20",
          "2021_6_21",
          "2021_6_22",
          "2021_6_23",
          "2021_6_24",
          "2021_6_25",
          "2021_6_26",
          "2021_6_27",
          "2021_6_28",
          "2021_6_29",
          "2021_6_30",
          "2021_7_1",
          "2021_7_2",
          "2021_7_3",
          "2021_7_4",
          "2021_7_5",
          "2021_7_6",
          "2021_7_7",
          "2021_7_8",
          "2021_7_9",
          "2021_7_10",
          "2021_7_11",
          "2021_7_12",
          "2021_7_13",
          "2021_7_14",
          "2021_7_15",
          "2021_7_16",
          "2021_7_17",
          "2021_7_18",
          "2021_7_19",
          "2021_7_20",
          "2021_7_21",
          "2021_7_22",
          "2021_7_23",
          "2021_7_24",
          "2021_7_25",
          "2021_7_26",
          "2021_7_27",
          "2021_7_28",
          "2021_7_29",
          "2021_7_30",
          "2021_7_31",
          "2021_8_1",
          "2021_8_2",
          "2021_8_3",
          "2021_8_4",
          "2021_8_5",
          "2021_8_6",
          "2021_8_7",
          "2021_8_8",
          "2021_8_9",
          "2021_8_10",
          "2021_8_11",
          "2021_8_12",
          "2021_8_13",
          "2021_8_14",
          "2021_8_15",
          "2021_8_16",
          "2021_8_17",
          "2021_8_18",
          "2021_8_19",
          "2021_8_20",
          "2021_8_21",
          "2021_8_22",
          "2021_8_23",
          "2021_8_24",
          "2021_8_25",
          "2021_8_26",
          "2021_8_27",
          "2021_8_28",
          "2021_8_29",
          "2021_8_30",
          "2021_8_31",
          "2021_9_1",
          "2021_9_2",
          "2021_9_3",
          "2021_9_4",
          "2021_9_5",
          "2021_9_6",
          "2021_9_7",
          "2021_9_8",
          "2021_9_9",
          "2021_9_10",
          "2021_9_11",
          "2021_9_12",
          "2021_9_13",
          "2021_9_14",
          "2021_9_15",
          "2021_9_16",
          "2021_9_17",
          "2021_9_18",
          "2021_9_19",
          "2021_9_20",
          "2021_9_21",
          "2021_9_22",
          "2021_9_23",
          "2021_9_24",
          "2021_9_25",
          "2021_9_26",
          "2021_9_27",
          "2021_9_28",
          "2021_9_29",
          "2021_9_30",
          "2021_10_1",
          "2021_10_2",
          "2021_10_3",
          "2021_10_4",
          "2021_10_5",
          "2021_10_6",
          "2021_10_7",
          "2021_10_8",
          "2021_10_9",
          "2021_10_10",
          "2021_10_11",
          "2021_10_12",
          "2021_10_13",
          "2021_10_14",
          "2021_10_15",
          "2021_10_16",
          "2021_10_17",
          "2021_10_18",
          "2021_10_19",
          "2021_10_20",
          "2021_10_21",
          "2021_10_22",
          "2021_10_23",
          "2021_10_24",
          "2021_10_25",
          "2021_10_26",
          "2021_10_27",
          "2021_10_28",
          "2021_10_29",
          "2021_10_30",
          "2021_10_31",
          "2021_11_1",
          "2021_11_2",
          "2021_11_3",
          "2021_11_4",
          "2021_11_5",
          "2021_11_6",
          "2021_11_7",
          "2021_11_8",
          "2021_11_9",
          "2021_11_10",
          "2021_11_11",
          "2021_11_12",
          "2021_11_13",
          "2021_11_14",
          "2021_11_15",
          "2021_11_16",
          "2021_11_17",
          "2021_11_18",
          "2021_11_19",
          "2021_12_1",
          "2021_12_2",
          "2021_12_3",
          "2021_12_4",
          "2021_12_5",
          "2021_12_6",
          "2021_12_7",
          "2021_12_8",
          "2021_12_9",
          "2021_12_10",
          "2021_12_11",
          "2021_12_12",
          "2021_12_13",
          "2021_12_14",
          "2021_12_15",
          "2021_12_16",
          "2021_12_17",
          "2021_12_18",
          "2021_12_19",
          "2021_12_20",
          "2021_12_21",
          "2021_12_22",
          "2021_12_23",
          "2021_12_24",
          "2021_12_25",
          "2021_12_26",
          "2021_12_28",
          "2021_12_29",
          "2021_12_30",
          "2021_12_31",
          "2022_1_1",
          "2022_1_2",
          "2022_1_3",
          "2022_1_4",
          "2022_1_5",
          "2022_1_6",
          "2022_1_7",
          "2022_1_9",
          "2022_2_1",
          "2022_2_11",
          "2022_2_12",
          "2022_2_14",
          "2022_2_21",
          "2022_2_22",
          "2022_2_23",
          "2022_2_24",
          "2022_2_26",
          "2022_3_1",
          "2022_3_2",
          "2022_3_3",
          "2022_3_4",
          "2022_3_5",
          "2022_3_6",
          "2022_3_7",
          "2022_3_8",
          "2022_3_9",
          "2022_3_10",
          "2022_3_11",
          "2022_3_12",
          "2022_3_13",
          "2022_3_14",
          "2022_3_15",
          "2022_3_16",
          "2022_3_17",
          "2022_3_18",
          "2022_3_19",
          "2022_3_20",
          "2022_3_21",
          "2022_3_22",
          "2022_3_23",
          "2022_3_24",
          "2022_3_25",
          "2022_3_26",
          "2022_3_27",
          "2022_3_28",
          "2022_3_29",
          "2022_3_30",
          "2022_3_31",
          "2022_4_1",
          "2022_4_2",
          "2022_4_3",
          "2022_4_4",
          "2022_4_5",
          "2022_4_6",
          "2022_4_7",
          "2022_4_8",
          "2022_4_9",
          "2022_4_10",
          "2022_4_11",
          "2022_4_12",
          "2022_4_13",
          "2022_4_14",
          "2022_4_15",
          "2022_4_16",
          "2022_4_17",
          "2022_4_18",
          "2022_4_19",
          "2022_4_20",
          "2022_4_21",
          "2022_4_22",
          "2022_4_23",
          "2022_4_24",
          "2022_4_25",
          "2022_4_26",
          "2022_4_27",
          "2022_4_28",
          "2022_4_29",
          "2022_4_30",
          "2022_5_1",
          "2022_5_2",
          "2022_5_3",
          "2022_5_4",
          "2022_5_5",
          "2022_5_6",
          "2022_5_7",
          "2022_5_8",
          "2022_5_9",
          "2022_5_10",
          "2022_5_11",
          "2022_5_12",
          "2022_5_13",
          "2022_5_14",
          "2022_5_15",
          "2022_5_16",
          "2022_5_17",
          "2022_5_18",
          "2022_5_19",
          "2022_5_20",
          "2022_5_21",
          "2022_5_22",
          "2022_5_23",
          "2022_5_24",
          "2022_5_25",
          "2022_5_26",
          "2022_5_27",
          "2022_5_28",
          "2022_5_29",
          "2022_5_30",
          "2022_5_31",
          "2022_6_1",
          "2022_6_2",
          "2022_6_3",
          "2022_6_4",
          "2022_6_5",
          "2022_6_6",
          "2022_6_7",
          "2022_6_8",
          "2022_6_9",
          "2022_6_10",
          "2022_6_11",
          "2022_6_12",
          "2022_6_13",
          "2022_6_14",
          "2022_6_15",
          "2022_6_16",
          "2022_6_17",
          "2022_6_18",
          "2022_6_19",
          "2022_6_20",
          "2022_6_21",
          "2022_6_22",
          "2022_6_23",
          "2022_6_24",
          "2022_6_25",
          "2022_6_26",
          "2022_6_27",
          "2022_6_28",
          "2022_6_29",
          "2022_6_30",
          "2022_7_1",
          "2022_7_2",
          "2022_7_3",
          "2022_7_4",
          "2022_7_5",
          "2022_7_6",
          "2022_7_7",
          "2022_7_8",
          "2022_7_9",
          "2022_7_10",
          "2022_7_11",
          "2022_7_12",
          "2022_7_13",
          "2022_7_14",
          "2022_7_15",
          "2022_7_16",
          "2022_7_17",
          "2022_7_18",
          "2022_7_19",
          "2022_7_20",
          "2022_7_21",
          "2022_7_22",
          "2022_7_23",
          "2022_7_24",
          "2022_7_25",
          "2022_7_26",
          "2022_7_27",
          "2022_7_28",
          "2022_7_29",
          "2022_7_30",
          "2022_7_31",
          "2022_8_1",
          "2022_8_2",
          "2022_8_3",
          "2022_8_4",
          "2022_8_5",
          "2022_8_6",
          "2022_8_7",
          "2022_8_8",
          "2022_8_9",
          "2022_8_10",
          "2022_8_11",
          "2022_8_12",
          "2022_8_13",
          "2022_8_14",
          "2022_8_15",
          "2022_8_16",
          "2022_8_17",
          "2022_8_18",
          "2022_8_19",
          "2022_8_20",
          "2022_8_21",
          "2022_8_22",
          "2022_8_23",
          "2022_8_24",
          "2022_8_25",
          "2022_8_26",
          "2022_8_27",
          "2022_8_28",
          "2022_8_29",
          "2022_8_30",
          "2022_8_31",
          "2022_9_1",
          "2022_9_2",
          "2022_9_3",
          "2022_9_4",
          "2022_9_5",
          "2022_9_6",
          "2022_9_7",
          "2022_9_8",
          "2022_9_9",
          "2022_9_10",
          "2022_9_11",
          "2022_9_12",
          "2022_9_13",
          "2022_9_14",
          "2022_9_15",
          "2022_9_16",
          "2022_9_17",
          "2022_9_18",
          "2022_9_19",
          "2022_9_20",
          "2022_9_21",
          "2022_9_22",
          "2022_9_23",
          "2022_9_24",
          "2022_9_25",
          "2022_9_26",
          "2022_9_27",
          "2022_9_28",
          "2022_9_29",
          "2022_9_30",
          "2022_10_1",
          "2022_10_2",
          "2022_10_3",
          "2022_10_4",
          "2022_10_5",
          "2022_10_6",
          "2022_10_7",
          "2022_10_8",
          "2022_10_9",
          "2022_10_10",
          "2022_10_11",
          "2022_10_12",
          "2022_10_13",
          "2022_10_14",
          "2022_10_15",
          "2022_10_16",
          "2022_10_17",
          "2022_10_18",
          "2022_10_19",
          "2022_10_20",
          "2022_10_21",
          "2022_10_22",
          "2022_10_23",
          "2022_10_24",
          "2022_10_25",
          "2022_10_26",
          "2022_10_27",
          "2022_10_28",
          "2022_10_29",
          "2022_10_30",
          "2022_10_31",
          "2022_11_1",
          "2022_11_2",
          "2022_11_3",
          "2022_11_4",
          "2022_11_5",
          "2022_11_6",
          "2022_11_7",
          "2022_11_8",
          "2022_11_9",
          "2022_11_10",
          "2022_11_11",
          "2022_11_12",
          "2022_11_13",
          "2022_11_14",
          "2022_11_15",
          "2022_11_16",
          "2022_11_17",
          "2022_11_18",
          "2022_11_19",
          "2022_11_20",
          "2022_11_21",
          "2022_11_22"
         ],
         "xaxis": "x",
         "y": [
          24,
          21,
          24,
          53,
          24,
          14,
          31,
          38,
          33,
          38,
          16,
          38,
          23,
          38,
          34,
          35,
          25,
          19,
          32,
          26,
          29,
          39,
          34,
          22,
          27,
          17,
          32,
          40,
          37,
          27,
          18,
          29,
          29,
          16,
          28,
          29,
          51,
          37,
          18,
          13,
          14,
          20,
          29,
          19,
          17,
          19,
          19,
          22,
          29,
          26,
          26,
          24,
          18,
          21,
          17,
          35,
          36,
          24,
          25,
          16,
          12,
          24,
          19,
          41,
          42,
          46,
          23,
          17,
          26,
          26,
          24,
          29,
          24,
          16,
          24,
          29,
          37,
          29,
          23,
          13,
          7,
          14,
          23,
          22,
          34,
          17,
          18,
          27,
          28,
          24,
          25,
          33,
          20,
          68,
          19,
          27,
          30,
          16,
          16,
          19,
          18,
          29,
          34,
          49,
          32,
          27,
          59,
          34,
          44,
          35,
          35,
          29,
          58,
          68,
          28,
          29,
          32,
          35,
          41,
          25,
          24,
          35,
          38,
          71,
          58,
          44,
          114,
          88,
          73,
          59,
          64,
          97,
          55,
          49,
          67,
          46,
          68,
          45,
          130,
          90,
          242,
          188,
          149,
          135,
          146,
          46,
          184,
          731,
          468,
          337,
          1255,
          35,
          137,
          81,
          58,
          68,
          27,
          195,
          20,
          72,
          50,
          30,
          44,
          55,
          34,
          23,
          14,
          33,
          4,
          1,
          12,
          3,
          18,
          24,
          20,
          33,
          32,
          25,
          44,
          18,
          34,
          26,
          37,
          15,
          25,
          21,
          27,
          29,
          27,
          23,
          22,
          19,
          15,
          24,
          31,
          33,
          16,
          13,
          9,
          27,
          30,
          31,
          29,
          36,
          19,
          19,
          22,
          21,
          23,
          35,
          30,
          18,
          126,
          76,
          26,
          39,
          18,
          10,
          19,
          14,
          17,
          15,
          26,
          14,
          17,
          14,
          23,
          25,
          19,
          21,
          23,
          35,
          15,
          12,
          29,
          25,
          23,
          19,
          31,
          17,
          10,
          34,
          22,
          27,
          24,
          33,
          26,
          27,
          21,
          34,
          28,
          35,
          38,
          18,
          13,
          22,
          25,
          24,
          17,
          13,
          11,
          14,
          18,
          19,
          27,
          27,
          22,
          15,
          19,
          11,
          20,
          19,
          25,
          23,
          15,
          21,
          12,
          19,
          34,
          37,
          54,
          14,
          11,
          33,
          32,
          46,
          38,
          7,
          29,
          23,
          16,
          16,
          16,
          43,
          21,
          28,
          17,
          22,
          17,
          20,
          9,
          26,
          21,
          13,
          25,
          14,
          20,
          24,
          20,
          37,
          21,
          14,
          12,
          7,
          207,
          33,
          31,
          29,
          29,
          177,
          75,
          39,
          29,
          31,
          30,
          27,
          34,
          45,
          36,
          46,
          28,
          32,
          32,
          49,
          71,
          52,
          69,
          29,
          47,
          53,
          118,
          111,
          41,
          112,
          87,
          84,
          38,
          31,
          26,
          37,
          37,
          25,
          28,
          31,
          33,
          18,
          21,
          55,
          56,
          35,
          17,
          31,
          26,
          45,
          65,
          37,
          63,
          43,
          35,
          37,
          35,
          52,
          85,
          72,
          80,
          78,
          68,
          61,
          57,
          51,
          38,
          17,
          21,
          16,
          23,
          24,
          29,
          52,
          23,
          33,
          41,
          58,
          79,
          43,
          93,
          31,
          22,
          36,
          31,
          40,
          49,
          48,
          31,
          30,
          30,
          65,
          88,
          43,
          38,
          60,
          47,
          53,
          58,
          62,
          47,
          40,
          41,
          35,
          36,
          52,
          30,
          28,
          49,
          58,
          43,
          36,
          49,
          84,
          60,
          36,
          34,
          39,
          16,
          27,
          33,
          73,
          51,
          20,
          28,
          32,
          44,
          56,
          61,
          51,
          32,
          14,
          18,
          19,
          60,
          85,
          26,
          16,
          18,
          31,
          31,
          32,
          36,
          42,
          33,
          48,
          72,
          93,
          73,
          40,
          69,
          64,
          53,
          76,
          360,
          175,
          69,
          40,
          38,
          37,
          56,
          57,
          54,
          41,
          46,
          161,
          207,
          113,
          42,
          48,
          28,
          81,
          26,
          63,
          36,
          71,
          35,
          58,
          51,
          27,
          21,
          21,
          19,
          32,
          20,
          16,
          15,
          11,
          21,
          28,
          20,
          28,
          29,
          24,
          24,
          43,
          53,
          34,
          26,
          25,
          25,
          33,
          28,
          28,
          35,
          24,
          39,
          53,
          75,
          63,
          30,
          14,
          51,
          16,
          25,
          25,
          18,
          21,
          11,
          40,
          45,
          27,
          28,
          25,
          26,
          24,
          16,
          70,
          36,
          27,
          107,
          74,
          69,
          57,
          81,
          53,
          39,
          32,
          13,
          26,
          27,
          44,
          24,
          21,
          23,
          30,
          30,
          26,
          24,
          23,
          19,
          28,
          28,
          28,
          27,
          31,
          20,
          18,
          25,
          21,
          40,
          105,
          47,
          30,
          40,
          51,
          34,
          32,
          36,
          32,
          35,
          30,
          51,
          30,
          28,
          22,
          21,
          18,
          10,
          30,
          24,
          33,
          21,
          31,
          21,
          26,
          79,
          70
         ],
         "yaxis": "y"
        }
       ],
       "layout": {
        "barmode": "relative",
        "legend": {
         "tracegroupgap": 0
        },
        "margin": {
         "t": 60
        },
        "template": {
         "data": {
          "bar": [
           {
            "error_x": {
             "color": "#2a3f5f"
            },
            "error_y": {
             "color": "#2a3f5f"
            },
            "marker": {
             "line": {
              "color": "#E5ECF6",
              "width": 0.5
             },
             "pattern": {
              "fillmode": "overlay",
              "size": 10,
              "solidity": 0.2
             }
            },
            "type": "bar"
           }
          ],
          "barpolar": [
           {
            "marker": {
             "line": {
              "color": "#E5ECF6",
              "width": 0.5
             },
             "pattern": {
              "fillmode": "overlay",
              "size": 10,
              "solidity": 0.2
             }
            },
            "type": "barpolar"
           }
          ],
          "carpet": [
           {
            "aaxis": {
             "endlinecolor": "#2a3f5f",
             "gridcolor": "white",
             "linecolor": "white",
             "minorgridcolor": "white",
             "startlinecolor": "#2a3f5f"
            },
            "baxis": {
             "endlinecolor": "#2a3f5f",
             "gridcolor": "white",
             "linecolor": "white",
             "minorgridcolor": "white",
             "startlinecolor": "#2a3f5f"
            },
            "type": "carpet"
           }
          ],
          "choropleth": [
           {
            "colorbar": {
             "outlinewidth": 0,
             "ticks": ""
            },
            "type": "choropleth"
           }
          ],
          "contour": [
           {
            "colorbar": {
             "outlinewidth": 0,
             "ticks": ""
            },
            "colorscale": [
             [
              0,
              "#0d0887"
             ],
             [
              0.1111111111111111,
              "#46039f"
             ],
             [
              0.2222222222222222,
              "#7201a8"
             ],
             [
              0.3333333333333333,
              "#9c179e"
             ],
             [
              0.4444444444444444,
              "#bd3786"
             ],
             [
              0.5555555555555556,
              "#d8576b"
             ],
             [
              0.6666666666666666,
              "#ed7953"
             ],
             [
              0.7777777777777778,
              "#fb9f3a"
             ],
             [
              0.8888888888888888,
              "#fdca26"
             ],
             [
              1,
              "#f0f921"
             ]
            ],
            "type": "contour"
           }
          ],
          "contourcarpet": [
           {
            "colorbar": {
             "outlinewidth": 0,
             "ticks": ""
            },
            "type": "contourcarpet"
           }
          ],
          "heatmap": [
           {
            "colorbar": {
             "outlinewidth": 0,
             "ticks": ""
            },
            "colorscale": [
             [
              0,
              "#0d0887"
             ],
             [
              0.1111111111111111,
              "#46039f"
             ],
             [
              0.2222222222222222,
              "#7201a8"
             ],
             [
              0.3333333333333333,
              "#9c179e"
             ],
             [
              0.4444444444444444,
              "#bd3786"
             ],
             [
              0.5555555555555556,
              "#d8576b"
             ],
             [
              0.6666666666666666,
              "#ed7953"
             ],
             [
              0.7777777777777778,
              "#fb9f3a"
             ],
             [
              0.8888888888888888,
              "#fdca26"
             ],
             [
              1,
              "#f0f921"
             ]
            ],
            "type": "heatmap"
           }
          ],
          "heatmapgl": [
           {
            "colorbar": {
             "outlinewidth": 0,
             "ticks": ""
            },
            "colorscale": [
             [
              0,
              "#0d0887"
             ],
             [
              0.1111111111111111,
              "#46039f"
             ],
             [
              0.2222222222222222,
              "#7201a8"
             ],
             [
              0.3333333333333333,
              "#9c179e"
             ],
             [
              0.4444444444444444,
              "#bd3786"
             ],
             [
              0.5555555555555556,
              "#d8576b"
             ],
             [
              0.6666666666666666,
              "#ed7953"
             ],
             [
              0.7777777777777778,
              "#fb9f3a"
             ],
             [
              0.8888888888888888,
              "#fdca26"
             ],
             [
              1,
              "#f0f921"
             ]
            ],
            "type": "heatmapgl"
           }
          ],
          "histogram": [
           {
            "marker": {
             "pattern": {
              "fillmode": "overlay",
              "size": 10,
              "solidity": 0.2
             }
            },
            "type": "histogram"
           }
          ],
          "histogram2d": [
           {
            "colorbar": {
             "outlinewidth": 0,
             "ticks": ""
            },
            "colorscale": [
             [
              0,
              "#0d0887"
             ],
             [
              0.1111111111111111,
              "#46039f"
             ],
             [
              0.2222222222222222,
              "#7201a8"
             ],
             [
              0.3333333333333333,
              "#9c179e"
             ],
             [
              0.4444444444444444,
              "#bd3786"
             ],
             [
              0.5555555555555556,
              "#d8576b"
             ],
             [
              0.6666666666666666,
              "#ed7953"
             ],
             [
              0.7777777777777778,
              "#fb9f3a"
             ],
             [
              0.8888888888888888,
              "#fdca26"
             ],
             [
              1,
              "#f0f921"
             ]
            ],
            "type": "histogram2d"
           }
          ],
          "histogram2dcontour": [
           {
            "colorbar": {
             "outlinewidth": 0,
             "ticks": ""
            },
            "colorscale": [
             [
              0,
              "#0d0887"
             ],
             [
              0.1111111111111111,
              "#46039f"
             ],
             [
              0.2222222222222222,
              "#7201a8"
             ],
             [
              0.3333333333333333,
              "#9c179e"
             ],
             [
              0.4444444444444444,
              "#bd3786"
             ],
             [
              0.5555555555555556,
              "#d8576b"
             ],
             [
              0.6666666666666666,
              "#ed7953"
             ],
             [
              0.7777777777777778,
              "#fb9f3a"
             ],
             [
              0.8888888888888888,
              "#fdca26"
             ],
             [
              1,
              "#f0f921"
             ]
            ],
            "type": "histogram2dcontour"
           }
          ],
          "mesh3d": [
           {
            "colorbar": {
             "outlinewidth": 0,
             "ticks": ""
            },
            "type": "mesh3d"
           }
          ],
          "parcoords": [
           {
            "line": {
             "colorbar": {
              "outlinewidth": 0,
              "ticks": ""
             }
            },
            "type": "parcoords"
           }
          ],
          "pie": [
           {
            "automargin": true,
            "type": "pie"
           }
          ],
          "scatter": [
           {
            "fillpattern": {
             "fillmode": "overlay",
             "size": 10,
             "solidity": 0.2
            },
            "type": "scatter"
           }
          ],
          "scatter3d": [
           {
            "line": {
             "colorbar": {
              "outlinewidth": 0,
              "ticks": ""
             }
            },
            "marker": {
             "colorbar": {
              "outlinewidth": 0,
              "ticks": ""
             }
            },
            "type": "scatter3d"
           }
          ],
          "scattercarpet": [
           {
            "marker": {
             "colorbar": {
              "outlinewidth": 0,
              "ticks": ""
             }
            },
            "type": "scattercarpet"
           }
          ],
          "scattergeo": [
           {
            "marker": {
             "colorbar": {
              "outlinewidth": 0,
              "ticks": ""
             }
            },
            "type": "scattergeo"
           }
          ],
          "scattergl": [
           {
            "marker": {
             "colorbar": {
              "outlinewidth": 0,
              "ticks": ""
             }
            },
            "type": "scattergl"
           }
          ],
          "scattermapbox": [
           {
            "marker": {
             "colorbar": {
              "outlinewidth": 0,
              "ticks": ""
             }
            },
            "type": "scattermapbox"
           }
          ],
          "scatterpolar": [
           {
            "marker": {
             "colorbar": {
              "outlinewidth": 0,
              "ticks": ""
             }
            },
            "type": "scatterpolar"
           }
          ],
          "scatterpolargl": [
           {
            "marker": {
             "colorbar": {
              "outlinewidth": 0,
              "ticks": ""
             }
            },
            "type": "scatterpolargl"
           }
          ],
          "scatterternary": [
           {
            "marker": {
             "colorbar": {
              "outlinewidth": 0,
              "ticks": ""
             }
            },
            "type": "scatterternary"
           }
          ],
          "surface": [
           {
            "colorbar": {
             "outlinewidth": 0,
             "ticks": ""
            },
            "colorscale": [
             [
              0,
              "#0d0887"
             ],
             [
              0.1111111111111111,
              "#46039f"
             ],
             [
              0.2222222222222222,
              "#7201a8"
             ],
             [
              0.3333333333333333,
              "#9c179e"
             ],
             [
              0.4444444444444444,
              "#bd3786"
             ],
             [
              0.5555555555555556,
              "#d8576b"
             ],
             [
              0.6666666666666666,
              "#ed7953"
             ],
             [
              0.7777777777777778,
              "#fb9f3a"
             ],
             [
              0.8888888888888888,
              "#fdca26"
             ],
             [
              1,
              "#f0f921"
             ]
            ],
            "type": "surface"
           }
          ],
          "table": [
           {
            "cells": {
             "fill": {
              "color": "#EBF0F8"
             },
             "line": {
              "color": "white"
             }
            },
            "header": {
             "fill": {
              "color": "#C8D4E3"
             },
             "line": {
              "color": "white"
             }
            },
            "type": "table"
           }
          ]
         },
         "layout": {
          "annotationdefaults": {
           "arrowcolor": "#2a3f5f",
           "arrowhead": 0,
           "arrowwidth": 1
          },
          "autotypenumbers": "strict",
          "coloraxis": {
           "colorbar": {
            "outlinewidth": 0,
            "ticks": ""
           }
          },
          "colorscale": {
           "diverging": [
            [
             0,
             "#8e0152"
            ],
            [
             0.1,
             "#c51b7d"
            ],
            [
             0.2,
             "#de77ae"
            ],
            [
             0.3,
             "#f1b6da"
            ],
            [
             0.4,
             "#fde0ef"
            ],
            [
             0.5,
             "#f7f7f7"
            ],
            [
             0.6,
             "#e6f5d0"
            ],
            [
             0.7,
             "#b8e186"
            ],
            [
             0.8,
             "#7fbc41"
            ],
            [
             0.9,
             "#4d9221"
            ],
            [
             1,
             "#276419"
            ]
           ],
           "sequential": [
            [
             0,
             "#0d0887"
            ],
            [
             0.1111111111111111,
             "#46039f"
            ],
            [
             0.2222222222222222,
             "#7201a8"
            ],
            [
             0.3333333333333333,
             "#9c179e"
            ],
            [
             0.4444444444444444,
             "#bd3786"
            ],
            [
             0.5555555555555556,
             "#d8576b"
            ],
            [
             0.6666666666666666,
             "#ed7953"
            ],
            [
             0.7777777777777778,
             "#fb9f3a"
            ],
            [
             0.8888888888888888,
             "#fdca26"
            ],
            [
             1,
             "#f0f921"
            ]
           ],
           "sequentialminus": [
            [
             0,
             "#0d0887"
            ],
            [
             0.1111111111111111,
             "#46039f"
            ],
            [
             0.2222222222222222,
             "#7201a8"
            ],
            [
             0.3333333333333333,
             "#9c179e"
            ],
            [
             0.4444444444444444,
             "#bd3786"
            ],
            [
             0.5555555555555556,
             "#d8576b"
            ],
            [
             0.6666666666666666,
             "#ed7953"
            ],
            [
             0.7777777777777778,
             "#fb9f3a"
            ],
            [
             0.8888888888888888,
             "#fdca26"
            ],
            [
             1,
             "#f0f921"
            ]
           ]
          },
          "colorway": [
           "#636efa",
           "#EF553B",
           "#00cc96",
           "#ab63fa",
           "#FFA15A",
           "#19d3f3",
           "#FF6692",
           "#B6E880",
           "#FF97FF",
           "#FECB52"
          ],
          "font": {
           "color": "#2a3f5f"
          },
          "geo": {
           "bgcolor": "white",
           "lakecolor": "white",
           "landcolor": "#E5ECF6",
           "showlakes": true,
           "showland": true,
           "subunitcolor": "white"
          },
          "hoverlabel": {
           "align": "left"
          },
          "hovermode": "closest",
          "mapbox": {
           "style": "light"
          },
          "paper_bgcolor": "white",
          "plot_bgcolor": "#E5ECF6",
          "polar": {
           "angularaxis": {
            "gridcolor": "white",
            "linecolor": "white",
            "ticks": ""
           },
           "bgcolor": "#E5ECF6",
           "radialaxis": {
            "gridcolor": "white",
            "linecolor": "white",
            "ticks": ""
           }
          },
          "scene": {
           "xaxis": {
            "backgroundcolor": "#E5ECF6",
            "gridcolor": "white",
            "gridwidth": 2,
            "linecolor": "white",
            "showbackground": true,
            "ticks": "",
            "zerolinecolor": "white"
           },
           "yaxis": {
            "backgroundcolor": "#E5ECF6",
            "gridcolor": "white",
            "gridwidth": 2,
            "linecolor": "white",
            "showbackground": true,
            "ticks": "",
            "zerolinecolor": "white"
           },
           "zaxis": {
            "backgroundcolor": "#E5ECF6",
            "gridcolor": "white",
            "gridwidth": 2,
            "linecolor": "white",
            "showbackground": true,
            "ticks": "",
            "zerolinecolor": "white"
           }
          },
          "shapedefaults": {
           "line": {
            "color": "#2a3f5f"
           }
          },
          "ternary": {
           "aaxis": {
            "gridcolor": "white",
            "linecolor": "white",
            "ticks": ""
           },
           "baxis": {
            "gridcolor": "white",
            "linecolor": "white",
            "ticks": ""
           },
           "bgcolor": "#E5ECF6",
           "caxis": {
            "gridcolor": "white",
            "linecolor": "white",
            "ticks": ""
           }
          },
          "title": {
           "x": 0.05
          },
          "xaxis": {
           "automargin": true,
           "gridcolor": "white",
           "linecolor": "white",
           "ticks": "",
           "title": {
            "standoff": 15
           },
           "zerolinecolor": "white",
           "zerolinewidth": 2
          },
          "yaxis": {
           "automargin": true,
           "gridcolor": "white",
           "linecolor": "white",
           "ticks": "",
           "title": {
            "standoff": 15
           },
           "zerolinecolor": "white",
           "zerolinewidth": 2
          }
         }
        },
        "xaxis": {
         "anchor": "y",
         "domain": [
          0,
          1
         ],
         "title": {
          "text": "Date"
         }
        },
        "yaxis": {
         "anchor": "x",
         "domain": [
          0,
          1
         ],
         "title": {
          "text": "TweetCount"
         }
        }
       }
      },
      "text/html": [
       "<div>                            <div id=\"5778edef-8c07-4ae9-b718-da2424a8cf21\" class=\"plotly-graph-div\" style=\"height:525px; width:100%;\"></div>            <script type=\"text/javascript\">                require([\"plotly\"], function(Plotly) {                    window.PLOTLYENV=window.PLOTLYENV || {};                                    if (document.getElementById(\"5778edef-8c07-4ae9-b718-da2424a8cf21\")) {                    Plotly.newPlot(                        \"5778edef-8c07-4ae9-b718-da2424a8cf21\",                        [{\"alignmentgroup\":\"True\",\"hovertemplate\":\"Date=%{x}<br>TweetCount=%{y}<extra></extra>\",\"legendgroup\":\"\",\"marker\":{\"color\":\"#636efa\",\"pattern\":{\"shape\":\"\"}},\"name\":\"\",\"offsetgroup\":\"\",\"orientation\":\"v\",\"showlegend\":false,\"textposition\":\"auto\",\"x\":[\"2021_1_1\",\"2021_1_2\",\"2021_1_3\",\"2021_1_4\",\"2021_1_5\",\"2021_1_6\",\"2021_1_26\",\"2021_1_27\",\"2021_1_28\",\"2021_1_29\",\"2021_1_30\",\"2021_1_31\",\"2021_2_1\",\"2021_2_2\",\"2021_2_3\",\"2021_2_4\",\"2021_2_5\",\"2021_2_6\",\"2021_2_7\",\"2021_2_8\",\"2021_2_9\",\"2021_2_10\",\"2021_2_11\",\"2021_2_12\",\"2021_2_13\",\"2021_2_14\",\"2021_2_15\",\"2021_2_16\",\"2021_2_17\",\"2021_2_18\",\"2021_2_19\",\"2021_2_20\",\"2021_2_21\",\"2021_2_22\",\"2021_2_23\",\"2021_2_24\",\"2021_2_25\",\"2021_2_26\",\"2021_2_27\",\"2021_2_28\",\"2021_3_1\",\"2021_3_2\",\"2021_3_3\",\"2021_3_4\",\"2021_3_5\",\"2021_3_6\",\"2021_3_7\",\"2021_3_8\",\"2021_3_9\",\"2021_3_10\",\"2021_3_11\",\"2021_3_12\",\"2021_3_13\",\"2021_3_14\",\"2021_3_15\",\"2021_3_16\",\"2021_3_17\",\"2021_3_18\",\"2021_3_19\",\"2021_3_20\",\"2021_3_21\",\"2021_3_22\",\"2021_3_23\",\"2021_3_24\",\"2021_3_25\",\"2021_3_26\",\"2021_3_27\",\"2021_3_28\",\"2021_3_29\",\"2021_3_30\",\"2021_3_31\",\"2021_4_1\",\"2021_4_2\",\"2021_4_3\",\"2021_4_4\",\"2021_4_5\",\"2021_4_6\",\"2021_4_7\",\"2021_4_8\",\"2021_4_9\",\"2021_4_10\",\"2021_4_27\",\"2021_4_28\",\"2021_4_29\",\"2021_4_30\",\"2021_5_1\",\"2021_5_2\",\"2021_5_3\",\"2021_5_4\",\"2021_5_5\",\"2021_5_6\",\"2021_5_7\",\"2021_5_8\",\"2021_5_9\",\"2021_5_10\",\"2021_5_11\",\"2021_5_12\",\"2021_5_13\",\"2021_5_14\",\"2021_5_15\",\"2021_5_16\",\"2021_5_17\",\"2021_5_18\",\"2021_5_19\",\"2021_5_20\",\"2021_5_21\",\"2021_5_22\",\"2021_5_23\",\"2021_5_24\",\"2021_5_25\",\"2021_5_26\",\"2021_5_27\",\"2021_5_28\",\"2021_5_29\",\"2021_5_30\",\"2021_5_31\",\"2021_6_1\",\"2021_6_2\",\"2021_6_3\",\"2021_6_4\",\"2021_6_5\",\"2021_6_6\",\"2021_6_7\",\"2021_6_8\",\"2021_6_9\",\"2021_6_10\",\"2021_6_11\",\"2021_6_12\",\"2021_6_13\",\"2021_6_14\",\"2021_6_15\",\"2021_6_16\",\"2021_6_17\",\"2021_6_18\",\"2021_6_19\",\"2021_6_20\",\"2021_6_21\",\"2021_6_22\",\"2021_6_23\",\"2021_6_24\",\"2021_6_25\",\"2021_6_26\",\"2021_6_27\",\"2021_6_28\",\"2021_6_29\",\"2021_6_30\",\"2021_7_1\",\"2021_7_2\",\"2021_7_3\",\"2021_7_4\",\"2021_7_5\",\"2021_7_6\",\"2021_7_7\",\"2021_7_8\",\"2021_7_9\",\"2021_7_10\",\"2021_7_11\",\"2021_7_12\",\"2021_7_13\",\"2021_7_14\",\"2021_7_15\",\"2021_7_16\",\"2021_7_17\",\"2021_7_18\",\"2021_7_19\",\"2021_7_20\",\"2021_7_21\",\"2021_7_22\",\"2021_7_23\",\"2021_7_24\",\"2021_7_25\",\"2021_7_26\",\"2021_7_27\",\"2021_7_28\",\"2021_7_29\",\"2021_7_30\",\"2021_7_31\",\"2021_8_1\",\"2021_8_2\",\"2021_8_3\",\"2021_8_4\",\"2021_8_5\",\"2021_8_6\",\"2021_8_7\",\"2021_8_8\",\"2021_8_9\",\"2021_8_10\",\"2021_8_11\",\"2021_8_12\",\"2021_8_13\",\"2021_8_14\",\"2021_8_15\",\"2021_8_16\",\"2021_8_17\",\"2021_8_18\",\"2021_8_19\",\"2021_8_20\",\"2021_8_21\",\"2021_8_22\",\"2021_8_23\",\"2021_8_24\",\"2021_8_25\",\"2021_8_26\",\"2021_8_27\",\"2021_8_28\",\"2021_8_29\",\"2021_8_30\",\"2021_8_31\",\"2021_9_1\",\"2021_9_2\",\"2021_9_3\",\"2021_9_4\",\"2021_9_5\",\"2021_9_6\",\"2021_9_7\",\"2021_9_8\",\"2021_9_9\",\"2021_9_10\",\"2021_9_11\",\"2021_9_12\",\"2021_9_13\",\"2021_9_14\",\"2021_9_15\",\"2021_9_16\",\"2021_9_17\",\"2021_9_18\",\"2021_9_19\",\"2021_9_20\",\"2021_9_21\",\"2021_9_22\",\"2021_9_23\",\"2021_9_24\",\"2021_9_25\",\"2021_9_26\",\"2021_9_27\",\"2021_9_28\",\"2021_9_29\",\"2021_9_30\",\"2021_10_1\",\"2021_10_2\",\"2021_10_3\",\"2021_10_4\",\"2021_10_5\",\"2021_10_6\",\"2021_10_7\",\"2021_10_8\",\"2021_10_9\",\"2021_10_10\",\"2021_10_11\",\"2021_10_12\",\"2021_10_13\",\"2021_10_14\",\"2021_10_15\",\"2021_10_16\",\"2021_10_17\",\"2021_10_18\",\"2021_10_19\",\"2021_10_20\",\"2021_10_21\",\"2021_10_22\",\"2021_10_23\",\"2021_10_24\",\"2021_10_25\",\"2021_10_26\",\"2021_10_27\",\"2021_10_28\",\"2021_10_29\",\"2021_10_30\",\"2021_10_31\",\"2021_11_1\",\"2021_11_2\",\"2021_11_3\",\"2021_11_4\",\"2021_11_5\",\"2021_11_6\",\"2021_11_7\",\"2021_11_8\",\"2021_11_9\",\"2021_11_10\",\"2021_11_11\",\"2021_11_12\",\"2021_11_13\",\"2021_11_14\",\"2021_11_15\",\"2021_11_16\",\"2021_11_17\",\"2021_11_18\",\"2021_11_19\",\"2021_12_1\",\"2021_12_2\",\"2021_12_3\",\"2021_12_4\",\"2021_12_5\",\"2021_12_6\",\"2021_12_7\",\"2021_12_8\",\"2021_12_9\",\"2021_12_10\",\"2021_12_11\",\"2021_12_12\",\"2021_12_13\",\"2021_12_14\",\"2021_12_15\",\"2021_12_16\",\"2021_12_17\",\"2021_12_18\",\"2021_12_19\",\"2021_12_20\",\"2021_12_21\",\"2021_12_22\",\"2021_12_23\",\"2021_12_24\",\"2021_12_25\",\"2021_12_26\",\"2021_12_28\",\"2021_12_29\",\"2021_12_30\",\"2021_12_31\",\"2022_1_1\",\"2022_1_2\",\"2022_1_3\",\"2022_1_4\",\"2022_1_5\",\"2022_1_6\",\"2022_1_7\",\"2022_1_9\",\"2022_2_1\",\"2022_2_11\",\"2022_2_12\",\"2022_2_14\",\"2022_2_21\",\"2022_2_22\",\"2022_2_23\",\"2022_2_24\",\"2022_2_26\",\"2022_3_1\",\"2022_3_2\",\"2022_3_3\",\"2022_3_4\",\"2022_3_5\",\"2022_3_6\",\"2022_3_7\",\"2022_3_8\",\"2022_3_9\",\"2022_3_10\",\"2022_3_11\",\"2022_3_12\",\"2022_3_13\",\"2022_3_14\",\"2022_3_15\",\"2022_3_16\",\"2022_3_17\",\"2022_3_18\",\"2022_3_19\",\"2022_3_20\",\"2022_3_21\",\"2022_3_22\",\"2022_3_23\",\"2022_3_24\",\"2022_3_25\",\"2022_3_26\",\"2022_3_27\",\"2022_3_28\",\"2022_3_29\",\"2022_3_30\",\"2022_3_31\",\"2022_4_1\",\"2022_4_2\",\"2022_4_3\",\"2022_4_4\",\"2022_4_5\",\"2022_4_6\",\"2022_4_7\",\"2022_4_8\",\"2022_4_9\",\"2022_4_10\",\"2022_4_11\",\"2022_4_12\",\"2022_4_13\",\"2022_4_14\",\"2022_4_15\",\"2022_4_16\",\"2022_4_17\",\"2022_4_18\",\"2022_4_19\",\"2022_4_20\",\"2022_4_21\",\"2022_4_22\",\"2022_4_23\",\"2022_4_24\",\"2022_4_25\",\"2022_4_26\",\"2022_4_27\",\"2022_4_28\",\"2022_4_29\",\"2022_4_30\",\"2022_5_1\",\"2022_5_2\",\"2022_5_3\",\"2022_5_4\",\"2022_5_5\",\"2022_5_6\",\"2022_5_7\",\"2022_5_8\",\"2022_5_9\",\"2022_5_10\",\"2022_5_11\",\"2022_5_12\",\"2022_5_13\",\"2022_5_14\",\"2022_5_15\",\"2022_5_16\",\"2022_5_17\",\"2022_5_18\",\"2022_5_19\",\"2022_5_20\",\"2022_5_21\",\"2022_5_22\",\"2022_5_23\",\"2022_5_24\",\"2022_5_25\",\"2022_5_26\",\"2022_5_27\",\"2022_5_28\",\"2022_5_29\",\"2022_5_30\",\"2022_5_31\",\"2022_6_1\",\"2022_6_2\",\"2022_6_3\",\"2022_6_4\",\"2022_6_5\",\"2022_6_6\",\"2022_6_7\",\"2022_6_8\",\"2022_6_9\",\"2022_6_10\",\"2022_6_11\",\"2022_6_12\",\"2022_6_13\",\"2022_6_14\",\"2022_6_15\",\"2022_6_16\",\"2022_6_17\",\"2022_6_18\",\"2022_6_19\",\"2022_6_20\",\"2022_6_21\",\"2022_6_22\",\"2022_6_23\",\"2022_6_24\",\"2022_6_25\",\"2022_6_26\",\"2022_6_27\",\"2022_6_28\",\"2022_6_29\",\"2022_6_30\",\"2022_7_1\",\"2022_7_2\",\"2022_7_3\",\"2022_7_4\",\"2022_7_5\",\"2022_7_6\",\"2022_7_7\",\"2022_7_8\",\"2022_7_9\",\"2022_7_10\",\"2022_7_11\",\"2022_7_12\",\"2022_7_13\",\"2022_7_14\",\"2022_7_15\",\"2022_7_16\",\"2022_7_17\",\"2022_7_18\",\"2022_7_19\",\"2022_7_20\",\"2022_7_21\",\"2022_7_22\",\"2022_7_23\",\"2022_7_24\",\"2022_7_25\",\"2022_7_26\",\"2022_7_27\",\"2022_7_28\",\"2022_7_29\",\"2022_7_30\",\"2022_7_31\",\"2022_8_1\",\"2022_8_2\",\"2022_8_3\",\"2022_8_4\",\"2022_8_5\",\"2022_8_6\",\"2022_8_7\",\"2022_8_8\",\"2022_8_9\",\"2022_8_10\",\"2022_8_11\",\"2022_8_12\",\"2022_8_13\",\"2022_8_14\",\"2022_8_15\",\"2022_8_16\",\"2022_8_17\",\"2022_8_18\",\"2022_8_19\",\"2022_8_20\",\"2022_8_21\",\"2022_8_22\",\"2022_8_23\",\"2022_8_24\",\"2022_8_25\",\"2022_8_26\",\"2022_8_27\",\"2022_8_28\",\"2022_8_29\",\"2022_8_30\",\"2022_8_31\",\"2022_9_1\",\"2022_9_2\",\"2022_9_3\",\"2022_9_4\",\"2022_9_5\",\"2022_9_6\",\"2022_9_7\",\"2022_9_8\",\"2022_9_9\",\"2022_9_10\",\"2022_9_11\",\"2022_9_12\",\"2022_9_13\",\"2022_9_14\",\"2022_9_15\",\"2022_9_16\",\"2022_9_17\",\"2022_9_18\",\"2022_9_19\",\"2022_9_20\",\"2022_9_21\",\"2022_9_22\",\"2022_9_23\",\"2022_9_24\",\"2022_9_25\",\"2022_9_26\",\"2022_9_27\",\"2022_9_28\",\"2022_9_29\",\"2022_9_30\",\"2022_10_1\",\"2022_10_2\",\"2022_10_3\",\"2022_10_4\",\"2022_10_5\",\"2022_10_6\",\"2022_10_7\",\"2022_10_8\",\"2022_10_9\",\"2022_10_10\",\"2022_10_11\",\"2022_10_12\",\"2022_10_13\",\"2022_10_14\",\"2022_10_15\",\"2022_10_16\",\"2022_10_17\",\"2022_10_18\",\"2022_10_19\",\"2022_10_20\",\"2022_10_21\",\"2022_10_22\",\"2022_10_23\",\"2022_10_24\",\"2022_10_25\",\"2022_10_26\",\"2022_10_27\",\"2022_10_28\",\"2022_10_29\",\"2022_10_30\",\"2022_10_31\",\"2022_11_1\",\"2022_11_2\",\"2022_11_3\",\"2022_11_4\",\"2022_11_5\",\"2022_11_6\",\"2022_11_7\",\"2022_11_8\",\"2022_11_9\",\"2022_11_10\",\"2022_11_11\",\"2022_11_12\",\"2022_11_13\",\"2022_11_14\",\"2022_11_15\",\"2022_11_16\",\"2022_11_17\",\"2022_11_18\",\"2022_11_19\",\"2022_11_20\",\"2022_11_21\",\"2022_11_22\"],\"xaxis\":\"x\",\"y\":[24,21,24,53,24,14,31,38,33,38,16,38,23,38,34,35,25,19,32,26,29,39,34,22,27,17,32,40,37,27,18,29,29,16,28,29,51,37,18,13,14,20,29,19,17,19,19,22,29,26,26,24,18,21,17,35,36,24,25,16,12,24,19,41,42,46,23,17,26,26,24,29,24,16,24,29,37,29,23,13,7,14,23,22,34,17,18,27,28,24,25,33,20,68,19,27,30,16,16,19,18,29,34,49,32,27,59,34,44,35,35,29,58,68,28,29,32,35,41,25,24,35,38,71,58,44,114,88,73,59,64,97,55,49,67,46,68,45,130,90,242,188,149,135,146,46,184,731,468,337,1255,35,137,81,58,68,27,195,20,72,50,30,44,55,34,23,14,33,4,1,12,3,18,24,20,33,32,25,44,18,34,26,37,15,25,21,27,29,27,23,22,19,15,24,31,33,16,13,9,27,30,31,29,36,19,19,22,21,23,35,30,18,126,76,26,39,18,10,19,14,17,15,26,14,17,14,23,25,19,21,23,35,15,12,29,25,23,19,31,17,10,34,22,27,24,33,26,27,21,34,28,35,38,18,13,22,25,24,17,13,11,14,18,19,27,27,22,15,19,11,20,19,25,23,15,21,12,19,34,37,54,14,11,33,32,46,38,7,29,23,16,16,16,43,21,28,17,22,17,20,9,26,21,13,25,14,20,24,20,37,21,14,12,7,207,33,31,29,29,177,75,39,29,31,30,27,34,45,36,46,28,32,32,49,71,52,69,29,47,53,118,111,41,112,87,84,38,31,26,37,37,25,28,31,33,18,21,55,56,35,17,31,26,45,65,37,63,43,35,37,35,52,85,72,80,78,68,61,57,51,38,17,21,16,23,24,29,52,23,33,41,58,79,43,93,31,22,36,31,40,49,48,31,30,30,65,88,43,38,60,47,53,58,62,47,40,41,35,36,52,30,28,49,58,43,36,49,84,60,36,34,39,16,27,33,73,51,20,28,32,44,56,61,51,32,14,18,19,60,85,26,16,18,31,31,32,36,42,33,48,72,93,73,40,69,64,53,76,360,175,69,40,38,37,56,57,54,41,46,161,207,113,42,48,28,81,26,63,36,71,35,58,51,27,21,21,19,32,20,16,15,11,21,28,20,28,29,24,24,43,53,34,26,25,25,33,28,28,35,24,39,53,75,63,30,14,51,16,25,25,18,21,11,40,45,27,28,25,26,24,16,70,36,27,107,74,69,57,81,53,39,32,13,26,27,44,24,21,23,30,30,26,24,23,19,28,28,28,27,31,20,18,25,21,40,105,47,30,40,51,34,32,36,32,35,30,51,30,28,22,21,18,10,30,24,33,21,31,21,26,79,70],\"yaxis\":\"y\",\"type\":\"bar\"}],                        {\"template\":{\"data\":{\"histogram2dcontour\":[{\"type\":\"histogram2dcontour\",\"colorbar\":{\"outlinewidth\":0,\"ticks\":\"\"},\"colorscale\":[[0.0,\"#0d0887\"],[0.1111111111111111,\"#46039f\"],[0.2222222222222222,\"#7201a8\"],[0.3333333333333333,\"#9c179e\"],[0.4444444444444444,\"#bd3786\"],[0.5555555555555556,\"#d8576b\"],[0.6666666666666666,\"#ed7953\"],[0.7777777777777778,\"#fb9f3a\"],[0.8888888888888888,\"#fdca26\"],[1.0,\"#f0f921\"]]}],\"choropleth\":[{\"type\":\"choropleth\",\"colorbar\":{\"outlinewidth\":0,\"ticks\":\"\"}}],\"histogram2d\":[{\"type\":\"histogram2d\",\"colorbar\":{\"outlinewidth\":0,\"ticks\":\"\"},\"colorscale\":[[0.0,\"#0d0887\"],[0.1111111111111111,\"#46039f\"],[0.2222222222222222,\"#7201a8\"],[0.3333333333333333,\"#9c179e\"],[0.4444444444444444,\"#bd3786\"],[0.5555555555555556,\"#d8576b\"],[0.6666666666666666,\"#ed7953\"],[0.7777777777777778,\"#fb9f3a\"],[0.8888888888888888,\"#fdca26\"],[1.0,\"#f0f921\"]]}],\"heatmap\":[{\"type\":\"heatmap\",\"colorbar\":{\"outlinewidth\":0,\"ticks\":\"\"},\"colorscale\":[[0.0,\"#0d0887\"],[0.1111111111111111,\"#46039f\"],[0.2222222222222222,\"#7201a8\"],[0.3333333333333333,\"#9c179e\"],[0.4444444444444444,\"#bd3786\"],[0.5555555555555556,\"#d8576b\"],[0.6666666666666666,\"#ed7953\"],[0.7777777777777778,\"#fb9f3a\"],[0.8888888888888888,\"#fdca26\"],[1.0,\"#f0f921\"]]}],\"heatmapgl\":[{\"type\":\"heatmapgl\",\"colorbar\":{\"outlinewidth\":0,\"ticks\":\"\"},\"colorscale\":[[0.0,\"#0d0887\"],[0.1111111111111111,\"#46039f\"],[0.2222222222222222,\"#7201a8\"],[0.3333333333333333,\"#9c179e\"],[0.4444444444444444,\"#bd3786\"],[0.5555555555555556,\"#d8576b\"],[0.6666666666666666,\"#ed7953\"],[0.7777777777777778,\"#fb9f3a\"],[0.8888888888888888,\"#fdca26\"],[1.0,\"#f0f921\"]]}],\"contourcarpet\":[{\"type\":\"contourcarpet\",\"colorbar\":{\"outlinewidth\":0,\"ticks\":\"\"}}],\"contour\":[{\"type\":\"contour\",\"colorbar\":{\"outlinewidth\":0,\"ticks\":\"\"},\"colorscale\":[[0.0,\"#0d0887\"],[0.1111111111111111,\"#46039f\"],[0.2222222222222222,\"#7201a8\"],[0.3333333333333333,\"#9c179e\"],[0.4444444444444444,\"#bd3786\"],[0.5555555555555556,\"#d8576b\"],[0.6666666666666666,\"#ed7953\"],[0.7777777777777778,\"#fb9f3a\"],[0.8888888888888888,\"#fdca26\"],[1.0,\"#f0f921\"]]}],\"surface\":[{\"type\":\"surface\",\"colorbar\":{\"outlinewidth\":0,\"ticks\":\"\"},\"colorscale\":[[0.0,\"#0d0887\"],[0.1111111111111111,\"#46039f\"],[0.2222222222222222,\"#7201a8\"],[0.3333333333333333,\"#9c179e\"],[0.4444444444444444,\"#bd3786\"],[0.5555555555555556,\"#d8576b\"],[0.6666666666666666,\"#ed7953\"],[0.7777777777777778,\"#fb9f3a\"],[0.8888888888888888,\"#fdca26\"],[1.0,\"#f0f921\"]]}],\"mesh3d\":[{\"type\":\"mesh3d\",\"colorbar\":{\"outlinewidth\":0,\"ticks\":\"\"}}],\"scatter\":[{\"fillpattern\":{\"fillmode\":\"overlay\",\"size\":10,\"solidity\":0.2},\"type\":\"scatter\"}],\"parcoords\":[{\"type\":\"parcoords\",\"line\":{\"colorbar\":{\"outlinewidth\":0,\"ticks\":\"\"}}}],\"scatterpolargl\":[{\"type\":\"scatterpolargl\",\"marker\":{\"colorbar\":{\"outlinewidth\":0,\"ticks\":\"\"}}}],\"bar\":[{\"error_x\":{\"color\":\"#2a3f5f\"},\"error_y\":{\"color\":\"#2a3f5f\"},\"marker\":{\"line\":{\"color\":\"#E5ECF6\",\"width\":0.5},\"pattern\":{\"fillmode\":\"overlay\",\"size\":10,\"solidity\":0.2}},\"type\":\"bar\"}],\"scattergeo\":[{\"type\":\"scattergeo\",\"marker\":{\"colorbar\":{\"outlinewidth\":0,\"ticks\":\"\"}}}],\"scatterpolar\":[{\"type\":\"scatterpolar\",\"marker\":{\"colorbar\":{\"outlinewidth\":0,\"ticks\":\"\"}}}],\"histogram\":[{\"marker\":{\"pattern\":{\"fillmode\":\"overlay\",\"size\":10,\"solidity\":0.2}},\"type\":\"histogram\"}],\"scattergl\":[{\"type\":\"scattergl\",\"marker\":{\"colorbar\":{\"outlinewidth\":0,\"ticks\":\"\"}}}],\"scatter3d\":[{\"type\":\"scatter3d\",\"line\":{\"colorbar\":{\"outlinewidth\":0,\"ticks\":\"\"}},\"marker\":{\"colorbar\":{\"outlinewidth\":0,\"ticks\":\"\"}}}],\"scattermapbox\":[{\"type\":\"scattermapbox\",\"marker\":{\"colorbar\":{\"outlinewidth\":0,\"ticks\":\"\"}}}],\"scatterternary\":[{\"type\":\"scatterternary\",\"marker\":{\"colorbar\":{\"outlinewidth\":0,\"ticks\":\"\"}}}],\"scattercarpet\":[{\"type\":\"scattercarpet\",\"marker\":{\"colorbar\":{\"outlinewidth\":0,\"ticks\":\"\"}}}],\"carpet\":[{\"aaxis\":{\"endlinecolor\":\"#2a3f5f\",\"gridcolor\":\"white\",\"linecolor\":\"white\",\"minorgridcolor\":\"white\",\"startlinecolor\":\"#2a3f5f\"},\"baxis\":{\"endlinecolor\":\"#2a3f5f\",\"gridcolor\":\"white\",\"linecolor\":\"white\",\"minorgridcolor\":\"white\",\"startlinecolor\":\"#2a3f5f\"},\"type\":\"carpet\"}],\"table\":[{\"cells\":{\"fill\":{\"color\":\"#EBF0F8\"},\"line\":{\"color\":\"white\"}},\"header\":{\"fill\":{\"color\":\"#C8D4E3\"},\"line\":{\"color\":\"white\"}},\"type\":\"table\"}],\"barpolar\":[{\"marker\":{\"line\":{\"color\":\"#E5ECF6\",\"width\":0.5},\"pattern\":{\"fillmode\":\"overlay\",\"size\":10,\"solidity\":0.2}},\"type\":\"barpolar\"}],\"pie\":[{\"automargin\":true,\"type\":\"pie\"}]},\"layout\":{\"autotypenumbers\":\"strict\",\"colorway\":[\"#636efa\",\"#EF553B\",\"#00cc96\",\"#ab63fa\",\"#FFA15A\",\"#19d3f3\",\"#FF6692\",\"#B6E880\",\"#FF97FF\",\"#FECB52\"],\"font\":{\"color\":\"#2a3f5f\"},\"hovermode\":\"closest\",\"hoverlabel\":{\"align\":\"left\"},\"paper_bgcolor\":\"white\",\"plot_bgcolor\":\"#E5ECF6\",\"polar\":{\"bgcolor\":\"#E5ECF6\",\"angularaxis\":{\"gridcolor\":\"white\",\"linecolor\":\"white\",\"ticks\":\"\"},\"radialaxis\":{\"gridcolor\":\"white\",\"linecolor\":\"white\",\"ticks\":\"\"}},\"ternary\":{\"bgcolor\":\"#E5ECF6\",\"aaxis\":{\"gridcolor\":\"white\",\"linecolor\":\"white\",\"ticks\":\"\"},\"baxis\":{\"gridcolor\":\"white\",\"linecolor\":\"white\",\"ticks\":\"\"},\"caxis\":{\"gridcolor\":\"white\",\"linecolor\":\"white\",\"ticks\":\"\"}},\"coloraxis\":{\"colorbar\":{\"outlinewidth\":0,\"ticks\":\"\"}},\"colorscale\":{\"sequential\":[[0.0,\"#0d0887\"],[0.1111111111111111,\"#46039f\"],[0.2222222222222222,\"#7201a8\"],[0.3333333333333333,\"#9c179e\"],[0.4444444444444444,\"#bd3786\"],[0.5555555555555556,\"#d8576b\"],[0.6666666666666666,\"#ed7953\"],[0.7777777777777778,\"#fb9f3a\"],[0.8888888888888888,\"#fdca26\"],[1.0,\"#f0f921\"]],\"sequentialminus\":[[0.0,\"#0d0887\"],[0.1111111111111111,\"#46039f\"],[0.2222222222222222,\"#7201a8\"],[0.3333333333333333,\"#9c179e\"],[0.4444444444444444,\"#bd3786\"],[0.5555555555555556,\"#d8576b\"],[0.6666666666666666,\"#ed7953\"],[0.7777777777777778,\"#fb9f3a\"],[0.8888888888888888,\"#fdca26\"],[1.0,\"#f0f921\"]],\"diverging\":[[0,\"#8e0152\"],[0.1,\"#c51b7d\"],[0.2,\"#de77ae\"],[0.3,\"#f1b6da\"],[0.4,\"#fde0ef\"],[0.5,\"#f7f7f7\"],[0.6,\"#e6f5d0\"],[0.7,\"#b8e186\"],[0.8,\"#7fbc41\"],[0.9,\"#4d9221\"],[1,\"#276419\"]]},\"xaxis\":{\"gridcolor\":\"white\",\"linecolor\":\"white\",\"ticks\":\"\",\"title\":{\"standoff\":15},\"zerolinecolor\":\"white\",\"automargin\":true,\"zerolinewidth\":2},\"yaxis\":{\"gridcolor\":\"white\",\"linecolor\":\"white\",\"ticks\":\"\",\"title\":{\"standoff\":15},\"zerolinecolor\":\"white\",\"automargin\":true,\"zerolinewidth\":2},\"scene\":{\"xaxis\":{\"backgroundcolor\":\"#E5ECF6\",\"gridcolor\":\"white\",\"linecolor\":\"white\",\"showbackground\":true,\"ticks\":\"\",\"zerolinecolor\":\"white\",\"gridwidth\":2},\"yaxis\":{\"backgroundcolor\":\"#E5ECF6\",\"gridcolor\":\"white\",\"linecolor\":\"white\",\"showbackground\":true,\"ticks\":\"\",\"zerolinecolor\":\"white\",\"gridwidth\":2},\"zaxis\":{\"backgroundcolor\":\"#E5ECF6\",\"gridcolor\":\"white\",\"linecolor\":\"white\",\"showbackground\":true,\"ticks\":\"\",\"zerolinecolor\":\"white\",\"gridwidth\":2}},\"shapedefaults\":{\"line\":{\"color\":\"#2a3f5f\"}},\"annotationdefaults\":{\"arrowcolor\":\"#2a3f5f\",\"arrowhead\":0,\"arrowwidth\":1},\"geo\":{\"bgcolor\":\"white\",\"landcolor\":\"#E5ECF6\",\"subunitcolor\":\"white\",\"showland\":true,\"showlakes\":true,\"lakecolor\":\"white\"},\"title\":{\"x\":0.05},\"mapbox\":{\"style\":\"light\"}}},\"xaxis\":{\"anchor\":\"y\",\"domain\":[0.0,1.0],\"title\":{\"text\":\"Date\"}},\"yaxis\":{\"anchor\":\"x\",\"domain\":[0.0,1.0],\"title\":{\"text\":\"TweetCount\"}},\"legend\":{\"tracegroupgap\":0},\"margin\":{\"t\":60},\"barmode\":\"relative\"},                        {\"responsive\": true}                    ).then(function(){\n",
       "                            \n",
       "var gd = document.getElementById('5778edef-8c07-4ae9-b718-da2424a8cf21');\n",
       "var x = new MutationObserver(function (mutations, observer) {{\n",
       "        var display = window.getComputedStyle(gd).display;\n",
       "        if (!display || display === 'none') {{\n",
       "            console.log([gd, 'removed!']);\n",
       "            Plotly.purge(gd);\n",
       "            observer.disconnect();\n",
       "        }}\n",
       "}});\n",
       "\n",
       "// Listen for the removal of the full notebook cells\n",
       "var notebookContainer = gd.closest('#notebook-container');\n",
       "if (notebookContainer) {{\n",
       "    x.observe(notebookContainer, {childList: true});\n",
       "}}\n",
       "\n",
       "// Listen for the clearing of the current output cell\n",
       "var outputEl = gd.closest('.output');\n",
       "if (outputEl) {{\n",
       "    x.observe(outputEl, {childList: true});\n",
       "}}\n",
       "\n",
       "                        })                };                });            </script>        </div>"
      ]
     },
     "metadata": {},
     "output_type": "display_data"
    }
   ],
   "source": [
    "tempdf = ps.DataFrame(dfDay)\n",
    "\n",
    "tempdf.plot(kind='bar', x='Date', y='TweetCount')"
   ]
  },
  {
   "cell_type": "code",
   "execution_count": 168,
   "id": "72c0e4d4",
   "metadata": {
    "vscode": {
     "languageId": "python"
    }
   },
   "outputs": [
    {
     "name": "stderr",
     "output_type": "stream",
     "text": [
      "[Stage 491:==========================================>              (3 + 1) / 4]\r"
     ]
    },
    {
     "name": "stdout",
     "output_type": "stream",
     "text": [
      "+----+------+-------+----------------+\n",
      "|Year|wkofYr|  yr_wk|TweetCountbyWeek|\n",
      "+----+------+-------+----------------+\n",
      "|2021|     1| 2021_1|              91|\n",
      "|2021|     4| 2021_4|             194|\n",
      "|2021|     5| 2021_5|             206|\n",
      "|2021|     6| 2021_6|             194|\n",
      "|2021|     7| 2021_7|             212|\n",
      "|2021|     8| 2021_8|             192|\n",
      "|2021|     9| 2021_9|             137|\n",
      "|2021|    10|2021_10|             166|\n",
      "|2021|    11|2021_11|             165|\n",
      "|2021|    12|2021_12|             212|\n",
      "|2021|    13|2021_13|             169|\n",
      "|2021|    14|2021_14|             138|\n",
      "|2021|    17|2021_17|             128|\n",
      "|2021|    18|2021_18|             225|\n",
      "|2021|    19|2021_19|             145|\n",
      "|2021|    20|2021_20|             264|\n",
      "|2021|    21|2021_21|             297|\n",
      "|2021|    22|2021_22|             221|\n",
      "|2021|    23|2021_23|             486|\n",
      "|2021|    24|2021_24|             437|\n",
      "+----+------+-------+----------------+\n",
      "only showing top 20 rows\n",
      "\n"
     ]
    },
    {
     "name": "stderr",
     "output_type": "stream",
     "text": [
      "                                                                                \r"
     ]
    }
   ],
   "source": [
    "dfWeek = spark.sql(\"SELECT Year, weekofyear(make_date(Year, Month, Day)) as wkofYr , SUM(TweetCount) as TweetCountbyWeek \\\n",
    "                   FROM tweetsByDay \\\n",
    "                   GROUP BY Year, weekofyear(make_date(Year, Month, Day))\")\n",
    "\n",
    "dfWeek.createOrReplaceTempView(\"tweetsByWeek\")\n",
    "dfWeek = spark.sql(\"SELECT Year, wkofYr, CONCAT(Year, '_', wkofYr) AS yr_wk, TweetCountbyWeek  FROM tweetsByWeek ORDER BY Year, wkofYr\")\n",
    "dfWeek.show()"
   ]
  },
  {
   "cell_type": "code",
   "execution_count": 169,
   "id": "56a883c3",
   "metadata": {
    "vscode": {
     "languageId": "python"
    }
   },
   "outputs": [
    {
     "name": "stderr",
     "output_type": "stream",
     "text": [
      "2023-05-14 20:41:21,830 WARN window.WindowExec: No Partition Defined for Window operation! Moving all data to a single partition, this can cause serious performance degradation.\n",
      "2023-05-14 20:41:21,831 WARN window.WindowExec: No Partition Defined for Window operation! Moving all data to a single partition, this can cause serious performance degradation.\n",
      "2023-05-14 20:41:25,302 WARN window.WindowExec: No Partition Defined for Window operation! Moving all data to a single partition, this can cause serious performance degradation.\n",
      "2023-05-14 20:41:25,340 WARN window.WindowExec: No Partition Defined for Window operation! Moving all data to a single partition, this can cause serious performance degradation.\n",
      "2023-05-14 20:41:25,370 WARN window.WindowExec: No Partition Defined for Window operation! Moving all data to a single partition, this can cause serious performance degradation.\n",
      "2023-05-14 20:41:25,421 WARN window.WindowExec: No Partition Defined for Window operation! Moving all data to a single partition, this can cause serious performance degradation.\n",
      "2023-05-14 20:41:25,422 WARN window.WindowExec: No Partition Defined for Window operation! Moving all data to a single partition, this can cause serious performance degradation.\n"
     ]
    },
    {
     "data": {
      "application/vnd.plotly.v1+json": {
       "config": {
        "plotlyServerURL": "https://plot.ly"
       },
       "data": [
        {
         "alignmentgroup": "True",
         "hovertemplate": "yr_wk=%{x}<br>TweetCountbyWeek=%{y}<extra></extra>",
         "legendgroup": "",
         "marker": {
          "color": "#636efa",
          "pattern": {
           "shape": ""
          }
         },
         "name": "",
         "offsetgroup": "",
         "orientation": "v",
         "showlegend": false,
         "textposition": "auto",
         "type": "bar",
         "x": [
          "2021_1",
          "2021_4",
          "2021_5",
          "2021_6",
          "2021_7",
          "2021_8",
          "2021_9",
          "2021_10",
          "2021_11",
          "2021_12",
          "2021_13",
          "2021_14",
          "2021_17",
          "2021_18",
          "2021_19",
          "2021_20",
          "2021_21",
          "2021_22",
          "2021_23",
          "2021_24",
          "2021_25",
          "2021_26",
          "2021_27",
          "2021_28",
          "2021_29",
          "2021_30",
          "2021_31",
          "2021_32",
          "2021_33",
          "2021_34",
          "2021_35",
          "2021_36",
          "2021_37",
          "2021_38",
          "2021_39",
          "2021_40",
          "2021_41",
          "2021_42",
          "2021_43",
          "2021_44",
          "2021_45",
          "2021_46",
          "2021_48",
          "2021_49",
          "2021_50",
          "2021_51",
          "2021_52",
          "2021_53",
          "2022_1",
          "2022_5",
          "2022_6",
          "2022_7",
          "2022_8",
          "2022_9",
          "2022_10",
          "2022_11",
          "2022_12",
          "2022_13",
          "2022_14",
          "2022_15",
          "2022_16",
          "2022_17",
          "2022_18",
          "2022_19",
          "2022_20",
          "2022_21",
          "2022_22",
          "2022_23",
          "2022_24",
          "2022_25",
          "2022_26",
          "2022_27",
          "2022_28",
          "2022_29",
          "2022_30",
          "2022_31",
          "2022_32",
          "2022_33",
          "2022_34",
          "2022_35",
          "2022_36",
          "2022_37",
          "2022_38",
          "2022_39",
          "2022_40",
          "2022_41",
          "2022_42",
          "2022_43",
          "2022_44",
          "2022_45",
          "2022_46",
          "2022_47",
          "2022_52"
         ],
         "xaxis": "x",
         "y": [
          91,
          194,
          206,
          194,
          212,
          192,
          137,
          166,
          165,
          212,
          169,
          138,
          128,
          225,
          145,
          264,
          297,
          221,
          486,
          437,
          912,
          2047,
          1661,
          466,
          121,
          155,
          199,
          168,
          141,
          191,
          275,
          202,
          126,
          150,
          154,
          193,
          187,
          126,
          147,
          134,
          181,
          156,
          100,
          168,
          128,
          135,
          300,
          69,
          231,
          34,
          81,
          46,
          212,
          368,
          504,
          217,
          233,
          314,
          439,
          313,
          200,
          367,
          265,
          371,
          336,
          296,
          338,
          248,
          290,
          242,
          253,
          464,
          795,
          622,
          401,
          299,
          134,
          174,
          239,
          282,
          224,
          190,
          224,
          480,
          187,
          175,
          180,
          308,
          250,
          180,
          186,
          149,
          206
         ],
         "yaxis": "y"
        }
       ],
       "layout": {
        "barmode": "relative",
        "legend": {
         "tracegroupgap": 0
        },
        "margin": {
         "t": 60
        },
        "template": {
         "data": {
          "bar": [
           {
            "error_x": {
             "color": "#2a3f5f"
            },
            "error_y": {
             "color": "#2a3f5f"
            },
            "marker": {
             "line": {
              "color": "#E5ECF6",
              "width": 0.5
             },
             "pattern": {
              "fillmode": "overlay",
              "size": 10,
              "solidity": 0.2
             }
            },
            "type": "bar"
           }
          ],
          "barpolar": [
           {
            "marker": {
             "line": {
              "color": "#E5ECF6",
              "width": 0.5
             },
             "pattern": {
              "fillmode": "overlay",
              "size": 10,
              "solidity": 0.2
             }
            },
            "type": "barpolar"
           }
          ],
          "carpet": [
           {
            "aaxis": {
             "endlinecolor": "#2a3f5f",
             "gridcolor": "white",
             "linecolor": "white",
             "minorgridcolor": "white",
             "startlinecolor": "#2a3f5f"
            },
            "baxis": {
             "endlinecolor": "#2a3f5f",
             "gridcolor": "white",
             "linecolor": "white",
             "minorgridcolor": "white",
             "startlinecolor": "#2a3f5f"
            },
            "type": "carpet"
           }
          ],
          "choropleth": [
           {
            "colorbar": {
             "outlinewidth": 0,
             "ticks": ""
            },
            "type": "choropleth"
           }
          ],
          "contour": [
           {
            "colorbar": {
             "outlinewidth": 0,
             "ticks": ""
            },
            "colorscale": [
             [
              0,
              "#0d0887"
             ],
             [
              0.1111111111111111,
              "#46039f"
             ],
             [
              0.2222222222222222,
              "#7201a8"
             ],
             [
              0.3333333333333333,
              "#9c179e"
             ],
             [
              0.4444444444444444,
              "#bd3786"
             ],
             [
              0.5555555555555556,
              "#d8576b"
             ],
             [
              0.6666666666666666,
              "#ed7953"
             ],
             [
              0.7777777777777778,
              "#fb9f3a"
             ],
             [
              0.8888888888888888,
              "#fdca26"
             ],
             [
              1,
              "#f0f921"
             ]
            ],
            "type": "contour"
           }
          ],
          "contourcarpet": [
           {
            "colorbar": {
             "outlinewidth": 0,
             "ticks": ""
            },
            "type": "contourcarpet"
           }
          ],
          "heatmap": [
           {
            "colorbar": {
             "outlinewidth": 0,
             "ticks": ""
            },
            "colorscale": [
             [
              0,
              "#0d0887"
             ],
             [
              0.1111111111111111,
              "#46039f"
             ],
             [
              0.2222222222222222,
              "#7201a8"
             ],
             [
              0.3333333333333333,
              "#9c179e"
             ],
             [
              0.4444444444444444,
              "#bd3786"
             ],
             [
              0.5555555555555556,
              "#d8576b"
             ],
             [
              0.6666666666666666,
              "#ed7953"
             ],
             [
              0.7777777777777778,
              "#fb9f3a"
             ],
             [
              0.8888888888888888,
              "#fdca26"
             ],
             [
              1,
              "#f0f921"
             ]
            ],
            "type": "heatmap"
           }
          ],
          "heatmapgl": [
           {
            "colorbar": {
             "outlinewidth": 0,
             "ticks": ""
            },
            "colorscale": [
             [
              0,
              "#0d0887"
             ],
             [
              0.1111111111111111,
              "#46039f"
             ],
             [
              0.2222222222222222,
              "#7201a8"
             ],
             [
              0.3333333333333333,
              "#9c179e"
             ],
             [
              0.4444444444444444,
              "#bd3786"
             ],
             [
              0.5555555555555556,
              "#d8576b"
             ],
             [
              0.6666666666666666,
              "#ed7953"
             ],
             [
              0.7777777777777778,
              "#fb9f3a"
             ],
             [
              0.8888888888888888,
              "#fdca26"
             ],
             [
              1,
              "#f0f921"
             ]
            ],
            "type": "heatmapgl"
           }
          ],
          "histogram": [
           {
            "marker": {
             "pattern": {
              "fillmode": "overlay",
              "size": 10,
              "solidity": 0.2
             }
            },
            "type": "histogram"
           }
          ],
          "histogram2d": [
           {
            "colorbar": {
             "outlinewidth": 0,
             "ticks": ""
            },
            "colorscale": [
             [
              0,
              "#0d0887"
             ],
             [
              0.1111111111111111,
              "#46039f"
             ],
             [
              0.2222222222222222,
              "#7201a8"
             ],
             [
              0.3333333333333333,
              "#9c179e"
             ],
             [
              0.4444444444444444,
              "#bd3786"
             ],
             [
              0.5555555555555556,
              "#d8576b"
             ],
             [
              0.6666666666666666,
              "#ed7953"
             ],
             [
              0.7777777777777778,
              "#fb9f3a"
             ],
             [
              0.8888888888888888,
              "#fdca26"
             ],
             [
              1,
              "#f0f921"
             ]
            ],
            "type": "histogram2d"
           }
          ],
          "histogram2dcontour": [
           {
            "colorbar": {
             "outlinewidth": 0,
             "ticks": ""
            },
            "colorscale": [
             [
              0,
              "#0d0887"
             ],
             [
              0.1111111111111111,
              "#46039f"
             ],
             [
              0.2222222222222222,
              "#7201a8"
             ],
             [
              0.3333333333333333,
              "#9c179e"
             ],
             [
              0.4444444444444444,
              "#bd3786"
             ],
             [
              0.5555555555555556,
              "#d8576b"
             ],
             [
              0.6666666666666666,
              "#ed7953"
             ],
             [
              0.7777777777777778,
              "#fb9f3a"
             ],
             [
              0.8888888888888888,
              "#fdca26"
             ],
             [
              1,
              "#f0f921"
             ]
            ],
            "type": "histogram2dcontour"
           }
          ],
          "mesh3d": [
           {
            "colorbar": {
             "outlinewidth": 0,
             "ticks": ""
            },
            "type": "mesh3d"
           }
          ],
          "parcoords": [
           {
            "line": {
             "colorbar": {
              "outlinewidth": 0,
              "ticks": ""
             }
            },
            "type": "parcoords"
           }
          ],
          "pie": [
           {
            "automargin": true,
            "type": "pie"
           }
          ],
          "scatter": [
           {
            "fillpattern": {
             "fillmode": "overlay",
             "size": 10,
             "solidity": 0.2
            },
            "type": "scatter"
           }
          ],
          "scatter3d": [
           {
            "line": {
             "colorbar": {
              "outlinewidth": 0,
              "ticks": ""
             }
            },
            "marker": {
             "colorbar": {
              "outlinewidth": 0,
              "ticks": ""
             }
            },
            "type": "scatter3d"
           }
          ],
          "scattercarpet": [
           {
            "marker": {
             "colorbar": {
              "outlinewidth": 0,
              "ticks": ""
             }
            },
            "type": "scattercarpet"
           }
          ],
          "scattergeo": [
           {
            "marker": {
             "colorbar": {
              "outlinewidth": 0,
              "ticks": ""
             }
            },
            "type": "scattergeo"
           }
          ],
          "scattergl": [
           {
            "marker": {
             "colorbar": {
              "outlinewidth": 0,
              "ticks": ""
             }
            },
            "type": "scattergl"
           }
          ],
          "scattermapbox": [
           {
            "marker": {
             "colorbar": {
              "outlinewidth": 0,
              "ticks": ""
             }
            },
            "type": "scattermapbox"
           }
          ],
          "scatterpolar": [
           {
            "marker": {
             "colorbar": {
              "outlinewidth": 0,
              "ticks": ""
             }
            },
            "type": "scatterpolar"
           }
          ],
          "scatterpolargl": [
           {
            "marker": {
             "colorbar": {
              "outlinewidth": 0,
              "ticks": ""
             }
            },
            "type": "scatterpolargl"
           }
          ],
          "scatterternary": [
           {
            "marker": {
             "colorbar": {
              "outlinewidth": 0,
              "ticks": ""
             }
            },
            "type": "scatterternary"
           }
          ],
          "surface": [
           {
            "colorbar": {
             "outlinewidth": 0,
             "ticks": ""
            },
            "colorscale": [
             [
              0,
              "#0d0887"
             ],
             [
              0.1111111111111111,
              "#46039f"
             ],
             [
              0.2222222222222222,
              "#7201a8"
             ],
             [
              0.3333333333333333,
              "#9c179e"
             ],
             [
              0.4444444444444444,
              "#bd3786"
             ],
             [
              0.5555555555555556,
              "#d8576b"
             ],
             [
              0.6666666666666666,
              "#ed7953"
             ],
             [
              0.7777777777777778,
              "#fb9f3a"
             ],
             [
              0.8888888888888888,
              "#fdca26"
             ],
             [
              1,
              "#f0f921"
             ]
            ],
            "type": "surface"
           }
          ],
          "table": [
           {
            "cells": {
             "fill": {
              "color": "#EBF0F8"
             },
             "line": {
              "color": "white"
             }
            },
            "header": {
             "fill": {
              "color": "#C8D4E3"
             },
             "line": {
              "color": "white"
             }
            },
            "type": "table"
           }
          ]
         },
         "layout": {
          "annotationdefaults": {
           "arrowcolor": "#2a3f5f",
           "arrowhead": 0,
           "arrowwidth": 1
          },
          "autotypenumbers": "strict",
          "coloraxis": {
           "colorbar": {
            "outlinewidth": 0,
            "ticks": ""
           }
          },
          "colorscale": {
           "diverging": [
            [
             0,
             "#8e0152"
            ],
            [
             0.1,
             "#c51b7d"
            ],
            [
             0.2,
             "#de77ae"
            ],
            [
             0.3,
             "#f1b6da"
            ],
            [
             0.4,
             "#fde0ef"
            ],
            [
             0.5,
             "#f7f7f7"
            ],
            [
             0.6,
             "#e6f5d0"
            ],
            [
             0.7,
             "#b8e186"
            ],
            [
             0.8,
             "#7fbc41"
            ],
            [
             0.9,
             "#4d9221"
            ],
            [
             1,
             "#276419"
            ]
           ],
           "sequential": [
            [
             0,
             "#0d0887"
            ],
            [
             0.1111111111111111,
             "#46039f"
            ],
            [
             0.2222222222222222,
             "#7201a8"
            ],
            [
             0.3333333333333333,
             "#9c179e"
            ],
            [
             0.4444444444444444,
             "#bd3786"
            ],
            [
             0.5555555555555556,
             "#d8576b"
            ],
            [
             0.6666666666666666,
             "#ed7953"
            ],
            [
             0.7777777777777778,
             "#fb9f3a"
            ],
            [
             0.8888888888888888,
             "#fdca26"
            ],
            [
             1,
             "#f0f921"
            ]
           ],
           "sequentialminus": [
            [
             0,
             "#0d0887"
            ],
            [
             0.1111111111111111,
             "#46039f"
            ],
            [
             0.2222222222222222,
             "#7201a8"
            ],
            [
             0.3333333333333333,
             "#9c179e"
            ],
            [
             0.4444444444444444,
             "#bd3786"
            ],
            [
             0.5555555555555556,
             "#d8576b"
            ],
            [
             0.6666666666666666,
             "#ed7953"
            ],
            [
             0.7777777777777778,
             "#fb9f3a"
            ],
            [
             0.8888888888888888,
             "#fdca26"
            ],
            [
             1,
             "#f0f921"
            ]
           ]
          },
          "colorway": [
           "#636efa",
           "#EF553B",
           "#00cc96",
           "#ab63fa",
           "#FFA15A",
           "#19d3f3",
           "#FF6692",
           "#B6E880",
           "#FF97FF",
           "#FECB52"
          ],
          "font": {
           "color": "#2a3f5f"
          },
          "geo": {
           "bgcolor": "white",
           "lakecolor": "white",
           "landcolor": "#E5ECF6",
           "showlakes": true,
           "showland": true,
           "subunitcolor": "white"
          },
          "hoverlabel": {
           "align": "left"
          },
          "hovermode": "closest",
          "mapbox": {
           "style": "light"
          },
          "paper_bgcolor": "white",
          "plot_bgcolor": "#E5ECF6",
          "polar": {
           "angularaxis": {
            "gridcolor": "white",
            "linecolor": "white",
            "ticks": ""
           },
           "bgcolor": "#E5ECF6",
           "radialaxis": {
            "gridcolor": "white",
            "linecolor": "white",
            "ticks": ""
           }
          },
          "scene": {
           "xaxis": {
            "backgroundcolor": "#E5ECF6",
            "gridcolor": "white",
            "gridwidth": 2,
            "linecolor": "white",
            "showbackground": true,
            "ticks": "",
            "zerolinecolor": "white"
           },
           "yaxis": {
            "backgroundcolor": "#E5ECF6",
            "gridcolor": "white",
            "gridwidth": 2,
            "linecolor": "white",
            "showbackground": true,
            "ticks": "",
            "zerolinecolor": "white"
           },
           "zaxis": {
            "backgroundcolor": "#E5ECF6",
            "gridcolor": "white",
            "gridwidth": 2,
            "linecolor": "white",
            "showbackground": true,
            "ticks": "",
            "zerolinecolor": "white"
           }
          },
          "shapedefaults": {
           "line": {
            "color": "#2a3f5f"
           }
          },
          "ternary": {
           "aaxis": {
            "gridcolor": "white",
            "linecolor": "white",
            "ticks": ""
           },
           "baxis": {
            "gridcolor": "white",
            "linecolor": "white",
            "ticks": ""
           },
           "bgcolor": "#E5ECF6",
           "caxis": {
            "gridcolor": "white",
            "linecolor": "white",
            "ticks": ""
           }
          },
          "title": {
           "x": 0.05
          },
          "xaxis": {
           "automargin": true,
           "gridcolor": "white",
           "linecolor": "white",
           "ticks": "",
           "title": {
            "standoff": 15
           },
           "zerolinecolor": "white",
           "zerolinewidth": 2
          },
          "yaxis": {
           "automargin": true,
           "gridcolor": "white",
           "linecolor": "white",
           "ticks": "",
           "title": {
            "standoff": 15
           },
           "zerolinecolor": "white",
           "zerolinewidth": 2
          }
         }
        },
        "xaxis": {
         "anchor": "y",
         "domain": [
          0,
          1
         ],
         "title": {
          "text": "yr_wk"
         }
        },
        "yaxis": {
         "anchor": "x",
         "domain": [
          0,
          1
         ],
         "title": {
          "text": "TweetCountbyWeek"
         }
        }
       }
      },
      "text/html": [
       "<div>                            <div id=\"cc9f83c6-9d0b-479f-b1f7-47220d789d47\" class=\"plotly-graph-div\" style=\"height:525px; width:100%;\"></div>            <script type=\"text/javascript\">                require([\"plotly\"], function(Plotly) {                    window.PLOTLYENV=window.PLOTLYENV || {};                                    if (document.getElementById(\"cc9f83c6-9d0b-479f-b1f7-47220d789d47\")) {                    Plotly.newPlot(                        \"cc9f83c6-9d0b-479f-b1f7-47220d789d47\",                        [{\"alignmentgroup\":\"True\",\"hovertemplate\":\"yr_wk=%{x}<br>TweetCountbyWeek=%{y}<extra></extra>\",\"legendgroup\":\"\",\"marker\":{\"color\":\"#636efa\",\"pattern\":{\"shape\":\"\"}},\"name\":\"\",\"offsetgroup\":\"\",\"orientation\":\"v\",\"showlegend\":false,\"textposition\":\"auto\",\"x\":[\"2021_1\",\"2021_4\",\"2021_5\",\"2021_6\",\"2021_7\",\"2021_8\",\"2021_9\",\"2021_10\",\"2021_11\",\"2021_12\",\"2021_13\",\"2021_14\",\"2021_17\",\"2021_18\",\"2021_19\",\"2021_20\",\"2021_21\",\"2021_22\",\"2021_23\",\"2021_24\",\"2021_25\",\"2021_26\",\"2021_27\",\"2021_28\",\"2021_29\",\"2021_30\",\"2021_31\",\"2021_32\",\"2021_33\",\"2021_34\",\"2021_35\",\"2021_36\",\"2021_37\",\"2021_38\",\"2021_39\",\"2021_40\",\"2021_41\",\"2021_42\",\"2021_43\",\"2021_44\",\"2021_45\",\"2021_46\",\"2021_48\",\"2021_49\",\"2021_50\",\"2021_51\",\"2021_52\",\"2021_53\",\"2022_1\",\"2022_5\",\"2022_6\",\"2022_7\",\"2022_8\",\"2022_9\",\"2022_10\",\"2022_11\",\"2022_12\",\"2022_13\",\"2022_14\",\"2022_15\",\"2022_16\",\"2022_17\",\"2022_18\",\"2022_19\",\"2022_20\",\"2022_21\",\"2022_22\",\"2022_23\",\"2022_24\",\"2022_25\",\"2022_26\",\"2022_27\",\"2022_28\",\"2022_29\",\"2022_30\",\"2022_31\",\"2022_32\",\"2022_33\",\"2022_34\",\"2022_35\",\"2022_36\",\"2022_37\",\"2022_38\",\"2022_39\",\"2022_40\",\"2022_41\",\"2022_42\",\"2022_43\",\"2022_44\",\"2022_45\",\"2022_46\",\"2022_47\",\"2022_52\"],\"xaxis\":\"x\",\"y\":[91,194,206,194,212,192,137,166,165,212,169,138,128,225,145,264,297,221,486,437,912,2047,1661,466,121,155,199,168,141,191,275,202,126,150,154,193,187,126,147,134,181,156,100,168,128,135,300,69,231,34,81,46,212,368,504,217,233,314,439,313,200,367,265,371,336,296,338,248,290,242,253,464,795,622,401,299,134,174,239,282,224,190,224,480,187,175,180,308,250,180,186,149,206],\"yaxis\":\"y\",\"type\":\"bar\"}],                        {\"template\":{\"data\":{\"histogram2dcontour\":[{\"type\":\"histogram2dcontour\",\"colorbar\":{\"outlinewidth\":0,\"ticks\":\"\"},\"colorscale\":[[0.0,\"#0d0887\"],[0.1111111111111111,\"#46039f\"],[0.2222222222222222,\"#7201a8\"],[0.3333333333333333,\"#9c179e\"],[0.4444444444444444,\"#bd3786\"],[0.5555555555555556,\"#d8576b\"],[0.6666666666666666,\"#ed7953\"],[0.7777777777777778,\"#fb9f3a\"],[0.8888888888888888,\"#fdca26\"],[1.0,\"#f0f921\"]]}],\"choropleth\":[{\"type\":\"choropleth\",\"colorbar\":{\"outlinewidth\":0,\"ticks\":\"\"}}],\"histogram2d\":[{\"type\":\"histogram2d\",\"colorbar\":{\"outlinewidth\":0,\"ticks\":\"\"},\"colorscale\":[[0.0,\"#0d0887\"],[0.1111111111111111,\"#46039f\"],[0.2222222222222222,\"#7201a8\"],[0.3333333333333333,\"#9c179e\"],[0.4444444444444444,\"#bd3786\"],[0.5555555555555556,\"#d8576b\"],[0.6666666666666666,\"#ed7953\"],[0.7777777777777778,\"#fb9f3a\"],[0.8888888888888888,\"#fdca26\"],[1.0,\"#f0f921\"]]}],\"heatmap\":[{\"type\":\"heatmap\",\"colorbar\":{\"outlinewidth\":0,\"ticks\":\"\"},\"colorscale\":[[0.0,\"#0d0887\"],[0.1111111111111111,\"#46039f\"],[0.2222222222222222,\"#7201a8\"],[0.3333333333333333,\"#9c179e\"],[0.4444444444444444,\"#bd3786\"],[0.5555555555555556,\"#d8576b\"],[0.6666666666666666,\"#ed7953\"],[0.7777777777777778,\"#fb9f3a\"],[0.8888888888888888,\"#fdca26\"],[1.0,\"#f0f921\"]]}],\"heatmapgl\":[{\"type\":\"heatmapgl\",\"colorbar\":{\"outlinewidth\":0,\"ticks\":\"\"},\"colorscale\":[[0.0,\"#0d0887\"],[0.1111111111111111,\"#46039f\"],[0.2222222222222222,\"#7201a8\"],[0.3333333333333333,\"#9c179e\"],[0.4444444444444444,\"#bd3786\"],[0.5555555555555556,\"#d8576b\"],[0.6666666666666666,\"#ed7953\"],[0.7777777777777778,\"#fb9f3a\"],[0.8888888888888888,\"#fdca26\"],[1.0,\"#f0f921\"]]}],\"contourcarpet\":[{\"type\":\"contourcarpet\",\"colorbar\":{\"outlinewidth\":0,\"ticks\":\"\"}}],\"contour\":[{\"type\":\"contour\",\"colorbar\":{\"outlinewidth\":0,\"ticks\":\"\"},\"colorscale\":[[0.0,\"#0d0887\"],[0.1111111111111111,\"#46039f\"],[0.2222222222222222,\"#7201a8\"],[0.3333333333333333,\"#9c179e\"],[0.4444444444444444,\"#bd3786\"],[0.5555555555555556,\"#d8576b\"],[0.6666666666666666,\"#ed7953\"],[0.7777777777777778,\"#fb9f3a\"],[0.8888888888888888,\"#fdca26\"],[1.0,\"#f0f921\"]]}],\"surface\":[{\"type\":\"surface\",\"colorbar\":{\"outlinewidth\":0,\"ticks\":\"\"},\"colorscale\":[[0.0,\"#0d0887\"],[0.1111111111111111,\"#46039f\"],[0.2222222222222222,\"#7201a8\"],[0.3333333333333333,\"#9c179e\"],[0.4444444444444444,\"#bd3786\"],[0.5555555555555556,\"#d8576b\"],[0.6666666666666666,\"#ed7953\"],[0.7777777777777778,\"#fb9f3a\"],[0.8888888888888888,\"#fdca26\"],[1.0,\"#f0f921\"]]}],\"mesh3d\":[{\"type\":\"mesh3d\",\"colorbar\":{\"outlinewidth\":0,\"ticks\":\"\"}}],\"scatter\":[{\"fillpattern\":{\"fillmode\":\"overlay\",\"size\":10,\"solidity\":0.2},\"type\":\"scatter\"}],\"parcoords\":[{\"type\":\"parcoords\",\"line\":{\"colorbar\":{\"outlinewidth\":0,\"ticks\":\"\"}}}],\"scatterpolargl\":[{\"type\":\"scatterpolargl\",\"marker\":{\"colorbar\":{\"outlinewidth\":0,\"ticks\":\"\"}}}],\"bar\":[{\"error_x\":{\"color\":\"#2a3f5f\"},\"error_y\":{\"color\":\"#2a3f5f\"},\"marker\":{\"line\":{\"color\":\"#E5ECF6\",\"width\":0.5},\"pattern\":{\"fillmode\":\"overlay\",\"size\":10,\"solidity\":0.2}},\"type\":\"bar\"}],\"scattergeo\":[{\"type\":\"scattergeo\",\"marker\":{\"colorbar\":{\"outlinewidth\":0,\"ticks\":\"\"}}}],\"scatterpolar\":[{\"type\":\"scatterpolar\",\"marker\":{\"colorbar\":{\"outlinewidth\":0,\"ticks\":\"\"}}}],\"histogram\":[{\"marker\":{\"pattern\":{\"fillmode\":\"overlay\",\"size\":10,\"solidity\":0.2}},\"type\":\"histogram\"}],\"scattergl\":[{\"type\":\"scattergl\",\"marker\":{\"colorbar\":{\"outlinewidth\":0,\"ticks\":\"\"}}}],\"scatter3d\":[{\"type\":\"scatter3d\",\"line\":{\"colorbar\":{\"outlinewidth\":0,\"ticks\":\"\"}},\"marker\":{\"colorbar\":{\"outlinewidth\":0,\"ticks\":\"\"}}}],\"scattermapbox\":[{\"type\":\"scattermapbox\",\"marker\":{\"colorbar\":{\"outlinewidth\":0,\"ticks\":\"\"}}}],\"scatterternary\":[{\"type\":\"scatterternary\",\"marker\":{\"colorbar\":{\"outlinewidth\":0,\"ticks\":\"\"}}}],\"scattercarpet\":[{\"type\":\"scattercarpet\",\"marker\":{\"colorbar\":{\"outlinewidth\":0,\"ticks\":\"\"}}}],\"carpet\":[{\"aaxis\":{\"endlinecolor\":\"#2a3f5f\",\"gridcolor\":\"white\",\"linecolor\":\"white\",\"minorgridcolor\":\"white\",\"startlinecolor\":\"#2a3f5f\"},\"baxis\":{\"endlinecolor\":\"#2a3f5f\",\"gridcolor\":\"white\",\"linecolor\":\"white\",\"minorgridcolor\":\"white\",\"startlinecolor\":\"#2a3f5f\"},\"type\":\"carpet\"}],\"table\":[{\"cells\":{\"fill\":{\"color\":\"#EBF0F8\"},\"line\":{\"color\":\"white\"}},\"header\":{\"fill\":{\"color\":\"#C8D4E3\"},\"line\":{\"color\":\"white\"}},\"type\":\"table\"}],\"barpolar\":[{\"marker\":{\"line\":{\"color\":\"#E5ECF6\",\"width\":0.5},\"pattern\":{\"fillmode\":\"overlay\",\"size\":10,\"solidity\":0.2}},\"type\":\"barpolar\"}],\"pie\":[{\"automargin\":true,\"type\":\"pie\"}]},\"layout\":{\"autotypenumbers\":\"strict\",\"colorway\":[\"#636efa\",\"#EF553B\",\"#00cc96\",\"#ab63fa\",\"#FFA15A\",\"#19d3f3\",\"#FF6692\",\"#B6E880\",\"#FF97FF\",\"#FECB52\"],\"font\":{\"color\":\"#2a3f5f\"},\"hovermode\":\"closest\",\"hoverlabel\":{\"align\":\"left\"},\"paper_bgcolor\":\"white\",\"plot_bgcolor\":\"#E5ECF6\",\"polar\":{\"bgcolor\":\"#E5ECF6\",\"angularaxis\":{\"gridcolor\":\"white\",\"linecolor\":\"white\",\"ticks\":\"\"},\"radialaxis\":{\"gridcolor\":\"white\",\"linecolor\":\"white\",\"ticks\":\"\"}},\"ternary\":{\"bgcolor\":\"#E5ECF6\",\"aaxis\":{\"gridcolor\":\"white\",\"linecolor\":\"white\",\"ticks\":\"\"},\"baxis\":{\"gridcolor\":\"white\",\"linecolor\":\"white\",\"ticks\":\"\"},\"caxis\":{\"gridcolor\":\"white\",\"linecolor\":\"white\",\"ticks\":\"\"}},\"coloraxis\":{\"colorbar\":{\"outlinewidth\":0,\"ticks\":\"\"}},\"colorscale\":{\"sequential\":[[0.0,\"#0d0887\"],[0.1111111111111111,\"#46039f\"],[0.2222222222222222,\"#7201a8\"],[0.3333333333333333,\"#9c179e\"],[0.4444444444444444,\"#bd3786\"],[0.5555555555555556,\"#d8576b\"],[0.6666666666666666,\"#ed7953\"],[0.7777777777777778,\"#fb9f3a\"],[0.8888888888888888,\"#fdca26\"],[1.0,\"#f0f921\"]],\"sequentialminus\":[[0.0,\"#0d0887\"],[0.1111111111111111,\"#46039f\"],[0.2222222222222222,\"#7201a8\"],[0.3333333333333333,\"#9c179e\"],[0.4444444444444444,\"#bd3786\"],[0.5555555555555556,\"#d8576b\"],[0.6666666666666666,\"#ed7953\"],[0.7777777777777778,\"#fb9f3a\"],[0.8888888888888888,\"#fdca26\"],[1.0,\"#f0f921\"]],\"diverging\":[[0,\"#8e0152\"],[0.1,\"#c51b7d\"],[0.2,\"#de77ae\"],[0.3,\"#f1b6da\"],[0.4,\"#fde0ef\"],[0.5,\"#f7f7f7\"],[0.6,\"#e6f5d0\"],[0.7,\"#b8e186\"],[0.8,\"#7fbc41\"],[0.9,\"#4d9221\"],[1,\"#276419\"]]},\"xaxis\":{\"gridcolor\":\"white\",\"linecolor\":\"white\",\"ticks\":\"\",\"title\":{\"standoff\":15},\"zerolinecolor\":\"white\",\"automargin\":true,\"zerolinewidth\":2},\"yaxis\":{\"gridcolor\":\"white\",\"linecolor\":\"white\",\"ticks\":\"\",\"title\":{\"standoff\":15},\"zerolinecolor\":\"white\",\"automargin\":true,\"zerolinewidth\":2},\"scene\":{\"xaxis\":{\"backgroundcolor\":\"#E5ECF6\",\"gridcolor\":\"white\",\"linecolor\":\"white\",\"showbackground\":true,\"ticks\":\"\",\"zerolinecolor\":\"white\",\"gridwidth\":2},\"yaxis\":{\"backgroundcolor\":\"#E5ECF6\",\"gridcolor\":\"white\",\"linecolor\":\"white\",\"showbackground\":true,\"ticks\":\"\",\"zerolinecolor\":\"white\",\"gridwidth\":2},\"zaxis\":{\"backgroundcolor\":\"#E5ECF6\",\"gridcolor\":\"white\",\"linecolor\":\"white\",\"showbackground\":true,\"ticks\":\"\",\"zerolinecolor\":\"white\",\"gridwidth\":2}},\"shapedefaults\":{\"line\":{\"color\":\"#2a3f5f\"}},\"annotationdefaults\":{\"arrowcolor\":\"#2a3f5f\",\"arrowhead\":0,\"arrowwidth\":1},\"geo\":{\"bgcolor\":\"white\",\"landcolor\":\"#E5ECF6\",\"subunitcolor\":\"white\",\"showland\":true,\"showlakes\":true,\"lakecolor\":\"white\"},\"title\":{\"x\":0.05},\"mapbox\":{\"style\":\"light\"}}},\"xaxis\":{\"anchor\":\"y\",\"domain\":[0.0,1.0],\"title\":{\"text\":\"yr_wk\"}},\"yaxis\":{\"anchor\":\"x\",\"domain\":[0.0,1.0],\"title\":{\"text\":\"TweetCountbyWeek\"}},\"legend\":{\"tracegroupgap\":0},\"margin\":{\"t\":60},\"barmode\":\"relative\"},                        {\"responsive\": true}                    ).then(function(){\n",
       "                            \n",
       "var gd = document.getElementById('cc9f83c6-9d0b-479f-b1f7-47220d789d47');\n",
       "var x = new MutationObserver(function (mutations, observer) {{\n",
       "        var display = window.getComputedStyle(gd).display;\n",
       "        if (!display || display === 'none') {{\n",
       "            console.log([gd, 'removed!']);\n",
       "            Plotly.purge(gd);\n",
       "            observer.disconnect();\n",
       "        }}\n",
       "}});\n",
       "\n",
       "// Listen for the removal of the full notebook cells\n",
       "var notebookContainer = gd.closest('#notebook-container');\n",
       "if (notebookContainer) {{\n",
       "    x.observe(notebookContainer, {childList: true});\n",
       "}}\n",
       "\n",
       "// Listen for the clearing of the current output cell\n",
       "var outputEl = gd.closest('.output');\n",
       "if (outputEl) {{\n",
       "    x.observe(outputEl, {childList: true});\n",
       "}}\n",
       "\n",
       "                        })                };                });            </script>        </div>"
      ]
     },
     "metadata": {},
     "output_type": "display_data"
    }
   ],
   "source": [
    "tempdf = ps.DataFrame(dfWeek)\n",
    "\n",
    "tempdf.plot(kind='bar', x='yr_wk', y='TweetCountbyWeek')"
   ]
  },
  {
   "cell_type": "code",
   "execution_count": 170,
   "id": "8673fae3",
   "metadata": {
    "vscode": {
     "languageId": "python"
    }
   },
   "outputs": [
    {
     "name": "stderr",
     "output_type": "stream",
     "text": [
      "[Stage 520:============================>                            (2 + 2) / 4]\r"
     ]
    },
    {
     "name": "stdout",
     "output_type": "stream",
     "text": [
      "+----+-----+-------+-----------------+\n",
      "|Year|Month|MonthYr|TweetCountbyMonth|\n",
      "+----+-----+-------+-----------------+\n",
      "|2021|    1| 2021_1|              354|\n",
      "|2021|    2| 2021_2|              804|\n",
      "|2021|    3| 2021_3|              756|\n",
      "|2021|    4| 2021_4|              324|\n",
      "|2021|    5| 2021_5|              995|\n",
      "|2021|    6| 2021_6|             2354|\n",
      "|2021|    7| 2021_7|             4098|\n",
      "|2021|    8| 2021_8|              767|\n",
      "|2021|    9| 2021_9|              806|\n",
      "|2021|   10|2021_10|              711|\n",
      "|2021|   11|2021_11|              471|\n",
      "|2021|   12|2021_12|              831|\n",
      "|2022|    1| 2022_1|              437|\n",
      "|2022|    2| 2022_2|              373|\n",
      "|2022|    3| 2022_3|             1495|\n",
      "|2022|    4| 2022_4|             1438|\n",
      "|2022|    5| 2022_5|             1375|\n",
      "|2022|    6| 2022_6|             1163|\n",
      "|2022|    7| 2022_7|             2405|\n",
      "|2022|    8| 2022_8|              937|\n",
      "+----+-----+-------+-----------------+\n",
      "only showing top 20 rows\n",
      "\n"
     ]
    },
    {
     "name": "stderr",
     "output_type": "stream",
     "text": [
      "                                                                                \r"
     ]
    }
   ],
   "source": [
    "# get the tweet count by month\n",
    "dfMonth = spark.sql(\"SELECT Year, Month, SUM(TweetCount) as TweetCountbyMonth \\\n",
    "                     FROM tweetsByDay GROUP BY Year, Month\")\n",
    "dfMonth.createOrReplaceTempView(\"tweetsByMonth\")\n",
    "dfMonth = spark.sql(\"SELECT Year, Month, CONCAT(Year, '_', Month) AS MonthYr, TweetCountbyMonth  FROM tweetsByMonth ORDER BY Year, Month \")\n",
    "dfMonth.show()"
   ]
  },
  {
   "cell_type": "code",
   "execution_count": 171,
   "id": "2280681b",
   "metadata": {
    "vscode": {
     "languageId": "python"
    }
   },
   "outputs": [
    {
     "name": "stderr",
     "output_type": "stream",
     "text": [
      "2023-05-14 20:41:28,924 WARN window.WindowExec: No Partition Defined for Window operation! Moving all data to a single partition, this can cause serious performance degradation.\n",
      "2023-05-14 20:41:28,925 WARN window.WindowExec: No Partition Defined for Window operation! Moving all data to a single partition, this can cause serious performance degradation.\n",
      "2023-05-14 20:41:32,029 WARN window.WindowExec: No Partition Defined for Window operation! Moving all data to a single partition, this can cause serious performance degradation.\n",
      "2023-05-14 20:41:32,073 WARN window.WindowExec: No Partition Defined for Window operation! Moving all data to a single partition, this can cause serious performance degradation.\n",
      "2023-05-14 20:41:32,099 WARN window.WindowExec: No Partition Defined for Window operation! Moving all data to a single partition, this can cause serious performance degradation.\n",
      "2023-05-14 20:41:32,139 WARN window.WindowExec: No Partition Defined for Window operation! Moving all data to a single partition, this can cause serious performance degradation.\n",
      "2023-05-14 20:41:32,140 WARN window.WindowExec: No Partition Defined for Window operation! Moving all data to a single partition, this can cause serious performance degradation.\n"
     ]
    },
    {
     "data": {
      "application/vnd.plotly.v1+json": {
       "config": {
        "plotlyServerURL": "https://plot.ly"
       },
       "data": [
        {
         "alignmentgroup": "True",
         "hovertemplate": "MonthYr=%{x}<br>TweetCountbyMonth=%{y}<extra></extra>",
         "legendgroup": "",
         "marker": {
          "color": "#636efa",
          "pattern": {
           "shape": ""
          }
         },
         "name": "",
         "offsetgroup": "",
         "orientation": "v",
         "showlegend": false,
         "textposition": "auto",
         "type": "bar",
         "x": [
          "2021_1",
          "2021_2",
          "2021_3",
          "2021_4",
          "2021_5",
          "2021_6",
          "2021_7",
          "2021_8",
          "2021_9",
          "2021_10",
          "2021_11",
          "2021_12",
          "2022_1",
          "2022_2",
          "2022_3",
          "2022_4",
          "2022_5",
          "2022_6",
          "2022_7",
          "2022_8",
          "2022_9",
          "2022_10",
          "2022_11"
         ],
         "xaxis": "x",
         "y": [
          354,
          804,
          756,
          324,
          995,
          2354,
          4098,
          767,
          806,
          711,
          471,
          831,
          437,
          373,
          1495,
          1438,
          1375,
          1163,
          2405,
          937,
          1217,
          993,
          714
         ],
         "yaxis": "y"
        }
       ],
       "layout": {
        "barmode": "relative",
        "legend": {
         "tracegroupgap": 0
        },
        "margin": {
         "t": 60
        },
        "template": {
         "data": {
          "bar": [
           {
            "error_x": {
             "color": "#2a3f5f"
            },
            "error_y": {
             "color": "#2a3f5f"
            },
            "marker": {
             "line": {
              "color": "#E5ECF6",
              "width": 0.5
             },
             "pattern": {
              "fillmode": "overlay",
              "size": 10,
              "solidity": 0.2
             }
            },
            "type": "bar"
           }
          ],
          "barpolar": [
           {
            "marker": {
             "line": {
              "color": "#E5ECF6",
              "width": 0.5
             },
             "pattern": {
              "fillmode": "overlay",
              "size": 10,
              "solidity": 0.2
             }
            },
            "type": "barpolar"
           }
          ],
          "carpet": [
           {
            "aaxis": {
             "endlinecolor": "#2a3f5f",
             "gridcolor": "white",
             "linecolor": "white",
             "minorgridcolor": "white",
             "startlinecolor": "#2a3f5f"
            },
            "baxis": {
             "endlinecolor": "#2a3f5f",
             "gridcolor": "white",
             "linecolor": "white",
             "minorgridcolor": "white",
             "startlinecolor": "#2a3f5f"
            },
            "type": "carpet"
           }
          ],
          "choropleth": [
           {
            "colorbar": {
             "outlinewidth": 0,
             "ticks": ""
            },
            "type": "choropleth"
           }
          ],
          "contour": [
           {
            "colorbar": {
             "outlinewidth": 0,
             "ticks": ""
            },
            "colorscale": [
             [
              0,
              "#0d0887"
             ],
             [
              0.1111111111111111,
              "#46039f"
             ],
             [
              0.2222222222222222,
              "#7201a8"
             ],
             [
              0.3333333333333333,
              "#9c179e"
             ],
             [
              0.4444444444444444,
              "#bd3786"
             ],
             [
              0.5555555555555556,
              "#d8576b"
             ],
             [
              0.6666666666666666,
              "#ed7953"
             ],
             [
              0.7777777777777778,
              "#fb9f3a"
             ],
             [
              0.8888888888888888,
              "#fdca26"
             ],
             [
              1,
              "#f0f921"
             ]
            ],
            "type": "contour"
           }
          ],
          "contourcarpet": [
           {
            "colorbar": {
             "outlinewidth": 0,
             "ticks": ""
            },
            "type": "contourcarpet"
           }
          ],
          "heatmap": [
           {
            "colorbar": {
             "outlinewidth": 0,
             "ticks": ""
            },
            "colorscale": [
             [
              0,
              "#0d0887"
             ],
             [
              0.1111111111111111,
              "#46039f"
             ],
             [
              0.2222222222222222,
              "#7201a8"
             ],
             [
              0.3333333333333333,
              "#9c179e"
             ],
             [
              0.4444444444444444,
              "#bd3786"
             ],
             [
              0.5555555555555556,
              "#d8576b"
             ],
             [
              0.6666666666666666,
              "#ed7953"
             ],
             [
              0.7777777777777778,
              "#fb9f3a"
             ],
             [
              0.8888888888888888,
              "#fdca26"
             ],
             [
              1,
              "#f0f921"
             ]
            ],
            "type": "heatmap"
           }
          ],
          "heatmapgl": [
           {
            "colorbar": {
             "outlinewidth": 0,
             "ticks": ""
            },
            "colorscale": [
             [
              0,
              "#0d0887"
             ],
             [
              0.1111111111111111,
              "#46039f"
             ],
             [
              0.2222222222222222,
              "#7201a8"
             ],
             [
              0.3333333333333333,
              "#9c179e"
             ],
             [
              0.4444444444444444,
              "#bd3786"
             ],
             [
              0.5555555555555556,
              "#d8576b"
             ],
             [
              0.6666666666666666,
              "#ed7953"
             ],
             [
              0.7777777777777778,
              "#fb9f3a"
             ],
             [
              0.8888888888888888,
              "#fdca26"
             ],
             [
              1,
              "#f0f921"
             ]
            ],
            "type": "heatmapgl"
           }
          ],
          "histogram": [
           {
            "marker": {
             "pattern": {
              "fillmode": "overlay",
              "size": 10,
              "solidity": 0.2
             }
            },
            "type": "histogram"
           }
          ],
          "histogram2d": [
           {
            "colorbar": {
             "outlinewidth": 0,
             "ticks": ""
            },
            "colorscale": [
             [
              0,
              "#0d0887"
             ],
             [
              0.1111111111111111,
              "#46039f"
             ],
             [
              0.2222222222222222,
              "#7201a8"
             ],
             [
              0.3333333333333333,
              "#9c179e"
             ],
             [
              0.4444444444444444,
              "#bd3786"
             ],
             [
              0.5555555555555556,
              "#d8576b"
             ],
             [
              0.6666666666666666,
              "#ed7953"
             ],
             [
              0.7777777777777778,
              "#fb9f3a"
             ],
             [
              0.8888888888888888,
              "#fdca26"
             ],
             [
              1,
              "#f0f921"
             ]
            ],
            "type": "histogram2d"
           }
          ],
          "histogram2dcontour": [
           {
            "colorbar": {
             "outlinewidth": 0,
             "ticks": ""
            },
            "colorscale": [
             [
              0,
              "#0d0887"
             ],
             [
              0.1111111111111111,
              "#46039f"
             ],
             [
              0.2222222222222222,
              "#7201a8"
             ],
             [
              0.3333333333333333,
              "#9c179e"
             ],
             [
              0.4444444444444444,
              "#bd3786"
             ],
             [
              0.5555555555555556,
              "#d8576b"
             ],
             [
              0.6666666666666666,
              "#ed7953"
             ],
             [
              0.7777777777777778,
              "#fb9f3a"
             ],
             [
              0.8888888888888888,
              "#fdca26"
             ],
             [
              1,
              "#f0f921"
             ]
            ],
            "type": "histogram2dcontour"
           }
          ],
          "mesh3d": [
           {
            "colorbar": {
             "outlinewidth": 0,
             "ticks": ""
            },
            "type": "mesh3d"
           }
          ],
          "parcoords": [
           {
            "line": {
             "colorbar": {
              "outlinewidth": 0,
              "ticks": ""
             }
            },
            "type": "parcoords"
           }
          ],
          "pie": [
           {
            "automargin": true,
            "type": "pie"
           }
          ],
          "scatter": [
           {
            "fillpattern": {
             "fillmode": "overlay",
             "size": 10,
             "solidity": 0.2
            },
            "type": "scatter"
           }
          ],
          "scatter3d": [
           {
            "line": {
             "colorbar": {
              "outlinewidth": 0,
              "ticks": ""
             }
            },
            "marker": {
             "colorbar": {
              "outlinewidth": 0,
              "ticks": ""
             }
            },
            "type": "scatter3d"
           }
          ],
          "scattercarpet": [
           {
            "marker": {
             "colorbar": {
              "outlinewidth": 0,
              "ticks": ""
             }
            },
            "type": "scattercarpet"
           }
          ],
          "scattergeo": [
           {
            "marker": {
             "colorbar": {
              "outlinewidth": 0,
              "ticks": ""
             }
            },
            "type": "scattergeo"
           }
          ],
          "scattergl": [
           {
            "marker": {
             "colorbar": {
              "outlinewidth": 0,
              "ticks": ""
             }
            },
            "type": "scattergl"
           }
          ],
          "scattermapbox": [
           {
            "marker": {
             "colorbar": {
              "outlinewidth": 0,
              "ticks": ""
             }
            },
            "type": "scattermapbox"
           }
          ],
          "scatterpolar": [
           {
            "marker": {
             "colorbar": {
              "outlinewidth": 0,
              "ticks": ""
             }
            },
            "type": "scatterpolar"
           }
          ],
          "scatterpolargl": [
           {
            "marker": {
             "colorbar": {
              "outlinewidth": 0,
              "ticks": ""
             }
            },
            "type": "scatterpolargl"
           }
          ],
          "scatterternary": [
           {
            "marker": {
             "colorbar": {
              "outlinewidth": 0,
              "ticks": ""
             }
            },
            "type": "scatterternary"
           }
          ],
          "surface": [
           {
            "colorbar": {
             "outlinewidth": 0,
             "ticks": ""
            },
            "colorscale": [
             [
              0,
              "#0d0887"
             ],
             [
              0.1111111111111111,
              "#46039f"
             ],
             [
              0.2222222222222222,
              "#7201a8"
             ],
             [
              0.3333333333333333,
              "#9c179e"
             ],
             [
              0.4444444444444444,
              "#bd3786"
             ],
             [
              0.5555555555555556,
              "#d8576b"
             ],
             [
              0.6666666666666666,
              "#ed7953"
             ],
             [
              0.7777777777777778,
              "#fb9f3a"
             ],
             [
              0.8888888888888888,
              "#fdca26"
             ],
             [
              1,
              "#f0f921"
             ]
            ],
            "type": "surface"
           }
          ],
          "table": [
           {
            "cells": {
             "fill": {
              "color": "#EBF0F8"
             },
             "line": {
              "color": "white"
             }
            },
            "header": {
             "fill": {
              "color": "#C8D4E3"
             },
             "line": {
              "color": "white"
             }
            },
            "type": "table"
           }
          ]
         },
         "layout": {
          "annotationdefaults": {
           "arrowcolor": "#2a3f5f",
           "arrowhead": 0,
           "arrowwidth": 1
          },
          "autotypenumbers": "strict",
          "coloraxis": {
           "colorbar": {
            "outlinewidth": 0,
            "ticks": ""
           }
          },
          "colorscale": {
           "diverging": [
            [
             0,
             "#8e0152"
            ],
            [
             0.1,
             "#c51b7d"
            ],
            [
             0.2,
             "#de77ae"
            ],
            [
             0.3,
             "#f1b6da"
            ],
            [
             0.4,
             "#fde0ef"
            ],
            [
             0.5,
             "#f7f7f7"
            ],
            [
             0.6,
             "#e6f5d0"
            ],
            [
             0.7,
             "#b8e186"
            ],
            [
             0.8,
             "#7fbc41"
            ],
            [
             0.9,
             "#4d9221"
            ],
            [
             1,
             "#276419"
            ]
           ],
           "sequential": [
            [
             0,
             "#0d0887"
            ],
            [
             0.1111111111111111,
             "#46039f"
            ],
            [
             0.2222222222222222,
             "#7201a8"
            ],
            [
             0.3333333333333333,
             "#9c179e"
            ],
            [
             0.4444444444444444,
             "#bd3786"
            ],
            [
             0.5555555555555556,
             "#d8576b"
            ],
            [
             0.6666666666666666,
             "#ed7953"
            ],
            [
             0.7777777777777778,
             "#fb9f3a"
            ],
            [
             0.8888888888888888,
             "#fdca26"
            ],
            [
             1,
             "#f0f921"
            ]
           ],
           "sequentialminus": [
            [
             0,
             "#0d0887"
            ],
            [
             0.1111111111111111,
             "#46039f"
            ],
            [
             0.2222222222222222,
             "#7201a8"
            ],
            [
             0.3333333333333333,
             "#9c179e"
            ],
            [
             0.4444444444444444,
             "#bd3786"
            ],
            [
             0.5555555555555556,
             "#d8576b"
            ],
            [
             0.6666666666666666,
             "#ed7953"
            ],
            [
             0.7777777777777778,
             "#fb9f3a"
            ],
            [
             0.8888888888888888,
             "#fdca26"
            ],
            [
             1,
             "#f0f921"
            ]
           ]
          },
          "colorway": [
           "#636efa",
           "#EF553B",
           "#00cc96",
           "#ab63fa",
           "#FFA15A",
           "#19d3f3",
           "#FF6692",
           "#B6E880",
           "#FF97FF",
           "#FECB52"
          ],
          "font": {
           "color": "#2a3f5f"
          },
          "geo": {
           "bgcolor": "white",
           "lakecolor": "white",
           "landcolor": "#E5ECF6",
           "showlakes": true,
           "showland": true,
           "subunitcolor": "white"
          },
          "hoverlabel": {
           "align": "left"
          },
          "hovermode": "closest",
          "mapbox": {
           "style": "light"
          },
          "paper_bgcolor": "white",
          "plot_bgcolor": "#E5ECF6",
          "polar": {
           "angularaxis": {
            "gridcolor": "white",
            "linecolor": "white",
            "ticks": ""
           },
           "bgcolor": "#E5ECF6",
           "radialaxis": {
            "gridcolor": "white",
            "linecolor": "white",
            "ticks": ""
           }
          },
          "scene": {
           "xaxis": {
            "backgroundcolor": "#E5ECF6",
            "gridcolor": "white",
            "gridwidth": 2,
            "linecolor": "white",
            "showbackground": true,
            "ticks": "",
            "zerolinecolor": "white"
           },
           "yaxis": {
            "backgroundcolor": "#E5ECF6",
            "gridcolor": "white",
            "gridwidth": 2,
            "linecolor": "white",
            "showbackground": true,
            "ticks": "",
            "zerolinecolor": "white"
           },
           "zaxis": {
            "backgroundcolor": "#E5ECF6",
            "gridcolor": "white",
            "gridwidth": 2,
            "linecolor": "white",
            "showbackground": true,
            "ticks": "",
            "zerolinecolor": "white"
           }
          },
          "shapedefaults": {
           "line": {
            "color": "#2a3f5f"
           }
          },
          "ternary": {
           "aaxis": {
            "gridcolor": "white",
            "linecolor": "white",
            "ticks": ""
           },
           "baxis": {
            "gridcolor": "white",
            "linecolor": "white",
            "ticks": ""
           },
           "bgcolor": "#E5ECF6",
           "caxis": {
            "gridcolor": "white",
            "linecolor": "white",
            "ticks": ""
           }
          },
          "title": {
           "x": 0.05
          },
          "xaxis": {
           "automargin": true,
           "gridcolor": "white",
           "linecolor": "white",
           "ticks": "",
           "title": {
            "standoff": 15
           },
           "zerolinecolor": "white",
           "zerolinewidth": 2
          },
          "yaxis": {
           "automargin": true,
           "gridcolor": "white",
           "linecolor": "white",
           "ticks": "",
           "title": {
            "standoff": 15
           },
           "zerolinecolor": "white",
           "zerolinewidth": 2
          }
         }
        },
        "xaxis": {
         "anchor": "y",
         "domain": [
          0,
          1
         ],
         "title": {
          "text": "MonthYr"
         }
        },
        "yaxis": {
         "anchor": "x",
         "domain": [
          0,
          1
         ],
         "title": {
          "text": "TweetCountbyMonth"
         }
        }
       }
      },
      "text/html": [
       "<div>                            <div id=\"c2e90389-e9f2-4e1e-a4c8-ea53317b00cc\" class=\"plotly-graph-div\" style=\"height:525px; width:100%;\"></div>            <script type=\"text/javascript\">                require([\"plotly\"], function(Plotly) {                    window.PLOTLYENV=window.PLOTLYENV || {};                                    if (document.getElementById(\"c2e90389-e9f2-4e1e-a4c8-ea53317b00cc\")) {                    Plotly.newPlot(                        \"c2e90389-e9f2-4e1e-a4c8-ea53317b00cc\",                        [{\"alignmentgroup\":\"True\",\"hovertemplate\":\"MonthYr=%{x}<br>TweetCountbyMonth=%{y}<extra></extra>\",\"legendgroup\":\"\",\"marker\":{\"color\":\"#636efa\",\"pattern\":{\"shape\":\"\"}},\"name\":\"\",\"offsetgroup\":\"\",\"orientation\":\"v\",\"showlegend\":false,\"textposition\":\"auto\",\"x\":[\"2021_1\",\"2021_2\",\"2021_3\",\"2021_4\",\"2021_5\",\"2021_6\",\"2021_7\",\"2021_8\",\"2021_9\",\"2021_10\",\"2021_11\",\"2021_12\",\"2022_1\",\"2022_2\",\"2022_3\",\"2022_4\",\"2022_5\",\"2022_6\",\"2022_7\",\"2022_8\",\"2022_9\",\"2022_10\",\"2022_11\"],\"xaxis\":\"x\",\"y\":[354,804,756,324,995,2354,4098,767,806,711,471,831,437,373,1495,1438,1375,1163,2405,937,1217,993,714],\"yaxis\":\"y\",\"type\":\"bar\"}],                        {\"template\":{\"data\":{\"histogram2dcontour\":[{\"type\":\"histogram2dcontour\",\"colorbar\":{\"outlinewidth\":0,\"ticks\":\"\"},\"colorscale\":[[0.0,\"#0d0887\"],[0.1111111111111111,\"#46039f\"],[0.2222222222222222,\"#7201a8\"],[0.3333333333333333,\"#9c179e\"],[0.4444444444444444,\"#bd3786\"],[0.5555555555555556,\"#d8576b\"],[0.6666666666666666,\"#ed7953\"],[0.7777777777777778,\"#fb9f3a\"],[0.8888888888888888,\"#fdca26\"],[1.0,\"#f0f921\"]]}],\"choropleth\":[{\"type\":\"choropleth\",\"colorbar\":{\"outlinewidth\":0,\"ticks\":\"\"}}],\"histogram2d\":[{\"type\":\"histogram2d\",\"colorbar\":{\"outlinewidth\":0,\"ticks\":\"\"},\"colorscale\":[[0.0,\"#0d0887\"],[0.1111111111111111,\"#46039f\"],[0.2222222222222222,\"#7201a8\"],[0.3333333333333333,\"#9c179e\"],[0.4444444444444444,\"#bd3786\"],[0.5555555555555556,\"#d8576b\"],[0.6666666666666666,\"#ed7953\"],[0.7777777777777778,\"#fb9f3a\"],[0.8888888888888888,\"#fdca26\"],[1.0,\"#f0f921\"]]}],\"heatmap\":[{\"type\":\"heatmap\",\"colorbar\":{\"outlinewidth\":0,\"ticks\":\"\"},\"colorscale\":[[0.0,\"#0d0887\"],[0.1111111111111111,\"#46039f\"],[0.2222222222222222,\"#7201a8\"],[0.3333333333333333,\"#9c179e\"],[0.4444444444444444,\"#bd3786\"],[0.5555555555555556,\"#d8576b\"],[0.6666666666666666,\"#ed7953\"],[0.7777777777777778,\"#fb9f3a\"],[0.8888888888888888,\"#fdca26\"],[1.0,\"#f0f921\"]]}],\"heatmapgl\":[{\"type\":\"heatmapgl\",\"colorbar\":{\"outlinewidth\":0,\"ticks\":\"\"},\"colorscale\":[[0.0,\"#0d0887\"],[0.1111111111111111,\"#46039f\"],[0.2222222222222222,\"#7201a8\"],[0.3333333333333333,\"#9c179e\"],[0.4444444444444444,\"#bd3786\"],[0.5555555555555556,\"#d8576b\"],[0.6666666666666666,\"#ed7953\"],[0.7777777777777778,\"#fb9f3a\"],[0.8888888888888888,\"#fdca26\"],[1.0,\"#f0f921\"]]}],\"contourcarpet\":[{\"type\":\"contourcarpet\",\"colorbar\":{\"outlinewidth\":0,\"ticks\":\"\"}}],\"contour\":[{\"type\":\"contour\",\"colorbar\":{\"outlinewidth\":0,\"ticks\":\"\"},\"colorscale\":[[0.0,\"#0d0887\"],[0.1111111111111111,\"#46039f\"],[0.2222222222222222,\"#7201a8\"],[0.3333333333333333,\"#9c179e\"],[0.4444444444444444,\"#bd3786\"],[0.5555555555555556,\"#d8576b\"],[0.6666666666666666,\"#ed7953\"],[0.7777777777777778,\"#fb9f3a\"],[0.8888888888888888,\"#fdca26\"],[1.0,\"#f0f921\"]]}],\"surface\":[{\"type\":\"surface\",\"colorbar\":{\"outlinewidth\":0,\"ticks\":\"\"},\"colorscale\":[[0.0,\"#0d0887\"],[0.1111111111111111,\"#46039f\"],[0.2222222222222222,\"#7201a8\"],[0.3333333333333333,\"#9c179e\"],[0.4444444444444444,\"#bd3786\"],[0.5555555555555556,\"#d8576b\"],[0.6666666666666666,\"#ed7953\"],[0.7777777777777778,\"#fb9f3a\"],[0.8888888888888888,\"#fdca26\"],[1.0,\"#f0f921\"]]}],\"mesh3d\":[{\"type\":\"mesh3d\",\"colorbar\":{\"outlinewidth\":0,\"ticks\":\"\"}}],\"scatter\":[{\"fillpattern\":{\"fillmode\":\"overlay\",\"size\":10,\"solidity\":0.2},\"type\":\"scatter\"}],\"parcoords\":[{\"type\":\"parcoords\",\"line\":{\"colorbar\":{\"outlinewidth\":0,\"ticks\":\"\"}}}],\"scatterpolargl\":[{\"type\":\"scatterpolargl\",\"marker\":{\"colorbar\":{\"outlinewidth\":0,\"ticks\":\"\"}}}],\"bar\":[{\"error_x\":{\"color\":\"#2a3f5f\"},\"error_y\":{\"color\":\"#2a3f5f\"},\"marker\":{\"line\":{\"color\":\"#E5ECF6\",\"width\":0.5},\"pattern\":{\"fillmode\":\"overlay\",\"size\":10,\"solidity\":0.2}},\"type\":\"bar\"}],\"scattergeo\":[{\"type\":\"scattergeo\",\"marker\":{\"colorbar\":{\"outlinewidth\":0,\"ticks\":\"\"}}}],\"scatterpolar\":[{\"type\":\"scatterpolar\",\"marker\":{\"colorbar\":{\"outlinewidth\":0,\"ticks\":\"\"}}}],\"histogram\":[{\"marker\":{\"pattern\":{\"fillmode\":\"overlay\",\"size\":10,\"solidity\":0.2}},\"type\":\"histogram\"}],\"scattergl\":[{\"type\":\"scattergl\",\"marker\":{\"colorbar\":{\"outlinewidth\":0,\"ticks\":\"\"}}}],\"scatter3d\":[{\"type\":\"scatter3d\",\"line\":{\"colorbar\":{\"outlinewidth\":0,\"ticks\":\"\"}},\"marker\":{\"colorbar\":{\"outlinewidth\":0,\"ticks\":\"\"}}}],\"scattermapbox\":[{\"type\":\"scattermapbox\",\"marker\":{\"colorbar\":{\"outlinewidth\":0,\"ticks\":\"\"}}}],\"scatterternary\":[{\"type\":\"scatterternary\",\"marker\":{\"colorbar\":{\"outlinewidth\":0,\"ticks\":\"\"}}}],\"scattercarpet\":[{\"type\":\"scattercarpet\",\"marker\":{\"colorbar\":{\"outlinewidth\":0,\"ticks\":\"\"}}}],\"carpet\":[{\"aaxis\":{\"endlinecolor\":\"#2a3f5f\",\"gridcolor\":\"white\",\"linecolor\":\"white\",\"minorgridcolor\":\"white\",\"startlinecolor\":\"#2a3f5f\"},\"baxis\":{\"endlinecolor\":\"#2a3f5f\",\"gridcolor\":\"white\",\"linecolor\":\"white\",\"minorgridcolor\":\"white\",\"startlinecolor\":\"#2a3f5f\"},\"type\":\"carpet\"}],\"table\":[{\"cells\":{\"fill\":{\"color\":\"#EBF0F8\"},\"line\":{\"color\":\"white\"}},\"header\":{\"fill\":{\"color\":\"#C8D4E3\"},\"line\":{\"color\":\"white\"}},\"type\":\"table\"}],\"barpolar\":[{\"marker\":{\"line\":{\"color\":\"#E5ECF6\",\"width\":0.5},\"pattern\":{\"fillmode\":\"overlay\",\"size\":10,\"solidity\":0.2}},\"type\":\"barpolar\"}],\"pie\":[{\"automargin\":true,\"type\":\"pie\"}]},\"layout\":{\"autotypenumbers\":\"strict\",\"colorway\":[\"#636efa\",\"#EF553B\",\"#00cc96\",\"#ab63fa\",\"#FFA15A\",\"#19d3f3\",\"#FF6692\",\"#B6E880\",\"#FF97FF\",\"#FECB52\"],\"font\":{\"color\":\"#2a3f5f\"},\"hovermode\":\"closest\",\"hoverlabel\":{\"align\":\"left\"},\"paper_bgcolor\":\"white\",\"plot_bgcolor\":\"#E5ECF6\",\"polar\":{\"bgcolor\":\"#E5ECF6\",\"angularaxis\":{\"gridcolor\":\"white\",\"linecolor\":\"white\",\"ticks\":\"\"},\"radialaxis\":{\"gridcolor\":\"white\",\"linecolor\":\"white\",\"ticks\":\"\"}},\"ternary\":{\"bgcolor\":\"#E5ECF6\",\"aaxis\":{\"gridcolor\":\"white\",\"linecolor\":\"white\",\"ticks\":\"\"},\"baxis\":{\"gridcolor\":\"white\",\"linecolor\":\"white\",\"ticks\":\"\"},\"caxis\":{\"gridcolor\":\"white\",\"linecolor\":\"white\",\"ticks\":\"\"}},\"coloraxis\":{\"colorbar\":{\"outlinewidth\":0,\"ticks\":\"\"}},\"colorscale\":{\"sequential\":[[0.0,\"#0d0887\"],[0.1111111111111111,\"#46039f\"],[0.2222222222222222,\"#7201a8\"],[0.3333333333333333,\"#9c179e\"],[0.4444444444444444,\"#bd3786\"],[0.5555555555555556,\"#d8576b\"],[0.6666666666666666,\"#ed7953\"],[0.7777777777777778,\"#fb9f3a\"],[0.8888888888888888,\"#fdca26\"],[1.0,\"#f0f921\"]],\"sequentialminus\":[[0.0,\"#0d0887\"],[0.1111111111111111,\"#46039f\"],[0.2222222222222222,\"#7201a8\"],[0.3333333333333333,\"#9c179e\"],[0.4444444444444444,\"#bd3786\"],[0.5555555555555556,\"#d8576b\"],[0.6666666666666666,\"#ed7953\"],[0.7777777777777778,\"#fb9f3a\"],[0.8888888888888888,\"#fdca26\"],[1.0,\"#f0f921\"]],\"diverging\":[[0,\"#8e0152\"],[0.1,\"#c51b7d\"],[0.2,\"#de77ae\"],[0.3,\"#f1b6da\"],[0.4,\"#fde0ef\"],[0.5,\"#f7f7f7\"],[0.6,\"#e6f5d0\"],[0.7,\"#b8e186\"],[0.8,\"#7fbc41\"],[0.9,\"#4d9221\"],[1,\"#276419\"]]},\"xaxis\":{\"gridcolor\":\"white\",\"linecolor\":\"white\",\"ticks\":\"\",\"title\":{\"standoff\":15},\"zerolinecolor\":\"white\",\"automargin\":true,\"zerolinewidth\":2},\"yaxis\":{\"gridcolor\":\"white\",\"linecolor\":\"white\",\"ticks\":\"\",\"title\":{\"standoff\":15},\"zerolinecolor\":\"white\",\"automargin\":true,\"zerolinewidth\":2},\"scene\":{\"xaxis\":{\"backgroundcolor\":\"#E5ECF6\",\"gridcolor\":\"white\",\"linecolor\":\"white\",\"showbackground\":true,\"ticks\":\"\",\"zerolinecolor\":\"white\",\"gridwidth\":2},\"yaxis\":{\"backgroundcolor\":\"#E5ECF6\",\"gridcolor\":\"white\",\"linecolor\":\"white\",\"showbackground\":true,\"ticks\":\"\",\"zerolinecolor\":\"white\",\"gridwidth\":2},\"zaxis\":{\"backgroundcolor\":\"#E5ECF6\",\"gridcolor\":\"white\",\"linecolor\":\"white\",\"showbackground\":true,\"ticks\":\"\",\"zerolinecolor\":\"white\",\"gridwidth\":2}},\"shapedefaults\":{\"line\":{\"color\":\"#2a3f5f\"}},\"annotationdefaults\":{\"arrowcolor\":\"#2a3f5f\",\"arrowhead\":0,\"arrowwidth\":1},\"geo\":{\"bgcolor\":\"white\",\"landcolor\":\"#E5ECF6\",\"subunitcolor\":\"white\",\"showland\":true,\"showlakes\":true,\"lakecolor\":\"white\"},\"title\":{\"x\":0.05},\"mapbox\":{\"style\":\"light\"}}},\"xaxis\":{\"anchor\":\"y\",\"domain\":[0.0,1.0],\"title\":{\"text\":\"MonthYr\"}},\"yaxis\":{\"anchor\":\"x\",\"domain\":[0.0,1.0],\"title\":{\"text\":\"TweetCountbyMonth\"}},\"legend\":{\"tracegroupgap\":0},\"margin\":{\"t\":60},\"barmode\":\"relative\"},                        {\"responsive\": true}                    ).then(function(){\n",
       "                            \n",
       "var gd = document.getElementById('c2e90389-e9f2-4e1e-a4c8-ea53317b00cc');\n",
       "var x = new MutationObserver(function (mutations, observer) {{\n",
       "        var display = window.getComputedStyle(gd).display;\n",
       "        if (!display || display === 'none') {{\n",
       "            console.log([gd, 'removed!']);\n",
       "            Plotly.purge(gd);\n",
       "            observer.disconnect();\n",
       "        }}\n",
       "}});\n",
       "\n",
       "// Listen for the removal of the full notebook cells\n",
       "var notebookContainer = gd.closest('#notebook-container');\n",
       "if (notebookContainer) {{\n",
       "    x.observe(notebookContainer, {childList: true});\n",
       "}}\n",
       "\n",
       "// Listen for the clearing of the current output cell\n",
       "var outputEl = gd.closest('.output');\n",
       "if (outputEl) {{\n",
       "    x.observe(outputEl, {childList: true});\n",
       "}}\n",
       "\n",
       "                        })                };                });            </script>        </div>"
      ]
     },
     "metadata": {},
     "output_type": "display_data"
    }
   ],
   "source": [
    "tempdf = ps.DataFrame(dfMonth)\n",
    "\n",
    "tempdf.plot(kind='bar', x='MonthYr', y='TweetCountbyMonth')"
   ]
  },
  {
   "attachments": {},
   "cell_type": "markdown",
   "id": "0c854ddd",
   "metadata": {},
   "source": [
    "### Next up is text clean up "
   ]
  },
  {
   "cell_type": "code",
   "execution_count": 221,
   "id": "7232fafd",
   "metadata": {
    "vscode": {
     "languageId": "python"
    }
   },
   "outputs": [],
   "source": [
    "#%pip install wordcloud\n",
    "#%pip install vadersentiment\n",
    "## sentiment analysis ref: https://www.geeksforgeeks.org/python-sentiment-analysis-using-vader/?ref=lbp\n",
    "from vaderSentiment.vaderSentiment import SentimentIntensityAnalyzer\n",
    "\n",
    "# function to print sentiments\n",
    "# of the sentence.\n",
    "def sentiment_scores(sentence):\n",
    " \n",
    "    # Create a SentimentIntensityAnalyzer object.\n",
    "    sid_obj = SentimentIntensityAnalyzer()\n",
    " \n",
    "    # polarity_scores method of SentimentIntensityAnalyzer\n",
    "    # object gives a sentiment dictionary.\n",
    "    # which contains pos, neg, neu, and compound scores.\n",
    "    sentiment_dict = sid_obj.polarity_scores(sentence)\n",
    "     \n",
    "    print(\"Overall sentiment dictionary is : \", sentiment_dict)\n",
    "    #print(\"sentence was rated as \", sentiment_dict['neg']*100, \"% Negative\")\n",
    "    #print(\"sentence was rated as \", sentiment_dict['neu']*100, \"% Neutral\")\n",
    "    #print(\"sentence was rated as \", sentiment_dict['pos']*100, \"% Positive\")\n",
    " \n",
    "    #print(\"Sentence Overall Rated As\", end = \" \")\n",
    " \n",
    "    # decide sentiment as positive, negative and neutral\n",
    "    if sentiment_dict['compound'] >= 0.05 :\n",
    "        print(\"Positive\")\n",
    " \n",
    "    elif sentiment_dict['compound'] <= - 0.05 :\n",
    "       print(\"Negative\")\n",
    " \n",
    "    else :\n",
    "        print(\"Neutral\")\n",
    "    \n",
    "    return sentiment_dict['compound']"
   ]
  },
  {
   "cell_type": "code",
   "execution_count": 222,
   "id": "7a46273e",
   "metadata": {
    "vscode": {
     "languageId": "python"
    }
   },
   "outputs": [
    {
     "name": "stderr",
     "output_type": "stream",
     "text": [
      "[Stage 652:==========================================>              (3 + 1) / 4]\r"
     ]
    },
    {
     "name": "stdout",
     "output_type": "stream",
     "text": [
      "+-------------------+--------------------+\n",
      "|                 id|                text|\n",
      "+-------------------+--------------------+\n",
      "|1345422585002160149|I really like Wol...|\n",
      "|1355814040275091467|RT @TheEconomist:...|\n",
      "|1356840789104619521|Top story: Spotif...|\n",
      "|1363083540854956034|RT @Letter_to_Jac...|\n",
      "|1346785087887728640|It costs 0 $/rs/p...|\n",
      "|1354474836723163139|RT @LauraHuhtasaa...|\n",
      "|1354744404653858817|RT @MECenquiries:...|\n",
      "|1359491081734389760|@nglinsman @amliv...|\n",
      "|1359908297541885954|Daily Best &amp; ...|\n",
      "|1361771357030252546|@gazzacritch86 We...|\n",
      "|1362048634062307329|I actually feel b...|\n",
      "|1362133958801039360|RT @ronniesfw: hi...|\n",
      "|1355037259372883968|For Philly, euro ...|\n",
      "|1356308640983089153|RT @PolaLem: Univ...|\n",
      "|1362943363012509700|RT @SixersAdam: J...|\n",
      "|1345412531263852545|A whooping 1,3 tr...|\n",
      "|1355164539705290767|RT @stpaddyofassi...|\n",
      "|1360073523746590723|RT @fab_moran: St...|\n",
      "|1361644785501679619|RT @business: Air...|\n",
      "|1362028937640042501|@euro_vieira You ...|\n",
      "+-------------------+--------------------+\n",
      "only showing top 20 rows\n",
      "\n"
     ]
    },
    {
     "name": "stderr",
     "output_type": "stream",
     "text": [
      "                                                                                \r"
     ]
    }
   ],
   "source": [
    "dfText = spark.sql(\"SELECT DISTINCT id, text AS text FROM en_tweets\")\n",
    "dfText.createOrReplaceTempView(\"text\")\n",
    "dfText.show()\n"
   ]
  },
  {
   "attachments": {},
   "cell_type": "markdown",
   "id": "5e65d385",
   "metadata": {},
   "source": [
    "Count the number of words in the tweets "
   ]
  },
  {
   "cell_type": "code",
   "execution_count": 223,
   "id": "73fdd30a",
   "metadata": {
    "vscode": {
     "languageId": "python"
    }
   },
   "outputs": [
    {
     "name": "stderr",
     "output_type": "stream",
     "text": [
      "[Stage 655:==========================================>              (3 + 1) / 4]\r"
     ]
    },
    {
     "name": "stdout",
     "output_type": "stream",
     "text": [
      "+------------+-----+\n",
      "|        Word|count|\n",
      "+------------+-----+\n",
      "|         the|15923|\n",
      "|          RT|13707|\n",
      "|        euro|13091|\n",
      "|          to| 8480|\n",
      "|           a| 7288|\n",
      "|         and| 6068|\n",
      "|          in| 6065|\n",
      "|          of| 5711|\n",
      "|         for| 5186|\n",
      "|          is| 4801|\n",
      "|          on| 3108|\n",
      "|@vivo_europe| 2993|\n",
      "|   @EURO2020| 2992|\n",
      "|         you| 2651|\n",
      "|           I| 2525|\n",
      "|        that| 2101|\n",
      "|         The| 2065|\n",
      "|          at| 2047|\n",
      "|          by| 1838|\n",
      "|            | 1804|\n",
      "+------------+-----+\n",
      "only showing top 20 rows\n",
      "\n"
     ]
    },
    {
     "name": "stderr",
     "output_type": "stream",
     "text": [
      "                                                                                \r"
     ]
    }
   ],
   "source": [
    "from pyspark.sql.functions import * \n",
    "from pyspark.sql.types import StringType, ArrayType\n",
    "# heavy reliance on SQL functions in the following code\n",
    "\n",
    "dfWord = dfText.withColumn(\"Word\", explode(split(col(\"text\"), ' '))).groupBy(\"Word\").count().orderBy(desc(\"count\"))\n",
    "\n",
    "dfWord.show()"
   ]
  },
  {
   "attachments": {},
   "cell_type": "markdown",
   "id": "0a213b15",
   "metadata": {},
   "source": [
    "Count the number of characters including spaces"
   ]
  },
  {
   "cell_type": "code",
   "execution_count": 224,
   "id": "9a1d5e4a",
   "metadata": {
    "vscode": {
     "languageId": "python"
    }
   },
   "outputs": [
    {
     "name": "stderr",
     "output_type": "stream",
     "text": [
      "[Stage 661:==========================================>              (3 + 1) / 4]\r"
     ]
    },
    {
     "name": "stdout",
     "output_type": "stream",
     "text": [
      "+--------------------+----+\n",
      "|                text|char|\n",
      "+--------------------+----+\n",
      "|RT @ChemSystemsCh...| 156|\n",
      "|Internationals (w...| 155|\n",
      "|RT @GA_Contest: $...| 152|\n",
      "|RT @eurociu: Voca...| 152|\n",
      "|RT @trade1311: pe...| 152|\n",
      "+--------------------+----+\n",
      "only showing top 5 rows\n",
      "\n"
     ]
    },
    {
     "name": "stderr",
     "output_type": "stream",
     "text": [
      "                                                                                \r"
     ]
    }
   ],
   "source": [
    "dfChar = spark.sql(\"SELECT text, LENGTH(text) AS char FROM text ORDER BY char DESC\")\n",
    "dfChar.show(5)"
   ]
  },
  {
   "attachments": {},
   "cell_type": "markdown",
   "id": "24d9bf93",
   "metadata": {},
   "source": [
    "Check for special characters i.e. Hashtags"
   ]
  },
  {
   "cell_type": "code",
   "execution_count": 225,
   "id": "c3d58adb",
   "metadata": {
    "vscode": {
     "languageId": "python"
    }
   },
   "outputs": [
    {
     "name": "stderr",
     "output_type": "stream",
     "text": [
      "[Stage 664:>                                                        (0 + 1) / 1]\r"
     ]
    },
    {
     "name": "stdout",
     "output_type": "stream",
     "text": [
      "+--------------------+--------------------+\n",
      "|                text|            Hashtags|\n",
      "+--------------------+--------------------+\n",
      "|Daily Best &amp; ...|[#performers, #co...|\n",
      "|Are you intereste...|[#euro, #microbio...|\n",
      "|No reprieve for t...|  [#forex, #trading]|\n",
      "|RT @KfW_int: Two-...|           [#Europe]|\n",
      "|RT @eurovanya: Mo...|       [#Eurovision]|\n",
      "|RT @scotlandcoerv...|         [#euro2020]|\n",
      "|RT @nanon_diary: ...|[#MyPrecious, #my...|\n",
      "|RT @EXOLAceTeamPH...|[#DONT_FIGHT_THE_...|\n",
      "|RT @nexta_tv: 🇱?...|[#Lithuania, #Ukr...|\n",
      "|@EURO2020 @vivo_e...|[#BTS, #Butter, #...|\n",
      "|RT @EURO2020: For...|         [#EURO2020]|\n",
      "|@WEURO2022 @euron...|        [#WEURO2022]|\n",
      "|RT @euro_pinkploy...|  [#KAZZ2022xEUPINK]|\n",
      "|RT @stasisnet: 💶...|       [#euro, #sta]|\n",
      "|RT @stasisnet: 💶...|       [#euro, #sta]|\n",
      "|RT @stasisnet: 💶...|       [#euro, #sta]|\n",
      "|RT @stasisnet: 💶...|       [#euro, #sta]|\n",
      "|RT @classic_jerse...|[#COYBIG, #ybig, ...|\n",
      "|#UN had a vote on...|      [#UN, #racism]|\n",
      "|RT @euroweeklynew...|        [#WorldNews]|\n",
      "+--------------------+--------------------+\n",
      "only showing top 20 rows\n",
      "\n"
     ]
    },
    {
     "name": "stderr",
     "output_type": "stream",
     "text": [
      "                                                                                \r"
     ]
    }
   ],
   "source": [
    "dfSpecChar = spark.sql(\"SELECT text, regexp_extract_all(text, '(#\\\\\\\\w+)', 1) AS Hashtags FROM text WHERE text like '%#%' \")\n",
    "dfSpecChar.show()"
   ]
  },
  {
   "attachments": {},
   "cell_type": "markdown",
   "id": "e59219aa",
   "metadata": {},
   "source": [
    "Check for upper case "
   ]
  },
  {
   "cell_type": "code",
   "execution_count": 226,
   "id": "ad4f54f8",
   "metadata": {
    "vscode": {
     "languageId": "python"
    }
   },
   "outputs": [
    {
     "name": "stderr",
     "output_type": "stream",
     "text": [
      "[Stage 667:============================>                            (2 + 2) / 4]\r"
     ]
    },
    {
     "name": "stdout",
     "output_type": "stream",
     "text": [
      "+----+\n",
      "|text|\n",
      "+----+\n",
      "+----+\n",
      "\n"
     ]
    },
    {
     "name": "stderr",
     "output_type": "stream",
     "text": [
      "                                                                                \r"
     ]
    }
   ],
   "source": [
    "dfUpper = spark.sql(\"SELECT text FROM text WHERE translate(text, 'ABCDEFGHIJKLMNOPQRSTUVWXYZ', '') = ''\")\n",
    "dfUpper.show()\n"
   ]
  },
  {
   "attachments": {},
   "cell_type": "markdown",
   "id": "fd4fcee0",
   "metadata": {},
   "source": [
    "Check for numbers \n",
    "\n"
   ]
  },
  {
   "cell_type": "code",
   "execution_count": 227,
   "id": "f0800f96",
   "metadata": {
    "vscode": {
     "languageId": "python"
    }
   },
   "outputs": [
    {
     "name": "stderr",
     "output_type": "stream",
     "text": [
      "[Stage 670:==========================================>              (3 + 1) / 4]\r"
     ]
    },
    {
     "name": "stdout",
     "output_type": "stream",
     "text": [
      "+--------------------+\n",
      "|                text|\n",
      "+--------------------+\n",
      "|A whooping 1,3 tr...|\n",
      "|@vileblackouts im...|\n",
      "|Why have we not b...|\n",
      "|I spend 15 euro's...|\n",
      "|Woman In Portugal...|\n",
      "|RT @euroweeklynew...|\n",
      "|RT @WorldWideWob:...|\n",
      "|RT @AntonSpisak: ...|\n",
      "|I'm beginning to ...|\n",
      "|“the bulk of trad...|\n",
      "|@DataSciBurgoon I...|\n",
      "|RT @WorldWideWob:...|\n",
      "|RT @WorldWideWob:...|\n",
      "|RT @WorldWideWob:...|\n",
      "|RT @uk_domain_nam...|\n",
      "|Bagley euro-step ...|\n",
      "|@UxbEconomist07 @...|\n",
      "|RT @europug2: Hug...|\n",
      "|@agriclaudia Did ...|\n",
      "|@DAVIDFARRANT8 @S...|\n",
      "+--------------------+\n",
      "only showing top 20 rows\n",
      "\n"
     ]
    },
    {
     "name": "stderr",
     "output_type": "stream",
     "text": [
      "                                                                                \r"
     ]
    }
   ],
   "source": [
    "dfNum = spark.sql(\"SELECT text FROM text WHERE translate(text, '0123456789', '') <> text\")\n",
    "dfNum.show()"
   ]
  },
  {
   "attachments": {},
   "cell_type": "markdown",
   "id": "36f71ccd",
   "metadata": {},
   "source": [
    "This check does not really advance our understanding of the data, a lot of twitter names have numbers in them"
   ]
  },
  {
   "cell_type": "code",
   "execution_count": 228,
   "id": "2be29cf6",
   "metadata": {
    "vscode": {
     "languageId": "python"
    }
   },
   "outputs": [
    {
     "name": "stderr",
     "output_type": "stream",
     "text": [
      "                                                                                \r"
     ]
    },
    {
     "data": {
      "text/plain": [
       "18879"
      ]
     },
     "execution_count": 228,
     "metadata": {},
     "output_type": "execute_result"
    }
   ],
   "source": [
    "dfNum.count()"
   ]
  },
  {
   "attachments": {},
   "cell_type": "markdown",
   "id": "c1388760",
   "metadata": {},
   "source": [
    "Leave only text in the strings, all non alpha numeric characters are removed with the application of the regular expression "
   ]
  },
  {
   "cell_type": "code",
   "execution_count": 229,
   "id": "e2f71dcc",
   "metadata": {
    "vscode": {
     "languageId": "python"
    }
   },
   "outputs": [
    {
     "name": "stderr",
     "output_type": "stream",
     "text": [
      "                                                                                \r"
     ]
    },
    {
     "data": {
      "text/plain": [
       "[Row(id=1345422585002160149, orignialText=\"I really like Wolves this season, hoping they can push for euro's again\", text='I really like Wolves this season hoping they can push for euros again'),\n",
       " Row(id=1355814040275091467, orignialText=\"RT @TheEconomist: The EU's €750bn recovery fund is being disbursed too slowly, so there is still too little stimulus in the euro area https…\", text='RT TheEconomist The EUs 750bn recovery fund is being disbursed too slowly so there is still too little stimulus in the euro area https'),\n",
       " Row(id=1356840789104619521, orignialText='Top story: Spotify sube un euro el precio del plan familiar | Androidsis https://t.co/MvWqtmPC6W, see more https://t.co/DtoYNFGG07', text='Top story Spotify sube un euro el precio del plan familiar  Androidsis httpstcoMvWqtmPC6W see more httpstcoDtoYNFGG07'),\n",
       " Row(id=1346785087887728640, orignialText=\"It costs 0 $/rs/peso/euro/pound to admit that you're biased for a player. No one will send d you jail. Oh sorry my… https://t.co/O5eXgj5xoR\", text='It costs 0 rspesoeuropound to admit that youre biased for a player No one will send d you jail Oh sorry my httpstcoO5eXgj5xoR'),\n",
       " Row(id=1354474836723163139, orignialText='RT @LauraHuhtasaari: I wonder if the defects in the euro are intentional because they serve a purpose ➡️ accelerate federal development whe…', text='RT LauraHuhtasaari I wonder if the defects in the euro are intentional because they serve a purpose  accelerate federal development whe')]"
      ]
     },
     "execution_count": 229,
     "metadata": {},
     "output_type": "execute_result"
    }
   ],
   "source": [
    "\n",
    "pattern = r'[^a-zA-Z0-9\\s]'\n",
    "\n",
    "dfText = spark.sql(\"SELECT id, text AS orignialText, text FROM text\")\n",
    "dfText = dfText.withColumn(\"text\", regexp_replace('text', pattern, ''))\n",
    "dfText.take(5)"
   ]
  },
  {
   "cell_type": "code",
   "execution_count": 230,
   "id": "9495e67e",
   "metadata": {
    "vscode": {
     "languageId": "python"
    }
   },
   "outputs": [
    {
     "name": "stderr",
     "output_type": "stream",
     "text": [
      "                                                                                \r"
     ]
    },
    {
     "data": {
      "text/plain": [
       "[Row(id=1345422585002160149, orignialText=\"I really like Wolves this season, hoping they can push for euro's again\", text='i really like wolves this season hoping they can push for euros again'),\n",
       " Row(id=1355814040275091467, orignialText=\"RT @TheEconomist: The EU's €750bn recovery fund is being disbursed too slowly, so there is still too little stimulus in the euro area https…\", text='rt theeconomist the eus 750bn recovery fund is being disbursed too slowly so there is still too little stimulus in the euro area https'),\n",
       " Row(id=1356840789104619521, orignialText='Top story: Spotify sube un euro el precio del plan familiar | Androidsis https://t.co/MvWqtmPC6W, see more https://t.co/DtoYNFGG07', text='top story spotify sube un euro el precio del plan familiar  androidsis httpstcomvwqtmpc6w see more httpstcodtoynfgg07'),\n",
       " Row(id=1346785087887728640, orignialText=\"It costs 0 $/rs/peso/euro/pound to admit that you're biased for a player. No one will send d you jail. Oh sorry my… https://t.co/O5eXgj5xoR\", text='it costs 0 rspesoeuropound to admit that youre biased for a player no one will send d you jail oh sorry my httpstcoo5exgj5xor'),\n",
       " Row(id=1354474836723163139, orignialText='RT @LauraHuhtasaari: I wonder if the defects in the euro are intentional because they serve a purpose ➡️ accelerate federal development whe…', text='rt laurahuhtasaari i wonder if the defects in the euro are intentional because they serve a purpose  accelerate federal development whe')]"
      ]
     },
     "execution_count": 230,
     "metadata": {},
     "output_type": "execute_result"
    }
   ],
   "source": [
    "dfText.createOrReplaceTempView(\"text\") # this is cleaned txt\n",
    "dfText = spark.sql(\"SELECT id, orignialText, LOWER(TRIM(text)) AS text FROM text\")\n",
    "\n",
    "dfText.take(5)"
   ]
  },
  {
   "cell_type": "code",
   "execution_count": 231,
   "id": "c5673de1",
   "metadata": {
    "vscode": {
     "languageId": "python"
    }
   },
   "outputs": [
    {
     "name": "stderr",
     "output_type": "stream",
     "text": [
      "[Stage 685:==========================================>              (3 + 1) / 4]\r"
     ]
    },
    {
     "name": "stdout",
     "output_type": "stream",
     "text": [
      "+-------------------+--------------------+--------------------+\n",
      "|                 id|        orignialText|                text|\n",
      "+-------------------+--------------------+--------------------+\n",
      "|1345422585002160149|I really like Wol...|i really like wol...|\n",
      "|1346785087887728640|It costs 0 $/rs/p...|it costs 0 rspeso...|\n",
      "|1354474836723163139|RT @LauraHuhtasaa...|rt laurahuhtasaar...|\n",
      "|1354744404653858817|RT @MECenquiries:...|rt mecenquiries s...|\n",
      "|1355037259372883968|For Philly, euro ...|for philly euro i...|\n",
      "+-------------------+--------------------+--------------------+\n",
      "only showing top 5 rows\n",
      "\n"
     ]
    },
    {
     "name": "stderr",
     "output_type": "stream",
     "text": [
      "                                                                                \r"
     ]
    }
   ],
   "source": [
    "#now build a word cloud\n",
    "from wordcloud import WordCloud, STOPWORDS\n",
    "dfText.createOrReplaceTempView(\"text\") # this is the trimmed txt\n",
    "dfText = spark.sql(\"SELECT id, orignialText, text FROM text\")\n",
    "dfText.show(5)"
   ]
  },
  {
   "attachments": {},
   "cell_type": "markdown",
   "id": "e99875b0",
   "metadata": {},
   "source": [
    "Fix the spelling"
   ]
  },
  {
   "cell_type": "code",
   "execution_count": 232,
   "id": "b37b93c2",
   "metadata": {
    "vscode": {
     "languageId": "python"
    }
   },
   "outputs": [
    {
     "name": "stderr",
     "output_type": "stream",
     "text": [
      "[Stage 688:==========================================>              (3 + 1) / 4]\r"
     ]
    },
    {
     "name": "stdout",
     "output_type": "stream",
     "text": [
      "+-------------------+--------------------+--------------------+\n",
      "|                 id|        orignialText|                text|\n",
      "+-------------------+--------------------+--------------------+\n",
      "|1345422585002160149|I really like Wol...|i really like wol...|\n",
      "|1355814040275091467|RT @TheEconomist:...|rt theeconomist t...|\n",
      "|1356840789104619521|Top story: Spotif...|top story spotify...|\n",
      "|1363083540854956034|RT @Letter_to_Jac...|rt lettertojack p...|\n",
      "|1477800154367291392|RT @gemhostoffici...|rt gemhostofficia...|\n",
      "+-------------------+--------------------+--------------------+\n",
      "only showing top 5 rows\n",
      "\n"
     ]
    },
    {
     "name": "stderr",
     "output_type": "stream",
     "text": [
      "                                                                                \r"
     ]
    }
   ],
   "source": [
    "#%pip install textblob\n",
    "from textblob import TextBlob\n",
    "\n",
    "dfText = spark.sql(\"SELECT id, orignialText, text FROM text\")\n",
    "#dfText = dfText.withColumn(\"newtext\", col(TextBlob(\"text\").correct()))\n",
    "\n",
    "dfText.show(5)\n",
    "dfText.createOrReplaceTempView(\"text\") # this is the preprocessed SQL Style txt"
   ]
  },
  {
   "cell_type": "code",
   "execution_count": 233,
   "id": "fa68d3a6",
   "metadata": {
    "vscode": {
     "languageId": "python"
    }
   },
   "outputs": [
    {
     "name": "stderr",
     "output_type": "stream",
     "text": [
      "[Stage 691:==========================================>              (3 + 1) / 4]\r"
     ]
    },
    {
     "name": "stdout",
     "output_type": "stream",
     "text": [
      "+-------------------+--------------------+--------------------+\n",
      "|                 id|        orignialText|                text|\n",
      "+-------------------+--------------------+--------------------+\n",
      "|1345422585002160149|I really like Wol...|i really like wol...|\n",
      "|1346785087887728640|It costs 0 $/rs/p...|it costs 0 rspeso...|\n",
      "|1354474836723163139|RT @LauraHuhtasaa...|rt laurahuhtasaar...|\n",
      "|1345412531263852545|A whooping 1,3 tr...|a whooping 13 tri...|\n",
      "|1345022138022064129|@engrare Don't fo...|engrare dont forg...|\n",
      "+-------------------+--------------------+--------------------+\n",
      "only showing top 5 rows\n",
      "\n"
     ]
    },
    {
     "name": "stderr",
     "output_type": "stream",
     "text": [
      "                                                                                \r"
     ]
    }
   ],
   "source": [
    "\n",
    "\n",
    "\n",
    "dfText = spark.sql(\"SELECT * FROM text\")\n",
    "\n",
    "dfText.show(5)"
   ]
  },
  {
   "attachments": {},
   "cell_type": "markdown",
   "id": "4cfa2907",
   "metadata": {},
   "source": [
    "### Tokenize and Stem the tweets"
   ]
  },
  {
   "cell_type": "code",
   "execution_count": 234,
   "id": "96a9baf1",
   "metadata": {
    "vscode": {
     "languageId": "python"
    }
   },
   "outputs": [],
   "source": [
    "#%pip install nltk"
   ]
  },
  {
   "cell_type": "code",
   "execution_count": 235,
   "id": "7a60c90c",
   "metadata": {
    "vscode": {
     "languageId": "python"
    }
   },
   "outputs": [],
   "source": [
    "# stackoverflow ref: https://stackoverflow.com/questions/53579444\n",
    "\n",
    "from pyspark.ml.feature import Tokenizer, StopWordsRemover, CountVectorizer, IDF, StringIndexer\n",
    "from nltk.stem.snowball import SnowballStemmer"
   ]
  },
  {
   "cell_type": "code",
   "execution_count": 236,
   "id": "7f8bd404",
   "metadata": {
    "vscode": {
     "languageId": "python"
    }
   },
   "outputs": [
    {
     "name": "stderr",
     "output_type": "stream",
     "text": [
      "[Stage 695:==========================================>              (3 + 1) / 4]\r"
     ]
    },
    {
     "name": "stdout",
     "output_type": "stream",
     "text": [
      "+--------------------+-------------------+--------------------+--------------------+\n",
      "|                text|                 id|        orignialText|              tokens|\n",
      "+--------------------+-------------------+--------------------+--------------------+\n",
      "|it costs 0 rspeso...|1346785087887728640|It costs 0 $/rs/p...|[it, costs, 0, rs...|\n",
      "|rt laurahuhtasaar...|1354474836723163139|RT @LauraHuhtasaa...|[rt, laurahuhtasa...|\n",
      "|engrare dont forg...|1345022138022064129|@engrare Don't fo...|[engrare, dont, f...|\n",
      "|a whooping 13 tri...|1345412531263852545|A whooping 1,3 tr...|[a, whooping, 13,...|\n",
      "|i really like wol...|1345422585002160149|I really like Wol...|[i, really, like,...|\n",
      "+--------------------+-------------------+--------------------+--------------------+\n",
      "only showing top 5 rows\n",
      "\n"
     ]
    },
    {
     "name": "stderr",
     "output_type": "stream",
     "text": [
      "                                                                                \r"
     ]
    }
   ],
   "source": [
    "# Tokenize text\n",
    "tokenizer = Tokenizer(inputCol=\"text\", outputCol=\"tokens\")\n",
    "dfTextTok = tokenizer.transform(dfText).select(\"text\",\"tokens\")\n",
    "dfText = dfText.join(dfTextTok, on=['text'], how='left_outer')\n",
    "dfText.show(5)"
   ]
  },
  {
   "cell_type": "code",
   "execution_count": 237,
   "id": "780c3062",
   "metadata": {
    "vscode": {
     "languageId": "python"
    }
   },
   "outputs": [
    {
     "name": "stderr",
     "output_type": "stream",
     "text": [
      "[Stage 704:==========================================>              (3 + 1) / 4]\r"
     ]
    },
    {
     "name": "stdout",
     "output_type": "stream",
     "text": [
      "+--------------------+--------------------+--------------------+\n",
      "|                text|              tokens|            filtered|\n",
      "+--------------------+--------------------+--------------------+\n",
      "|it costs 0 rspeso...|[it, costs, 0, rs...|[costs, 0, rspeso...|\n",
      "|rt theeconomist t...|[rt, theeconomist...|[rt, theeconomist...|\n",
      "|rt theeconomist t...|[rt, theeconomist...|[rt, theeconomist...|\n",
      "|rt laurahuhtasaar...|[rt, laurahuhtasa...|[rt, laurahuhtasa...|\n",
      "|rt lettertojack p...|[rt, lettertojack...|[rt, lettertojack...|\n",
      "+--------------------+--------------------+--------------------+\n",
      "only showing top 5 rows\n",
      "\n"
     ]
    },
    {
     "name": "stderr",
     "output_type": "stream",
     "text": [
      "                                                                                \r"
     ]
    }
   ],
   "source": [
    "# Remove stopwords\n",
    "remover = StopWordsRemover(inputCol=\"tokens\", outputCol=\"filtered\")\n",
    "dfText = remover.transform(dfText).select(\"text\",\"tokens\",\"filtered\")\n",
    "dfText.show(5)"
   ]
  },
  {
   "attachments": {},
   "cell_type": "markdown",
   "id": "734132fd",
   "metadata": {},
   "source": [
    "Now recheck for the most common words and decide if they need to be removed "
   ]
  },
  {
   "cell_type": "code",
   "execution_count": 238,
   "id": "aadb3c3a",
   "metadata": {
    "vscode": {
     "languageId": "python"
    }
   },
   "outputs": [
    {
     "ename": "AnalysisException",
     "evalue": "cannot resolve 'split(filtered, ' ', -1)' due to data type mismatch: argument 1 requires string type, however, 'filtered' is of array<string> type.;\n'Project [text#6752, tokens#6819, filtered#6901, explode(split(filtered#6901,  , -1)) AS Word#6932]\n+- Project [text#6752, tokens#6819, filtered#6901]\n   +- Project [text#6752, id#5061L, orignialText#6741, tokens#6819, UDF(tokens#6819) AS filtered#6901]\n      +- Project [text#6752, id#5061L, orignialText#6741, tokens#6819]\n         +- Join LeftOuter, (text#6752 = text#6867)\n            :- Project [id#5061L, orignialText#6741, text#6752]\n            :  +- SubqueryAlias text\n            :     +- View (`text`, [id#5061L,orignialText#6741,text#6752])\n            :        +- Project [id#5061L, orignialText#6741, text#6752]\n            :           +- SubqueryAlias text\n            :              +- View (`text`, [id#5061L,orignialText#6741,text#6752])\n            :                 +- Project [id#5061L, orignialText#6741, lower(trim(text#6745, None)) AS text#6752]\n            :                    +- SubqueryAlias text\n            :                       +- View (`text`, [id#5061L,orignialText#6741,text#6745])\n            :                          +- Project [id#5061L, orignialText#6741, regexp_replace(text#6643, [^a-zA-Z0-9\\s], , 1) AS text#6745]\n            :                             +- Project [id#5061L, text#6643 AS orignialText#6741, text#6643]\n            :                                +- SubqueryAlias text\n            :                                   +- View (`text`, [id#5061L,text#6643])\n            :                                      +- Distinct\n            :                                         +- Project [id#5061L, text#5082 AS text#6643]\n            :                                            +- SubqueryAlias en_tweets\n            :                                               +- View (`en_tweets`, [_id#5049,contributors#5050,coordinates#5051,created_at#5052,display_text_range#5053,entities#5054,extended_entities#5055,extended_tweet#5056,favorite_count#5057,favorited#5058,filter_level#5059,geo#5060,id#5061L,id_str#5062,in_reply_to_screen_name#5063,in_reply_to_status_id#5064L,in_reply_to_status_id_str#5065,in_reply_to_user_id#5066L,in_reply_to_user_id_str#5067,is_quote_status#5068,lang#5069,place#5070,possibly_sensitive#5071,quote_count#5072,quoted_status#5073,quoted_status_id#5074L,quoted_status_id_str#5075,quoted_status_permalink#5076,reply_count#5077,retweet_count#5078,retweeted#5079,retweeted_status#5080,source#5081,text#5082,timestamp_ms#5083,truncated#5084,user#5085,withheld_in_countries#5086])\n            :                                                  +- Project [_id#5049, contributors#5050, coordinates#5051, created_at#5052, display_text_range#5053, entities#5054, extended_entities#5055, extended_tweet#5056, favorite_count#5057, favorited#5058, filter_level#5059, geo#5060, id#5061L, id_str#5062, in_reply_to_screen_name#5063, in_reply_to_status_id#5064L, in_reply_to_status_id_str#5065, in_reply_to_user_id#5066L, in_reply_to_user_id_str#5067, is_quote_status#5068, lang#5069, place#5070, possibly_sensitive#5071, quote_count#5072, ... 14 more fields]\n            :                                                     +- Filter ((lang#5069 = en) AND text#5082 LIKE %euro%)\n            :                                                        +- SubqueryAlias tweets\n            :                                                           +- View (`tweets`, [_id#5049,contributors#5050,coordinates#5051,created_at#5052,display_text_range#5053,entities#5054,extended_entities#5055,extended_tweet#5056,favorite_count#5057,favorited#5058,filter_level#5059,geo#5060,id#5061L,id_str#5062,in_reply_to_screen_name#5063,in_reply_to_status_id#5064L,in_reply_to_status_id_str#5065,in_reply_to_user_id#5066L,in_reply_to_user_id_str#5067,is_quote_status#5068,lang#5069,place#5070,possibly_sensitive#5071,quote_count#5072,quoted_status#5073,quoted_status_id#5074L,quoted_status_id_str#5075,quoted_status_permalink#5076,reply_count#5077,retweet_count#5078,retweeted#5079,retweeted_status#5080,source#5081,text#5082,timestamp_ms#5083,truncated#5084,user#5085,withheld_in_countries#5086])\n            :                                                              +- Relation [_id#5049,contributors#5050,coordinates#5051,created_at#5052,display_text_range#5053,entities#5054,extended_entities#5055,extended_tweet#5056,favorite_count#5057,favorited#5058,filter_level#5059,geo#5060,id#5061L,id_str#5062,in_reply_to_screen_name#5063,in_reply_to_status_id#5064L,in_reply_to_status_id_str#5065,in_reply_to_user_id#5066L,in_reply_to_user_id_str#5067,is_quote_status#5068,lang#5069,place#5070,possibly_sensitive#5071,quote_count#5072,... 14 more fields] MongoRelation(MongoRDD[1118] at RDD at MongoRDD.scala:51,Some(StructType(StructField(_id,StructType(StructField(oid,StringType,true)),true), StructField(contributors,NullType,true), StructField(coordinates,NullType,true), StructField(created_at,StringType,true), StructField(display_text_range,ArrayType(IntegerType,true),true), StructField(entities,StructType(StructField(hashtags,ArrayType(StructType(StructField(text,StringType,true), StructField(indices,ArrayType(IntegerType,true),true)),true),true), StructField(media,ArrayType(StructType(StructField(additional_media_info,StructType(StructField(description,StringType,true), StructField(embeddable,BooleanType,true), StructField(monetizable,BooleanType,true), StructField(title,StringType,true)),true), StructField(description,StringType,true), StructField(display_url,StringType,true), StructField(expanded_url,StringType,true), StructField(id,LongType,true), StructField(id_str,StringType,true), StructField(indices,ArrayType(IntegerType,true),true), StructField(media_url,StringType,true), StructField(media_url_https,StringType,true), StructField(sizes,StructType(StructField(large,StructType(StructField(w,IntegerType,true), StructField(h,IntegerType,true), StructField(resize,StringType,true)),true), StructField(medium,StructType(StructField(w,IntegerType,true), StructField(h,IntegerType,true), StructField(resize,StringType,true)),true), StructField(small,StructType(StructField(w,IntegerType,true), StructField(h,IntegerType,true), StructField(resize,StringType,true)),true), StructField(thumb,StructType(StructField(w,IntegerType,true), StructField(h,IntegerType,true), StructField(resize,StringType,true)),true)),true), StructField(source_status_id,LongType,true), StructField(source_status_id_str,StringType,true), StructField(source_user_id,LongType,true), StructField(source_user_id_str,StringType,true), StructField(type,StringType,true), StructField(url,StringType,true)),true),true), StructField(symbols,ArrayType(StructType(StructField(text,StringType,true), StructField(indices,ArrayType(IntegerType,true),true)),true),true), StructField(urls,ArrayType(StructType(StructField(url,StringType,true), StructField(expanded_url,StringType,true), StructField(display_url,StringType,true), StructField(indices,ArrayType(IntegerType,true),true)),true),true), StructField(user_mentions,ArrayType(StructType(StructField(screen_name,StringType,true), StructField(name,StringType,true), StructField(id,LongType,true), StructField(id_str,StringType,true), StructField(indices,ArrayType(IntegerType,true),true)),true),true)),true), StructField(extended_entities,StructType(StructField(media,ArrayType(StructType(StructField(additional_media_info,StructType(StructField(description,StringType,true), StructField(embeddable,BooleanType,true), StructField(monetizable,BooleanType,true), StructField(title,StringType,true)),true), StructField(description,StringType,true), StructField(display_url,StringType,true), StructField(expanded_url,StringType,true), StructField(id,LongType,true), StructField(id_str,StringType,true), StructField(indices,ArrayType(IntegerType,true),true), StructField(media_url,StringType,true), StructField(media_url_https,StringType,true), StructField(sizes,StructType(StructField(large,StructType(StructField(w,IntegerType,true), StructField(h,IntegerType,true), StructField(resize,StringType,true)),true), StructField(medium,StructType(StructField(w,IntegerType,true), StructField(h,IntegerType,true), StructField(resize,StringType,true)),true), StructField(small,StructType(StructField(w,IntegerType,true), StructField(h,IntegerType,true), StructField(resize,StringType,true)),true), StructField(thumb,StructType(StructField(w,IntegerType,true), StructField(h,IntegerType,true), StructField(resize,StringType,true)),true)),true), StructField(source_status_id,LongType,true), StructField(source_status_id_str,StringType,true), StructField(source_user_id,LongType,true), StructField(source_user_id_str,StringType,true), StructField(type,StringType,true), StructField(url,StringType,true), StructField(video_info,StructType(StructField(aspect_ratio,ArrayType(IntegerType,true),true), StructField(duration_millis,IntegerType,true), StructField(variants,ArrayType(StructType(StructField(bitrate,IntegerType,true), StructField(content_type,StringType,true), StructField(url,StringType,true)),true),true)),true)),true),true)),true), StructField(extended_tweet,StructType(StructField(display_text_range,ArrayType(IntegerType,true),true), StructField(entities,StructType(StructField(hashtags,ArrayType(StructType(StructField(text,StringType,true), StructField(indices,ArrayType(IntegerType,true),true)),true),true), StructField(media,ArrayType(StructType(StructField(additional_media_info,StructType(StructField(description,StringType,true), StructField(embeddable,BooleanType,true), StructField(monetizable,BooleanType,true), StructField(title,StringType,true)),true), StructField(description,StringType,true), StructField(display_url,StringType,true), StructField(expanded_url,StringType,true), StructField(id,LongType,true), StructField(id_str,StringType,true), StructField(indices,ArrayType(IntegerType,true),true), StructField(media_url,StringType,true), StructField(media_url_https,StringType,true), StructField(sizes,StructType(StructField(large,StructType(StructField(w,IntegerType,true), StructField(h,IntegerType,true), StructField(resize,StringType,true)),true), StructField(medium,StructType(StructField(w,IntegerType,true), StructField(h,IntegerType,true), StructField(resize,StringType,true)),true), StructField(small,StructType(StructField(w,IntegerType,true), StructField(h,IntegerType,true), StructField(resize,StringType,true)),true), StructField(thumb,StructType(StructField(w,IntegerType,true), StructField(h,IntegerType,true), StructField(resize,StringType,true)),true)),true), StructField(type,StringType,true), StructField(url,StringType,true), StructField(video_info,StructType(StructField(aspect_ratio,ArrayType(IntegerType,true),true), StructField(duration_millis,IntegerType,true), StructField(variants,ArrayType(StructType(StructField(bitrate,IntegerType,true), StructField(content_type,StringType,true), StructField(url,StringType,true)),true),true)),true)),true),true), StructField(urls,ArrayType(StructType(StructField(url,StringType,true), StructField(expanded_url,StringType,true), StructField(display_url,StringType,true), StructField(indices,ArrayType(IntegerType,true),true)),true),true), StructField(user_mentions,ArrayType(StructType(StructField(screen_name,StringType,true), StructField(name,StringType,true), StructField(id,LongType,true), StructField(id_str,StringType,true), StructField(indices,ArrayType(IntegerType,true),true)),true),true)),true), StructField(extended_entities,StructType(StructField(media,ArrayType(StructType(StructField(additional_media_info,StructType(StructField(description,StringType,true), StructField(embeddable,BooleanType,true), StructField(monetizable,BooleanType,true), StructField(title,StringType,true)),true), StructField(description,StringType,true), StructField(display_url,StringType,true), StructField(expanded_url,StringType,true), StructField(id,LongType,true), StructField(id_str,StringType,true), StructField(indices,ArrayType(IntegerType,true),true), StructField(media_url,StringType,true), StructField(media_url_https,StringType,true), StructField(sizes,StructType(StructField(large,StructType(StructField(w,IntegerType,true), StructField(h,IntegerType,true), StructField(resize,StringType,true)),true), StructField(medium,StructType(StructField(w,IntegerType,true), StructField(h,IntegerType,true), StructField(resize,StringType,true)),true), StructField(small,StructType(StructField(w,IntegerType,true), StructField(h,IntegerType,true), StructField(resize,StringType,true)),true), StructField(thumb,StructType(StructField(w,IntegerType,true), StructField(h,IntegerType,true), StructField(resize,StringType,true)),true)),true), StructField(type,StringType,true), StructField(url,StringType,true), StructField(video_info,StructType(StructField(aspect_ratio,ArrayType(IntegerType,true),true), StructField(duration_millis,IntegerType,true), StructField(variants,ArrayType(StructType(StructField(bitrate,IntegerType,true), StructField(content_type,StringType,true), StructField(url,StringType,true)),true),true)),true)),true),true)),true), StructField(full_text,StringType,true)),true), StructField(favorite_count,IntegerType,true), StructField(favorited,BooleanType,true), StructField(filter_level,StringType,true), StructField(geo,NullType,true), StructField(id,LongType,true), StructField(id_str,StringType,true), StructField(in_reply_to_screen_name,StringType,true), StructField(in_reply_to_status_id,LongType,true), StructField(in_reply_to_status_id_str,StringType,true), StructField(in_reply_to_user_id,LongType,true), StructField(in_reply_to_user_id_str,StringType,true), StructField(is_quote_status,BooleanType,true), StructField(lang,StringType,true), StructField(place,StructType(StructField(id,StringType,true), StructField(url,StringType,true), StructField(place_type,StringType,true), StructField(name,StringType,true), StructField(full_name,StringType,true), StructField(country_code,StringType,true), StructField(country,StringType,true), StructField(bounding_box,StructType(StructField(type,StringType,true), StructField(coordinates,ArrayType(ArrayType(ArrayType(DoubleType,true),true),true),true)),true)),true), StructField(possibly_sensitive,BooleanType,true), StructField(quote_count,IntegerType,true), StructField(quoted_status,StructType(StructField(contributors,NullType,true), StructField(coordinates,NullType,true), StructField(created_at,StringType,true), StructField(display_text_range,ArrayType(IntegerType,true),true), StructField(entities,StructType(StructField(hashtags,ArrayType(StructType(StructField(text,StringType,true), StructField(indices,ArrayType(IntegerType,true),true)),true),true), StructField(media,ArrayType(StructType(StructField(additional_media_info,StructType(StructField(description,StringType,true), StructField(embeddable,BooleanType,true), StructField(monetizable,BooleanType,true), StructField(title,StringType,true)),true), StructField(description,StringType,true), StructField(display_url,StringType,true), StructField(expanded_url,StringType,true), StructField(id,LongType,true), StructField(id_str,StringType,true), StructField(indices,ArrayType(IntegerType,true),true), StructField(media_url,StringType,true), StructField(media_url_https,StringType,true), StructField(sizes,StructType(StructField(large,StructType(StructField(w,IntegerType,true), StructField(h,IntegerType,true), StructField(resize,StringType,true)),true), StructField(medium,StructType(StructField(w,IntegerType,true), StructField(h,IntegerType,true), StructField(resize,StringType,true)),true), StructField(small,StructType(StructField(w,IntegerType,true), StructField(h,IntegerType,true), StructField(resize,StringType,true)),true), StructField(thumb,StructType(StructField(w,IntegerType,true), StructField(h,IntegerType,true), StructField(resize,StringType,true)),true)),true), StructField(source_status_id,LongType,true), StructField(source_status_id_str,StringType,true), StructField(source_user_id,LongType,true), StructField(source_user_id_str,StringType,true), StructField(type,StringType,true), StructField(url,StringType,true)),true),true), StructField(symbols,ArrayType(StructType(StructField(text,StringType,true), StructField(indices,ArrayType(IntegerType,true),true)),true),true), StructField(urls,ArrayType(StructType(StructField(url,StringType,true), StructField(expanded_url,StringType,true), StructField(display_url,StringType,true), StructField(indices,ArrayType(IntegerType,true),true)),true),true), StructField(user_mentions,ArrayType(StructType(StructField(screen_name,StringType,true), StructField(name,StringType,true), StructField(id,LongType,true), StructField(id_str,StringType,true), StructField(indices,ArrayType(IntegerType,true),true)),true),true)),true), StructField(extended_entities,StructType(StructField(media,ArrayType(StructType(StructField(additional_media_info,StructType(StructField(description,StringType,true), StructField(embeddable,BooleanType,true), StructField(monetizable,BooleanType,true), StructField(title,StringType,true)),true), StructField(description,StringType,true), StructField(display_url,StringType,true), StructField(expanded_url,StringType,true), StructField(id,LongType,true), StructField(id_str,StringType,true), StructField(indices,ArrayType(IntegerType,true),true), StructField(media_url,StringType,true), StructField(media_url_https,StringType,true), StructField(sizes,StructType(StructField(large,StructType(StructField(w,IntegerType,true), StructField(h,IntegerType,true), StructField(resize,StringType,true)),true), StructField(medium,StructType(StructField(w,IntegerType,true), StructField(h,IntegerType,true), StructField(resize,StringType,true)),true), StructField(small,StructType(StructField(w,IntegerType,true), StructField(h,IntegerType,true), StructField(resize,StringType,true)),true), StructField(thumb,StructType(StructField(w,IntegerType,true), StructField(h,IntegerType,true), StructField(resize,StringType,true)),true)),true), StructField(source_status_id,LongType,true), StructField(source_status_id_str,StringType,true), StructField(source_user_id,LongType,true), StructField(source_user_id_str,StringType,true), StructField(type,StringType,true), StructField(url,StringType,true), StructField(video_info,StructType(StructField(aspect_ratio,ArrayType(IntegerType,true),true), StructField(duration_millis,IntegerType,true), StructField(variants,ArrayType(StructType(StructField(bitrate,IntegerType,true), StructField(content_type,StringType,true), StructField(url,StringType,true)),true),true)),true)),true),true)),true), StructField(extended_tweet,StructType(StructField(display_text_range,ArrayType(IntegerType,true),true), StructField(entities,StructType(StructField(hashtags,ArrayType(StructType(StructField(text,StringType,true), StructField(indices,ArrayType(IntegerType,true),true)),true),true), StructField(media,ArrayType(StructType(StructField(additional_media_info,StructType(StructField(description,StringType,true), StructField(embeddable,BooleanType,true), StructField(monetizable,BooleanType,true), StructField(title,StringType,true)),true), StructField(display_url,StringType,true), StructField(expanded_url,StringType,true), StructField(id,LongType,true), StructField(id_str,StringType,true), StructField(indices,ArrayType(IntegerType,true),true), StructField(media_url,StringType,true), StructField(media_url_https,StringType,true), StructField(sizes,StructType(StructField(large,StructType(StructField(w,IntegerType,true), StructField(h,IntegerType,true), StructField(resize,StringType,true)),true), StructField(medium,StructType(StructField(w,IntegerType,true), StructField(h,IntegerType,true), StructField(resize,StringType,true)),true), StructField(small,StructType(StructField(w,IntegerType,true), StructField(h,IntegerType,true), StructField(resize,StringType,true)),true), StructField(thumb,StructType(StructField(w,IntegerType,true), StructField(h,IntegerType,true), StructField(resize,StringType,true)),true)),true), StructField(source_status_id,LongType,true), StructField(source_status_id_str,StringType,true), StructField(source_user_id,LongType,true), StructField(source_user_id_str,StringType,true), StructField(type,StringType,true), StructField(url,StringType,true), StructField(video_info,StructType(StructField(aspect_ratio,ArrayType(IntegerType,true),true), StructField(duration_millis,IntegerType,true), StructField(variants,ArrayType(StructType(StructField(bitrate,IntegerType,true), StructField(content_type,StringType,true), StructField(url,StringType,true)),true),true)),true)),true),true), StructField(symbols,ArrayType(StructType(StructField(text,StringType,true), StructField(indices,ArrayType(IntegerType,true),true)),true),true), StructField(urls,ArrayType(StructType(StructField(url,StringType,true), StructField(expanded_url,StringType,true), StructField(display_url,StringType,true), StructField(indices,ArrayType(IntegerType,true),true)),true),true), StructField(user_mentions,ArrayType(StructType(StructField(screen_name,StringType,true), StructField(name,StringType,true), StructField(id,LongType,true), StructField(id_str,StringType,true), StructField(indices,ArrayType(IntegerType,true),true)),true),true)),true), StructField(extended_entities,StructType(StructField(media,ArrayType(StructType(StructField(additional_media_info,StructType(StructField(description,StringType,true), StructField(embeddable,BooleanType,true), StructField(monetizable,BooleanType,true), StructField(title,StringType,true)),true), StructField(display_url,StringType,true), StructField(expanded_url,StringType,true), StructField(id,LongType,true), StructField(id_str,StringType,true), StructField(indices,ArrayType(IntegerType,true),true), StructField(media_url,StringType,true), StructField(media_url_https,StringType,true), StructField(sizes,StructType(StructField(large,StructType(StructField(w,IntegerType,true), StructField(h,IntegerType,true), StructField(resize,StringType,true)),true), StructField(medium,StructType(StructField(w,IntegerType,true), StructField(h,IntegerType,true), StructField(resize,StringType,true)),true), StructField(small,StructType(StructField(w,IntegerType,true), StructField(h,IntegerType,true), StructField(resize,StringType,true)),true), StructField(thumb,StructType(StructField(w,IntegerType,true), StructField(h,IntegerType,true), StructField(resize,StringType,true)),true)),true), StructField(source_status_id,LongType,true), StructField(source_status_id_str,StringType,true), StructField(source_user_id,LongType,true), StructField(source_user_id_str,StringType,true), StructField(type,StringType,true), StructField(url,StringType,true), StructField(video_info,StructType(StructField(aspect_ratio,ArrayType(IntegerType,true),true), StructField(duration_millis,IntegerType,true), StructField(variants,ArrayType(StructType(StructField(bitrate,IntegerType,true), StructField(content_type,StringType,true), StructField(url,StringType,true)),true),true)),true)),true),true)),true), StructField(full_text,StringType,true)),true), StructField(favorite_count,IntegerType,true), StructField(favorited,BooleanType,true), StructField(filter_level,StringType,true), StructField(geo,NullType,true), StructField(id,LongType,true), StructField(id_str,StringType,true), StructField(in_reply_to_screen_name,StringType,true), StructField(in_reply_to_status_id,LongType,true), StructField(in_reply_to_status_id_str,StringType,true), StructField(in_reply_to_user_id,LongType,true), StructField(in_reply_to_user_id_str,StringType,true), StructField(is_quote_status,BooleanType,true), StructField(lang,StringType,true), StructField(place,StructType(StructField(id,StringType,true), StructField(url,StringType,true), StructField(place_type,StringType,true), StructField(name,StringType,true), StructField(full_name,StringType,true), StructField(country_code,StringType,true), StructField(country,StringType,true), StructField(bounding_box,StructType(StructField(type,StringType,true), StructField(coordinates,ArrayType(ArrayType(ArrayType(DoubleType,true),true),true),true)),true)),true), StructField(possibly_sensitive,BooleanType,true), StructField(quote_count,IntegerType,true), StructField(quoted_status_id,LongType,true), StructField(quoted_status_id_str,StringType,true), StructField(reply_count,IntegerType,true), StructField(retweet_count,IntegerType,true), StructField(retweeted,BooleanType,true), StructField(source,StringType,true), StructField(text,StringType,true), StructField(truncated,BooleanType,true), StructField(user,StructType(StructField(contributors_enabled,BooleanType,true), StructField(created_at,StringType,true), StructField(default_profile,BooleanType,true), StructField(default_profile_image,BooleanType,true), StructField(description,StringType,true), StructField(favourites_count,IntegerType,true), StructField(follow_request_sent,NullType,true), StructField(followers_count,IntegerType,true), StructField(following,NullType,true), StructField(friends_count,IntegerType,true), StructField(geo_enabled,BooleanType,true), StructField(id,LongType,true), StructField(id_str,StringType,true), StructField(is_translator,BooleanType,true), StructField(lang,NullType,true), StructField(listed_count,IntegerType,true), StructField(location,StringType,true), StructField(name,StringType,true), StructField(notifications,NullType,true), StructField(profile_background_color,StringType,true), StructField(profile_background_image_url,StringType,true), StructField(profile_background_image_url_https,StringType,true), StructField(profile_background_tile,BooleanType,true), StructField(profile_banner_url,StringType,true), StructField(profile_image_url,StringType,true), StructField(profile_image_url_https,StringType,true), StructField(profile_link_color,StringType,true), StructField(profile_sidebar_border_color,StringType,true), StructField(profile_sidebar_fill_color,StringType,true), StructField(profile_text_color,StringType,true), StructField(profile_use_background_image,BooleanType,true), StructField(protected,BooleanType,true), StructField(screen_name,StringType,true), StructField(statuses_count,IntegerType,true), StructField(time_zone,NullType,true), StructField(translator_type,StringType,true), StructField(url,StringType,true), StructField(utc_offset,NullType,true), StructField(verified,BooleanType,true)),true)),true), StructField(quoted_status_id,LongType,true), StructField(quoted_status_id_str,StringType,true), StructField(quoted_status_permalink,StructType(StructField(url,StringType,true), StructField(expanded,StringType,true), StructField(display,StringType,true)),true), StructField(reply_count,IntegerType,true), StructField(retweet_count,IntegerType,true), StructField(retweeted,BooleanType,true), StructField(retweeted_status,StructType(StructField(contributors,NullType,true), StructField(coordinates,NullType,true), StructField(created_at,StringType,true), StructField(display_text_range,ArrayType(IntegerType,true),true), StructField(entities,StructType(StructField(hashtags,ArrayType(StructType(StructField(text,StringType,true), StructField(indices,ArrayType(IntegerType,true),true)),true),true), StructField(media,ArrayType(StructType(StructField(additional_media_info,StructType(StructField(description,StringType,true), StructField(embeddable,BooleanType,true), StructField(monetizable,BooleanType,true), StructField(title,StringType,true)),true), StructField(description,StringType,true), StructField(display_url,StringType,true), StructField(expanded_url,StringType,true), StructField(id,LongType,true), StructField(id_str,StringType,true), StructField(indices,ArrayType(IntegerType,true),true), StructField(media_url,StringType,true), StructField(media_url_https,StringType,true), StructField(sizes,StructType(StructField(large,StructType(StructField(w,IntegerType,true), StructField(h,IntegerType,true), StructField(resize,StringType,true)),true), StructField(medium,StructType(StructField(w,IntegerType,true), StructField(h,IntegerType,true), StructField(resize,StringType,true)),true), StructField(small,StructType(StructField(w,IntegerType,true), StructField(h,IntegerType,true), StructField(resize,StringType,true)),true), StructField(thumb,StructType(StructField(w,IntegerType,true), StructField(h,IntegerType,true), StructField(resize,StringType,true)),true)),true), StructField(source_status_id,LongType,true), StructField(source_status_id_str,StringType,true), StructField(source_user_id,LongType,true), StructField(source_user_id_str,StringType,true), StructField(type,StringType,true), StructField(url,StringType,true)),true),true), StructField(symbols,ArrayType(StructType(StructField(text,StringType,true), StructField(indices,ArrayType(IntegerType,true),true)),true),true), StructField(urls,ArrayType(StructType(StructField(url,StringType,true), StructField(expanded_url,StringType,true), StructField(display_url,StringType,true), StructField(indices,ArrayType(IntegerType,true),true)),true),true), StructField(user_mentions,ArrayType(StructType(StructField(screen_name,StringType,true), StructField(name,StringType,true), StructField(id,LongType,true), StructField(id_str,StringType,true), StructField(indices,ArrayType(IntegerType,true),true)),true),true)),true), StructField(extended_entities,StructType(StructField(media,ArrayType(StructType(StructField(additional_media_info,StructType(StructField(description,StringType,true), StructField(embeddable,BooleanType,true), StructField(monetizable,BooleanType,true), StructField(title,StringType,true)),true), StructField(description,StringType,true), StructField(display_url,StringType,true), StructField(expanded_url,StringType,true), StructField(id,LongType,true), StructField(id_str,StringType,true), StructField(indices,ArrayType(IntegerType,true),true), StructField(media_url,StringType,true), StructField(media_url_https,StringType,true), StructField(sizes,StructType(StructField(large,StructType(StructField(w,IntegerType,true), StructField(h,IntegerType,true), StructField(resize,StringType,true)),true), StructField(medium,StructType(StructField(w,IntegerType,true), StructField(h,IntegerType,true), StructField(resize,StringType,true)),true), StructField(small,StructType(StructField(w,IntegerType,true), StructField(h,IntegerType,true), StructField(resize,StringType,true)),true), StructField(thumb,StructType(StructField(w,IntegerType,true), StructField(h,IntegerType,true), StructField(resize,StringType,true)),true)),true), StructField(source_status_id,LongType,true), StructField(source_status_id_str,StringType,true), StructField(source_user_id,LongType,true), StructField(source_user_id_str,StringType,true), StructField(type,StringType,true), StructField(url,StringType,true), StructField(video_info,StructType(StructField(aspect_ratio,ArrayType(IntegerType,true),true), StructField(duration_millis,IntegerType,true), StructField(variants,ArrayType(StructType(StructField(bitrate,IntegerType,true), StructField(content_type,StringType,true), StructField(url,StringType,true)),true),true)),true)),true),true)),true), StructField(extended_tweet,StructType(StructField(display_text_range,ArrayType(IntegerType,true),true), StructField(entities,StructType(StructField(hashtags,ArrayType(StructType(StructField(text,StringType,true), StructField(indices,ArrayType(IntegerType,true),true)),true),true), StructField(media,ArrayType(StructType(StructField(additional_media_info,StructType(StructField(description,StringType,true), StructField(embeddable,BooleanType,true), StructField(monetizable,BooleanType,true), StructField(title,StringType,true)),true), StructField(description,StringType,true), StructField(display_url,StringType,true), StructField(expanded_url,StringType,true), StructField(id,LongType,true), StructField(id_str,StringType,true), StructField(indices,ArrayType(IntegerType,true),true), StructField(media_url,StringType,true), StructField(media_url_https,StringType,true), StructField(sizes,StructType(StructField(large,StructType(StructField(w,IntegerType,true), StructField(h,IntegerType,true), StructField(resize,StringType,true)),true), StructField(medium,StructType(StructField(w,IntegerType,true), StructField(h,IntegerType,true), StructField(resize,StringType,true)),true), StructField(small,StructType(StructField(w,IntegerType,true), StructField(h,IntegerType,true), StructField(resize,StringType,true)),true), StructField(thumb,StructType(StructField(w,IntegerType,true), StructField(h,IntegerType,true), StructField(resize,StringType,true)),true)),true), StructField(source_status_id,LongType,true), StructField(source_status_id_str,StringType,true), StructField(source_user_id,LongType,true), StructField(source_user_id_str,StringType,true), StructField(type,StringType,true), StructField(url,StringType,true), StructField(video_info,StructType(StructField(aspect_ratio,ArrayType(IntegerType,true),true), StructField(duration_millis,IntegerType,true), StructField(variants,ArrayType(StructType(StructField(bitrate,IntegerType,true), StructField(content_type,StringType,true), StructField(url,StringType,true)),true),true)),true)),true),true), StructField(symbols,ArrayType(StructType(StructField(text,StringType,true), StructField(indices,ArrayType(IntegerType,true),true)),true),true), StructField(urls,ArrayType(StructType(StructField(url,StringType,true), StructField(expanded_url,StringType,true), StructField(display_url,StringType,true), StructField(indices,ArrayType(IntegerType,true),true)),true),true), StructField(user_mentions,ArrayType(StructType(StructField(screen_name,StringType,true), StructField(name,StringType,true), StructField(id,LongType,true), StructField(id_str,StringType,true), StructField(indices,ArrayType(IntegerType,true),true)),true),true)),true), StructField(extended_entities,StructType(StructField(media,ArrayType(StructType(StructField(additional_media_info,StructType(StructField(description,StringType,true), StructField(embeddable,BooleanType,true), StructField(monetizable,BooleanType,true), StructField(title,StringType,true)),true), StructField(description,StringType,true), StructField(display_url,StringType,true), StructField(expanded_url,StringType,true), StructField(id,LongType,true), StructField(id_str,StringType,true), StructField(indices,ArrayType(IntegerType,true),true), StructField(media_url,StringType,true), StructField(media_url_https,StringType,true), StructField(sizes,StructType(StructField(large,StructType(StructField(w,IntegerType,true), StructField(h,IntegerType,true), StructField(resize,StringType,true)),true), StructField(medium,StructType(StructField(w,IntegerType,true), StructField(h,IntegerType,true), StructField(resize,StringType,true)),true), StructField(small,StructType(StructField(w,IntegerType,true), StructField(h,IntegerType,true), StructField(resize,StringType,true)),true), StructField(thumb,StructType(StructField(w,IntegerType,true), StructField(h,IntegerType,true), StructField(resize,StringType,true)),true)),true), StructField(source_status_id,LongType,true), StructField(source_status_id_str,StringType,true), StructField(source_user_id,LongType,true), StructField(source_user_id_str,StringType,true), StructField(type,StringType,true), StructField(url,StringType,true), StructField(video_info,StructType(StructField(aspect_ratio,ArrayType(IntegerType,true),true), StructField(duration_millis,IntegerType,true), StructField(variants,ArrayType(StructType(StructField(bitrate,IntegerType,true), StructField(content_type,StringType,true), StructField(url,StringType,true)),true),true)),true)),true),true)),true), StructField(full_text,StringType,true)),true), StructField(favorite_count,IntegerType,true), StructField(favorited,BooleanType,true), StructField(filter_level,StringType,true), StructField(geo,NullType,true), StructField(id,LongType,true), StructField(id_str,StringType,true), StructField(in_reply_to_screen_name,StringType,true), StructField(in_reply_to_status_id,LongType,true), StructField(in_reply_to_status_id_str,StringType,true), StructField(in_reply_to_user_id,LongType,true), StructField(in_reply_to_user_id_str,StringType,true), StructField(is_quote_status,BooleanType,true), StructField(lang,StringType,true), StructField(place,StructType(StructField(id,StringType,true), StructField(url,StringType,true), StructField(place_type,StringType,true), StructField(name,StringType,true), StructField(full_name,StringType,true), StructField(country_code,StringType,true), StructField(country,StringType,true), StructField(bounding_box,StructType(StructField(type,StringType,true), StructField(coordinates,ArrayType(ArrayType(ArrayType(DoubleType,true),true),true),true)),true)),true), StructField(possibly_sensitive,BooleanType,true), StructField(quote_count,IntegerType,true), StructField(quoted_status,StructType(StructField(contributors,NullType,true), StructField(coordinates,NullType,true), StructField(created_at,StringType,true), StructField(display_text_range,ArrayType(IntegerType,true),true), StructField(entities,StructType(StructField(hashtags,ArrayType(StructType(StructField(text,StringType,true), StructField(indices,ArrayType(IntegerType,true),true)),true),true), StructField(media,ArrayType(StructType(StructField(additional_media_info,StructType(StructField(description,StringType,true), StructField(embeddable,BooleanType,true), StructField(monetizable,BooleanType,true), StructField(title,StringType,true)),true), StructField(display_url,StringType,true), StructField(expanded_url,StringType,true), StructField(id,LongType,true), StructField(id_str,StringType,true), StructField(indices,ArrayType(IntegerType,true),true), StructField(media_url,StringType,true), StructField(media_url_https,StringType,true), StructField(sizes,StructType(StructField(large,StructType(StructField(w,IntegerType,true), StructField(h,IntegerType,true), StructField(resize,StringType,true)),true), StructField(medium,StructType(StructField(w,IntegerType,true), StructField(h,IntegerType,true), StructField(resize,StringType,true)),true), StructField(small,StructType(StructField(w,IntegerType,true), StructField(h,IntegerType,true), StructField(resize,StringType,true)),true), StructField(thumb,StructType(StructField(w,IntegerType,true), StructField(h,IntegerType,true), StructField(resize,StringType,true)),true)),true), StructField(source_status_id,LongType,true), StructField(source_status_id_str,StringType,true), StructField(source_user_id,LongType,true), StructField(source_user_id_str,StringType,true), StructField(type,StringType,true), StructField(url,StringType,true)),true),true), StructField(symbols,ArrayType(StructType(StructField(text,StringType,true), StructField(indices,ArrayType(IntegerType,true),true)),true),true), StructField(urls,ArrayType(StructType(StructField(url,StringType,true), StructField(expanded_url,StringType,true), StructField(display_url,StringType,true), StructField(indices,ArrayType(IntegerType,true),true)),true),true), StructField(user_mentions,ArrayType(StructType(StructField(screen_name,StringType,true), StructField(name,StringType,true), StructField(id,LongType,true), StructField(id_str,StringType,true), StructField(indices,ArrayType(IntegerType,true),true)),true),true)),true), StructField(extended_entities,StructType(StructField(media,ArrayType(StructType(StructField(additional_media_info,StructType(StructField(description,StringType,true), StructField(embeddable,BooleanType,true), StructField(monetizable,BooleanType,true), StructField(title,StringType,true)),true), StructField(display_url,StringType,true), StructField(expanded_url,StringType,true), StructField(id,LongType,true), StructField(id_str,StringType,true), StructField(indices,ArrayType(IntegerType,true),true), StructField(media_url,StringType,true), StructField(media_url_https,StringType,true), StructField(sizes,StructType(StructField(large,StructType(StructField(w,IntegerType,true), StructField(h,IntegerType,true), StructField(resize,StringType,true)),true), StructField(medium,StructType(StructField(w,IntegerType,true), StructField(h,IntegerType,true), StructField(resize,StringType,true)),true), StructField(small,StructType(StructField(w,IntegerType,true), StructField(h,IntegerType,true), StructField(resize,StringType,true)),true), StructField(thumb,StructType(StructField(w,IntegerType,true), StructField(h,IntegerType,true), StructField(resize,StringType,true)),true)),true), StructField(source_status_id,LongType,true), StructField(source_status_id_str,StringType,true), StructField(source_user_id,LongType,true), StructField(source_user_id_str,StringType,true), StructField(type,StringType,true), StructField(url,StringType,true), StructField(video_info,StructType(StructField(aspect_ratio,ArrayType(IntegerType,true),true), StructField(duration_millis,IntegerType,true), StructField(variants,ArrayType(StructType(StructField(bitrate,IntegerType,true), StructField(content_type,StringType,true), StructField(url,StringType,true)),true),true)),true)),true),true)),true), StructField(extended_tweet,StructType(StructField(display_text_range,ArrayType(IntegerType,true),true), StructField(entities,StructType(StructField(hashtags,ArrayType(StructType(StructField(text,StringType,true), StructField(indices,ArrayType(IntegerType,true),true)),true),true), StructField(media,ArrayType(StructType(StructField(additional_media_info,StructType(StructField(description,StringType,true), StructField(embeddable,BooleanType,true), StructField(monetizable,BooleanType,true), StructField(title,StringType,true)),true), StructField(display_url,StringType,true), StructField(expanded_url,StringType,true), StructField(id,LongType,true), StructField(id_str,StringType,true), StructField(indices,ArrayType(IntegerType,true),true), StructField(media_url,StringType,true), StructField(media_url_https,StringType,true), StructField(sizes,StructType(StructField(large,StructType(StructField(w,IntegerType,true), StructField(h,IntegerType,true), StructField(resize,StringType,true)),true), StructField(medium,StructType(StructField(w,IntegerType,true), StructField(h,IntegerType,true), StructField(resize,StringType,true)),true), StructField(small,StructType(StructField(w,IntegerType,true), StructField(h,IntegerType,true), StructField(resize,StringType,true)),true), StructField(thumb,StructType(StructField(w,IntegerType,true), StructField(h,IntegerType,true), StructField(resize,StringType,true)),true)),true), StructField(source_status_id,LongType,true), StructField(source_status_id_str,StringType,true), StructField(source_user_id,LongType,true), StructField(source_user_id_str,StringType,true), StructField(type,StringType,true), StructField(url,StringType,true), StructField(video_info,StructType(StructField(aspect_ratio,ArrayType(IntegerType,true),true), StructField(duration_millis,IntegerType,true), StructField(variants,ArrayType(StructType(StructField(bitrate,IntegerType,true), StructField(content_type,StringType,true), StructField(url,StringType,true)),true),true)),true)),true),true), StructField(symbols,ArrayType(StructType(StructField(text,StringType,true), StructField(indices,ArrayType(IntegerType,true),true)),true),true), StructField(urls,ArrayType(StructType(StructField(url,StringType,true), StructField(expanded_url,StringType,true), StructField(display_url,StringType,true), StructField(indices,ArrayType(IntegerType,true),true)),true),true), StructField(user_mentions,ArrayType(StructType(StructField(screen_name,StringType,true), StructField(name,StringType,true), StructField(id,LongType,true), StructField(id_str,StringType,true), StructField(indices,ArrayType(IntegerType,true),true)),true),true)),true), StructField(extended_entities,StructType(StructField(media,ArrayType(StructType(StructField(additional_media_info,StructType(StructField(description,StringType,true), StructField(embeddable,BooleanType,true), StructField(monetizable,BooleanType,true), StructField(title,StringType,true)),true), StructField(display_url,StringType,true), StructField(expanded_url,StringType,true), StructField(id,LongType,true), StructField(id_str,StringType,true), StructField(indices,ArrayType(IntegerType,true),true), StructField(media_url,StringType,true), StructField(media_url_https,StringType,true), StructField(sizes,StructType(StructField(large,StructType(StructField(w,IntegerType,true), StructField(h,IntegerType,true), StructField(resize,StringType,true)),true), StructField(medium,StructType(StructField(w,IntegerType,true), StructField(h,IntegerType,true), StructField(resize,StringType,true)),true), StructField(small,StructType(StructField(w,IntegerType,true), StructField(h,IntegerType,true), StructField(resize,StringType,true)),true), StructField(thumb,StructType(StructField(w,IntegerType,true), StructField(h,IntegerType,true), StructField(resize,StringType,true)),true)),true), StructField(source_status_id,LongType,true), StructField(source_status_id_str,StringType,true), StructField(source_user_id,LongType,true), StructField(source_user_id_str,StringType,true), StructField(type,StringType,true), StructField(url,StringType,true), StructField(video_info,StructType(StructField(aspect_ratio,ArrayType(IntegerType,true),true), StructField(duration_millis,IntegerType,true), StructField(variants,ArrayType(StructType(StructField(bitrate,IntegerType,true), StructField(content_type,StringType,true), StructField(url,StringType,true)),true),true)),true)),true),true)),true), StructField(full_text,StringType,true)),true), StructField(favorite_count,IntegerType,true), StructField(favorited,BooleanType,true), StructField(filter_level,StringType,true), StructField(geo,NullType,true), StructField(id,LongType,true), StructField(id_str,StringType,true), StructField(in_reply_to_screen_name,StringType,true), StructField(in_reply_to_status_id,LongType,true), StructField(in_reply_to_status_id_str,StringType,true), StructField(in_reply_to_user_id,LongType,true), StructField(in_reply_to_user_id_str,StringType,true), StructField(is_quote_status,BooleanType,true), StructField(lang,StringType,true), StructField(place,StructType(StructField(id,StringType,true), StructField(url,StringType,true), StructField(place_type,StringType,true), StructField(name,StringType,true), StructField(full_name,StringType,true), StructField(country_code,StringType,true), StructField(country,StringType,true), StructField(bounding_box,StructType(StructField(type,StringType,true), StructField(coordinates,ArrayType(ArrayType(ArrayType(DoubleType,true),true),true),true)),true)),true), StructField(possibly_sensitive,BooleanType,true), StructField(quote_count,IntegerType,true), StructField(quoted_status_id,LongType,true), StructField(quoted_status_id_str,StringType,true), StructField(reply_count,IntegerType,true), StructField(retweet_count,IntegerType,true), StructField(retweeted,BooleanType,true), StructField(source,StringType,true), StructField(text,StringType,true), StructField(truncated,BooleanType,true), StructField(user,StructType(StructField(contributors_enabled,BooleanType,true), StructField(created_at,StringType,true), StructField(default_profile,BooleanType,true), StructField(default_profile_image,BooleanType,true), StructField(description,StringType,true), StructField(favourites_count,IntegerType,true), StructField(follow_request_sent,NullType,true), StructField(followers_count,IntegerType,true), StructField(following,NullType,true), StructField(friends_count,IntegerType,true), StructField(geo_enabled,BooleanType,true), StructField(id,LongType,true), StructField(id_str,StringType,true), StructField(is_translator,BooleanType,true), StructField(lang,NullType,true), StructField(listed_count,IntegerType,true), StructField(location,StringType,true), StructField(name,StringType,true), StructField(notifications,NullType,true), StructField(profile_background_color,StringType,true), StructField(profile_background_image_url,StringType,true), StructField(profile_background_image_url_https,StringType,true), StructField(profile_background_tile,BooleanType,true), StructField(profile_banner_url,StringType,true), StructField(profile_image_url,StringType,true), StructField(profile_image_url_https,StringType,true), StructField(profile_link_color,StringType,true), StructField(profile_sidebar_border_color,StringType,true), StructField(profile_sidebar_fill_color,StringType,true), StructField(profile_text_color,StringType,true), StructField(profile_use_background_image,BooleanType,true), StructField(protected,BooleanType,true), StructField(screen_name,StringType,true), StructField(statuses_count,IntegerType,true), StructField(time_zone,NullType,true), StructField(translator_type,StringType,true), StructField(url,StringType,true), StructField(utc_offset,NullType,true), StructField(verified,BooleanType,true)),true)),true), StructField(quoted_status_id,LongType,true), StructField(quoted_status_id_str,StringType,true), StructField(quoted_status_permalink,StructType(StructField(url,StringType,true), StructField(expanded,StringType,true), StructField(display,StringType,true)),true), StructField(reply_count,IntegerType,true), StructField(retweet_count,IntegerType,true), StructField(retweeted,BooleanType,true), StructField(source,StringType,true), StructField(text,StringType,true), StructField(truncated,BooleanType,true), StructField(user,StructType(StructField(contributors_enabled,BooleanType,true), StructField(created_at,StringType,true), StructField(default_profile,BooleanType,true), StructField(default_profile_image,BooleanType,true), StructField(description,StringType,true), StructField(favourites_count,IntegerType,true), StructField(follow_request_sent,NullType,true), StructField(followers_count,IntegerType,true), StructField(following,NullType,true), StructField(friends_count,IntegerType,true), StructField(geo_enabled,BooleanType,true), StructField(id,LongType,true), StructField(id_str,StringType,true), StructField(is_translator,BooleanType,true), StructField(lang,NullType,true), StructField(listed_count,IntegerType,true), StructField(location,StringType,true), StructField(name,StringType,true), StructField(notifications,NullType,true), StructField(profile_background_color,StringType,true), StructField(profile_background_image_url,StringType,true), StructField(profile_background_image_url_https,StringType,true), StructField(profile_background_tile,BooleanType,true), StructField(profile_banner_url,StringType,true), StructField(profile_image_url,StringType,true), StructField(profile_image_url_https,StringType,true), StructField(profile_link_color,StringType,true), StructField(profile_sidebar_border_color,StringType,true), StructField(profile_sidebar_fill_color,StringType,true), StructField(profile_text_color,StringType,true), StructField(profile_use_background_image,BooleanType,true), StructField(protected,BooleanType,true), StructField(screen_name,StringType,true), StructField(statuses_count,IntegerType,true), StructField(time_zone,NullType,true), StructField(translator_type,StringType,true), StructField(url,StringType,true), StructField(utc_offset,NullType,true), StructField(verified,BooleanType,true)),true), StructField(withheld_in_countries,ArrayType(StringType,true),true)),true), StructField(source,StringType,true), StructField(text,StringType,true), StructField(timestamp_ms,StringType,true), StructField(truncated,BooleanType,true), StructField(user,StructType(StructField(contributors_enabled,BooleanType,true), StructField(created_at,StringType,true), StructField(default_profile,BooleanType,true), StructField(default_profile_image,BooleanType,true), StructField(description,StringType,true), StructField(favourites_count,IntegerType,true), StructField(follow_request_sent,NullType,true), StructField(followers_count,IntegerType,true), StructField(following,NullType,true), StructField(friends_count,IntegerType,true), StructField(geo_enabled,BooleanType,true), StructField(id,LongType,true), StructField(id_str,StringType,true), StructField(is_translator,BooleanType,true), StructField(lang,NullType,true), StructField(listed_count,IntegerType,true), StructField(location,StringType,true), StructField(name,StringType,true), StructField(notifications,NullType,true), StructField(profile_background_color,StringType,true), StructField(profile_background_image_url,StringType,true), StructField(profile_background_image_url_https,StringType,true), StructField(profile_background_tile,BooleanType,true), StructField(profile_banner_url,StringType,true), StructField(profile_image_url,StringType,true), StructField(profile_image_url_https,StringType,true), StructField(profile_link_color,StringType,true), StructField(profile_sidebar_border_color,StringType,true), StructField(profile_sidebar_fill_color,StringType,true), StructField(profile_text_color,StringType,true), StructField(profile_use_background_image,BooleanType,true), StructField(protected,BooleanType,true), StructField(screen_name,StringType,true), StructField(statuses_count,IntegerType,true), StructField(time_zone,NullType,true), StructField(translator_type,StringType,true), StructField(url,StringType,true), StructField(utc_offset,NullType,true), StructField(verified,BooleanType,true)),true), StructField(withheld_in_countries,ArrayType(StringType,true),true))))\n            +- Project [text#6867, tokens#6819]\n               +- Project [id#6841L, orignialText#6741, text#6867, UDF(text#6867) AS tokens#6819]\n                  +- Project [id#6841L, orignialText#6741, text#6867]\n                     +- SubqueryAlias text\n                        +- View (`text`, [id#6841L,orignialText#6741,text#6867])\n                           +- Project [id#6841L, orignialText#6741, text#6867]\n                              +- SubqueryAlias text\n                                 +- View (`text`, [id#6841L,orignialText#6741,text#6867])\n                                    +- Project [id#6841L, orignialText#6741, lower(trim(text#6745, None)) AS text#6867]\n                                       +- SubqueryAlias text\n                                          +- View (`text`, [id#6841L,orignialText#6741,text#6745])\n                                             +- Project [id#6841L, orignialText#6741, regexp_replace(text#6643, [^a-zA-Z0-9\\s], , 1) AS text#6745]\n                                                +- Project [id#6841L, text#6643 AS orignialText#6741, text#6643]\n                                                   +- SubqueryAlias text\n                                                      +- View (`text`, [id#6841L,text#6643])\n                                                         +- Distinct\n                                                            +- Project [id#6841L, text#6862 AS text#6643]\n                                                               +- SubqueryAlias en_tweets\n                                                                  +- View (`en_tweets`, [_id#6829,contributors#6830,coordinates#6831,created_at#6832,display_text_range#6833,entities#6834,extended_entities#6835,extended_tweet#6836,favorite_count#6837,favorited#6838,filter_level#6839,geo#6840,id#6841L,id_str#6842,in_reply_to_screen_name#6843,in_reply_to_status_id#6844L,in_reply_to_status_id_str#6845,in_reply_to_user_id#6846L,in_reply_to_user_id_str#6847,is_quote_status#6848,lang#6849,place#6850,possibly_sensitive#6851,quote_count#6852,quoted_status#6853,quoted_status_id#6854L,quoted_status_id_str#6855,quoted_status_permalink#6856,reply_count#6857,retweet_count#6858,retweeted#6859,retweeted_status#6860,source#6861,text#6862,timestamp_ms#6863,truncated#6864,user#6865,withheld_in_countries#6866])\n                                                                     +- Project [_id#6829, contributors#6830, coordinates#6831, created_at#6832, display_text_range#6833, entities#6834, extended_entities#6835, extended_tweet#6836, favorite_count#6837, favorited#6838, filter_level#6839, geo#6840, id#6841L, id_str#6842, in_reply_to_screen_name#6843, in_reply_to_status_id#6844L, in_reply_to_status_id_str#6845, in_reply_to_user_id#6846L, in_reply_to_user_id_str#6847, is_quote_status#6848, lang#6849, place#6850, possibly_sensitive#6851, quote_count#6852, ... 14 more fields]\n                                                                        +- Filter ((lang#6849 = en) AND text#6862 LIKE %euro%)\n                                                                           +- SubqueryAlias tweets\n                                                                              +- View (`tweets`, [_id#6829,contributors#6830,coordinates#6831,created_at#6832,display_text_range#6833,entities#6834,extended_entities#6835,extended_tweet#6836,favorite_count#6837,favorited#6838,filter_level#6839,geo#6840,id#6841L,id_str#6842,in_reply_to_screen_name#6843,in_reply_to_status_id#6844L,in_reply_to_status_id_str#6845,in_reply_to_user_id#6846L,in_reply_to_user_id_str#6847,is_quote_status#6848,lang#6849,place#6850,possibly_sensitive#6851,quote_count#6852,quoted_status#6853,quoted_status_id#6854L,quoted_status_id_str#6855,quoted_status_permalink#6856,reply_count#6857,retweet_count#6858,retweeted#6859,retweeted_status#6860,source#6861,text#6862,timestamp_ms#6863,truncated#6864,user#6865,withheld_in_countries#6866])\n                                                                                 +- Relation [_id#6829,contributors#6830,coordinates#6831,created_at#6832,display_text_range#6833,entities#6834,extended_entities#6835,extended_tweet#6836,favorite_count#6837,favorited#6838,filter_level#6839,geo#6840,id#6841L,id_str#6842,in_reply_to_screen_name#6843,in_reply_to_status_id#6844L,in_reply_to_status_id_str#6845,in_reply_to_user_id#6846L,in_reply_to_user_id_str#6847,is_quote_status#6848,lang#6849,place#6850,possibly_sensitive#6851,quote_count#6852,... 14 more fields] MongoRelation(MongoRDD[1118] at RDD at MongoRDD.scala:51,Some(StructType(StructField(_id,StructType(StructField(oid,StringType,true)),true), StructField(contributors,NullType,true), StructField(coordinates,NullType,true), StructField(created_at,StringType,true), StructField(display_text_range,ArrayType(IntegerType,true),true), StructField(entities,StructType(StructField(hashtags,ArrayType(StructType(StructField(text,StringType,true), StructField(indices,ArrayType(IntegerType,true),true)),true),true), StructField(media,ArrayType(StructType(StructField(additional_media_info,StructType(StructField(description,StringType,true), StructField(embeddable,BooleanType,true), StructField(monetizable,BooleanType,true), StructField(title,StringType,true)),true), StructField(description,StringType,true), StructField(display_url,StringType,true), StructField(expanded_url,StringType,true), StructField(id,LongType,true), StructField(id_str,StringType,true), StructField(indices,ArrayType(IntegerType,true),true), StructField(media_url,StringType,true), StructField(media_url_https,StringType,true), StructField(sizes,StructType(StructField(large,StructType(StructField(w,IntegerType,true), StructField(h,IntegerType,true), StructField(resize,StringType,true)),true), StructField(medium,StructType(StructField(w,IntegerType,true), StructField(h,IntegerType,true), StructField(resize,StringType,true)),true), StructField(small,StructType(StructField(w,IntegerType,true), StructField(h,IntegerType,true), StructField(resize,StringType,true)),true), StructField(thumb,StructType(StructField(w,IntegerType,true), StructField(h,IntegerType,true), StructField(resize,StringType,true)),true)),true), StructField(source_status_id,LongType,true), StructField(source_status_id_str,StringType,true), StructField(source_user_id,LongType,true), StructField(source_user_id_str,StringType,true), StructField(type,StringType,true), StructField(url,StringType,true)),true),true), StructField(symbols,ArrayType(StructType(StructField(text,StringType,true), StructField(indices,ArrayType(IntegerType,true),true)),true),true), StructField(urls,ArrayType(StructType(StructField(url,StringType,true), StructField(expanded_url,StringType,true), StructField(display_url,StringType,true), StructField(indices,ArrayType(IntegerType,true),true)),true),true), StructField(user_mentions,ArrayType(StructType(StructField(screen_name,StringType,true), StructField(name,StringType,true), StructField(id,LongType,true), StructField(id_str,StringType,true), StructField(indices,ArrayType(IntegerType,true),true)),true),true)),true), StructField(extended_entities,StructType(StructField(media,ArrayType(StructType(StructField(additional_media_info,StructType(StructField(description,StringType,true), StructField(embeddable,BooleanType,true), StructField(monetizable,BooleanType,true), StructField(title,StringType,true)),true), StructField(description,StringType,true), StructField(display_url,StringType,true), StructField(expanded_url,StringType,true), StructField(id,LongType,true), StructField(id_str,StringType,true), StructField(indices,ArrayType(IntegerType,true),true), StructField(media_url,StringType,true), StructField(media_url_https,StringType,true), StructField(sizes,StructType(StructField(large,StructType(StructField(w,IntegerType,true), StructField(h,IntegerType,true), StructField(resize,StringType,true)),true), StructField(medium,StructType(StructField(w,IntegerType,true), StructField(h,IntegerType,true), StructField(resize,StringType,true)),true), StructField(small,StructType(StructField(w,IntegerType,true), StructField(h,IntegerType,true), StructField(resize,StringType,true)),true), StructField(thumb,StructType(StructField(w,IntegerType,true), StructField(h,IntegerType,true), StructField(resize,StringType,true)),true)),true), StructField(source_status_id,LongType,true), StructField(source_status_id_str,StringType,true), StructField(source_user_id,LongType,true), StructField(source_user_id_str,StringType,true), StructField(type,StringType,true), StructField(url,StringType,true), StructField(video_info,StructType(StructField(aspect_ratio,ArrayType(IntegerType,true),true), StructField(duration_millis,IntegerType,true), StructField(variants,ArrayType(StructType(StructField(bitrate,IntegerType,true), StructField(content_type,StringType,true), StructField(url,StringType,true)),true),true)),true)),true),true)),true), StructField(extended_tweet,StructType(StructField(display_text_range,ArrayType(IntegerType,true),true), StructField(entities,StructType(StructField(hashtags,ArrayType(StructType(StructField(text,StringType,true), StructField(indices,ArrayType(IntegerType,true),true)),true),true), StructField(media,ArrayType(StructType(StructField(additional_media_info,StructType(StructField(description,StringType,true), StructField(embeddable,BooleanType,true), StructField(monetizable,BooleanType,true), StructField(title,StringType,true)),true), StructField(description,StringType,true), StructField(display_url,StringType,true), StructField(expanded_url,StringType,true), StructField(id,LongType,true), StructField(id_str,StringType,true), StructField(indices,ArrayType(IntegerType,true),true), StructField(media_url,StringType,true), StructField(media_url_https,StringType,true), StructField(sizes,StructType(StructField(large,StructType(StructField(w,IntegerType,true), StructField(h,IntegerType,true), StructField(resize,StringType,true)),true), StructField(medium,StructType(StructField(w,IntegerType,true), StructField(h,IntegerType,true), StructField(resize,StringType,true)),true), StructField(small,StructType(StructField(w,IntegerType,true), StructField(h,IntegerType,true), StructField(resize,StringType,true)),true), StructField(thumb,StructType(StructField(w,IntegerType,true), StructField(h,IntegerType,true), StructField(resize,StringType,true)),true)),true), StructField(type,StringType,true), StructField(url,StringType,true), StructField(video_info,StructType(StructField(aspect_ratio,ArrayType(IntegerType,true),true), StructField(duration_millis,IntegerType,true), StructField(variants,ArrayType(StructType(StructField(bitrate,IntegerType,true), StructField(content_type,StringType,true), StructField(url,StringType,true)),true),true)),true)),true),true), StructField(urls,ArrayType(StructType(StructField(url,StringType,true), StructField(expanded_url,StringType,true), StructField(display_url,StringType,true), StructField(indices,ArrayType(IntegerType,true),true)),true),true), StructField(user_mentions,ArrayType(StructType(StructField(screen_name,StringType,true), StructField(name,StringType,true), StructField(id,LongType,true), StructField(id_str,StringType,true), StructField(indices,ArrayType(IntegerType,true),true)),true),true)),true), StructField(extended_entities,StructType(StructField(media,ArrayType(StructType(StructField(additional_media_info,StructType(StructField(description,StringType,true), StructField(embeddable,BooleanType,true), StructField(monetizable,BooleanType,true), StructField(title,StringType,true)),true), StructField(description,StringType,true), StructField(display_url,StringType,true), StructField(expanded_url,StringType,true), StructField(id,LongType,true), StructField(id_str,StringType,true), StructField(indices,ArrayType(IntegerType,true),true), StructField(media_url,StringType,true), StructField(media_url_https,StringType,true), StructField(sizes,StructType(StructField(large,StructType(StructField(w,IntegerType,true), StructField(h,IntegerType,true), StructField(resize,StringType,true)),true), StructField(medium,StructType(StructField(w,IntegerType,true), StructField(h,IntegerType,true), StructField(resize,StringType,true)),true), StructField(small,StructType(StructField(w,IntegerType,true), StructField(h,IntegerType,true), StructField(resize,StringType,true)),true), StructField(thumb,StructType(StructField(w,IntegerType,true), StructField(h,IntegerType,true), StructField(resize,StringType,true)),true)),true), StructField(type,StringType,true), StructField(url,StringType,true), StructField(video_info,StructType(StructField(aspect_ratio,ArrayType(IntegerType,true),true), StructField(duration_millis,IntegerType,true), StructField(variants,ArrayType(StructType(StructField(bitrate,IntegerType,true), StructField(content_type,StringType,true), StructField(url,StringType,true)),true),true)),true)),true),true)),true), StructField(full_text,StringType,true)),true), StructField(favorite_count,IntegerType,true), StructField(favorited,BooleanType,true), StructField(filter_level,StringType,true), StructField(geo,NullType,true), StructField(id,LongType,true), StructField(id_str,StringType,true), StructField(in_reply_to_screen_name,StringType,true), StructField(in_reply_to_status_id,LongType,true), StructField(in_reply_to_status_id_str,StringType,true), StructField(in_reply_to_user_id,LongType,true), StructField(in_reply_to_user_id_str,StringType,true), StructField(is_quote_status,BooleanType,true), StructField(lang,StringType,true), StructField(place,StructType(StructField(id,StringType,true), StructField(url,StringType,true), StructField(place_type,StringType,true), StructField(name,StringType,true), StructField(full_name,StringType,true), StructField(country_code,StringType,true), StructField(country,StringType,true), StructField(bounding_box,StructType(StructField(type,StringType,true), StructField(coordinates,ArrayType(ArrayType(ArrayType(DoubleType,true),true),true),true)),true)),true), StructField(possibly_sensitive,BooleanType,true), StructField(quote_count,IntegerType,true), StructField(quoted_status,StructType(StructField(contributors,NullType,true), StructField(coordinates,NullType,true), StructField(created_at,StringType,true), StructField(display_text_range,ArrayType(IntegerType,true),true), StructField(entities,StructType(StructField(hashtags,ArrayType(StructType(StructField(text,StringType,true), StructField(indices,ArrayType(IntegerType,true),true)),true),true), StructField(media,ArrayType(StructType(StructField(additional_media_info,StructType(StructField(description,StringType,true), StructField(embeddable,BooleanType,true), StructField(monetizable,BooleanType,true), StructField(title,StringType,true)),true), StructField(description,StringType,true), StructField(display_url,StringType,true), StructField(expanded_url,StringType,true), StructField(id,LongType,true), StructField(id_str,StringType,true), StructField(indices,ArrayType(IntegerType,true),true), StructField(media_url,StringType,true), StructField(media_url_https,StringType,true), StructField(sizes,StructType(StructField(large,StructType(StructField(w,IntegerType,true), StructField(h,IntegerType,true), StructField(resize,StringType,true)),true), StructField(medium,StructType(StructField(w,IntegerType,true), StructField(h,IntegerType,true), StructField(resize,StringType,true)),true), StructField(small,StructType(StructField(w,IntegerType,true), StructField(h,IntegerType,true), StructField(resize,StringType,true)),true), StructField(thumb,StructType(StructField(w,IntegerType,true), StructField(h,IntegerType,true), StructField(resize,StringType,true)),true)),true), StructField(source_status_id,LongType,true), StructField(source_status_id_str,StringType,true), StructField(source_user_id,LongType,true), StructField(source_user_id_str,StringType,true), StructField(type,StringType,true), StructField(url,StringType,true)),true),true), StructField(symbols,ArrayType(StructType(StructField(text,StringType,true), StructField(indices,ArrayType(IntegerType,true),true)),true),true), StructField(urls,ArrayType(StructType(StructField(url,StringType,true), StructField(expanded_url,StringType,true), StructField(display_url,StringType,true), StructField(indices,ArrayType(IntegerType,true),true)),true),true), StructField(user_mentions,ArrayType(StructType(StructField(screen_name,StringType,true), StructField(name,StringType,true), StructField(id,LongType,true), StructField(id_str,StringType,true), StructField(indices,ArrayType(IntegerType,true),true)),true),true)),true), StructField(extended_entities,StructType(StructField(media,ArrayType(StructType(StructField(additional_media_info,StructType(StructField(description,StringType,true), StructField(embeddable,BooleanType,true), StructField(monetizable,BooleanType,true), StructField(title,StringType,true)),true), StructField(description,StringType,true), StructField(display_url,StringType,true), StructField(expanded_url,StringType,true), StructField(id,LongType,true), StructField(id_str,StringType,true), StructField(indices,ArrayType(IntegerType,true),true), StructField(media_url,StringType,true), StructField(media_url_https,StringType,true), StructField(sizes,StructType(StructField(large,StructType(StructField(w,IntegerType,true), StructField(h,IntegerType,true), StructField(resize,StringType,true)),true), StructField(medium,StructType(StructField(w,IntegerType,true), StructField(h,IntegerType,true), StructField(resize,StringType,true)),true), StructField(small,StructType(StructField(w,IntegerType,true), StructField(h,IntegerType,true), StructField(resize,StringType,true)),true), StructField(thumb,StructType(StructField(w,IntegerType,true), StructField(h,IntegerType,true), StructField(resize,StringType,true)),true)),true), StructField(source_status_id,LongType,true), StructField(source_status_id_str,StringType,true), StructField(source_user_id,LongType,true), StructField(source_user_id_str,StringType,true), StructField(type,StringType,true), StructField(url,StringType,true), StructField(video_info,StructType(StructField(aspect_ratio,ArrayType(IntegerType,true),true), StructField(duration_millis,IntegerType,true), StructField(variants,ArrayType(StructType(StructField(bitrate,IntegerType,true), StructField(content_type,StringType,true), StructField(url,StringType,true)),true),true)),true)),true),true)),true), StructField(extended_tweet,StructType(StructField(display_text_range,ArrayType(IntegerType,true),true), StructField(entities,StructType(StructField(hashtags,ArrayType(StructType(StructField(text,StringType,true), StructField(indices,ArrayType(IntegerType,true),true)),true),true), StructField(media,ArrayType(StructType(StructField(additional_media_info,StructType(StructField(description,StringType,true), StructField(embeddable,BooleanType,true), StructField(monetizable,BooleanType,true), StructField(title,StringType,true)),true), StructField(display_url,StringType,true), StructField(expanded_url,StringType,true), StructField(id,LongType,true), StructField(id_str,StringType,true), StructField(indices,ArrayType(IntegerType,true),true), StructField(media_url,StringType,true), StructField(media_url_https,StringType,true), StructField(sizes,StructType(StructField(large,StructType(StructField(w,IntegerType,true), StructField(h,IntegerType,true), StructField(resize,StringType,true)),true), StructField(medium,StructType(StructField(w,IntegerType,true), StructField(h,IntegerType,true), StructField(resize,StringType,true)),true), StructField(small,StructType(StructField(w,IntegerType,true), StructField(h,IntegerType,true), StructField(resize,StringType,true)),true), StructField(thumb,StructType(StructField(w,IntegerType,true), StructField(h,IntegerType,true), StructField(resize,StringType,true)),true)),true), StructField(source_status_id,LongType,true), StructField(source_status_id_str,StringType,true), StructField(source_user_id,LongType,true), StructField(source_user_id_str,StringType,true), StructField(type,StringType,true), StructField(url,StringType,true), StructField(video_info,StructType(StructField(aspect_ratio,ArrayType(IntegerType,true),true), StructField(duration_millis,IntegerType,true), StructField(variants,ArrayType(StructType(StructField(bitrate,IntegerType,true), StructField(content_type,StringType,true), StructField(url,StringType,true)),true),true)),true)),true),true), StructField(symbols,ArrayType(StructType(StructField(text,StringType,true), StructField(indices,ArrayType(IntegerType,true),true)),true),true), StructField(urls,ArrayType(StructType(StructField(url,StringType,true), StructField(expanded_url,StringType,true), StructField(display_url,StringType,true), StructField(indices,ArrayType(IntegerType,true),true)),true),true), StructField(user_mentions,ArrayType(StructType(StructField(screen_name,StringType,true), StructField(name,StringType,true), StructField(id,LongType,true), StructField(id_str,StringType,true), StructField(indices,ArrayType(IntegerType,true),true)),true),true)),true), StructField(extended_entities,StructType(StructField(media,ArrayType(StructType(StructField(additional_media_info,StructType(StructField(description,StringType,true), StructField(embeddable,BooleanType,true), StructField(monetizable,BooleanType,true), StructField(title,StringType,true)),true), StructField(display_url,StringType,true), StructField(expanded_url,StringType,true), StructField(id,LongType,true), StructField(id_str,StringType,true), StructField(indices,ArrayType(IntegerType,true),true), StructField(media_url,StringType,true), StructField(media_url_https,StringType,true), StructField(sizes,StructType(StructField(large,StructType(StructField(w,IntegerType,true), StructField(h,IntegerType,true), StructField(resize,StringType,true)),true), StructField(medium,StructType(StructField(w,IntegerType,true), StructField(h,IntegerType,true), StructField(resize,StringType,true)),true), StructField(small,StructType(StructField(w,IntegerType,true), StructField(h,IntegerType,true), StructField(resize,StringType,true)),true), StructField(thumb,StructType(StructField(w,IntegerType,true), StructField(h,IntegerType,true), StructField(resize,StringType,true)),true)),true), StructField(source_status_id,LongType,true), StructField(source_status_id_str,StringType,true), StructField(source_user_id,LongType,true), StructField(source_user_id_str,StringType,true), StructField(type,StringType,true), StructField(url,StringType,true), StructField(video_info,StructType(StructField(aspect_ratio,ArrayType(IntegerType,true),true), StructField(duration_millis,IntegerType,true), StructField(variants,ArrayType(StructType(StructField(bitrate,IntegerType,true), StructField(content_type,StringType,true), StructField(url,StringType,true)),true),true)),true)),true),true)),true), StructField(full_text,StringType,true)),true), StructField(favorite_count,IntegerType,true), StructField(favorited,BooleanType,true), StructField(filter_level,StringType,true), StructField(geo,NullType,true), StructField(id,LongType,true), StructField(id_str,StringType,true), StructField(in_reply_to_screen_name,StringType,true), StructField(in_reply_to_status_id,LongType,true), StructField(in_reply_to_status_id_str,StringType,true), StructField(in_reply_to_user_id,LongType,true), StructField(in_reply_to_user_id_str,StringType,true), StructField(is_quote_status,BooleanType,true), StructField(lang,StringType,true), StructField(place,StructType(StructField(id,StringType,true), StructField(url,StringType,true), StructField(place_type,StringType,true), StructField(name,StringType,true), StructField(full_name,StringType,true), StructField(country_code,StringType,true), StructField(country,StringType,true), StructField(bounding_box,StructType(StructField(type,StringType,true), StructField(coordinates,ArrayType(ArrayType(ArrayType(DoubleType,true),true),true),true)),true)),true), StructField(possibly_sensitive,BooleanType,true), StructField(quote_count,IntegerType,true), StructField(quoted_status_id,LongType,true), StructField(quoted_status_id_str,StringType,true), StructField(reply_count,IntegerType,true), StructField(retweet_count,IntegerType,true), StructField(retweeted,BooleanType,true), StructField(source,StringType,true), StructField(text,StringType,true), StructField(truncated,BooleanType,true), StructField(user,StructType(StructField(contributors_enabled,BooleanType,true), StructField(created_at,StringType,true), StructField(default_profile,BooleanType,true), StructField(default_profile_image,BooleanType,true), StructField(description,StringType,true), StructField(favourites_count,IntegerType,true), StructField(follow_request_sent,NullType,true), StructField(followers_count,IntegerType,true), StructField(following,NullType,true), StructField(friends_count,IntegerType,true), StructField(geo_enabled,BooleanType,true), StructField(id,LongType,true), StructField(id_str,StringType,true), StructField(is_translator,BooleanType,true), StructField(lang,NullType,true), StructField(listed_count,IntegerType,true), StructField(location,StringType,true), StructField(name,StringType,true), StructField(notifications,NullType,true), StructField(profile_background_color,StringType,true), StructField(profile_background_image_url,StringType,true), StructField(profile_background_image_url_https,StringType,true), StructField(profile_background_tile,BooleanType,true), StructField(profile_banner_url,StringType,true), StructField(profile_image_url,StringType,true), StructField(profile_image_url_https,StringType,true), StructField(profile_link_color,StringType,true), StructField(profile_sidebar_border_color,StringType,true), StructField(profile_sidebar_fill_color,StringType,true), StructField(profile_text_color,StringType,true), StructField(profile_use_background_image,BooleanType,true), StructField(protected,BooleanType,true), StructField(screen_name,StringType,true), StructField(statuses_count,IntegerType,true), StructField(time_zone,NullType,true), StructField(translator_type,StringType,true), StructField(url,StringType,true), StructField(utc_offset,NullType,true), StructField(verified,BooleanType,true)),true)),true), StructField(quoted_status_id,LongType,true), StructField(quoted_status_id_str,StringType,true), StructField(quoted_status_permalink,StructType(StructField(url,StringType,true), StructField(expanded,StringType,true), StructField(display,StringType,true)),true), StructField(reply_count,IntegerType,true), StructField(retweet_count,IntegerType,true), StructField(retweeted,BooleanType,true), StructField(retweeted_status,StructType(StructField(contributors,NullType,true), StructField(coordinates,NullType,true), StructField(created_at,StringType,true), StructField(display_text_range,ArrayType(IntegerType,true),true), StructField(entities,StructType(StructField(hashtags,ArrayType(StructType(StructField(text,StringType,true), StructField(indices,ArrayType(IntegerType,true),true)),true),true), StructField(media,ArrayType(StructType(StructField(additional_media_info,StructType(StructField(description,StringType,true), StructField(embeddable,BooleanType,true), StructField(monetizable,BooleanType,true), StructField(title,StringType,true)),true), StructField(description,StringType,true), StructField(display_url,StringType,true), StructField(expanded_url,StringType,true), StructField(id,LongType,true), StructField(id_str,StringType,true), StructField(indices,ArrayType(IntegerType,true),true), StructField(media_url,StringType,true), StructField(media_url_https,StringType,true), StructField(sizes,StructType(StructField(large,StructType(StructField(w,IntegerType,true), StructField(h,IntegerType,true), StructField(resize,StringType,true)),true), StructField(medium,StructType(StructField(w,IntegerType,true), StructField(h,IntegerType,true), StructField(resize,StringType,true)),true), StructField(small,StructType(StructField(w,IntegerType,true), StructField(h,IntegerType,true), StructField(resize,StringType,true)),true), StructField(thumb,StructType(StructField(w,IntegerType,true), StructField(h,IntegerType,true), StructField(resize,StringType,true)),true)),true), StructField(source_status_id,LongType,true), StructField(source_status_id_str,StringType,true), StructField(source_user_id,LongType,true), StructField(source_user_id_str,StringType,true), StructField(type,StringType,true), StructField(url,StringType,true)),true),true), StructField(symbols,ArrayType(StructType(StructField(text,StringType,true), StructField(indices,ArrayType(IntegerType,true),true)),true),true), StructField(urls,ArrayType(StructType(StructField(url,StringType,true), StructField(expanded_url,StringType,true), StructField(display_url,StringType,true), StructField(indices,ArrayType(IntegerType,true),true)),true),true), StructField(user_mentions,ArrayType(StructType(StructField(screen_name,StringType,true), StructField(name,StringType,true), StructField(id,LongType,true), StructField(id_str,StringType,true), StructField(indices,ArrayType(IntegerType,true),true)),true),true)),true), StructField(extended_entities,StructType(StructField(media,ArrayType(StructType(StructField(additional_media_info,StructType(StructField(description,StringType,true), StructField(embeddable,BooleanType,true), StructField(monetizable,BooleanType,true), StructField(title,StringType,true)),true), StructField(description,StringType,true), StructField(display_url,StringType,true), StructField(expanded_url,StringType,true), StructField(id,LongType,true), StructField(id_str,StringType,true), StructField(indices,ArrayType(IntegerType,true),true), StructField(media_url,StringType,true), StructField(media_url_https,StringType,true), StructField(sizes,StructType(StructField(large,StructType(StructField(w,IntegerType,true), StructField(h,IntegerType,true), StructField(resize,StringType,true)),true), StructField(medium,StructType(StructField(w,IntegerType,true), StructField(h,IntegerType,true), StructField(resize,StringType,true)),true), StructField(small,StructType(StructField(w,IntegerType,true), StructField(h,IntegerType,true), StructField(resize,StringType,true)),true), StructField(thumb,StructType(StructField(w,IntegerType,true), StructField(h,IntegerType,true), StructField(resize,StringType,true)),true)),true), StructField(source_status_id,LongType,true), StructField(source_status_id_str,StringType,true), StructField(source_user_id,LongType,true), StructField(source_user_id_str,StringType,true), StructField(type,StringType,true), StructField(url,StringType,true), StructField(video_info,StructType(StructField(aspect_ratio,ArrayType(IntegerType,true),true), StructField(duration_millis,IntegerType,true), StructField(variants,ArrayType(StructType(StructField(bitrate,IntegerType,true), StructField(content_type,StringType,true), StructField(url,StringType,true)),true),true)),true)),true),true)),true), StructField(extended_tweet,StructType(StructField(display_text_range,ArrayType(IntegerType,true),true), StructField(entities,StructType(StructField(hashtags,ArrayType(StructType(StructField(text,StringType,true), StructField(indices,ArrayType(IntegerType,true),true)),true),true), StructField(media,ArrayType(StructType(StructField(additional_media_info,StructType(StructField(description,StringType,true), StructField(embeddable,BooleanType,true), StructField(monetizable,BooleanType,true), StructField(title,StringType,true)),true), StructField(description,StringType,true), StructField(display_url,StringType,true), StructField(expanded_url,StringType,true), StructField(id,LongType,true), StructField(id_str,StringType,true), StructField(indices,ArrayType(IntegerType,true),true), StructField(media_url,StringType,true), StructField(media_url_https,StringType,true), StructField(sizes,StructType(StructField(large,StructType(StructField(w,IntegerType,true), StructField(h,IntegerType,true), StructField(resize,StringType,true)),true), StructField(medium,StructType(StructField(w,IntegerType,true), StructField(h,IntegerType,true), StructField(resize,StringType,true)),true), StructField(small,StructType(StructField(w,IntegerType,true), StructField(h,IntegerType,true), StructField(resize,StringType,true)),true), StructField(thumb,StructType(StructField(w,IntegerType,true), StructField(h,IntegerType,true), StructField(resize,StringType,true)),true)),true), StructField(source_status_id,LongType,true), StructField(source_status_id_str,StringType,true), StructField(source_user_id,LongType,true), StructField(source_user_id_str,StringType,true), StructField(type,StringType,true), StructField(url,StringType,true), StructField(video_info,StructType(StructField(aspect_ratio,ArrayType(IntegerType,true),true), StructField(duration_millis,IntegerType,true), StructField(variants,ArrayType(StructType(StructField(bitrate,IntegerType,true), StructField(content_type,StringType,true), StructField(url,StringType,true)),true),true)),true)),true),true), StructField(symbols,ArrayType(StructType(StructField(text,StringType,true), StructField(indices,ArrayType(IntegerType,true),true)),true),true), StructField(urls,ArrayType(StructType(StructField(url,StringType,true), StructField(expanded_url,StringType,true), StructField(display_url,StringType,true), StructField(indices,ArrayType(IntegerType,true),true)),true),true), StructField(user_mentions,ArrayType(StructType(StructField(screen_name,StringType,true), StructField(name,StringType,true), StructField(id,LongType,true), StructField(id_str,StringType,true), StructField(indices,ArrayType(IntegerType,true),true)),true),true)),true), StructField(extended_entities,StructType(StructField(media,ArrayType(StructType(StructField(additional_media_info,StructType(StructField(description,StringType,true), StructField(embeddable,BooleanType,true), StructField(monetizable,BooleanType,true), StructField(title,StringType,true)),true), StructField(description,StringType,true), StructField(display_url,StringType,true), StructField(expanded_url,StringType,true), StructField(id,LongType,true), StructField(id_str,StringType,true), StructField(indices,ArrayType(IntegerType,true),true), StructField(media_url,StringType,true), StructField(media_url_https,StringType,true), StructField(sizes,StructType(StructField(large,StructType(StructField(w,IntegerType,true), StructField(h,IntegerType,true), StructField(resize,StringType,true)),true), StructField(medium,StructType(StructField(w,IntegerType,true), StructField(h,IntegerType,true), StructField(resize,StringType,true)),true), StructField(small,StructType(StructField(w,IntegerType,true), StructField(h,IntegerType,true), StructField(resize,StringType,true)),true), StructField(thumb,StructType(StructField(w,IntegerType,true), StructField(h,IntegerType,true), StructField(resize,StringType,true)),true)),true), StructField(source_status_id,LongType,true), StructField(source_status_id_str,StringType,true), StructField(source_user_id,LongType,true), StructField(source_user_id_str,StringType,true), StructField(type,StringType,true), StructField(url,StringType,true), StructField(video_info,StructType(StructField(aspect_ratio,ArrayType(IntegerType,true),true), StructField(duration_millis,IntegerType,true), StructField(variants,ArrayType(StructType(StructField(bitrate,IntegerType,true), StructField(content_type,StringType,true), StructField(url,StringType,true)),true),true)),true)),true),true)),true), StructField(full_text,StringType,true)),true), StructField(favorite_count,IntegerType,true), StructField(favorited,BooleanType,true), StructField(filter_level,StringType,true), StructField(geo,NullType,true), StructField(id,LongType,true), StructField(id_str,StringType,true), StructField(in_reply_to_screen_name,StringType,true), StructField(in_reply_to_status_id,LongType,true), StructField(in_reply_to_status_id_str,StringType,true), StructField(in_reply_to_user_id,LongType,true), StructField(in_reply_to_user_id_str,StringType,true), StructField(is_quote_status,BooleanType,true), StructField(lang,StringType,true), StructField(place,StructType(StructField(id,StringType,true), StructField(url,StringType,true), StructField(place_type,StringType,true), StructField(name,StringType,true), StructField(full_name,StringType,true), StructField(country_code,StringType,true), StructField(country,StringType,true), StructField(bounding_box,StructType(StructField(type,StringType,true), StructField(coordinates,ArrayType(ArrayType(ArrayType(DoubleType,true),true),true),true)),true)),true), StructField(possibly_sensitive,BooleanType,true), StructField(quote_count,IntegerType,true), StructField(quoted_status,StructType(StructField(contributors,NullType,true), StructField(coordinates,NullType,true), StructField(created_at,StringType,true), StructField(display_text_range,ArrayType(IntegerType,true),true), StructField(entities,StructType(StructField(hashtags,ArrayType(StructType(StructField(text,StringType,true), StructField(indices,ArrayType(IntegerType,true),true)),true),true), StructField(media,ArrayType(StructType(StructField(additional_media_info,StructType(StructField(description,StringType,true), StructField(embeddable,BooleanType,true), StructField(monetizable,BooleanType,true), StructField(title,StringType,true)),true), StructField(display_url,StringType,true), StructField(expanded_url,StringType,true), StructField(id,LongType,true), StructField(id_str,StringType,true), StructField(indices,ArrayType(IntegerType,true),true), StructField(media_url,StringType,true), StructField(media_url_https,StringType,true), StructField(sizes,StructType(StructField(large,StructType(StructField(w,IntegerType,true), StructField(h,IntegerType,true), StructField(resize,StringType,true)),true), StructField(medium,StructType(StructField(w,IntegerType,true), StructField(h,IntegerType,true), StructField(resize,StringType,true)),true), StructField(small,StructType(StructField(w,IntegerType,true), StructField(h,IntegerType,true), StructField(resize,StringType,true)),true), StructField(thumb,StructType(StructField(w,IntegerType,true), StructField(h,IntegerType,true), StructField(resize,StringType,true)),true)),true), StructField(source_status_id,LongType,true), StructField(source_status_id_str,StringType,true), StructField(source_user_id,LongType,true), StructField(source_user_id_str,StringType,true), StructField(type,StringType,true), StructField(url,StringType,true)),true),true), StructField(symbols,ArrayType(StructType(StructField(text,StringType,true), StructField(indices,ArrayType(IntegerType,true),true)),true),true), StructField(urls,ArrayType(StructType(StructField(url,StringType,true), StructField(expanded_url,StringType,true), StructField(display_url,StringType,true), StructField(indices,ArrayType(IntegerType,true),true)),true),true), StructField(user_mentions,ArrayType(StructType(StructField(screen_name,StringType,true), StructField(name,StringType,true), StructField(id,LongType,true), StructField(id_str,StringType,true), StructField(indices,ArrayType(IntegerType,true),true)),true),true)),true), StructField(extended_entities,StructType(StructField(media,ArrayType(StructType(StructField(additional_media_info,StructType(StructField(description,StringType,true), StructField(embeddable,BooleanType,true), StructField(monetizable,BooleanType,true), StructField(title,StringType,true)),true), StructField(display_url,StringType,true), StructField(expanded_url,StringType,true), StructField(id,LongType,true), StructField(id_str,StringType,true), StructField(indices,ArrayType(IntegerType,true),true), StructField(media_url,StringType,true), StructField(media_url_https,StringType,true), StructField(sizes,StructType(StructField(large,StructType(StructField(w,IntegerType,true), StructField(h,IntegerType,true), StructField(resize,StringType,true)),true), StructField(medium,StructType(StructField(w,IntegerType,true), StructField(h,IntegerType,true), StructField(resize,StringType,true)),true), StructField(small,StructType(StructField(w,IntegerType,true), StructField(h,IntegerType,true), StructField(resize,StringType,true)),true), StructField(thumb,StructType(StructField(w,IntegerType,true), StructField(h,IntegerType,true), StructField(resize,StringType,true)),true)),true), StructField(source_status_id,LongType,true), StructField(source_status_id_str,StringType,true), StructField(source_user_id,LongType,true), StructField(source_user_id_str,StringType,true), StructField(type,StringType,true), StructField(url,StringType,true), StructField(video_info,StructType(StructField(aspect_ratio,ArrayType(IntegerType,true),true), StructField(duration_millis,IntegerType,true), StructField(variants,ArrayType(StructType(StructField(bitrate,IntegerType,true), StructField(content_type,StringType,true), StructField(url,StringType,true)),true),true)),true)),true),true)),true), StructField(extended_tweet,StructType(StructField(display_text_range,ArrayType(IntegerType,true),true), StructField(entities,StructType(StructField(hashtags,ArrayType(StructType(StructField(text,StringType,true), StructField(indices,ArrayType(IntegerType,true),true)),true),true), StructField(media,ArrayType(StructType(StructField(additional_media_info,StructType(StructField(description,StringType,true), StructField(embeddable,BooleanType,true), StructField(monetizable,BooleanType,true), StructField(title,StringType,true)),true), StructField(display_url,StringType,true), StructField(expanded_url,StringType,true), StructField(id,LongType,true), StructField(id_str,StringType,true), StructField(indices,ArrayType(IntegerType,true),true), StructField(media_url,StringType,true), StructField(media_url_https,StringType,true), StructField(sizes,StructType(StructField(large,StructType(StructField(w,IntegerType,true), StructField(h,IntegerType,true), StructField(resize,StringType,true)),true), StructField(medium,StructType(StructField(w,IntegerType,true), StructField(h,IntegerType,true), StructField(resize,StringType,true)),true), StructField(small,StructType(StructField(w,IntegerType,true), StructField(h,IntegerType,true), StructField(resize,StringType,true)),true), StructField(thumb,StructType(StructField(w,IntegerType,true), StructField(h,IntegerType,true), StructField(resize,StringType,true)),true)),true), StructField(source_status_id,LongType,true), StructField(source_status_id_str,StringType,true), StructField(source_user_id,LongType,true), StructField(source_user_id_str,StringType,true), StructField(type,StringType,true), StructField(url,StringType,true), StructField(video_info,StructType(StructField(aspect_ratio,ArrayType(IntegerType,true),true), StructField(duration_millis,IntegerType,true), StructField(variants,ArrayType(StructType(StructField(bitrate,IntegerType,true), StructField(content_type,StringType,true), StructField(url,StringType,true)),true),true)),true)),true),true), StructField(symbols,ArrayType(StructType(StructField(text,StringType,true), StructField(indices,ArrayType(IntegerType,true),true)),true),true), StructField(urls,ArrayType(StructType(StructField(url,StringType,true), StructField(expanded_url,StringType,true), StructField(display_url,StringType,true), StructField(indices,ArrayType(IntegerType,true),true)),true),true), StructField(user_mentions,ArrayType(StructType(StructField(screen_name,StringType,true), StructField(name,StringType,true), StructField(id,LongType,true), StructField(id_str,StringType,true), StructField(indices,ArrayType(IntegerType,true),true)),true),true)),true), StructField(extended_entities,StructType(StructField(media,ArrayType(StructType(StructField(additional_media_info,StructType(StructField(description,StringType,true), StructField(embeddable,BooleanType,true), StructField(monetizable,BooleanType,true), StructField(title,StringType,true)),true), StructField(display_url,StringType,true), StructField(expanded_url,StringType,true), StructField(id,LongType,true), StructField(id_str,StringType,true), StructField(indices,ArrayType(IntegerType,true),true), StructField(media_url,StringType,true), StructField(media_url_https,StringType,true), StructField(sizes,StructType(StructField(large,StructType(StructField(w,IntegerType,true), StructField(h,IntegerType,true), StructField(resize,StringType,true)),true), StructField(medium,StructType(StructField(w,IntegerType,true), StructField(h,IntegerType,true), StructField(resize,StringType,true)),true), StructField(small,StructType(StructField(w,IntegerType,true), StructField(h,IntegerType,true), StructField(resize,StringType,true)),true), StructField(thumb,StructType(StructField(w,IntegerType,true), StructField(h,IntegerType,true), StructField(resize,StringType,true)),true)),true), StructField(source_status_id,LongType,true), StructField(source_status_id_str,StringType,true), StructField(source_user_id,LongType,true), StructField(source_user_id_str,StringType,true), StructField(type,StringType,true), StructField(url,StringType,true), StructField(video_info,StructType(StructField(aspect_ratio,ArrayType(IntegerType,true),true), StructField(duration_millis,IntegerType,true), StructField(variants,ArrayType(StructType(StructField(bitrate,IntegerType,true), StructField(content_type,StringType,true), StructField(url,StringType,true)),true),true)),true)),true),true)),true), StructField(full_text,StringType,true)),true), StructField(favorite_count,IntegerType,true), StructField(favorited,BooleanType,true), StructField(filter_level,StringType,true), StructField(geo,NullType,true), StructField(id,LongType,true), StructField(id_str,StringType,true), StructField(in_reply_to_screen_name,StringType,true), StructField(in_reply_to_status_id,LongType,true), StructField(in_reply_to_status_id_str,StringType,true), StructField(in_reply_to_user_id,LongType,true), StructField(in_reply_to_user_id_str,StringType,true), StructField(is_quote_status,BooleanType,true), StructField(lang,StringType,true), StructField(place,StructType(StructField(id,StringType,true), StructField(url,StringType,true), StructField(place_type,StringType,true), StructField(name,StringType,true), StructField(full_name,StringType,true), StructField(country_code,StringType,true), StructField(country,StringType,true), StructField(bounding_box,StructType(StructField(type,StringType,true), StructField(coordinates,ArrayType(ArrayType(ArrayType(DoubleType,true),true),true),true)),true)),true), StructField(possibly_sensitive,BooleanType,true), StructField(quote_count,IntegerType,true), StructField(quoted_status_id,LongType,true), StructField(quoted_status_id_str,StringType,true), StructField(reply_count,IntegerType,true), StructField(retweet_count,IntegerType,true), StructField(retweeted,BooleanType,true), StructField(source,StringType,true), StructField(text,StringType,true), StructField(truncated,BooleanType,true), StructField(user,StructType(StructField(contributors_enabled,BooleanType,true), StructField(created_at,StringType,true), StructField(default_profile,BooleanType,true), StructField(default_profile_image,BooleanType,true), StructField(description,StringType,true), StructField(favourites_count,IntegerType,true), StructField(follow_request_sent,NullType,true), StructField(followers_count,IntegerType,true), StructField(following,NullType,true), StructField(friends_count,IntegerType,true), StructField(geo_enabled,BooleanType,true), StructField(id,LongType,true), StructField(id_str,StringType,true), StructField(is_translator,BooleanType,true), StructField(lang,NullType,true), StructField(listed_count,IntegerType,true), StructField(location,StringType,true), StructField(name,StringType,true), StructField(notifications,NullType,true), StructField(profile_background_color,StringType,true), StructField(profile_background_image_url,StringType,true), StructField(profile_background_image_url_https,StringType,true), StructField(profile_background_tile,BooleanType,true), StructField(profile_banner_url,StringType,true), StructField(profile_image_url,StringType,true), StructField(profile_image_url_https,StringType,true), StructField(profile_link_color,StringType,true), StructField(profile_sidebar_border_color,StringType,true), StructField(profile_sidebar_fill_color,StringType,true), StructField(profile_text_color,StringType,true), StructField(profile_use_background_image,BooleanType,true), StructField(protected,BooleanType,true), StructField(screen_name,StringType,true), StructField(statuses_count,IntegerType,true), StructField(time_zone,NullType,true), StructField(translator_type,StringType,true), StructField(url,StringType,true), StructField(utc_offset,NullType,true), StructField(verified,BooleanType,true)),true)),true), StructField(quoted_status_id,LongType,true), StructField(quoted_status_id_str,StringType,true), StructField(quoted_status_permalink,StructType(StructField(url,StringType,true), StructField(expanded,StringType,true), StructField(display,StringType,true)),true), StructField(reply_count,IntegerType,true), StructField(retweet_count,IntegerType,true), StructField(retweeted,BooleanType,true), StructField(source,StringType,true), StructField(text,StringType,true), StructField(truncated,BooleanType,true), StructField(user,StructType(StructField(contributors_enabled,BooleanType,true), StructField(created_at,StringType,true), StructField(default_profile,BooleanType,true), StructField(default_profile_image,BooleanType,true), StructField(description,StringType,true), StructField(favourites_count,IntegerType,true), StructField(follow_request_sent,NullType,true), StructField(followers_count,IntegerType,true), StructField(following,NullType,true), StructField(friends_count,IntegerType,true), StructField(geo_enabled,BooleanType,true), StructField(id,LongType,true), StructField(id_str,StringType,true), StructField(is_translator,BooleanType,true), StructField(lang,NullType,true), StructField(listed_count,IntegerType,true), StructField(location,StringType,true), StructField(name,StringType,true), StructField(notifications,NullType,true), StructField(profile_background_color,StringType,true), StructField(profile_background_image_url,StringType,true), StructField(profile_background_image_url_https,StringType,true), StructField(profile_background_tile,BooleanType,true), StructField(profile_banner_url,StringType,true), StructField(profile_image_url,StringType,true), StructField(profile_image_url_https,StringType,true), StructField(profile_link_color,StringType,true), StructField(profile_sidebar_border_color,StringType,true), StructField(profile_sidebar_fill_color,StringType,true), StructField(profile_text_color,StringType,true), StructField(profile_use_background_image,BooleanType,true), StructField(protected,BooleanType,true), StructField(screen_name,StringType,true), StructField(statuses_count,IntegerType,true), StructField(time_zone,NullType,true), StructField(translator_type,StringType,true), StructField(url,StringType,true), StructField(utc_offset,NullType,true), StructField(verified,BooleanType,true)),true), StructField(withheld_in_countries,ArrayType(StringType,true),true)),true), StructField(source,StringType,true), StructField(text,StringType,true), StructField(timestamp_ms,StringType,true), StructField(truncated,BooleanType,true), StructField(user,StructType(StructField(contributors_enabled,BooleanType,true), StructField(created_at,StringType,true), StructField(default_profile,BooleanType,true), StructField(default_profile_image,BooleanType,true), StructField(description,StringType,true), StructField(favourites_count,IntegerType,true), StructField(follow_request_sent,NullType,true), StructField(followers_count,IntegerType,true), StructField(following,NullType,true), StructField(friends_count,IntegerType,true), StructField(geo_enabled,BooleanType,true), StructField(id,LongType,true), StructField(id_str,StringType,true), StructField(is_translator,BooleanType,true), StructField(lang,NullType,true), StructField(listed_count,IntegerType,true), StructField(location,StringType,true), StructField(name,StringType,true), StructField(notifications,NullType,true), StructField(profile_background_color,StringType,true), StructField(profile_background_image_url,StringType,true), StructField(profile_background_image_url_https,StringType,true), StructField(profile_background_tile,BooleanType,true), StructField(profile_banner_url,StringType,true), StructField(profile_image_url,StringType,true), StructField(profile_image_url_https,StringType,true), StructField(profile_link_color,StringType,true), StructField(profile_sidebar_border_color,StringType,true), StructField(profile_sidebar_fill_color,StringType,true), StructField(profile_text_color,StringType,true), StructField(profile_use_background_image,BooleanType,true), StructField(protected,BooleanType,true), StructField(screen_name,StringType,true), StructField(statuses_count,IntegerType,true), StructField(time_zone,NullType,true), StructField(translator_type,StringType,true), StructField(url,StringType,true), StructField(utc_offset,NullType,true), StructField(verified,BooleanType,true)),true), StructField(withheld_in_countries,ArrayType(StringType,true),true))))\n",
     "output_type": "error",
     "traceback": [
      "\u001b[0;31m---------------------------------------------------------------------------\u001b[0m",
      "\u001b[0;31mAnalysisException\u001b[0m                         Traceback (most recent call last)",
      "\u001b[0;32m/tmp/ipykernel_3064919/4100822607.py\u001b[0m in \u001b[0;36m<module>\u001b[0;34m\u001b[0m\n\u001b[0;32m----> 1\u001b[0;31m \u001b[0mdfWord\u001b[0m \u001b[0;34m=\u001b[0m \u001b[0mdfText\u001b[0m\u001b[0;34m.\u001b[0m\u001b[0mwithColumn\u001b[0m\u001b[0;34m(\u001b[0m\u001b[0;34m\"Word\"\u001b[0m\u001b[0;34m,\u001b[0m \u001b[0mexplode\u001b[0m\u001b[0;34m(\u001b[0m\u001b[0msplit\u001b[0m\u001b[0;34m(\u001b[0m\u001b[0mcol\u001b[0m\u001b[0;34m(\u001b[0m\u001b[0;34m\"filtered\"\u001b[0m\u001b[0;34m)\u001b[0m\u001b[0;34m,\u001b[0m \u001b[0;34m' '\u001b[0m\u001b[0;34m)\u001b[0m\u001b[0;34m)\u001b[0m\u001b[0;34m)\u001b[0m\u001b[0;34m.\u001b[0m\u001b[0mgroupBy\u001b[0m\u001b[0;34m(\u001b[0m\u001b[0;34m\"Word\"\u001b[0m\u001b[0;34m)\u001b[0m\u001b[0;34m.\u001b[0m\u001b[0mcount\u001b[0m\u001b[0;34m(\u001b[0m\u001b[0;34m)\u001b[0m\u001b[0;34m.\u001b[0m\u001b[0morderBy\u001b[0m\u001b[0;34m(\u001b[0m\u001b[0mdesc\u001b[0m\u001b[0;34m(\u001b[0m\u001b[0;34m\"count\"\u001b[0m\u001b[0;34m)\u001b[0m\u001b[0;34m.\u001b[0m\u001b[0mlimit\u001b[0m\u001b[0;34m(\u001b[0m\u001b[0;36m10\u001b[0m\u001b[0;34m)\u001b[0m\u001b[0;34m)\u001b[0m\u001b[0;34m\u001b[0m\u001b[0;34m\u001b[0m\u001b[0m\n\u001b[0m\u001b[1;32m      2\u001b[0m \u001b[0;34m\u001b[0m\u001b[0m\n\u001b[1;32m      3\u001b[0m \u001b[0mdfWord\u001b[0m\u001b[0;34m.\u001b[0m\u001b[0mshow\u001b[0m\u001b[0;34m(\u001b[0m\u001b[0;34m)\u001b[0m\u001b[0;34m\u001b[0m\u001b[0;34m\u001b[0m\u001b[0m\n",
      "\u001b[0;32m/usr/local/spark/python/pyspark/sql/dataframe.py\u001b[0m in \u001b[0;36mwithColumn\u001b[0;34m(self, colName, col)\u001b[0m\n\u001b[1;32m   2476\u001b[0m         \u001b[0;32mif\u001b[0m \u001b[0;32mnot\u001b[0m \u001b[0misinstance\u001b[0m\u001b[0;34m(\u001b[0m\u001b[0mcol\u001b[0m\u001b[0;34m,\u001b[0m \u001b[0mColumn\u001b[0m\u001b[0;34m)\u001b[0m\u001b[0;34m:\u001b[0m\u001b[0;34m\u001b[0m\u001b[0;34m\u001b[0m\u001b[0m\n\u001b[1;32m   2477\u001b[0m             \u001b[0;32mraise\u001b[0m \u001b[0mTypeError\u001b[0m\u001b[0;34m(\u001b[0m\u001b[0;34m\"col should be Column\"\u001b[0m\u001b[0;34m)\u001b[0m\u001b[0;34m\u001b[0m\u001b[0;34m\u001b[0m\u001b[0m\n\u001b[0;32m-> 2478\u001b[0;31m         \u001b[0;32mreturn\u001b[0m \u001b[0mDataFrame\u001b[0m\u001b[0;34m(\u001b[0m\u001b[0mself\u001b[0m\u001b[0;34m.\u001b[0m\u001b[0m_jdf\u001b[0m\u001b[0;34m.\u001b[0m\u001b[0mwithColumn\u001b[0m\u001b[0;34m(\u001b[0m\u001b[0mcolName\u001b[0m\u001b[0;34m,\u001b[0m \u001b[0mcol\u001b[0m\u001b[0;34m.\u001b[0m\u001b[0m_jc\u001b[0m\u001b[0;34m)\u001b[0m\u001b[0;34m,\u001b[0m \u001b[0mself\u001b[0m\u001b[0;34m.\u001b[0m\u001b[0msql_ctx\u001b[0m\u001b[0;34m)\u001b[0m\u001b[0;34m\u001b[0m\u001b[0;34m\u001b[0m\u001b[0m\n\u001b[0m\u001b[1;32m   2479\u001b[0m \u001b[0;34m\u001b[0m\u001b[0m\n\u001b[1;32m   2480\u001b[0m     \u001b[0;32mdef\u001b[0m \u001b[0mwithColumnRenamed\u001b[0m\u001b[0;34m(\u001b[0m\u001b[0mself\u001b[0m\u001b[0;34m,\u001b[0m \u001b[0mexisting\u001b[0m\u001b[0;34m,\u001b[0m \u001b[0mnew\u001b[0m\u001b[0;34m)\u001b[0m\u001b[0;34m:\u001b[0m\u001b[0;34m\u001b[0m\u001b[0;34m\u001b[0m\u001b[0m\n",
      "\u001b[0;32m/usr/local/spark/python/lib/py4j-0.10.9.5-src.zip/py4j/java_gateway.py\u001b[0m in \u001b[0;36m__call__\u001b[0;34m(self, *args)\u001b[0m\n\u001b[1;32m   1319\u001b[0m \u001b[0;34m\u001b[0m\u001b[0m\n\u001b[1;32m   1320\u001b[0m         \u001b[0manswer\u001b[0m \u001b[0;34m=\u001b[0m \u001b[0mself\u001b[0m\u001b[0;34m.\u001b[0m\u001b[0mgateway_client\u001b[0m\u001b[0;34m.\u001b[0m\u001b[0msend_command\u001b[0m\u001b[0;34m(\u001b[0m\u001b[0mcommand\u001b[0m\u001b[0;34m)\u001b[0m\u001b[0;34m\u001b[0m\u001b[0;34m\u001b[0m\u001b[0m\n\u001b[0;32m-> 1321\u001b[0;31m         return_value = get_return_value(\n\u001b[0m\u001b[1;32m   1322\u001b[0m             answer, self.gateway_client, self.target_id, self.name)\n\u001b[1;32m   1323\u001b[0m \u001b[0;34m\u001b[0m\u001b[0m\n",
      "\u001b[0;32m/usr/local/spark/python/pyspark/sql/utils.py\u001b[0m in \u001b[0;36mdeco\u001b[0;34m(*a, **kw)\u001b[0m\n\u001b[1;32m    115\u001b[0m                 \u001b[0;31m# Hide where the exception came from that shows a non-Pythonic\u001b[0m\u001b[0;34m\u001b[0m\u001b[0;34m\u001b[0m\u001b[0m\n\u001b[1;32m    116\u001b[0m                 \u001b[0;31m# JVM exception message.\u001b[0m\u001b[0;34m\u001b[0m\u001b[0;34m\u001b[0m\u001b[0m\n\u001b[0;32m--> 117\u001b[0;31m                 \u001b[0;32mraise\u001b[0m \u001b[0mconverted\u001b[0m \u001b[0;32mfrom\u001b[0m \u001b[0;32mNone\u001b[0m\u001b[0;34m\u001b[0m\u001b[0;34m\u001b[0m\u001b[0m\n\u001b[0m\u001b[1;32m    118\u001b[0m             \u001b[0;32melse\u001b[0m\u001b[0;34m:\u001b[0m\u001b[0;34m\u001b[0m\u001b[0;34m\u001b[0m\u001b[0m\n\u001b[1;32m    119\u001b[0m                 \u001b[0;32mraise\u001b[0m\u001b[0;34m\u001b[0m\u001b[0;34m\u001b[0m\u001b[0m\n",
      "\u001b[0;31mAnalysisException\u001b[0m: cannot resolve 'split(filtered, ' ', -1)' due to data type mismatch: argument 1 requires string type, however, 'filtered' is of array<string> type.;\n'Project [text#6752, tokens#6819, filtered#6901, explode(split(filtered#6901,  , -1)) AS Word#6932]\n+- Project [text#6752, tokens#6819, filtered#6901]\n   +- Project [text#6752, id#5061L, orignialText#6741, tokens#6819, UDF(tokens#6819) AS filtered#6901]\n      +- Project [text#6752, id#5061L, orignialText#6741, tokens#6819]\n         +- Join LeftOuter, (text#6752 = text#6867)\n            :- Project [id#5061L, orignialText#6741, text#6752]\n            :  +- SubqueryAlias text\n            :     +- View (`text`, [id#5061L,orignialText#6741,text#6752])\n            :        +- Project [id#5061L, orignialText#6741, text#6752]\n            :           +- SubqueryAlias text\n            :              +- View (`text`, [id#5061L,orignialText#6741,text#6752])\n            :                 +- Project [id#5061L, orignialText#6741, lower(trim(text#6745, None)) AS text#6752]\n            :                    +- SubqueryAlias text\n            :                       +- View (`text`, [id#5061L,orignialText#6741,text#6745])\n            :                          +- Project [id#5061L, orignialText#6741, regexp_replace(text#6643, [^a-zA-Z0-9\\s], , 1) AS text#6745]\n            :                             +- Project [id#5061L, text#6643 AS orignialText#6741, text#6643]\n            :                                +- SubqueryAlias text\n            :                                   +- View (`text`, [id#5061L,text#6643])\n            :                                      +- Distinct\n            :                                         +- Project [id#5061L, text#5082 AS text#6643]\n            :                                            +- SubqueryAlias en_tweets\n            :                                               +- View (`en_tweets`, [_id#5049,contributors#5050,coordinates#5051,created_at#5052,display_text_range#5053,entities#5054,extended_entities#5055,extended_tweet#5056,favorite_count#5057,favorited#5058,filter_level#5059,geo#5060,id#5061L,id_str#5062,in_reply_to_screen_name#5063,in_reply_to_status_id#5064L,in_reply_to_status_id_str#5065,in_reply_to_user_id#5066L,in_reply_to_user_id_str#5067,is_quote_status#5068,lang#5069,place#5070,possibly_sensitive#5071,quote_count#5072,quoted_status#5073,quoted_status_id#5074L,quoted_status_id_str#5075,quoted_status_permalink#5076,reply_count#5077,retweet_count#5078,retweeted#5079,retweeted_status#5080,source#5081,text#5082,timestamp_ms#5083,truncated#5084,user#5085,withheld_in_countries#5086])\n            :                                                  +- Project [_id#5049, contributors#5050, coordinates#5051, created_at#5052, display_text_range#5053, entities#5054, extended_entities#5055, extended_tweet#5056, favorite_count#5057, favorited#5058, filter_level#5059, geo#5060, id#5061L, id_str#5062, in_reply_to_screen_name#5063, in_reply_to_status_id#5064L, in_reply_to_status_id_str#5065, in_reply_to_user_id#5066L, in_reply_to_user_id_str#5067, is_quote_status#5068, lang#5069, place#5070, possibly_sensitive#5071, quote_count#5072, ... 14 more fields]\n            :                                                     +- Filter ((lang#5069 = en) AND text#5082 LIKE %euro%)\n            :                                                        +- SubqueryAlias tweets\n            :                                                           +- View (`tweets`, [_id#5049,contributors#5050,coordinates#5051,created_at#5052,display_text_range#5053,entities#5054,extended_entities#5055,extended_tweet#5056,favorite_count#5057,favorited#5058,filter_level#5059,geo#5060,id#5061L,id_str#5062,in_reply_to_screen_name#5063,in_reply_to_status_id#5064L,in_reply_to_status_id_str#5065,in_reply_to_user_id#5066L,in_reply_to_user_id_str#5067,is_quote_status#5068,lang#5069,place#5070,possibly_sensitive#5071,quote_count#5072,quoted_status#5073,quoted_status_id#5074L,quoted_status_id_str#5075,quoted_status_permalink#5076,reply_count#5077,retweet_count#5078,retweeted#5079,retweeted_status#5080,source#5081,text#5082,timestamp_ms#5083,truncated#5084,user#5085,withheld_in_countries#5086])\n            :                                                              +- Relation [_id#5049,contributors#5050,coordinates#5051,created_at#5052,display_text_range#5053,entities#5054,extended_entities#5055,extended_tweet#5056,favorite_count#5057,favorited#5058,filter_level#5059,geo#5060,id#5061L,id_str#5062,in_reply_to_screen_name#5063,in_reply_to_status_id#5064L,in_reply_to_status_id_str#5065,in_reply_to_user_id#5066L,in_reply_to_user_id_str#5067,is_quote_status#5068,lang#5069,place#5070,possibly_sensitive#5071,quote_count#5072,... 14 more fields] MongoRelation(MongoRDD[1118] at RDD at MongoRDD.scala:51,Some(StructType(StructField(_id,StructType(StructField(oid,StringType,true)),true), StructField(contributors,NullType,true), StructField(coordinates,NullType,true), StructField(created_at,StringType,true), StructField(display_text_range,ArrayType(IntegerType,true),true), StructField(entities,StructType(StructField(hashtags,ArrayType(StructType(StructField(text,StringType,true), StructField(indices,ArrayType(IntegerType,true),true)),true),true), StructField(media,ArrayType(StructType(StructField(additional_media_info,StructType(StructField(description,StringType,true), StructField(embeddable,BooleanType,true), StructField(monetizable,BooleanType,true), StructField(title,StringType,true)),true), StructField(description,StringType,true), StructField(display_url,StringType,true), StructField(expanded_url,StringType,true), StructField(id,LongType,true), StructField(id_str,StringType,true), StructField(indices,ArrayType(IntegerType,true),true), StructField(media_url,StringType,true), StructField(media_url_https,StringType,true), StructField(sizes,StructType(StructField(large,StructType(StructField(w,IntegerType,true), StructField(h,IntegerType,true), StructField(resize,StringType,true)),true), StructField(medium,StructType(StructField(w,IntegerType,true), StructField(h,IntegerType,true), StructField(resize,StringType,true)),true), StructField(small,StructType(StructField(w,IntegerType,true), StructField(h,IntegerType,true), StructField(resize,StringType,true)),true), StructField(thumb,StructType(StructField(w,IntegerType,true), StructField(h,IntegerType,true), StructField(resize,StringType,true)),true)),true), StructField(source_status_id,LongType,true), StructField(source_status_id_str,StringType,true), StructField(source_user_id,LongType,true), StructField(source_user_id_str,StringType,true), StructField(type,StringType,true), StructField(url,StringType,true)),true),true), StructField(symbols,ArrayType(StructType(StructField(text,StringType,true), StructField(indices,ArrayType(IntegerType,true),true)),true),true), StructField(urls,ArrayType(StructType(StructField(url,StringType,true), StructField(expanded_url,StringType,true), StructField(display_url,StringType,true), StructField(indices,ArrayType(IntegerType,true),true)),true),true), StructField(user_mentions,ArrayType(StructType(StructField(screen_name,StringType,true), StructField(name,StringType,true), StructField(id,LongType,true), StructField(id_str,StringType,true), StructField(indices,ArrayType(IntegerType,true),true)),true),true)),true), StructField(extended_entities,StructType(StructField(media,ArrayType(StructType(StructField(additional_media_info,StructType(StructField(description,StringType,true), StructField(embeddable,BooleanType,true), StructField(monetizable,BooleanType,true), StructField(title,StringType,true)),true), StructField(description,StringType,true), StructField(display_url,StringType,true), StructField(expanded_url,StringType,true), StructField(id,LongType,true), StructField(id_str,StringType,true), StructField(indices,ArrayType(IntegerType,true),true), StructField(media_url,StringType,true), StructField(media_url_https,StringType,true), StructField(sizes,StructType(StructField(large,StructType(StructField(w,IntegerType,true), StructField(h,IntegerType,true), StructField(resize,StringType,true)),true), StructField(medium,StructType(StructField(w,IntegerType,true), StructField(h,IntegerType,true), StructField(resize,StringType,true)),true), StructField(small,StructType(StructField(w,IntegerType,true), StructField(h,IntegerType,true), StructField(resize,StringType,true)),true), StructField(thumb,StructType(StructField(w,IntegerType,true), StructField(h,IntegerType,true), StructField(resize,StringType,true)),true)),true), StructField(source_status_id,LongType,true), StructField(source_status_id_str,StringType,true), StructField(source_user_id,LongType,true), StructField(source_user_id_str,StringType,true), StructField(type,StringType,true), StructField(url,StringType,true), StructField(video_info,StructType(StructField(aspect_ratio,ArrayType(IntegerType,true),true), StructField(duration_millis,IntegerType,true), StructField(variants,ArrayType(StructType(StructField(bitrate,IntegerType,true), StructField(content_type,StringType,true), StructField(url,StringType,true)),true),true)),true)),true),true)),true), StructField(extended_tweet,StructType(StructField(display_text_range,ArrayType(IntegerType,true),true), StructField(entities,StructType(StructField(hashtags,ArrayType(StructType(StructField(text,StringType,true), StructField(indices,ArrayType(IntegerType,true),true)),true),true), StructField(media,ArrayType(StructType(StructField(additional_media_info,StructType(StructField(description,StringType,true), StructField(embeddable,BooleanType,true), StructField(monetizable,BooleanType,true), StructField(title,StringType,true)),true), StructField(description,StringType,true), StructField(display_url,StringType,true), StructField(expanded_url,StringType,true), StructField(id,LongType,true), StructField(id_str,StringType,true), StructField(indices,ArrayType(IntegerType,true),true), StructField(media_url,StringType,true), StructField(media_url_https,StringType,true), StructField(sizes,StructType(StructField(large,StructType(StructField(w,IntegerType,true), StructField(h,IntegerType,true), StructField(resize,StringType,true)),true), StructField(medium,StructType(StructField(w,IntegerType,true), StructField(h,IntegerType,true), StructField(resize,StringType,true)),true), StructField(small,StructType(StructField(w,IntegerType,true), StructField(h,IntegerType,true), StructField(resize,StringType,true)),true), StructField(thumb,StructType(StructField(w,IntegerType,true), StructField(h,IntegerType,true), StructField(resize,StringType,true)),true)),true), StructField(type,StringType,true), StructField(url,StringType,true), StructField(video_info,StructType(StructField(aspect_ratio,ArrayType(IntegerType,true),true), StructField(duration_millis,IntegerType,true), StructField(variants,ArrayType(StructType(StructField(bitrate,IntegerType,true), StructField(content_type,StringType,true), StructField(url,StringType,true)),true),true)),true)),true),true), StructField(urls,ArrayType(StructType(StructField(url,StringType,true), StructField(expanded_url,StringType,true), StructField(display_url,StringType,true), StructField(indices,ArrayType(IntegerType,true),true)),true),true), StructField(user_mentions,ArrayType(StructType(StructField(screen_name,StringType,true), StructField(name,StringType,true), StructField(id,LongType,true), StructField(id_str,StringType,true), StructField(indices,ArrayType(IntegerType,true),true)),true),true)),true), StructField(extended_entities,StructType(StructField(media,ArrayType(StructType(StructField(additional_media_info,StructType(StructField(description,StringType,true), StructField(embeddable,BooleanType,true), StructField(monetizable,BooleanType,true), StructField(title,StringType,true)),true), StructField(description,StringType,true), StructField(display_url,StringType,true), StructField(expanded_url,StringType,true), StructField(id,LongType,true), StructField(id_str,StringType,true), StructField(indices,ArrayType(IntegerType,true),true), StructField(media_url,StringType,true), StructField(media_url_https,StringType,true), StructField(sizes,StructType(StructField(large,StructType(StructField(w,IntegerType,true), StructField(h,IntegerType,true), StructField(resize,StringType,true)),true), StructField(medium,StructType(StructField(w,IntegerType,true), StructField(h,IntegerType,true), StructField(resize,StringType,true)),true), StructField(small,StructType(StructField(w,IntegerType,true), StructField(h,IntegerType,true), StructField(resize,StringType,true)),true), StructField(thumb,StructType(StructField(w,IntegerType,true), StructField(h,IntegerType,true), StructField(resize,StringType,true)),true)),true), StructField(type,StringType,true), StructField(url,StringType,true), StructField(video_info,StructType(StructField(aspect_ratio,ArrayType(IntegerType,true),true), StructField(duration_millis,IntegerType,true), StructField(variants,ArrayType(StructType(StructField(bitrate,IntegerType,true), StructField(content_type,StringType,true), StructField(url,StringType,true)),true),true)),true)),true),true)),true), StructField(full_text,StringType,true)),true), StructField(favorite_count,IntegerType,true), StructField(favorited,BooleanType,true), StructField(filter_level,StringType,true), StructField(geo,NullType,true), StructField(id,LongType,true), StructField(id_str,StringType,true), StructField(in_reply_to_screen_name,StringType,true), StructField(in_reply_to_status_id,LongType,true), StructField(in_reply_to_status_id_str,StringType,true), StructField(in_reply_to_user_id,LongType,true), StructField(in_reply_to_user_id_str,StringType,true), StructField(is_quote_status,BooleanType,true), StructField(lang,StringType,true), StructField(place,StructType(StructField(id,StringType,true), StructField(url,StringType,true), StructField(place_type,StringType,true), StructField(name,StringType,true), StructField(full_name,StringType,true), StructField(country_code,StringType,true), StructField(country,StringType,true), StructField(bounding_box,StructType(StructField(type,StringType,true), StructField(coordinates,ArrayType(ArrayType(ArrayType(DoubleType,true),true),true),true)),true)),true), StructField(possibly_sensitive,BooleanType,true), StructField(quote_count,IntegerType,true), StructField(quoted_status,StructType(StructField(contributors,NullType,true), StructField(coordinates,NullType,true), StructField(created_at,StringType,true), StructField(display_text_range,ArrayType(IntegerType,true),true), StructField(entities,StructType(StructField(hashtags,ArrayType(StructType(StructField(text,StringType,true), StructField(indices,ArrayType(IntegerType,true),true)),true),true), StructField(media,ArrayType(StructType(StructField(additional_media_info,StructType(StructField(description,StringType,true), StructField(embeddable,BooleanType,true), StructField(monetizable,BooleanType,true), StructField(title,StringType,true)),true), StructField(description,StringType,true), StructField(display_url,StringType,true), StructField(expanded_url,StringType,true), StructField(id,LongType,true), StructField(id_str,StringType,true), StructField(indices,ArrayType(IntegerType,true),true), StructField(media_url,StringType,true), StructField(media_url_https,StringType,true), StructField(sizes,StructType(StructField(large,StructType(StructField(w,IntegerType,true), StructField(h,IntegerType,true), StructField(resize,StringType,true)),true), StructField(medium,StructType(StructField(w,IntegerType,true), StructField(h,IntegerType,true), StructField(resize,StringType,true)),true), StructField(small,StructType(StructField(w,IntegerType,true), StructField(h,IntegerType,true), StructField(resize,StringType,true)),true), StructField(thumb,StructType(StructField(w,IntegerType,true), StructField(h,IntegerType,true), StructField(resize,StringType,true)),true)),true), StructField(source_status_id,LongType,true), StructField(source_status_id_str,StringType,true), StructField(source_user_id,LongType,true), StructField(source_user_id_str,StringType,true), StructField(type,StringType,true), StructField(url,StringType,true)),true),true), StructField(symbols,ArrayType(StructType(StructField(text,StringType,true), StructField(indices,ArrayType(IntegerType,true),true)),true),true), StructField(urls,ArrayType(StructType(StructField(url,StringType,true), StructField(expanded_url,StringType,true), StructField(display_url,StringType,true), StructField(indices,ArrayType(IntegerType,true),true)),true),true), StructField(user_mentions,ArrayType(StructType(StructField(screen_name,StringType,true), StructField(name,StringType,true), StructField(id,LongType,true), StructField(id_str,StringType,true), StructField(indices,ArrayType(IntegerType,true),true)),true),true)),true), StructField(extended_entities,StructType(StructField(media,ArrayType(StructType(StructField(additional_media_info,StructType(StructField(description,StringType,true), StructField(embeddable,BooleanType,true), StructField(monetizable,BooleanType,true), StructField(title,StringType,true)),true), StructField(description,StringType,true), StructField(display_url,StringType,true), StructField(expanded_url,StringType,true), StructField(id,LongType,true), StructField(id_str,StringType,true), StructField(indices,ArrayType(IntegerType,true),true), StructField(media_url,StringType,true), StructField(media_url_https,StringType,true), StructField(sizes,StructType(StructField(large,StructType(StructField(w,IntegerType,true), StructField(h,IntegerType,true), StructField(resize,StringType,true)),true), StructField(medium,StructType(StructField(w,IntegerType,true), StructField(h,IntegerType,true), StructField(resize,StringType,true)),true), StructField(small,StructType(StructField(w,IntegerType,true), StructField(h,IntegerType,true), StructField(resize,StringType,true)),true), StructField(thumb,StructType(StructField(w,IntegerType,true), StructField(h,IntegerType,true), StructField(resize,StringType,true)),true)),true), StructField(source_status_id,LongType,true), StructField(source_status_id_str,StringType,true), StructField(source_user_id,LongType,true), StructField(source_user_id_str,StringType,true), StructField(type,StringType,true), StructField(url,StringType,true), StructField(video_info,StructType(StructField(aspect_ratio,ArrayType(IntegerType,true),true), StructField(duration_millis,IntegerType,true), StructField(variants,ArrayType(StructType(StructField(bitrate,IntegerType,true), StructField(content_type,StringType,true), StructField(url,StringType,true)),true),true)),true)),true),true)),true), StructField(extended_tweet,StructType(StructField(display_text_range,ArrayType(IntegerType,true),true), StructField(entities,StructType(StructField(hashtags,ArrayType(StructType(StructField(text,StringType,true), StructField(indices,ArrayType(IntegerType,true),true)),true),true), StructField(media,ArrayType(StructType(StructField(additional_media_info,StructType(StructField(description,StringType,true), StructField(embeddable,BooleanType,true), StructField(monetizable,BooleanType,true), StructField(title,StringType,true)),true), StructField(display_url,StringType,true), StructField(expanded_url,StringType,true), StructField(id,LongType,true), StructField(id_str,StringType,true), StructField(indices,ArrayType(IntegerType,true),true), StructField(media_url,StringType,true), StructField(media_url_https,StringType,true), StructField(sizes,StructType(StructField(large,StructType(StructField(w,IntegerType,true), StructField(h,IntegerType,true), StructField(resize,StringType,true)),true), StructField(medium,StructType(StructField(w,IntegerType,true), StructField(h,IntegerType,true), StructField(resize,StringType,true)),true), StructField(small,StructType(StructField(w,IntegerType,true), StructField(h,IntegerType,true), StructField(resize,StringType,true)),true), StructField(thumb,StructType(StructField(w,IntegerType,true), StructField(h,IntegerType,true), StructField(resize,StringType,true)),true)),true), StructField(source_status_id,LongType,true), StructField(source_status_id_str,StringType,true), StructField(source_user_id,LongType,true), StructField(source_user_id_str,StringType,true), StructField(type,StringType,true), StructField(url,StringType,true), StructField(video_info,StructType(StructField(aspect_ratio,ArrayType(IntegerType,true),true), StructField(duration_millis,IntegerType,true), StructField(variants,ArrayType(StructType(StructField(bitrate,IntegerType,true), StructField(content_type,StringType,true), StructField(url,StringType,true)),true),true)),true)),true),true), StructField(symbols,ArrayType(StructType(StructField(text,StringType,true), StructField(indices,ArrayType(IntegerType,true),true)),true),true), StructField(urls,ArrayType(StructType(StructField(url,StringType,true), StructField(expanded_url,StringType,true), StructField(display_url,StringType,true), StructField(indices,ArrayType(IntegerType,true),true)),true),true), StructField(user_mentions,ArrayType(StructType(StructField(screen_name,StringType,true), StructField(name,StringType,true), StructField(id,LongType,true), StructField(id_str,StringType,true), StructField(indices,ArrayType(IntegerType,true),true)),true),true)),true), StructField(extended_entities,StructType(StructField(media,ArrayType(StructType(StructField(additional_media_info,StructType(StructField(description,StringType,true), StructField(embeddable,BooleanType,true), StructField(monetizable,BooleanType,true), StructField(title,StringType,true)),true), StructField(display_url,StringType,true), StructField(expanded_url,StringType,true), StructField(id,LongType,true), StructField(id_str,StringType,true), StructField(indices,ArrayType(IntegerType,true),true), StructField(media_url,StringType,true), StructField(media_url_https,StringType,true), StructField(sizes,StructType(StructField(large,StructType(StructField(w,IntegerType,true), StructField(h,IntegerType,true), StructField(resize,StringType,true)),true), StructField(medium,StructType(StructField(w,IntegerType,true), StructField(h,IntegerType,true), StructField(resize,StringType,true)),true), StructField(small,StructType(StructField(w,IntegerType,true), StructField(h,IntegerType,true), StructField(resize,StringType,true)),true), StructField(thumb,StructType(StructField(w,IntegerType,true), StructField(h,IntegerType,true), StructField(resize,StringType,true)),true)),true), StructField(source_status_id,LongType,true), StructField(source_status_id_str,StringType,true), StructField(source_user_id,LongType,true), StructField(source_user_id_str,StringType,true), StructField(type,StringType,true), StructField(url,StringType,true), StructField(video_info,StructType(StructField(aspect_ratio,ArrayType(IntegerType,true),true), StructField(duration_millis,IntegerType,true), StructField(variants,ArrayType(StructType(StructField(bitrate,IntegerType,true), StructField(content_type,StringType,true), StructField(url,StringType,true)),true),true)),true)),true),true)),true), StructField(full_text,StringType,true)),true), StructField(favorite_count,IntegerType,true), StructField(favorited,BooleanType,true), StructField(filter_level,StringType,true), StructField(geo,NullType,true), StructField(id,LongType,true), StructField(id_str,StringType,true), StructField(in_reply_to_screen_name,StringType,true), StructField(in_reply_to_status_id,LongType,true), StructField(in_reply_to_status_id_str,StringType,true), StructField(in_reply_to_user_id,LongType,true), StructField(in_reply_to_user_id_str,StringType,true), StructField(is_quote_status,BooleanType,true), StructField(lang,StringType,true), StructField(place,StructType(StructField(id,StringType,true), StructField(url,StringType,true), StructField(place_type,StringType,true), StructField(name,StringType,true), StructField(full_name,StringType,true), StructField(country_code,StringType,true), StructField(country,StringType,true), StructField(bounding_box,StructType(StructField(type,StringType,true), StructField(coordinates,ArrayType(ArrayType(ArrayType(DoubleType,true),true),true),true)),true)),true), StructField(possibly_sensitive,BooleanType,true), StructField(quote_count,IntegerType,true), StructField(quoted_status_id,LongType,true), StructField(quoted_status_id_str,StringType,true), StructField(reply_count,IntegerType,true), StructField(retweet_count,IntegerType,true), StructField(retweeted,BooleanType,true), StructField(source,StringType,true), StructField(text,StringType,true), StructField(truncated,BooleanType,true), StructField(user,StructType(StructField(contributors_enabled,BooleanType,true), StructField(created_at,StringType,true), StructField(default_profile,BooleanType,true), StructField(default_profile_image,BooleanType,true), StructField(description,StringType,true), StructField(favourites_count,IntegerType,true), StructField(follow_request_sent,NullType,true), StructField(followers_count,IntegerType,true), StructField(following,NullType,true), StructField(friends_count,IntegerType,true), StructField(geo_enabled,BooleanType,true), StructField(id,LongType,true), StructField(id_str,StringType,true), StructField(is_translator,BooleanType,true), StructField(lang,NullType,true), StructField(listed_count,IntegerType,true), StructField(location,StringType,true), StructField(name,StringType,true), StructField(notifications,NullType,true), StructField(profile_background_color,StringType,true), StructField(profile_background_image_url,StringType,true), StructField(profile_background_image_url_https,StringType,true), StructField(profile_background_tile,BooleanType,true), StructField(profile_banner_url,StringType,true), StructField(profile_image_url,StringType,true), StructField(profile_image_url_https,StringType,true), StructField(profile_link_color,StringType,true), StructField(profile_sidebar_border_color,StringType,true), StructField(profile_sidebar_fill_color,StringType,true), StructField(profile_text_color,StringType,true), StructField(profile_use_background_image,BooleanType,true), StructField(protected,BooleanType,true), StructField(screen_name,StringType,true), StructField(statuses_count,IntegerType,true), StructField(time_zone,NullType,true), StructField(translator_type,StringType,true), StructField(url,StringType,true), StructField(utc_offset,NullType,true), StructField(verified,BooleanType,true)),true)),true), StructField(quoted_status_id,LongType,true), StructField(quoted_status_id_str,StringType,true), StructField(quoted_status_permalink,StructType(StructField(url,StringType,true), StructField(expanded,StringType,true), StructField(display,StringType,true)),true), StructField(reply_count,IntegerType,true), StructField(retweet_count,IntegerType,true), StructField(retweeted,BooleanType,true), StructField(retweeted_status,StructType(StructField(contributors,NullType,true), StructField(coordinates,NullType,true), StructField(created_at,StringType,true), StructField(display_text_range,ArrayType(IntegerType,true),true), StructField(entities,StructType(StructField(hashtags,ArrayType(StructType(StructField(text,StringType,true), StructField(indices,ArrayType(IntegerType,true),true)),true),true), StructField(media,ArrayType(StructType(StructField(additional_media_info,StructType(StructField(description,StringType,true), StructField(embeddable,BooleanType,true), StructField(monetizable,BooleanType,true), StructField(title,StringType,true)),true), StructField(description,StringType,true), StructField(display_url,StringType,true), StructField(expanded_url,StringType,true), StructField(id,LongType,true), StructField(id_str,StringType,true), StructField(indices,ArrayType(IntegerType,true),true), StructField(media_url,StringType,true), StructField(media_url_https,StringType,true), StructField(sizes,StructType(StructField(large,StructType(StructField(w,IntegerType,true), StructField(h,IntegerType,true), StructField(resize,StringType,true)),true), StructField(medium,StructType(StructField(w,IntegerType,true), StructField(h,IntegerType,true), StructField(resize,StringType,true)),true), StructField(small,StructType(StructField(w,IntegerType,true), StructField(h,IntegerType,true), StructField(resize,StringType,true)),true), StructField(thumb,StructType(StructField(w,IntegerType,true), StructField(h,IntegerType,true), StructField(resize,StringType,true)),true)),true), StructField(source_status_id,LongType,true), StructField(source_status_id_str,StringType,true), StructField(source_user_id,LongType,true), StructField(source_user_id_str,StringType,true), StructField(type,StringType,true), StructField(url,StringType,true)),true),true), StructField(symbols,ArrayType(StructType(StructField(text,StringType,true), StructField(indices,ArrayType(IntegerType,true),true)),true),true), StructField(urls,ArrayType(StructType(StructField(url,StringType,true), StructField(expanded_url,StringType,true), StructField(display_url,StringType,true), StructField(indices,ArrayType(IntegerType,true),true)),true),true), StructField(user_mentions,ArrayType(StructType(StructField(screen_name,StringType,true), StructField(name,StringType,true), StructField(id,LongType,true), StructField(id_str,StringType,true), StructField(indices,ArrayType(IntegerType,true),true)),true),true)),true), StructField(extended_entities,StructType(StructField(media,ArrayType(StructType(StructField(additional_media_info,StructType(StructField(description,StringType,true), StructField(embeddable,BooleanType,true), StructField(monetizable,BooleanType,true), StructField(title,StringType,true)),true), StructField(description,StringType,true), StructField(display_url,StringType,true), StructField(expanded_url,StringType,true), StructField(id,LongType,true), StructField(id_str,StringType,true), StructField(indices,ArrayType(IntegerType,true),true), StructField(media_url,StringType,true), StructField(media_url_https,StringType,true), StructField(sizes,StructType(StructField(large,StructType(StructField(w,IntegerType,true), StructField(h,IntegerType,true), StructField(resize,StringType,true)),true), StructField(medium,StructType(StructField(w,IntegerType,true), StructField(h,IntegerType,true), StructField(resize,StringType,true)),true), StructField(small,StructType(StructField(w,IntegerType,true), StructField(h,IntegerType,true), StructField(resize,StringType,true)),true), StructField(thumb,StructType(StructField(w,IntegerType,true), StructField(h,IntegerType,true), StructField(resize,StringType,true)),true)),true), StructField(source_status_id,LongType,true), StructField(source_status_id_str,StringType,true), StructField(source_user_id,LongType,true), StructField(source_user_id_str,StringType,true), StructField(type,StringType,true), StructField(url,StringType,true), StructField(video_info,StructType(StructField(aspect_ratio,ArrayType(IntegerType,true),true), StructField(duration_millis,IntegerType,true), StructField(variants,ArrayType(StructType(StructField(bitrate,IntegerType,true), StructField(content_type,StringType,true), StructField(url,StringType,true)),true),true)),true)),true),true)),true), StructField(extended_tweet,StructType(StructField(display_text_range,ArrayType(IntegerType,true),true), StructField(entities,StructType(StructField(hashtags,ArrayType(StructType(StructField(text,StringType,true), StructField(indices,ArrayType(IntegerType,true),true)),true),true), StructField(media,ArrayType(StructType(StructField(additional_media_info,StructType(StructField(description,StringType,true), StructField(embeddable,BooleanType,true), StructField(monetizable,BooleanType,true), StructField(title,StringType,true)),true), StructField(description,StringType,true), StructField(display_url,StringType,true), StructField(expanded_url,StringType,true), StructField(id,LongType,true), StructField(id_str,StringType,true), StructField(indices,ArrayType(IntegerType,true),true), StructField(media_url,StringType,true), StructField(media_url_https,StringType,true), StructField(sizes,StructType(StructField(large,StructType(StructField(w,IntegerType,true), StructField(h,IntegerType,true), StructField(resize,StringType,true)),true), StructField(medium,StructType(StructField(w,IntegerType,true), StructField(h,IntegerType,true), StructField(resize,StringType,true)),true), StructField(small,StructType(StructField(w,IntegerType,true), StructField(h,IntegerType,true), StructField(resize,StringType,true)),true), StructField(thumb,StructType(StructField(w,IntegerType,true), StructField(h,IntegerType,true), StructField(resize,StringType,true)),true)),true), StructField(source_status_id,LongType,true), StructField(source_status_id_str,StringType,true), StructField(source_user_id,LongType,true), StructField(source_user_id_str,StringType,true), StructField(type,StringType,true), StructField(url,StringType,true), StructField(video_info,StructType(StructField(aspect_ratio,ArrayType(IntegerType,true),true), StructField(duration_millis,IntegerType,true), StructField(variants,ArrayType(StructType(StructField(bitrate,IntegerType,true), StructField(content_type,StringType,true), StructField(url,StringType,true)),true),true)),true)),true),true), StructField(symbols,ArrayType(StructType(StructField(text,StringType,true), StructField(indices,ArrayType(IntegerType,true),true)),true),true), StructField(urls,ArrayType(StructType(StructField(url,StringType,true), StructField(expanded_url,StringType,true), StructField(display_url,StringType,true), StructField(indices,ArrayType(IntegerType,true),true)),true),true), StructField(user_mentions,ArrayType(StructType(StructField(screen_name,StringType,true), StructField(name,StringType,true), StructField(id,LongType,true), StructField(id_str,StringType,true), StructField(indices,ArrayType(IntegerType,true),true)),true),true)),true), StructField(extended_entities,StructType(StructField(media,ArrayType(StructType(StructField(additional_media_info,StructType(StructField(description,StringType,true), StructField(embeddable,BooleanType,true), StructField(monetizable,BooleanType,true), StructField(title,StringType,true)),true), StructField(description,StringType,true), StructField(display_url,StringType,true), StructField(expanded_url,StringType,true), StructField(id,LongType,true), StructField(id_str,StringType,true), StructField(indices,ArrayType(IntegerType,true),true), StructField(media_url,StringType,true), StructField(media_url_https,StringType,true), StructField(sizes,StructType(StructField(large,StructType(StructField(w,IntegerType,true), StructField(h,IntegerType,true), StructField(resize,StringType,true)),true), StructField(medium,StructType(StructField(w,IntegerType,true), StructField(h,IntegerType,true), StructField(resize,StringType,true)),true), StructField(small,StructType(StructField(w,IntegerType,true), StructField(h,IntegerType,true), StructField(resize,StringType,true)),true), StructField(thumb,StructType(StructField(w,IntegerType,true), StructField(h,IntegerType,true), StructField(resize,StringType,true)),true)),true), StructField(source_status_id,LongType,true), StructField(source_status_id_str,StringType,true), StructField(source_user_id,LongType,true), StructField(source_user_id_str,StringType,true), StructField(type,StringType,true), StructField(url,StringType,true), StructField(video_info,StructType(StructField(aspect_ratio,ArrayType(IntegerType,true),true), StructField(duration_millis,IntegerType,true), StructField(variants,ArrayType(StructType(StructField(bitrate,IntegerType,true), StructField(content_type,StringType,true), StructField(url,StringType,true)),true),true)),true)),true),true)),true), StructField(full_text,StringType,true)),true), StructField(favorite_count,IntegerType,true), StructField(favorited,BooleanType,true), StructField(filter_level,StringType,true), StructField(geo,NullType,true), StructField(id,LongType,true), StructField(id_str,StringType,true), StructField(in_reply_to_screen_name,StringType,true), StructField(in_reply_to_status_id,LongType,true), StructField(in_reply_to_status_id_str,StringType,true), StructField(in_reply_to_user_id,LongType,true), StructField(in_reply_to_user_id_str,StringType,true), StructField(is_quote_status,BooleanType,true), StructField(lang,StringType,true), StructField(place,StructType(StructField(id,StringType,true), StructField(url,StringType,true), StructField(place_type,StringType,true), StructField(name,StringType,true), StructField(full_name,StringType,true), StructField(country_code,StringType,true), StructField(country,StringType,true), StructField(bounding_box,StructType(StructField(type,StringType,true), StructField(coordinates,ArrayType(ArrayType(ArrayType(DoubleType,true),true),true),true)),true)),true), StructField(possibly_sensitive,BooleanType,true), StructField(quote_count,IntegerType,true), StructField(quoted_status,StructType(StructField(contributors,NullType,true), StructField(coordinates,NullType,true), StructField(created_at,StringType,true), StructField(display_text_range,ArrayType(IntegerType,true),true), StructField(entities,StructType(StructField(hashtags,ArrayType(StructType(StructField(text,StringType,true), StructField(indices,ArrayType(IntegerType,true),true)),true),true), StructField(media,ArrayType(StructType(StructField(additional_media_info,StructType(StructField(description,StringType,true), StructField(embeddable,BooleanType,true), StructField(monetizable,BooleanType,true), StructField(title,StringType,true)),true), StructField(display_url,StringType,true), StructField(expanded_url,StringType,true), StructField(id,LongType,true), StructField(id_str,StringType,true), StructField(indices,ArrayType(IntegerType,true),true), StructField(media_url,StringType,true), StructField(media_url_https,StringType,true), StructField(sizes,StructType(StructField(large,StructType(StructField(w,IntegerType,true), StructField(h,IntegerType,true), StructField(resize,StringType,true)),true), StructField(medium,StructType(StructField(w,IntegerType,true), StructField(h,IntegerType,true), StructField(resize,StringType,true)),true), StructField(small,StructType(StructField(w,IntegerType,true), StructField(h,IntegerType,true), StructField(resize,StringType,true)),true), StructField(thumb,StructType(StructField(w,IntegerType,true), StructField(h,IntegerType,true), StructField(resize,StringType,true)),true)),true), StructField(source_status_id,LongType,true), StructField(source_status_id_str,StringType,true), StructField(source_user_id,LongType,true), StructField(source_user_id_str,StringType,true), StructField(type,StringType,true), StructField(url,StringType,true)),true),true), StructField(symbols,ArrayType(StructType(StructField(text,StringType,true), StructField(indices,ArrayType(IntegerType,true),true)),true),true), StructField(urls,ArrayType(StructType(StructField(url,StringType,true), StructField(expanded_url,StringType,true), StructField(display_url,StringType,true), StructField(indices,ArrayType(IntegerType,true),true)),true),true), StructField(user_mentions,ArrayType(StructType(StructField(screen_name,StringType,true), StructField(name,StringType,true), StructField(id,LongType,true), StructField(id_str,StringType,true), StructField(indices,ArrayType(IntegerType,true),true)),true),true)),true), StructField(extended_entities,StructType(StructField(media,ArrayType(StructType(StructField(additional_media_info,StructType(StructField(description,StringType,true), StructField(embeddable,BooleanType,true), StructField(monetizable,BooleanType,true), StructField(title,StringType,true)),true), StructField(display_url,StringType,true), StructField(expanded_url,StringType,true), StructField(id,LongType,true), StructField(id_str,StringType,true), StructField(indices,ArrayType(IntegerType,true),true), StructField(media_url,StringType,true), StructField(media_url_https,StringType,true), StructField(sizes,StructType(StructField(large,StructType(StructField(w,IntegerType,true), StructField(h,IntegerType,true), StructField(resize,StringType,true)),true), StructField(medium,StructType(StructField(w,IntegerType,true), StructField(h,IntegerType,true), StructField(resize,StringType,true)),true), StructField(small,StructType(StructField(w,IntegerType,true), StructField(h,IntegerType,true), StructField(resize,StringType,true)),true), StructField(thumb,StructType(StructField(w,IntegerType,true), StructField(h,IntegerType,true), StructField(resize,StringType,true)),true)),true), StructField(source_status_id,LongType,true), StructField(source_status_id_str,StringType,true), StructField(source_user_id,LongType,true), StructField(source_user_id_str,StringType,true), StructField(type,StringType,true), StructField(url,StringType,true), StructField(video_info,StructType(StructField(aspect_ratio,ArrayType(IntegerType,true),true), StructField(duration_millis,IntegerType,true), StructField(variants,ArrayType(StructType(StructField(bitrate,IntegerType,true), StructField(content_type,StringType,true), StructField(url,StringType,true)),true),true)),true)),true),true)),true), StructField(extended_tweet,StructType(StructField(display_text_range,ArrayType(IntegerType,true),true), StructField(entities,StructType(StructField(hashtags,ArrayType(StructType(StructField(text,StringType,true), StructField(indices,ArrayType(IntegerType,true),true)),true),true), StructField(media,ArrayType(StructType(StructField(additional_media_info,StructType(StructField(description,StringType,true), StructField(embeddable,BooleanType,true), StructField(monetizable,BooleanType,true), StructField(title,StringType,true)),true), StructField(display_url,StringType,true), StructField(expanded_url,StringType,true), StructField(id,LongType,true), StructField(id_str,StringType,true), StructField(indices,ArrayType(IntegerType,true),true), StructField(media_url,StringType,true), StructField(media_url_https,StringType,true), StructField(sizes,StructType(StructField(large,StructType(StructField(w,IntegerType,true), StructField(h,IntegerType,true), StructField(resize,StringType,true)),true), StructField(medium,StructType(StructField(w,IntegerType,true), StructField(h,IntegerType,true), StructField(resize,StringType,true)),true), StructField(small,StructType(StructField(w,IntegerType,true), StructField(h,IntegerType,true), StructField(resize,StringType,true)),true), StructField(thumb,StructType(StructField(w,IntegerType,true), StructField(h,IntegerType,true), StructField(resize,StringType,true)),true)),true), StructField(source_status_id,LongType,true), StructField(source_status_id_str,StringType,true), StructField(source_user_id,LongType,true), StructField(source_user_id_str,StringType,true), StructField(type,StringType,true), StructField(url,StringType,true), StructField(video_info,StructType(StructField(aspect_ratio,ArrayType(IntegerType,true),true), StructField(duration_millis,IntegerType,true), StructField(variants,ArrayType(StructType(StructField(bitrate,IntegerType,true), StructField(content_type,StringType,true), StructField(url,StringType,true)),true),true)),true)),true),true), StructField(symbols,ArrayType(StructType(StructField(text,StringType,true), StructField(indices,ArrayType(IntegerType,true),true)),true),true), StructField(urls,ArrayType(StructType(StructField(url,StringType,true), StructField(expanded_url,StringType,true), StructField(display_url,StringType,true), StructField(indices,ArrayType(IntegerType,true),true)),true),true), StructField(user_mentions,ArrayType(StructType(StructField(screen_name,StringType,true), StructField(name,StringType,true), StructField(id,LongType,true), StructField(id_str,StringType,true), StructField(indices,ArrayType(IntegerType,true),true)),true),true)),true), StructField(extended_entities,StructType(StructField(media,ArrayType(StructType(StructField(additional_media_info,StructType(StructField(description,StringType,true), StructField(embeddable,BooleanType,true), StructField(monetizable,BooleanType,true), StructField(title,StringType,true)),true), StructField(display_url,StringType,true), StructField(expanded_url,StringType,true), StructField(id,LongType,true), StructField(id_str,StringType,true), StructField(indices,ArrayType(IntegerType,true),true), StructField(media_url,StringType,true), StructField(media_url_https,StringType,true), StructField(sizes,StructType(StructField(large,StructType(StructField(w,IntegerType,true), StructField(h,IntegerType,true), StructField(resize,StringType,true)),true), StructField(medium,StructType(StructField(w,IntegerType,true), StructField(h,IntegerType,true), StructField(resize,StringType,true)),true), StructField(small,StructType(StructField(w,IntegerType,true), StructField(h,IntegerType,true), StructField(resize,StringType,true)),true), StructField(thumb,StructType(StructField(w,IntegerType,true), StructField(h,IntegerType,true), StructField(resize,StringType,true)),true)),true), StructField(source_status_id,LongType,true), StructField(source_status_id_str,StringType,true), StructField(source_user_id,LongType,true), StructField(source_user_id_str,StringType,true), StructField(type,StringType,true), StructField(url,StringType,true), StructField(video_info,StructType(StructField(aspect_ratio,ArrayType(IntegerType,true),true), StructField(duration_millis,IntegerType,true), StructField(variants,ArrayType(StructType(StructField(bitrate,IntegerType,true), StructField(content_type,StringType,true), StructField(url,StringType,true)),true),true)),true)),true),true)),true), StructField(full_text,StringType,true)),true), StructField(favorite_count,IntegerType,true), StructField(favorited,BooleanType,true), StructField(filter_level,StringType,true), StructField(geo,NullType,true), StructField(id,LongType,true), StructField(id_str,StringType,true), StructField(in_reply_to_screen_name,StringType,true), StructField(in_reply_to_status_id,LongType,true), StructField(in_reply_to_status_id_str,StringType,true), StructField(in_reply_to_user_id,LongType,true), StructField(in_reply_to_user_id_str,StringType,true), StructField(is_quote_status,BooleanType,true), StructField(lang,StringType,true), StructField(place,StructType(StructField(id,StringType,true), StructField(url,StringType,true), StructField(place_type,StringType,true), StructField(name,StringType,true), StructField(full_name,StringType,true), StructField(country_code,StringType,true), StructField(country,StringType,true), StructField(bounding_box,StructType(StructField(type,StringType,true), StructField(coordinates,ArrayType(ArrayType(ArrayType(DoubleType,true),true),true),true)),true)),true), StructField(possibly_sensitive,BooleanType,true), StructField(quote_count,IntegerType,true), StructField(quoted_status_id,LongType,true), StructField(quoted_status_id_str,StringType,true), StructField(reply_count,IntegerType,true), StructField(retweet_count,IntegerType,true), StructField(retweeted,BooleanType,true), StructField(source,StringType,true), StructField(text,StringType,true), StructField(truncated,BooleanType,true), StructField(user,StructType(StructField(contributors_enabled,BooleanType,true), StructField(created_at,StringType,true), StructField(default_profile,BooleanType,true), StructField(default_profile_image,BooleanType,true), StructField(description,StringType,true), StructField(favourites_count,IntegerType,true), StructField(follow_request_sent,NullType,true), StructField(followers_count,IntegerType,true), StructField(following,NullType,true), StructField(friends_count,IntegerType,true), StructField(geo_enabled,BooleanType,true), StructField(id,LongType,true), StructField(id_str,StringType,true), StructField(is_translator,BooleanType,true), StructField(lang,NullType,true), StructField(listed_count,IntegerType,true), StructField(location,StringType,true), StructField(name,StringType,true), StructField(notifications,NullType,true), StructField(profile_background_color,StringType,true), StructField(profile_background_image_url,StringType,true), StructField(profile_background_image_url_https,StringType,true), StructField(profile_background_tile,BooleanType,true), StructField(profile_banner_url,StringType,true), StructField(profile_image_url,StringType,true), StructField(profile_image_url_https,StringType,true), StructField(profile_link_color,StringType,true), StructField(profile_sidebar_border_color,StringType,true), StructField(profile_sidebar_fill_color,StringType,true), StructField(profile_text_color,StringType,true), StructField(profile_use_background_image,BooleanType,true), StructField(protected,BooleanType,true), StructField(screen_name,StringType,true), StructField(statuses_count,IntegerType,true), StructField(time_zone,NullType,true), StructField(translator_type,StringType,true), StructField(url,StringType,true), StructField(utc_offset,NullType,true), StructField(verified,BooleanType,true)),true)),true), StructField(quoted_status_id,LongType,true), StructField(quoted_status_id_str,StringType,true), StructField(quoted_status_permalink,StructType(StructField(url,StringType,true), StructField(expanded,StringType,true), StructField(display,StringType,true)),true), StructField(reply_count,IntegerType,true), StructField(retweet_count,IntegerType,true), StructField(retweeted,BooleanType,true), StructField(source,StringType,true), StructField(text,StringType,true), StructField(truncated,BooleanType,true), StructField(user,StructType(StructField(contributors_enabled,BooleanType,true), StructField(created_at,StringType,true), StructField(default_profile,BooleanType,true), StructField(default_profile_image,BooleanType,true), StructField(description,StringType,true), StructField(favourites_count,IntegerType,true), StructField(follow_request_sent,NullType,true), StructField(followers_count,IntegerType,true), StructField(following,NullType,true), StructField(friends_count,IntegerType,true), StructField(geo_enabled,BooleanType,true), StructField(id,LongType,true), StructField(id_str,StringType,true), StructField(is_translator,BooleanType,true), StructField(lang,NullType,true), StructField(listed_count,IntegerType,true), StructField(location,StringType,true), StructField(name,StringType,true), StructField(notifications,NullType,true), StructField(profile_background_color,StringType,true), StructField(profile_background_image_url,StringType,true), StructField(profile_background_image_url_https,StringType,true), StructField(profile_background_tile,BooleanType,true), StructField(profile_banner_url,StringType,true), StructField(profile_image_url,StringType,true), StructField(profile_image_url_https,StringType,true), StructField(profile_link_color,StringType,true), StructField(profile_sidebar_border_color,StringType,true), StructField(profile_sidebar_fill_color,StringType,true), StructField(profile_text_color,StringType,true), StructField(profile_use_background_image,BooleanType,true), StructField(protected,BooleanType,true), StructField(screen_name,StringType,true), StructField(statuses_count,IntegerType,true), StructField(time_zone,NullType,true), StructField(translator_type,StringType,true), StructField(url,StringType,true), StructField(utc_offset,NullType,true), StructField(verified,BooleanType,true)),true), StructField(withheld_in_countries,ArrayType(StringType,true),true)),true), StructField(source,StringType,true), StructField(text,StringType,true), StructField(timestamp_ms,StringType,true), StructField(truncated,BooleanType,true), StructField(user,StructType(StructField(contributors_enabled,BooleanType,true), StructField(created_at,StringType,true), StructField(default_profile,BooleanType,true), StructField(default_profile_image,BooleanType,true), StructField(description,StringType,true), StructField(favourites_count,IntegerType,true), StructField(follow_request_sent,NullType,true), StructField(followers_count,IntegerType,true), StructField(following,NullType,true), StructField(friends_count,IntegerType,true), StructField(geo_enabled,BooleanType,true), StructField(id,LongType,true), StructField(id_str,StringType,true), StructField(is_translator,BooleanType,true), StructField(lang,NullType,true), StructField(listed_count,IntegerType,true), StructField(location,StringType,true), StructField(name,StringType,true), StructField(notifications,NullType,true), StructField(profile_background_color,StringType,true), StructField(profile_background_image_url,StringType,true), StructField(profile_background_image_url_https,StringType,true), StructField(profile_background_tile,BooleanType,true), StructField(profile_banner_url,StringType,true), StructField(profile_image_url,StringType,true), StructField(profile_image_url_https,StringType,true), StructField(profile_link_color,StringType,true), StructField(profile_sidebar_border_color,StringType,true), StructField(profile_sidebar_fill_color,StringType,true), StructField(profile_text_color,StringType,true), StructField(profile_use_background_image,BooleanType,true), StructField(protected,BooleanType,true), StructField(screen_name,StringType,true), StructField(statuses_count,IntegerType,true), StructField(time_zone,NullType,true), StructField(translator_type,StringType,true), StructField(url,StringType,true), StructField(utc_offset,NullType,true), StructField(verified,BooleanType,true)),true), StructField(withheld_in_countries,ArrayType(StringType,true),true))))\n            +- Project [text#6867, tokens#6819]\n               +- Project [id#6841L, orignialText#6741, text#6867, UDF(text#6867) AS tokens#6819]\n                  +- Project [id#6841L, orignialText#6741, text#6867]\n                     +- SubqueryAlias text\n                        +- View (`text`, [id#6841L,orignialText#6741,text#6867])\n                           +- Project [id#6841L, orignialText#6741, text#6867]\n                              +- SubqueryAlias text\n                                 +- View (`text`, [id#6841L,orignialText#6741,text#6867])\n                                    +- Project [id#6841L, orignialText#6741, lower(trim(text#6745, None)) AS text#6867]\n                                       +- SubqueryAlias text\n                                          +- View (`text`, [id#6841L,orignialText#6741,text#6745])\n                                             +- Project [id#6841L, orignialText#6741, regexp_replace(text#6643, [^a-zA-Z0-9\\s], , 1) AS text#6745]\n                                                +- Project [id#6841L, text#6643 AS orignialText#6741, text#6643]\n                                                   +- SubqueryAlias text\n                                                      +- View (`text`, [id#6841L,text#6643])\n                                                         +- Distinct\n                                                            +- Project [id#6841L, text#6862 AS text#6643]\n                                                               +- SubqueryAlias en_tweets\n                                                                  +- View (`en_tweets`, [_id#6829,contributors#6830,coordinates#6831,created_at#6832,display_text_range#6833,entities#6834,extended_entities#6835,extended_tweet#6836,favorite_count#6837,favorited#6838,filter_level#6839,geo#6840,id#6841L,id_str#6842,in_reply_to_screen_name#6843,in_reply_to_status_id#6844L,in_reply_to_status_id_str#6845,in_reply_to_user_id#6846L,in_reply_to_user_id_str#6847,is_quote_status#6848,lang#6849,place#6850,possibly_sensitive#6851,quote_count#6852,quoted_status#6853,quoted_status_id#6854L,quoted_status_id_str#6855,quoted_status_permalink#6856,reply_count#6857,retweet_count#6858,retweeted#6859,retweeted_status#6860,source#6861,text#6862,timestamp_ms#6863,truncated#6864,user#6865,withheld_in_countries#6866])\n                                                                     +- Project [_id#6829, contributors#6830, coordinates#6831, created_at#6832, display_text_range#6833, entities#6834, extended_entities#6835, extended_tweet#6836, favorite_count#6837, favorited#6838, filter_level#6839, geo#6840, id#6841L, id_str#6842, in_reply_to_screen_name#6843, in_reply_to_status_id#6844L, in_reply_to_status_id_str#6845, in_reply_to_user_id#6846L, in_reply_to_user_id_str#6847, is_quote_status#6848, lang#6849, place#6850, possibly_sensitive#6851, quote_count#6852, ... 14 more fields]\n                                                                        +- Filter ((lang#6849 = en) AND text#6862 LIKE %euro%)\n                                                                           +- SubqueryAlias tweets\n                                                                              +- View (`tweets`, [_id#6829,contributors#6830,coordinates#6831,created_at#6832,display_text_range#6833,entities#6834,extended_entities#6835,extended_tweet#6836,favorite_count#6837,favorited#6838,filter_level#6839,geo#6840,id#6841L,id_str#6842,in_reply_to_screen_name#6843,in_reply_to_status_id#6844L,in_reply_to_status_id_str#6845,in_reply_to_user_id#6846L,in_reply_to_user_id_str#6847,is_quote_status#6848,lang#6849,place#6850,possibly_sensitive#6851,quote_count#6852,quoted_status#6853,quoted_status_id#6854L,quoted_status_id_str#6855,quoted_status_permalink#6856,reply_count#6857,retweet_count#6858,retweeted#6859,retweeted_status#6860,source#6861,text#6862,timestamp_ms#6863,truncated#6864,user#6865,withheld_in_countries#6866])\n                                                                                 +- Relation [_id#6829,contributors#6830,coordinates#6831,created_at#6832,display_text_range#6833,entities#6834,extended_entities#6835,extended_tweet#6836,favorite_count#6837,favorited#6838,filter_level#6839,geo#6840,id#6841L,id_str#6842,in_reply_to_screen_name#6843,in_reply_to_status_id#6844L,in_reply_to_status_id_str#6845,in_reply_to_user_id#6846L,in_reply_to_user_id_str#6847,is_quote_status#6848,lang#6849,place#6850,possibly_sensitive#6851,quote_count#6852,... 14 more fields] MongoRelation(MongoRDD[1118] at RDD at MongoRDD.scala:51,Some(StructType(StructField(_id,StructType(StructField(oid,StringType,true)),true), StructField(contributors,NullType,true), StructField(coordinates,NullType,true), StructField(created_at,StringType,true), StructField(display_text_range,ArrayType(IntegerType,true),true), StructField(entities,StructType(StructField(hashtags,ArrayType(StructType(StructField(text,StringType,true), StructField(indices,ArrayType(IntegerType,true),true)),true),true), StructField(media,ArrayType(StructType(StructField(additional_media_info,StructType(StructField(description,StringType,true), StructField(embeddable,BooleanType,true), StructField(monetizable,BooleanType,true), StructField(title,StringType,true)),true), StructField(description,StringType,true), StructField(display_url,StringType,true), StructField(expanded_url,StringType,true), StructField(id,LongType,true), StructField(id_str,StringType,true), StructField(indices,ArrayType(IntegerType,true),true), StructField(media_url,StringType,true), StructField(media_url_https,StringType,true), StructField(sizes,StructType(StructField(large,StructType(StructField(w,IntegerType,true), StructField(h,IntegerType,true), StructField(resize,StringType,true)),true), StructField(medium,StructType(StructField(w,IntegerType,true), StructField(h,IntegerType,true), StructField(resize,StringType,true)),true), StructField(small,StructType(StructField(w,IntegerType,true), StructField(h,IntegerType,true), StructField(resize,StringType,true)),true), StructField(thumb,StructType(StructField(w,IntegerType,true), StructField(h,IntegerType,true), StructField(resize,StringType,true)),true)),true), StructField(source_status_id,LongType,true), StructField(source_status_id_str,StringType,true), StructField(source_user_id,LongType,true), StructField(source_user_id_str,StringType,true), StructField(type,StringType,true), StructField(url,StringType,true)),true),true), StructField(symbols,ArrayType(StructType(StructField(text,StringType,true), StructField(indices,ArrayType(IntegerType,true),true)),true),true), StructField(urls,ArrayType(StructType(StructField(url,StringType,true), StructField(expanded_url,StringType,true), StructField(display_url,StringType,true), StructField(indices,ArrayType(IntegerType,true),true)),true),true), StructField(user_mentions,ArrayType(StructType(StructField(screen_name,StringType,true), StructField(name,StringType,true), StructField(id,LongType,true), StructField(id_str,StringType,true), StructField(indices,ArrayType(IntegerType,true),true)),true),true)),true), StructField(extended_entities,StructType(StructField(media,ArrayType(StructType(StructField(additional_media_info,StructType(StructField(description,StringType,true), StructField(embeddable,BooleanType,true), StructField(monetizable,BooleanType,true), StructField(title,StringType,true)),true), StructField(description,StringType,true), StructField(display_url,StringType,true), StructField(expanded_url,StringType,true), StructField(id,LongType,true), StructField(id_str,StringType,true), StructField(indices,ArrayType(IntegerType,true),true), StructField(media_url,StringType,true), StructField(media_url_https,StringType,true), StructField(sizes,StructType(StructField(large,StructType(StructField(w,IntegerType,true), StructField(h,IntegerType,true), StructField(resize,StringType,true)),true), StructField(medium,StructType(StructField(w,IntegerType,true), StructField(h,IntegerType,true), StructField(resize,StringType,true)),true), StructField(small,StructType(StructField(w,IntegerType,true), StructField(h,IntegerType,true), StructField(resize,StringType,true)),true), StructField(thumb,StructType(StructField(w,IntegerType,true), StructField(h,IntegerType,true), StructField(resize,StringType,true)),true)),true), StructField(source_status_id,LongType,true), StructField(source_status_id_str,StringType,true), StructField(source_user_id,LongType,true), StructField(source_user_id_str,StringType,true), StructField(type,StringType,true), StructField(url,StringType,true), StructField(video_info,StructType(StructField(aspect_ratio,ArrayType(IntegerType,true),true), StructField(duration_millis,IntegerType,true), StructField(variants,ArrayType(StructType(StructField(bitrate,IntegerType,true), StructField(content_type,StringType,true), StructField(url,StringType,true)),true),true)),true)),true),true)),true), StructField(extended_tweet,StructType(StructField(display_text_range,ArrayType(IntegerType,true),true), StructField(entities,StructType(StructField(hashtags,ArrayType(StructType(StructField(text,StringType,true), StructField(indices,ArrayType(IntegerType,true),true)),true),true), StructField(media,ArrayType(StructType(StructField(additional_media_info,StructType(StructField(description,StringType,true), StructField(embeddable,BooleanType,true), StructField(monetizable,BooleanType,true), StructField(title,StringType,true)),true), StructField(description,StringType,true), StructField(display_url,StringType,true), StructField(expanded_url,StringType,true), StructField(id,LongType,true), StructField(id_str,StringType,true), StructField(indices,ArrayType(IntegerType,true),true), StructField(media_url,StringType,true), StructField(media_url_https,StringType,true), StructField(sizes,StructType(StructField(large,StructType(StructField(w,IntegerType,true), StructField(h,IntegerType,true), StructField(resize,StringType,true)),true), StructField(medium,StructType(StructField(w,IntegerType,true), StructField(h,IntegerType,true), StructField(resize,StringType,true)),true), StructField(small,StructType(StructField(w,IntegerType,true), StructField(h,IntegerType,true), StructField(resize,StringType,true)),true), StructField(thumb,StructType(StructField(w,IntegerType,true), StructField(h,IntegerType,true), StructField(resize,StringType,true)),true)),true), StructField(type,StringType,true), StructField(url,StringType,true), StructField(video_info,StructType(StructField(aspect_ratio,ArrayType(IntegerType,true),true), StructField(duration_millis,IntegerType,true), StructField(variants,ArrayType(StructType(StructField(bitrate,IntegerType,true), StructField(content_type,StringType,true), StructField(url,StringType,true)),true),true)),true)),true),true), StructField(urls,ArrayType(StructType(StructField(url,StringType,true), StructField(expanded_url,StringType,true), StructField(display_url,StringType,true), StructField(indices,ArrayType(IntegerType,true),true)),true),true), StructField(user_mentions,ArrayType(StructType(StructField(screen_name,StringType,true), StructField(name,StringType,true), StructField(id,LongType,true), StructField(id_str,StringType,true), StructField(indices,ArrayType(IntegerType,true),true)),true),true)),true), StructField(extended_entities,StructType(StructField(media,ArrayType(StructType(StructField(additional_media_info,StructType(StructField(description,StringType,true), StructField(embeddable,BooleanType,true), StructField(monetizable,BooleanType,true), StructField(title,StringType,true)),true), StructField(description,StringType,true), StructField(display_url,StringType,true), StructField(expanded_url,StringType,true), StructField(id,LongType,true), StructField(id_str,StringType,true), StructField(indices,ArrayType(IntegerType,true),true), StructField(media_url,StringType,true), StructField(media_url_https,StringType,true), StructField(sizes,StructType(StructField(large,StructType(StructField(w,IntegerType,true), StructField(h,IntegerType,true), StructField(resize,StringType,true)),true), StructField(medium,StructType(StructField(w,IntegerType,true), StructField(h,IntegerType,true), StructField(resize,StringType,true)),true), StructField(small,StructType(StructField(w,IntegerType,true), StructField(h,IntegerType,true), StructField(resize,StringType,true)),true), StructField(thumb,StructType(StructField(w,IntegerType,true), StructField(h,IntegerType,true), StructField(resize,StringType,true)),true)),true), StructField(type,StringType,true), StructField(url,StringType,true), StructField(video_info,StructType(StructField(aspect_ratio,ArrayType(IntegerType,true),true), StructField(duration_millis,IntegerType,true), StructField(variants,ArrayType(StructType(StructField(bitrate,IntegerType,true), StructField(content_type,StringType,true), StructField(url,StringType,true)),true),true)),true)),true),true)),true), StructField(full_text,StringType,true)),true), StructField(favorite_count,IntegerType,true), StructField(favorited,BooleanType,true), StructField(filter_level,StringType,true), StructField(geo,NullType,true), StructField(id,LongType,true), StructField(id_str,StringType,true), StructField(in_reply_to_screen_name,StringType,true), StructField(in_reply_to_status_id,LongType,true), StructField(in_reply_to_status_id_str,StringType,true), StructField(in_reply_to_user_id,LongType,true), StructField(in_reply_to_user_id_str,StringType,true), StructField(is_quote_status,BooleanType,true), StructField(lang,StringType,true), StructField(place,StructType(StructField(id,StringType,true), StructField(url,StringType,true), StructField(place_type,StringType,true), StructField(name,StringType,true), StructField(full_name,StringType,true), StructField(country_code,StringType,true), StructField(country,StringType,true), StructField(bounding_box,StructType(StructField(type,StringType,true), StructField(coordinates,ArrayType(ArrayType(ArrayType(DoubleType,true),true),true),true)),true)),true), StructField(possibly_sensitive,BooleanType,true), StructField(quote_count,IntegerType,true), StructField(quoted_status,StructType(StructField(contributors,NullType,true), StructField(coordinates,NullType,true), StructField(created_at,StringType,true), StructField(display_text_range,ArrayType(IntegerType,true),true), StructField(entities,StructType(StructField(hashtags,ArrayType(StructType(StructField(text,StringType,true), StructField(indices,ArrayType(IntegerType,true),true)),true),true), StructField(media,ArrayType(StructType(StructField(additional_media_info,StructType(StructField(description,StringType,true), StructField(embeddable,BooleanType,true), StructField(monetizable,BooleanType,true), StructField(title,StringType,true)),true), StructField(description,StringType,true), StructField(display_url,StringType,true), StructField(expanded_url,StringType,true), StructField(id,LongType,true), StructField(id_str,StringType,true), StructField(indices,ArrayType(IntegerType,true),true), StructField(media_url,StringType,true), StructField(media_url_https,StringType,true), StructField(sizes,StructType(StructField(large,StructType(StructField(w,IntegerType,true), StructField(h,IntegerType,true), StructField(resize,StringType,true)),true), StructField(medium,StructType(StructField(w,IntegerType,true), StructField(h,IntegerType,true), StructField(resize,StringType,true)),true), StructField(small,StructType(StructField(w,IntegerType,true), StructField(h,IntegerType,true), StructField(resize,StringType,true)),true), StructField(thumb,StructType(StructField(w,IntegerType,true), StructField(h,IntegerType,true), StructField(resize,StringType,true)),true)),true), StructField(source_status_id,LongType,true), StructField(source_status_id_str,StringType,true), StructField(source_user_id,LongType,true), StructField(source_user_id_str,StringType,true), StructField(type,StringType,true), StructField(url,StringType,true)),true),true), StructField(symbols,ArrayType(StructType(StructField(text,StringType,true), StructField(indices,ArrayType(IntegerType,true),true)),true),true), StructField(urls,ArrayType(StructType(StructField(url,StringType,true), StructField(expanded_url,StringType,true), StructField(display_url,StringType,true), StructField(indices,ArrayType(IntegerType,true),true)),true),true), StructField(user_mentions,ArrayType(StructType(StructField(screen_name,StringType,true), StructField(name,StringType,true), StructField(id,LongType,true), StructField(id_str,StringType,true), StructField(indices,ArrayType(IntegerType,true),true)),true),true)),true), StructField(extended_entities,StructType(StructField(media,ArrayType(StructType(StructField(additional_media_info,StructType(StructField(description,StringType,true), StructField(embeddable,BooleanType,true), StructField(monetizable,BooleanType,true), StructField(title,StringType,true)),true), StructField(description,StringType,true), StructField(display_url,StringType,true), StructField(expanded_url,StringType,true), StructField(id,LongType,true), StructField(id_str,StringType,true), StructField(indices,ArrayType(IntegerType,true),true), StructField(media_url,StringType,true), StructField(media_url_https,StringType,true), StructField(sizes,StructType(StructField(large,StructType(StructField(w,IntegerType,true), StructField(h,IntegerType,true), StructField(resize,StringType,true)),true), StructField(medium,StructType(StructField(w,IntegerType,true), StructField(h,IntegerType,true), StructField(resize,StringType,true)),true), StructField(small,StructType(StructField(w,IntegerType,true), StructField(h,IntegerType,true), StructField(resize,StringType,true)),true), StructField(thumb,StructType(StructField(w,IntegerType,true), StructField(h,IntegerType,true), StructField(resize,StringType,true)),true)),true), StructField(source_status_id,LongType,true), StructField(source_status_id_str,StringType,true), StructField(source_user_id,LongType,true), StructField(source_user_id_str,StringType,true), StructField(type,StringType,true), StructField(url,StringType,true), StructField(video_info,StructType(StructField(aspect_ratio,ArrayType(IntegerType,true),true), StructField(duration_millis,IntegerType,true), StructField(variants,ArrayType(StructType(StructField(bitrate,IntegerType,true), StructField(content_type,StringType,true), StructField(url,StringType,true)),true),true)),true)),true),true)),true), StructField(extended_tweet,StructType(StructField(display_text_range,ArrayType(IntegerType,true),true), StructField(entities,StructType(StructField(hashtags,ArrayType(StructType(StructField(text,StringType,true), StructField(indices,ArrayType(IntegerType,true),true)),true),true), StructField(media,ArrayType(StructType(StructField(additional_media_info,StructType(StructField(description,StringType,true), StructField(embeddable,BooleanType,true), StructField(monetizable,BooleanType,true), StructField(title,StringType,true)),true), StructField(display_url,StringType,true), StructField(expanded_url,StringType,true), StructField(id,LongType,true), StructField(id_str,StringType,true), StructField(indices,ArrayType(IntegerType,true),true), StructField(media_url,StringType,true), StructField(media_url_https,StringType,true), StructField(sizes,StructType(StructField(large,StructType(StructField(w,IntegerType,true), StructField(h,IntegerType,true), StructField(resize,StringType,true)),true), StructField(medium,StructType(StructField(w,IntegerType,true), StructField(h,IntegerType,true), StructField(resize,StringType,true)),true), StructField(small,StructType(StructField(w,IntegerType,true), StructField(h,IntegerType,true), StructField(resize,StringType,true)),true), StructField(thumb,StructType(StructField(w,IntegerType,true), StructField(h,IntegerType,true), StructField(resize,StringType,true)),true)),true), StructField(source_status_id,LongType,true), StructField(source_status_id_str,StringType,true), StructField(source_user_id,LongType,true), StructField(source_user_id_str,StringType,true), StructField(type,StringType,true), StructField(url,StringType,true), StructField(video_info,StructType(StructField(aspect_ratio,ArrayType(IntegerType,true),true), StructField(duration_millis,IntegerType,true), StructField(variants,ArrayType(StructType(StructField(bitrate,IntegerType,true), StructField(content_type,StringType,true), StructField(url,StringType,true)),true),true)),true)),true),true), StructField(symbols,ArrayType(StructType(StructField(text,StringType,true), StructField(indices,ArrayType(IntegerType,true),true)),true),true), StructField(urls,ArrayType(StructType(StructField(url,StringType,true), StructField(expanded_url,StringType,true), StructField(display_url,StringType,true), StructField(indices,ArrayType(IntegerType,true),true)),true),true), StructField(user_mentions,ArrayType(StructType(StructField(screen_name,StringType,true), StructField(name,StringType,true), StructField(id,LongType,true), StructField(id_str,StringType,true), StructField(indices,ArrayType(IntegerType,true),true)),true),true)),true), StructField(extended_entities,StructType(StructField(media,ArrayType(StructType(StructField(additional_media_info,StructType(StructField(description,StringType,true), StructField(embeddable,BooleanType,true), StructField(monetizable,BooleanType,true), StructField(title,StringType,true)),true), StructField(display_url,StringType,true), StructField(expanded_url,StringType,true), StructField(id,LongType,true), StructField(id_str,StringType,true), StructField(indices,ArrayType(IntegerType,true),true), StructField(media_url,StringType,true), StructField(media_url_https,StringType,true), StructField(sizes,StructType(StructField(large,StructType(StructField(w,IntegerType,true), StructField(h,IntegerType,true), StructField(resize,StringType,true)),true), StructField(medium,StructType(StructField(w,IntegerType,true), StructField(h,IntegerType,true), StructField(resize,StringType,true)),true), StructField(small,StructType(StructField(w,IntegerType,true), StructField(h,IntegerType,true), StructField(resize,StringType,true)),true), StructField(thumb,StructType(StructField(w,IntegerType,true), StructField(h,IntegerType,true), StructField(resize,StringType,true)),true)),true), StructField(source_status_id,LongType,true), StructField(source_status_id_str,StringType,true), StructField(source_user_id,LongType,true), StructField(source_user_id_str,StringType,true), StructField(type,StringType,true), StructField(url,StringType,true), StructField(video_info,StructType(StructField(aspect_ratio,ArrayType(IntegerType,true),true), StructField(duration_millis,IntegerType,true), StructField(variants,ArrayType(StructType(StructField(bitrate,IntegerType,true), StructField(content_type,StringType,true), StructField(url,StringType,true)),true),true)),true)),true),true)),true), StructField(full_text,StringType,true)),true), StructField(favorite_count,IntegerType,true), StructField(favorited,BooleanType,true), StructField(filter_level,StringType,true), StructField(geo,NullType,true), StructField(id,LongType,true), StructField(id_str,StringType,true), StructField(in_reply_to_screen_name,StringType,true), StructField(in_reply_to_status_id,LongType,true), StructField(in_reply_to_status_id_str,StringType,true), StructField(in_reply_to_user_id,LongType,true), StructField(in_reply_to_user_id_str,StringType,true), StructField(is_quote_status,BooleanType,true), StructField(lang,StringType,true), StructField(place,StructType(StructField(id,StringType,true), StructField(url,StringType,true), StructField(place_type,StringType,true), StructField(name,StringType,true), StructField(full_name,StringType,true), StructField(country_code,StringType,true), StructField(country,StringType,true), StructField(bounding_box,StructType(StructField(type,StringType,true), StructField(coordinates,ArrayType(ArrayType(ArrayType(DoubleType,true),true),true),true)),true)),true), StructField(possibly_sensitive,BooleanType,true), StructField(quote_count,IntegerType,true), StructField(quoted_status_id,LongType,true), StructField(quoted_status_id_str,StringType,true), StructField(reply_count,IntegerType,true), StructField(retweet_count,IntegerType,true), StructField(retweeted,BooleanType,true), StructField(source,StringType,true), StructField(text,StringType,true), StructField(truncated,BooleanType,true), StructField(user,StructType(StructField(contributors_enabled,BooleanType,true), StructField(created_at,StringType,true), StructField(default_profile,BooleanType,true), StructField(default_profile_image,BooleanType,true), StructField(description,StringType,true), StructField(favourites_count,IntegerType,true), StructField(follow_request_sent,NullType,true), StructField(followers_count,IntegerType,true), StructField(following,NullType,true), StructField(friends_count,IntegerType,true), StructField(geo_enabled,BooleanType,true), StructField(id,LongType,true), StructField(id_str,StringType,true), StructField(is_translator,BooleanType,true), StructField(lang,NullType,true), StructField(listed_count,IntegerType,true), StructField(location,StringType,true), StructField(name,StringType,true), StructField(notifications,NullType,true), StructField(profile_background_color,StringType,true), StructField(profile_background_image_url,StringType,true), StructField(profile_background_image_url_https,StringType,true), StructField(profile_background_tile,BooleanType,true), StructField(profile_banner_url,StringType,true), StructField(profile_image_url,StringType,true), StructField(profile_image_url_https,StringType,true), StructField(profile_link_color,StringType,true), StructField(profile_sidebar_border_color,StringType,true), StructField(profile_sidebar_fill_color,StringType,true), StructField(profile_text_color,StringType,true), StructField(profile_use_background_image,BooleanType,true), StructField(protected,BooleanType,true), StructField(screen_name,StringType,true), StructField(statuses_count,IntegerType,true), StructField(time_zone,NullType,true), StructField(translator_type,StringType,true), StructField(url,StringType,true), StructField(utc_offset,NullType,true), StructField(verified,BooleanType,true)),true)),true), StructField(quoted_status_id,LongType,true), StructField(quoted_status_id_str,StringType,true), StructField(quoted_status_permalink,StructType(StructField(url,StringType,true), StructField(expanded,StringType,true), StructField(display,StringType,true)),true), StructField(reply_count,IntegerType,true), StructField(retweet_count,IntegerType,true), StructField(retweeted,BooleanType,true), StructField(retweeted_status,StructType(StructField(contributors,NullType,true), StructField(coordinates,NullType,true), StructField(created_at,StringType,true), StructField(display_text_range,ArrayType(IntegerType,true),true), StructField(entities,StructType(StructField(hashtags,ArrayType(StructType(StructField(text,StringType,true), StructField(indices,ArrayType(IntegerType,true),true)),true),true), StructField(media,ArrayType(StructType(StructField(additional_media_info,StructType(StructField(description,StringType,true), StructField(embeddable,BooleanType,true), StructField(monetizable,BooleanType,true), StructField(title,StringType,true)),true), StructField(description,StringType,true), StructField(display_url,StringType,true), StructField(expanded_url,StringType,true), StructField(id,LongType,true), StructField(id_str,StringType,true), StructField(indices,ArrayType(IntegerType,true),true), StructField(media_url,StringType,true), StructField(media_url_https,StringType,true), StructField(sizes,StructType(StructField(large,StructType(StructField(w,IntegerType,true), StructField(h,IntegerType,true), StructField(resize,StringType,true)),true), StructField(medium,StructType(StructField(w,IntegerType,true), StructField(h,IntegerType,true), StructField(resize,StringType,true)),true), StructField(small,StructType(StructField(w,IntegerType,true), StructField(h,IntegerType,true), StructField(resize,StringType,true)),true), StructField(thumb,StructType(StructField(w,IntegerType,true), StructField(h,IntegerType,true), StructField(resize,StringType,true)),true)),true), StructField(source_status_id,LongType,true), StructField(source_status_id_str,StringType,true), StructField(source_user_id,LongType,true), StructField(source_user_id_str,StringType,true), StructField(type,StringType,true), StructField(url,StringType,true)),true),true), StructField(symbols,ArrayType(StructType(StructField(text,StringType,true), StructField(indices,ArrayType(IntegerType,true),true)),true),true), StructField(urls,ArrayType(StructType(StructField(url,StringType,true), StructField(expanded_url,StringType,true), StructField(display_url,StringType,true), StructField(indices,ArrayType(IntegerType,true),true)),true),true), StructField(user_mentions,ArrayType(StructType(StructField(screen_name,StringType,true), StructField(name,StringType,true), StructField(id,LongType,true), StructField(id_str,StringType,true), StructField(indices,ArrayType(IntegerType,true),true)),true),true)),true), StructField(extended_entities,StructType(StructField(media,ArrayType(StructType(StructField(additional_media_info,StructType(StructField(description,StringType,true), StructField(embeddable,BooleanType,true), StructField(monetizable,BooleanType,true), StructField(title,StringType,true)),true), StructField(description,StringType,true), StructField(display_url,StringType,true), StructField(expanded_url,StringType,true), StructField(id,LongType,true), StructField(id_str,StringType,true), StructField(indices,ArrayType(IntegerType,true),true), StructField(media_url,StringType,true), StructField(media_url_https,StringType,true), StructField(sizes,StructType(StructField(large,StructType(StructField(w,IntegerType,true), StructField(h,IntegerType,true), StructField(resize,StringType,true)),true), StructField(medium,StructType(StructField(w,IntegerType,true), StructField(h,IntegerType,true), StructField(resize,StringType,true)),true), StructField(small,StructType(StructField(w,IntegerType,true), StructField(h,IntegerType,true), StructField(resize,StringType,true)),true), StructField(thumb,StructType(StructField(w,IntegerType,true), StructField(h,IntegerType,true), StructField(resize,StringType,true)),true)),true), StructField(source_status_id,LongType,true), StructField(source_status_id_str,StringType,true), StructField(source_user_id,LongType,true), StructField(source_user_id_str,StringType,true), StructField(type,StringType,true), StructField(url,StringType,true), StructField(video_info,StructType(StructField(aspect_ratio,ArrayType(IntegerType,true),true), StructField(duration_millis,IntegerType,true), StructField(variants,ArrayType(StructType(StructField(bitrate,IntegerType,true), StructField(content_type,StringType,true), StructField(url,StringType,true)),true),true)),true)),true),true)),true), StructField(extended_tweet,StructType(StructField(display_text_range,ArrayType(IntegerType,true),true), StructField(entities,StructType(StructField(hashtags,ArrayType(StructType(StructField(text,StringType,true), StructField(indices,ArrayType(IntegerType,true),true)),true),true), StructField(media,ArrayType(StructType(StructField(additional_media_info,StructType(StructField(description,StringType,true), StructField(embeddable,BooleanType,true), StructField(monetizable,BooleanType,true), StructField(title,StringType,true)),true), StructField(description,StringType,true), StructField(display_url,StringType,true), StructField(expanded_url,StringType,true), StructField(id,LongType,true), StructField(id_str,StringType,true), StructField(indices,ArrayType(IntegerType,true),true), StructField(media_url,StringType,true), StructField(media_url_https,StringType,true), StructField(sizes,StructType(StructField(large,StructType(StructField(w,IntegerType,true), StructField(h,IntegerType,true), StructField(resize,StringType,true)),true), StructField(medium,StructType(StructField(w,IntegerType,true), StructField(h,IntegerType,true), StructField(resize,StringType,true)),true), StructField(small,StructType(StructField(w,IntegerType,true), StructField(h,IntegerType,true), StructField(resize,StringType,true)),true), StructField(thumb,StructType(StructField(w,IntegerType,true), StructField(h,IntegerType,true), StructField(resize,StringType,true)),true)),true), StructField(source_status_id,LongType,true), StructField(source_status_id_str,StringType,true), StructField(source_user_id,LongType,true), StructField(source_user_id_str,StringType,true), StructField(type,StringType,true), StructField(url,StringType,true), StructField(video_info,StructType(StructField(aspect_ratio,ArrayType(IntegerType,true),true), StructField(duration_millis,IntegerType,true), StructField(variants,ArrayType(StructType(StructField(bitrate,IntegerType,true), StructField(content_type,StringType,true), StructField(url,StringType,true)),true),true)),true)),true),true), StructField(symbols,ArrayType(StructType(StructField(text,StringType,true), StructField(indices,ArrayType(IntegerType,true),true)),true),true), StructField(urls,ArrayType(StructType(StructField(url,StringType,true), StructField(expanded_url,StringType,true), StructField(display_url,StringType,true), StructField(indices,ArrayType(IntegerType,true),true)),true),true), StructField(user_mentions,ArrayType(StructType(StructField(screen_name,StringType,true), StructField(name,StringType,true), StructField(id,LongType,true), StructField(id_str,StringType,true), StructField(indices,ArrayType(IntegerType,true),true)),true),true)),true), StructField(extended_entities,StructType(StructField(media,ArrayType(StructType(StructField(additional_media_info,StructType(StructField(description,StringType,true), StructField(embeddable,BooleanType,true), StructField(monetizable,BooleanType,true), StructField(title,StringType,true)),true), StructField(description,StringType,true), StructField(display_url,StringType,true), StructField(expanded_url,StringType,true), StructField(id,LongType,true), StructField(id_str,StringType,true), StructField(indices,ArrayType(IntegerType,true),true), StructField(media_url,StringType,true), StructField(media_url_https,StringType,true), StructField(sizes,StructType(StructField(large,StructType(StructField(w,IntegerType,true), StructField(h,IntegerType,true), StructField(resize,StringType,true)),true), StructField(medium,StructType(StructField(w,IntegerType,true), StructField(h,IntegerType,true), StructField(resize,StringType,true)),true), StructField(small,StructType(StructField(w,IntegerType,true), StructField(h,IntegerType,true), StructField(resize,StringType,true)),true), StructField(thumb,StructType(StructField(w,IntegerType,true), StructField(h,IntegerType,true), StructField(resize,StringType,true)),true)),true), StructField(source_status_id,LongType,true), StructField(source_status_id_str,StringType,true), StructField(source_user_id,LongType,true), StructField(source_user_id_str,StringType,true), StructField(type,StringType,true), StructField(url,StringType,true), StructField(video_info,StructType(StructField(aspect_ratio,ArrayType(IntegerType,true),true), StructField(duration_millis,IntegerType,true), StructField(variants,ArrayType(StructType(StructField(bitrate,IntegerType,true), StructField(content_type,StringType,true), StructField(url,StringType,true)),true),true)),true)),true),true)),true), StructField(full_text,StringType,true)),true), StructField(favorite_count,IntegerType,true), StructField(favorited,BooleanType,true), StructField(filter_level,StringType,true), StructField(geo,NullType,true), StructField(id,LongType,true), StructField(id_str,StringType,true), StructField(in_reply_to_screen_name,StringType,true), StructField(in_reply_to_status_id,LongType,true), StructField(in_reply_to_status_id_str,StringType,true), StructField(in_reply_to_user_id,LongType,true), StructField(in_reply_to_user_id_str,StringType,true), StructField(is_quote_status,BooleanType,true), StructField(lang,StringType,true), StructField(place,StructType(StructField(id,StringType,true), StructField(url,StringType,true), StructField(place_type,StringType,true), StructField(name,StringType,true), StructField(full_name,StringType,true), StructField(country_code,StringType,true), StructField(country,StringType,true), StructField(bounding_box,StructType(StructField(type,StringType,true), StructField(coordinates,ArrayType(ArrayType(ArrayType(DoubleType,true),true),true),true)),true)),true), StructField(possibly_sensitive,BooleanType,true), StructField(quote_count,IntegerType,true), StructField(quoted_status,StructType(StructField(contributors,NullType,true), StructField(coordinates,NullType,true), StructField(created_at,StringType,true), StructField(display_text_range,ArrayType(IntegerType,true),true), StructField(entities,StructType(StructField(hashtags,ArrayType(StructType(StructField(text,StringType,true), StructField(indices,ArrayType(IntegerType,true),true)),true),true), StructField(media,ArrayType(StructType(StructField(additional_media_info,StructType(StructField(description,StringType,true), StructField(embeddable,BooleanType,true), StructField(monetizable,BooleanType,true), StructField(title,StringType,true)),true), StructField(display_url,StringType,true), StructField(expanded_url,StringType,true), StructField(id,LongType,true), StructField(id_str,StringType,true), StructField(indices,ArrayType(IntegerType,true),true), StructField(media_url,StringType,true), StructField(media_url_https,StringType,true), StructField(sizes,StructType(StructField(large,StructType(StructField(w,IntegerType,true), StructField(h,IntegerType,true), StructField(resize,StringType,true)),true), StructField(medium,StructType(StructField(w,IntegerType,true), StructField(h,IntegerType,true), StructField(resize,StringType,true)),true), StructField(small,StructType(StructField(w,IntegerType,true), StructField(h,IntegerType,true), StructField(resize,StringType,true)),true), StructField(thumb,StructType(StructField(w,IntegerType,true), StructField(h,IntegerType,true), StructField(resize,StringType,true)),true)),true), StructField(source_status_id,LongType,true), StructField(source_status_id_str,StringType,true), StructField(source_user_id,LongType,true), StructField(source_user_id_str,StringType,true), StructField(type,StringType,true), StructField(url,StringType,true)),true),true), StructField(symbols,ArrayType(StructType(StructField(text,StringType,true), StructField(indices,ArrayType(IntegerType,true),true)),true),true), StructField(urls,ArrayType(StructType(StructField(url,StringType,true), StructField(expanded_url,StringType,true), StructField(display_url,StringType,true), StructField(indices,ArrayType(IntegerType,true),true)),true),true), StructField(user_mentions,ArrayType(StructType(StructField(screen_name,StringType,true), StructField(name,StringType,true), StructField(id,LongType,true), StructField(id_str,StringType,true), StructField(indices,ArrayType(IntegerType,true),true)),true),true)),true), StructField(extended_entities,StructType(StructField(media,ArrayType(StructType(StructField(additional_media_info,StructType(StructField(description,StringType,true), StructField(embeddable,BooleanType,true), StructField(monetizable,BooleanType,true), StructField(title,StringType,true)),true), StructField(display_url,StringType,true), StructField(expanded_url,StringType,true), StructField(id,LongType,true), StructField(id_str,StringType,true), StructField(indices,ArrayType(IntegerType,true),true), StructField(media_url,StringType,true), StructField(media_url_https,StringType,true), StructField(sizes,StructType(StructField(large,StructType(StructField(w,IntegerType,true), StructField(h,IntegerType,true), StructField(resize,StringType,true)),true), StructField(medium,StructType(StructField(w,IntegerType,true), StructField(h,IntegerType,true), StructField(resize,StringType,true)),true), StructField(small,StructType(StructField(w,IntegerType,true), StructField(h,IntegerType,true), StructField(resize,StringType,true)),true), StructField(thumb,StructType(StructField(w,IntegerType,true), StructField(h,IntegerType,true), StructField(resize,StringType,true)),true)),true), StructField(source_status_id,LongType,true), StructField(source_status_id_str,StringType,true), StructField(source_user_id,LongType,true), StructField(source_user_id_str,StringType,true), StructField(type,StringType,true), StructField(url,StringType,true), StructField(video_info,StructType(StructField(aspect_ratio,ArrayType(IntegerType,true),true), StructField(duration_millis,IntegerType,true), StructField(variants,ArrayType(StructType(StructField(bitrate,IntegerType,true), StructField(content_type,StringType,true), StructField(url,StringType,true)),true),true)),true)),true),true)),true), StructField(extended_tweet,StructType(StructField(display_text_range,ArrayType(IntegerType,true),true), StructField(entities,StructType(StructField(hashtags,ArrayType(StructType(StructField(text,StringType,true), StructField(indices,ArrayType(IntegerType,true),true)),true),true), StructField(media,ArrayType(StructType(StructField(additional_media_info,StructType(StructField(description,StringType,true), StructField(embeddable,BooleanType,true), StructField(monetizable,BooleanType,true), StructField(title,StringType,true)),true), StructField(display_url,StringType,true), StructField(expanded_url,StringType,true), StructField(id,LongType,true), StructField(id_str,StringType,true), StructField(indices,ArrayType(IntegerType,true),true), StructField(media_url,StringType,true), StructField(media_url_https,StringType,true), StructField(sizes,StructType(StructField(large,StructType(StructField(w,IntegerType,true), StructField(h,IntegerType,true), StructField(resize,StringType,true)),true), StructField(medium,StructType(StructField(w,IntegerType,true), StructField(h,IntegerType,true), StructField(resize,StringType,true)),true), StructField(small,StructType(StructField(w,IntegerType,true), StructField(h,IntegerType,true), StructField(resize,StringType,true)),true), StructField(thumb,StructType(StructField(w,IntegerType,true), StructField(h,IntegerType,true), StructField(resize,StringType,true)),true)),true), StructField(source_status_id,LongType,true), StructField(source_status_id_str,StringType,true), StructField(source_user_id,LongType,true), StructField(source_user_id_str,StringType,true), StructField(type,StringType,true), StructField(url,StringType,true), StructField(video_info,StructType(StructField(aspect_ratio,ArrayType(IntegerType,true),true), StructField(duration_millis,IntegerType,true), StructField(variants,ArrayType(StructType(StructField(bitrate,IntegerType,true), StructField(content_type,StringType,true), StructField(url,StringType,true)),true),true)),true)),true),true), StructField(symbols,ArrayType(StructType(StructField(text,StringType,true), StructField(indices,ArrayType(IntegerType,true),true)),true),true), StructField(urls,ArrayType(StructType(StructField(url,StringType,true), StructField(expanded_url,StringType,true), StructField(display_url,StringType,true), StructField(indices,ArrayType(IntegerType,true),true)),true),true), StructField(user_mentions,ArrayType(StructType(StructField(screen_name,StringType,true), StructField(name,StringType,true), StructField(id,LongType,true), StructField(id_str,StringType,true), StructField(indices,ArrayType(IntegerType,true),true)),true),true)),true), StructField(extended_entities,StructType(StructField(media,ArrayType(StructType(StructField(additional_media_info,StructType(StructField(description,StringType,true), StructField(embeddable,BooleanType,true), StructField(monetizable,BooleanType,true), StructField(title,StringType,true)),true), StructField(display_url,StringType,true), StructField(expanded_url,StringType,true), StructField(id,LongType,true), StructField(id_str,StringType,true), StructField(indices,ArrayType(IntegerType,true),true), StructField(media_url,StringType,true), StructField(media_url_https,StringType,true), StructField(sizes,StructType(StructField(large,StructType(StructField(w,IntegerType,true), StructField(h,IntegerType,true), StructField(resize,StringType,true)),true), StructField(medium,StructType(StructField(w,IntegerType,true), StructField(h,IntegerType,true), StructField(resize,StringType,true)),true), StructField(small,StructType(StructField(w,IntegerType,true), StructField(h,IntegerType,true), StructField(resize,StringType,true)),true), StructField(thumb,StructType(StructField(w,IntegerType,true), StructField(h,IntegerType,true), StructField(resize,StringType,true)),true)),true), StructField(source_status_id,LongType,true), StructField(source_status_id_str,StringType,true), StructField(source_user_id,LongType,true), StructField(source_user_id_str,StringType,true), StructField(type,StringType,true), StructField(url,StringType,true), StructField(video_info,StructType(StructField(aspect_ratio,ArrayType(IntegerType,true),true), StructField(duration_millis,IntegerType,true), StructField(variants,ArrayType(StructType(StructField(bitrate,IntegerType,true), StructField(content_type,StringType,true), StructField(url,StringType,true)),true),true)),true)),true),true)),true), StructField(full_text,StringType,true)),true), StructField(favorite_count,IntegerType,true), StructField(favorited,BooleanType,true), StructField(filter_level,StringType,true), StructField(geo,NullType,true), StructField(id,LongType,true), StructField(id_str,StringType,true), StructField(in_reply_to_screen_name,StringType,true), StructField(in_reply_to_status_id,LongType,true), StructField(in_reply_to_status_id_str,StringType,true), StructField(in_reply_to_user_id,LongType,true), StructField(in_reply_to_user_id_str,StringType,true), StructField(is_quote_status,BooleanType,true), StructField(lang,StringType,true), StructField(place,StructType(StructField(id,StringType,true), StructField(url,StringType,true), StructField(place_type,StringType,true), StructField(name,StringType,true), StructField(full_name,StringType,true), StructField(country_code,StringType,true), StructField(country,StringType,true), StructField(bounding_box,StructType(StructField(type,StringType,true), StructField(coordinates,ArrayType(ArrayType(ArrayType(DoubleType,true),true),true),true)),true)),true), StructField(possibly_sensitive,BooleanType,true), StructField(quote_count,IntegerType,true), StructField(quoted_status_id,LongType,true), StructField(quoted_status_id_str,StringType,true), StructField(reply_count,IntegerType,true), StructField(retweet_count,IntegerType,true), StructField(retweeted,BooleanType,true), StructField(source,StringType,true), StructField(text,StringType,true), StructField(truncated,BooleanType,true), StructField(user,StructType(StructField(contributors_enabled,BooleanType,true), StructField(created_at,StringType,true), StructField(default_profile,BooleanType,true), StructField(default_profile_image,BooleanType,true), StructField(description,StringType,true), StructField(favourites_count,IntegerType,true), StructField(follow_request_sent,NullType,true), StructField(followers_count,IntegerType,true), StructField(following,NullType,true), StructField(friends_count,IntegerType,true), StructField(geo_enabled,BooleanType,true), StructField(id,LongType,true), StructField(id_str,StringType,true), StructField(is_translator,BooleanType,true), StructField(lang,NullType,true), StructField(listed_count,IntegerType,true), StructField(location,StringType,true), StructField(name,StringType,true), StructField(notifications,NullType,true), StructField(profile_background_color,StringType,true), StructField(profile_background_image_url,StringType,true), StructField(profile_background_image_url_https,StringType,true), StructField(profile_background_tile,BooleanType,true), StructField(profile_banner_url,StringType,true), StructField(profile_image_url,StringType,true), StructField(profile_image_url_https,StringType,true), StructField(profile_link_color,StringType,true), StructField(profile_sidebar_border_color,StringType,true), StructField(profile_sidebar_fill_color,StringType,true), StructField(profile_text_color,StringType,true), StructField(profile_use_background_image,BooleanType,true), StructField(protected,BooleanType,true), StructField(screen_name,StringType,true), StructField(statuses_count,IntegerType,true), StructField(time_zone,NullType,true), StructField(translator_type,StringType,true), StructField(url,StringType,true), StructField(utc_offset,NullType,true), StructField(verified,BooleanType,true)),true)),true), StructField(quoted_status_id,LongType,true), StructField(quoted_status_id_str,StringType,true), StructField(quoted_status_permalink,StructType(StructField(url,StringType,true), StructField(expanded,StringType,true), StructField(display,StringType,true)),true), StructField(reply_count,IntegerType,true), StructField(retweet_count,IntegerType,true), StructField(retweeted,BooleanType,true), StructField(source,StringType,true), StructField(text,StringType,true), StructField(truncated,BooleanType,true), StructField(user,StructType(StructField(contributors_enabled,BooleanType,true), StructField(created_at,StringType,true), StructField(default_profile,BooleanType,true), StructField(default_profile_image,BooleanType,true), StructField(description,StringType,true), StructField(favourites_count,IntegerType,true), StructField(follow_request_sent,NullType,true), StructField(followers_count,IntegerType,true), StructField(following,NullType,true), StructField(friends_count,IntegerType,true), StructField(geo_enabled,BooleanType,true), StructField(id,LongType,true), StructField(id_str,StringType,true), StructField(is_translator,BooleanType,true), StructField(lang,NullType,true), StructField(listed_count,IntegerType,true), StructField(location,StringType,true), StructField(name,StringType,true), StructField(notifications,NullType,true), StructField(profile_background_color,StringType,true), StructField(profile_background_image_url,StringType,true), StructField(profile_background_image_url_https,StringType,true), StructField(profile_background_tile,BooleanType,true), StructField(profile_banner_url,StringType,true), StructField(profile_image_url,StringType,true), StructField(profile_image_url_https,StringType,true), StructField(profile_link_color,StringType,true), StructField(profile_sidebar_border_color,StringType,true), StructField(profile_sidebar_fill_color,StringType,true), StructField(profile_text_color,StringType,true), StructField(profile_use_background_image,BooleanType,true), StructField(protected,BooleanType,true), StructField(screen_name,StringType,true), StructField(statuses_count,IntegerType,true), StructField(time_zone,NullType,true), StructField(translator_type,StringType,true), StructField(url,StringType,true), StructField(utc_offset,NullType,true), StructField(verified,BooleanType,true)),true), StructField(withheld_in_countries,ArrayType(StringType,true),true)),true), StructField(source,StringType,true), StructField(text,StringType,true), StructField(timestamp_ms,StringType,true), StructField(truncated,BooleanType,true), StructField(user,StructType(StructField(contributors_enabled,BooleanType,true), StructField(created_at,StringType,true), StructField(default_profile,BooleanType,true), StructField(default_profile_image,BooleanType,true), StructField(description,StringType,true), StructField(favourites_count,IntegerType,true), StructField(follow_request_sent,NullType,true), StructField(followers_count,IntegerType,true), StructField(following,NullType,true), StructField(friends_count,IntegerType,true), StructField(geo_enabled,BooleanType,true), StructField(id,LongType,true), StructField(id_str,StringType,true), StructField(is_translator,BooleanType,true), StructField(lang,NullType,true), StructField(listed_count,IntegerType,true), StructField(location,StringType,true), StructField(name,StringType,true), StructField(notifications,NullType,true), StructField(profile_background_color,StringType,true), StructField(profile_background_image_url,StringType,true), StructField(profile_background_image_url_https,StringType,true), StructField(profile_background_tile,BooleanType,true), StructField(profile_banner_url,StringType,true), StructField(profile_image_url,StringType,true), StructField(profile_image_url_https,StringType,true), StructField(profile_link_color,StringType,true), StructField(profile_sidebar_border_color,StringType,true), StructField(profile_sidebar_fill_color,StringType,true), StructField(profile_text_color,StringType,true), StructField(profile_use_background_image,BooleanType,true), StructField(protected,BooleanType,true), StructField(screen_name,StringType,true), StructField(statuses_count,IntegerType,true), StructField(time_zone,NullType,true), StructField(translator_type,StringType,true), StructField(url,StringType,true), StructField(utc_offset,NullType,true), StructField(verified,BooleanType,true)),true), StructField(withheld_in_countries,ArrayType(StringType,true),true))))\n"
     ]
    }
   ],
   "source": [
    "#dfWord = dfText.withColumn(\"Word\", explode(split(col(\"filtered\"), ' '))).groupBy(\"Word\").count().orderBy(desc(\"count\").limit(10))\n",
    "\n",
    "#dfWord.show()"
   ]
  },
  {
   "attachments": {},
   "cell_type": "markdown",
   "id": "911b9595",
   "metadata": {},
   "source": [
    "Now look at rare words "
   ]
  },
  {
   "cell_type": "code",
   "execution_count": 239,
   "id": "fec13397",
   "metadata": {
    "vscode": {
     "languageId": "python"
    }
   },
   "outputs": [
    {
     "ename": "TypeError",
     "evalue": "'Column' object is not callable",
     "output_type": "error",
     "traceback": [
      "\u001b[0;31m---------------------------------------------------------------------------\u001b[0m",
      "\u001b[0;31mTypeError\u001b[0m                                 Traceback (most recent call last)",
      "\u001b[0;32m/tmp/ipykernel_3064919/3434903083.py\u001b[0m in \u001b[0;36m<module>\u001b[0;34m\u001b[0m\n\u001b[0;32m----> 1\u001b[0;31m \u001b[0mdfWord\u001b[0m \u001b[0;34m=\u001b[0m \u001b[0mdfText\u001b[0m\u001b[0;34m.\u001b[0m\u001b[0mwithColumn\u001b[0m\u001b[0;34m(\u001b[0m\u001b[0;34m\"Word\"\u001b[0m\u001b[0;34m,\u001b[0m \u001b[0mexplode\u001b[0m\u001b[0;34m(\u001b[0m\u001b[0msplit\u001b[0m\u001b[0;34m(\u001b[0m\u001b[0mcol\u001b[0m\u001b[0;34m(\u001b[0m\u001b[0;34m\"text\"\u001b[0m\u001b[0;34m)\u001b[0m\u001b[0;34m,\u001b[0m \u001b[0;34m' '\u001b[0m\u001b[0;34m)\u001b[0m\u001b[0;34m)\u001b[0m\u001b[0;34m)\u001b[0m\u001b[0;34m.\u001b[0m\u001b[0mgroupBy\u001b[0m\u001b[0;34m(\u001b[0m\u001b[0;34m\"Word\"\u001b[0m\u001b[0;34m)\u001b[0m\u001b[0;34m.\u001b[0m\u001b[0mcount\u001b[0m\u001b[0;34m(\u001b[0m\u001b[0;34m)\u001b[0m\u001b[0;34m.\u001b[0m\u001b[0morderBy\u001b[0m\u001b[0;34m(\u001b[0m\u001b[0masc\u001b[0m\u001b[0;34m(\u001b[0m\u001b[0;34m\"count\"\u001b[0m\u001b[0;34m)\u001b[0m\u001b[0;34m.\u001b[0m\u001b[0mlimit\u001b[0m\u001b[0;34m(\u001b[0m\u001b[0;36m10\u001b[0m\u001b[0;34m)\u001b[0m\u001b[0;34m)\u001b[0m\u001b[0;34m\u001b[0m\u001b[0;34m\u001b[0m\u001b[0m\n\u001b[0m\u001b[1;32m      2\u001b[0m \u001b[0;34m\u001b[0m\u001b[0m\n\u001b[1;32m      3\u001b[0m \u001b[0mdfWord\u001b[0m\u001b[0;34m.\u001b[0m\u001b[0mshow\u001b[0m\u001b[0;34m(\u001b[0m\u001b[0;34m)\u001b[0m\u001b[0;34m\u001b[0m\u001b[0;34m\u001b[0m\u001b[0m\n",
      "\u001b[0;31mTypeError\u001b[0m: 'Column' object is not callable"
     ]
    }
   ],
   "source": [
    "#dfWord = dfText.withColumn(\"Word\", explode(split(col(\"text\"), ' '))).groupBy(\"Word\").count().orderBy(asc(\"count\").limit(10))\n",
    "\n",
    "#dfWord.show()"
   ]
  },
  {
   "attachments": {},
   "cell_type": "markdown",
   "id": "c8fcdc7c",
   "metadata": {},
   "source": [
    "Decided to stem the words as per this page https://stackoverflow.com/questions/53579444"
   ]
  },
  {
   "cell_type": "code",
   "execution_count": 240,
   "id": "125a892b",
   "metadata": {
    "vscode": {
     "languageId": "python"
    }
   },
   "outputs": [
    {
     "name": "stderr",
     "output_type": "stream",
     "text": [
      "                                                                                \r"
     ]
    },
    {
     "name": "stdout",
     "output_type": "stream",
     "text": [
      "+--------------------+--------------------+--------------------+--------------------+\n",
      "|                text|              tokens|            filtered|    filtered_stemmed|\n",
      "+--------------------+--------------------+--------------------+--------------------+\n",
      "|it costs 0 rspeso...|[it, costs, 0, rs...|[costs, 0, rspeso...|[cost, 0, rspesoe...|\n",
      "|rt theeconomist t...|[rt, theeconomist...|[rt, theeconomist...|[rt, theeconomist...|\n",
      "|rt theeconomist t...|[rt, theeconomist...|[rt, theeconomist...|[rt, theeconomist...|\n",
      "|rt laurahuhtasaar...|[rt, laurahuhtasa...|[rt, laurahuhtasa...|[rt, laurahuhtasa...|\n",
      "|rt lettertojack p...|[rt, lettertojack...|[rt, lettertojack...|[rt, lettertojack...|\n",
      "+--------------------+--------------------+--------------------+--------------------+\n",
      "only showing top 5 rows\n",
      "\n"
     ]
    },
    {
     "name": "stderr",
     "output_type": "stream",
     "text": [
      "                                                                                \r"
     ]
    }
   ],
   "source": [
    "# stem the words\n",
    "stemmer = SnowballStemmer(language='english')\n",
    "stemmer_udf = udf(lambda tokens: [stemmer.stem(token) for token in tokens], ArrayType(StringType()))\n",
    "dfText = dfText.withColumn(\"filtered_stemmed\", stemmer_udf(\"filtered\"))\n",
    "dfText.show(5)"
   ]
  },
  {
   "cell_type": "code",
   "execution_count": 241,
   "id": "c9e0bc94",
   "metadata": {
    "vscode": {
     "languageId": "python"
    }
   },
   "outputs": [
    {
     "name": "stderr",
     "output_type": "stream",
     "text": [
      "                                                                                \r"
     ]
    },
    {
     "name": "stdout",
     "output_type": "stream",
     "text": [
      "+--------------------+--------------------+--------------------+--------------------+\n",
      "|                text|              tokens|            filtered|    filtered_stemmed|\n",
      "+--------------------+--------------------+--------------------+--------------------+\n",
      "|rt gemhostofficia...|[rt, gemhostoffic...|[rt, gemhostoffic...|[gemhostoffici, 3...|\n",
      "|rt gemhostofficia...|[rt, gemhostoffic...|[rt, gemhostoffic...|[gemhostoffici, 3...|\n",
      "|rt gemhostofficia...|[rt, gemhostoffic...|[rt, gemhostoffic...|[gemhostoffici, 3...|\n",
      "|rt gemhostofficia...|[rt, gemhostoffic...|[rt, gemhostoffic...|[gemhostoffici, 3...|\n",
      "|rt gemhostofficia...|[rt, gemhostoffic...|[rt, gemhostoffic...|[gemhostoffici, 3...|\n",
      "+--------------------+--------------------+--------------------+--------------------+\n",
      "only showing top 5 rows\n",
      "\n"
     ]
    }
   ],
   "source": [
    "# Filter out short words\n",
    "filterShortWords = udf(lambda row: [x for x in row if len(x) >= 4], ArrayType(StringType()))\n",
    "dfText = dfText.withColumn(\"filtered_stemmed\", filterShortWords(\"filtered_stemmed\"))\n",
    "\n",
    "dfText.show(5)\n"
   ]
  },
  {
   "cell_type": "code",
   "execution_count": 242,
   "id": "6ae79004",
   "metadata": {
    "vscode": {
     "languageId": "python"
    }
   },
   "outputs": [
    {
     "name": "stderr",
     "output_type": "stream",
     "text": [
      "                                                                                \r"
     ]
    },
    {
     "data": {
      "text/plain": [
       "264598"
      ]
     },
     "execution_count": 242,
     "metadata": {},
     "output_type": "execute_result"
    }
   ],
   "source": [
    "dfText.count()\n"
   ]
  },
  {
   "attachments": {},
   "cell_type": "markdown",
   "id": "3f08f06d",
   "metadata": {},
   "source": [
    "### Advanced Text processing\n",
    "\n",
    "N-grams"
   ]
  },
  {
   "cell_type": "code",
   "execution_count": 243,
   "id": "abccf034",
   "metadata": {
    "vscode": {
     "languageId": "python"
    }
   },
   "outputs": [
    {
     "name": "stderr",
     "output_type": "stream",
     "text": [
      "                                                                                \r"
     ]
    },
    {
     "name": "stdout",
     "output_type": "stream",
     "text": [
      "+--------------------+--------------------+--------------------+\n",
      "|                text|    filtered_stemmed|              ngrams|\n",
      "+--------------------+--------------------+--------------------+\n",
      "|it costs 0 rspeso...|[cost, rspesoeuro...|[cost rspesoeurop...|\n",
      "|rt theeconomist t...|[theeconomist, 75...|[theeconomist 750...|\n",
      "|rt theeconomist t...|[theeconomist, 75...|[theeconomist 750...|\n",
      "|rt laurahuhtasaar...|[laurahuhtasaari,...|[laurahuhtasaari ...|\n",
      "|rt lettertojack p...|[lettertojack, po...|[lettertojack por...|\n",
      "+--------------------+--------------------+--------------------+\n",
      "only showing top 5 rows\n",
      "\n"
     ]
    },
    {
     "name": "stderr",
     "output_type": "stream",
     "text": [
      "                                                                                \r"
     ]
    }
   ],
   "source": [
    "from pyspark.ml.feature import NGram, VectorAssembler\n",
    "\n",
    "# Create 2-grams\n",
    "ngram = NGram(n=2, inputCol=\"filtered_stemmed\", outputCol=\"ngrams\")\n",
    "dfText2 = ngram.transform(dfText).select(\"text\",\"filtered_stemmed\",\"ngrams\")\n",
    "dfText2.show(5)\n",
    "dfText4 = ngram.setParams(n=4).transform(dfText).head()\n",
    "\n"
   ]
  },
  {
   "attachments": {},
   "cell_type": "markdown",
   "id": "547023fd",
   "metadata": {},
   "source": [
    "Term Frequency"
   ]
  },
  {
   "cell_type": "code",
   "execution_count": 245,
   "id": "7e1a1e03",
   "metadata": {
    "vscode": {
     "languageId": "python"
    }
   },
   "outputs": [
    {
     "ename": "AttributeError",
     "evalue": "_jdf",
     "output_type": "error",
     "traceback": [
      "\u001b[0;31m---------------------------------------------------------------------------\u001b[0m",
      "\u001b[0;31mValueError\u001b[0m                                Traceback (most recent call last)",
      "\u001b[0;32m/usr/local/spark/python/pyspark/sql/types.py\u001b[0m in \u001b[0;36m__getattr__\u001b[0;34m(self, item)\u001b[0m\n\u001b[1;32m   1572\u001b[0m             \u001b[0;31m# but this will not be used in normal cases\u001b[0m\u001b[0;34m\u001b[0m\u001b[0;34m\u001b[0m\u001b[0m\n\u001b[0;32m-> 1573\u001b[0;31m             \u001b[0midx\u001b[0m \u001b[0;34m=\u001b[0m \u001b[0mself\u001b[0m\u001b[0;34m.\u001b[0m\u001b[0m__fields__\u001b[0m\u001b[0;34m.\u001b[0m\u001b[0mindex\u001b[0m\u001b[0;34m(\u001b[0m\u001b[0mitem\u001b[0m\u001b[0;34m)\u001b[0m\u001b[0;34m\u001b[0m\u001b[0;34m\u001b[0m\u001b[0m\n\u001b[0m\u001b[1;32m   1574\u001b[0m             \u001b[0;32mreturn\u001b[0m \u001b[0mself\u001b[0m\u001b[0;34m[\u001b[0m\u001b[0midx\u001b[0m\u001b[0;34m]\u001b[0m\u001b[0;34m\u001b[0m\u001b[0;34m\u001b[0m\u001b[0m\n",
      "\u001b[0;31mValueError\u001b[0m: '_jdf' is not in list",
      "\nDuring handling of the above exception, another exception occurred:\n",
      "\u001b[0;31mAttributeError\u001b[0m                            Traceback (most recent call last)",
      "\u001b[0;32m/tmp/ipykernel_3064919/2892022153.py\u001b[0m in \u001b[0;36m<module>\u001b[0;34m\u001b[0m\n\u001b[1;32m      2\u001b[0m \u001b[0;34m\u001b[0m\u001b[0m\n\u001b[1;32m      3\u001b[0m \u001b[0mhashtf\u001b[0m \u001b[0;34m=\u001b[0m \u001b[0mHashingTF\u001b[0m\u001b[0;34m(\u001b[0m\u001b[0mnumFeatures\u001b[0m\u001b[0;34m=\u001b[0m\u001b[0;36m2\u001b[0m\u001b[0;34m**\u001b[0m\u001b[0;36m16\u001b[0m\u001b[0;34m,\u001b[0m \u001b[0minputCol\u001b[0m\u001b[0;34m=\u001b[0m\u001b[0;34m\"text\"\u001b[0m\u001b[0;34m,\u001b[0m \u001b[0moutputCol\u001b[0m\u001b[0;34m=\u001b[0m\u001b[0;34m'tf'\u001b[0m\u001b[0;34m)\u001b[0m\u001b[0;34m\u001b[0m\u001b[0;34m\u001b[0m\u001b[0m\n\u001b[0;32m----> 4\u001b[0;31m \u001b[0mhashtf\u001b[0m\u001b[0;34m.\u001b[0m\u001b[0msetNumFeatures\u001b[0m\u001b[0;34m(\u001b[0m\u001b[0;36m2\u001b[0m\u001b[0;34m**\u001b[0m\u001b[0;36m16\u001b[0m\u001b[0;34m)\u001b[0m\u001b[0;34m.\u001b[0m\u001b[0mtransform\u001b[0m\u001b[0;34m(\u001b[0m\u001b[0mdfText4\u001b[0m\u001b[0;34m)\u001b[0m\u001b[0;34m.\u001b[0m\u001b[0mhead\u001b[0m\u001b[0;34m(\u001b[0m\u001b[0;34m)\u001b[0m\u001b[0;34m\u001b[0m\u001b[0;34m\u001b[0m\u001b[0m\n\u001b[0m",
      "\u001b[0;32m/usr/local/spark/python/pyspark/ml/base.py\u001b[0m in \u001b[0;36mtransform\u001b[0;34m(self, dataset, params)\u001b[0m\n\u001b[1;32m    215\u001b[0m                 \u001b[0;32mreturn\u001b[0m \u001b[0mself\u001b[0m\u001b[0;34m.\u001b[0m\u001b[0mcopy\u001b[0m\u001b[0;34m(\u001b[0m\u001b[0mparams\u001b[0m\u001b[0;34m)\u001b[0m\u001b[0;34m.\u001b[0m\u001b[0m_transform\u001b[0m\u001b[0;34m(\u001b[0m\u001b[0mdataset\u001b[0m\u001b[0;34m)\u001b[0m\u001b[0;34m\u001b[0m\u001b[0;34m\u001b[0m\u001b[0m\n\u001b[1;32m    216\u001b[0m             \u001b[0;32melse\u001b[0m\u001b[0;34m:\u001b[0m\u001b[0;34m\u001b[0m\u001b[0;34m\u001b[0m\u001b[0m\n\u001b[0;32m--> 217\u001b[0;31m                 \u001b[0;32mreturn\u001b[0m \u001b[0mself\u001b[0m\u001b[0;34m.\u001b[0m\u001b[0m_transform\u001b[0m\u001b[0;34m(\u001b[0m\u001b[0mdataset\u001b[0m\u001b[0;34m)\u001b[0m\u001b[0;34m\u001b[0m\u001b[0;34m\u001b[0m\u001b[0m\n\u001b[0m\u001b[1;32m    218\u001b[0m         \u001b[0;32melse\u001b[0m\u001b[0;34m:\u001b[0m\u001b[0;34m\u001b[0m\u001b[0;34m\u001b[0m\u001b[0m\n\u001b[1;32m    219\u001b[0m             \u001b[0;32mraise\u001b[0m \u001b[0mTypeError\u001b[0m\u001b[0;34m(\u001b[0m\u001b[0;34m\"Params must be a param map but got %s.\"\u001b[0m \u001b[0;34m%\u001b[0m \u001b[0mtype\u001b[0m\u001b[0;34m(\u001b[0m\u001b[0mparams\u001b[0m\u001b[0;34m)\u001b[0m\u001b[0;34m)\u001b[0m\u001b[0;34m\u001b[0m\u001b[0;34m\u001b[0m\u001b[0m\n",
      "\u001b[0;32m/usr/local/spark/python/pyspark/ml/wrapper.py\u001b[0m in \u001b[0;36m_transform\u001b[0;34m(self, dataset)\u001b[0m\n\u001b[1;32m    352\u001b[0m     \u001b[0;32mdef\u001b[0m \u001b[0m_transform\u001b[0m\u001b[0;34m(\u001b[0m\u001b[0mself\u001b[0m\u001b[0;34m,\u001b[0m \u001b[0mdataset\u001b[0m\u001b[0;34m)\u001b[0m\u001b[0;34m:\u001b[0m\u001b[0;34m\u001b[0m\u001b[0;34m\u001b[0m\u001b[0m\n\u001b[1;32m    353\u001b[0m         \u001b[0mself\u001b[0m\u001b[0;34m.\u001b[0m\u001b[0m_transfer_params_to_java\u001b[0m\u001b[0;34m(\u001b[0m\u001b[0;34m)\u001b[0m\u001b[0;34m\u001b[0m\u001b[0;34m\u001b[0m\u001b[0m\n\u001b[0;32m--> 354\u001b[0;31m         \u001b[0;32mreturn\u001b[0m \u001b[0mDataFrame\u001b[0m\u001b[0;34m(\u001b[0m\u001b[0mself\u001b[0m\u001b[0;34m.\u001b[0m\u001b[0m_java_obj\u001b[0m\u001b[0;34m.\u001b[0m\u001b[0mtransform\u001b[0m\u001b[0;34m(\u001b[0m\u001b[0mdataset\u001b[0m\u001b[0;34m.\u001b[0m\u001b[0m_jdf\u001b[0m\u001b[0;34m)\u001b[0m\u001b[0;34m,\u001b[0m \u001b[0mdataset\u001b[0m\u001b[0;34m.\u001b[0m\u001b[0msql_ctx\u001b[0m\u001b[0;34m)\u001b[0m\u001b[0;34m\u001b[0m\u001b[0;34m\u001b[0m\u001b[0m\n\u001b[0m\u001b[1;32m    355\u001b[0m \u001b[0;34m\u001b[0m\u001b[0m\n\u001b[1;32m    356\u001b[0m \u001b[0;34m\u001b[0m\u001b[0m\n",
      "\u001b[0;32m/usr/local/spark/python/pyspark/sql/types.py\u001b[0m in \u001b[0;36m__getattr__\u001b[0;34m(self, item)\u001b[0m\n\u001b[1;32m   1576\u001b[0m             \u001b[0;32mraise\u001b[0m \u001b[0mAttributeError\u001b[0m\u001b[0;34m(\u001b[0m\u001b[0mitem\u001b[0m\u001b[0;34m)\u001b[0m\u001b[0;34m\u001b[0m\u001b[0;34m\u001b[0m\u001b[0m\n\u001b[1;32m   1577\u001b[0m         \u001b[0;32mexcept\u001b[0m \u001b[0mValueError\u001b[0m\u001b[0;34m:\u001b[0m\u001b[0;34m\u001b[0m\u001b[0;34m\u001b[0m\u001b[0m\n\u001b[0;32m-> 1578\u001b[0;31m             \u001b[0;32mraise\u001b[0m \u001b[0mAttributeError\u001b[0m\u001b[0;34m(\u001b[0m\u001b[0mitem\u001b[0m\u001b[0;34m)\u001b[0m\u001b[0;34m\u001b[0m\u001b[0;34m\u001b[0m\u001b[0m\n\u001b[0m\u001b[1;32m   1579\u001b[0m \u001b[0;34m\u001b[0m\u001b[0m\n\u001b[1;32m   1580\u001b[0m     \u001b[0;32mdef\u001b[0m \u001b[0m__setattr__\u001b[0m\u001b[0;34m(\u001b[0m\u001b[0mself\u001b[0m\u001b[0;34m,\u001b[0m \u001b[0mkey\u001b[0m\u001b[0;34m,\u001b[0m \u001b[0mvalue\u001b[0m\u001b[0;34m)\u001b[0m\u001b[0;34m:\u001b[0m\u001b[0;34m\u001b[0m\u001b[0;34m\u001b[0m\u001b[0m\n",
      "\u001b[0;31mAttributeError\u001b[0m: _jdf"
     ]
    }
   ],
   "source": [
    "from pyspark.ml.feature import HashingTF, IDF\n",
    "\n",
    "hashtf = HashingTF(numFeatures=2**16, inputCol=\"text\", outputCol='tf')\n",
    "hashtf.setNumFeatures(2**16).transform(dfText4).head()"
   ]
  },
  {
   "attachments": {},
   "cell_type": "markdown",
   "id": "eb942367",
   "metadata": {},
   "source": [
    "Inverse Document Frequency"
   ]
  },
  {
   "cell_type": "code",
   "execution_count": null,
   "id": "9e24b4e7",
   "metadata": {
    "vscode": {
     "languageId": "python"
    }
   },
   "outputs": [],
   "source": [
    "from pyspark.ml.linalg import DenseVector\n",
    "idf = IDF(minDocFreq=3)\n",
    "idf.setInputCol(\"tf\")\n",
    "idf.setOutputCol(\"idf\")\n",
    "\n",
    "model = idf.fit(dfText4)\n",
    "model.setOutputCol(\"idf\")"
   ]
  },
  {
   "attachments": {},
   "cell_type": "markdown",
   "id": "0bb9068b",
   "metadata": {},
   "source": [
    "## Building the model "
   ]
  },
  {
   "cell_type": "code",
   "execution_count": null,
   "id": "21bd109f",
   "metadata": {
    "vscode": {
     "languageId": "python"
    }
   },
   "outputs": [],
   "source": [
    "\n",
    "from pyspark.ml.feature import StringIndexer\n",
    "from pyspark.ml import Pipeline\n",
    "from pyspark.ml.classification import LogisticRegression\n",
    "from pyspark.ml.evaluation import BinaryClassificationEvaluator"
   ]
  },
  {
   "cell_type": "code",
   "execution_count": null,
   "id": "e1a0f73a",
   "metadata": {
    "vscode": {
     "languageId": "python"
    }
   },
   "outputs": [],
   "source": [
    "(train_set, val_set, test_set) = dfText.randomSplit([0.98, 0.01, 0.01], seed = 22230)"
   ]
  },
  {
   "cell_type": "code",
   "execution_count": null,
   "id": "69cfdafc",
   "metadata": {
    "vscode": {
     "languageId": "python"
    }
   },
   "outputs": [],
   "source": []
  }
 ],
 "metadata": {
  "kernelspec": {
   "display_name": "Python 3 (ipykernel)",
   "language": "python",
   "name": "python3"
  }
 },
 "nbformat": 4,
 "nbformat_minor": 5
}
