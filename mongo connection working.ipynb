{
 "cells": [
  {
   "cell_type": "markdown",
   "id": "1cef3a63",
   "metadata": {},
   "source": [
    "# Twitter Sentiment Analysis for the word rugby\n",
    "\n",
    "Connect Spark to Mongo DB"
   ]
  },
  {
   "cell_type": "code",
   "execution_count": 155,
   "id": "1df04beb",
   "metadata": {},
   "outputs": [],
   "source": [
    "import os\n",
    "os.environ['PYSPARK_SUBMIT_ARGS'] = '--jars \"/usr/local/spark/jars/mongo-spark-connector_2.12-3.0.2.jar,/usr/local/spark/jars/mongo-java-driver-3.12.9.jar\" pyspark-shell'"
   ]
  },
  {
   "cell_type": "markdown",
   "id": "c12edd37",
   "metadata": {},
   "source": [
    "Note the inferschema is set to false, this makes spark read the entire database and not infer the values of fields from the first set of fields"
   ]
  },
  {
   "cell_type": "code",
   "execution_count": 156,
   "id": "84472e36",
   "metadata": {},
   "outputs": [],
   "source": [
    "from pyspark.sql import SparkSession\n",
    "# fix read bug, basically turn off sampling\n",
    "spark = SparkSession.builder.appName(\"TwitterMongo\") \\\n",
    ".config(\"spark.mongodb.input.database\", \"mongodb://localhost:27017/twitter\") \\\n",
    ".config(\"spark.mongodb.input.uri\", \"mongodb://localhost:27017/twitter.tweets\") \\\n",
    ".config(\"spark.mongodb.read.sql.inferSchema.mapTypes.enabled\", \"FALSE\") \\\n",
    ".config(\"spark.mongodb.output.uri\",\"mongodb://localhost:27017/twitter.tweets\").getOrCreate()"
   ]
  },
  {
   "cell_type": "markdown",
   "id": "4badca7e",
   "metadata": {},
   "source": [
    "### Create the Session\n",
    "\n",
    "And load all of the Twitter data in MongoDB\n",
    "\n",
    "Print out the twitter tweet schema"
   ]
  },
  {
   "cell_type": "code",
   "execution_count": 157,
   "id": "c59e3c9a",
   "metadata": {},
   "outputs": [
    {
     "name": "stdout",
     "output_type": "stream",
     "text": [
      "root\n",
      " |-- _id: struct (nullable = true)\n",
      " |    |-- oid: string (nullable = true)\n",
      " |-- contributors: void (nullable = true)\n",
      " |-- coordinates: void (nullable = true)\n",
      " |-- created_at: string (nullable = true)\n",
      " |-- display_text_range: array (nullable = true)\n",
      " |    |-- element: integer (containsNull = true)\n",
      " |-- entities: struct (nullable = true)\n",
      " |    |-- hashtags: array (nullable = true)\n",
      " |    |    |-- element: struct (containsNull = true)\n",
      " |    |    |    |-- text: string (nullable = true)\n",
      " |    |    |    |-- indices: array (nullable = true)\n",
      " |    |    |    |    |-- element: integer (containsNull = true)\n",
      " |    |-- media: array (nullable = true)\n",
      " |    |    |-- element: struct (containsNull = true)\n",
      " |    |    |    |-- additional_media_info: struct (nullable = true)\n",
      " |    |    |    |    |-- description: string (nullable = true)\n",
      " |    |    |    |    |-- embeddable: boolean (nullable = true)\n",
      " |    |    |    |    |-- monetizable: boolean (nullable = true)\n",
      " |    |    |    |    |-- title: string (nullable = true)\n",
      " |    |    |    |-- description: string (nullable = true)\n",
      " |    |    |    |-- display_url: string (nullable = true)\n",
      " |    |    |    |-- expanded_url: string (nullable = true)\n",
      " |    |    |    |-- id: long (nullable = true)\n",
      " |    |    |    |-- id_str: string (nullable = true)\n",
      " |    |    |    |-- indices: array (nullable = true)\n",
      " |    |    |    |    |-- element: integer (containsNull = true)\n",
      " |    |    |    |-- media_url: string (nullable = true)\n",
      " |    |    |    |-- media_url_https: string (nullable = true)\n",
      " |    |    |    |-- sizes: struct (nullable = true)\n",
      " |    |    |    |    |-- large: struct (nullable = true)\n",
      " |    |    |    |    |    |-- w: integer (nullable = true)\n",
      " |    |    |    |    |    |-- h: integer (nullable = true)\n",
      " |    |    |    |    |    |-- resize: string (nullable = true)\n",
      " |    |    |    |    |-- medium: struct (nullable = true)\n",
      " |    |    |    |    |    |-- w: integer (nullable = true)\n",
      " |    |    |    |    |    |-- h: integer (nullable = true)\n",
      " |    |    |    |    |    |-- resize: string (nullable = true)\n",
      " |    |    |    |    |-- small: struct (nullable = true)\n",
      " |    |    |    |    |    |-- w: integer (nullable = true)\n",
      " |    |    |    |    |    |-- h: integer (nullable = true)\n",
      " |    |    |    |    |    |-- resize: string (nullable = true)\n",
      " |    |    |    |    |-- thumb: struct (nullable = true)\n",
      " |    |    |    |    |    |-- w: integer (nullable = true)\n",
      " |    |    |    |    |    |-- h: integer (nullable = true)\n",
      " |    |    |    |    |    |-- resize: string (nullable = true)\n",
      " |    |    |    |-- source_status_id: long (nullable = true)\n",
      " |    |    |    |-- source_status_id_str: string (nullable = true)\n",
      " |    |    |    |-- source_user_id: long (nullable = true)\n",
      " |    |    |    |-- source_user_id_str: string (nullable = true)\n",
      " |    |    |    |-- type: string (nullable = true)\n",
      " |    |    |    |-- url: string (nullable = true)\n",
      " |    |-- symbols: array (nullable = true)\n",
      " |    |    |-- element: struct (containsNull = true)\n",
      " |    |    |    |-- text: string (nullable = true)\n",
      " |    |    |    |-- indices: array (nullable = true)\n",
      " |    |    |    |    |-- element: integer (containsNull = true)\n",
      " |    |-- urls: array (nullable = true)\n",
      " |    |    |-- element: struct (containsNull = true)\n",
      " |    |    |    |-- url: string (nullable = true)\n",
      " |    |    |    |-- expanded_url: string (nullable = true)\n",
      " |    |    |    |-- display_url: string (nullable = true)\n",
      " |    |    |    |-- indices: array (nullable = true)\n",
      " |    |    |    |    |-- element: integer (containsNull = true)\n",
      " |    |-- user_mentions: array (nullable = true)\n",
      " |    |    |-- element: struct (containsNull = true)\n",
      " |    |    |    |-- screen_name: string (nullable = true)\n",
      " |    |    |    |-- name: string (nullable = true)\n",
      " |    |    |    |-- id: long (nullable = true)\n",
      " |    |    |    |-- id_str: string (nullable = true)\n",
      " |    |    |    |-- indices: array (nullable = true)\n",
      " |    |    |    |    |-- element: integer (containsNull = true)\n",
      " |-- extended_entities: struct (nullable = true)\n",
      " |    |-- media: array (nullable = true)\n",
      " |    |    |-- element: struct (containsNull = true)\n",
      " |    |    |    |-- additional_media_info: struct (nullable = true)\n",
      " |    |    |    |    |-- description: string (nullable = true)\n",
      " |    |    |    |    |-- embeddable: boolean (nullable = true)\n",
      " |    |    |    |    |-- monetizable: boolean (nullable = true)\n",
      " |    |    |    |    |-- title: string (nullable = true)\n",
      " |    |    |    |-- description: string (nullable = true)\n",
      " |    |    |    |-- display_url: string (nullable = true)\n",
      " |    |    |    |-- expanded_url: string (nullable = true)\n",
      " |    |    |    |-- id: long (nullable = true)\n",
      " |    |    |    |-- id_str: string (nullable = true)\n",
      " |    |    |    |-- indices: array (nullable = true)\n",
      " |    |    |    |    |-- element: integer (containsNull = true)\n",
      " |    |    |    |-- media_url: string (nullable = true)\n",
      " |    |    |    |-- media_url_https: string (nullable = true)\n",
      " |    |    |    |-- sizes: struct (nullable = true)\n",
      " |    |    |    |    |-- large: struct (nullable = true)\n",
      " |    |    |    |    |    |-- w: integer (nullable = true)\n",
      " |    |    |    |    |    |-- h: integer (nullable = true)\n",
      " |    |    |    |    |    |-- resize: string (nullable = true)\n",
      " |    |    |    |    |-- medium: struct (nullable = true)\n",
      " |    |    |    |    |    |-- w: integer (nullable = true)\n",
      " |    |    |    |    |    |-- h: integer (nullable = true)\n",
      " |    |    |    |    |    |-- resize: string (nullable = true)\n",
      " |    |    |    |    |-- small: struct (nullable = true)\n",
      " |    |    |    |    |    |-- w: integer (nullable = true)\n",
      " |    |    |    |    |    |-- h: integer (nullable = true)\n",
      " |    |    |    |    |    |-- resize: string (nullable = true)\n",
      " |    |    |    |    |-- thumb: struct (nullable = true)\n",
      " |    |    |    |    |    |-- w: integer (nullable = true)\n",
      " |    |    |    |    |    |-- h: integer (nullable = true)\n",
      " |    |    |    |    |    |-- resize: string (nullable = true)\n",
      " |    |    |    |-- source_status_id: long (nullable = true)\n",
      " |    |    |    |-- source_status_id_str: string (nullable = true)\n",
      " |    |    |    |-- source_user_id: long (nullable = true)\n",
      " |    |    |    |-- source_user_id_str: string (nullable = true)\n",
      " |    |    |    |-- type: string (nullable = true)\n",
      " |    |    |    |-- url: string (nullable = true)\n",
      " |    |    |    |-- video_info: struct (nullable = true)\n",
      " |    |    |    |    |-- aspect_ratio: array (nullable = true)\n",
      " |    |    |    |    |    |-- element: integer (containsNull = true)\n",
      " |    |    |    |    |-- duration_millis: integer (nullable = true)\n",
      " |    |    |    |    |-- variants: array (nullable = true)\n",
      " |    |    |    |    |    |-- element: struct (containsNull = true)\n",
      " |    |    |    |    |    |    |-- bitrate: integer (nullable = true)\n",
      " |    |    |    |    |    |    |-- content_type: string (nullable = true)\n",
      " |    |    |    |    |    |    |-- url: string (nullable = true)\n",
      " |-- extended_tweet: struct (nullable = true)\n",
      " |    |-- display_text_range: array (nullable = true)\n",
      " |    |    |-- element: integer (containsNull = true)\n",
      " |    |-- entities: struct (nullable = true)\n",
      " |    |    |-- hashtags: array (nullable = true)\n",
      " |    |    |    |-- element: struct (containsNull = true)\n",
      " |    |    |    |    |-- text: string (nullable = true)\n",
      " |    |    |    |    |-- indices: array (nullable = true)\n",
      " |    |    |    |    |    |-- element: integer (containsNull = true)\n",
      " |    |    |-- media: array (nullable = true)\n",
      " |    |    |    |-- element: struct (containsNull = true)\n",
      " |    |    |    |    |-- description: string (nullable = true)\n",
      " |    |    |    |    |-- display_url: string (nullable = true)\n",
      " |    |    |    |    |-- expanded_url: string (nullable = true)\n",
      " |    |    |    |    |-- id: long (nullable = true)\n",
      " |    |    |    |    |-- id_str: string (nullable = true)\n",
      " |    |    |    |    |-- indices: array (nullable = true)\n",
      " |    |    |    |    |    |-- element: integer (containsNull = true)\n",
      " |    |    |    |    |-- media_url: string (nullable = true)\n",
      " |    |    |    |    |-- media_url_https: string (nullable = true)\n",
      " |    |    |    |    |-- sizes: struct (nullable = true)\n",
      " |    |    |    |    |    |-- large: struct (nullable = true)\n",
      " |    |    |    |    |    |    |-- w: integer (nullable = true)\n",
      " |    |    |    |    |    |    |-- h: integer (nullable = true)\n",
      " |    |    |    |    |    |    |-- resize: string (nullable = true)\n",
      " |    |    |    |    |    |-- medium: struct (nullable = true)\n",
      " |    |    |    |    |    |    |-- w: integer (nullable = true)\n",
      " |    |    |    |    |    |    |-- h: integer (nullable = true)\n",
      " |    |    |    |    |    |    |-- resize: string (nullable = true)\n",
      " |    |    |    |    |    |-- small: struct (nullable = true)\n",
      " |    |    |    |    |    |    |-- w: integer (nullable = true)\n",
      " |    |    |    |    |    |    |-- h: integer (nullable = true)\n",
      " |    |    |    |    |    |    |-- resize: string (nullable = true)\n",
      " |    |    |    |    |    |-- thumb: struct (nullable = true)\n",
      " |    |    |    |    |    |    |-- w: integer (nullable = true)\n",
      " |    |    |    |    |    |    |-- h: integer (nullable = true)\n",
      " |    |    |    |    |    |    |-- resize: string (nullable = true)\n",
      " |    |    |    |    |-- type: string (nullable = true)\n",
      " |    |    |    |    |-- url: string (nullable = true)\n",
      " |    |    |    |    |-- video_info: struct (nullable = true)\n",
      " |    |    |    |    |    |-- aspect_ratio: array (nullable = true)\n",
      " |    |    |    |    |    |    |-- element: integer (containsNull = true)\n",
      " |    |    |    |    |    |-- variants: array (nullable = true)\n",
      " |    |    |    |    |    |    |-- element: struct (containsNull = true)\n",
      " |    |    |    |    |    |    |    |-- bitrate: integer (nullable = true)\n",
      " |    |    |    |    |    |    |    |-- content_type: string (nullable = true)\n",
      " |    |    |    |    |    |    |    |-- url: string (nullable = true)\n",
      " |    |    |-- urls: array (nullable = true)\n",
      " |    |    |    |-- element: struct (containsNull = true)\n",
      " |    |    |    |    |-- url: string (nullable = true)\n",
      " |    |    |    |    |-- expanded_url: string (nullable = true)\n",
      " |    |    |    |    |-- display_url: string (nullable = true)\n",
      " |    |    |    |    |-- indices: array (nullable = true)\n",
      " |    |    |    |    |    |-- element: integer (containsNull = true)\n",
      " |    |    |-- user_mentions: array (nullable = true)\n",
      " |    |    |    |-- element: struct (containsNull = true)\n",
      " |    |    |    |    |-- screen_name: string (nullable = true)\n",
      " |    |    |    |    |-- name: string (nullable = true)\n",
      " |    |    |    |    |-- id: long (nullable = true)\n",
      " |    |    |    |    |-- id_str: string (nullable = true)\n",
      " |    |    |    |    |-- indices: array (nullable = true)\n",
      " |    |    |    |    |    |-- element: integer (containsNull = true)\n",
      " |    |-- extended_entities: struct (nullable = true)\n",
      " |    |    |-- media: array (nullable = true)\n",
      " |    |    |    |-- element: struct (containsNull = true)\n",
      " |    |    |    |    |-- description: string (nullable = true)\n",
      " |    |    |    |    |-- display_url: string (nullable = true)\n",
      " |    |    |    |    |-- expanded_url: string (nullable = true)\n",
      " |    |    |    |    |-- id: long (nullable = true)\n",
      " |    |    |    |    |-- id_str: string (nullable = true)\n",
      " |    |    |    |    |-- indices: array (nullable = true)\n",
      " |    |    |    |    |    |-- element: integer (containsNull = true)\n",
      " |    |    |    |    |-- media_url: string (nullable = true)\n",
      " |    |    |    |    |-- media_url_https: string (nullable = true)\n",
      " |    |    |    |    |-- sizes: struct (nullable = true)\n",
      " |    |    |    |    |    |-- large: struct (nullable = true)\n",
      " |    |    |    |    |    |    |-- w: integer (nullable = true)\n",
      " |    |    |    |    |    |    |-- h: integer (nullable = true)\n",
      " |    |    |    |    |    |    |-- resize: string (nullable = true)\n",
      " |    |    |    |    |    |-- medium: struct (nullable = true)\n",
      " |    |    |    |    |    |    |-- w: integer (nullable = true)\n",
      " |    |    |    |    |    |    |-- h: integer (nullable = true)\n",
      " |    |    |    |    |    |    |-- resize: string (nullable = true)\n",
      " |    |    |    |    |    |-- small: struct (nullable = true)\n",
      " |    |    |    |    |    |    |-- w: integer (nullable = true)\n",
      " |    |    |    |    |    |    |-- h: integer (nullable = true)\n",
      " |    |    |    |    |    |    |-- resize: string (nullable = true)\n",
      " |    |    |    |    |    |-- thumb: struct (nullable = true)\n",
      " |    |    |    |    |    |    |-- w: integer (nullable = true)\n",
      " |    |    |    |    |    |    |-- h: integer (nullable = true)\n",
      " |    |    |    |    |    |    |-- resize: string (nullable = true)\n",
      " |    |    |    |    |-- type: string (nullable = true)\n",
      " |    |    |    |    |-- url: string (nullable = true)\n",
      " |    |    |    |    |-- video_info: struct (nullable = true)\n",
      " |    |    |    |    |    |-- aspect_ratio: array (nullable = true)\n",
      " |    |    |    |    |    |    |-- element: integer (containsNull = true)\n",
      " |    |    |    |    |    |-- variants: array (nullable = true)\n",
      " |    |    |    |    |    |    |-- element: struct (containsNull = true)\n",
      " |    |    |    |    |    |    |    |-- bitrate: integer (nullable = true)\n",
      " |    |    |    |    |    |    |    |-- content_type: string (nullable = true)\n",
      " |    |    |    |    |    |    |    |-- url: string (nullable = true)\n",
      " |    |-- full_text: string (nullable = true)\n",
      " |-- favorite_count: integer (nullable = true)\n",
      " |-- favorited: boolean (nullable = true)\n",
      " |-- filter_level: string (nullable = true)\n",
      " |-- geo: void (nullable = true)\n",
      " |-- id: long (nullable = true)\n",
      " |-- id_str: string (nullable = true)\n",
      " |-- in_reply_to_screen_name: string (nullable = true)\n",
      " |-- in_reply_to_status_id: long (nullable = true)\n",
      " |-- in_reply_to_status_id_str: string (nullable = true)\n",
      " |-- in_reply_to_user_id: long (nullable = true)\n",
      " |-- in_reply_to_user_id_str: string (nullable = true)\n",
      " |-- is_quote_status: boolean (nullable = true)\n",
      " |-- lang: string (nullable = true)\n",
      " |-- place: struct (nullable = true)\n",
      " |    |-- id: string (nullable = true)\n",
      " |    |-- url: string (nullable = true)\n",
      " |    |-- place_type: string (nullable = true)\n",
      " |    |-- name: string (nullable = true)\n",
      " |    |-- full_name: string (nullable = true)\n",
      " |    |-- country_code: string (nullable = true)\n",
      " |    |-- country: string (nullable = true)\n",
      " |    |-- bounding_box: struct (nullable = true)\n",
      " |    |    |-- type: string (nullable = true)\n",
      " |    |    |-- coordinates: array (nullable = true)\n",
      " |    |    |    |-- element: array (containsNull = true)\n",
      " |    |    |    |    |-- element: array (containsNull = true)\n",
      " |    |    |    |    |    |-- element: double (containsNull = true)\n",
      " |-- possibly_sensitive: boolean (nullable = true)\n",
      " |-- quote_count: integer (nullable = true)\n",
      " |-- quoted_status: struct (nullable = true)\n",
      " |    |-- contributors: void (nullable = true)\n",
      " |    |-- coordinates: void (nullable = true)\n",
      " |    |-- created_at: string (nullable = true)\n",
      " |    |-- display_text_range: array (nullable = true)\n",
      " |    |    |-- element: integer (containsNull = true)\n",
      " |    |-- entities: struct (nullable = true)\n",
      " |    |    |-- hashtags: array (nullable = true)\n",
      " |    |    |    |-- element: struct (containsNull = true)\n",
      " |    |    |    |    |-- text: string (nullable = true)\n",
      " |    |    |    |    |-- indices: array (nullable = true)\n",
      " |    |    |    |    |    |-- element: integer (containsNull = true)\n",
      " |    |    |-- media: array (nullable = true)\n",
      " |    |    |    |-- element: struct (containsNull = true)\n",
      " |    |    |    |    |-- additional_media_info: struct (nullable = true)\n",
      " |    |    |    |    |    |-- description: string (nullable = true)\n",
      " |    |    |    |    |    |-- embeddable: boolean (nullable = true)\n",
      " |    |    |    |    |    |-- monetizable: boolean (nullable = true)\n",
      " |    |    |    |    |    |-- title: string (nullable = true)\n",
      " |    |    |    |    |-- description: string (nullable = true)\n",
      " |    |    |    |    |-- display_url: string (nullable = true)\n",
      " |    |    |    |    |-- expanded_url: string (nullable = true)\n",
      " |    |    |    |    |-- id: long (nullable = true)\n",
      " |    |    |    |    |-- id_str: string (nullable = true)\n",
      " |    |    |    |    |-- indices: array (nullable = true)\n",
      " |    |    |    |    |    |-- element: integer (containsNull = true)\n",
      " |    |    |    |    |-- media_url: string (nullable = true)\n",
      " |    |    |    |    |-- media_url_https: string (nullable = true)\n",
      " |    |    |    |    |-- sizes: struct (nullable = true)\n",
      " |    |    |    |    |    |-- large: struct (nullable = true)\n",
      " |    |    |    |    |    |    |-- w: integer (nullable = true)\n",
      " |    |    |    |    |    |    |-- h: integer (nullable = true)\n",
      " |    |    |    |    |    |    |-- resize: string (nullable = true)\n",
      " |    |    |    |    |    |-- medium: struct (nullable = true)\n",
      " |    |    |    |    |    |    |-- w: integer (nullable = true)\n",
      " |    |    |    |    |    |    |-- h: integer (nullable = true)\n",
      " |    |    |    |    |    |    |-- resize: string (nullable = true)\n",
      " |    |    |    |    |    |-- small: struct (nullable = true)\n",
      " |    |    |    |    |    |    |-- w: integer (nullable = true)\n",
      " |    |    |    |    |    |    |-- h: integer (nullable = true)\n",
      " |    |    |    |    |    |    |-- resize: string (nullable = true)\n",
      " |    |    |    |    |    |-- thumb: struct (nullable = true)\n",
      " |    |    |    |    |    |    |-- w: integer (nullable = true)\n",
      " |    |    |    |    |    |    |-- h: integer (nullable = true)\n",
      " |    |    |    |    |    |    |-- resize: string (nullable = true)\n",
      " |    |    |    |    |-- source_status_id: long (nullable = true)\n",
      " |    |    |    |    |-- source_status_id_str: string (nullable = true)\n",
      " |    |    |    |    |-- source_user_id: long (nullable = true)\n",
      " |    |    |    |    |-- source_user_id_str: string (nullable = true)\n",
      " |    |    |    |    |-- type: string (nullable = true)\n",
      " |    |    |    |    |-- url: string (nullable = true)\n",
      " |    |    |-- urls: array (nullable = true)\n",
      " |    |    |    |-- element: struct (containsNull = true)\n",
      " |    |    |    |    |-- url: string (nullable = true)\n",
      " |    |    |    |    |-- expanded_url: string (nullable = true)\n",
      " |    |    |    |    |-- display_url: string (nullable = true)\n",
      " |    |    |    |    |-- indices: array (nullable = true)\n",
      " |    |    |    |    |    |-- element: integer (containsNull = true)\n",
      " |    |    |-- user_mentions: array (nullable = true)\n",
      " |    |    |    |-- element: struct (containsNull = true)\n",
      " |    |    |    |    |-- screen_name: string (nullable = true)\n",
      " |    |    |    |    |-- name: string (nullable = true)\n",
      " |    |    |    |    |-- id: long (nullable = true)\n",
      " |    |    |    |    |-- id_str: string (nullable = true)\n",
      " |    |    |    |    |-- indices: array (nullable = true)\n",
      " |    |    |    |    |    |-- element: integer (containsNull = true)\n",
      " |    |-- extended_entities: struct (nullable = true)\n",
      " |    |    |-- media: array (nullable = true)\n",
      " |    |    |    |-- element: struct (containsNull = true)\n",
      " |    |    |    |    |-- additional_media_info: struct (nullable = true)\n",
      " |    |    |    |    |    |-- description: string (nullable = true)\n",
      " |    |    |    |    |    |-- embeddable: boolean (nullable = true)\n",
      " |    |    |    |    |    |-- monetizable: boolean (nullable = true)\n",
      " |    |    |    |    |    |-- title: string (nullable = true)\n",
      " |    |    |    |    |-- description: string (nullable = true)\n",
      " |    |    |    |    |-- display_url: string (nullable = true)\n",
      " |    |    |    |    |-- expanded_url: string (nullable = true)\n",
      " |    |    |    |    |-- id: long (nullable = true)\n",
      " |    |    |    |    |-- id_str: string (nullable = true)\n",
      " |    |    |    |    |-- indices: array (nullable = true)\n",
      " |    |    |    |    |    |-- element: integer (containsNull = true)\n",
      " |    |    |    |    |-- media_url: string (nullable = true)\n",
      " |    |    |    |    |-- media_url_https: string (nullable = true)\n",
      " |    |    |    |    |-- sizes: struct (nullable = true)\n",
      " |    |    |    |    |    |-- large: struct (nullable = true)\n",
      " |    |    |    |    |    |    |-- w: integer (nullable = true)\n",
      " |    |    |    |    |    |    |-- h: integer (nullable = true)\n",
      " |    |    |    |    |    |    |-- resize: string (nullable = true)\n",
      " |    |    |    |    |    |-- medium: struct (nullable = true)\n",
      " |    |    |    |    |    |    |-- w: integer (nullable = true)\n",
      " |    |    |    |    |    |    |-- h: integer (nullable = true)\n",
      " |    |    |    |    |    |    |-- resize: string (nullable = true)\n",
      " |    |    |    |    |    |-- small: struct (nullable = true)\n",
      " |    |    |    |    |    |    |-- w: integer (nullable = true)\n",
      " |    |    |    |    |    |    |-- h: integer (nullable = true)\n",
      " |    |    |    |    |    |    |-- resize: string (nullable = true)\n",
      " |    |    |    |    |    |-- thumb: struct (nullable = true)\n",
      " |    |    |    |    |    |    |-- w: integer (nullable = true)\n",
      " |    |    |    |    |    |    |-- h: integer (nullable = true)\n",
      " |    |    |    |    |    |    |-- resize: string (nullable = true)\n",
      " |    |    |    |    |-- source_status_id: long (nullable = true)\n",
      " |    |    |    |    |-- source_status_id_str: string (nullable = true)\n",
      " |    |    |    |    |-- source_user_id: long (nullable = true)\n",
      " |    |    |    |    |-- source_user_id_str: string (nullable = true)\n",
      " |    |    |    |    |-- type: string (nullable = true)\n",
      " |    |    |    |    |-- url: string (nullable = true)\n",
      " |    |    |    |    |-- video_info: struct (nullable = true)\n",
      " |    |    |    |    |    |-- aspect_ratio: array (nullable = true)\n",
      " |    |    |    |    |    |    |-- element: integer (containsNull = true)\n",
      " |    |    |    |    |    |-- duration_millis: integer (nullable = true)\n",
      " |    |    |    |    |    |-- variants: array (nullable = true)\n",
      " |    |    |    |    |    |    |-- element: struct (containsNull = true)\n",
      " |    |    |    |    |    |    |    |-- bitrate: integer (nullable = true)\n",
      " |    |    |    |    |    |    |    |-- content_type: string (nullable = true)\n",
      " |    |    |    |    |    |    |    |-- url: string (nullable = true)\n",
      " |    |-- extended_tweet: struct (nullable = true)\n",
      " |    |    |-- display_text_range: array (nullable = true)\n",
      " |    |    |    |-- element: integer (containsNull = true)\n",
      " |    |    |-- entities: struct (nullable = true)\n",
      " |    |    |    |-- hashtags: array (nullable = true)\n",
      " |    |    |    |    |-- element: struct (containsNull = true)\n",
      " |    |    |    |    |    |-- text: string (nullable = true)\n",
      " |    |    |    |    |    |-- indices: array (nullable = true)\n",
      " |    |    |    |    |    |    |-- element: integer (containsNull = true)\n",
      " |    |    |    |-- media: array (nullable = true)\n",
      " |    |    |    |    |-- element: struct (containsNull = true)\n",
      " |    |    |    |    |    |-- additional_media_info: struct (nullable = true)\n",
      " |    |    |    |    |    |    |-- description: string (nullable = true)\n",
      " |    |    |    |    |    |    |-- embeddable: boolean (nullable = true)\n",
      " |    |    |    |    |    |    |-- monetizable: boolean (nullable = true)\n",
      " |    |    |    |    |    |    |-- title: string (nullable = true)\n",
      " |    |    |    |    |    |-- description: string (nullable = true)\n",
      " |    |    |    |    |    |-- display_url: string (nullable = true)\n",
      " |    |    |    |    |    |-- expanded_url: string (nullable = true)\n",
      " |    |    |    |    |    |-- id: long (nullable = true)\n",
      " |    |    |    |    |    |-- id_str: string (nullable = true)\n",
      " |    |    |    |    |    |-- indices: array (nullable = true)\n",
      " |    |    |    |    |    |    |-- element: integer (containsNull = true)\n",
      " |    |    |    |    |    |-- media_url: string (nullable = true)\n",
      " |    |    |    |    |    |-- media_url_https: string (nullable = true)\n",
      " |    |    |    |    |    |-- sizes: struct (nullable = true)\n",
      " |    |    |    |    |    |    |-- large: struct (nullable = true)\n",
      " |    |    |    |    |    |    |    |-- w: integer (nullable = true)\n",
      " |    |    |    |    |    |    |    |-- h: integer (nullable = true)\n",
      " |    |    |    |    |    |    |    |-- resize: string (nullable = true)\n",
      " |    |    |    |    |    |    |-- medium: struct (nullable = true)\n",
      " |    |    |    |    |    |    |    |-- w: integer (nullable = true)\n",
      " |    |    |    |    |    |    |    |-- h: integer (nullable = true)\n",
      " |    |    |    |    |    |    |    |-- resize: string (nullable = true)\n",
      " |    |    |    |    |    |    |-- small: struct (nullable = true)\n",
      " |    |    |    |    |    |    |    |-- w: integer (nullable = true)\n",
      " |    |    |    |    |    |    |    |-- h: integer (nullable = true)\n",
      " |    |    |    |    |    |    |    |-- resize: string (nullable = true)\n",
      " |    |    |    |    |    |    |-- thumb: struct (nullable = true)\n",
      " |    |    |    |    |    |    |    |-- w: integer (nullable = true)\n",
      " |    |    |    |    |    |    |    |-- h: integer (nullable = true)\n",
      " |    |    |    |    |    |    |    |-- resize: string (nullable = true)\n",
      " |    |    |    |    |    |-- source_status_id: long (nullable = true)\n",
      " |    |    |    |    |    |-- source_status_id_str: string (nullable = true)\n",
      " |    |    |    |    |    |-- source_user_id: long (nullable = true)\n",
      " |    |    |    |    |    |-- source_user_id_str: string (nullable = true)\n",
      " |    |    |    |    |    |-- type: string (nullable = true)\n",
      " |    |    |    |    |    |-- url: string (nullable = true)\n",
      " |    |    |    |    |    |-- video_info: struct (nullable = true)\n",
      " |    |    |    |    |    |    |-- aspect_ratio: array (nullable = true)\n",
      " |    |    |    |    |    |    |    |-- element: integer (containsNull = true)\n",
      " |    |    |    |    |    |    |-- duration_millis: integer (nullable = true)\n",
      " |    |    |    |    |    |    |-- variants: array (nullable = true)\n",
      " |    |    |    |    |    |    |    |-- element: struct (containsNull = true)\n",
      " |    |    |    |    |    |    |    |    |-- bitrate: integer (nullable = true)\n",
      " |    |    |    |    |    |    |    |    |-- content_type: string (nullable = true)\n",
      " |    |    |    |    |    |    |    |    |-- url: string (nullable = true)\n",
      " |    |    |    |-- symbols: array (nullable = true)\n",
      " |    |    |    |    |-- element: struct (containsNull = true)\n",
      " |    |    |    |    |    |-- text: string (nullable = true)\n",
      " |    |    |    |    |    |-- indices: array (nullable = true)\n",
      " |    |    |    |    |    |    |-- element: integer (containsNull = true)\n",
      " |    |    |    |-- urls: array (nullable = true)\n",
      " |    |    |    |    |-- element: struct (containsNull = true)\n",
      " |    |    |    |    |    |-- url: string (nullable = true)\n",
      " |    |    |    |    |    |-- expanded_url: string (nullable = true)\n",
      " |    |    |    |    |    |-- display_url: string (nullable = true)\n",
      " |    |    |    |    |    |-- indices: array (nullable = true)\n",
      " |    |    |    |    |    |    |-- element: integer (containsNull = true)\n",
      " |    |    |    |-- user_mentions: array (nullable = true)\n",
      " |    |    |    |    |-- element: struct (containsNull = true)\n",
      " |    |    |    |    |    |-- screen_name: string (nullable = true)\n",
      " |    |    |    |    |    |-- name: string (nullable = true)\n",
      " |    |    |    |    |    |-- id: long (nullable = true)\n",
      " |    |    |    |    |    |-- id_str: string (nullable = true)\n",
      " |    |    |    |    |    |-- indices: array (nullable = true)\n",
      " |    |    |    |    |    |    |-- element: integer (containsNull = true)\n",
      " |    |    |-- extended_entities: struct (nullable = true)\n",
      " |    |    |    |-- media: array (nullable = true)\n",
      " |    |    |    |    |-- element: struct (containsNull = true)\n",
      " |    |    |    |    |    |-- additional_media_info: struct (nullable = true)\n",
      " |    |    |    |    |    |    |-- description: string (nullable = true)\n",
      " |    |    |    |    |    |    |-- embeddable: boolean (nullable = true)\n",
      " |    |    |    |    |    |    |-- monetizable: boolean (nullable = true)\n",
      " |    |    |    |    |    |    |-- title: string (nullable = true)\n",
      " |    |    |    |    |    |-- description: string (nullable = true)\n",
      " |    |    |    |    |    |-- display_url: string (nullable = true)\n",
      " |    |    |    |    |    |-- expanded_url: string (nullable = true)\n",
      " |    |    |    |    |    |-- id: long (nullable = true)\n",
      " |    |    |    |    |    |-- id_str: string (nullable = true)\n",
      " |    |    |    |    |    |-- indices: array (nullable = true)\n",
      " |    |    |    |    |    |    |-- element: integer (containsNull = true)\n",
      " |    |    |    |    |    |-- media_url: string (nullable = true)\n",
      " |    |    |    |    |    |-- media_url_https: string (nullable = true)\n",
      " |    |    |    |    |    |-- sizes: struct (nullable = true)\n",
      " |    |    |    |    |    |    |-- large: struct (nullable = true)\n",
      " |    |    |    |    |    |    |    |-- w: integer (nullable = true)\n",
      " |    |    |    |    |    |    |    |-- h: integer (nullable = true)\n",
      " |    |    |    |    |    |    |    |-- resize: string (nullable = true)\n",
      " |    |    |    |    |    |    |-- medium: struct (nullable = true)\n",
      " |    |    |    |    |    |    |    |-- w: integer (nullable = true)\n",
      " |    |    |    |    |    |    |    |-- h: integer (nullable = true)\n",
      " |    |    |    |    |    |    |    |-- resize: string (nullable = true)\n",
      " |    |    |    |    |    |    |-- small: struct (nullable = true)\n",
      " |    |    |    |    |    |    |    |-- w: integer (nullable = true)\n",
      " |    |    |    |    |    |    |    |-- h: integer (nullable = true)\n",
      " |    |    |    |    |    |    |    |-- resize: string (nullable = true)\n",
      " |    |    |    |    |    |    |-- thumb: struct (nullable = true)\n",
      " |    |    |    |    |    |    |    |-- w: integer (nullable = true)\n",
      " |    |    |    |    |    |    |    |-- h: integer (nullable = true)\n",
      " |    |    |    |    |    |    |    |-- resize: string (nullable = true)\n",
      " |    |    |    |    |    |-- source_status_id: long (nullable = true)\n",
      " |    |    |    |    |    |-- source_status_id_str: string (nullable = true)\n",
      " |    |    |    |    |    |-- source_user_id: long (nullable = true)\n",
      " |    |    |    |    |    |-- source_user_id_str: string (nullable = true)\n",
      " |    |    |    |    |    |-- type: string (nullable = true)\n",
      " |    |    |    |    |    |-- url: string (nullable = true)\n",
      " |    |    |    |    |    |-- video_info: struct (nullable = true)\n",
      " |    |    |    |    |    |    |-- aspect_ratio: array (nullable = true)\n",
      " |    |    |    |    |    |    |    |-- element: integer (containsNull = true)\n",
      " |    |    |    |    |    |    |-- duration_millis: integer (nullable = true)\n",
      " |    |    |    |    |    |    |-- variants: array (nullable = true)\n",
      " |    |    |    |    |    |    |    |-- element: struct (containsNull = true)\n",
      " |    |    |    |    |    |    |    |    |-- bitrate: integer (nullable = true)\n",
      " |    |    |    |    |    |    |    |    |-- content_type: string (nullable = true)\n",
      " |    |    |    |    |    |    |    |    |-- url: string (nullable = true)\n",
      " |    |    |-- full_text: string (nullable = true)\n",
      " |    |-- favorite_count: integer (nullable = true)\n",
      " |    |-- favorited: boolean (nullable = true)\n",
      " |    |-- filter_level: string (nullable = true)\n",
      " |    |-- geo: void (nullable = true)\n",
      " |    |-- id: long (nullable = true)\n",
      " |    |-- id_str: string (nullable = true)\n",
      " |    |-- in_reply_to_screen_name: string (nullable = true)\n",
      " |    |-- in_reply_to_status_id: long (nullable = true)\n",
      " |    |-- in_reply_to_status_id_str: string (nullable = true)\n",
      " |    |-- in_reply_to_user_id: long (nullable = true)\n",
      " |    |-- in_reply_to_user_id_str: string (nullable = true)\n",
      " |    |-- is_quote_status: boolean (nullable = true)\n",
      " |    |-- lang: string (nullable = true)\n",
      " |    |-- place: struct (nullable = true)\n",
      " |    |    |-- id: string (nullable = true)\n",
      " |    |    |-- url: string (nullable = true)\n",
      " |    |    |-- place_type: string (nullable = true)\n",
      " |    |    |-- name: string (nullable = true)\n",
      " |    |    |-- full_name: string (nullable = true)\n",
      " |    |    |-- country_code: string (nullable = true)\n",
      " |    |    |-- country: string (nullable = true)\n",
      " |    |    |-- bounding_box: struct (nullable = true)\n",
      " |    |    |    |-- type: string (nullable = true)\n",
      " |    |    |    |-- coordinates: array (nullable = true)\n",
      " |    |    |    |    |-- element: array (containsNull = true)\n",
      " |    |    |    |    |    |-- element: array (containsNull = true)\n",
      " |    |    |    |    |    |    |-- element: double (containsNull = true)\n",
      " |    |-- possibly_sensitive: boolean (nullable = true)\n",
      " |    |-- quote_count: integer (nullable = true)\n",
      " |    |-- quoted_status_id: long (nullable = true)\n",
      " |    |-- quoted_status_id_str: string (nullable = true)\n",
      " |    |-- reply_count: integer (nullable = true)\n",
      " |    |-- retweet_count: integer (nullable = true)\n",
      " |    |-- retweeted: boolean (nullable = true)\n",
      " |    |-- source: string (nullable = true)\n",
      " |    |-- text: string (nullable = true)\n",
      " |    |-- truncated: boolean (nullable = true)\n",
      " |    |-- user: struct (nullable = true)\n",
      " |    |    |-- contributors_enabled: boolean (nullable = true)\n",
      " |    |    |-- created_at: string (nullable = true)\n",
      " |    |    |-- default_profile: boolean (nullable = true)\n",
      " |    |    |-- default_profile_image: boolean (nullable = true)\n",
      " |    |    |-- description: string (nullable = true)\n",
      " |    |    |-- favourites_count: integer (nullable = true)\n",
      " |    |    |-- follow_request_sent: void (nullable = true)\n",
      " |    |    |-- followers_count: integer (nullable = true)\n",
      " |    |    |-- following: void (nullable = true)\n",
      " |    |    |-- friends_count: integer (nullable = true)\n",
      " |    |    |-- geo_enabled: boolean (nullable = true)\n",
      " |    |    |-- id: long (nullable = true)\n",
      " |    |    |-- id_str: string (nullable = true)\n",
      " |    |    |-- is_translator: boolean (nullable = true)\n",
      " |    |    |-- lang: void (nullable = true)\n",
      " |    |    |-- listed_count: integer (nullable = true)\n",
      " |    |    |-- location: string (nullable = true)\n",
      " |    |    |-- name: string (nullable = true)\n",
      " |    |    |-- notifications: void (nullable = true)\n",
      " |    |    |-- profile_background_color: string (nullable = true)\n",
      " |    |    |-- profile_background_image_url: string (nullable = true)\n",
      " |    |    |-- profile_background_image_url_https: string (nullable = true)\n",
      " |    |    |-- profile_background_tile: boolean (nullable = true)\n",
      " |    |    |-- profile_banner_url: string (nullable = true)\n",
      " |    |    |-- profile_image_url: string (nullable = true)\n",
      " |    |    |-- profile_image_url_https: string (nullable = true)\n",
      " |    |    |-- profile_link_color: string (nullable = true)\n",
      " |    |    |-- profile_sidebar_border_color: string (nullable = true)\n",
      " |    |    |-- profile_sidebar_fill_color: string (nullable = true)\n",
      " |    |    |-- profile_text_color: string (nullable = true)\n",
      " |    |    |-- profile_use_background_image: boolean (nullable = true)\n",
      " |    |    |-- protected: boolean (nullable = true)\n",
      " |    |    |-- screen_name: string (nullable = true)\n",
      " |    |    |-- statuses_count: integer (nullable = true)\n",
      " |    |    |-- time_zone: void (nullable = true)\n",
      " |    |    |-- translator_type: string (nullable = true)\n",
      " |    |    |-- url: string (nullable = true)\n",
      " |    |    |-- utc_offset: void (nullable = true)\n",
      " |    |    |-- verified: boolean (nullable = true)\n",
      " |-- quoted_status_id: long (nullable = true)\n",
      " |-- quoted_status_id_str: string (nullable = true)\n",
      " |-- quoted_status_permalink: struct (nullable = true)\n",
      " |    |-- url: string (nullable = true)\n",
      " |    |-- expanded: string (nullable = true)\n",
      " |    |-- display: string (nullable = true)\n",
      " |-- reply_count: integer (nullable = true)\n",
      " |-- retweet_count: integer (nullable = true)\n",
      " |-- retweeted: boolean (nullable = true)\n",
      " |-- retweeted_status: struct (nullable = true)\n",
      " |    |-- contributors: void (nullable = true)\n",
      " |    |-- coordinates: void (nullable = true)\n",
      " |    |-- created_at: string (nullable = true)\n",
      " |    |-- display_text_range: array (nullable = true)\n",
      " |    |    |-- element: integer (containsNull = true)\n",
      " |    |-- entities: struct (nullable = true)\n",
      " |    |    |-- hashtags: array (nullable = true)\n",
      " |    |    |    |-- element: struct (containsNull = true)\n",
      " |    |    |    |    |-- text: string (nullable = true)\n",
      " |    |    |    |    |-- indices: array (nullable = true)\n",
      " |    |    |    |    |    |-- element: integer (containsNull = true)\n",
      " |    |    |-- media: array (nullable = true)\n",
      " |    |    |    |-- element: struct (containsNull = true)\n",
      " |    |    |    |    |-- additional_media_info: struct (nullable = true)\n",
      " |    |    |    |    |    |-- description: string (nullable = true)\n",
      " |    |    |    |    |    |-- embeddable: boolean (nullable = true)\n",
      " |    |    |    |    |    |-- monetizable: boolean (nullable = true)\n",
      " |    |    |    |    |    |-- title: string (nullable = true)\n",
      " |    |    |    |    |-- description: string (nullable = true)\n",
      " |    |    |    |    |-- display_url: string (nullable = true)\n",
      " |    |    |    |    |-- expanded_url: string (nullable = true)\n",
      " |    |    |    |    |-- id: long (nullable = true)\n",
      " |    |    |    |    |-- id_str: string (nullable = true)\n",
      " |    |    |    |    |-- indices: array (nullable = true)\n",
      " |    |    |    |    |    |-- element: integer (containsNull = true)\n",
      " |    |    |    |    |-- media_url: string (nullable = true)\n",
      " |    |    |    |    |-- media_url_https: string (nullable = true)\n",
      " |    |    |    |    |-- sizes: struct (nullable = true)\n",
      " |    |    |    |    |    |-- large: struct (nullable = true)\n",
      " |    |    |    |    |    |    |-- w: integer (nullable = true)\n",
      " |    |    |    |    |    |    |-- h: integer (nullable = true)\n",
      " |    |    |    |    |    |    |-- resize: string (nullable = true)\n",
      " |    |    |    |    |    |-- medium: struct (nullable = true)\n",
      " |    |    |    |    |    |    |-- w: integer (nullable = true)\n",
      " |    |    |    |    |    |    |-- h: integer (nullable = true)\n",
      " |    |    |    |    |    |    |-- resize: string (nullable = true)\n",
      " |    |    |    |    |    |-- small: struct (nullable = true)\n",
      " |    |    |    |    |    |    |-- w: integer (nullable = true)\n",
      " |    |    |    |    |    |    |-- h: integer (nullable = true)\n",
      " |    |    |    |    |    |    |-- resize: string (nullable = true)\n",
      " |    |    |    |    |    |-- thumb: struct (nullable = true)\n",
      " |    |    |    |    |    |    |-- w: integer (nullable = true)\n",
      " |    |    |    |    |    |    |-- h: integer (nullable = true)\n",
      " |    |    |    |    |    |    |-- resize: string (nullable = true)\n",
      " |    |    |    |    |-- source_status_id: long (nullable = true)\n",
      " |    |    |    |    |-- source_status_id_str: string (nullable = true)\n",
      " |    |    |    |    |-- source_user_id: long (nullable = true)\n",
      " |    |    |    |    |-- source_user_id_str: string (nullable = true)\n",
      " |    |    |    |    |-- type: string (nullable = true)\n",
      " |    |    |    |    |-- url: string (nullable = true)\n",
      " |    |    |-- symbols: array (nullable = true)\n",
      " |    |    |    |-- element: struct (containsNull = true)\n",
      " |    |    |    |    |-- text: string (nullable = true)\n",
      " |    |    |    |    |-- indices: array (nullable = true)\n",
      " |    |    |    |    |    |-- element: integer (containsNull = true)\n",
      " |    |    |-- urls: array (nullable = true)\n",
      " |    |    |    |-- element: struct (containsNull = true)\n",
      " |    |    |    |    |-- url: string (nullable = true)\n",
      " |    |    |    |    |-- expanded_url: string (nullable = true)\n",
      " |    |    |    |    |-- display_url: string (nullable = true)\n",
      " |    |    |    |    |-- indices: array (nullable = true)\n",
      " |    |    |    |    |    |-- element: integer (containsNull = true)\n",
      " |    |    |-- user_mentions: array (nullable = true)\n",
      " |    |    |    |-- element: struct (containsNull = true)\n",
      " |    |    |    |    |-- screen_name: string (nullable = true)\n",
      " |    |    |    |    |-- name: string (nullable = true)\n",
      " |    |    |    |    |-- id: long (nullable = true)\n",
      " |    |    |    |    |-- id_str: string (nullable = true)\n",
      " |    |    |    |    |-- indices: array (nullable = true)\n",
      " |    |    |    |    |    |-- element: integer (containsNull = true)\n",
      " |    |-- extended_entities: struct (nullable = true)\n",
      " |    |    |-- media: array (nullable = true)\n",
      " |    |    |    |-- element: struct (containsNull = true)\n",
      " |    |    |    |    |-- additional_media_info: struct (nullable = true)\n",
      " |    |    |    |    |    |-- description: string (nullable = true)\n",
      " |    |    |    |    |    |-- embeddable: boolean (nullable = true)\n",
      " |    |    |    |    |    |-- monetizable: boolean (nullable = true)\n",
      " |    |    |    |    |    |-- title: string (nullable = true)\n",
      " |    |    |    |    |-- description: string (nullable = true)\n",
      " |    |    |    |    |-- display_url: string (nullable = true)\n",
      " |    |    |    |    |-- expanded_url: string (nullable = true)\n",
      " |    |    |    |    |-- id: long (nullable = true)\n",
      " |    |    |    |    |-- id_str: string (nullable = true)\n",
      " |    |    |    |    |-- indices: array (nullable = true)\n",
      " |    |    |    |    |    |-- element: integer (containsNull = true)\n",
      " |    |    |    |    |-- media_url: string (nullable = true)\n",
      " |    |    |    |    |-- media_url_https: string (nullable = true)\n",
      " |    |    |    |    |-- sizes: struct (nullable = true)\n",
      " |    |    |    |    |    |-- large: struct (nullable = true)\n",
      " |    |    |    |    |    |    |-- w: integer (nullable = true)\n",
      " |    |    |    |    |    |    |-- h: integer (nullable = true)\n",
      " |    |    |    |    |    |    |-- resize: string (nullable = true)\n",
      " |    |    |    |    |    |-- medium: struct (nullable = true)\n",
      " |    |    |    |    |    |    |-- w: integer (nullable = true)\n",
      " |    |    |    |    |    |    |-- h: integer (nullable = true)\n",
      " |    |    |    |    |    |    |-- resize: string (nullable = true)\n",
      " |    |    |    |    |    |-- small: struct (nullable = true)\n",
      " |    |    |    |    |    |    |-- w: integer (nullable = true)\n",
      " |    |    |    |    |    |    |-- h: integer (nullable = true)\n",
      " |    |    |    |    |    |    |-- resize: string (nullable = true)\n",
      " |    |    |    |    |    |-- thumb: struct (nullable = true)\n",
      " |    |    |    |    |    |    |-- w: integer (nullable = true)\n",
      " |    |    |    |    |    |    |-- h: integer (nullable = true)\n",
      " |    |    |    |    |    |    |-- resize: string (nullable = true)\n",
      " |    |    |    |    |-- source_status_id: long (nullable = true)\n",
      " |    |    |    |    |-- source_status_id_str: string (nullable = true)\n",
      " |    |    |    |    |-- source_user_id: long (nullable = true)\n",
      " |    |    |    |    |-- source_user_id_str: string (nullable = true)\n",
      " |    |    |    |    |-- type: string (nullable = true)\n",
      " |    |    |    |    |-- url: string (nullable = true)\n",
      " |    |    |    |    |-- video_info: struct (nullable = true)\n",
      " |    |    |    |    |    |-- aspect_ratio: array (nullable = true)\n",
      " |    |    |    |    |    |    |-- element: integer (containsNull = true)\n",
      " |    |    |    |    |    |-- duration_millis: integer (nullable = true)\n",
      " |    |    |    |    |    |-- variants: array (nullable = true)\n",
      " |    |    |    |    |    |    |-- element: struct (containsNull = true)\n",
      " |    |    |    |    |    |    |    |-- bitrate: integer (nullable = true)\n",
      " |    |    |    |    |    |    |    |-- content_type: string (nullable = true)\n",
      " |    |    |    |    |    |    |    |-- url: string (nullable = true)\n",
      " |    |-- extended_tweet: struct (nullable = true)\n",
      " |    |    |-- display_text_range: array (nullable = true)\n",
      " |    |    |    |-- element: integer (containsNull = true)\n",
      " |    |    |-- entities: struct (nullable = true)\n",
      " |    |    |    |-- hashtags: array (nullable = true)\n",
      " |    |    |    |    |-- element: struct (containsNull = true)\n",
      " |    |    |    |    |    |-- text: string (nullable = true)\n",
      " |    |    |    |    |    |-- indices: array (nullable = true)\n",
      " |    |    |    |    |    |    |-- element: integer (containsNull = true)\n",
      " |    |    |    |-- media: array (nullable = true)\n",
      " |    |    |    |    |-- element: struct (containsNull = true)\n",
      " |    |    |    |    |    |-- additional_media_info: struct (nullable = true)\n",
      " |    |    |    |    |    |    |-- description: string (nullable = true)\n",
      " |    |    |    |    |    |    |-- embeddable: boolean (nullable = true)\n",
      " |    |    |    |    |    |    |-- monetizable: boolean (nullable = true)\n",
      " |    |    |    |    |    |    |-- title: string (nullable = true)\n",
      " |    |    |    |    |    |-- description: string (nullable = true)\n",
      " |    |    |    |    |    |-- display_url: string (nullable = true)\n",
      " |    |    |    |    |    |-- expanded_url: string (nullable = true)\n",
      " |    |    |    |    |    |-- id: long (nullable = true)\n",
      " |    |    |    |    |    |-- id_str: string (nullable = true)\n",
      " |    |    |    |    |    |-- indices: array (nullable = true)\n",
      " |    |    |    |    |    |    |-- element: integer (containsNull = true)\n",
      " |    |    |    |    |    |-- media_url: string (nullable = true)\n",
      " |    |    |    |    |    |-- media_url_https: string (nullable = true)\n",
      " |    |    |    |    |    |-- sizes: struct (nullable = true)\n",
      " |    |    |    |    |    |    |-- large: struct (nullable = true)\n",
      " |    |    |    |    |    |    |    |-- w: integer (nullable = true)\n",
      " |    |    |    |    |    |    |    |-- h: integer (nullable = true)\n",
      " |    |    |    |    |    |    |    |-- resize: string (nullable = true)\n",
      " |    |    |    |    |    |    |-- medium: struct (nullable = true)\n",
      " |    |    |    |    |    |    |    |-- w: integer (nullable = true)\n",
      " |    |    |    |    |    |    |    |-- h: integer (nullable = true)\n",
      " |    |    |    |    |    |    |    |-- resize: string (nullable = true)\n",
      " |    |    |    |    |    |    |-- small: struct (nullable = true)\n",
      " |    |    |    |    |    |    |    |-- w: integer (nullable = true)\n",
      " |    |    |    |    |    |    |    |-- h: integer (nullable = true)\n",
      " |    |    |    |    |    |    |    |-- resize: string (nullable = true)\n",
      " |    |    |    |    |    |    |-- thumb: struct (nullable = true)\n",
      " |    |    |    |    |    |    |    |-- w: integer (nullable = true)\n",
      " |    |    |    |    |    |    |    |-- h: integer (nullable = true)\n",
      " |    |    |    |    |    |    |    |-- resize: string (nullable = true)\n",
      " |    |    |    |    |    |-- source_status_id: long (nullable = true)\n",
      " |    |    |    |    |    |-- source_status_id_str: string (nullable = true)\n",
      " |    |    |    |    |    |-- source_user_id: long (nullable = true)\n",
      " |    |    |    |    |    |-- source_user_id_str: string (nullable = true)\n",
      " |    |    |    |    |    |-- type: string (nullable = true)\n",
      " |    |    |    |    |    |-- url: string (nullable = true)\n",
      " |    |    |    |    |    |-- video_info: struct (nullable = true)\n",
      " |    |    |    |    |    |    |-- aspect_ratio: array (nullable = true)\n",
      " |    |    |    |    |    |    |    |-- element: integer (containsNull = true)\n",
      " |    |    |    |    |    |    |-- duration_millis: integer (nullable = true)\n",
      " |    |    |    |    |    |    |-- variants: array (nullable = true)\n",
      " |    |    |    |    |    |    |    |-- element: struct (containsNull = true)\n",
      " |    |    |    |    |    |    |    |    |-- bitrate: integer (nullable = true)\n",
      " |    |    |    |    |    |    |    |    |-- content_type: string (nullable = true)\n",
      " |    |    |    |    |    |    |    |    |-- url: string (nullable = true)\n",
      " |    |    |    |-- symbols: array (nullable = true)\n",
      " |    |    |    |    |-- element: struct (containsNull = true)\n",
      " |    |    |    |    |    |-- text: string (nullable = true)\n",
      " |    |    |    |    |    |-- indices: array (nullable = true)\n",
      " |    |    |    |    |    |    |-- element: integer (containsNull = true)\n",
      " |    |    |    |-- urls: array (nullable = true)\n",
      " |    |    |    |    |-- element: struct (containsNull = true)\n",
      " |    |    |    |    |    |-- url: string (nullable = true)\n",
      " |    |    |    |    |    |-- expanded_url: string (nullable = true)\n",
      " |    |    |    |    |    |-- display_url: string (nullable = true)\n",
      " |    |    |    |    |    |-- indices: array (nullable = true)\n",
      " |    |    |    |    |    |    |-- element: integer (containsNull = true)\n",
      " |    |    |    |-- user_mentions: array (nullable = true)\n",
      " |    |    |    |    |-- element: struct (containsNull = true)\n",
      " |    |    |    |    |    |-- screen_name: string (nullable = true)\n",
      " |    |    |    |    |    |-- name: string (nullable = true)\n",
      " |    |    |    |    |    |-- id: long (nullable = true)\n",
      " |    |    |    |    |    |-- id_str: string (nullable = true)\n",
      " |    |    |    |    |    |-- indices: array (nullable = true)\n",
      " |    |    |    |    |    |    |-- element: integer (containsNull = true)\n",
      " |    |    |-- extended_entities: struct (nullable = true)\n",
      " |    |    |    |-- media: array (nullable = true)\n",
      " |    |    |    |    |-- element: struct (containsNull = true)\n",
      " |    |    |    |    |    |-- additional_media_info: struct (nullable = true)\n",
      " |    |    |    |    |    |    |-- description: string (nullable = true)\n",
      " |    |    |    |    |    |    |-- embeddable: boolean (nullable = true)\n",
      " |    |    |    |    |    |    |-- monetizable: boolean (nullable = true)\n",
      " |    |    |    |    |    |    |-- title: string (nullable = true)\n",
      " |    |    |    |    |    |-- description: string (nullable = true)\n",
      " |    |    |    |    |    |-- display_url: string (nullable = true)\n",
      " |    |    |    |    |    |-- expanded_url: string (nullable = true)\n",
      " |    |    |    |    |    |-- id: long (nullable = true)\n",
      " |    |    |    |    |    |-- id_str: string (nullable = true)\n",
      " |    |    |    |    |    |-- indices: array (nullable = true)\n",
      " |    |    |    |    |    |    |-- element: integer (containsNull = true)\n",
      " |    |    |    |    |    |-- media_url: string (nullable = true)\n",
      " |    |    |    |    |    |-- media_url_https: string (nullable = true)\n",
      " |    |    |    |    |    |-- sizes: struct (nullable = true)\n",
      " |    |    |    |    |    |    |-- large: struct (nullable = true)\n",
      " |    |    |    |    |    |    |    |-- w: integer (nullable = true)\n",
      " |    |    |    |    |    |    |    |-- h: integer (nullable = true)\n",
      " |    |    |    |    |    |    |    |-- resize: string (nullable = true)\n",
      " |    |    |    |    |    |    |-- medium: struct (nullable = true)\n",
      " |    |    |    |    |    |    |    |-- w: integer (nullable = true)\n",
      " |    |    |    |    |    |    |    |-- h: integer (nullable = true)\n",
      " |    |    |    |    |    |    |    |-- resize: string (nullable = true)\n",
      " |    |    |    |    |    |    |-- small: struct (nullable = true)\n",
      " |    |    |    |    |    |    |    |-- w: integer (nullable = true)\n",
      " |    |    |    |    |    |    |    |-- h: integer (nullable = true)\n",
      " |    |    |    |    |    |    |    |-- resize: string (nullable = true)\n",
      " |    |    |    |    |    |    |-- thumb: struct (nullable = true)\n",
      " |    |    |    |    |    |    |    |-- w: integer (nullable = true)\n",
      " |    |    |    |    |    |    |    |-- h: integer (nullable = true)\n",
      " |    |    |    |    |    |    |    |-- resize: string (nullable = true)\n",
      " |    |    |    |    |    |-- source_status_id: long (nullable = true)\n",
      " |    |    |    |    |    |-- source_status_id_str: string (nullable = true)\n",
      " |    |    |    |    |    |-- source_user_id: long (nullable = true)\n",
      " |    |    |    |    |    |-- source_user_id_str: string (nullable = true)\n",
      " |    |    |    |    |    |-- type: string (nullable = true)\n",
      " |    |    |    |    |    |-- url: string (nullable = true)\n",
      " |    |    |    |    |    |-- video_info: struct (nullable = true)\n",
      " |    |    |    |    |    |    |-- aspect_ratio: array (nullable = true)\n",
      " |    |    |    |    |    |    |    |-- element: integer (containsNull = true)\n",
      " |    |    |    |    |    |    |-- duration_millis: integer (nullable = true)\n",
      " |    |    |    |    |    |    |-- variants: array (nullable = true)\n",
      " |    |    |    |    |    |    |    |-- element: struct (containsNull = true)\n",
      " |    |    |    |    |    |    |    |    |-- bitrate: integer (nullable = true)\n",
      " |    |    |    |    |    |    |    |    |-- content_type: string (nullable = true)\n",
      " |    |    |    |    |    |    |    |    |-- url: string (nullable = true)\n",
      " |    |    |-- full_text: string (nullable = true)\n",
      " |    |-- favorite_count: integer (nullable = true)\n",
      " |    |-- favorited: boolean (nullable = true)\n",
      " |    |-- filter_level: string (nullable = true)\n",
      " |    |-- geo: void (nullable = true)\n",
      " |    |-- id: long (nullable = true)\n",
      " |    |-- id_str: string (nullable = true)\n",
      " |    |-- in_reply_to_screen_name: string (nullable = true)\n",
      " |    |-- in_reply_to_status_id: long (nullable = true)\n",
      " |    |-- in_reply_to_status_id_str: string (nullable = true)\n",
      " |    |-- in_reply_to_user_id: long (nullable = true)\n",
      " |    |-- in_reply_to_user_id_str: string (nullable = true)\n",
      " |    |-- is_quote_status: boolean (nullable = true)\n",
      " |    |-- lang: string (nullable = true)\n",
      " |    |-- place: struct (nullable = true)\n",
      " |    |    |-- id: string (nullable = true)\n",
      " |    |    |-- url: string (nullable = true)\n",
      " |    |    |-- place_type: string (nullable = true)\n",
      " |    |    |-- name: string (nullable = true)\n",
      " |    |    |-- full_name: string (nullable = true)\n",
      " |    |    |-- country_code: string (nullable = true)\n",
      " |    |    |-- country: string (nullable = true)\n",
      " |    |    |-- bounding_box: struct (nullable = true)\n",
      " |    |    |    |-- type: string (nullable = true)\n",
      " |    |    |    |-- coordinates: array (nullable = true)\n",
      " |    |    |    |    |-- element: array (containsNull = true)\n",
      " |    |    |    |    |    |-- element: array (containsNull = true)\n",
      " |    |    |    |    |    |    |-- element: double (containsNull = true)\n",
      " |    |-- possibly_sensitive: boolean (nullable = true)\n",
      " |    |-- quote_count: integer (nullable = true)\n",
      " |    |-- quoted_status: struct (nullable = true)\n",
      " |    |    |-- contributors: void (nullable = true)\n",
      " |    |    |-- coordinates: void (nullable = true)\n",
      " |    |    |-- created_at: string (nullable = true)\n",
      " |    |    |-- display_text_range: array (nullable = true)\n",
      " |    |    |    |-- element: integer (containsNull = true)\n",
      " |    |    |-- entities: struct (nullable = true)\n",
      " |    |    |    |-- hashtags: array (nullable = true)\n",
      " |    |    |    |    |-- element: struct (containsNull = true)\n",
      " |    |    |    |    |    |-- text: string (nullable = true)\n",
      " |    |    |    |    |    |-- indices: array (nullable = true)\n",
      " |    |    |    |    |    |    |-- element: integer (containsNull = true)\n",
      " |    |    |    |-- media: array (nullable = true)\n",
      " |    |    |    |    |-- element: struct (containsNull = true)\n",
      " |    |    |    |    |    |-- additional_media_info: struct (nullable = true)\n",
      " |    |    |    |    |    |    |-- description: string (nullable = true)\n",
      " |    |    |    |    |    |    |-- embeddable: boolean (nullable = true)\n",
      " |    |    |    |    |    |    |-- monetizable: boolean (nullable = true)\n",
      " |    |    |    |    |    |    |-- title: string (nullable = true)\n",
      " |    |    |    |    |    |-- display_url: string (nullable = true)\n",
      " |    |    |    |    |    |-- expanded_url: string (nullable = true)\n",
      " |    |    |    |    |    |-- id: long (nullable = true)\n",
      " |    |    |    |    |    |-- id_str: string (nullable = true)\n",
      " |    |    |    |    |    |-- indices: array (nullable = true)\n",
      " |    |    |    |    |    |    |-- element: integer (containsNull = true)\n",
      " |    |    |    |    |    |-- media_url: string (nullable = true)\n",
      " |    |    |    |    |    |-- media_url_https: string (nullable = true)\n",
      " |    |    |    |    |    |-- sizes: struct (nullable = true)\n",
      " |    |    |    |    |    |    |-- large: struct (nullable = true)\n",
      " |    |    |    |    |    |    |    |-- w: integer (nullable = true)\n",
      " |    |    |    |    |    |    |    |-- h: integer (nullable = true)\n",
      " |    |    |    |    |    |    |    |-- resize: string (nullable = true)\n",
      " |    |    |    |    |    |    |-- medium: struct (nullable = true)\n",
      " |    |    |    |    |    |    |    |-- w: integer (nullable = true)\n",
      " |    |    |    |    |    |    |    |-- h: integer (nullable = true)\n",
      " |    |    |    |    |    |    |    |-- resize: string (nullable = true)\n",
      " |    |    |    |    |    |    |-- small: struct (nullable = true)\n",
      " |    |    |    |    |    |    |    |-- w: integer (nullable = true)\n",
      " |    |    |    |    |    |    |    |-- h: integer (nullable = true)\n",
      " |    |    |    |    |    |    |    |-- resize: string (nullable = true)\n",
      " |    |    |    |    |    |    |-- thumb: struct (nullable = true)\n",
      " |    |    |    |    |    |    |    |-- w: integer (nullable = true)\n",
      " |    |    |    |    |    |    |    |-- h: integer (nullable = true)\n",
      " |    |    |    |    |    |    |    |-- resize: string (nullable = true)\n",
      " |    |    |    |    |    |-- source_status_id: long (nullable = true)\n",
      " |    |    |    |    |    |-- source_status_id_str: string (nullable = true)\n",
      " |    |    |    |    |    |-- source_user_id: long (nullable = true)\n",
      " |    |    |    |    |    |-- source_user_id_str: string (nullable = true)\n",
      " |    |    |    |    |    |-- type: string (nullable = true)\n",
      " |    |    |    |    |    |-- url: string (nullable = true)\n",
      " |    |    |    |-- urls: array (nullable = true)\n",
      " |    |    |    |    |-- element: struct (containsNull = true)\n",
      " |    |    |    |    |    |-- url: string (nullable = true)\n",
      " |    |    |    |    |    |-- expanded_url: string (nullable = true)\n",
      " |    |    |    |    |    |-- display_url: string (nullable = true)\n",
      " |    |    |    |    |    |-- indices: array (nullable = true)\n",
      " |    |    |    |    |    |    |-- element: integer (containsNull = true)\n",
      " |    |    |    |-- user_mentions: array (nullable = true)\n",
      " |    |    |    |    |-- element: struct (containsNull = true)\n",
      " |    |    |    |    |    |-- screen_name: string (nullable = true)\n",
      " |    |    |    |    |    |-- name: string (nullable = true)\n",
      " |    |    |    |    |    |-- id: long (nullable = true)\n",
      " |    |    |    |    |    |-- id_str: string (nullable = true)\n",
      " |    |    |    |    |    |-- indices: array (nullable = true)\n",
      " |    |    |    |    |    |    |-- element: integer (containsNull = true)\n",
      " |    |    |-- extended_entities: struct (nullable = true)\n",
      " |    |    |    |-- media: array (nullable = true)\n",
      " |    |    |    |    |-- element: struct (containsNull = true)\n",
      " |    |    |    |    |    |-- additional_media_info: struct (nullable = true)\n",
      " |    |    |    |    |    |    |-- description: string (nullable = true)\n",
      " |    |    |    |    |    |    |-- embeddable: boolean (nullable = true)\n",
      " |    |    |    |    |    |    |-- monetizable: boolean (nullable = true)\n",
      " |    |    |    |    |    |    |-- title: string (nullable = true)\n",
      " |    |    |    |    |    |-- display_url: string (nullable = true)\n",
      " |    |    |    |    |    |-- expanded_url: string (nullable = true)\n",
      " |    |    |    |    |    |-- id: long (nullable = true)\n",
      " |    |    |    |    |    |-- id_str: string (nullable = true)\n",
      " |    |    |    |    |    |-- indices: array (nullable = true)\n",
      " |    |    |    |    |    |    |-- element: integer (containsNull = true)\n",
      " |    |    |    |    |    |-- media_url: string (nullable = true)\n",
      " |    |    |    |    |    |-- media_url_https: string (nullable = true)\n",
      " |    |    |    |    |    |-- sizes: struct (nullable = true)\n",
      " |    |    |    |    |    |    |-- large: struct (nullable = true)\n",
      " |    |    |    |    |    |    |    |-- w: integer (nullable = true)\n",
      " |    |    |    |    |    |    |    |-- h: integer (nullable = true)\n",
      " |    |    |    |    |    |    |    |-- resize: string (nullable = true)\n",
      " |    |    |    |    |    |    |-- medium: struct (nullable = true)\n",
      " |    |    |    |    |    |    |    |-- w: integer (nullable = true)\n",
      " |    |    |    |    |    |    |    |-- h: integer (nullable = true)\n",
      " |    |    |    |    |    |    |    |-- resize: string (nullable = true)\n",
      " |    |    |    |    |    |    |-- small: struct (nullable = true)\n",
      " |    |    |    |    |    |    |    |-- w: integer (nullable = true)\n",
      " |    |    |    |    |    |    |    |-- h: integer (nullable = true)\n",
      " |    |    |    |    |    |    |    |-- resize: string (nullable = true)\n",
      " |    |    |    |    |    |    |-- thumb: struct (nullable = true)\n",
      " |    |    |    |    |    |    |    |-- w: integer (nullable = true)\n",
      " |    |    |    |    |    |    |    |-- h: integer (nullable = true)\n",
      " |    |    |    |    |    |    |    |-- resize: string (nullable = true)\n",
      " |    |    |    |    |    |-- source_status_id: long (nullable = true)\n",
      " |    |    |    |    |    |-- source_status_id_str: string (nullable = true)\n",
      " |    |    |    |    |    |-- source_user_id: long (nullable = true)\n",
      " |    |    |    |    |    |-- source_user_id_str: string (nullable = true)\n",
      " |    |    |    |    |    |-- type: string (nullable = true)\n",
      " |    |    |    |    |    |-- url: string (nullable = true)\n",
      " |    |    |    |    |    |-- video_info: struct (nullable = true)\n",
      " |    |    |    |    |    |    |-- aspect_ratio: array (nullable = true)\n",
      " |    |    |    |    |    |    |    |-- element: integer (containsNull = true)\n",
      " |    |    |    |    |    |    |-- duration_millis: integer (nullable = true)\n",
      " |    |    |    |    |    |    |-- variants: array (nullable = true)\n",
      " |    |    |    |    |    |    |    |-- element: struct (containsNull = true)\n",
      " |    |    |    |    |    |    |    |    |-- bitrate: integer (nullable = true)\n",
      " |    |    |    |    |    |    |    |    |-- content_type: string (nullable = true)\n",
      " |    |    |    |    |    |    |    |    |-- url: string (nullable = true)\n",
      " |    |    |-- extended_tweet: struct (nullable = true)\n",
      " |    |    |    |-- display_text_range: array (nullable = true)\n",
      " |    |    |    |    |-- element: integer (containsNull = true)\n",
      " |    |    |    |-- entities: struct (nullable = true)\n",
      " |    |    |    |    |-- hashtags: array (nullable = true)\n",
      " |    |    |    |    |    |-- element: struct (containsNull = true)\n",
      " |    |    |    |    |    |    |-- text: string (nullable = true)\n",
      " |    |    |    |    |    |    |-- indices: array (nullable = true)\n",
      " |    |    |    |    |    |    |    |-- element: integer (containsNull = true)\n",
      " |    |    |    |    |-- media: array (nullable = true)\n",
      " |    |    |    |    |    |-- element: struct (containsNull = true)\n",
      " |    |    |    |    |    |    |-- additional_media_info: struct (nullable = true)\n",
      " |    |    |    |    |    |    |    |-- description: string (nullable = true)\n",
      " |    |    |    |    |    |    |    |-- embeddable: boolean (nullable = true)\n",
      " |    |    |    |    |    |    |    |-- monetizable: boolean (nullable = true)\n",
      " |    |    |    |    |    |    |    |-- title: string (nullable = true)\n",
      " |    |    |    |    |    |    |-- description: string (nullable = true)\n",
      " |    |    |    |    |    |    |-- display_url: string (nullable = true)\n",
      " |    |    |    |    |    |    |-- expanded_url: string (nullable = true)\n",
      " |    |    |    |    |    |    |-- id: long (nullable = true)\n",
      " |    |    |    |    |    |    |-- id_str: string (nullable = true)\n",
      " |    |    |    |    |    |    |-- indices: array (nullable = true)\n",
      " |    |    |    |    |    |    |    |-- element: integer (containsNull = true)\n",
      " |    |    |    |    |    |    |-- media_url: string (nullable = true)\n",
      " |    |    |    |    |    |    |-- media_url_https: string (nullable = true)\n",
      " |    |    |    |    |    |    |-- sizes: struct (nullable = true)\n",
      " |    |    |    |    |    |    |    |-- large: struct (nullable = true)\n",
      " |    |    |    |    |    |    |    |    |-- w: integer (nullable = true)\n",
      " |    |    |    |    |    |    |    |    |-- h: integer (nullable = true)\n",
      " |    |    |    |    |    |    |    |    |-- resize: string (nullable = true)\n",
      " |    |    |    |    |    |    |    |-- medium: struct (nullable = true)\n",
      " |    |    |    |    |    |    |    |    |-- w: integer (nullable = true)\n",
      " |    |    |    |    |    |    |    |    |-- h: integer (nullable = true)\n",
      " |    |    |    |    |    |    |    |    |-- resize: string (nullable = true)\n",
      " |    |    |    |    |    |    |    |-- small: struct (nullable = true)\n",
      " |    |    |    |    |    |    |    |    |-- w: integer (nullable = true)\n",
      " |    |    |    |    |    |    |    |    |-- h: integer (nullable = true)\n",
      " |    |    |    |    |    |    |    |    |-- resize: string (nullable = true)\n",
      " |    |    |    |    |    |    |    |-- thumb: struct (nullable = true)\n",
      " |    |    |    |    |    |    |    |    |-- w: integer (nullable = true)\n",
      " |    |    |    |    |    |    |    |    |-- h: integer (nullable = true)\n",
      " |    |    |    |    |    |    |    |    |-- resize: string (nullable = true)\n",
      " |    |    |    |    |    |    |-- source_status_id: long (nullable = true)\n",
      " |    |    |    |    |    |    |-- source_status_id_str: string (nullable = true)\n",
      " |    |    |    |    |    |    |-- source_user_id: long (nullable = true)\n",
      " |    |    |    |    |    |    |-- source_user_id_str: string (nullable = true)\n",
      " |    |    |    |    |    |    |-- type: string (nullable = true)\n",
      " |    |    |    |    |    |    |-- url: string (nullable = true)\n",
      " |    |    |    |    |    |    |-- video_info: struct (nullable = true)\n",
      " |    |    |    |    |    |    |    |-- aspect_ratio: array (nullable = true)\n",
      " |    |    |    |    |    |    |    |    |-- element: integer (containsNull = true)\n",
      " |    |    |    |    |    |    |    |-- duration_millis: integer (nullable = true)\n",
      " |    |    |    |    |    |    |    |-- variants: array (nullable = true)\n",
      " |    |    |    |    |    |    |    |    |-- element: struct (containsNull = true)\n",
      " |    |    |    |    |    |    |    |    |    |-- bitrate: integer (nullable = true)\n",
      " |    |    |    |    |    |    |    |    |    |-- content_type: string (nullable = true)\n",
      " |    |    |    |    |    |    |    |    |    |-- url: string (nullable = true)\n",
      " |    |    |    |    |-- symbols: array (nullable = true)\n",
      " |    |    |    |    |    |-- element: struct (containsNull = true)\n",
      " |    |    |    |    |    |    |-- text: string (nullable = true)\n",
      " |    |    |    |    |    |    |-- indices: array (nullable = true)\n",
      " |    |    |    |    |    |    |    |-- element: integer (containsNull = true)\n",
      " |    |    |    |    |-- urls: array (nullable = true)\n",
      " |    |    |    |    |    |-- element: struct (containsNull = true)\n",
      " |    |    |    |    |    |    |-- url: string (nullable = true)\n",
      " |    |    |    |    |    |    |-- expanded_url: string (nullable = true)\n",
      " |    |    |    |    |    |    |-- display_url: string (nullable = true)\n",
      " |    |    |    |    |    |    |-- indices: array (nullable = true)\n",
      " |    |    |    |    |    |    |    |-- element: integer (containsNull = true)\n",
      " |    |    |    |    |-- user_mentions: array (nullable = true)\n",
      " |    |    |    |    |    |-- element: struct (containsNull = true)\n",
      " |    |    |    |    |    |    |-- screen_name: string (nullable = true)\n",
      " |    |    |    |    |    |    |-- name: string (nullable = true)\n",
      " |    |    |    |    |    |    |-- id: long (nullable = true)\n",
      " |    |    |    |    |    |    |-- id_str: string (nullable = true)\n",
      " |    |    |    |    |    |    |-- indices: array (nullable = true)\n",
      " |    |    |    |    |    |    |    |-- element: integer (containsNull = true)\n",
      " |    |    |    |-- extended_entities: struct (nullable = true)\n",
      " |    |    |    |    |-- media: array (nullable = true)\n",
      " |    |    |    |    |    |-- element: struct (containsNull = true)\n",
      " |    |    |    |    |    |    |-- additional_media_info: struct (nullable = true)\n",
      " |    |    |    |    |    |    |    |-- description: string (nullable = true)\n",
      " |    |    |    |    |    |    |    |-- embeddable: boolean (nullable = true)\n",
      " |    |    |    |    |    |    |    |-- monetizable: boolean (nullable = true)\n",
      " |    |    |    |    |    |    |    |-- title: string (nullable = true)\n",
      " |    |    |    |    |    |    |-- description: string (nullable = true)\n",
      " |    |    |    |    |    |    |-- display_url: string (nullable = true)\n",
      " |    |    |    |    |    |    |-- expanded_url: string (nullable = true)\n",
      " |    |    |    |    |    |    |-- id: long (nullable = true)\n",
      " |    |    |    |    |    |    |-- id_str: string (nullable = true)\n",
      " |    |    |    |    |    |    |-- indices: array (nullable = true)\n",
      " |    |    |    |    |    |    |    |-- element: integer (containsNull = true)\n",
      " |    |    |    |    |    |    |-- media_url: string (nullable = true)\n",
      " |    |    |    |    |    |    |-- media_url_https: string (nullable = true)\n",
      " |    |    |    |    |    |    |-- sizes: struct (nullable = true)\n",
      " |    |    |    |    |    |    |    |-- large: struct (nullable = true)\n",
      " |    |    |    |    |    |    |    |    |-- w: integer (nullable = true)\n",
      " |    |    |    |    |    |    |    |    |-- h: integer (nullable = true)\n",
      " |    |    |    |    |    |    |    |    |-- resize: string (nullable = true)\n",
      " |    |    |    |    |    |    |    |-- medium: struct (nullable = true)\n",
      " |    |    |    |    |    |    |    |    |-- w: integer (nullable = true)\n",
      " |    |    |    |    |    |    |    |    |-- h: integer (nullable = true)\n",
      " |    |    |    |    |    |    |    |    |-- resize: string (nullable = true)\n",
      " |    |    |    |    |    |    |    |-- small: struct (nullable = true)\n",
      " |    |    |    |    |    |    |    |    |-- w: integer (nullable = true)\n",
      " |    |    |    |    |    |    |    |    |-- h: integer (nullable = true)\n",
      " |    |    |    |    |    |    |    |    |-- resize: string (nullable = true)\n",
      " |    |    |    |    |    |    |    |-- thumb: struct (nullable = true)\n",
      " |    |    |    |    |    |    |    |    |-- w: integer (nullable = true)\n",
      " |    |    |    |    |    |    |    |    |-- h: integer (nullable = true)\n",
      " |    |    |    |    |    |    |    |    |-- resize: string (nullable = true)\n",
      " |    |    |    |    |    |    |-- source_status_id: long (nullable = true)\n",
      " |    |    |    |    |    |    |-- source_status_id_str: string (nullable = true)\n",
      " |    |    |    |    |    |    |-- source_user_id: long (nullable = true)\n",
      " |    |    |    |    |    |    |-- source_user_id_str: string (nullable = true)\n",
      " |    |    |    |    |    |    |-- type: string (nullable = true)\n",
      " |    |    |    |    |    |    |-- url: string (nullable = true)\n",
      " |    |    |    |    |    |    |-- video_info: struct (nullable = true)\n",
      " |    |    |    |    |    |    |    |-- aspect_ratio: array (nullable = true)\n",
      " |    |    |    |    |    |    |    |    |-- element: integer (containsNull = true)\n",
      " |    |    |    |    |    |    |    |-- duration_millis: integer (nullable = true)\n",
      " |    |    |    |    |    |    |    |-- variants: array (nullable = true)\n",
      " |    |    |    |    |    |    |    |    |-- element: struct (containsNull = true)\n",
      " |    |    |    |    |    |    |    |    |    |-- bitrate: integer (nullable = true)\n",
      " |    |    |    |    |    |    |    |    |    |-- content_type: string (nullable = true)\n",
      " |    |    |    |    |    |    |    |    |    |-- url: string (nullable = true)\n",
      " |    |    |    |-- full_text: string (nullable = true)\n",
      " |    |    |-- favorite_count: integer (nullable = true)\n",
      " |    |    |-- favorited: boolean (nullable = true)\n",
      " |    |    |-- filter_level: string (nullable = true)\n",
      " |    |    |-- geo: void (nullable = true)\n",
      " |    |    |-- id: long (nullable = true)\n",
      " |    |    |-- id_str: string (nullable = true)\n",
      " |    |    |-- in_reply_to_screen_name: string (nullable = true)\n",
      " |    |    |-- in_reply_to_status_id: long (nullable = true)\n",
      " |    |    |-- in_reply_to_status_id_str: string (nullable = true)\n",
      " |    |    |-- in_reply_to_user_id: long (nullable = true)\n",
      " |    |    |-- in_reply_to_user_id_str: string (nullable = true)\n",
      " |    |    |-- is_quote_status: boolean (nullable = true)\n",
      " |    |    |-- lang: string (nullable = true)\n",
      " |    |    |-- place: struct (nullable = true)\n",
      " |    |    |    |-- id: string (nullable = true)\n",
      " |    |    |    |-- url: string (nullable = true)\n",
      " |    |    |    |-- place_type: string (nullable = true)\n",
      " |    |    |    |-- name: string (nullable = true)\n",
      " |    |    |    |-- full_name: string (nullable = true)\n",
      " |    |    |    |-- country_code: string (nullable = true)\n",
      " |    |    |    |-- country: string (nullable = true)\n",
      " |    |    |    |-- bounding_box: struct (nullable = true)\n",
      " |    |    |    |    |-- type: string (nullable = true)\n",
      " |    |    |    |    |-- coordinates: array (nullable = true)\n",
      " |    |    |    |    |    |-- element: array (containsNull = true)\n",
      " |    |    |    |    |    |    |-- element: array (containsNull = true)\n",
      " |    |    |    |    |    |    |    |-- element: double (containsNull = true)\n",
      " |    |    |-- possibly_sensitive: boolean (nullable = true)\n",
      " |    |    |-- quote_count: integer (nullable = true)\n",
      " |    |    |-- quoted_status_id: long (nullable = true)\n",
      " |    |    |-- quoted_status_id_str: string (nullable = true)\n",
      " |    |    |-- reply_count: integer (nullable = true)\n",
      " |    |    |-- retweet_count: integer (nullable = true)\n",
      " |    |    |-- retweeted: boolean (nullable = true)\n",
      " |    |    |-- source: string (nullable = true)\n",
      " |    |    |-- text: string (nullable = true)\n",
      " |    |    |-- truncated: boolean (nullable = true)\n",
      " |    |    |-- user: struct (nullable = true)\n",
      " |    |    |    |-- contributors_enabled: boolean (nullable = true)\n",
      " |    |    |    |-- created_at: string (nullable = true)\n",
      " |    |    |    |-- default_profile: boolean (nullable = true)\n",
      " |    |    |    |-- default_profile_image: boolean (nullable = true)\n",
      " |    |    |    |-- description: string (nullable = true)\n",
      " |    |    |    |-- favourites_count: integer (nullable = true)\n",
      " |    |    |    |-- follow_request_sent: void (nullable = true)\n",
      " |    |    |    |-- followers_count: integer (nullable = true)\n",
      " |    |    |    |-- following: void (nullable = true)\n",
      " |    |    |    |-- friends_count: integer (nullable = true)\n",
      " |    |    |    |-- geo_enabled: boolean (nullable = true)\n",
      " |    |    |    |-- id: long (nullable = true)\n",
      " |    |    |    |-- id_str: string (nullable = true)\n",
      " |    |    |    |-- is_translator: boolean (nullable = true)\n",
      " |    |    |    |-- lang: void (nullable = true)\n",
      " |    |    |    |-- listed_count: integer (nullable = true)\n",
      " |    |    |    |-- location: string (nullable = true)\n",
      " |    |    |    |-- name: string (nullable = true)\n",
      " |    |    |    |-- notifications: void (nullable = true)\n",
      " |    |    |    |-- profile_background_color: string (nullable = true)\n",
      " |    |    |    |-- profile_background_image_url: string (nullable = true)\n",
      " |    |    |    |-- profile_background_image_url_https: string (nullable = true)\n",
      " |    |    |    |-- profile_background_tile: boolean (nullable = true)\n",
      " |    |    |    |-- profile_banner_url: string (nullable = true)\n",
      " |    |    |    |-- profile_image_url: string (nullable = true)\n",
      " |    |    |    |-- profile_image_url_https: string (nullable = true)\n",
      " |    |    |    |-- profile_link_color: string (nullable = true)\n",
      " |    |    |    |-- profile_sidebar_border_color: string (nullable = true)\n",
      " |    |    |    |-- profile_sidebar_fill_color: string (nullable = true)\n",
      " |    |    |    |-- profile_text_color: string (nullable = true)\n",
      " |    |    |    |-- profile_use_background_image: boolean (nullable = true)\n",
      " |    |    |    |-- protected: boolean (nullable = true)\n",
      " |    |    |    |-- screen_name: string (nullable = true)\n",
      " |    |    |    |-- statuses_count: integer (nullable = true)\n",
      " |    |    |    |-- time_zone: void (nullable = true)\n",
      " |    |    |    |-- translator_type: string (nullable = true)\n",
      " |    |    |    |-- url: string (nullable = true)\n",
      " |    |    |    |-- utc_offset: void (nullable = true)\n",
      " |    |    |    |-- verified: boolean (nullable = true)\n",
      " |    |-- quoted_status_id: long (nullable = true)\n",
      " |    |-- quoted_status_id_str: string (nullable = true)\n",
      " |    |-- quoted_status_permalink: struct (nullable = true)\n",
      " |    |    |-- url: string (nullable = true)\n",
      " |    |    |-- expanded: string (nullable = true)\n",
      " |    |    |-- display: string (nullable = true)\n",
      " |    |-- reply_count: integer (nullable = true)\n",
      " |    |-- retweet_count: integer (nullable = true)\n",
      " |    |-- retweeted: boolean (nullable = true)\n",
      " |    |-- scopes: struct (nullable = true)\n",
      " |    |    |-- followers: boolean (nullable = true)\n",
      " |    |-- source: string (nullable = true)\n",
      " |    |-- text: string (nullable = true)\n",
      " |    |-- truncated: boolean (nullable = true)\n",
      " |    |-- user: struct (nullable = true)\n",
      " |    |    |-- contributors_enabled: boolean (nullable = true)\n",
      " |    |    |-- created_at: string (nullable = true)\n",
      " |    |    |-- default_profile: boolean (nullable = true)\n",
      " |    |    |-- default_profile_image: boolean (nullable = true)\n",
      " |    |    |-- description: string (nullable = true)\n",
      " |    |    |-- favourites_count: integer (nullable = true)\n",
      " |    |    |-- follow_request_sent: void (nullable = true)\n",
      " |    |    |-- followers_count: integer (nullable = true)\n",
      " |    |    |-- following: void (nullable = true)\n",
      " |    |    |-- friends_count: integer (nullable = true)\n",
      " |    |    |-- geo_enabled: boolean (nullable = true)\n",
      " |    |    |-- id: long (nullable = true)\n",
      " |    |    |-- id_str: string (nullable = true)\n",
      " |    |    |-- is_translator: boolean (nullable = true)\n",
      " |    |    |-- lang: void (nullable = true)\n",
      " |    |    |-- listed_count: integer (nullable = true)\n",
      " |    |    |-- location: string (nullable = true)\n",
      " |    |    |-- name: string (nullable = true)\n",
      " |    |    |-- notifications: void (nullable = true)\n",
      " |    |    |-- profile_background_color: string (nullable = true)\n",
      " |    |    |-- profile_background_image_url: string (nullable = true)\n",
      " |    |    |-- profile_background_image_url_https: string (nullable = true)\n",
      " |    |    |-- profile_background_tile: boolean (nullable = true)\n",
      " |    |    |-- profile_banner_url: string (nullable = true)\n",
      " |    |    |-- profile_image_url: string (nullable = true)\n",
      " |    |    |-- profile_image_url_https: string (nullable = true)\n",
      " |    |    |-- profile_link_color: string (nullable = true)\n",
      " |    |    |-- profile_sidebar_border_color: string (nullable = true)\n",
      " |    |    |-- profile_sidebar_fill_color: string (nullable = true)\n",
      " |    |    |-- profile_text_color: string (nullable = true)\n",
      " |    |    |-- profile_use_background_image: boolean (nullable = true)\n",
      " |    |    |-- protected: boolean (nullable = true)\n",
      " |    |    |-- screen_name: string (nullable = true)\n",
      " |    |    |-- statuses_count: integer (nullable = true)\n",
      " |    |    |-- time_zone: void (nullable = true)\n",
      " |    |    |-- translator_type: string (nullable = true)\n",
      " |    |    |-- url: string (nullable = true)\n",
      " |    |    |-- utc_offset: void (nullable = true)\n",
      " |    |    |-- verified: boolean (nullable = true)\n",
      " |-- source: string (nullable = true)\n",
      " |-- text: string (nullable = true)\n",
      " |-- timestamp_ms: string (nullable = true)\n",
      " |-- truncated: boolean (nullable = true)\n",
      " |-- user: struct (nullable = true)\n",
      " |    |-- contributors_enabled: boolean (nullable = true)\n",
      " |    |-- created_at: string (nullable = true)\n",
      " |    |-- default_profile: boolean (nullable = true)\n",
      " |    |-- default_profile_image: boolean (nullable = true)\n",
      " |    |-- description: string (nullable = true)\n",
      " |    |-- favourites_count: integer (nullable = true)\n",
      " |    |-- follow_request_sent: void (nullable = true)\n",
      " |    |-- followers_count: integer (nullable = true)\n",
      " |    |-- following: void (nullable = true)\n",
      " |    |-- friends_count: integer (nullable = true)\n",
      " |    |-- geo_enabled: boolean (nullable = true)\n",
      " |    |-- id: long (nullable = true)\n",
      " |    |-- id_str: string (nullable = true)\n",
      " |    |-- is_translator: boolean (nullable = true)\n",
      " |    |-- lang: void (nullable = true)\n",
      " |    |-- listed_count: integer (nullable = true)\n",
      " |    |-- location: string (nullable = true)\n",
      " |    |-- name: string (nullable = true)\n",
      " |    |-- notifications: void (nullable = true)\n",
      " |    |-- profile_background_color: string (nullable = true)\n",
      " |    |-- profile_background_image_url: string (nullable = true)\n",
      " |    |-- profile_background_image_url_https: string (nullable = true)\n",
      " |    |-- profile_background_tile: boolean (nullable = true)\n",
      " |    |-- profile_banner_url: string (nullable = true)\n",
      " |    |-- profile_image_url: string (nullable = true)\n",
      " |    |-- profile_image_url_https: string (nullable = true)\n",
      " |    |-- profile_link_color: string (nullable = true)\n",
      " |    |-- profile_sidebar_border_color: string (nullable = true)\n",
      " |    |-- profile_sidebar_fill_color: string (nullable = true)\n",
      " |    |-- profile_text_color: string (nullable = true)\n",
      " |    |-- profile_use_background_image: boolean (nullable = true)\n",
      " |    |-- protected: boolean (nullable = true)\n",
      " |    |-- screen_name: string (nullable = true)\n",
      " |    |-- statuses_count: integer (nullable = true)\n",
      " |    |-- time_zone: void (nullable = true)\n",
      " |    |-- translator_type: string (nullable = true)\n",
      " |    |-- url: string (nullable = true)\n",
      " |    |-- utc_offset: void (nullable = true)\n",
      " |    |-- verified: boolean (nullable = true)\n",
      "\n"
     ]
    }
   ],
   "source": [
    "# create a spark session\n",
    "spark = SparkSession \\\n",
    ".builder \\\n",
    ".master(\"local\") \\\n",
    ".appName(\"ABC\") \\\n",
    ".config(\"spark.driver.memory\", \"15g\") \\\n",
    ".config(\"spark.mongodb.read.connection.uri\", \"mongodb://localhost:27017/twitter\") \\\n",
    ".config(\"spark.mongodb.write.connection.uri\", \"mongodb://localhost:27017/twitter\") \\\n",
    ".config('spark.jars.packages', 'org.mongodb.spark:mongo-spark-connector:2.12-3.0.2') \\\n",
    ".getOrCreate()\n",
    "# read data from mongodb collection \"questions\" into a dataframe \"df\"\n",
    "df = spark.read \\\n",
    ".format(\"com.mongodb.spark.sql.DefaultSource\") \\\n",
    ".option(\"uri\", \"mongodb://localhost:27017/twitter\") \\\n",
    ".option(\"database\", \"twitter\") \\\n",
    ".option(\"collection\", \"tweets\") \\\n",
    ".load()\n",
    "df.printSchema()"
   ]
  },
  {
   "cell_type": "code",
   "execution_count": 158,
   "id": "d0b68eb5",
   "metadata": {},
   "outputs": [
    {
     "name": "stdout",
     "output_type": "stream",
     "text": [
      "Deleted /ca4\r\n"
     ]
    }
   ],
   "source": [
    "# set up hadoop folder structure\n",
    "\n",
    "!hadoop fs -test -d /ca4 && hadoop fs -rm -f -R /ca4\n",
    "!hadoop fs -mkdir /ca4\n"
   ]
  },
  {
   "cell_type": "markdown",
   "id": "404e0b94",
   "metadata": {},
   "source": [
    "Create a spark object of the tweets held in the mongo db \n",
    "\n",
    "It is easier to use SQL statements and Pyspark to clean the data rather than writing queries in MongoDB"
   ]
  },
  {
   "cell_type": "code",
   "execution_count": 159,
   "id": "330eb426",
   "metadata": {},
   "outputs": [],
   "source": [
    "df.createOrReplaceTempView(\"tweets\")"
   ]
  },
  {
   "cell_type": "markdown",
   "id": "3ffce3ac",
   "metadata": {},
   "source": [
    "How many tweets in the DB all together"
   ]
  },
  {
   "cell_type": "code",
   "execution_count": 160,
   "id": "9cba51bf",
   "metadata": {},
   "outputs": [
    {
     "name": "stderr",
     "output_type": "stream",
     "text": [
      "                                                                                \r"
     ]
    },
    {
     "data": {
      "text/plain": [
       "72807"
      ]
     },
     "execution_count": 160,
     "metadata": {},
     "output_type": "execute_result"
    }
   ],
   "source": [
    "df = spark.sql(\"SELECT DISTINCT id FROM tweets WHERE text LIKE '%rugby%'\")\n",
    "df.count()"
   ]
  },
  {
   "cell_type": "markdown",
   "id": "55a62139",
   "metadata": {},
   "source": [
    "How many tweets by language \n"
   ]
  },
  {
   "cell_type": "code",
   "execution_count": 161,
   "id": "4d9015ec",
   "metadata": {},
   "outputs": [
    {
     "name": "stdout",
     "output_type": "stream",
     "text": [
      "Defaulting to user installation because normal site-packages is not writeable\n",
      "Requirement already satisfied: kaleido in /home/sba22230/.local/lib/python3.10/site-packages (0.2.1)\n",
      "Note: you may need to restart the kernel to use updated packages.\n"
     ]
    },
    {
     "name": "stderr",
     "output_type": "stream",
     "text": [
      "[Stage 703:=================================================>       (7 + 1) / 8]\r"
     ]
    },
    {
     "name": "stdout",
     "output_type": "stream",
     "text": [
      "+----+----------+\n",
      "|lang|TweetCount|\n",
      "+----+----------+\n",
      "|  en|     48892|\n",
      "|  fr|      8450|\n",
      "|  es|      6754|\n",
      "|  ja|      4105|\n",
      "| und|      1618|\n",
      "|  pt|       614|\n",
      "|  it|       480|\n",
      "|  tl|       309|\n",
      "|  ca|       274|\n",
      "|  in|       251|\n",
      "+----+----------+\n",
      "\n"
     ]
    },
    {
     "name": "stderr",
     "output_type": "stream",
     "text": [
      "\r",
      "                                                                                \r"
     ]
    }
   ],
   "source": [
    "#pip install plotly\n",
    "%pip install kaleido\n",
    "import kaleido\n",
    "import pyspark.pandas as ps\n",
    "import plotly\n",
    "dfLang = spark.sql(\"SELECT DISTINCT lang, CAST(count(id) AS INT) as TweetCount FROM tweets \\\n",
    "            WHERE text LIKE '%rugby%' \\\n",
    "            GROUP BY lang \\\n",
    "            ORDER BY TweetCount DESC LIMIT 10\")\n",
    "dfLang.show()"
   ]
  },
  {
   "cell_type": "code",
   "execution_count": 162,
   "id": "35e9e016",
   "metadata": {},
   "outputs": [
    {
     "name": "stderr",
     "output_type": "stream",
     "text": [
      "2023-05-18 18:00:27,986 WARN window.WindowExec: No Partition Defined for Window operation! Moving all data to a single partition, this can cause serious performance degradation.\n",
      "2023-05-18 18:00:27,986 WARN window.WindowExec: No Partition Defined for Window operation! Moving all data to a single partition, this can cause serious performance degradation.\n",
      "2023-05-18 18:00:45,800 WARN window.WindowExec: No Partition Defined for Window operation! Moving all data to a single partition, this can cause serious performance degradation.\n",
      "2023-05-18 18:00:45,800 WARN window.WindowExec: No Partition Defined for Window operation! Moving all data to a single partition, this can cause serious performance degradation.\n",
      "                                                                                \r"
     ]
    },
    {
     "data": {
      "application/vnd.plotly.v1+json": {
       "config": {
        "plotlyServerURL": "https://plot.ly"
       },
       "data": [
        {
         "alignmentgroup": "True",
         "hovertemplate": "lang=%{x}<br>TweetCount=%{y}<extra></extra>",
         "legendgroup": "",
         "marker": {
          "color": "#636efa",
          "pattern": {
           "shape": ""
          }
         },
         "name": "",
         "offsetgroup": "",
         "orientation": "v",
         "showlegend": false,
         "textposition": "auto",
         "type": "bar",
         "x": [
          "en",
          "fr",
          "es",
          "ja",
          "und",
          "pt",
          "it",
          "tl",
          "ca",
          "in"
         ],
         "xaxis": "x",
         "y": [
          48892,
          8450,
          6754,
          4105,
          1618,
          614,
          480,
          309,
          274,
          251
         ],
         "yaxis": "y"
        }
       ],
       "layout": {
        "barmode": "relative",
        "legend": {
         "tracegroupgap": 0
        },
        "margin": {
         "t": 60
        },
        "template": {
         "data": {
          "bar": [
           {
            "error_x": {
             "color": "#2a3f5f"
            },
            "error_y": {
             "color": "#2a3f5f"
            },
            "marker": {
             "line": {
              "color": "#E5ECF6",
              "width": 0.5
             },
             "pattern": {
              "fillmode": "overlay",
              "size": 10,
              "solidity": 0.2
             }
            },
            "type": "bar"
           }
          ],
          "barpolar": [
           {
            "marker": {
             "line": {
              "color": "#E5ECF6",
              "width": 0.5
             },
             "pattern": {
              "fillmode": "overlay",
              "size": 10,
              "solidity": 0.2
             }
            },
            "type": "barpolar"
           }
          ],
          "carpet": [
           {
            "aaxis": {
             "endlinecolor": "#2a3f5f",
             "gridcolor": "white",
             "linecolor": "white",
             "minorgridcolor": "white",
             "startlinecolor": "#2a3f5f"
            },
            "baxis": {
             "endlinecolor": "#2a3f5f",
             "gridcolor": "white",
             "linecolor": "white",
             "minorgridcolor": "white",
             "startlinecolor": "#2a3f5f"
            },
            "type": "carpet"
           }
          ],
          "choropleth": [
           {
            "colorbar": {
             "outlinewidth": 0,
             "ticks": ""
            },
            "type": "choropleth"
           }
          ],
          "contour": [
           {
            "colorbar": {
             "outlinewidth": 0,
             "ticks": ""
            },
            "colorscale": [
             [
              0,
              "#0d0887"
             ],
             [
              0.1111111111111111,
              "#46039f"
             ],
             [
              0.2222222222222222,
              "#7201a8"
             ],
             [
              0.3333333333333333,
              "#9c179e"
             ],
             [
              0.4444444444444444,
              "#bd3786"
             ],
             [
              0.5555555555555556,
              "#d8576b"
             ],
             [
              0.6666666666666666,
              "#ed7953"
             ],
             [
              0.7777777777777778,
              "#fb9f3a"
             ],
             [
              0.8888888888888888,
              "#fdca26"
             ],
             [
              1,
              "#f0f921"
             ]
            ],
            "type": "contour"
           }
          ],
          "contourcarpet": [
           {
            "colorbar": {
             "outlinewidth": 0,
             "ticks": ""
            },
            "type": "contourcarpet"
           }
          ],
          "heatmap": [
           {
            "colorbar": {
             "outlinewidth": 0,
             "ticks": ""
            },
            "colorscale": [
             [
              0,
              "#0d0887"
             ],
             [
              0.1111111111111111,
              "#46039f"
             ],
             [
              0.2222222222222222,
              "#7201a8"
             ],
             [
              0.3333333333333333,
              "#9c179e"
             ],
             [
              0.4444444444444444,
              "#bd3786"
             ],
             [
              0.5555555555555556,
              "#d8576b"
             ],
             [
              0.6666666666666666,
              "#ed7953"
             ],
             [
              0.7777777777777778,
              "#fb9f3a"
             ],
             [
              0.8888888888888888,
              "#fdca26"
             ],
             [
              1,
              "#f0f921"
             ]
            ],
            "type": "heatmap"
           }
          ],
          "heatmapgl": [
           {
            "colorbar": {
             "outlinewidth": 0,
             "ticks": ""
            },
            "colorscale": [
             [
              0,
              "#0d0887"
             ],
             [
              0.1111111111111111,
              "#46039f"
             ],
             [
              0.2222222222222222,
              "#7201a8"
             ],
             [
              0.3333333333333333,
              "#9c179e"
             ],
             [
              0.4444444444444444,
              "#bd3786"
             ],
             [
              0.5555555555555556,
              "#d8576b"
             ],
             [
              0.6666666666666666,
              "#ed7953"
             ],
             [
              0.7777777777777778,
              "#fb9f3a"
             ],
             [
              0.8888888888888888,
              "#fdca26"
             ],
             [
              1,
              "#f0f921"
             ]
            ],
            "type": "heatmapgl"
           }
          ],
          "histogram": [
           {
            "marker": {
             "pattern": {
              "fillmode": "overlay",
              "size": 10,
              "solidity": 0.2
             }
            },
            "type": "histogram"
           }
          ],
          "histogram2d": [
           {
            "colorbar": {
             "outlinewidth": 0,
             "ticks": ""
            },
            "colorscale": [
             [
              0,
              "#0d0887"
             ],
             [
              0.1111111111111111,
              "#46039f"
             ],
             [
              0.2222222222222222,
              "#7201a8"
             ],
             [
              0.3333333333333333,
              "#9c179e"
             ],
             [
              0.4444444444444444,
              "#bd3786"
             ],
             [
              0.5555555555555556,
              "#d8576b"
             ],
             [
              0.6666666666666666,
              "#ed7953"
             ],
             [
              0.7777777777777778,
              "#fb9f3a"
             ],
             [
              0.8888888888888888,
              "#fdca26"
             ],
             [
              1,
              "#f0f921"
             ]
            ],
            "type": "histogram2d"
           }
          ],
          "histogram2dcontour": [
           {
            "colorbar": {
             "outlinewidth": 0,
             "ticks": ""
            },
            "colorscale": [
             [
              0,
              "#0d0887"
             ],
             [
              0.1111111111111111,
              "#46039f"
             ],
             [
              0.2222222222222222,
              "#7201a8"
             ],
             [
              0.3333333333333333,
              "#9c179e"
             ],
             [
              0.4444444444444444,
              "#bd3786"
             ],
             [
              0.5555555555555556,
              "#d8576b"
             ],
             [
              0.6666666666666666,
              "#ed7953"
             ],
             [
              0.7777777777777778,
              "#fb9f3a"
             ],
             [
              0.8888888888888888,
              "#fdca26"
             ],
             [
              1,
              "#f0f921"
             ]
            ],
            "type": "histogram2dcontour"
           }
          ],
          "mesh3d": [
           {
            "colorbar": {
             "outlinewidth": 0,
             "ticks": ""
            },
            "type": "mesh3d"
           }
          ],
          "parcoords": [
           {
            "line": {
             "colorbar": {
              "outlinewidth": 0,
              "ticks": ""
             }
            },
            "type": "parcoords"
           }
          ],
          "pie": [
           {
            "automargin": true,
            "type": "pie"
           }
          ],
          "scatter": [
           {
            "fillpattern": {
             "fillmode": "overlay",
             "size": 10,
             "solidity": 0.2
            },
            "type": "scatter"
           }
          ],
          "scatter3d": [
           {
            "line": {
             "colorbar": {
              "outlinewidth": 0,
              "ticks": ""
             }
            },
            "marker": {
             "colorbar": {
              "outlinewidth": 0,
              "ticks": ""
             }
            },
            "type": "scatter3d"
           }
          ],
          "scattercarpet": [
           {
            "marker": {
             "colorbar": {
              "outlinewidth": 0,
              "ticks": ""
             }
            },
            "type": "scattercarpet"
           }
          ],
          "scattergeo": [
           {
            "marker": {
             "colorbar": {
              "outlinewidth": 0,
              "ticks": ""
             }
            },
            "type": "scattergeo"
           }
          ],
          "scattergl": [
           {
            "marker": {
             "colorbar": {
              "outlinewidth": 0,
              "ticks": ""
             }
            },
            "type": "scattergl"
           }
          ],
          "scattermapbox": [
           {
            "marker": {
             "colorbar": {
              "outlinewidth": 0,
              "ticks": ""
             }
            },
            "type": "scattermapbox"
           }
          ],
          "scatterpolar": [
           {
            "marker": {
             "colorbar": {
              "outlinewidth": 0,
              "ticks": ""
             }
            },
            "type": "scatterpolar"
           }
          ],
          "scatterpolargl": [
           {
            "marker": {
             "colorbar": {
              "outlinewidth": 0,
              "ticks": ""
             }
            },
            "type": "scatterpolargl"
           }
          ],
          "scatterternary": [
           {
            "marker": {
             "colorbar": {
              "outlinewidth": 0,
              "ticks": ""
             }
            },
            "type": "scatterternary"
           }
          ],
          "surface": [
           {
            "colorbar": {
             "outlinewidth": 0,
             "ticks": ""
            },
            "colorscale": [
             [
              0,
              "#0d0887"
             ],
             [
              0.1111111111111111,
              "#46039f"
             ],
             [
              0.2222222222222222,
              "#7201a8"
             ],
             [
              0.3333333333333333,
              "#9c179e"
             ],
             [
              0.4444444444444444,
              "#bd3786"
             ],
             [
              0.5555555555555556,
              "#d8576b"
             ],
             [
              0.6666666666666666,
              "#ed7953"
             ],
             [
              0.7777777777777778,
              "#fb9f3a"
             ],
             [
              0.8888888888888888,
              "#fdca26"
             ],
             [
              1,
              "#f0f921"
             ]
            ],
            "type": "surface"
           }
          ],
          "table": [
           {
            "cells": {
             "fill": {
              "color": "#EBF0F8"
             },
             "line": {
              "color": "white"
             }
            },
            "header": {
             "fill": {
              "color": "#C8D4E3"
             },
             "line": {
              "color": "white"
             }
            },
            "type": "table"
           }
          ]
         },
         "layout": {
          "annotationdefaults": {
           "arrowcolor": "#2a3f5f",
           "arrowhead": 0,
           "arrowwidth": 1
          },
          "autotypenumbers": "strict",
          "coloraxis": {
           "colorbar": {
            "outlinewidth": 0,
            "ticks": ""
           }
          },
          "colorscale": {
           "diverging": [
            [
             0,
             "#8e0152"
            ],
            [
             0.1,
             "#c51b7d"
            ],
            [
             0.2,
             "#de77ae"
            ],
            [
             0.3,
             "#f1b6da"
            ],
            [
             0.4,
             "#fde0ef"
            ],
            [
             0.5,
             "#f7f7f7"
            ],
            [
             0.6,
             "#e6f5d0"
            ],
            [
             0.7,
             "#b8e186"
            ],
            [
             0.8,
             "#7fbc41"
            ],
            [
             0.9,
             "#4d9221"
            ],
            [
             1,
             "#276419"
            ]
           ],
           "sequential": [
            [
             0,
             "#0d0887"
            ],
            [
             0.1111111111111111,
             "#46039f"
            ],
            [
             0.2222222222222222,
             "#7201a8"
            ],
            [
             0.3333333333333333,
             "#9c179e"
            ],
            [
             0.4444444444444444,
             "#bd3786"
            ],
            [
             0.5555555555555556,
             "#d8576b"
            ],
            [
             0.6666666666666666,
             "#ed7953"
            ],
            [
             0.7777777777777778,
             "#fb9f3a"
            ],
            [
             0.8888888888888888,
             "#fdca26"
            ],
            [
             1,
             "#f0f921"
            ]
           ],
           "sequentialminus": [
            [
             0,
             "#0d0887"
            ],
            [
             0.1111111111111111,
             "#46039f"
            ],
            [
             0.2222222222222222,
             "#7201a8"
            ],
            [
             0.3333333333333333,
             "#9c179e"
            ],
            [
             0.4444444444444444,
             "#bd3786"
            ],
            [
             0.5555555555555556,
             "#d8576b"
            ],
            [
             0.6666666666666666,
             "#ed7953"
            ],
            [
             0.7777777777777778,
             "#fb9f3a"
            ],
            [
             0.8888888888888888,
             "#fdca26"
            ],
            [
             1,
             "#f0f921"
            ]
           ]
          },
          "colorway": [
           "#636efa",
           "#EF553B",
           "#00cc96",
           "#ab63fa",
           "#FFA15A",
           "#19d3f3",
           "#FF6692",
           "#B6E880",
           "#FF97FF",
           "#FECB52"
          ],
          "font": {
           "color": "#2a3f5f"
          },
          "geo": {
           "bgcolor": "white",
           "lakecolor": "white",
           "landcolor": "#E5ECF6",
           "showlakes": true,
           "showland": true,
           "subunitcolor": "white"
          },
          "hoverlabel": {
           "align": "left"
          },
          "hovermode": "closest",
          "mapbox": {
           "style": "light"
          },
          "paper_bgcolor": "white",
          "plot_bgcolor": "#E5ECF6",
          "polar": {
           "angularaxis": {
            "gridcolor": "white",
            "linecolor": "white",
            "ticks": ""
           },
           "bgcolor": "#E5ECF6",
           "radialaxis": {
            "gridcolor": "white",
            "linecolor": "white",
            "ticks": ""
           }
          },
          "scene": {
           "xaxis": {
            "backgroundcolor": "#E5ECF6",
            "gridcolor": "white",
            "gridwidth": 2,
            "linecolor": "white",
            "showbackground": true,
            "ticks": "",
            "zerolinecolor": "white"
           },
           "yaxis": {
            "backgroundcolor": "#E5ECF6",
            "gridcolor": "white",
            "gridwidth": 2,
            "linecolor": "white",
            "showbackground": true,
            "ticks": "",
            "zerolinecolor": "white"
           },
           "zaxis": {
            "backgroundcolor": "#E5ECF6",
            "gridcolor": "white",
            "gridwidth": 2,
            "linecolor": "white",
            "showbackground": true,
            "ticks": "",
            "zerolinecolor": "white"
           }
          },
          "shapedefaults": {
           "line": {
            "color": "#2a3f5f"
           }
          },
          "ternary": {
           "aaxis": {
            "gridcolor": "white",
            "linecolor": "white",
            "ticks": ""
           },
           "baxis": {
            "gridcolor": "white",
            "linecolor": "white",
            "ticks": ""
           },
           "bgcolor": "#E5ECF6",
           "caxis": {
            "gridcolor": "white",
            "linecolor": "white",
            "ticks": ""
           }
          },
          "title": {
           "x": 0.05
          },
          "xaxis": {
           "automargin": true,
           "gridcolor": "white",
           "linecolor": "white",
           "ticks": "",
           "title": {
            "standoff": 15
           },
           "zerolinecolor": "white",
           "zerolinewidth": 2
          },
          "yaxis": {
           "automargin": true,
           "gridcolor": "white",
           "linecolor": "white",
           "ticks": "",
           "title": {
            "standoff": 15
           },
           "zerolinecolor": "white",
           "zerolinewidth": 2
          }
         }
        },
        "xaxis": {
         "anchor": "y",
         "domain": [
          0,
          1
         ],
         "title": {
          "text": "lang"
         }
        },
        "yaxis": {
         "anchor": "x",
         "domain": [
          0,
          1
         ],
         "title": {
          "text": "TweetCount"
         }
        }
       }
      },
      "text/html": [
       "<div>                            <div id=\"df511128-693f-4875-a589-20a80e68cf29\" class=\"plotly-graph-div\" style=\"height:525px; width:100%;\"></div>            <script type=\"text/javascript\">                require([\"plotly\"], function(Plotly) {                    window.PLOTLYENV=window.PLOTLYENV || {};                                    if (document.getElementById(\"df511128-693f-4875-a589-20a80e68cf29\")) {                    Plotly.newPlot(                        \"df511128-693f-4875-a589-20a80e68cf29\",                        [{\"alignmentgroup\":\"True\",\"hovertemplate\":\"lang=%{x}<br>TweetCount=%{y}<extra></extra>\",\"legendgroup\":\"\",\"marker\":{\"color\":\"#636efa\",\"pattern\":{\"shape\":\"\"}},\"name\":\"\",\"offsetgroup\":\"\",\"orientation\":\"v\",\"showlegend\":false,\"textposition\":\"auto\",\"x\":[\"en\",\"fr\",\"es\",\"ja\",\"und\",\"pt\",\"it\",\"tl\",\"ca\",\"in\"],\"xaxis\":\"x\",\"y\":[48892,8450,6754,4105,1618,614,480,309,274,251],\"yaxis\":\"y\",\"type\":\"bar\"}],                        {\"template\":{\"data\":{\"histogram2dcontour\":[{\"type\":\"histogram2dcontour\",\"colorbar\":{\"outlinewidth\":0,\"ticks\":\"\"},\"colorscale\":[[0.0,\"#0d0887\"],[0.1111111111111111,\"#46039f\"],[0.2222222222222222,\"#7201a8\"],[0.3333333333333333,\"#9c179e\"],[0.4444444444444444,\"#bd3786\"],[0.5555555555555556,\"#d8576b\"],[0.6666666666666666,\"#ed7953\"],[0.7777777777777778,\"#fb9f3a\"],[0.8888888888888888,\"#fdca26\"],[1.0,\"#f0f921\"]]}],\"choropleth\":[{\"type\":\"choropleth\",\"colorbar\":{\"outlinewidth\":0,\"ticks\":\"\"}}],\"histogram2d\":[{\"type\":\"histogram2d\",\"colorbar\":{\"outlinewidth\":0,\"ticks\":\"\"},\"colorscale\":[[0.0,\"#0d0887\"],[0.1111111111111111,\"#46039f\"],[0.2222222222222222,\"#7201a8\"],[0.3333333333333333,\"#9c179e\"],[0.4444444444444444,\"#bd3786\"],[0.5555555555555556,\"#d8576b\"],[0.6666666666666666,\"#ed7953\"],[0.7777777777777778,\"#fb9f3a\"],[0.8888888888888888,\"#fdca26\"],[1.0,\"#f0f921\"]]}],\"heatmap\":[{\"type\":\"heatmap\",\"colorbar\":{\"outlinewidth\":0,\"ticks\":\"\"},\"colorscale\":[[0.0,\"#0d0887\"],[0.1111111111111111,\"#46039f\"],[0.2222222222222222,\"#7201a8\"],[0.3333333333333333,\"#9c179e\"],[0.4444444444444444,\"#bd3786\"],[0.5555555555555556,\"#d8576b\"],[0.6666666666666666,\"#ed7953\"],[0.7777777777777778,\"#fb9f3a\"],[0.8888888888888888,\"#fdca26\"],[1.0,\"#f0f921\"]]}],\"heatmapgl\":[{\"type\":\"heatmapgl\",\"colorbar\":{\"outlinewidth\":0,\"ticks\":\"\"},\"colorscale\":[[0.0,\"#0d0887\"],[0.1111111111111111,\"#46039f\"],[0.2222222222222222,\"#7201a8\"],[0.3333333333333333,\"#9c179e\"],[0.4444444444444444,\"#bd3786\"],[0.5555555555555556,\"#d8576b\"],[0.6666666666666666,\"#ed7953\"],[0.7777777777777778,\"#fb9f3a\"],[0.8888888888888888,\"#fdca26\"],[1.0,\"#f0f921\"]]}],\"contourcarpet\":[{\"type\":\"contourcarpet\",\"colorbar\":{\"outlinewidth\":0,\"ticks\":\"\"}}],\"contour\":[{\"type\":\"contour\",\"colorbar\":{\"outlinewidth\":0,\"ticks\":\"\"},\"colorscale\":[[0.0,\"#0d0887\"],[0.1111111111111111,\"#46039f\"],[0.2222222222222222,\"#7201a8\"],[0.3333333333333333,\"#9c179e\"],[0.4444444444444444,\"#bd3786\"],[0.5555555555555556,\"#d8576b\"],[0.6666666666666666,\"#ed7953\"],[0.7777777777777778,\"#fb9f3a\"],[0.8888888888888888,\"#fdca26\"],[1.0,\"#f0f921\"]]}],\"surface\":[{\"type\":\"surface\",\"colorbar\":{\"outlinewidth\":0,\"ticks\":\"\"},\"colorscale\":[[0.0,\"#0d0887\"],[0.1111111111111111,\"#46039f\"],[0.2222222222222222,\"#7201a8\"],[0.3333333333333333,\"#9c179e\"],[0.4444444444444444,\"#bd3786\"],[0.5555555555555556,\"#d8576b\"],[0.6666666666666666,\"#ed7953\"],[0.7777777777777778,\"#fb9f3a\"],[0.8888888888888888,\"#fdca26\"],[1.0,\"#f0f921\"]]}],\"mesh3d\":[{\"type\":\"mesh3d\",\"colorbar\":{\"outlinewidth\":0,\"ticks\":\"\"}}],\"scatter\":[{\"fillpattern\":{\"fillmode\":\"overlay\",\"size\":10,\"solidity\":0.2},\"type\":\"scatter\"}],\"parcoords\":[{\"type\":\"parcoords\",\"line\":{\"colorbar\":{\"outlinewidth\":0,\"ticks\":\"\"}}}],\"scatterpolargl\":[{\"type\":\"scatterpolargl\",\"marker\":{\"colorbar\":{\"outlinewidth\":0,\"ticks\":\"\"}}}],\"bar\":[{\"error_x\":{\"color\":\"#2a3f5f\"},\"error_y\":{\"color\":\"#2a3f5f\"},\"marker\":{\"line\":{\"color\":\"#E5ECF6\",\"width\":0.5},\"pattern\":{\"fillmode\":\"overlay\",\"size\":10,\"solidity\":0.2}},\"type\":\"bar\"}],\"scattergeo\":[{\"type\":\"scattergeo\",\"marker\":{\"colorbar\":{\"outlinewidth\":0,\"ticks\":\"\"}}}],\"scatterpolar\":[{\"type\":\"scatterpolar\",\"marker\":{\"colorbar\":{\"outlinewidth\":0,\"ticks\":\"\"}}}],\"histogram\":[{\"marker\":{\"pattern\":{\"fillmode\":\"overlay\",\"size\":10,\"solidity\":0.2}},\"type\":\"histogram\"}],\"scattergl\":[{\"type\":\"scattergl\",\"marker\":{\"colorbar\":{\"outlinewidth\":0,\"ticks\":\"\"}}}],\"scatter3d\":[{\"type\":\"scatter3d\",\"line\":{\"colorbar\":{\"outlinewidth\":0,\"ticks\":\"\"}},\"marker\":{\"colorbar\":{\"outlinewidth\":0,\"ticks\":\"\"}}}],\"scattermapbox\":[{\"type\":\"scattermapbox\",\"marker\":{\"colorbar\":{\"outlinewidth\":0,\"ticks\":\"\"}}}],\"scatterternary\":[{\"type\":\"scatterternary\",\"marker\":{\"colorbar\":{\"outlinewidth\":0,\"ticks\":\"\"}}}],\"scattercarpet\":[{\"type\":\"scattercarpet\",\"marker\":{\"colorbar\":{\"outlinewidth\":0,\"ticks\":\"\"}}}],\"carpet\":[{\"aaxis\":{\"endlinecolor\":\"#2a3f5f\",\"gridcolor\":\"white\",\"linecolor\":\"white\",\"minorgridcolor\":\"white\",\"startlinecolor\":\"#2a3f5f\"},\"baxis\":{\"endlinecolor\":\"#2a3f5f\",\"gridcolor\":\"white\",\"linecolor\":\"white\",\"minorgridcolor\":\"white\",\"startlinecolor\":\"#2a3f5f\"},\"type\":\"carpet\"}],\"table\":[{\"cells\":{\"fill\":{\"color\":\"#EBF0F8\"},\"line\":{\"color\":\"white\"}},\"header\":{\"fill\":{\"color\":\"#C8D4E3\"},\"line\":{\"color\":\"white\"}},\"type\":\"table\"}],\"barpolar\":[{\"marker\":{\"line\":{\"color\":\"#E5ECF6\",\"width\":0.5},\"pattern\":{\"fillmode\":\"overlay\",\"size\":10,\"solidity\":0.2}},\"type\":\"barpolar\"}],\"pie\":[{\"automargin\":true,\"type\":\"pie\"}]},\"layout\":{\"autotypenumbers\":\"strict\",\"colorway\":[\"#636efa\",\"#EF553B\",\"#00cc96\",\"#ab63fa\",\"#FFA15A\",\"#19d3f3\",\"#FF6692\",\"#B6E880\",\"#FF97FF\",\"#FECB52\"],\"font\":{\"color\":\"#2a3f5f\"},\"hovermode\":\"closest\",\"hoverlabel\":{\"align\":\"left\"},\"paper_bgcolor\":\"white\",\"plot_bgcolor\":\"#E5ECF6\",\"polar\":{\"bgcolor\":\"#E5ECF6\",\"angularaxis\":{\"gridcolor\":\"white\",\"linecolor\":\"white\",\"ticks\":\"\"},\"radialaxis\":{\"gridcolor\":\"white\",\"linecolor\":\"white\",\"ticks\":\"\"}},\"ternary\":{\"bgcolor\":\"#E5ECF6\",\"aaxis\":{\"gridcolor\":\"white\",\"linecolor\":\"white\",\"ticks\":\"\"},\"baxis\":{\"gridcolor\":\"white\",\"linecolor\":\"white\",\"ticks\":\"\"},\"caxis\":{\"gridcolor\":\"white\",\"linecolor\":\"white\",\"ticks\":\"\"}},\"coloraxis\":{\"colorbar\":{\"outlinewidth\":0,\"ticks\":\"\"}},\"colorscale\":{\"sequential\":[[0.0,\"#0d0887\"],[0.1111111111111111,\"#46039f\"],[0.2222222222222222,\"#7201a8\"],[0.3333333333333333,\"#9c179e\"],[0.4444444444444444,\"#bd3786\"],[0.5555555555555556,\"#d8576b\"],[0.6666666666666666,\"#ed7953\"],[0.7777777777777778,\"#fb9f3a\"],[0.8888888888888888,\"#fdca26\"],[1.0,\"#f0f921\"]],\"sequentialminus\":[[0.0,\"#0d0887\"],[0.1111111111111111,\"#46039f\"],[0.2222222222222222,\"#7201a8\"],[0.3333333333333333,\"#9c179e\"],[0.4444444444444444,\"#bd3786\"],[0.5555555555555556,\"#d8576b\"],[0.6666666666666666,\"#ed7953\"],[0.7777777777777778,\"#fb9f3a\"],[0.8888888888888888,\"#fdca26\"],[1.0,\"#f0f921\"]],\"diverging\":[[0,\"#8e0152\"],[0.1,\"#c51b7d\"],[0.2,\"#de77ae\"],[0.3,\"#f1b6da\"],[0.4,\"#fde0ef\"],[0.5,\"#f7f7f7\"],[0.6,\"#e6f5d0\"],[0.7,\"#b8e186\"],[0.8,\"#7fbc41\"],[0.9,\"#4d9221\"],[1,\"#276419\"]]},\"xaxis\":{\"gridcolor\":\"white\",\"linecolor\":\"white\",\"ticks\":\"\",\"title\":{\"standoff\":15},\"zerolinecolor\":\"white\",\"automargin\":true,\"zerolinewidth\":2},\"yaxis\":{\"gridcolor\":\"white\",\"linecolor\":\"white\",\"ticks\":\"\",\"title\":{\"standoff\":15},\"zerolinecolor\":\"white\",\"automargin\":true,\"zerolinewidth\":2},\"scene\":{\"xaxis\":{\"backgroundcolor\":\"#E5ECF6\",\"gridcolor\":\"white\",\"linecolor\":\"white\",\"showbackground\":true,\"ticks\":\"\",\"zerolinecolor\":\"white\",\"gridwidth\":2},\"yaxis\":{\"backgroundcolor\":\"#E5ECF6\",\"gridcolor\":\"white\",\"linecolor\":\"white\",\"showbackground\":true,\"ticks\":\"\",\"zerolinecolor\":\"white\",\"gridwidth\":2},\"zaxis\":{\"backgroundcolor\":\"#E5ECF6\",\"gridcolor\":\"white\",\"linecolor\":\"white\",\"showbackground\":true,\"ticks\":\"\",\"zerolinecolor\":\"white\",\"gridwidth\":2}},\"shapedefaults\":{\"line\":{\"color\":\"#2a3f5f\"}},\"annotationdefaults\":{\"arrowcolor\":\"#2a3f5f\",\"arrowhead\":0,\"arrowwidth\":1},\"geo\":{\"bgcolor\":\"white\",\"landcolor\":\"#E5ECF6\",\"subunitcolor\":\"white\",\"showland\":true,\"showlakes\":true,\"lakecolor\":\"white\"},\"title\":{\"x\":0.05},\"mapbox\":{\"style\":\"light\"}}},\"xaxis\":{\"anchor\":\"y\",\"domain\":[0.0,1.0],\"title\":{\"text\":\"lang\"}},\"yaxis\":{\"anchor\":\"x\",\"domain\":[0.0,1.0],\"title\":{\"text\":\"TweetCount\"}},\"legend\":{\"tracegroupgap\":0},\"margin\":{\"t\":60},\"barmode\":\"relative\"},                        {\"responsive\": true}                    ).then(function(){\n",
       "                            \n",
       "var gd = document.getElementById('df511128-693f-4875-a589-20a80e68cf29');\n",
       "var x = new MutationObserver(function (mutations, observer) {{\n",
       "        var display = window.getComputedStyle(gd).display;\n",
       "        if (!display || display === 'none') {{\n",
       "            console.log([gd, 'removed!']);\n",
       "            Plotly.purge(gd);\n",
       "            observer.disconnect();\n",
       "        }}\n",
       "}});\n",
       "\n",
       "// Listen for the removal of the full notebook cells\n",
       "var notebookContainer = gd.closest('#notebook-container');\n",
       "if (notebookContainer) {{\n",
       "    x.observe(notebookContainer, {childList: true});\n",
       "}}\n",
       "\n",
       "// Listen for the clearing of the current output cell\n",
       "var outputEl = gd.closest('.output');\n",
       "if (outputEl) {{\n",
       "    x.observe(outputEl, {childList: true});\n",
       "}}\n",
       "\n",
       "                        })                };                });            </script>        </div>"
      ]
     },
     "metadata": {},
     "output_type": "display_data"
    }
   ],
   "source": [
    "tempdf = ps.DataFrame(dfLang)\n",
    "\n",
    "fig = tempdf.plot(kind='bar', x='lang', y='TweetCount')\n",
    "fig.show()\n",
    "\n",
    "fig.write_image(\"Images/TweetCountByLanguage.svg\")\n",
    "fig.write_html(\"Images/TweetCountByLanguage.html\")"
   ]
  },
  {
   "cell_type": "markdown",
   "id": "8bc9f4f8",
   "metadata": {},
   "source": [
    "How many tweets by location"
   ]
  },
  {
   "cell_type": "code",
   "execution_count": 163,
   "id": "992c7c69",
   "metadata": {},
   "outputs": [
    {
     "name": "stderr",
     "output_type": "stream",
     "text": [
      "[Stage 709:=================================================>       (7 + 1) / 8]\r"
     ]
    },
    {
     "name": "stdout",
     "output_type": "stream",
     "text": [
      "+--------------------+----------+\n",
      "|            Location|TweetCount|\n",
      "+--------------------+----------+\n",
      "|                null|     24804|\n",
      "|     London, England|       543|\n",
      "|      United Kingdom|       529|\n",
      "|              France|       503|\n",
      "|     Kampala, Uganda|       500|\n",
      "|            Alicante|       462|\n",
      "|              London|       426|\n",
      "|             Ireland|       374|\n",
      "|        South Africa|       348|\n",
      "|Wales, United Kin...|       338|\n",
      "+--------------------+----------+\n",
      "\n"
     ]
    },
    {
     "name": "stderr",
     "output_type": "stream",
     "text": [
      "\r",
      "                                                                                \r"
     ]
    }
   ],
   "source": [
    "dfLoc = spark.sql(\"SELECT DISTINCT user.location AS Location, CAST(count(id) AS INT) as TweetCount FROM tweets \\\n",
    "                   WHERE text LIKE '%rugby%' \\\n",
    "                   GROUP BY user.location \\\n",
    "                   ORDER BY TweetCount DESC LIMIT 10\")\n",
    "dfLoc.show()"
   ]
  },
  {
   "cell_type": "code",
   "execution_count": 164,
   "id": "73b94c58",
   "metadata": {},
   "outputs": [
    {
     "name": "stderr",
     "output_type": "stream",
     "text": [
      "2023-05-18 18:01:03,720 WARN window.WindowExec: No Partition Defined for Window operation! Moving all data to a single partition, this can cause serious performance degradation.\n",
      "2023-05-18 18:01:03,721 WARN window.WindowExec: No Partition Defined for Window operation! Moving all data to a single partition, this can cause serious performance degradation.\n",
      "2023-05-18 18:01:21,303 WARN window.WindowExec: No Partition Defined for Window operation! Moving all data to a single partition, this can cause serious performance degradation.\n",
      "2023-05-18 18:01:21,304 WARN window.WindowExec: No Partition Defined for Window operation! Moving all data to a single partition, this can cause serious performance degradation.\n",
      "                                                                                \r"
     ]
    },
    {
     "data": {
      "application/vnd.plotly.v1+json": {
       "config": {
        "plotlyServerURL": "https://plot.ly"
       },
       "data": [
        {
         "alignmentgroup": "True",
         "hovertemplate": "Location=%{x}<br>TweetCount=%{y}<extra></extra>",
         "legendgroup": "",
         "marker": {
          "color": "#636efa",
          "pattern": {
           "shape": ""
          }
         },
         "name": "",
         "offsetgroup": "",
         "orientation": "v",
         "showlegend": false,
         "textposition": "auto",
         "type": "bar",
         "x": [
          "London, England",
          "United Kingdom",
          "France",
          "Kampala, Uganda",
          "Alicante",
          "London",
          "Ireland",
          "South Africa",
          "Wales, United Kingdom",
          "England, United Kingdom"
         ],
         "xaxis": "x",
         "y": [
          543,
          529,
          503,
          500,
          462,
          426,
          374,
          348,
          338,
          313
         ],
         "yaxis": "y"
        }
       ],
       "layout": {
        "barmode": "relative",
        "legend": {
         "tracegroupgap": 0
        },
        "margin": {
         "t": 60
        },
        "template": {
         "data": {
          "bar": [
           {
            "error_x": {
             "color": "#2a3f5f"
            },
            "error_y": {
             "color": "#2a3f5f"
            },
            "marker": {
             "line": {
              "color": "#E5ECF6",
              "width": 0.5
             },
             "pattern": {
              "fillmode": "overlay",
              "size": 10,
              "solidity": 0.2
             }
            },
            "type": "bar"
           }
          ],
          "barpolar": [
           {
            "marker": {
             "line": {
              "color": "#E5ECF6",
              "width": 0.5
             },
             "pattern": {
              "fillmode": "overlay",
              "size": 10,
              "solidity": 0.2
             }
            },
            "type": "barpolar"
           }
          ],
          "carpet": [
           {
            "aaxis": {
             "endlinecolor": "#2a3f5f",
             "gridcolor": "white",
             "linecolor": "white",
             "minorgridcolor": "white",
             "startlinecolor": "#2a3f5f"
            },
            "baxis": {
             "endlinecolor": "#2a3f5f",
             "gridcolor": "white",
             "linecolor": "white",
             "minorgridcolor": "white",
             "startlinecolor": "#2a3f5f"
            },
            "type": "carpet"
           }
          ],
          "choropleth": [
           {
            "colorbar": {
             "outlinewidth": 0,
             "ticks": ""
            },
            "type": "choropleth"
           }
          ],
          "contour": [
           {
            "colorbar": {
             "outlinewidth": 0,
             "ticks": ""
            },
            "colorscale": [
             [
              0,
              "#0d0887"
             ],
             [
              0.1111111111111111,
              "#46039f"
             ],
             [
              0.2222222222222222,
              "#7201a8"
             ],
             [
              0.3333333333333333,
              "#9c179e"
             ],
             [
              0.4444444444444444,
              "#bd3786"
             ],
             [
              0.5555555555555556,
              "#d8576b"
             ],
             [
              0.6666666666666666,
              "#ed7953"
             ],
             [
              0.7777777777777778,
              "#fb9f3a"
             ],
             [
              0.8888888888888888,
              "#fdca26"
             ],
             [
              1,
              "#f0f921"
             ]
            ],
            "type": "contour"
           }
          ],
          "contourcarpet": [
           {
            "colorbar": {
             "outlinewidth": 0,
             "ticks": ""
            },
            "type": "contourcarpet"
           }
          ],
          "heatmap": [
           {
            "colorbar": {
             "outlinewidth": 0,
             "ticks": ""
            },
            "colorscale": [
             [
              0,
              "#0d0887"
             ],
             [
              0.1111111111111111,
              "#46039f"
             ],
             [
              0.2222222222222222,
              "#7201a8"
             ],
             [
              0.3333333333333333,
              "#9c179e"
             ],
             [
              0.4444444444444444,
              "#bd3786"
             ],
             [
              0.5555555555555556,
              "#d8576b"
             ],
             [
              0.6666666666666666,
              "#ed7953"
             ],
             [
              0.7777777777777778,
              "#fb9f3a"
             ],
             [
              0.8888888888888888,
              "#fdca26"
             ],
             [
              1,
              "#f0f921"
             ]
            ],
            "type": "heatmap"
           }
          ],
          "heatmapgl": [
           {
            "colorbar": {
             "outlinewidth": 0,
             "ticks": ""
            },
            "colorscale": [
             [
              0,
              "#0d0887"
             ],
             [
              0.1111111111111111,
              "#46039f"
             ],
             [
              0.2222222222222222,
              "#7201a8"
             ],
             [
              0.3333333333333333,
              "#9c179e"
             ],
             [
              0.4444444444444444,
              "#bd3786"
             ],
             [
              0.5555555555555556,
              "#d8576b"
             ],
             [
              0.6666666666666666,
              "#ed7953"
             ],
             [
              0.7777777777777778,
              "#fb9f3a"
             ],
             [
              0.8888888888888888,
              "#fdca26"
             ],
             [
              1,
              "#f0f921"
             ]
            ],
            "type": "heatmapgl"
           }
          ],
          "histogram": [
           {
            "marker": {
             "pattern": {
              "fillmode": "overlay",
              "size": 10,
              "solidity": 0.2
             }
            },
            "type": "histogram"
           }
          ],
          "histogram2d": [
           {
            "colorbar": {
             "outlinewidth": 0,
             "ticks": ""
            },
            "colorscale": [
             [
              0,
              "#0d0887"
             ],
             [
              0.1111111111111111,
              "#46039f"
             ],
             [
              0.2222222222222222,
              "#7201a8"
             ],
             [
              0.3333333333333333,
              "#9c179e"
             ],
             [
              0.4444444444444444,
              "#bd3786"
             ],
             [
              0.5555555555555556,
              "#d8576b"
             ],
             [
              0.6666666666666666,
              "#ed7953"
             ],
             [
              0.7777777777777778,
              "#fb9f3a"
             ],
             [
              0.8888888888888888,
              "#fdca26"
             ],
             [
              1,
              "#f0f921"
             ]
            ],
            "type": "histogram2d"
           }
          ],
          "histogram2dcontour": [
           {
            "colorbar": {
             "outlinewidth": 0,
             "ticks": ""
            },
            "colorscale": [
             [
              0,
              "#0d0887"
             ],
             [
              0.1111111111111111,
              "#46039f"
             ],
             [
              0.2222222222222222,
              "#7201a8"
             ],
             [
              0.3333333333333333,
              "#9c179e"
             ],
             [
              0.4444444444444444,
              "#bd3786"
             ],
             [
              0.5555555555555556,
              "#d8576b"
             ],
             [
              0.6666666666666666,
              "#ed7953"
             ],
             [
              0.7777777777777778,
              "#fb9f3a"
             ],
             [
              0.8888888888888888,
              "#fdca26"
             ],
             [
              1,
              "#f0f921"
             ]
            ],
            "type": "histogram2dcontour"
           }
          ],
          "mesh3d": [
           {
            "colorbar": {
             "outlinewidth": 0,
             "ticks": ""
            },
            "type": "mesh3d"
           }
          ],
          "parcoords": [
           {
            "line": {
             "colorbar": {
              "outlinewidth": 0,
              "ticks": ""
             }
            },
            "type": "parcoords"
           }
          ],
          "pie": [
           {
            "automargin": true,
            "type": "pie"
           }
          ],
          "scatter": [
           {
            "fillpattern": {
             "fillmode": "overlay",
             "size": 10,
             "solidity": 0.2
            },
            "type": "scatter"
           }
          ],
          "scatter3d": [
           {
            "line": {
             "colorbar": {
              "outlinewidth": 0,
              "ticks": ""
             }
            },
            "marker": {
             "colorbar": {
              "outlinewidth": 0,
              "ticks": ""
             }
            },
            "type": "scatter3d"
           }
          ],
          "scattercarpet": [
           {
            "marker": {
             "colorbar": {
              "outlinewidth": 0,
              "ticks": ""
             }
            },
            "type": "scattercarpet"
           }
          ],
          "scattergeo": [
           {
            "marker": {
             "colorbar": {
              "outlinewidth": 0,
              "ticks": ""
             }
            },
            "type": "scattergeo"
           }
          ],
          "scattergl": [
           {
            "marker": {
             "colorbar": {
              "outlinewidth": 0,
              "ticks": ""
             }
            },
            "type": "scattergl"
           }
          ],
          "scattermapbox": [
           {
            "marker": {
             "colorbar": {
              "outlinewidth": 0,
              "ticks": ""
             }
            },
            "type": "scattermapbox"
           }
          ],
          "scatterpolar": [
           {
            "marker": {
             "colorbar": {
              "outlinewidth": 0,
              "ticks": ""
             }
            },
            "type": "scatterpolar"
           }
          ],
          "scatterpolargl": [
           {
            "marker": {
             "colorbar": {
              "outlinewidth": 0,
              "ticks": ""
             }
            },
            "type": "scatterpolargl"
           }
          ],
          "scatterternary": [
           {
            "marker": {
             "colorbar": {
              "outlinewidth": 0,
              "ticks": ""
             }
            },
            "type": "scatterternary"
           }
          ],
          "surface": [
           {
            "colorbar": {
             "outlinewidth": 0,
             "ticks": ""
            },
            "colorscale": [
             [
              0,
              "#0d0887"
             ],
             [
              0.1111111111111111,
              "#46039f"
             ],
             [
              0.2222222222222222,
              "#7201a8"
             ],
             [
              0.3333333333333333,
              "#9c179e"
             ],
             [
              0.4444444444444444,
              "#bd3786"
             ],
             [
              0.5555555555555556,
              "#d8576b"
             ],
             [
              0.6666666666666666,
              "#ed7953"
             ],
             [
              0.7777777777777778,
              "#fb9f3a"
             ],
             [
              0.8888888888888888,
              "#fdca26"
             ],
             [
              1,
              "#f0f921"
             ]
            ],
            "type": "surface"
           }
          ],
          "table": [
           {
            "cells": {
             "fill": {
              "color": "#EBF0F8"
             },
             "line": {
              "color": "white"
             }
            },
            "header": {
             "fill": {
              "color": "#C8D4E3"
             },
             "line": {
              "color": "white"
             }
            },
            "type": "table"
           }
          ]
         },
         "layout": {
          "annotationdefaults": {
           "arrowcolor": "#2a3f5f",
           "arrowhead": 0,
           "arrowwidth": 1
          },
          "autotypenumbers": "strict",
          "coloraxis": {
           "colorbar": {
            "outlinewidth": 0,
            "ticks": ""
           }
          },
          "colorscale": {
           "diverging": [
            [
             0,
             "#8e0152"
            ],
            [
             0.1,
             "#c51b7d"
            ],
            [
             0.2,
             "#de77ae"
            ],
            [
             0.3,
             "#f1b6da"
            ],
            [
             0.4,
             "#fde0ef"
            ],
            [
             0.5,
             "#f7f7f7"
            ],
            [
             0.6,
             "#e6f5d0"
            ],
            [
             0.7,
             "#b8e186"
            ],
            [
             0.8,
             "#7fbc41"
            ],
            [
             0.9,
             "#4d9221"
            ],
            [
             1,
             "#276419"
            ]
           ],
           "sequential": [
            [
             0,
             "#0d0887"
            ],
            [
             0.1111111111111111,
             "#46039f"
            ],
            [
             0.2222222222222222,
             "#7201a8"
            ],
            [
             0.3333333333333333,
             "#9c179e"
            ],
            [
             0.4444444444444444,
             "#bd3786"
            ],
            [
             0.5555555555555556,
             "#d8576b"
            ],
            [
             0.6666666666666666,
             "#ed7953"
            ],
            [
             0.7777777777777778,
             "#fb9f3a"
            ],
            [
             0.8888888888888888,
             "#fdca26"
            ],
            [
             1,
             "#f0f921"
            ]
           ],
           "sequentialminus": [
            [
             0,
             "#0d0887"
            ],
            [
             0.1111111111111111,
             "#46039f"
            ],
            [
             0.2222222222222222,
             "#7201a8"
            ],
            [
             0.3333333333333333,
             "#9c179e"
            ],
            [
             0.4444444444444444,
             "#bd3786"
            ],
            [
             0.5555555555555556,
             "#d8576b"
            ],
            [
             0.6666666666666666,
             "#ed7953"
            ],
            [
             0.7777777777777778,
             "#fb9f3a"
            ],
            [
             0.8888888888888888,
             "#fdca26"
            ],
            [
             1,
             "#f0f921"
            ]
           ]
          },
          "colorway": [
           "#636efa",
           "#EF553B",
           "#00cc96",
           "#ab63fa",
           "#FFA15A",
           "#19d3f3",
           "#FF6692",
           "#B6E880",
           "#FF97FF",
           "#FECB52"
          ],
          "font": {
           "color": "#2a3f5f"
          },
          "geo": {
           "bgcolor": "white",
           "lakecolor": "white",
           "landcolor": "#E5ECF6",
           "showlakes": true,
           "showland": true,
           "subunitcolor": "white"
          },
          "hoverlabel": {
           "align": "left"
          },
          "hovermode": "closest",
          "mapbox": {
           "style": "light"
          },
          "paper_bgcolor": "white",
          "plot_bgcolor": "#E5ECF6",
          "polar": {
           "angularaxis": {
            "gridcolor": "white",
            "linecolor": "white",
            "ticks": ""
           },
           "bgcolor": "#E5ECF6",
           "radialaxis": {
            "gridcolor": "white",
            "linecolor": "white",
            "ticks": ""
           }
          },
          "scene": {
           "xaxis": {
            "backgroundcolor": "#E5ECF6",
            "gridcolor": "white",
            "gridwidth": 2,
            "linecolor": "white",
            "showbackground": true,
            "ticks": "",
            "zerolinecolor": "white"
           },
           "yaxis": {
            "backgroundcolor": "#E5ECF6",
            "gridcolor": "white",
            "gridwidth": 2,
            "linecolor": "white",
            "showbackground": true,
            "ticks": "",
            "zerolinecolor": "white"
           },
           "zaxis": {
            "backgroundcolor": "#E5ECF6",
            "gridcolor": "white",
            "gridwidth": 2,
            "linecolor": "white",
            "showbackground": true,
            "ticks": "",
            "zerolinecolor": "white"
           }
          },
          "shapedefaults": {
           "line": {
            "color": "#2a3f5f"
           }
          },
          "ternary": {
           "aaxis": {
            "gridcolor": "white",
            "linecolor": "white",
            "ticks": ""
           },
           "baxis": {
            "gridcolor": "white",
            "linecolor": "white",
            "ticks": ""
           },
           "bgcolor": "#E5ECF6",
           "caxis": {
            "gridcolor": "white",
            "linecolor": "white",
            "ticks": ""
           }
          },
          "title": {
           "x": 0.05
          },
          "xaxis": {
           "automargin": true,
           "gridcolor": "white",
           "linecolor": "white",
           "ticks": "",
           "title": {
            "standoff": 15
           },
           "zerolinecolor": "white",
           "zerolinewidth": 2
          },
          "yaxis": {
           "automargin": true,
           "gridcolor": "white",
           "linecolor": "white",
           "ticks": "",
           "title": {
            "standoff": 15
           },
           "zerolinecolor": "white",
           "zerolinewidth": 2
          }
         }
        },
        "xaxis": {
         "anchor": "y",
         "domain": [
          0,
          1
         ],
         "title": {
          "text": "Location"
         }
        },
        "yaxis": {
         "anchor": "x",
         "domain": [
          0,
          1
         ],
         "title": {
          "text": "TweetCount"
         }
        }
       }
      },
      "text/html": [
       "<div>                            <div id=\"18eb8535-6296-4e6c-bab1-a7f2b5e4fee7\" class=\"plotly-graph-div\" style=\"height:525px; width:100%;\"></div>            <script type=\"text/javascript\">                require([\"plotly\"], function(Plotly) {                    window.PLOTLYENV=window.PLOTLYENV || {};                                    if (document.getElementById(\"18eb8535-6296-4e6c-bab1-a7f2b5e4fee7\")) {                    Plotly.newPlot(                        \"18eb8535-6296-4e6c-bab1-a7f2b5e4fee7\",                        [{\"alignmentgroup\":\"True\",\"hovertemplate\":\"Location=%{x}<br>TweetCount=%{y}<extra></extra>\",\"legendgroup\":\"\",\"marker\":{\"color\":\"#636efa\",\"pattern\":{\"shape\":\"\"}},\"name\":\"\",\"offsetgroup\":\"\",\"orientation\":\"v\",\"showlegend\":false,\"textposition\":\"auto\",\"x\":[\"London, England\",\"United Kingdom\",\"France\",\"Kampala, Uganda\",\"Alicante\",\"London\",\"Ireland\",\"South Africa\",\"Wales, United Kingdom\",\"England, United Kingdom\"],\"xaxis\":\"x\",\"y\":[543,529,503,500,462,426,374,348,338,313],\"yaxis\":\"y\",\"type\":\"bar\"}],                        {\"template\":{\"data\":{\"histogram2dcontour\":[{\"type\":\"histogram2dcontour\",\"colorbar\":{\"outlinewidth\":0,\"ticks\":\"\"},\"colorscale\":[[0.0,\"#0d0887\"],[0.1111111111111111,\"#46039f\"],[0.2222222222222222,\"#7201a8\"],[0.3333333333333333,\"#9c179e\"],[0.4444444444444444,\"#bd3786\"],[0.5555555555555556,\"#d8576b\"],[0.6666666666666666,\"#ed7953\"],[0.7777777777777778,\"#fb9f3a\"],[0.8888888888888888,\"#fdca26\"],[1.0,\"#f0f921\"]]}],\"choropleth\":[{\"type\":\"choropleth\",\"colorbar\":{\"outlinewidth\":0,\"ticks\":\"\"}}],\"histogram2d\":[{\"type\":\"histogram2d\",\"colorbar\":{\"outlinewidth\":0,\"ticks\":\"\"},\"colorscale\":[[0.0,\"#0d0887\"],[0.1111111111111111,\"#46039f\"],[0.2222222222222222,\"#7201a8\"],[0.3333333333333333,\"#9c179e\"],[0.4444444444444444,\"#bd3786\"],[0.5555555555555556,\"#d8576b\"],[0.6666666666666666,\"#ed7953\"],[0.7777777777777778,\"#fb9f3a\"],[0.8888888888888888,\"#fdca26\"],[1.0,\"#f0f921\"]]}],\"heatmap\":[{\"type\":\"heatmap\",\"colorbar\":{\"outlinewidth\":0,\"ticks\":\"\"},\"colorscale\":[[0.0,\"#0d0887\"],[0.1111111111111111,\"#46039f\"],[0.2222222222222222,\"#7201a8\"],[0.3333333333333333,\"#9c179e\"],[0.4444444444444444,\"#bd3786\"],[0.5555555555555556,\"#d8576b\"],[0.6666666666666666,\"#ed7953\"],[0.7777777777777778,\"#fb9f3a\"],[0.8888888888888888,\"#fdca26\"],[1.0,\"#f0f921\"]]}],\"heatmapgl\":[{\"type\":\"heatmapgl\",\"colorbar\":{\"outlinewidth\":0,\"ticks\":\"\"},\"colorscale\":[[0.0,\"#0d0887\"],[0.1111111111111111,\"#46039f\"],[0.2222222222222222,\"#7201a8\"],[0.3333333333333333,\"#9c179e\"],[0.4444444444444444,\"#bd3786\"],[0.5555555555555556,\"#d8576b\"],[0.6666666666666666,\"#ed7953\"],[0.7777777777777778,\"#fb9f3a\"],[0.8888888888888888,\"#fdca26\"],[1.0,\"#f0f921\"]]}],\"contourcarpet\":[{\"type\":\"contourcarpet\",\"colorbar\":{\"outlinewidth\":0,\"ticks\":\"\"}}],\"contour\":[{\"type\":\"contour\",\"colorbar\":{\"outlinewidth\":0,\"ticks\":\"\"},\"colorscale\":[[0.0,\"#0d0887\"],[0.1111111111111111,\"#46039f\"],[0.2222222222222222,\"#7201a8\"],[0.3333333333333333,\"#9c179e\"],[0.4444444444444444,\"#bd3786\"],[0.5555555555555556,\"#d8576b\"],[0.6666666666666666,\"#ed7953\"],[0.7777777777777778,\"#fb9f3a\"],[0.8888888888888888,\"#fdca26\"],[1.0,\"#f0f921\"]]}],\"surface\":[{\"type\":\"surface\",\"colorbar\":{\"outlinewidth\":0,\"ticks\":\"\"},\"colorscale\":[[0.0,\"#0d0887\"],[0.1111111111111111,\"#46039f\"],[0.2222222222222222,\"#7201a8\"],[0.3333333333333333,\"#9c179e\"],[0.4444444444444444,\"#bd3786\"],[0.5555555555555556,\"#d8576b\"],[0.6666666666666666,\"#ed7953\"],[0.7777777777777778,\"#fb9f3a\"],[0.8888888888888888,\"#fdca26\"],[1.0,\"#f0f921\"]]}],\"mesh3d\":[{\"type\":\"mesh3d\",\"colorbar\":{\"outlinewidth\":0,\"ticks\":\"\"}}],\"scatter\":[{\"fillpattern\":{\"fillmode\":\"overlay\",\"size\":10,\"solidity\":0.2},\"type\":\"scatter\"}],\"parcoords\":[{\"type\":\"parcoords\",\"line\":{\"colorbar\":{\"outlinewidth\":0,\"ticks\":\"\"}}}],\"scatterpolargl\":[{\"type\":\"scatterpolargl\",\"marker\":{\"colorbar\":{\"outlinewidth\":0,\"ticks\":\"\"}}}],\"bar\":[{\"error_x\":{\"color\":\"#2a3f5f\"},\"error_y\":{\"color\":\"#2a3f5f\"},\"marker\":{\"line\":{\"color\":\"#E5ECF6\",\"width\":0.5},\"pattern\":{\"fillmode\":\"overlay\",\"size\":10,\"solidity\":0.2}},\"type\":\"bar\"}],\"scattergeo\":[{\"type\":\"scattergeo\",\"marker\":{\"colorbar\":{\"outlinewidth\":0,\"ticks\":\"\"}}}],\"scatterpolar\":[{\"type\":\"scatterpolar\",\"marker\":{\"colorbar\":{\"outlinewidth\":0,\"ticks\":\"\"}}}],\"histogram\":[{\"marker\":{\"pattern\":{\"fillmode\":\"overlay\",\"size\":10,\"solidity\":0.2}},\"type\":\"histogram\"}],\"scattergl\":[{\"type\":\"scattergl\",\"marker\":{\"colorbar\":{\"outlinewidth\":0,\"ticks\":\"\"}}}],\"scatter3d\":[{\"type\":\"scatter3d\",\"line\":{\"colorbar\":{\"outlinewidth\":0,\"ticks\":\"\"}},\"marker\":{\"colorbar\":{\"outlinewidth\":0,\"ticks\":\"\"}}}],\"scattermapbox\":[{\"type\":\"scattermapbox\",\"marker\":{\"colorbar\":{\"outlinewidth\":0,\"ticks\":\"\"}}}],\"scatterternary\":[{\"type\":\"scatterternary\",\"marker\":{\"colorbar\":{\"outlinewidth\":0,\"ticks\":\"\"}}}],\"scattercarpet\":[{\"type\":\"scattercarpet\",\"marker\":{\"colorbar\":{\"outlinewidth\":0,\"ticks\":\"\"}}}],\"carpet\":[{\"aaxis\":{\"endlinecolor\":\"#2a3f5f\",\"gridcolor\":\"white\",\"linecolor\":\"white\",\"minorgridcolor\":\"white\",\"startlinecolor\":\"#2a3f5f\"},\"baxis\":{\"endlinecolor\":\"#2a3f5f\",\"gridcolor\":\"white\",\"linecolor\":\"white\",\"minorgridcolor\":\"white\",\"startlinecolor\":\"#2a3f5f\"},\"type\":\"carpet\"}],\"table\":[{\"cells\":{\"fill\":{\"color\":\"#EBF0F8\"},\"line\":{\"color\":\"white\"}},\"header\":{\"fill\":{\"color\":\"#C8D4E3\"},\"line\":{\"color\":\"white\"}},\"type\":\"table\"}],\"barpolar\":[{\"marker\":{\"line\":{\"color\":\"#E5ECF6\",\"width\":0.5},\"pattern\":{\"fillmode\":\"overlay\",\"size\":10,\"solidity\":0.2}},\"type\":\"barpolar\"}],\"pie\":[{\"automargin\":true,\"type\":\"pie\"}]},\"layout\":{\"autotypenumbers\":\"strict\",\"colorway\":[\"#636efa\",\"#EF553B\",\"#00cc96\",\"#ab63fa\",\"#FFA15A\",\"#19d3f3\",\"#FF6692\",\"#B6E880\",\"#FF97FF\",\"#FECB52\"],\"font\":{\"color\":\"#2a3f5f\"},\"hovermode\":\"closest\",\"hoverlabel\":{\"align\":\"left\"},\"paper_bgcolor\":\"white\",\"plot_bgcolor\":\"#E5ECF6\",\"polar\":{\"bgcolor\":\"#E5ECF6\",\"angularaxis\":{\"gridcolor\":\"white\",\"linecolor\":\"white\",\"ticks\":\"\"},\"radialaxis\":{\"gridcolor\":\"white\",\"linecolor\":\"white\",\"ticks\":\"\"}},\"ternary\":{\"bgcolor\":\"#E5ECF6\",\"aaxis\":{\"gridcolor\":\"white\",\"linecolor\":\"white\",\"ticks\":\"\"},\"baxis\":{\"gridcolor\":\"white\",\"linecolor\":\"white\",\"ticks\":\"\"},\"caxis\":{\"gridcolor\":\"white\",\"linecolor\":\"white\",\"ticks\":\"\"}},\"coloraxis\":{\"colorbar\":{\"outlinewidth\":0,\"ticks\":\"\"}},\"colorscale\":{\"sequential\":[[0.0,\"#0d0887\"],[0.1111111111111111,\"#46039f\"],[0.2222222222222222,\"#7201a8\"],[0.3333333333333333,\"#9c179e\"],[0.4444444444444444,\"#bd3786\"],[0.5555555555555556,\"#d8576b\"],[0.6666666666666666,\"#ed7953\"],[0.7777777777777778,\"#fb9f3a\"],[0.8888888888888888,\"#fdca26\"],[1.0,\"#f0f921\"]],\"sequentialminus\":[[0.0,\"#0d0887\"],[0.1111111111111111,\"#46039f\"],[0.2222222222222222,\"#7201a8\"],[0.3333333333333333,\"#9c179e\"],[0.4444444444444444,\"#bd3786\"],[0.5555555555555556,\"#d8576b\"],[0.6666666666666666,\"#ed7953\"],[0.7777777777777778,\"#fb9f3a\"],[0.8888888888888888,\"#fdca26\"],[1.0,\"#f0f921\"]],\"diverging\":[[0,\"#8e0152\"],[0.1,\"#c51b7d\"],[0.2,\"#de77ae\"],[0.3,\"#f1b6da\"],[0.4,\"#fde0ef\"],[0.5,\"#f7f7f7\"],[0.6,\"#e6f5d0\"],[0.7,\"#b8e186\"],[0.8,\"#7fbc41\"],[0.9,\"#4d9221\"],[1,\"#276419\"]]},\"xaxis\":{\"gridcolor\":\"white\",\"linecolor\":\"white\",\"ticks\":\"\",\"title\":{\"standoff\":15},\"zerolinecolor\":\"white\",\"automargin\":true,\"zerolinewidth\":2},\"yaxis\":{\"gridcolor\":\"white\",\"linecolor\":\"white\",\"ticks\":\"\",\"title\":{\"standoff\":15},\"zerolinecolor\":\"white\",\"automargin\":true,\"zerolinewidth\":2},\"scene\":{\"xaxis\":{\"backgroundcolor\":\"#E5ECF6\",\"gridcolor\":\"white\",\"linecolor\":\"white\",\"showbackground\":true,\"ticks\":\"\",\"zerolinecolor\":\"white\",\"gridwidth\":2},\"yaxis\":{\"backgroundcolor\":\"#E5ECF6\",\"gridcolor\":\"white\",\"linecolor\":\"white\",\"showbackground\":true,\"ticks\":\"\",\"zerolinecolor\":\"white\",\"gridwidth\":2},\"zaxis\":{\"backgroundcolor\":\"#E5ECF6\",\"gridcolor\":\"white\",\"linecolor\":\"white\",\"showbackground\":true,\"ticks\":\"\",\"zerolinecolor\":\"white\",\"gridwidth\":2}},\"shapedefaults\":{\"line\":{\"color\":\"#2a3f5f\"}},\"annotationdefaults\":{\"arrowcolor\":\"#2a3f5f\",\"arrowhead\":0,\"arrowwidth\":1},\"geo\":{\"bgcolor\":\"white\",\"landcolor\":\"#E5ECF6\",\"subunitcolor\":\"white\",\"showland\":true,\"showlakes\":true,\"lakecolor\":\"white\"},\"title\":{\"x\":0.05},\"mapbox\":{\"style\":\"light\"}}},\"xaxis\":{\"anchor\":\"y\",\"domain\":[0.0,1.0],\"title\":{\"text\":\"Location\"}},\"yaxis\":{\"anchor\":\"x\",\"domain\":[0.0,1.0],\"title\":{\"text\":\"TweetCount\"}},\"legend\":{\"tracegroupgap\":0},\"margin\":{\"t\":60},\"barmode\":\"relative\"},                        {\"responsive\": true}                    ).then(function(){\n",
       "                            \n",
       "var gd = document.getElementById('18eb8535-6296-4e6c-bab1-a7f2b5e4fee7');\n",
       "var x = new MutationObserver(function (mutations, observer) {{\n",
       "        var display = window.getComputedStyle(gd).display;\n",
       "        if (!display || display === 'none') {{\n",
       "            console.log([gd, 'removed!']);\n",
       "            Plotly.purge(gd);\n",
       "            observer.disconnect();\n",
       "        }}\n",
       "}});\n",
       "\n",
       "// Listen for the removal of the full notebook cells\n",
       "var notebookContainer = gd.closest('#notebook-container');\n",
       "if (notebookContainer) {{\n",
       "    x.observe(notebookContainer, {childList: true});\n",
       "}}\n",
       "\n",
       "// Listen for the clearing of the current output cell\n",
       "var outputEl = gd.closest('.output');\n",
       "if (outputEl) {{\n",
       "    x.observe(outputEl, {childList: true});\n",
       "}}\n",
       "\n",
       "                        })                };                });            </script>        </div>"
      ]
     },
     "metadata": {},
     "output_type": "display_data"
    }
   ],
   "source": [
    "dfLoc = spark.sql(\"SELECT DISTINCT user.location AS Location, CAST(count(id) AS INT) as TweetCount FROM tweets \\\n",
    "                   WHERE text LIKE '%rugby%' AND user.location IS NOT Null \\\n",
    "                   GROUP BY user.location \\\n",
    "                   ORDER BY TweetCount DESC LIMIT 10\")\n",
    "tempdf = ps.DataFrame(dfLoc)\n",
    "\n",
    "fig = tempdf.plot(kind='bar', x='Location', y='TweetCount')\n",
    "fig.show()\n",
    "\n",
    "\n",
    "fig.write_image(\"Images/TweetCountByuserLocation.svg\")\n",
    "fig.write_html(\"Images/TweetCountByuserLocation.html\")"
   ]
  },
  {
   "cell_type": "markdown",
   "id": "106f0306",
   "metadata": {},
   "source": [
    "Now limit the dataset to English texts and tweets with the rugby in the text"
   ]
  },
  {
   "cell_type": "code",
   "execution_count": 165,
   "id": "41824ab2",
   "metadata": {},
   "outputs": [
    {
     "name": "stderr",
     "output_type": "stream",
     "text": [
      "2023-05-18 18:01:35,317 WARN scheduler.DAGScheduler: Broadcasting large task binary with size 1311.2 KiB\n",
      "[Stage 715:>                                                        (0 + 1) / 1]\r"
     ]
    },
    {
     "name": "stdout",
     "output_type": "stream",
     "text": [
      "+--------------------+------------+-----------+--------------------+------------------+--------------------+--------------------+--------------------+--------------+---------+------------+----+-------------------+-------------------+-----------------------+---------------------+-------------------------+-------------------+-----------------------+---------------+----+-----+------------------+-----------+--------------------+-------------------+--------------------+-----------------------+-----------+-------------+---------+--------------------+--------------------+--------------------+-------------+---------+--------------------+\n",
      "|                 _id|contributors|coordinates|          created_at|display_text_range|            entities|   extended_entities|      extended_tweet|favorite_count|favorited|filter_level| geo|                 id|             id_str|in_reply_to_screen_name|in_reply_to_status_id|in_reply_to_status_id_str|in_reply_to_user_id|in_reply_to_user_id_str|is_quote_status|lang|place|possibly_sensitive|quote_count|       quoted_status|   quoted_status_id|quoted_status_id_str|quoted_status_permalink|reply_count|retweet_count|retweeted|    retweeted_status|              source|                text| timestamp_ms|truncated|                user|\n",
      "+--------------------+------------+-----------+--------------------+------------------+--------------------+--------------------+--------------------+--------------+---------+------------+----+-------------------+-------------------+-----------------------+---------------------+-------------------------+-------------------+-----------------------+---------------+----+-----+------------------+-----------+--------------------+-------------------+--------------------+-----------------------+-----------+-------------+---------+--------------------+--------------------+--------------------+-------------+---------+--------------------+\n",
      "|{64582286c83a2a16...|        null|       null|Fri Jan 29 12:57:...|              null|{[], null, [], [{...|                null|                null|             0|    false|         low|null|1355138073663856640|1355138073663856640|                   null|                 null|                     null|               null|                   null|          false|  en| null|             false|          0|                null|               null|                null|                   null|          0|            0|    false|                null|<a href=\"https://...|The latest The Ir...|1611925068666|    false|{false, Fri Mar 0...|\n",
      "|{6458423ec83a2a16...|        null|       null|Sat Feb 06 21:55:...|         [29, 140]|{[], null, [], [{...|                null|{[29, 130], {[], ...|             0|    false|         low|null|1358172526761963521|1358172526761963521|         TemplarEnglish|  1358171330080886784|      1358171330080886784|1354505851101442054|    1354505851101442054|          false|  en| null|             false|          0|                null|               null|                null|                   null|          0|            0|    false|                null|<a href=\"https://...|@TemplarEnglish @...|1612648538662|     true|{false, Sun Apr 2...|\n",
      "|{64584eb1c83a2a16...|        null|       null|Wed Feb 10 22:46:...|              null|{[], null, [], []...|                null|                null|             0|    false|         low|null|1359634845668892674|1359634845668892674|                   null|                 null|                     null|               null|                   null|           true|  en| null|              null|          0|{null, null, Wed ...|1359630725591433216| 1359630725591433216|   {https://t.co/2HW...|          0|            0|    false|                null|<a href=\"http://t...|Jangle Jackson ta...|1612997182658|    false|{false, Sat Feb 1...|\n",
      "|{64585be4c83a2a16...|        null|       null|Sat Feb 13 10:23:...|         [78, 122]|{[], null, [], []...|                null|                null|             0|    false|         low|null|1360535157242011649|1360535157242011649|            ABSalesCork|  1360534936940380161|      1360534936940380161|          353276693|              353276693|          false|  en| null|              null|          0|                null|               null|                null|                   null|          0|            0|    false|                null|<a href=\"http://t...|@ABSalesCork @Six...|1613211833664|    false|{false, Sun Oct 0...|\n",
      "|{645873c7c83a2a16...|        null|       null|Fri Feb 19 12:57:...|              null|{[{brexit, [97, 1...|                null|                null|             0|    false|         low|null|1362748214626107393|1362748214626107393|                   null|                 null|                     null|               null|                   null|          false|  en| null|             false|          0|                null|               null|                null|                   null|          0|            0|    false|                null|<a href=\"https://...|The latest The Ir...|1613739467661|    false|{false, Fri Mar 0...|\n",
      "|{6458b534c83a2a16...|        null|       null|Mon Mar 08 21:27:...|          [17, 29]|{[], null, [], []...|                null|                null|             0|    false|         low|null|1369037166609915904|1369037166609915904|        PaulMorganrugby|  1369036968382840836|      1369036968382840836|          222412568|              222412568|          false|  en| null|              null|          0|                null|               null|                null|                   null|          0|            0|    false|                null|<a href=\"https://...|@PaulMorganrugby ...|1615238870657|    false|{false, Thu Oct 1...|\n",
      "|{6458e70fc83a2a16...|        null|       null|Sun Mar 21 09:37:...|              null|{[{GuinnessSixNat...|{[{{null, null, f...|                null|             0|    false|         low|null|1373569481197359104|1373569481197359104|                   null|                 null|                     null|               null|                   null|          false|  en| null|             false|          0|                null|               null|                null|                   null|          0|            0|    false|{null, null, Sat ...|<a href=\"http://t...|RT @SixNationsRug...|1616319458661|    false|{false, Tue Jan 1...|\n",
      "|{64590ffed7ff2cfa...|        null|       null|Sat Mar 27 21:00:...|         [26, 140]|{[], null, [], [{...|                null|{[26, 239], {[], ...|             0|    false|         low|null|1375915560937136129|1375915560937136129|          bathrugbyplug|  1375856398026825730|      1375856398026825730|1028334606523813889|    1028334606523813889|          false|  en| null|              null|          0|                null|               null|                null|                   null|          0|            0|    false|                null|<a href=\"http://t...|@bathrugbyplug @B...|1616878807659|     true|{false, Sat Dec 2...|\n",
      "|{64593ed1d7ff2cfa...|        null|       null|Tue Apr 06 10:25:...|         [62, 140]|{[], null, [], [{...|                null|{[62, 290], {[], ...|             0|    false|         low|null|1379379724682674176|1379379724682674176|              pat_hale1|  1379375604882145280|      1379375604882145280|1082658488952725511|    1082658488952725511|          false|  en| null|              null|          0|                null|               null|                null|                   null|          0|            0|    false|                null|<a href=\"http://t...|@pat_hale1 @Jacko...|1617704728657|     true|{false, Sun Aug 0...|\n",
      "|{645960a9d7ff2cfa...|        null|       null|Sun May 02 04:50:...|              null|{[], null, [], []...|                null|                null|             0|    false|         low|null|1388717457557368833|1388717457557368833|                   null|                 null|                     null|               null|                   null|          false|  en| null|              null|          0|                null|               null|                null|                   null|          0|            0|    false|{null, null, Sun ...|<a href=\"https://...|RT @TariqSh61: @P...|1619931017661|    false|{false, Wed Nov 0...|\n",
      "|{64596329d7ff2cfa...|        null|       null|Sun May 02 09:38:...|        [117, 140]|{[], null, [], [{...|                null|{[190, 403], {[],...|             0|    false|         low|null|1388790073550852097|1388790073550852097|              rozazalea|  1388561643638976512|      1388561643638976512| 966752203485544448|     966752203485544448|          false|  en| null|             false|          0|                null|               null|                null|                   null|          0|            0|    false|                null|<a href=\"http://t...|@rozazalea @shell...|1619948330663|     true|{false, Sat Apr 1...|\n",
      "|{64596d6d37dad80d...|        null|       null|Sun Mar 20 16:14:...|              null|{[], [{{, true, f...|{[{{, true, false...|                null|             0|    false|         low|null|1505578610329112577|1505578610329112577|                   null|                 null|                     null|               null|                   null|          false|  en| null|             false|          0|                null|               null|                null|                   null|          0|            0|    false|{null, null, Sun ...|<a href=\"http://t...|RT @rugby_europe:...|1647792887657|    false|{false, Wed Mar 1...|\n",
      "|{645986b937dad80d...|        null|       null|Tue Mar 29 08:55:...|              null|{[], null, [], []...|                null|                null|             0|    false|         low|null|1508729543498280964|1508729543498280964|                   null|                 null|                     null|               null|                   null|          false|  en| null|              null|          0|                null|               null|                null|                   null|          0|            0|    false|{null, null, Sun ...|<a href=\"http://t...|RT @Halfcastboi1:...|1648544128666|    false|{false, Tue Dec 1...|\n",
      "|{6459935137dad80d...|        null|       null|Sat Apr 02 07:40:...|          [0, 140]|{[], null, [], [{...|                null|{[0, 255], {[{rug...|             0|    false|         low|null|1510160241538777089|1510160241538777089|                   null|                 null|                     null|               null|                   null|          false|  en| null|             false|          0|                null|               null|                null|                   null|          0|            0|    false|                null|<a href=\"https://...|Rugby Uniform\\nCr...|1648885233660|     true|{false, Sat Jul 1...|\n",
      "|{64599d3d37dad80d...|        null|       null|Wed Apr 06 13:45:...|              null|{[{RedRoses, [116...|                null|                null|             0|    false|         low|null|1511701614725320710|1511701614725320710|                   null|                 null|                     null|               null|                   null|          false|  en| null|              null|          0|                null|               null|                null|                   null|          0|            0|    false|{null, null, Wed ...|<a href=\"https://...|RT @MattHardyJour...|1649252725665|    false|{false, Sun Feb 2...|\n",
      "|{6459a23b37dad80d...|        null|       null|Fri Apr 08 13:19:...|              null|{[], null, [], []...|                null|                null|             0|    false|         low|null|1512419763456299012|1512419763456299012|                   null|                 null|                     null|               null|                   null|          false|  en| null|              null|          0|                null|               null|                null|                   null|          0|            0|    false|{null, null, Fri ...|<a href=\"http://t...|RT @dragonsrugby:...|1649423945665|    false|{false, Sat Feb 1...|\n",
      "|{6459f0fdd7ff2cfa...|        null|       null|Thu Jun 03 19:37:...|              null|{[], null, [], []...|                null|                null|             0|    false|         low|null|1400537119471411209|1400537119471411209|                   null|                 null|                     null|               null|                   null|          false|  en| null|              null|          0|                null|               null|                null|                   null|          0|            0|    false|{null, null, Thu ...|<a href=\"https://...|RT @Stockportrugb...|1622749044660|    false|{false, Sat Feb 2...|\n",
      "|{645a041cd7ff2cfa...|        null|       null|Mon Jun 07 15:56:...|              null|{[], null, [], []...|                null|                null|             0|    false|         low|null|1401931138344570882|1401931138344570882|                   null|                 null|                     null|               null|                   null|          false|  en| null|              null|          0|                null|               null|                null|                   null|          0|            0|    false|{null, null, Sun ...|<a href=\"http://t...|RT @Bv2Podcast: W...|1623081404659|    false|{false, Mon Aug 1...|\n",
      "|{645a0e1dd7ff2cfa...|        null|       null|Thu Jun 10 19:47:...|              null|{[], null, [], []...|                null|                null|             0|    false|         low|null|1403076468574404609|1403076468574404609|                   null|                 null|                     null|               null|                   null|           true|  en| null|              null|          0|{null, null, Thu ...|1403019994393350144| 1403019994393350144|   {https://t.co/uZQ...|          0|            0|    false|{null, null, Thu ...|<a href=\"https://...|RT @Buryboy6: Sam...|1623354472665|    false|{false, Thu Dec 2...|\n",
      "|{645a0ecfd7ff2cfa...|        null|       null|Thu Jun 10 09:07:...|          [0, 140]|{[], null, [], [{...|                null|{[0, 233], {[], [...|             0|    false|         low|null|1402915243718754308|1402915243718754308|                   null|                 null|                     null|               null|                   null|          false|  en| null|             false|          0|                null|               null|                null|                   null|          0|            0|    false|                null|<a href=\"http://t...|What a weekend of...|1623316033664|     true|{false, Tue Sep 1...|\n",
      "+--------------------+------------+-----------+--------------------+------------------+--------------------+--------------------+--------------------+--------------+---------+------------+----+-------------------+-------------------+-----------------------+---------------------+-------------------------+-------------------+-----------------------+---------------+----+-----+------------------+-----------+--------------------+-------------------+--------------------+-----------------------+-----------+-------------+---------+--------------------+--------------------+--------------------+-------------+---------+--------------------+\n",
      "only showing top 20 rows\n",
      "\n"
     ]
    },
    {
     "name": "stderr",
     "output_type": "stream",
     "text": [
      "\r",
      "                                                                                \r"
     ]
    }
   ],
   "source": [
    "dfEnTwt = spark.sql(\"SELECT * FROM tweets WHERE lang = 'en' AND text LIKE '%rugby%'\")\n",
    "dfEnTwt.createOrReplaceTempView(\"en_tweets\")\n",
    "dfEnTwt.show()"
   ]
  },
  {
   "cell_type": "markdown",
   "id": "5654e5c3",
   "metadata": {},
   "source": [
    "Now how many tweets in the English language dataset"
   ]
  },
  {
   "cell_type": "code",
   "execution_count": 166,
   "id": "a37eb383",
   "metadata": {},
   "outputs": [
    {
     "name": "stderr",
     "output_type": "stream",
     "text": [
      "                                                                                \r"
     ]
    },
    {
     "data": {
      "text/plain": [
       "48892"
      ]
     },
     "execution_count": 166,
     "metadata": {},
     "output_type": "execute_result"
    }
   ],
   "source": [
    "dfEnTwt.count()"
   ]
  },
  {
   "cell_type": "code",
   "execution_count": 167,
   "id": "e9182c74",
   "metadata": {},
   "outputs": [
    {
     "name": "stderr",
     "output_type": "stream",
     "text": [
      "[Stage 719:===============================================>         (5 + 1) / 6]\r"
     ]
    },
    {
     "name": "stdout",
     "output_type": "stream",
     "text": [
      "+--------------------+----------+\n",
      "|            Location|TweetCount|\n",
      "+--------------------+----------+\n",
      "|                null|     15507|\n",
      "|      United Kingdom|       518|\n",
      "|     London, England|       514|\n",
      "|     Kampala, Uganda|       467|\n",
      "|              London|       410|\n",
      "|             Ireland|       356|\n",
      "|        South Africa|       327|\n",
      "|Wales, United Kin...|       315|\n",
      "|England, United K...|       301|\n",
      "|Cape Town, South ...|       264|\n",
      "+--------------------+----------+\n",
      "\n"
     ]
    },
    {
     "name": "stderr",
     "output_type": "stream",
     "text": [
      "\r",
      "                                                                                \r"
     ]
    }
   ],
   "source": [
    "dfLoc = spark.sql(\"SELECT DISTINCT user.location AS Location, CAST(count(id) AS INT) as TweetCount \\\n",
    "                   FROM en_tweets GROUP BY user.location \\\n",
    "                   ORDER BY TweetCount DESC LIMIT 10\")\n",
    "dfLoc.show()"
   ]
  },
  {
   "cell_type": "code",
   "execution_count": 168,
   "id": "5bf79faf",
   "metadata": {},
   "outputs": [
    {
     "name": "stderr",
     "output_type": "stream",
     "text": [
      "[Stage 722:===============================================>         (5 + 1) / 6]\r"
     ]
    },
    {
     "name": "stdout",
     "output_type": "stream",
     "text": [
      "+---------+----------+\n",
      "|     Date|TweetCount|\n",
      "+---------+----------+\n",
      "|2021_1_29|         1|\n",
      "| 2021_2_1|        69|\n",
      "| 2021_2_2|        73|\n",
      "| 2021_2_3|        51|\n",
      "| 2021_2_4|        67|\n",
      "| 2021_2_5|        88|\n",
      "| 2021_2_6|       266|\n",
      "| 2021_2_7|       254|\n",
      "| 2021_2_8|       139|\n",
      "| 2021_2_9|       112|\n",
      "|2021_2_10|        86|\n",
      "|2021_2_11|        75|\n",
      "|2021_2_12|        96|\n",
      "|2021_2_13|       184|\n",
      "|2021_2_14|       129|\n",
      "|2021_2_15|        59|\n",
      "|2021_2_16|        65|\n",
      "|2021_2_17|        67|\n",
      "|2021_2_18|        72|\n",
      "|2021_2_19|       112|\n",
      "+---------+----------+\n",
      "only showing top 20 rows\n",
      "\n"
     ]
    },
    {
     "name": "stderr",
     "output_type": "stream",
     "text": [
      "\r",
      "                                                                                \r"
     ]
    }
   ],
   "source": [
    "\n",
    "dfDay= spark.sql(\"SELECT DISTINCT CAST(substring(created_at, 27, 4) AS INT) as Year, \\\n",
    "          CAST(from_unixtime(unix_timestamp(substring(created_at, 5, 3), 'MMM'), 'MM') As INT) as Month, \\\n",
    "          CAST(substring(created_at, 9, 2) AS INT) as Day, \\\n",
    "          CAST(count(id) AS INT) as TweetCount \\\n",
    "          FROM en_tweets \\\n",
    "          WHERE lang = 'en' AND text LIKE '%rugby%' GROUP BY substring(created_at, 27, 4), \\\n",
    "          substring(created_at, 5, 3), \\\n",
    "          substring(created_at, 9, 2)\")\n",
    "\n",
    "dfDay.createOrReplaceTempView(\"tweetsByDay\")\n",
    "\n",
    "dfDay = spark.sql(\"SELECT CONCAT(Year, '_', Month, '_', DAY) AS Date, TweetCount  \\\n",
    "                    FROM tweetsByDay ORDER BY Year, Month, Day\")\n",
    "\n",
    "dfDay.show()\n"
   ]
  },
  {
   "cell_type": "code",
   "execution_count": 169,
   "id": "ccccb373",
   "metadata": {},
   "outputs": [
    {
     "name": "stderr",
     "output_type": "stream",
     "text": [
      "2023-05-18 18:02:35,589 WARN window.WindowExec: No Partition Defined for Window operation! Moving all data to a single partition, this can cause serious performance degradation.\n",
      "2023-05-18 18:02:35,590 WARN window.WindowExec: No Partition Defined for Window operation! Moving all data to a single partition, this can cause serious performance degradation.\n",
      "2023-05-18 18:02:53,032 WARN window.WindowExec: No Partition Defined for Window operation! Moving all data to a single partition, this can cause serious performance degradation.\n",
      "2023-05-18 18:02:53,090 WARN window.WindowExec: No Partition Defined for Window operation! Moving all data to a single partition, this can cause serious performance degradation.\n",
      "2023-05-18 18:02:53,163 WARN window.WindowExec: No Partition Defined for Window operation! Moving all data to a single partition, this can cause serious performance degradation.\n",
      "2023-05-18 18:02:53,163 WARN window.WindowExec: No Partition Defined for Window operation! Moving all data to a single partition, this can cause serious performance degradation.\n"
     ]
    },
    {
     "data": {
      "application/vnd.plotly.v1+json": {
       "config": {
        "plotlyServerURL": "https://plot.ly"
       },
       "data": [
        {
         "alignmentgroup": "True",
         "hovertemplate": "Date=%{x}<br>TweetCount=%{y}<extra></extra>",
         "legendgroup": "",
         "marker": {
          "color": "#636efa",
          "pattern": {
           "shape": ""
          }
         },
         "name": "",
         "offsetgroup": "",
         "orientation": "v",
         "showlegend": false,
         "textposition": "auto",
         "type": "bar",
         "x": [
          "2021_1_29",
          "2021_2_1",
          "2021_2_2",
          "2021_2_3",
          "2021_2_4",
          "2021_2_5",
          "2021_2_6",
          "2021_2_7",
          "2021_2_8",
          "2021_2_9",
          "2021_2_10",
          "2021_2_11",
          "2021_2_12",
          "2021_2_13",
          "2021_2_14",
          "2021_2_15",
          "2021_2_16",
          "2021_2_17",
          "2021_2_18",
          "2021_2_19",
          "2021_2_20",
          "2021_2_21",
          "2021_2_22",
          "2021_2_23",
          "2021_2_24",
          "2021_2_25",
          "2021_2_26",
          "2021_2_27",
          "2021_2_28",
          "2021_3_1",
          "2021_3_2",
          "2021_3_3",
          "2021_3_4",
          "2021_3_5",
          "2021_3_6",
          "2021_3_7",
          "2021_3_8",
          "2021_3_9",
          "2021_3_10",
          "2021_3_11",
          "2021_3_12",
          "2021_3_13",
          "2021_3_14",
          "2021_3_15",
          "2021_3_16",
          "2021_3_17",
          "2021_3_18",
          "2021_3_19",
          "2021_3_20",
          "2021_3_21",
          "2021_3_22",
          "2021_3_23",
          "2021_3_24",
          "2021_3_25",
          "2021_3_26",
          "2021_3_27",
          "2021_3_28",
          "2021_3_29",
          "2021_3_30",
          "2021_3_31",
          "2021_4_1",
          "2021_4_2",
          "2021_4_3",
          "2021_4_4",
          "2021_4_5",
          "2021_4_6",
          "2021_4_7",
          "2021_4_8",
          "2021_4_9",
          "2021_4_10",
          "2021_4_27",
          "2021_4_28",
          "2021_4_29",
          "2021_4_30",
          "2021_5_1",
          "2021_5_2",
          "2021_5_3",
          "2021_5_4",
          "2021_5_5",
          "2021_5_6",
          "2021_5_7",
          "2021_5_8",
          "2021_5_9",
          "2021_5_10",
          "2021_5_11",
          "2021_5_12",
          "2021_5_13",
          "2021_5_14",
          "2021_5_15",
          "2021_5_16",
          "2021_5_17",
          "2021_5_18",
          "2021_5_19",
          "2021_5_20",
          "2021_5_21",
          "2021_5_22",
          "2021_5_23",
          "2021_5_24",
          "2021_5_25",
          "2021_5_26",
          "2021_5_27",
          "2021_5_28",
          "2021_5_29",
          "2021_5_30",
          "2021_5_31",
          "2021_6_1",
          "2021_6_2",
          "2021_6_3",
          "2021_6_4",
          "2021_6_5",
          "2021_6_6",
          "2021_6_7",
          "2021_6_8",
          "2021_6_9",
          "2021_6_10",
          "2021_6_11",
          "2021_6_12",
          "2021_6_13",
          "2021_6_14",
          "2021_6_15",
          "2021_6_16",
          "2021_6_17",
          "2021_6_18",
          "2021_6_19",
          "2021_6_20",
          "2021_6_21",
          "2021_6_22",
          "2021_6_23",
          "2021_6_24",
          "2021_6_25",
          "2021_6_26",
          "2021_6_27",
          "2021_6_28",
          "2021_6_29",
          "2021_6_30",
          "2021_7_1",
          "2021_7_2",
          "2021_7_3",
          "2021_7_4",
          "2021_7_5",
          "2021_7_6",
          "2021_7_7",
          "2021_7_8",
          "2021_7_9",
          "2021_7_10",
          "2021_7_11",
          "2021_7_12",
          "2021_7_13",
          "2021_7_14",
          "2021_7_15",
          "2021_7_16",
          "2021_7_17",
          "2021_7_18",
          "2021_7_19",
          "2021_7_20",
          "2021_7_21",
          "2021_7_22",
          "2021_7_23",
          "2021_7_24",
          "2021_7_25",
          "2021_7_26",
          "2021_7_27",
          "2021_7_28",
          "2021_7_29",
          "2021_7_30",
          "2021_7_31",
          "2021_8_1",
          "2021_8_2",
          "2021_8_3",
          "2021_8_4",
          "2021_8_5",
          "2021_8_6",
          "2021_8_7",
          "2021_8_8",
          "2021_8_9",
          "2021_8_10",
          "2021_8_11",
          "2021_8_12",
          "2021_8_13",
          "2021_8_14",
          "2021_8_15",
          "2021_8_16",
          "2021_8_17",
          "2021_8_18",
          "2021_8_19",
          "2021_8_20",
          "2021_8_21",
          "2021_8_22",
          "2021_8_23",
          "2021_8_24",
          "2021_8_25",
          "2021_8_26",
          "2021_8_27",
          "2021_8_28",
          "2021_8_29",
          "2021_8_30",
          "2021_8_31",
          "2021_9_1",
          "2021_9_2",
          "2021_9_3",
          "2021_9_4",
          "2021_9_5",
          "2021_9_6",
          "2021_9_7",
          "2021_9_8",
          "2021_9_9",
          "2021_9_10",
          "2021_9_11",
          "2021_9_12",
          "2021_9_13",
          "2021_9_14",
          "2021_9_15",
          "2021_9_16",
          "2021_9_17",
          "2021_9_18",
          "2021_9_19",
          "2021_9_20",
          "2021_9_21",
          "2021_9_22",
          "2021_9_23",
          "2021_9_24",
          "2021_9_25",
          "2021_9_26",
          "2021_9_27",
          "2021_9_28",
          "2021_9_29",
          "2021_9_30",
          "2021_10_1",
          "2021_10_2",
          "2021_10_3",
          "2021_10_4",
          "2021_10_5",
          "2021_10_6",
          "2021_10_7",
          "2021_10_8",
          "2021_10_9",
          "2021_10_10",
          "2021_10_11",
          "2021_10_12",
          "2021_10_13",
          "2021_10_14",
          "2021_10_15",
          "2021_10_16",
          "2021_10_17",
          "2021_10_18",
          "2021_10_19",
          "2021_10_20",
          "2021_10_21",
          "2021_10_22",
          "2021_10_23",
          "2021_10_24",
          "2021_10_25",
          "2021_10_26",
          "2021_10_27",
          "2021_10_28",
          "2021_10_29",
          "2021_10_30",
          "2021_10_31",
          "2021_11_1",
          "2021_11_2",
          "2021_11_3",
          "2021_11_4",
          "2021_11_5",
          "2021_11_6",
          "2021_11_7",
          "2021_11_8",
          "2021_11_9",
          "2021_11_10",
          "2021_11_11",
          "2021_11_12",
          "2021_11_13",
          "2021_11_14",
          "2021_11_15",
          "2021_11_16",
          "2021_11_17",
          "2021_11_18",
          "2021_11_19",
          "2021_11_20",
          "2021_11_21",
          "2021_11_22",
          "2021_11_23",
          "2021_11_24",
          "2021_11_25",
          "2021_11_26",
          "2021_11_27",
          "2021_11_28",
          "2021_11_29",
          "2021_11_30",
          "2021_12_1",
          "2021_12_2",
          "2021_12_3",
          "2021_12_4",
          "2021_12_5",
          "2021_12_6",
          "2021_12_7",
          "2021_12_8",
          "2021_12_9",
          "2021_12_10",
          "2021_12_11",
          "2021_12_12",
          "2021_12_13",
          "2021_12_14",
          "2021_12_15",
          "2021_12_16",
          "2021_12_17",
          "2021_12_18",
          "2021_12_19",
          "2021_12_20",
          "2021_12_21",
          "2021_12_22",
          "2021_12_23",
          "2021_12_24",
          "2021_12_25",
          "2021_12_26",
          "2021_12_27",
          "2021_12_28",
          "2021_12_29",
          "2021_12_30",
          "2021_12_31",
          "2022_1_1",
          "2022_1_2",
          "2022_1_3",
          "2022_1_4",
          "2022_1_5",
          "2022_1_6",
          "2022_1_7",
          "2022_1_9",
          "2022_2_1",
          "2022_2_11",
          "2022_2_12",
          "2022_2_14",
          "2022_2_21",
          "2022_2_22",
          "2022_2_23",
          "2022_2_24",
          "2022_2_26",
          "2022_3_1",
          "2022_3_2",
          "2022_3_3",
          "2022_3_4",
          "2022_3_5",
          "2022_3_6",
          "2022_3_7",
          "2022_3_8",
          "2022_3_9",
          "2022_3_10",
          "2022_3_11",
          "2022_3_12",
          "2022_3_13",
          "2022_3_14",
          "2022_3_15",
          "2022_3_16",
          "2022_3_17",
          "2022_3_18",
          "2022_3_19",
          "2022_3_20",
          "2022_3_21",
          "2022_3_22",
          "2022_3_23",
          "2022_3_24",
          "2022_3_25",
          "2022_3_26",
          "2022_3_27",
          "2022_3_28",
          "2022_3_29",
          "2022_3_30",
          "2022_3_31",
          "2022_4_1",
          "2022_4_2",
          "2022_4_3",
          "2022_4_4",
          "2022_4_5",
          "2022_4_6",
          "2022_4_7",
          "2022_4_8",
          "2022_4_9",
          "2022_4_10",
          "2022_4_11",
          "2022_4_12",
          "2022_4_13",
          "2022_4_14",
          "2022_4_15",
          "2022_4_16",
          "2022_4_17",
          "2022_4_18",
          "2022_4_19",
          "2022_4_20",
          "2022_4_21",
          "2022_4_22",
          "2022_4_23",
          "2022_4_24",
          "2022_4_25",
          "2022_4_26",
          "2022_4_27",
          "2022_4_28",
          "2022_4_29",
          "2022_4_30",
          "2022_5_1",
          "2022_5_2",
          "2022_5_3",
          "2022_5_4",
          "2022_5_5",
          "2022_5_6",
          "2022_5_7",
          "2022_5_8",
          "2022_5_9",
          "2022_5_10",
          "2022_5_11",
          "2022_5_12",
          "2022_5_13",
          "2022_5_14",
          "2022_5_15",
          "2022_5_16",
          "2022_5_17",
          "2022_5_18",
          "2022_5_19",
          "2022_5_20",
          "2022_5_21",
          "2022_5_22",
          "2022_5_23",
          "2022_5_24",
          "2022_5_25",
          "2022_5_26",
          "2022_5_27",
          "2022_5_28",
          "2022_5_29",
          "2022_5_30",
          "2022_5_31",
          "2022_6_1",
          "2022_6_2",
          "2022_6_3",
          "2022_6_4",
          "2022_6_5",
          "2022_6_6",
          "2022_6_7",
          "2022_6_8",
          "2022_6_9",
          "2022_6_10",
          "2022_6_11",
          "2022_6_12",
          "2022_6_13",
          "2022_6_14",
          "2022_6_15",
          "2022_6_16",
          "2022_6_17",
          "2022_6_18",
          "2022_6_19",
          "2022_6_20",
          "2022_6_21",
          "2022_6_22",
          "2022_6_23",
          "2022_6_24",
          "2022_6_25",
          "2022_6_26",
          "2022_6_27",
          "2022_6_28",
          "2022_6_29",
          "2022_6_30",
          "2022_7_1",
          "2022_7_2",
          "2022_7_3",
          "2022_7_4",
          "2022_7_5",
          "2022_7_6",
          "2022_7_7",
          "2022_7_8",
          "2022_7_9",
          "2022_7_10",
          "2022_7_11",
          "2022_7_12",
          "2022_7_13",
          "2022_7_14",
          "2022_7_15",
          "2022_7_16",
          "2022_7_17",
          "2022_7_18",
          "2022_7_19",
          "2022_7_20",
          "2022_7_21",
          "2022_7_22",
          "2022_7_23",
          "2022_7_24",
          "2022_7_25",
          "2022_7_26",
          "2022_7_27",
          "2022_7_28",
          "2022_7_29",
          "2022_7_30",
          "2022_7_31",
          "2022_8_1",
          "2022_8_2",
          "2022_8_3",
          "2022_8_4",
          "2022_8_5",
          "2022_8_6",
          "2022_8_7",
          "2022_8_8",
          "2022_8_9",
          "2022_8_10",
          "2022_8_11",
          "2022_8_12",
          "2022_8_13",
          "2022_8_14",
          "2022_8_15",
          "2022_8_16",
          "2022_8_17",
          "2022_8_18",
          "2022_8_19",
          "2022_8_20",
          "2022_8_21",
          "2022_8_22",
          "2022_8_23",
          "2022_8_24",
          "2022_8_25",
          "2022_8_26",
          "2022_8_27",
          "2022_8_28",
          "2022_8_29",
          "2022_8_30",
          "2022_8_31",
          "2022_9_1",
          "2022_9_2",
          "2022_9_3",
          "2022_9_4",
          "2022_9_5",
          "2022_9_6",
          "2022_9_7",
          "2022_9_8",
          "2022_9_9",
          "2022_9_10",
          "2022_9_11",
          "2022_9_12",
          "2022_9_13",
          "2022_9_14",
          "2022_9_15",
          "2022_9_16",
          "2022_9_17",
          "2022_9_18",
          "2022_9_19",
          "2022_9_20",
          "2022_9_21",
          "2022_9_22",
          "2022_9_23",
          "2022_9_24",
          "2022_9_25",
          "2022_9_26",
          "2022_9_27",
          "2022_9_28",
          "2022_9_29",
          "2022_9_30",
          "2022_10_1",
          "2022_10_2",
          "2022_10_3",
          "2022_10_4",
          "2022_10_5",
          "2022_10_6",
          "2022_10_7",
          "2022_10_8",
          "2022_10_9",
          "2022_10_10",
          "2022_10_11",
          "2022_10_12",
          "2022_10_13",
          "2022_10_14",
          "2022_10_15",
          "2022_10_16",
          "2022_10_17",
          "2022_10_18",
          "2022_10_19",
          "2022_10_20",
          "2022_10_21",
          "2022_10_22",
          "2022_10_23",
          "2022_10_24",
          "2022_10_25",
          "2022_10_26",
          "2022_10_27",
          "2022_10_28",
          "2022_10_29",
          "2022_10_30",
          "2022_10_31",
          "2022_11_1",
          "2022_11_2",
          "2022_11_3",
          "2022_11_4",
          "2022_11_5",
          "2022_11_6",
          "2022_11_7",
          "2022_11_8",
          "2022_11_9",
          "2022_11_10",
          "2022_11_11",
          "2022_11_12",
          "2022_11_13",
          "2022_11_14",
          "2022_11_15",
          "2022_11_16",
          "2022_11_17",
          "2022_11_18",
          "2022_11_19",
          "2022_11_20",
          "2022_11_21",
          "2022_11_22"
         ],
         "xaxis": "x",
         "y": [
          1,
          69,
          73,
          51,
          67,
          88,
          266,
          254,
          139,
          112,
          86,
          75,
          96,
          184,
          129,
          59,
          65,
          67,
          72,
          112,
          180,
          77,
          73,
          49,
          67,
          69,
          127,
          211,
          105,
          104,
          70,
          90,
          65,
          92,
          125,
          99,
          68,
          70,
          94,
          123,
          87,
          191,
          88,
          95,
          77,
          58,
          110,
          109,
          323,
          97,
          79,
          63,
          96,
          72,
          205,
          166,
          119,
          83,
          103,
          77,
          75,
          89,
          104,
          85,
          65,
          71,
          61,
          68,
          82,
          34,
          26,
          69,
          68,
          84,
          68,
          63,
          65,
          72,
          57,
          100,
          77,
          129,
          95,
          75,
          65,
          77,
          59,
          68,
          90,
          54,
          64,
          66,
          61,
          47,
          88,
          110,
          60,
          45,
          44,
          61,
          68,
          110,
          83,
          50,
          51,
          56,
          52,
          42,
          48,
          88,
          83,
          56,
          47,
          48,
          61,
          60,
          69,
          63,
          57,
          53,
          88,
          58,
          94,
          89,
          70,
          66,
          61,
          40,
          67,
          65,
          78,
          95,
          60,
          62,
          59,
          68,
          52,
          113,
          73,
          48,
          3,
          118,
          54,
          56,
          122,
          15,
          73,
          14,
          74,
          57,
          52,
          147,
          65,
          71,
          56,
          9,
          77,
          6,
          6,
          45,
          33,
          101,
          198,
          187,
          147,
          226,
          107,
          95,
          74,
          58,
          42,
          59,
          158,
          69,
          64,
          57,
          51,
          50,
          50,
          85,
          52,
          51,
          50,
          47,
          60,
          43,
          63,
          74,
          74,
          66,
          60,
          59,
          76,
          62,
          135,
          60,
          51,
          59,
          70,
          57,
          110,
          85,
          65,
          59,
          81,
          69,
          84,
          105,
          125,
          64,
          46,
          57,
          58,
          88,
          136,
          134,
          90,
          85,
          78,
          64,
          81,
          140,
          110,
          64,
          59,
          72,
          52,
          82,
          172,
          107,
          49,
          58,
          64,
          64,
          73,
          109,
          67,
          45,
          225,
          94,
          74,
          98,
          95,
          79,
          80,
          63,
          66,
          48,
          107,
          92,
          70,
          45,
          50,
          79,
          63,
          78,
          86,
          71,
          47,
          58,
          44,
          41,
          68,
          119,
          99,
          65,
          58,
          76,
          56,
          59,
          157,
          126,
          83,
          74,
          70,
          96,
          84,
          151,
          102,
          86,
          65,
          83,
          60,
          96,
          89,
          94,
          70,
          64,
          59,
          60,
          65,
          85,
          54,
          39,
          68,
          60,
          46,
          66,
          83,
          83,
          65,
          67,
          81,
          65,
          59,
          74,
          51,
          47,
          80,
          66,
          54,
          44,
          22,
          52,
          50,
          67,
          56,
          45,
          67,
          61,
          51,
          47,
          36,
          49,
          52,
          71,
          83,
          51,
          71,
          154,
          92,
          71,
          70,
          62,
          72,
          181,
          90,
          67,
          53,
          68,
          98,
          71,
          67,
          76,
          72,
          77,
          98,
          161,
          103,
          67,
          65,
          43,
          65,
          75,
          243,
          168,
          107,
          50,
          56,
          59,
          87,
          102,
          72,
          43,
          63,
          67,
          72,
          102,
          126,
          81,
          57,
          86,
          82,
          71,
          81,
          107,
          79,
          57,
          79,
          62,
          74,
          123,
          119,
          80,
          53,
          69,
          85,
          70,
          89,
          119,
          97,
          116,
          90,
          92,
          75,
          61,
          132,
          92,
          79,
          61,
          70,
          79,
          94,
          120,
          85,
          64,
          59,
          92,
          100,
          112,
          101,
          98,
          65,
          68,
          99,
          58,
          76,
          107,
          90,
          66,
          61,
          57,
          34,
          77,
          123,
          59,
          67,
          74,
          75,
          60,
          61,
          99,
          56,
          56,
          57,
          76,
          56,
          91,
          91,
          88,
          59,
          72,
          61,
          73,
          65,
          152,
          107,
          98,
          67,
          69,
          82,
          70,
          69,
          57,
          63,
          54,
          57,
          94,
          88,
          139,
          68,
          58,
          46,
          50,
          55,
          60,
          205,
          86,
          81,
          88,
          80,
          47,
          55,
          282,
          87,
          70,
          78,
          62,
          74,
          82,
          98,
          65,
          81,
          95,
          77,
          76,
          128,
          154,
          129,
          79,
          52,
          73,
          56,
          72,
          160,
          102,
          67,
          52,
          67,
          96,
          79,
          128,
          75,
          67,
          44,
          114,
          55,
          57,
          62,
          47,
          34,
          55,
          59,
          68,
          51,
          155,
          62,
          57,
          63,
          63,
          56,
          51,
          133,
          124,
          73,
          33,
          33,
          61,
          108,
          102,
          78,
          46,
          40,
          50,
          197,
          70,
          82,
          60,
          29,
          30,
          43,
          54,
          71,
          170,
          86,
          79,
          55,
          83,
          67,
          80,
          77,
          58,
          54,
          59,
          97,
          63,
          97,
          141,
          90,
          76,
          84,
          86,
          83,
          78,
          136,
          115,
          105,
          68,
          95,
          72,
          83,
          124,
          99,
          88,
          76,
          66,
          49,
          74,
          107,
          88,
          78,
          85,
          64,
          86,
          92,
          170,
          131,
          72,
          76,
          101,
          72,
          96,
          282,
          135,
          105,
          53,
          74,
          86,
          100,
          202,
          101,
          110,
          112
         ],
         "yaxis": "y"
        }
       ],
       "layout": {
        "barmode": "relative",
        "legend": {
         "tracegroupgap": 0
        },
        "margin": {
         "t": 60
        },
        "template": {
         "data": {
          "bar": [
           {
            "error_x": {
             "color": "#2a3f5f"
            },
            "error_y": {
             "color": "#2a3f5f"
            },
            "marker": {
             "line": {
              "color": "#E5ECF6",
              "width": 0.5
             },
             "pattern": {
              "fillmode": "overlay",
              "size": 10,
              "solidity": 0.2
             }
            },
            "type": "bar"
           }
          ],
          "barpolar": [
           {
            "marker": {
             "line": {
              "color": "#E5ECF6",
              "width": 0.5
             },
             "pattern": {
              "fillmode": "overlay",
              "size": 10,
              "solidity": 0.2
             }
            },
            "type": "barpolar"
           }
          ],
          "carpet": [
           {
            "aaxis": {
             "endlinecolor": "#2a3f5f",
             "gridcolor": "white",
             "linecolor": "white",
             "minorgridcolor": "white",
             "startlinecolor": "#2a3f5f"
            },
            "baxis": {
             "endlinecolor": "#2a3f5f",
             "gridcolor": "white",
             "linecolor": "white",
             "minorgridcolor": "white",
             "startlinecolor": "#2a3f5f"
            },
            "type": "carpet"
           }
          ],
          "choropleth": [
           {
            "colorbar": {
             "outlinewidth": 0,
             "ticks": ""
            },
            "type": "choropleth"
           }
          ],
          "contour": [
           {
            "colorbar": {
             "outlinewidth": 0,
             "ticks": ""
            },
            "colorscale": [
             [
              0,
              "#0d0887"
             ],
             [
              0.1111111111111111,
              "#46039f"
             ],
             [
              0.2222222222222222,
              "#7201a8"
             ],
             [
              0.3333333333333333,
              "#9c179e"
             ],
             [
              0.4444444444444444,
              "#bd3786"
             ],
             [
              0.5555555555555556,
              "#d8576b"
             ],
             [
              0.6666666666666666,
              "#ed7953"
             ],
             [
              0.7777777777777778,
              "#fb9f3a"
             ],
             [
              0.8888888888888888,
              "#fdca26"
             ],
             [
              1,
              "#f0f921"
             ]
            ],
            "type": "contour"
           }
          ],
          "contourcarpet": [
           {
            "colorbar": {
             "outlinewidth": 0,
             "ticks": ""
            },
            "type": "contourcarpet"
           }
          ],
          "heatmap": [
           {
            "colorbar": {
             "outlinewidth": 0,
             "ticks": ""
            },
            "colorscale": [
             [
              0,
              "#0d0887"
             ],
             [
              0.1111111111111111,
              "#46039f"
             ],
             [
              0.2222222222222222,
              "#7201a8"
             ],
             [
              0.3333333333333333,
              "#9c179e"
             ],
             [
              0.4444444444444444,
              "#bd3786"
             ],
             [
              0.5555555555555556,
              "#d8576b"
             ],
             [
              0.6666666666666666,
              "#ed7953"
             ],
             [
              0.7777777777777778,
              "#fb9f3a"
             ],
             [
              0.8888888888888888,
              "#fdca26"
             ],
             [
              1,
              "#f0f921"
             ]
            ],
            "type": "heatmap"
           }
          ],
          "heatmapgl": [
           {
            "colorbar": {
             "outlinewidth": 0,
             "ticks": ""
            },
            "colorscale": [
             [
              0,
              "#0d0887"
             ],
             [
              0.1111111111111111,
              "#46039f"
             ],
             [
              0.2222222222222222,
              "#7201a8"
             ],
             [
              0.3333333333333333,
              "#9c179e"
             ],
             [
              0.4444444444444444,
              "#bd3786"
             ],
             [
              0.5555555555555556,
              "#d8576b"
             ],
             [
              0.6666666666666666,
              "#ed7953"
             ],
             [
              0.7777777777777778,
              "#fb9f3a"
             ],
             [
              0.8888888888888888,
              "#fdca26"
             ],
             [
              1,
              "#f0f921"
             ]
            ],
            "type": "heatmapgl"
           }
          ],
          "histogram": [
           {
            "marker": {
             "pattern": {
              "fillmode": "overlay",
              "size": 10,
              "solidity": 0.2
             }
            },
            "type": "histogram"
           }
          ],
          "histogram2d": [
           {
            "colorbar": {
             "outlinewidth": 0,
             "ticks": ""
            },
            "colorscale": [
             [
              0,
              "#0d0887"
             ],
             [
              0.1111111111111111,
              "#46039f"
             ],
             [
              0.2222222222222222,
              "#7201a8"
             ],
             [
              0.3333333333333333,
              "#9c179e"
             ],
             [
              0.4444444444444444,
              "#bd3786"
             ],
             [
              0.5555555555555556,
              "#d8576b"
             ],
             [
              0.6666666666666666,
              "#ed7953"
             ],
             [
              0.7777777777777778,
              "#fb9f3a"
             ],
             [
              0.8888888888888888,
              "#fdca26"
             ],
             [
              1,
              "#f0f921"
             ]
            ],
            "type": "histogram2d"
           }
          ],
          "histogram2dcontour": [
           {
            "colorbar": {
             "outlinewidth": 0,
             "ticks": ""
            },
            "colorscale": [
             [
              0,
              "#0d0887"
             ],
             [
              0.1111111111111111,
              "#46039f"
             ],
             [
              0.2222222222222222,
              "#7201a8"
             ],
             [
              0.3333333333333333,
              "#9c179e"
             ],
             [
              0.4444444444444444,
              "#bd3786"
             ],
             [
              0.5555555555555556,
              "#d8576b"
             ],
             [
              0.6666666666666666,
              "#ed7953"
             ],
             [
              0.7777777777777778,
              "#fb9f3a"
             ],
             [
              0.8888888888888888,
              "#fdca26"
             ],
             [
              1,
              "#f0f921"
             ]
            ],
            "type": "histogram2dcontour"
           }
          ],
          "mesh3d": [
           {
            "colorbar": {
             "outlinewidth": 0,
             "ticks": ""
            },
            "type": "mesh3d"
           }
          ],
          "parcoords": [
           {
            "line": {
             "colorbar": {
              "outlinewidth": 0,
              "ticks": ""
             }
            },
            "type": "parcoords"
           }
          ],
          "pie": [
           {
            "automargin": true,
            "type": "pie"
           }
          ],
          "scatter": [
           {
            "fillpattern": {
             "fillmode": "overlay",
             "size": 10,
             "solidity": 0.2
            },
            "type": "scatter"
           }
          ],
          "scatter3d": [
           {
            "line": {
             "colorbar": {
              "outlinewidth": 0,
              "ticks": ""
             }
            },
            "marker": {
             "colorbar": {
              "outlinewidth": 0,
              "ticks": ""
             }
            },
            "type": "scatter3d"
           }
          ],
          "scattercarpet": [
           {
            "marker": {
             "colorbar": {
              "outlinewidth": 0,
              "ticks": ""
             }
            },
            "type": "scattercarpet"
           }
          ],
          "scattergeo": [
           {
            "marker": {
             "colorbar": {
              "outlinewidth": 0,
              "ticks": ""
             }
            },
            "type": "scattergeo"
           }
          ],
          "scattergl": [
           {
            "marker": {
             "colorbar": {
              "outlinewidth": 0,
              "ticks": ""
             }
            },
            "type": "scattergl"
           }
          ],
          "scattermapbox": [
           {
            "marker": {
             "colorbar": {
              "outlinewidth": 0,
              "ticks": ""
             }
            },
            "type": "scattermapbox"
           }
          ],
          "scatterpolar": [
           {
            "marker": {
             "colorbar": {
              "outlinewidth": 0,
              "ticks": ""
             }
            },
            "type": "scatterpolar"
           }
          ],
          "scatterpolargl": [
           {
            "marker": {
             "colorbar": {
              "outlinewidth": 0,
              "ticks": ""
             }
            },
            "type": "scatterpolargl"
           }
          ],
          "scatterternary": [
           {
            "marker": {
             "colorbar": {
              "outlinewidth": 0,
              "ticks": ""
             }
            },
            "type": "scatterternary"
           }
          ],
          "surface": [
           {
            "colorbar": {
             "outlinewidth": 0,
             "ticks": ""
            },
            "colorscale": [
             [
              0,
              "#0d0887"
             ],
             [
              0.1111111111111111,
              "#46039f"
             ],
             [
              0.2222222222222222,
              "#7201a8"
             ],
             [
              0.3333333333333333,
              "#9c179e"
             ],
             [
              0.4444444444444444,
              "#bd3786"
             ],
             [
              0.5555555555555556,
              "#d8576b"
             ],
             [
              0.6666666666666666,
              "#ed7953"
             ],
             [
              0.7777777777777778,
              "#fb9f3a"
             ],
             [
              0.8888888888888888,
              "#fdca26"
             ],
             [
              1,
              "#f0f921"
             ]
            ],
            "type": "surface"
           }
          ],
          "table": [
           {
            "cells": {
             "fill": {
              "color": "#EBF0F8"
             },
             "line": {
              "color": "white"
             }
            },
            "header": {
             "fill": {
              "color": "#C8D4E3"
             },
             "line": {
              "color": "white"
             }
            },
            "type": "table"
           }
          ]
         },
         "layout": {
          "annotationdefaults": {
           "arrowcolor": "#2a3f5f",
           "arrowhead": 0,
           "arrowwidth": 1
          },
          "autotypenumbers": "strict",
          "coloraxis": {
           "colorbar": {
            "outlinewidth": 0,
            "ticks": ""
           }
          },
          "colorscale": {
           "diverging": [
            [
             0,
             "#8e0152"
            ],
            [
             0.1,
             "#c51b7d"
            ],
            [
             0.2,
             "#de77ae"
            ],
            [
             0.3,
             "#f1b6da"
            ],
            [
             0.4,
             "#fde0ef"
            ],
            [
             0.5,
             "#f7f7f7"
            ],
            [
             0.6,
             "#e6f5d0"
            ],
            [
             0.7,
             "#b8e186"
            ],
            [
             0.8,
             "#7fbc41"
            ],
            [
             0.9,
             "#4d9221"
            ],
            [
             1,
             "#276419"
            ]
           ],
           "sequential": [
            [
             0,
             "#0d0887"
            ],
            [
             0.1111111111111111,
             "#46039f"
            ],
            [
             0.2222222222222222,
             "#7201a8"
            ],
            [
             0.3333333333333333,
             "#9c179e"
            ],
            [
             0.4444444444444444,
             "#bd3786"
            ],
            [
             0.5555555555555556,
             "#d8576b"
            ],
            [
             0.6666666666666666,
             "#ed7953"
            ],
            [
             0.7777777777777778,
             "#fb9f3a"
            ],
            [
             0.8888888888888888,
             "#fdca26"
            ],
            [
             1,
             "#f0f921"
            ]
           ],
           "sequentialminus": [
            [
             0,
             "#0d0887"
            ],
            [
             0.1111111111111111,
             "#46039f"
            ],
            [
             0.2222222222222222,
             "#7201a8"
            ],
            [
             0.3333333333333333,
             "#9c179e"
            ],
            [
             0.4444444444444444,
             "#bd3786"
            ],
            [
             0.5555555555555556,
             "#d8576b"
            ],
            [
             0.6666666666666666,
             "#ed7953"
            ],
            [
             0.7777777777777778,
             "#fb9f3a"
            ],
            [
             0.8888888888888888,
             "#fdca26"
            ],
            [
             1,
             "#f0f921"
            ]
           ]
          },
          "colorway": [
           "#636efa",
           "#EF553B",
           "#00cc96",
           "#ab63fa",
           "#FFA15A",
           "#19d3f3",
           "#FF6692",
           "#B6E880",
           "#FF97FF",
           "#FECB52"
          ],
          "font": {
           "color": "#2a3f5f"
          },
          "geo": {
           "bgcolor": "white",
           "lakecolor": "white",
           "landcolor": "#E5ECF6",
           "showlakes": true,
           "showland": true,
           "subunitcolor": "white"
          },
          "hoverlabel": {
           "align": "left"
          },
          "hovermode": "closest",
          "mapbox": {
           "style": "light"
          },
          "paper_bgcolor": "white",
          "plot_bgcolor": "#E5ECF6",
          "polar": {
           "angularaxis": {
            "gridcolor": "white",
            "linecolor": "white",
            "ticks": ""
           },
           "bgcolor": "#E5ECF6",
           "radialaxis": {
            "gridcolor": "white",
            "linecolor": "white",
            "ticks": ""
           }
          },
          "scene": {
           "xaxis": {
            "backgroundcolor": "#E5ECF6",
            "gridcolor": "white",
            "gridwidth": 2,
            "linecolor": "white",
            "showbackground": true,
            "ticks": "",
            "zerolinecolor": "white"
           },
           "yaxis": {
            "backgroundcolor": "#E5ECF6",
            "gridcolor": "white",
            "gridwidth": 2,
            "linecolor": "white",
            "showbackground": true,
            "ticks": "",
            "zerolinecolor": "white"
           },
           "zaxis": {
            "backgroundcolor": "#E5ECF6",
            "gridcolor": "white",
            "gridwidth": 2,
            "linecolor": "white",
            "showbackground": true,
            "ticks": "",
            "zerolinecolor": "white"
           }
          },
          "shapedefaults": {
           "line": {
            "color": "#2a3f5f"
           }
          },
          "ternary": {
           "aaxis": {
            "gridcolor": "white",
            "linecolor": "white",
            "ticks": ""
           },
           "baxis": {
            "gridcolor": "white",
            "linecolor": "white",
            "ticks": ""
           },
           "bgcolor": "#E5ECF6",
           "caxis": {
            "gridcolor": "white",
            "linecolor": "white",
            "ticks": ""
           }
          },
          "title": {
           "x": 0.05
          },
          "xaxis": {
           "automargin": true,
           "gridcolor": "white",
           "linecolor": "white",
           "ticks": "",
           "title": {
            "standoff": 15
           },
           "zerolinecolor": "white",
           "zerolinewidth": 2
          },
          "yaxis": {
           "automargin": true,
           "gridcolor": "white",
           "linecolor": "white",
           "ticks": "",
           "title": {
            "standoff": 15
           },
           "zerolinecolor": "white",
           "zerolinewidth": 2
          }
         }
        },
        "xaxis": {
         "anchor": "y",
         "domain": [
          0,
          1
         ],
         "title": {
          "text": "Date"
         }
        },
        "yaxis": {
         "anchor": "x",
         "domain": [
          0,
          1
         ],
         "title": {
          "text": "TweetCount"
         }
        }
       }
      },
      "text/html": [
       "<div>                            <div id=\"6f5c6118-487d-4702-a709-105e5cc5c498\" class=\"plotly-graph-div\" style=\"height:525px; width:100%;\"></div>            <script type=\"text/javascript\">                require([\"plotly\"], function(Plotly) {                    window.PLOTLYENV=window.PLOTLYENV || {};                                    if (document.getElementById(\"6f5c6118-487d-4702-a709-105e5cc5c498\")) {                    Plotly.newPlot(                        \"6f5c6118-487d-4702-a709-105e5cc5c498\",                        [{\"alignmentgroup\":\"True\",\"hovertemplate\":\"Date=%{x}<br>TweetCount=%{y}<extra></extra>\",\"legendgroup\":\"\",\"marker\":{\"color\":\"#636efa\",\"pattern\":{\"shape\":\"\"}},\"name\":\"\",\"offsetgroup\":\"\",\"orientation\":\"v\",\"showlegend\":false,\"textposition\":\"auto\",\"x\":[\"2021_1_29\",\"2021_2_1\",\"2021_2_2\",\"2021_2_3\",\"2021_2_4\",\"2021_2_5\",\"2021_2_6\",\"2021_2_7\",\"2021_2_8\",\"2021_2_9\",\"2021_2_10\",\"2021_2_11\",\"2021_2_12\",\"2021_2_13\",\"2021_2_14\",\"2021_2_15\",\"2021_2_16\",\"2021_2_17\",\"2021_2_18\",\"2021_2_19\",\"2021_2_20\",\"2021_2_21\",\"2021_2_22\",\"2021_2_23\",\"2021_2_24\",\"2021_2_25\",\"2021_2_26\",\"2021_2_27\",\"2021_2_28\",\"2021_3_1\",\"2021_3_2\",\"2021_3_3\",\"2021_3_4\",\"2021_3_5\",\"2021_3_6\",\"2021_3_7\",\"2021_3_8\",\"2021_3_9\",\"2021_3_10\",\"2021_3_11\",\"2021_3_12\",\"2021_3_13\",\"2021_3_14\",\"2021_3_15\",\"2021_3_16\",\"2021_3_17\",\"2021_3_18\",\"2021_3_19\",\"2021_3_20\",\"2021_3_21\",\"2021_3_22\",\"2021_3_23\",\"2021_3_24\",\"2021_3_25\",\"2021_3_26\",\"2021_3_27\",\"2021_3_28\",\"2021_3_29\",\"2021_3_30\",\"2021_3_31\",\"2021_4_1\",\"2021_4_2\",\"2021_4_3\",\"2021_4_4\",\"2021_4_5\",\"2021_4_6\",\"2021_4_7\",\"2021_4_8\",\"2021_4_9\",\"2021_4_10\",\"2021_4_27\",\"2021_4_28\",\"2021_4_29\",\"2021_4_30\",\"2021_5_1\",\"2021_5_2\",\"2021_5_3\",\"2021_5_4\",\"2021_5_5\",\"2021_5_6\",\"2021_5_7\",\"2021_5_8\",\"2021_5_9\",\"2021_5_10\",\"2021_5_11\",\"2021_5_12\",\"2021_5_13\",\"2021_5_14\",\"2021_5_15\",\"2021_5_16\",\"2021_5_17\",\"2021_5_18\",\"2021_5_19\",\"2021_5_20\",\"2021_5_21\",\"2021_5_22\",\"2021_5_23\",\"2021_5_24\",\"2021_5_25\",\"2021_5_26\",\"2021_5_27\",\"2021_5_28\",\"2021_5_29\",\"2021_5_30\",\"2021_5_31\",\"2021_6_1\",\"2021_6_2\",\"2021_6_3\",\"2021_6_4\",\"2021_6_5\",\"2021_6_6\",\"2021_6_7\",\"2021_6_8\",\"2021_6_9\",\"2021_6_10\",\"2021_6_11\",\"2021_6_12\",\"2021_6_13\",\"2021_6_14\",\"2021_6_15\",\"2021_6_16\",\"2021_6_17\",\"2021_6_18\",\"2021_6_19\",\"2021_6_20\",\"2021_6_21\",\"2021_6_22\",\"2021_6_23\",\"2021_6_24\",\"2021_6_25\",\"2021_6_26\",\"2021_6_27\",\"2021_6_28\",\"2021_6_29\",\"2021_6_30\",\"2021_7_1\",\"2021_7_2\",\"2021_7_3\",\"2021_7_4\",\"2021_7_5\",\"2021_7_6\",\"2021_7_7\",\"2021_7_8\",\"2021_7_9\",\"2021_7_10\",\"2021_7_11\",\"2021_7_12\",\"2021_7_13\",\"2021_7_14\",\"2021_7_15\",\"2021_7_16\",\"2021_7_17\",\"2021_7_18\",\"2021_7_19\",\"2021_7_20\",\"2021_7_21\",\"2021_7_22\",\"2021_7_23\",\"2021_7_24\",\"2021_7_25\",\"2021_7_26\",\"2021_7_27\",\"2021_7_28\",\"2021_7_29\",\"2021_7_30\",\"2021_7_31\",\"2021_8_1\",\"2021_8_2\",\"2021_8_3\",\"2021_8_4\",\"2021_8_5\",\"2021_8_6\",\"2021_8_7\",\"2021_8_8\",\"2021_8_9\",\"2021_8_10\",\"2021_8_11\",\"2021_8_12\",\"2021_8_13\",\"2021_8_14\",\"2021_8_15\",\"2021_8_16\",\"2021_8_17\",\"2021_8_18\",\"2021_8_19\",\"2021_8_20\",\"2021_8_21\",\"2021_8_22\",\"2021_8_23\",\"2021_8_24\",\"2021_8_25\",\"2021_8_26\",\"2021_8_27\",\"2021_8_28\",\"2021_8_29\",\"2021_8_30\",\"2021_8_31\",\"2021_9_1\",\"2021_9_2\",\"2021_9_3\",\"2021_9_4\",\"2021_9_5\",\"2021_9_6\",\"2021_9_7\",\"2021_9_8\",\"2021_9_9\",\"2021_9_10\",\"2021_9_11\",\"2021_9_12\",\"2021_9_13\",\"2021_9_14\",\"2021_9_15\",\"2021_9_16\",\"2021_9_17\",\"2021_9_18\",\"2021_9_19\",\"2021_9_20\",\"2021_9_21\",\"2021_9_22\",\"2021_9_23\",\"2021_9_24\",\"2021_9_25\",\"2021_9_26\",\"2021_9_27\",\"2021_9_28\",\"2021_9_29\",\"2021_9_30\",\"2021_10_1\",\"2021_10_2\",\"2021_10_3\",\"2021_10_4\",\"2021_10_5\",\"2021_10_6\",\"2021_10_7\",\"2021_10_8\",\"2021_10_9\",\"2021_10_10\",\"2021_10_11\",\"2021_10_12\",\"2021_10_13\",\"2021_10_14\",\"2021_10_15\",\"2021_10_16\",\"2021_10_17\",\"2021_10_18\",\"2021_10_19\",\"2021_10_20\",\"2021_10_21\",\"2021_10_22\",\"2021_10_23\",\"2021_10_24\",\"2021_10_25\",\"2021_10_26\",\"2021_10_27\",\"2021_10_28\",\"2021_10_29\",\"2021_10_30\",\"2021_10_31\",\"2021_11_1\",\"2021_11_2\",\"2021_11_3\",\"2021_11_4\",\"2021_11_5\",\"2021_11_6\",\"2021_11_7\",\"2021_11_8\",\"2021_11_9\",\"2021_11_10\",\"2021_11_11\",\"2021_11_12\",\"2021_11_13\",\"2021_11_14\",\"2021_11_15\",\"2021_11_16\",\"2021_11_17\",\"2021_11_18\",\"2021_11_19\",\"2021_11_20\",\"2021_11_21\",\"2021_11_22\",\"2021_11_23\",\"2021_11_24\",\"2021_11_25\",\"2021_11_26\",\"2021_11_27\",\"2021_11_28\",\"2021_11_29\",\"2021_11_30\",\"2021_12_1\",\"2021_12_2\",\"2021_12_3\",\"2021_12_4\",\"2021_12_5\",\"2021_12_6\",\"2021_12_7\",\"2021_12_8\",\"2021_12_9\",\"2021_12_10\",\"2021_12_11\",\"2021_12_12\",\"2021_12_13\",\"2021_12_14\",\"2021_12_15\",\"2021_12_16\",\"2021_12_17\",\"2021_12_18\",\"2021_12_19\",\"2021_12_20\",\"2021_12_21\",\"2021_12_22\",\"2021_12_23\",\"2021_12_24\",\"2021_12_25\",\"2021_12_26\",\"2021_12_27\",\"2021_12_28\",\"2021_12_29\",\"2021_12_30\",\"2021_12_31\",\"2022_1_1\",\"2022_1_2\",\"2022_1_3\",\"2022_1_4\",\"2022_1_5\",\"2022_1_6\",\"2022_1_7\",\"2022_1_9\",\"2022_2_1\",\"2022_2_11\",\"2022_2_12\",\"2022_2_14\",\"2022_2_21\",\"2022_2_22\",\"2022_2_23\",\"2022_2_24\",\"2022_2_26\",\"2022_3_1\",\"2022_3_2\",\"2022_3_3\",\"2022_3_4\",\"2022_3_5\",\"2022_3_6\",\"2022_3_7\",\"2022_3_8\",\"2022_3_9\",\"2022_3_10\",\"2022_3_11\",\"2022_3_12\",\"2022_3_13\",\"2022_3_14\",\"2022_3_15\",\"2022_3_16\",\"2022_3_17\",\"2022_3_18\",\"2022_3_19\",\"2022_3_20\",\"2022_3_21\",\"2022_3_22\",\"2022_3_23\",\"2022_3_24\",\"2022_3_25\",\"2022_3_26\",\"2022_3_27\",\"2022_3_28\",\"2022_3_29\",\"2022_3_30\",\"2022_3_31\",\"2022_4_1\",\"2022_4_2\",\"2022_4_3\",\"2022_4_4\",\"2022_4_5\",\"2022_4_6\",\"2022_4_7\",\"2022_4_8\",\"2022_4_9\",\"2022_4_10\",\"2022_4_11\",\"2022_4_12\",\"2022_4_13\",\"2022_4_14\",\"2022_4_15\",\"2022_4_16\",\"2022_4_17\",\"2022_4_18\",\"2022_4_19\",\"2022_4_20\",\"2022_4_21\",\"2022_4_22\",\"2022_4_23\",\"2022_4_24\",\"2022_4_25\",\"2022_4_26\",\"2022_4_27\",\"2022_4_28\",\"2022_4_29\",\"2022_4_30\",\"2022_5_1\",\"2022_5_2\",\"2022_5_3\",\"2022_5_4\",\"2022_5_5\",\"2022_5_6\",\"2022_5_7\",\"2022_5_8\",\"2022_5_9\",\"2022_5_10\",\"2022_5_11\",\"2022_5_12\",\"2022_5_13\",\"2022_5_14\",\"2022_5_15\",\"2022_5_16\",\"2022_5_17\",\"2022_5_18\",\"2022_5_19\",\"2022_5_20\",\"2022_5_21\",\"2022_5_22\",\"2022_5_23\",\"2022_5_24\",\"2022_5_25\",\"2022_5_26\",\"2022_5_27\",\"2022_5_28\",\"2022_5_29\",\"2022_5_30\",\"2022_5_31\",\"2022_6_1\",\"2022_6_2\",\"2022_6_3\",\"2022_6_4\",\"2022_6_5\",\"2022_6_6\",\"2022_6_7\",\"2022_6_8\",\"2022_6_9\",\"2022_6_10\",\"2022_6_11\",\"2022_6_12\",\"2022_6_13\",\"2022_6_14\",\"2022_6_15\",\"2022_6_16\",\"2022_6_17\",\"2022_6_18\",\"2022_6_19\",\"2022_6_20\",\"2022_6_21\",\"2022_6_22\",\"2022_6_23\",\"2022_6_24\",\"2022_6_25\",\"2022_6_26\",\"2022_6_27\",\"2022_6_28\",\"2022_6_29\",\"2022_6_30\",\"2022_7_1\",\"2022_7_2\",\"2022_7_3\",\"2022_7_4\",\"2022_7_5\",\"2022_7_6\",\"2022_7_7\",\"2022_7_8\",\"2022_7_9\",\"2022_7_10\",\"2022_7_11\",\"2022_7_12\",\"2022_7_13\",\"2022_7_14\",\"2022_7_15\",\"2022_7_16\",\"2022_7_17\",\"2022_7_18\",\"2022_7_19\",\"2022_7_20\",\"2022_7_21\",\"2022_7_22\",\"2022_7_23\",\"2022_7_24\",\"2022_7_25\",\"2022_7_26\",\"2022_7_27\",\"2022_7_28\",\"2022_7_29\",\"2022_7_30\",\"2022_7_31\",\"2022_8_1\",\"2022_8_2\",\"2022_8_3\",\"2022_8_4\",\"2022_8_5\",\"2022_8_6\",\"2022_8_7\",\"2022_8_8\",\"2022_8_9\",\"2022_8_10\",\"2022_8_11\",\"2022_8_12\",\"2022_8_13\",\"2022_8_14\",\"2022_8_15\",\"2022_8_16\",\"2022_8_17\",\"2022_8_18\",\"2022_8_19\",\"2022_8_20\",\"2022_8_21\",\"2022_8_22\",\"2022_8_23\",\"2022_8_24\",\"2022_8_25\",\"2022_8_26\",\"2022_8_27\",\"2022_8_28\",\"2022_8_29\",\"2022_8_30\",\"2022_8_31\",\"2022_9_1\",\"2022_9_2\",\"2022_9_3\",\"2022_9_4\",\"2022_9_5\",\"2022_9_6\",\"2022_9_7\",\"2022_9_8\",\"2022_9_9\",\"2022_9_10\",\"2022_9_11\",\"2022_9_12\",\"2022_9_13\",\"2022_9_14\",\"2022_9_15\",\"2022_9_16\",\"2022_9_17\",\"2022_9_18\",\"2022_9_19\",\"2022_9_20\",\"2022_9_21\",\"2022_9_22\",\"2022_9_23\",\"2022_9_24\",\"2022_9_25\",\"2022_9_26\",\"2022_9_27\",\"2022_9_28\",\"2022_9_29\",\"2022_9_30\",\"2022_10_1\",\"2022_10_2\",\"2022_10_3\",\"2022_10_4\",\"2022_10_5\",\"2022_10_6\",\"2022_10_7\",\"2022_10_8\",\"2022_10_9\",\"2022_10_10\",\"2022_10_11\",\"2022_10_12\",\"2022_10_13\",\"2022_10_14\",\"2022_10_15\",\"2022_10_16\",\"2022_10_17\",\"2022_10_18\",\"2022_10_19\",\"2022_10_20\",\"2022_10_21\",\"2022_10_22\",\"2022_10_23\",\"2022_10_24\",\"2022_10_25\",\"2022_10_26\",\"2022_10_27\",\"2022_10_28\",\"2022_10_29\",\"2022_10_30\",\"2022_10_31\",\"2022_11_1\",\"2022_11_2\",\"2022_11_3\",\"2022_11_4\",\"2022_11_5\",\"2022_11_6\",\"2022_11_7\",\"2022_11_8\",\"2022_11_9\",\"2022_11_10\",\"2022_11_11\",\"2022_11_12\",\"2022_11_13\",\"2022_11_14\",\"2022_11_15\",\"2022_11_16\",\"2022_11_17\",\"2022_11_18\",\"2022_11_19\",\"2022_11_20\",\"2022_11_21\",\"2022_11_22\"],\"xaxis\":\"x\",\"y\":[1,69,73,51,67,88,266,254,139,112,86,75,96,184,129,59,65,67,72,112,180,77,73,49,67,69,127,211,105,104,70,90,65,92,125,99,68,70,94,123,87,191,88,95,77,58,110,109,323,97,79,63,96,72,205,166,119,83,103,77,75,89,104,85,65,71,61,68,82,34,26,69,68,84,68,63,65,72,57,100,77,129,95,75,65,77,59,68,90,54,64,66,61,47,88,110,60,45,44,61,68,110,83,50,51,56,52,42,48,88,83,56,47,48,61,60,69,63,57,53,88,58,94,89,70,66,61,40,67,65,78,95,60,62,59,68,52,113,73,48,3,118,54,56,122,15,73,14,74,57,52,147,65,71,56,9,77,6,6,45,33,101,198,187,147,226,107,95,74,58,42,59,158,69,64,57,51,50,50,85,52,51,50,47,60,43,63,74,74,66,60,59,76,62,135,60,51,59,70,57,110,85,65,59,81,69,84,105,125,64,46,57,58,88,136,134,90,85,78,64,81,140,110,64,59,72,52,82,172,107,49,58,64,64,73,109,67,45,225,94,74,98,95,79,80,63,66,48,107,92,70,45,50,79,63,78,86,71,47,58,44,41,68,119,99,65,58,76,56,59,157,126,83,74,70,96,84,151,102,86,65,83,60,96,89,94,70,64,59,60,65,85,54,39,68,60,46,66,83,83,65,67,81,65,59,74,51,47,80,66,54,44,22,52,50,67,56,45,67,61,51,47,36,49,52,71,83,51,71,154,92,71,70,62,72,181,90,67,53,68,98,71,67,76,72,77,98,161,103,67,65,43,65,75,243,168,107,50,56,59,87,102,72,43,63,67,72,102,126,81,57,86,82,71,81,107,79,57,79,62,74,123,119,80,53,69,85,70,89,119,97,116,90,92,75,61,132,92,79,61,70,79,94,120,85,64,59,92,100,112,101,98,65,68,99,58,76,107,90,66,61,57,34,77,123,59,67,74,75,60,61,99,56,56,57,76,56,91,91,88,59,72,61,73,65,152,107,98,67,69,82,70,69,57,63,54,57,94,88,139,68,58,46,50,55,60,205,86,81,88,80,47,55,282,87,70,78,62,74,82,98,65,81,95,77,76,128,154,129,79,52,73,56,72,160,102,67,52,67,96,79,128,75,67,44,114,55,57,62,47,34,55,59,68,51,155,62,57,63,63,56,51,133,124,73,33,33,61,108,102,78,46,40,50,197,70,82,60,29,30,43,54,71,170,86,79,55,83,67,80,77,58,54,59,97,63,97,141,90,76,84,86,83,78,136,115,105,68,95,72,83,124,99,88,76,66,49,74,107,88,78,85,64,86,92,170,131,72,76,101,72,96,282,135,105,53,74,86,100,202,101,110,112],\"yaxis\":\"y\",\"type\":\"bar\"}],                        {\"template\":{\"data\":{\"histogram2dcontour\":[{\"type\":\"histogram2dcontour\",\"colorbar\":{\"outlinewidth\":0,\"ticks\":\"\"},\"colorscale\":[[0.0,\"#0d0887\"],[0.1111111111111111,\"#46039f\"],[0.2222222222222222,\"#7201a8\"],[0.3333333333333333,\"#9c179e\"],[0.4444444444444444,\"#bd3786\"],[0.5555555555555556,\"#d8576b\"],[0.6666666666666666,\"#ed7953\"],[0.7777777777777778,\"#fb9f3a\"],[0.8888888888888888,\"#fdca26\"],[1.0,\"#f0f921\"]]}],\"choropleth\":[{\"type\":\"choropleth\",\"colorbar\":{\"outlinewidth\":0,\"ticks\":\"\"}}],\"histogram2d\":[{\"type\":\"histogram2d\",\"colorbar\":{\"outlinewidth\":0,\"ticks\":\"\"},\"colorscale\":[[0.0,\"#0d0887\"],[0.1111111111111111,\"#46039f\"],[0.2222222222222222,\"#7201a8\"],[0.3333333333333333,\"#9c179e\"],[0.4444444444444444,\"#bd3786\"],[0.5555555555555556,\"#d8576b\"],[0.6666666666666666,\"#ed7953\"],[0.7777777777777778,\"#fb9f3a\"],[0.8888888888888888,\"#fdca26\"],[1.0,\"#f0f921\"]]}],\"heatmap\":[{\"type\":\"heatmap\",\"colorbar\":{\"outlinewidth\":0,\"ticks\":\"\"},\"colorscale\":[[0.0,\"#0d0887\"],[0.1111111111111111,\"#46039f\"],[0.2222222222222222,\"#7201a8\"],[0.3333333333333333,\"#9c179e\"],[0.4444444444444444,\"#bd3786\"],[0.5555555555555556,\"#d8576b\"],[0.6666666666666666,\"#ed7953\"],[0.7777777777777778,\"#fb9f3a\"],[0.8888888888888888,\"#fdca26\"],[1.0,\"#f0f921\"]]}],\"heatmapgl\":[{\"type\":\"heatmapgl\",\"colorbar\":{\"outlinewidth\":0,\"ticks\":\"\"},\"colorscale\":[[0.0,\"#0d0887\"],[0.1111111111111111,\"#46039f\"],[0.2222222222222222,\"#7201a8\"],[0.3333333333333333,\"#9c179e\"],[0.4444444444444444,\"#bd3786\"],[0.5555555555555556,\"#d8576b\"],[0.6666666666666666,\"#ed7953\"],[0.7777777777777778,\"#fb9f3a\"],[0.8888888888888888,\"#fdca26\"],[1.0,\"#f0f921\"]]}],\"contourcarpet\":[{\"type\":\"contourcarpet\",\"colorbar\":{\"outlinewidth\":0,\"ticks\":\"\"}}],\"contour\":[{\"type\":\"contour\",\"colorbar\":{\"outlinewidth\":0,\"ticks\":\"\"},\"colorscale\":[[0.0,\"#0d0887\"],[0.1111111111111111,\"#46039f\"],[0.2222222222222222,\"#7201a8\"],[0.3333333333333333,\"#9c179e\"],[0.4444444444444444,\"#bd3786\"],[0.5555555555555556,\"#d8576b\"],[0.6666666666666666,\"#ed7953\"],[0.7777777777777778,\"#fb9f3a\"],[0.8888888888888888,\"#fdca26\"],[1.0,\"#f0f921\"]]}],\"surface\":[{\"type\":\"surface\",\"colorbar\":{\"outlinewidth\":0,\"ticks\":\"\"},\"colorscale\":[[0.0,\"#0d0887\"],[0.1111111111111111,\"#46039f\"],[0.2222222222222222,\"#7201a8\"],[0.3333333333333333,\"#9c179e\"],[0.4444444444444444,\"#bd3786\"],[0.5555555555555556,\"#d8576b\"],[0.6666666666666666,\"#ed7953\"],[0.7777777777777778,\"#fb9f3a\"],[0.8888888888888888,\"#fdca26\"],[1.0,\"#f0f921\"]]}],\"mesh3d\":[{\"type\":\"mesh3d\",\"colorbar\":{\"outlinewidth\":0,\"ticks\":\"\"}}],\"scatter\":[{\"fillpattern\":{\"fillmode\":\"overlay\",\"size\":10,\"solidity\":0.2},\"type\":\"scatter\"}],\"parcoords\":[{\"type\":\"parcoords\",\"line\":{\"colorbar\":{\"outlinewidth\":0,\"ticks\":\"\"}}}],\"scatterpolargl\":[{\"type\":\"scatterpolargl\",\"marker\":{\"colorbar\":{\"outlinewidth\":0,\"ticks\":\"\"}}}],\"bar\":[{\"error_x\":{\"color\":\"#2a3f5f\"},\"error_y\":{\"color\":\"#2a3f5f\"},\"marker\":{\"line\":{\"color\":\"#E5ECF6\",\"width\":0.5},\"pattern\":{\"fillmode\":\"overlay\",\"size\":10,\"solidity\":0.2}},\"type\":\"bar\"}],\"scattergeo\":[{\"type\":\"scattergeo\",\"marker\":{\"colorbar\":{\"outlinewidth\":0,\"ticks\":\"\"}}}],\"scatterpolar\":[{\"type\":\"scatterpolar\",\"marker\":{\"colorbar\":{\"outlinewidth\":0,\"ticks\":\"\"}}}],\"histogram\":[{\"marker\":{\"pattern\":{\"fillmode\":\"overlay\",\"size\":10,\"solidity\":0.2}},\"type\":\"histogram\"}],\"scattergl\":[{\"type\":\"scattergl\",\"marker\":{\"colorbar\":{\"outlinewidth\":0,\"ticks\":\"\"}}}],\"scatter3d\":[{\"type\":\"scatter3d\",\"line\":{\"colorbar\":{\"outlinewidth\":0,\"ticks\":\"\"}},\"marker\":{\"colorbar\":{\"outlinewidth\":0,\"ticks\":\"\"}}}],\"scattermapbox\":[{\"type\":\"scattermapbox\",\"marker\":{\"colorbar\":{\"outlinewidth\":0,\"ticks\":\"\"}}}],\"scatterternary\":[{\"type\":\"scatterternary\",\"marker\":{\"colorbar\":{\"outlinewidth\":0,\"ticks\":\"\"}}}],\"scattercarpet\":[{\"type\":\"scattercarpet\",\"marker\":{\"colorbar\":{\"outlinewidth\":0,\"ticks\":\"\"}}}],\"carpet\":[{\"aaxis\":{\"endlinecolor\":\"#2a3f5f\",\"gridcolor\":\"white\",\"linecolor\":\"white\",\"minorgridcolor\":\"white\",\"startlinecolor\":\"#2a3f5f\"},\"baxis\":{\"endlinecolor\":\"#2a3f5f\",\"gridcolor\":\"white\",\"linecolor\":\"white\",\"minorgridcolor\":\"white\",\"startlinecolor\":\"#2a3f5f\"},\"type\":\"carpet\"}],\"table\":[{\"cells\":{\"fill\":{\"color\":\"#EBF0F8\"},\"line\":{\"color\":\"white\"}},\"header\":{\"fill\":{\"color\":\"#C8D4E3\"},\"line\":{\"color\":\"white\"}},\"type\":\"table\"}],\"barpolar\":[{\"marker\":{\"line\":{\"color\":\"#E5ECF6\",\"width\":0.5},\"pattern\":{\"fillmode\":\"overlay\",\"size\":10,\"solidity\":0.2}},\"type\":\"barpolar\"}],\"pie\":[{\"automargin\":true,\"type\":\"pie\"}]},\"layout\":{\"autotypenumbers\":\"strict\",\"colorway\":[\"#636efa\",\"#EF553B\",\"#00cc96\",\"#ab63fa\",\"#FFA15A\",\"#19d3f3\",\"#FF6692\",\"#B6E880\",\"#FF97FF\",\"#FECB52\"],\"font\":{\"color\":\"#2a3f5f\"},\"hovermode\":\"closest\",\"hoverlabel\":{\"align\":\"left\"},\"paper_bgcolor\":\"white\",\"plot_bgcolor\":\"#E5ECF6\",\"polar\":{\"bgcolor\":\"#E5ECF6\",\"angularaxis\":{\"gridcolor\":\"white\",\"linecolor\":\"white\",\"ticks\":\"\"},\"radialaxis\":{\"gridcolor\":\"white\",\"linecolor\":\"white\",\"ticks\":\"\"}},\"ternary\":{\"bgcolor\":\"#E5ECF6\",\"aaxis\":{\"gridcolor\":\"white\",\"linecolor\":\"white\",\"ticks\":\"\"},\"baxis\":{\"gridcolor\":\"white\",\"linecolor\":\"white\",\"ticks\":\"\"},\"caxis\":{\"gridcolor\":\"white\",\"linecolor\":\"white\",\"ticks\":\"\"}},\"coloraxis\":{\"colorbar\":{\"outlinewidth\":0,\"ticks\":\"\"}},\"colorscale\":{\"sequential\":[[0.0,\"#0d0887\"],[0.1111111111111111,\"#46039f\"],[0.2222222222222222,\"#7201a8\"],[0.3333333333333333,\"#9c179e\"],[0.4444444444444444,\"#bd3786\"],[0.5555555555555556,\"#d8576b\"],[0.6666666666666666,\"#ed7953\"],[0.7777777777777778,\"#fb9f3a\"],[0.8888888888888888,\"#fdca26\"],[1.0,\"#f0f921\"]],\"sequentialminus\":[[0.0,\"#0d0887\"],[0.1111111111111111,\"#46039f\"],[0.2222222222222222,\"#7201a8\"],[0.3333333333333333,\"#9c179e\"],[0.4444444444444444,\"#bd3786\"],[0.5555555555555556,\"#d8576b\"],[0.6666666666666666,\"#ed7953\"],[0.7777777777777778,\"#fb9f3a\"],[0.8888888888888888,\"#fdca26\"],[1.0,\"#f0f921\"]],\"diverging\":[[0,\"#8e0152\"],[0.1,\"#c51b7d\"],[0.2,\"#de77ae\"],[0.3,\"#f1b6da\"],[0.4,\"#fde0ef\"],[0.5,\"#f7f7f7\"],[0.6,\"#e6f5d0\"],[0.7,\"#b8e186\"],[0.8,\"#7fbc41\"],[0.9,\"#4d9221\"],[1,\"#276419\"]]},\"xaxis\":{\"gridcolor\":\"white\",\"linecolor\":\"white\",\"ticks\":\"\",\"title\":{\"standoff\":15},\"zerolinecolor\":\"white\",\"automargin\":true,\"zerolinewidth\":2},\"yaxis\":{\"gridcolor\":\"white\",\"linecolor\":\"white\",\"ticks\":\"\",\"title\":{\"standoff\":15},\"zerolinecolor\":\"white\",\"automargin\":true,\"zerolinewidth\":2},\"scene\":{\"xaxis\":{\"backgroundcolor\":\"#E5ECF6\",\"gridcolor\":\"white\",\"linecolor\":\"white\",\"showbackground\":true,\"ticks\":\"\",\"zerolinecolor\":\"white\",\"gridwidth\":2},\"yaxis\":{\"backgroundcolor\":\"#E5ECF6\",\"gridcolor\":\"white\",\"linecolor\":\"white\",\"showbackground\":true,\"ticks\":\"\",\"zerolinecolor\":\"white\",\"gridwidth\":2},\"zaxis\":{\"backgroundcolor\":\"#E5ECF6\",\"gridcolor\":\"white\",\"linecolor\":\"white\",\"showbackground\":true,\"ticks\":\"\",\"zerolinecolor\":\"white\",\"gridwidth\":2}},\"shapedefaults\":{\"line\":{\"color\":\"#2a3f5f\"}},\"annotationdefaults\":{\"arrowcolor\":\"#2a3f5f\",\"arrowhead\":0,\"arrowwidth\":1},\"geo\":{\"bgcolor\":\"white\",\"landcolor\":\"#E5ECF6\",\"subunitcolor\":\"white\",\"showland\":true,\"showlakes\":true,\"lakecolor\":\"white\"},\"title\":{\"x\":0.05},\"mapbox\":{\"style\":\"light\"}}},\"xaxis\":{\"anchor\":\"y\",\"domain\":[0.0,1.0],\"title\":{\"text\":\"Date\"}},\"yaxis\":{\"anchor\":\"x\",\"domain\":[0.0,1.0],\"title\":{\"text\":\"TweetCount\"}},\"legend\":{\"tracegroupgap\":0},\"margin\":{\"t\":60},\"barmode\":\"relative\"},                        {\"responsive\": true}                    ).then(function(){\n",
       "                            \n",
       "var gd = document.getElementById('6f5c6118-487d-4702-a709-105e5cc5c498');\n",
       "var x = new MutationObserver(function (mutations, observer) {{\n",
       "        var display = window.getComputedStyle(gd).display;\n",
       "        if (!display || display === 'none') {{\n",
       "            console.log([gd, 'removed!']);\n",
       "            Plotly.purge(gd);\n",
       "            observer.disconnect();\n",
       "        }}\n",
       "}});\n",
       "\n",
       "// Listen for the removal of the full notebook cells\n",
       "var notebookContainer = gd.closest('#notebook-container');\n",
       "if (notebookContainer) {{\n",
       "    x.observe(notebookContainer, {childList: true});\n",
       "}}\n",
       "\n",
       "// Listen for the clearing of the current output cell\n",
       "var outputEl = gd.closest('.output');\n",
       "if (outputEl) {{\n",
       "    x.observe(outputEl, {childList: true});\n",
       "}}\n",
       "\n",
       "                        })                };                });            </script>        </div>"
      ]
     },
     "metadata": {},
     "output_type": "display_data"
    }
   ],
   "source": [
    "tempdf = ps.DataFrame(dfDay)\n",
    "\n",
    "fig = tempdf.plot(kind='bar', x='Date', y='TweetCount')\n",
    "fig.show()\n",
    "\n",
    "\n",
    "fig.write_image(\"Images/TweetCountByDay.svg\")\n",
    "fig.write_html(\"Images/TweetCountByDay.html\")"
   ]
  },
  {
   "cell_type": "code",
   "execution_count": 170,
   "id": "72c0e4d4",
   "metadata": {},
   "outputs": [
    {
     "name": "stderr",
     "output_type": "stream",
     "text": [
      "[Stage 741:===============================================>         (5 + 1) / 6]\r"
     ]
    },
    {
     "name": "stdout",
     "output_type": "stream",
     "text": [
      "+----+------+-------+----------------+\n",
      "|Year|wkofYr|  yr_wk|TweetCountbyWeek|\n",
      "+----+------+-------+----------------+\n",
      "|2021|     4| 2021_4|               1|\n",
      "|2021|     5| 2021_5|             868|\n",
      "|2021|     6| 2021_6|             821|\n",
      "|2021|     7| 2021_7|             632|\n",
      "|2021|     8| 2021_8|             701|\n",
      "|2021|     9| 2021_9|             645|\n",
      "|2021|    10|2021_10|             721|\n",
      "|2021|    11|2021_11|             869|\n",
      "|2021|    12|2021_12|             800|\n",
      "|2021|    13|2021_13|             616|\n",
      "|2021|    14|2021_14|             381|\n",
      "|2021|    17|2021_17|             378|\n",
      "|2021|    18|2021_18|             595|\n",
      "|2021|    19|2021_19|             488|\n",
      "|2021|    20|2021_20|             496|\n",
      "|2021|    21|2021_21|             461|\n",
      "|2021|    22|2021_22|             420|\n",
      "|2021|    23|2021_23|             404|\n",
      "|2021|    24|2021_24|             509|\n",
      "|2021|    25|2021_25|             472|\n",
      "+----+------+-------+----------------+\n",
      "only showing top 20 rows\n",
      "\n"
     ]
    },
    {
     "name": "stderr",
     "output_type": "stream",
     "text": [
      "\r",
      "                                                                                \r"
     ]
    }
   ],
   "source": [
    "dfWeek = spark.sql(\"SELECT Year, weekofyear(make_date(Year, Month, Day)) as wkofYr , SUM(TweetCount) as TweetCountbyWeek \\\n",
    "                   FROM tweetsByDay \\\n",
    "                   GROUP BY Year, weekofyear(make_date(Year, Month, Day))\")\n",
    "\n",
    "dfWeek.createOrReplaceTempView(\"tweetsByWeek\")\n",
    "dfWeek = spark.sql(\"SELECT Year, wkofYr, CONCAT(Year, '_', wkofYr) AS yr_wk, TweetCountbyWeek  \\\n",
    "                   FROM tweetsByWeek ORDER BY Year, wkofYr\")\n",
    "dfWeek.show()"
   ]
  },
  {
   "cell_type": "code",
   "execution_count": 171,
   "id": "56a883c3",
   "metadata": {},
   "outputs": [
    {
     "name": "stderr",
     "output_type": "stream",
     "text": [
      "2023-05-18 18:03:10,347 WARN window.WindowExec: No Partition Defined for Window operation! Moving all data to a single partition, this can cause serious performance degradation.\n",
      "2023-05-18 18:03:10,348 WARN window.WindowExec: No Partition Defined for Window operation! Moving all data to a single partition, this can cause serious performance degradation.\n",
      "2023-05-18 18:03:27,654 WARN window.WindowExec: No Partition Defined for Window operation! Moving all data to a single partition, this can cause serious performance degradation.\n",
      "2023-05-18 18:03:27,692 WARN window.WindowExec: No Partition Defined for Window operation! Moving all data to a single partition, this can cause serious performance degradation.\n",
      "2023-05-18 18:03:27,720 WARN window.WindowExec: No Partition Defined for Window operation! Moving all data to a single partition, this can cause serious performance degradation.\n",
      "2023-05-18 18:03:27,772 WARN window.WindowExec: No Partition Defined for Window operation! Moving all data to a single partition, this can cause serious performance degradation.\n",
      "2023-05-18 18:03:27,773 WARN window.WindowExec: No Partition Defined for Window operation! Moving all data to a single partition, this can cause serious performance degradation.\n"
     ]
    },
    {
     "data": {
      "application/vnd.plotly.v1+json": {
       "config": {
        "plotlyServerURL": "https://plot.ly"
       },
       "data": [
        {
         "alignmentgroup": "True",
         "hovertemplate": "yr_wk=%{x}<br>TweetCountbyWeek=%{y}<extra></extra>",
         "legendgroup": "",
         "marker": {
          "color": "#636efa",
          "pattern": {
           "shape": ""
          }
         },
         "name": "",
         "offsetgroup": "",
         "orientation": "v",
         "showlegend": false,
         "textposition": "auto",
         "type": "bar",
         "x": [
          "2021_4",
          "2021_5",
          "2021_6",
          "2021_7",
          "2021_8",
          "2021_9",
          "2021_10",
          "2021_11",
          "2021_12",
          "2021_13",
          "2021_14",
          "2021_17",
          "2021_18",
          "2021_19",
          "2021_20",
          "2021_21",
          "2021_22",
          "2021_23",
          "2021_24",
          "2021_25",
          "2021_26",
          "2021_27",
          "2021_28",
          "2021_29",
          "2021_30",
          "2021_31",
          "2021_32",
          "2021_33",
          "2021_34",
          "2021_35",
          "2021_36",
          "2021_37",
          "2021_38",
          "2021_39",
          "2021_40",
          "2021_41",
          "2021_42",
          "2021_43",
          "2021_44",
          "2021_45",
          "2021_46",
          "2021_47",
          "2021_48",
          "2021_49",
          "2021_50",
          "2021_51",
          "2021_52",
          "2022_1",
          "2022_5",
          "2022_6",
          "2022_7",
          "2022_8",
          "2022_9",
          "2022_10",
          "2022_11",
          "2022_12",
          "2022_13",
          "2022_14",
          "2022_15",
          "2022_16",
          "2022_17",
          "2022_18",
          "2022_19",
          "2022_20",
          "2022_21",
          "2022_22",
          "2022_23",
          "2022_24",
          "2022_25",
          "2022_26",
          "2022_27",
          "2022_28",
          "2022_29",
          "2022_30",
          "2022_31",
          "2022_32",
          "2022_33",
          "2022_34",
          "2022_35",
          "2022_36",
          "2022_37",
          "2022_38",
          "2022_39",
          "2022_40",
          "2022_41",
          "2022_42",
          "2022_43",
          "2022_44",
          "2022_45",
          "2022_46",
          "2022_47",
          "2022_52"
         ],
         "xaxis": "x",
         "y": [
          1,
          868,
          821,
          632,
          701,
          645,
          721,
          869,
          800,
          616,
          381,
          378,
          595,
          488,
          496,
          461,
          420,
          404,
          509,
          472,
          487,
          416,
          482,
          270,
          999,
          555,
          409,
          388,
          532,
          492,
          588,
          583,
          648,
          608,
          484,
          710,
          526,
          472,
          476,
          597,
          660,
          573,
          457,
          445,
          462,
          365,
          285,
          338,
          51,
          225,
          92,
          456,
          447,
          654,
          726,
          533,
          554,
          563,
          594,
          582,
          658,
          588,
          626,
          563,
          477,
          492,
          515,
          589,
          512,
          563,
          560,
          720,
          529,
          740,
          594,
          564,
          446,
          484,
          547,
          488,
          545,
          483,
          499,
          601,
          658,
          646,
          548,
          706,
          834,
          721,
          222,
          112
         ],
         "yaxis": "y"
        }
       ],
       "layout": {
        "barmode": "relative",
        "legend": {
         "tracegroupgap": 0
        },
        "margin": {
         "t": 60
        },
        "template": {
         "data": {
          "bar": [
           {
            "error_x": {
             "color": "#2a3f5f"
            },
            "error_y": {
             "color": "#2a3f5f"
            },
            "marker": {
             "line": {
              "color": "#E5ECF6",
              "width": 0.5
             },
             "pattern": {
              "fillmode": "overlay",
              "size": 10,
              "solidity": 0.2
             }
            },
            "type": "bar"
           }
          ],
          "barpolar": [
           {
            "marker": {
             "line": {
              "color": "#E5ECF6",
              "width": 0.5
             },
             "pattern": {
              "fillmode": "overlay",
              "size": 10,
              "solidity": 0.2
             }
            },
            "type": "barpolar"
           }
          ],
          "carpet": [
           {
            "aaxis": {
             "endlinecolor": "#2a3f5f",
             "gridcolor": "white",
             "linecolor": "white",
             "minorgridcolor": "white",
             "startlinecolor": "#2a3f5f"
            },
            "baxis": {
             "endlinecolor": "#2a3f5f",
             "gridcolor": "white",
             "linecolor": "white",
             "minorgridcolor": "white",
             "startlinecolor": "#2a3f5f"
            },
            "type": "carpet"
           }
          ],
          "choropleth": [
           {
            "colorbar": {
             "outlinewidth": 0,
             "ticks": ""
            },
            "type": "choropleth"
           }
          ],
          "contour": [
           {
            "colorbar": {
             "outlinewidth": 0,
             "ticks": ""
            },
            "colorscale": [
             [
              0,
              "#0d0887"
             ],
             [
              0.1111111111111111,
              "#46039f"
             ],
             [
              0.2222222222222222,
              "#7201a8"
             ],
             [
              0.3333333333333333,
              "#9c179e"
             ],
             [
              0.4444444444444444,
              "#bd3786"
             ],
             [
              0.5555555555555556,
              "#d8576b"
             ],
             [
              0.6666666666666666,
              "#ed7953"
             ],
             [
              0.7777777777777778,
              "#fb9f3a"
             ],
             [
              0.8888888888888888,
              "#fdca26"
             ],
             [
              1,
              "#f0f921"
             ]
            ],
            "type": "contour"
           }
          ],
          "contourcarpet": [
           {
            "colorbar": {
             "outlinewidth": 0,
             "ticks": ""
            },
            "type": "contourcarpet"
           }
          ],
          "heatmap": [
           {
            "colorbar": {
             "outlinewidth": 0,
             "ticks": ""
            },
            "colorscale": [
             [
              0,
              "#0d0887"
             ],
             [
              0.1111111111111111,
              "#46039f"
             ],
             [
              0.2222222222222222,
              "#7201a8"
             ],
             [
              0.3333333333333333,
              "#9c179e"
             ],
             [
              0.4444444444444444,
              "#bd3786"
             ],
             [
              0.5555555555555556,
              "#d8576b"
             ],
             [
              0.6666666666666666,
              "#ed7953"
             ],
             [
              0.7777777777777778,
              "#fb9f3a"
             ],
             [
              0.8888888888888888,
              "#fdca26"
             ],
             [
              1,
              "#f0f921"
             ]
            ],
            "type": "heatmap"
           }
          ],
          "heatmapgl": [
           {
            "colorbar": {
             "outlinewidth": 0,
             "ticks": ""
            },
            "colorscale": [
             [
              0,
              "#0d0887"
             ],
             [
              0.1111111111111111,
              "#46039f"
             ],
             [
              0.2222222222222222,
              "#7201a8"
             ],
             [
              0.3333333333333333,
              "#9c179e"
             ],
             [
              0.4444444444444444,
              "#bd3786"
             ],
             [
              0.5555555555555556,
              "#d8576b"
             ],
             [
              0.6666666666666666,
              "#ed7953"
             ],
             [
              0.7777777777777778,
              "#fb9f3a"
             ],
             [
              0.8888888888888888,
              "#fdca26"
             ],
             [
              1,
              "#f0f921"
             ]
            ],
            "type": "heatmapgl"
           }
          ],
          "histogram": [
           {
            "marker": {
             "pattern": {
              "fillmode": "overlay",
              "size": 10,
              "solidity": 0.2
             }
            },
            "type": "histogram"
           }
          ],
          "histogram2d": [
           {
            "colorbar": {
             "outlinewidth": 0,
             "ticks": ""
            },
            "colorscale": [
             [
              0,
              "#0d0887"
             ],
             [
              0.1111111111111111,
              "#46039f"
             ],
             [
              0.2222222222222222,
              "#7201a8"
             ],
             [
              0.3333333333333333,
              "#9c179e"
             ],
             [
              0.4444444444444444,
              "#bd3786"
             ],
             [
              0.5555555555555556,
              "#d8576b"
             ],
             [
              0.6666666666666666,
              "#ed7953"
             ],
             [
              0.7777777777777778,
              "#fb9f3a"
             ],
             [
              0.8888888888888888,
              "#fdca26"
             ],
             [
              1,
              "#f0f921"
             ]
            ],
            "type": "histogram2d"
           }
          ],
          "histogram2dcontour": [
           {
            "colorbar": {
             "outlinewidth": 0,
             "ticks": ""
            },
            "colorscale": [
             [
              0,
              "#0d0887"
             ],
             [
              0.1111111111111111,
              "#46039f"
             ],
             [
              0.2222222222222222,
              "#7201a8"
             ],
             [
              0.3333333333333333,
              "#9c179e"
             ],
             [
              0.4444444444444444,
              "#bd3786"
             ],
             [
              0.5555555555555556,
              "#d8576b"
             ],
             [
              0.6666666666666666,
              "#ed7953"
             ],
             [
              0.7777777777777778,
              "#fb9f3a"
             ],
             [
              0.8888888888888888,
              "#fdca26"
             ],
             [
              1,
              "#f0f921"
             ]
            ],
            "type": "histogram2dcontour"
           }
          ],
          "mesh3d": [
           {
            "colorbar": {
             "outlinewidth": 0,
             "ticks": ""
            },
            "type": "mesh3d"
           }
          ],
          "parcoords": [
           {
            "line": {
             "colorbar": {
              "outlinewidth": 0,
              "ticks": ""
             }
            },
            "type": "parcoords"
           }
          ],
          "pie": [
           {
            "automargin": true,
            "type": "pie"
           }
          ],
          "scatter": [
           {
            "fillpattern": {
             "fillmode": "overlay",
             "size": 10,
             "solidity": 0.2
            },
            "type": "scatter"
           }
          ],
          "scatter3d": [
           {
            "line": {
             "colorbar": {
              "outlinewidth": 0,
              "ticks": ""
             }
            },
            "marker": {
             "colorbar": {
              "outlinewidth": 0,
              "ticks": ""
             }
            },
            "type": "scatter3d"
           }
          ],
          "scattercarpet": [
           {
            "marker": {
             "colorbar": {
              "outlinewidth": 0,
              "ticks": ""
             }
            },
            "type": "scattercarpet"
           }
          ],
          "scattergeo": [
           {
            "marker": {
             "colorbar": {
              "outlinewidth": 0,
              "ticks": ""
             }
            },
            "type": "scattergeo"
           }
          ],
          "scattergl": [
           {
            "marker": {
             "colorbar": {
              "outlinewidth": 0,
              "ticks": ""
             }
            },
            "type": "scattergl"
           }
          ],
          "scattermapbox": [
           {
            "marker": {
             "colorbar": {
              "outlinewidth": 0,
              "ticks": ""
             }
            },
            "type": "scattermapbox"
           }
          ],
          "scatterpolar": [
           {
            "marker": {
             "colorbar": {
              "outlinewidth": 0,
              "ticks": ""
             }
            },
            "type": "scatterpolar"
           }
          ],
          "scatterpolargl": [
           {
            "marker": {
             "colorbar": {
              "outlinewidth": 0,
              "ticks": ""
             }
            },
            "type": "scatterpolargl"
           }
          ],
          "scatterternary": [
           {
            "marker": {
             "colorbar": {
              "outlinewidth": 0,
              "ticks": ""
             }
            },
            "type": "scatterternary"
           }
          ],
          "surface": [
           {
            "colorbar": {
             "outlinewidth": 0,
             "ticks": ""
            },
            "colorscale": [
             [
              0,
              "#0d0887"
             ],
             [
              0.1111111111111111,
              "#46039f"
             ],
             [
              0.2222222222222222,
              "#7201a8"
             ],
             [
              0.3333333333333333,
              "#9c179e"
             ],
             [
              0.4444444444444444,
              "#bd3786"
             ],
             [
              0.5555555555555556,
              "#d8576b"
             ],
             [
              0.6666666666666666,
              "#ed7953"
             ],
             [
              0.7777777777777778,
              "#fb9f3a"
             ],
             [
              0.8888888888888888,
              "#fdca26"
             ],
             [
              1,
              "#f0f921"
             ]
            ],
            "type": "surface"
           }
          ],
          "table": [
           {
            "cells": {
             "fill": {
              "color": "#EBF0F8"
             },
             "line": {
              "color": "white"
             }
            },
            "header": {
             "fill": {
              "color": "#C8D4E3"
             },
             "line": {
              "color": "white"
             }
            },
            "type": "table"
           }
          ]
         },
         "layout": {
          "annotationdefaults": {
           "arrowcolor": "#2a3f5f",
           "arrowhead": 0,
           "arrowwidth": 1
          },
          "autotypenumbers": "strict",
          "coloraxis": {
           "colorbar": {
            "outlinewidth": 0,
            "ticks": ""
           }
          },
          "colorscale": {
           "diverging": [
            [
             0,
             "#8e0152"
            ],
            [
             0.1,
             "#c51b7d"
            ],
            [
             0.2,
             "#de77ae"
            ],
            [
             0.3,
             "#f1b6da"
            ],
            [
             0.4,
             "#fde0ef"
            ],
            [
             0.5,
             "#f7f7f7"
            ],
            [
             0.6,
             "#e6f5d0"
            ],
            [
             0.7,
             "#b8e186"
            ],
            [
             0.8,
             "#7fbc41"
            ],
            [
             0.9,
             "#4d9221"
            ],
            [
             1,
             "#276419"
            ]
           ],
           "sequential": [
            [
             0,
             "#0d0887"
            ],
            [
             0.1111111111111111,
             "#46039f"
            ],
            [
             0.2222222222222222,
             "#7201a8"
            ],
            [
             0.3333333333333333,
             "#9c179e"
            ],
            [
             0.4444444444444444,
             "#bd3786"
            ],
            [
             0.5555555555555556,
             "#d8576b"
            ],
            [
             0.6666666666666666,
             "#ed7953"
            ],
            [
             0.7777777777777778,
             "#fb9f3a"
            ],
            [
             0.8888888888888888,
             "#fdca26"
            ],
            [
             1,
             "#f0f921"
            ]
           ],
           "sequentialminus": [
            [
             0,
             "#0d0887"
            ],
            [
             0.1111111111111111,
             "#46039f"
            ],
            [
             0.2222222222222222,
             "#7201a8"
            ],
            [
             0.3333333333333333,
             "#9c179e"
            ],
            [
             0.4444444444444444,
             "#bd3786"
            ],
            [
             0.5555555555555556,
             "#d8576b"
            ],
            [
             0.6666666666666666,
             "#ed7953"
            ],
            [
             0.7777777777777778,
             "#fb9f3a"
            ],
            [
             0.8888888888888888,
             "#fdca26"
            ],
            [
             1,
             "#f0f921"
            ]
           ]
          },
          "colorway": [
           "#636efa",
           "#EF553B",
           "#00cc96",
           "#ab63fa",
           "#FFA15A",
           "#19d3f3",
           "#FF6692",
           "#B6E880",
           "#FF97FF",
           "#FECB52"
          ],
          "font": {
           "color": "#2a3f5f"
          },
          "geo": {
           "bgcolor": "white",
           "lakecolor": "white",
           "landcolor": "#E5ECF6",
           "showlakes": true,
           "showland": true,
           "subunitcolor": "white"
          },
          "hoverlabel": {
           "align": "left"
          },
          "hovermode": "closest",
          "mapbox": {
           "style": "light"
          },
          "paper_bgcolor": "white",
          "plot_bgcolor": "#E5ECF6",
          "polar": {
           "angularaxis": {
            "gridcolor": "white",
            "linecolor": "white",
            "ticks": ""
           },
           "bgcolor": "#E5ECF6",
           "radialaxis": {
            "gridcolor": "white",
            "linecolor": "white",
            "ticks": ""
           }
          },
          "scene": {
           "xaxis": {
            "backgroundcolor": "#E5ECF6",
            "gridcolor": "white",
            "gridwidth": 2,
            "linecolor": "white",
            "showbackground": true,
            "ticks": "",
            "zerolinecolor": "white"
           },
           "yaxis": {
            "backgroundcolor": "#E5ECF6",
            "gridcolor": "white",
            "gridwidth": 2,
            "linecolor": "white",
            "showbackground": true,
            "ticks": "",
            "zerolinecolor": "white"
           },
           "zaxis": {
            "backgroundcolor": "#E5ECF6",
            "gridcolor": "white",
            "gridwidth": 2,
            "linecolor": "white",
            "showbackground": true,
            "ticks": "",
            "zerolinecolor": "white"
           }
          },
          "shapedefaults": {
           "line": {
            "color": "#2a3f5f"
           }
          },
          "ternary": {
           "aaxis": {
            "gridcolor": "white",
            "linecolor": "white",
            "ticks": ""
           },
           "baxis": {
            "gridcolor": "white",
            "linecolor": "white",
            "ticks": ""
           },
           "bgcolor": "#E5ECF6",
           "caxis": {
            "gridcolor": "white",
            "linecolor": "white",
            "ticks": ""
           }
          },
          "title": {
           "x": 0.05
          },
          "xaxis": {
           "automargin": true,
           "gridcolor": "white",
           "linecolor": "white",
           "ticks": "",
           "title": {
            "standoff": 15
           },
           "zerolinecolor": "white",
           "zerolinewidth": 2
          },
          "yaxis": {
           "automargin": true,
           "gridcolor": "white",
           "linecolor": "white",
           "ticks": "",
           "title": {
            "standoff": 15
           },
           "zerolinecolor": "white",
           "zerolinewidth": 2
          }
         }
        },
        "xaxis": {
         "anchor": "y",
         "domain": [
          0,
          1
         ],
         "title": {
          "text": "yr_wk"
         }
        },
        "yaxis": {
         "anchor": "x",
         "domain": [
          0,
          1
         ],
         "title": {
          "text": "TweetCountbyWeek"
         }
        }
       }
      },
      "text/html": [
       "<div>                            <div id=\"673d55a0-558f-4db7-bcf7-fb960d61b665\" class=\"plotly-graph-div\" style=\"height:525px; width:100%;\"></div>            <script type=\"text/javascript\">                require([\"plotly\"], function(Plotly) {                    window.PLOTLYENV=window.PLOTLYENV || {};                                    if (document.getElementById(\"673d55a0-558f-4db7-bcf7-fb960d61b665\")) {                    Plotly.newPlot(                        \"673d55a0-558f-4db7-bcf7-fb960d61b665\",                        [{\"alignmentgroup\":\"True\",\"hovertemplate\":\"yr_wk=%{x}<br>TweetCountbyWeek=%{y}<extra></extra>\",\"legendgroup\":\"\",\"marker\":{\"color\":\"#636efa\",\"pattern\":{\"shape\":\"\"}},\"name\":\"\",\"offsetgroup\":\"\",\"orientation\":\"v\",\"showlegend\":false,\"textposition\":\"auto\",\"x\":[\"2021_4\",\"2021_5\",\"2021_6\",\"2021_7\",\"2021_8\",\"2021_9\",\"2021_10\",\"2021_11\",\"2021_12\",\"2021_13\",\"2021_14\",\"2021_17\",\"2021_18\",\"2021_19\",\"2021_20\",\"2021_21\",\"2021_22\",\"2021_23\",\"2021_24\",\"2021_25\",\"2021_26\",\"2021_27\",\"2021_28\",\"2021_29\",\"2021_30\",\"2021_31\",\"2021_32\",\"2021_33\",\"2021_34\",\"2021_35\",\"2021_36\",\"2021_37\",\"2021_38\",\"2021_39\",\"2021_40\",\"2021_41\",\"2021_42\",\"2021_43\",\"2021_44\",\"2021_45\",\"2021_46\",\"2021_47\",\"2021_48\",\"2021_49\",\"2021_50\",\"2021_51\",\"2021_52\",\"2022_1\",\"2022_5\",\"2022_6\",\"2022_7\",\"2022_8\",\"2022_9\",\"2022_10\",\"2022_11\",\"2022_12\",\"2022_13\",\"2022_14\",\"2022_15\",\"2022_16\",\"2022_17\",\"2022_18\",\"2022_19\",\"2022_20\",\"2022_21\",\"2022_22\",\"2022_23\",\"2022_24\",\"2022_25\",\"2022_26\",\"2022_27\",\"2022_28\",\"2022_29\",\"2022_30\",\"2022_31\",\"2022_32\",\"2022_33\",\"2022_34\",\"2022_35\",\"2022_36\",\"2022_37\",\"2022_38\",\"2022_39\",\"2022_40\",\"2022_41\",\"2022_42\",\"2022_43\",\"2022_44\",\"2022_45\",\"2022_46\",\"2022_47\",\"2022_52\"],\"xaxis\":\"x\",\"y\":[1,868,821,632,701,645,721,869,800,616,381,378,595,488,496,461,420,404,509,472,487,416,482,270,999,555,409,388,532,492,588,583,648,608,484,710,526,472,476,597,660,573,457,445,462,365,285,338,51,225,92,456,447,654,726,533,554,563,594,582,658,588,626,563,477,492,515,589,512,563,560,720,529,740,594,564,446,484,547,488,545,483,499,601,658,646,548,706,834,721,222,112],\"yaxis\":\"y\",\"type\":\"bar\"}],                        {\"template\":{\"data\":{\"histogram2dcontour\":[{\"type\":\"histogram2dcontour\",\"colorbar\":{\"outlinewidth\":0,\"ticks\":\"\"},\"colorscale\":[[0.0,\"#0d0887\"],[0.1111111111111111,\"#46039f\"],[0.2222222222222222,\"#7201a8\"],[0.3333333333333333,\"#9c179e\"],[0.4444444444444444,\"#bd3786\"],[0.5555555555555556,\"#d8576b\"],[0.6666666666666666,\"#ed7953\"],[0.7777777777777778,\"#fb9f3a\"],[0.8888888888888888,\"#fdca26\"],[1.0,\"#f0f921\"]]}],\"choropleth\":[{\"type\":\"choropleth\",\"colorbar\":{\"outlinewidth\":0,\"ticks\":\"\"}}],\"histogram2d\":[{\"type\":\"histogram2d\",\"colorbar\":{\"outlinewidth\":0,\"ticks\":\"\"},\"colorscale\":[[0.0,\"#0d0887\"],[0.1111111111111111,\"#46039f\"],[0.2222222222222222,\"#7201a8\"],[0.3333333333333333,\"#9c179e\"],[0.4444444444444444,\"#bd3786\"],[0.5555555555555556,\"#d8576b\"],[0.6666666666666666,\"#ed7953\"],[0.7777777777777778,\"#fb9f3a\"],[0.8888888888888888,\"#fdca26\"],[1.0,\"#f0f921\"]]}],\"heatmap\":[{\"type\":\"heatmap\",\"colorbar\":{\"outlinewidth\":0,\"ticks\":\"\"},\"colorscale\":[[0.0,\"#0d0887\"],[0.1111111111111111,\"#46039f\"],[0.2222222222222222,\"#7201a8\"],[0.3333333333333333,\"#9c179e\"],[0.4444444444444444,\"#bd3786\"],[0.5555555555555556,\"#d8576b\"],[0.6666666666666666,\"#ed7953\"],[0.7777777777777778,\"#fb9f3a\"],[0.8888888888888888,\"#fdca26\"],[1.0,\"#f0f921\"]]}],\"heatmapgl\":[{\"type\":\"heatmapgl\",\"colorbar\":{\"outlinewidth\":0,\"ticks\":\"\"},\"colorscale\":[[0.0,\"#0d0887\"],[0.1111111111111111,\"#46039f\"],[0.2222222222222222,\"#7201a8\"],[0.3333333333333333,\"#9c179e\"],[0.4444444444444444,\"#bd3786\"],[0.5555555555555556,\"#d8576b\"],[0.6666666666666666,\"#ed7953\"],[0.7777777777777778,\"#fb9f3a\"],[0.8888888888888888,\"#fdca26\"],[1.0,\"#f0f921\"]]}],\"contourcarpet\":[{\"type\":\"contourcarpet\",\"colorbar\":{\"outlinewidth\":0,\"ticks\":\"\"}}],\"contour\":[{\"type\":\"contour\",\"colorbar\":{\"outlinewidth\":0,\"ticks\":\"\"},\"colorscale\":[[0.0,\"#0d0887\"],[0.1111111111111111,\"#46039f\"],[0.2222222222222222,\"#7201a8\"],[0.3333333333333333,\"#9c179e\"],[0.4444444444444444,\"#bd3786\"],[0.5555555555555556,\"#d8576b\"],[0.6666666666666666,\"#ed7953\"],[0.7777777777777778,\"#fb9f3a\"],[0.8888888888888888,\"#fdca26\"],[1.0,\"#f0f921\"]]}],\"surface\":[{\"type\":\"surface\",\"colorbar\":{\"outlinewidth\":0,\"ticks\":\"\"},\"colorscale\":[[0.0,\"#0d0887\"],[0.1111111111111111,\"#46039f\"],[0.2222222222222222,\"#7201a8\"],[0.3333333333333333,\"#9c179e\"],[0.4444444444444444,\"#bd3786\"],[0.5555555555555556,\"#d8576b\"],[0.6666666666666666,\"#ed7953\"],[0.7777777777777778,\"#fb9f3a\"],[0.8888888888888888,\"#fdca26\"],[1.0,\"#f0f921\"]]}],\"mesh3d\":[{\"type\":\"mesh3d\",\"colorbar\":{\"outlinewidth\":0,\"ticks\":\"\"}}],\"scatter\":[{\"fillpattern\":{\"fillmode\":\"overlay\",\"size\":10,\"solidity\":0.2},\"type\":\"scatter\"}],\"parcoords\":[{\"type\":\"parcoords\",\"line\":{\"colorbar\":{\"outlinewidth\":0,\"ticks\":\"\"}}}],\"scatterpolargl\":[{\"type\":\"scatterpolargl\",\"marker\":{\"colorbar\":{\"outlinewidth\":0,\"ticks\":\"\"}}}],\"bar\":[{\"error_x\":{\"color\":\"#2a3f5f\"},\"error_y\":{\"color\":\"#2a3f5f\"},\"marker\":{\"line\":{\"color\":\"#E5ECF6\",\"width\":0.5},\"pattern\":{\"fillmode\":\"overlay\",\"size\":10,\"solidity\":0.2}},\"type\":\"bar\"}],\"scattergeo\":[{\"type\":\"scattergeo\",\"marker\":{\"colorbar\":{\"outlinewidth\":0,\"ticks\":\"\"}}}],\"scatterpolar\":[{\"type\":\"scatterpolar\",\"marker\":{\"colorbar\":{\"outlinewidth\":0,\"ticks\":\"\"}}}],\"histogram\":[{\"marker\":{\"pattern\":{\"fillmode\":\"overlay\",\"size\":10,\"solidity\":0.2}},\"type\":\"histogram\"}],\"scattergl\":[{\"type\":\"scattergl\",\"marker\":{\"colorbar\":{\"outlinewidth\":0,\"ticks\":\"\"}}}],\"scatter3d\":[{\"type\":\"scatter3d\",\"line\":{\"colorbar\":{\"outlinewidth\":0,\"ticks\":\"\"}},\"marker\":{\"colorbar\":{\"outlinewidth\":0,\"ticks\":\"\"}}}],\"scattermapbox\":[{\"type\":\"scattermapbox\",\"marker\":{\"colorbar\":{\"outlinewidth\":0,\"ticks\":\"\"}}}],\"scatterternary\":[{\"type\":\"scatterternary\",\"marker\":{\"colorbar\":{\"outlinewidth\":0,\"ticks\":\"\"}}}],\"scattercarpet\":[{\"type\":\"scattercarpet\",\"marker\":{\"colorbar\":{\"outlinewidth\":0,\"ticks\":\"\"}}}],\"carpet\":[{\"aaxis\":{\"endlinecolor\":\"#2a3f5f\",\"gridcolor\":\"white\",\"linecolor\":\"white\",\"minorgridcolor\":\"white\",\"startlinecolor\":\"#2a3f5f\"},\"baxis\":{\"endlinecolor\":\"#2a3f5f\",\"gridcolor\":\"white\",\"linecolor\":\"white\",\"minorgridcolor\":\"white\",\"startlinecolor\":\"#2a3f5f\"},\"type\":\"carpet\"}],\"table\":[{\"cells\":{\"fill\":{\"color\":\"#EBF0F8\"},\"line\":{\"color\":\"white\"}},\"header\":{\"fill\":{\"color\":\"#C8D4E3\"},\"line\":{\"color\":\"white\"}},\"type\":\"table\"}],\"barpolar\":[{\"marker\":{\"line\":{\"color\":\"#E5ECF6\",\"width\":0.5},\"pattern\":{\"fillmode\":\"overlay\",\"size\":10,\"solidity\":0.2}},\"type\":\"barpolar\"}],\"pie\":[{\"automargin\":true,\"type\":\"pie\"}]},\"layout\":{\"autotypenumbers\":\"strict\",\"colorway\":[\"#636efa\",\"#EF553B\",\"#00cc96\",\"#ab63fa\",\"#FFA15A\",\"#19d3f3\",\"#FF6692\",\"#B6E880\",\"#FF97FF\",\"#FECB52\"],\"font\":{\"color\":\"#2a3f5f\"},\"hovermode\":\"closest\",\"hoverlabel\":{\"align\":\"left\"},\"paper_bgcolor\":\"white\",\"plot_bgcolor\":\"#E5ECF6\",\"polar\":{\"bgcolor\":\"#E5ECF6\",\"angularaxis\":{\"gridcolor\":\"white\",\"linecolor\":\"white\",\"ticks\":\"\"},\"radialaxis\":{\"gridcolor\":\"white\",\"linecolor\":\"white\",\"ticks\":\"\"}},\"ternary\":{\"bgcolor\":\"#E5ECF6\",\"aaxis\":{\"gridcolor\":\"white\",\"linecolor\":\"white\",\"ticks\":\"\"},\"baxis\":{\"gridcolor\":\"white\",\"linecolor\":\"white\",\"ticks\":\"\"},\"caxis\":{\"gridcolor\":\"white\",\"linecolor\":\"white\",\"ticks\":\"\"}},\"coloraxis\":{\"colorbar\":{\"outlinewidth\":0,\"ticks\":\"\"}},\"colorscale\":{\"sequential\":[[0.0,\"#0d0887\"],[0.1111111111111111,\"#46039f\"],[0.2222222222222222,\"#7201a8\"],[0.3333333333333333,\"#9c179e\"],[0.4444444444444444,\"#bd3786\"],[0.5555555555555556,\"#d8576b\"],[0.6666666666666666,\"#ed7953\"],[0.7777777777777778,\"#fb9f3a\"],[0.8888888888888888,\"#fdca26\"],[1.0,\"#f0f921\"]],\"sequentialminus\":[[0.0,\"#0d0887\"],[0.1111111111111111,\"#46039f\"],[0.2222222222222222,\"#7201a8\"],[0.3333333333333333,\"#9c179e\"],[0.4444444444444444,\"#bd3786\"],[0.5555555555555556,\"#d8576b\"],[0.6666666666666666,\"#ed7953\"],[0.7777777777777778,\"#fb9f3a\"],[0.8888888888888888,\"#fdca26\"],[1.0,\"#f0f921\"]],\"diverging\":[[0,\"#8e0152\"],[0.1,\"#c51b7d\"],[0.2,\"#de77ae\"],[0.3,\"#f1b6da\"],[0.4,\"#fde0ef\"],[0.5,\"#f7f7f7\"],[0.6,\"#e6f5d0\"],[0.7,\"#b8e186\"],[0.8,\"#7fbc41\"],[0.9,\"#4d9221\"],[1,\"#276419\"]]},\"xaxis\":{\"gridcolor\":\"white\",\"linecolor\":\"white\",\"ticks\":\"\",\"title\":{\"standoff\":15},\"zerolinecolor\":\"white\",\"automargin\":true,\"zerolinewidth\":2},\"yaxis\":{\"gridcolor\":\"white\",\"linecolor\":\"white\",\"ticks\":\"\",\"title\":{\"standoff\":15},\"zerolinecolor\":\"white\",\"automargin\":true,\"zerolinewidth\":2},\"scene\":{\"xaxis\":{\"backgroundcolor\":\"#E5ECF6\",\"gridcolor\":\"white\",\"linecolor\":\"white\",\"showbackground\":true,\"ticks\":\"\",\"zerolinecolor\":\"white\",\"gridwidth\":2},\"yaxis\":{\"backgroundcolor\":\"#E5ECF6\",\"gridcolor\":\"white\",\"linecolor\":\"white\",\"showbackground\":true,\"ticks\":\"\",\"zerolinecolor\":\"white\",\"gridwidth\":2},\"zaxis\":{\"backgroundcolor\":\"#E5ECF6\",\"gridcolor\":\"white\",\"linecolor\":\"white\",\"showbackground\":true,\"ticks\":\"\",\"zerolinecolor\":\"white\",\"gridwidth\":2}},\"shapedefaults\":{\"line\":{\"color\":\"#2a3f5f\"}},\"annotationdefaults\":{\"arrowcolor\":\"#2a3f5f\",\"arrowhead\":0,\"arrowwidth\":1},\"geo\":{\"bgcolor\":\"white\",\"landcolor\":\"#E5ECF6\",\"subunitcolor\":\"white\",\"showland\":true,\"showlakes\":true,\"lakecolor\":\"white\"},\"title\":{\"x\":0.05},\"mapbox\":{\"style\":\"light\"}}},\"xaxis\":{\"anchor\":\"y\",\"domain\":[0.0,1.0],\"title\":{\"text\":\"yr_wk\"}},\"yaxis\":{\"anchor\":\"x\",\"domain\":[0.0,1.0],\"title\":{\"text\":\"TweetCountbyWeek\"}},\"legend\":{\"tracegroupgap\":0},\"margin\":{\"t\":60},\"barmode\":\"relative\"},                        {\"responsive\": true}                    ).then(function(){\n",
       "                            \n",
       "var gd = document.getElementById('673d55a0-558f-4db7-bcf7-fb960d61b665');\n",
       "var x = new MutationObserver(function (mutations, observer) {{\n",
       "        var display = window.getComputedStyle(gd).display;\n",
       "        if (!display || display === 'none') {{\n",
       "            console.log([gd, 'removed!']);\n",
       "            Plotly.purge(gd);\n",
       "            observer.disconnect();\n",
       "        }}\n",
       "}});\n",
       "\n",
       "// Listen for the removal of the full notebook cells\n",
       "var notebookContainer = gd.closest('#notebook-container');\n",
       "if (notebookContainer) {{\n",
       "    x.observe(notebookContainer, {childList: true});\n",
       "}}\n",
       "\n",
       "// Listen for the clearing of the current output cell\n",
       "var outputEl = gd.closest('.output');\n",
       "if (outputEl) {{\n",
       "    x.observe(outputEl, {childList: true});\n",
       "}}\n",
       "\n",
       "                        })                };                });            </script>        </div>"
      ]
     },
     "metadata": {},
     "output_type": "display_data"
    }
   ],
   "source": [
    "tempdf = ps.DataFrame(dfWeek)\n",
    "\n",
    "fig = tempdf.plot(kind='bar', x='yr_wk', y='TweetCountbyWeek')\n",
    "fig.show()\n",
    "\n",
    "\n",
    "fig.write_image(\"Images/TweetCountByWeek.svg\")\n",
    "fig.write_html(\"Images/TweetCountByWeek.html\")"
   ]
  },
  {
   "cell_type": "code",
   "execution_count": 172,
   "id": "8673fae3",
   "metadata": {},
   "outputs": [
    {
     "name": "stderr",
     "output_type": "stream",
     "text": [
      "[Stage 770:===============================================>         (5 + 1) / 6]\r"
     ]
    },
    {
     "name": "stdout",
     "output_type": "stream",
     "text": [
      "+----+-----+-------+-----------------+\n",
      "|Year|Month|MonthYr|TweetCountbyMonth|\n",
      "+----+-----+-------+-----------------+\n",
      "|2021|    1| 2021_1|                1|\n",
      "|2021|    2| 2021_2|             3022|\n",
      "|2021|    3| 2021_3|             3298|\n",
      "|2021|    4| 2021_4|              981|\n",
      "|2021|    5| 2021_5|             2222|\n",
      "|2021|    6| 2021_6|             1935|\n",
      "|2021|    7| 2021_7|             2366|\n",
      "|2021|    8| 2021_8|             2102|\n",
      "|2021|    9| 2021_9|             2447|\n",
      "|2021|   10|2021_10|             2553|\n",
      "|2021|   11|2021_11|             2440|\n",
      "|2021|   12|2021_12|             1880|\n",
      "|2022|    1| 2022_1|              450|\n",
      "|2022|    2| 2022_2|              824|\n",
      "|2022|    3| 2022_3|             2605|\n",
      "|2022|    4| 2022_4|             2614|\n",
      "|2022|    5| 2022_5|             2487|\n",
      "|2022|    6| 2022_6|             2235|\n",
      "|2022|    7| 2022_7|             2844|\n",
      "|2022|    8| 2022_8|             2271|\n",
      "+----+-----+-------+-----------------+\n",
      "only showing top 20 rows\n",
      "\n"
     ]
    },
    {
     "name": "stderr",
     "output_type": "stream",
     "text": [
      "\r",
      "                                                                                \r"
     ]
    }
   ],
   "source": [
    "# get the tweet count by month\n",
    "dfMonth = spark.sql(\"SELECT Year, Month, SUM(TweetCount) as TweetCountbyMonth \\\n",
    "                     FROM tweetsByDay GROUP BY Year, Month\")\n",
    "dfMonth.createOrReplaceTempView(\"tweetsByMonth\")\n",
    "dfMonth = spark.sql(\"SELECT Year, Month, CONCAT(Year, '_', Month) AS MonthYr, TweetCountbyMonth  \\\n",
    "                     FROM tweetsByMonth ORDER BY Year, Month \")\n",
    "dfMonth.show()"
   ]
  },
  {
   "cell_type": "code",
   "execution_count": 173,
   "id": "2280681b",
   "metadata": {},
   "outputs": [
    {
     "name": "stderr",
     "output_type": "stream",
     "text": [
      "2023-05-18 18:03:46,630 WARN window.WindowExec: No Partition Defined for Window operation! Moving all data to a single partition, this can cause serious performance degradation.\n",
      "2023-05-18 18:03:46,631 WARN window.WindowExec: No Partition Defined for Window operation! Moving all data to a single partition, this can cause serious performance degradation.\n",
      "2023-05-18 18:04:03,880 WARN window.WindowExec: No Partition Defined for Window operation! Moving all data to a single partition, this can cause serious performance degradation.\n",
      "2023-05-18 18:04:03,943 WARN window.WindowExec: No Partition Defined for Window operation! Moving all data to a single partition, this can cause serious performance degradation.\n",
      "2023-05-18 18:04:03,974 WARN window.WindowExec: No Partition Defined for Window operation! Moving all data to a single partition, this can cause serious performance degradation.\n",
      "2023-05-18 18:04:04,015 WARN window.WindowExec: No Partition Defined for Window operation! Moving all data to a single partition, this can cause serious performance degradation.\n",
      "2023-05-18 18:04:04,015 WARN window.WindowExec: No Partition Defined for Window operation! Moving all data to a single partition, this can cause serious performance degradation.\n"
     ]
    },
    {
     "data": {
      "application/vnd.plotly.v1+json": {
       "config": {
        "plotlyServerURL": "https://plot.ly"
       },
       "data": [
        {
         "alignmentgroup": "True",
         "hovertemplate": "MonthYr=%{x}<br>TweetCountbyMonth=%{y}<extra></extra>",
         "legendgroup": "",
         "marker": {
          "color": "#636efa",
          "pattern": {
           "shape": ""
          }
         },
         "name": "",
         "offsetgroup": "",
         "orientation": "v",
         "showlegend": false,
         "textposition": "auto",
         "type": "bar",
         "x": [
          "2021_1",
          "2021_2",
          "2021_3",
          "2021_4",
          "2021_5",
          "2021_6",
          "2021_7",
          "2021_8",
          "2021_9",
          "2021_10",
          "2021_11",
          "2021_12",
          "2022_1",
          "2022_2",
          "2022_3",
          "2022_4",
          "2022_5",
          "2022_6",
          "2022_7",
          "2022_8",
          "2022_9",
          "2022_10",
          "2022_11"
         ],
         "xaxis": "x",
         "y": [
          1,
          3022,
          3298,
          981,
          2222,
          1935,
          2366,
          2102,
          2447,
          2553,
          2440,
          1880,
          450,
          824,
          2605,
          2614,
          2487,
          2235,
          2844,
          2271,
          2244,
          2666,
          2405
         ],
         "yaxis": "y"
        }
       ],
       "layout": {
        "barmode": "relative",
        "legend": {
         "tracegroupgap": 0
        },
        "margin": {
         "t": 60
        },
        "template": {
         "data": {
          "bar": [
           {
            "error_x": {
             "color": "#2a3f5f"
            },
            "error_y": {
             "color": "#2a3f5f"
            },
            "marker": {
             "line": {
              "color": "#E5ECF6",
              "width": 0.5
             },
             "pattern": {
              "fillmode": "overlay",
              "size": 10,
              "solidity": 0.2
             }
            },
            "type": "bar"
           }
          ],
          "barpolar": [
           {
            "marker": {
             "line": {
              "color": "#E5ECF6",
              "width": 0.5
             },
             "pattern": {
              "fillmode": "overlay",
              "size": 10,
              "solidity": 0.2
             }
            },
            "type": "barpolar"
           }
          ],
          "carpet": [
           {
            "aaxis": {
             "endlinecolor": "#2a3f5f",
             "gridcolor": "white",
             "linecolor": "white",
             "minorgridcolor": "white",
             "startlinecolor": "#2a3f5f"
            },
            "baxis": {
             "endlinecolor": "#2a3f5f",
             "gridcolor": "white",
             "linecolor": "white",
             "minorgridcolor": "white",
             "startlinecolor": "#2a3f5f"
            },
            "type": "carpet"
           }
          ],
          "choropleth": [
           {
            "colorbar": {
             "outlinewidth": 0,
             "ticks": ""
            },
            "type": "choropleth"
           }
          ],
          "contour": [
           {
            "colorbar": {
             "outlinewidth": 0,
             "ticks": ""
            },
            "colorscale": [
             [
              0,
              "#0d0887"
             ],
             [
              0.1111111111111111,
              "#46039f"
             ],
             [
              0.2222222222222222,
              "#7201a8"
             ],
             [
              0.3333333333333333,
              "#9c179e"
             ],
             [
              0.4444444444444444,
              "#bd3786"
             ],
             [
              0.5555555555555556,
              "#d8576b"
             ],
             [
              0.6666666666666666,
              "#ed7953"
             ],
             [
              0.7777777777777778,
              "#fb9f3a"
             ],
             [
              0.8888888888888888,
              "#fdca26"
             ],
             [
              1,
              "#f0f921"
             ]
            ],
            "type": "contour"
           }
          ],
          "contourcarpet": [
           {
            "colorbar": {
             "outlinewidth": 0,
             "ticks": ""
            },
            "type": "contourcarpet"
           }
          ],
          "heatmap": [
           {
            "colorbar": {
             "outlinewidth": 0,
             "ticks": ""
            },
            "colorscale": [
             [
              0,
              "#0d0887"
             ],
             [
              0.1111111111111111,
              "#46039f"
             ],
             [
              0.2222222222222222,
              "#7201a8"
             ],
             [
              0.3333333333333333,
              "#9c179e"
             ],
             [
              0.4444444444444444,
              "#bd3786"
             ],
             [
              0.5555555555555556,
              "#d8576b"
             ],
             [
              0.6666666666666666,
              "#ed7953"
             ],
             [
              0.7777777777777778,
              "#fb9f3a"
             ],
             [
              0.8888888888888888,
              "#fdca26"
             ],
             [
              1,
              "#f0f921"
             ]
            ],
            "type": "heatmap"
           }
          ],
          "heatmapgl": [
           {
            "colorbar": {
             "outlinewidth": 0,
             "ticks": ""
            },
            "colorscale": [
             [
              0,
              "#0d0887"
             ],
             [
              0.1111111111111111,
              "#46039f"
             ],
             [
              0.2222222222222222,
              "#7201a8"
             ],
             [
              0.3333333333333333,
              "#9c179e"
             ],
             [
              0.4444444444444444,
              "#bd3786"
             ],
             [
              0.5555555555555556,
              "#d8576b"
             ],
             [
              0.6666666666666666,
              "#ed7953"
             ],
             [
              0.7777777777777778,
              "#fb9f3a"
             ],
             [
              0.8888888888888888,
              "#fdca26"
             ],
             [
              1,
              "#f0f921"
             ]
            ],
            "type": "heatmapgl"
           }
          ],
          "histogram": [
           {
            "marker": {
             "pattern": {
              "fillmode": "overlay",
              "size": 10,
              "solidity": 0.2
             }
            },
            "type": "histogram"
           }
          ],
          "histogram2d": [
           {
            "colorbar": {
             "outlinewidth": 0,
             "ticks": ""
            },
            "colorscale": [
             [
              0,
              "#0d0887"
             ],
             [
              0.1111111111111111,
              "#46039f"
             ],
             [
              0.2222222222222222,
              "#7201a8"
             ],
             [
              0.3333333333333333,
              "#9c179e"
             ],
             [
              0.4444444444444444,
              "#bd3786"
             ],
             [
              0.5555555555555556,
              "#d8576b"
             ],
             [
              0.6666666666666666,
              "#ed7953"
             ],
             [
              0.7777777777777778,
              "#fb9f3a"
             ],
             [
              0.8888888888888888,
              "#fdca26"
             ],
             [
              1,
              "#f0f921"
             ]
            ],
            "type": "histogram2d"
           }
          ],
          "histogram2dcontour": [
           {
            "colorbar": {
             "outlinewidth": 0,
             "ticks": ""
            },
            "colorscale": [
             [
              0,
              "#0d0887"
             ],
             [
              0.1111111111111111,
              "#46039f"
             ],
             [
              0.2222222222222222,
              "#7201a8"
             ],
             [
              0.3333333333333333,
              "#9c179e"
             ],
             [
              0.4444444444444444,
              "#bd3786"
             ],
             [
              0.5555555555555556,
              "#d8576b"
             ],
             [
              0.6666666666666666,
              "#ed7953"
             ],
             [
              0.7777777777777778,
              "#fb9f3a"
             ],
             [
              0.8888888888888888,
              "#fdca26"
             ],
             [
              1,
              "#f0f921"
             ]
            ],
            "type": "histogram2dcontour"
           }
          ],
          "mesh3d": [
           {
            "colorbar": {
             "outlinewidth": 0,
             "ticks": ""
            },
            "type": "mesh3d"
           }
          ],
          "parcoords": [
           {
            "line": {
             "colorbar": {
              "outlinewidth": 0,
              "ticks": ""
             }
            },
            "type": "parcoords"
           }
          ],
          "pie": [
           {
            "automargin": true,
            "type": "pie"
           }
          ],
          "scatter": [
           {
            "fillpattern": {
             "fillmode": "overlay",
             "size": 10,
             "solidity": 0.2
            },
            "type": "scatter"
           }
          ],
          "scatter3d": [
           {
            "line": {
             "colorbar": {
              "outlinewidth": 0,
              "ticks": ""
             }
            },
            "marker": {
             "colorbar": {
              "outlinewidth": 0,
              "ticks": ""
             }
            },
            "type": "scatter3d"
           }
          ],
          "scattercarpet": [
           {
            "marker": {
             "colorbar": {
              "outlinewidth": 0,
              "ticks": ""
             }
            },
            "type": "scattercarpet"
           }
          ],
          "scattergeo": [
           {
            "marker": {
             "colorbar": {
              "outlinewidth": 0,
              "ticks": ""
             }
            },
            "type": "scattergeo"
           }
          ],
          "scattergl": [
           {
            "marker": {
             "colorbar": {
              "outlinewidth": 0,
              "ticks": ""
             }
            },
            "type": "scattergl"
           }
          ],
          "scattermapbox": [
           {
            "marker": {
             "colorbar": {
              "outlinewidth": 0,
              "ticks": ""
             }
            },
            "type": "scattermapbox"
           }
          ],
          "scatterpolar": [
           {
            "marker": {
             "colorbar": {
              "outlinewidth": 0,
              "ticks": ""
             }
            },
            "type": "scatterpolar"
           }
          ],
          "scatterpolargl": [
           {
            "marker": {
             "colorbar": {
              "outlinewidth": 0,
              "ticks": ""
             }
            },
            "type": "scatterpolargl"
           }
          ],
          "scatterternary": [
           {
            "marker": {
             "colorbar": {
              "outlinewidth": 0,
              "ticks": ""
             }
            },
            "type": "scatterternary"
           }
          ],
          "surface": [
           {
            "colorbar": {
             "outlinewidth": 0,
             "ticks": ""
            },
            "colorscale": [
             [
              0,
              "#0d0887"
             ],
             [
              0.1111111111111111,
              "#46039f"
             ],
             [
              0.2222222222222222,
              "#7201a8"
             ],
             [
              0.3333333333333333,
              "#9c179e"
             ],
             [
              0.4444444444444444,
              "#bd3786"
             ],
             [
              0.5555555555555556,
              "#d8576b"
             ],
             [
              0.6666666666666666,
              "#ed7953"
             ],
             [
              0.7777777777777778,
              "#fb9f3a"
             ],
             [
              0.8888888888888888,
              "#fdca26"
             ],
             [
              1,
              "#f0f921"
             ]
            ],
            "type": "surface"
           }
          ],
          "table": [
           {
            "cells": {
             "fill": {
              "color": "#EBF0F8"
             },
             "line": {
              "color": "white"
             }
            },
            "header": {
             "fill": {
              "color": "#C8D4E3"
             },
             "line": {
              "color": "white"
             }
            },
            "type": "table"
           }
          ]
         },
         "layout": {
          "annotationdefaults": {
           "arrowcolor": "#2a3f5f",
           "arrowhead": 0,
           "arrowwidth": 1
          },
          "autotypenumbers": "strict",
          "coloraxis": {
           "colorbar": {
            "outlinewidth": 0,
            "ticks": ""
           }
          },
          "colorscale": {
           "diverging": [
            [
             0,
             "#8e0152"
            ],
            [
             0.1,
             "#c51b7d"
            ],
            [
             0.2,
             "#de77ae"
            ],
            [
             0.3,
             "#f1b6da"
            ],
            [
             0.4,
             "#fde0ef"
            ],
            [
             0.5,
             "#f7f7f7"
            ],
            [
             0.6,
             "#e6f5d0"
            ],
            [
             0.7,
             "#b8e186"
            ],
            [
             0.8,
             "#7fbc41"
            ],
            [
             0.9,
             "#4d9221"
            ],
            [
             1,
             "#276419"
            ]
           ],
           "sequential": [
            [
             0,
             "#0d0887"
            ],
            [
             0.1111111111111111,
             "#46039f"
            ],
            [
             0.2222222222222222,
             "#7201a8"
            ],
            [
             0.3333333333333333,
             "#9c179e"
            ],
            [
             0.4444444444444444,
             "#bd3786"
            ],
            [
             0.5555555555555556,
             "#d8576b"
            ],
            [
             0.6666666666666666,
             "#ed7953"
            ],
            [
             0.7777777777777778,
             "#fb9f3a"
            ],
            [
             0.8888888888888888,
             "#fdca26"
            ],
            [
             1,
             "#f0f921"
            ]
           ],
           "sequentialminus": [
            [
             0,
             "#0d0887"
            ],
            [
             0.1111111111111111,
             "#46039f"
            ],
            [
             0.2222222222222222,
             "#7201a8"
            ],
            [
             0.3333333333333333,
             "#9c179e"
            ],
            [
             0.4444444444444444,
             "#bd3786"
            ],
            [
             0.5555555555555556,
             "#d8576b"
            ],
            [
             0.6666666666666666,
             "#ed7953"
            ],
            [
             0.7777777777777778,
             "#fb9f3a"
            ],
            [
             0.8888888888888888,
             "#fdca26"
            ],
            [
             1,
             "#f0f921"
            ]
           ]
          },
          "colorway": [
           "#636efa",
           "#EF553B",
           "#00cc96",
           "#ab63fa",
           "#FFA15A",
           "#19d3f3",
           "#FF6692",
           "#B6E880",
           "#FF97FF",
           "#FECB52"
          ],
          "font": {
           "color": "#2a3f5f"
          },
          "geo": {
           "bgcolor": "white",
           "lakecolor": "white",
           "landcolor": "#E5ECF6",
           "showlakes": true,
           "showland": true,
           "subunitcolor": "white"
          },
          "hoverlabel": {
           "align": "left"
          },
          "hovermode": "closest",
          "mapbox": {
           "style": "light"
          },
          "paper_bgcolor": "white",
          "plot_bgcolor": "#E5ECF6",
          "polar": {
           "angularaxis": {
            "gridcolor": "white",
            "linecolor": "white",
            "ticks": ""
           },
           "bgcolor": "#E5ECF6",
           "radialaxis": {
            "gridcolor": "white",
            "linecolor": "white",
            "ticks": ""
           }
          },
          "scene": {
           "xaxis": {
            "backgroundcolor": "#E5ECF6",
            "gridcolor": "white",
            "gridwidth": 2,
            "linecolor": "white",
            "showbackground": true,
            "ticks": "",
            "zerolinecolor": "white"
           },
           "yaxis": {
            "backgroundcolor": "#E5ECF6",
            "gridcolor": "white",
            "gridwidth": 2,
            "linecolor": "white",
            "showbackground": true,
            "ticks": "",
            "zerolinecolor": "white"
           },
           "zaxis": {
            "backgroundcolor": "#E5ECF6",
            "gridcolor": "white",
            "gridwidth": 2,
            "linecolor": "white",
            "showbackground": true,
            "ticks": "",
            "zerolinecolor": "white"
           }
          },
          "shapedefaults": {
           "line": {
            "color": "#2a3f5f"
           }
          },
          "ternary": {
           "aaxis": {
            "gridcolor": "white",
            "linecolor": "white",
            "ticks": ""
           },
           "baxis": {
            "gridcolor": "white",
            "linecolor": "white",
            "ticks": ""
           },
           "bgcolor": "#E5ECF6",
           "caxis": {
            "gridcolor": "white",
            "linecolor": "white",
            "ticks": ""
           }
          },
          "title": {
           "x": 0.05
          },
          "xaxis": {
           "automargin": true,
           "gridcolor": "white",
           "linecolor": "white",
           "ticks": "",
           "title": {
            "standoff": 15
           },
           "zerolinecolor": "white",
           "zerolinewidth": 2
          },
          "yaxis": {
           "automargin": true,
           "gridcolor": "white",
           "linecolor": "white",
           "ticks": "",
           "title": {
            "standoff": 15
           },
           "zerolinecolor": "white",
           "zerolinewidth": 2
          }
         }
        },
        "xaxis": {
         "anchor": "y",
         "domain": [
          0,
          1
         ],
         "title": {
          "text": "MonthYr"
         }
        },
        "yaxis": {
         "anchor": "x",
         "domain": [
          0,
          1
         ],
         "title": {
          "text": "TweetCountbyMonth"
         }
        }
       }
      },
      "text/html": [
       "<div>                            <div id=\"f103c5d9-a692-4284-b3ef-7078795c79b4\" class=\"plotly-graph-div\" style=\"height:525px; width:100%;\"></div>            <script type=\"text/javascript\">                require([\"plotly\"], function(Plotly) {                    window.PLOTLYENV=window.PLOTLYENV || {};                                    if (document.getElementById(\"f103c5d9-a692-4284-b3ef-7078795c79b4\")) {                    Plotly.newPlot(                        \"f103c5d9-a692-4284-b3ef-7078795c79b4\",                        [{\"alignmentgroup\":\"True\",\"hovertemplate\":\"MonthYr=%{x}<br>TweetCountbyMonth=%{y}<extra></extra>\",\"legendgroup\":\"\",\"marker\":{\"color\":\"#636efa\",\"pattern\":{\"shape\":\"\"}},\"name\":\"\",\"offsetgroup\":\"\",\"orientation\":\"v\",\"showlegend\":false,\"textposition\":\"auto\",\"x\":[\"2021_1\",\"2021_2\",\"2021_3\",\"2021_4\",\"2021_5\",\"2021_6\",\"2021_7\",\"2021_8\",\"2021_9\",\"2021_10\",\"2021_11\",\"2021_12\",\"2022_1\",\"2022_2\",\"2022_3\",\"2022_4\",\"2022_5\",\"2022_6\",\"2022_7\",\"2022_8\",\"2022_9\",\"2022_10\",\"2022_11\"],\"xaxis\":\"x\",\"y\":[1,3022,3298,981,2222,1935,2366,2102,2447,2553,2440,1880,450,824,2605,2614,2487,2235,2844,2271,2244,2666,2405],\"yaxis\":\"y\",\"type\":\"bar\"}],                        {\"template\":{\"data\":{\"histogram2dcontour\":[{\"type\":\"histogram2dcontour\",\"colorbar\":{\"outlinewidth\":0,\"ticks\":\"\"},\"colorscale\":[[0.0,\"#0d0887\"],[0.1111111111111111,\"#46039f\"],[0.2222222222222222,\"#7201a8\"],[0.3333333333333333,\"#9c179e\"],[0.4444444444444444,\"#bd3786\"],[0.5555555555555556,\"#d8576b\"],[0.6666666666666666,\"#ed7953\"],[0.7777777777777778,\"#fb9f3a\"],[0.8888888888888888,\"#fdca26\"],[1.0,\"#f0f921\"]]}],\"choropleth\":[{\"type\":\"choropleth\",\"colorbar\":{\"outlinewidth\":0,\"ticks\":\"\"}}],\"histogram2d\":[{\"type\":\"histogram2d\",\"colorbar\":{\"outlinewidth\":0,\"ticks\":\"\"},\"colorscale\":[[0.0,\"#0d0887\"],[0.1111111111111111,\"#46039f\"],[0.2222222222222222,\"#7201a8\"],[0.3333333333333333,\"#9c179e\"],[0.4444444444444444,\"#bd3786\"],[0.5555555555555556,\"#d8576b\"],[0.6666666666666666,\"#ed7953\"],[0.7777777777777778,\"#fb9f3a\"],[0.8888888888888888,\"#fdca26\"],[1.0,\"#f0f921\"]]}],\"heatmap\":[{\"type\":\"heatmap\",\"colorbar\":{\"outlinewidth\":0,\"ticks\":\"\"},\"colorscale\":[[0.0,\"#0d0887\"],[0.1111111111111111,\"#46039f\"],[0.2222222222222222,\"#7201a8\"],[0.3333333333333333,\"#9c179e\"],[0.4444444444444444,\"#bd3786\"],[0.5555555555555556,\"#d8576b\"],[0.6666666666666666,\"#ed7953\"],[0.7777777777777778,\"#fb9f3a\"],[0.8888888888888888,\"#fdca26\"],[1.0,\"#f0f921\"]]}],\"heatmapgl\":[{\"type\":\"heatmapgl\",\"colorbar\":{\"outlinewidth\":0,\"ticks\":\"\"},\"colorscale\":[[0.0,\"#0d0887\"],[0.1111111111111111,\"#46039f\"],[0.2222222222222222,\"#7201a8\"],[0.3333333333333333,\"#9c179e\"],[0.4444444444444444,\"#bd3786\"],[0.5555555555555556,\"#d8576b\"],[0.6666666666666666,\"#ed7953\"],[0.7777777777777778,\"#fb9f3a\"],[0.8888888888888888,\"#fdca26\"],[1.0,\"#f0f921\"]]}],\"contourcarpet\":[{\"type\":\"contourcarpet\",\"colorbar\":{\"outlinewidth\":0,\"ticks\":\"\"}}],\"contour\":[{\"type\":\"contour\",\"colorbar\":{\"outlinewidth\":0,\"ticks\":\"\"},\"colorscale\":[[0.0,\"#0d0887\"],[0.1111111111111111,\"#46039f\"],[0.2222222222222222,\"#7201a8\"],[0.3333333333333333,\"#9c179e\"],[0.4444444444444444,\"#bd3786\"],[0.5555555555555556,\"#d8576b\"],[0.6666666666666666,\"#ed7953\"],[0.7777777777777778,\"#fb9f3a\"],[0.8888888888888888,\"#fdca26\"],[1.0,\"#f0f921\"]]}],\"surface\":[{\"type\":\"surface\",\"colorbar\":{\"outlinewidth\":0,\"ticks\":\"\"},\"colorscale\":[[0.0,\"#0d0887\"],[0.1111111111111111,\"#46039f\"],[0.2222222222222222,\"#7201a8\"],[0.3333333333333333,\"#9c179e\"],[0.4444444444444444,\"#bd3786\"],[0.5555555555555556,\"#d8576b\"],[0.6666666666666666,\"#ed7953\"],[0.7777777777777778,\"#fb9f3a\"],[0.8888888888888888,\"#fdca26\"],[1.0,\"#f0f921\"]]}],\"mesh3d\":[{\"type\":\"mesh3d\",\"colorbar\":{\"outlinewidth\":0,\"ticks\":\"\"}}],\"scatter\":[{\"fillpattern\":{\"fillmode\":\"overlay\",\"size\":10,\"solidity\":0.2},\"type\":\"scatter\"}],\"parcoords\":[{\"type\":\"parcoords\",\"line\":{\"colorbar\":{\"outlinewidth\":0,\"ticks\":\"\"}}}],\"scatterpolargl\":[{\"type\":\"scatterpolargl\",\"marker\":{\"colorbar\":{\"outlinewidth\":0,\"ticks\":\"\"}}}],\"bar\":[{\"error_x\":{\"color\":\"#2a3f5f\"},\"error_y\":{\"color\":\"#2a3f5f\"},\"marker\":{\"line\":{\"color\":\"#E5ECF6\",\"width\":0.5},\"pattern\":{\"fillmode\":\"overlay\",\"size\":10,\"solidity\":0.2}},\"type\":\"bar\"}],\"scattergeo\":[{\"type\":\"scattergeo\",\"marker\":{\"colorbar\":{\"outlinewidth\":0,\"ticks\":\"\"}}}],\"scatterpolar\":[{\"type\":\"scatterpolar\",\"marker\":{\"colorbar\":{\"outlinewidth\":0,\"ticks\":\"\"}}}],\"histogram\":[{\"marker\":{\"pattern\":{\"fillmode\":\"overlay\",\"size\":10,\"solidity\":0.2}},\"type\":\"histogram\"}],\"scattergl\":[{\"type\":\"scattergl\",\"marker\":{\"colorbar\":{\"outlinewidth\":0,\"ticks\":\"\"}}}],\"scatter3d\":[{\"type\":\"scatter3d\",\"line\":{\"colorbar\":{\"outlinewidth\":0,\"ticks\":\"\"}},\"marker\":{\"colorbar\":{\"outlinewidth\":0,\"ticks\":\"\"}}}],\"scattermapbox\":[{\"type\":\"scattermapbox\",\"marker\":{\"colorbar\":{\"outlinewidth\":0,\"ticks\":\"\"}}}],\"scatterternary\":[{\"type\":\"scatterternary\",\"marker\":{\"colorbar\":{\"outlinewidth\":0,\"ticks\":\"\"}}}],\"scattercarpet\":[{\"type\":\"scattercarpet\",\"marker\":{\"colorbar\":{\"outlinewidth\":0,\"ticks\":\"\"}}}],\"carpet\":[{\"aaxis\":{\"endlinecolor\":\"#2a3f5f\",\"gridcolor\":\"white\",\"linecolor\":\"white\",\"minorgridcolor\":\"white\",\"startlinecolor\":\"#2a3f5f\"},\"baxis\":{\"endlinecolor\":\"#2a3f5f\",\"gridcolor\":\"white\",\"linecolor\":\"white\",\"minorgridcolor\":\"white\",\"startlinecolor\":\"#2a3f5f\"},\"type\":\"carpet\"}],\"table\":[{\"cells\":{\"fill\":{\"color\":\"#EBF0F8\"},\"line\":{\"color\":\"white\"}},\"header\":{\"fill\":{\"color\":\"#C8D4E3\"},\"line\":{\"color\":\"white\"}},\"type\":\"table\"}],\"barpolar\":[{\"marker\":{\"line\":{\"color\":\"#E5ECF6\",\"width\":0.5},\"pattern\":{\"fillmode\":\"overlay\",\"size\":10,\"solidity\":0.2}},\"type\":\"barpolar\"}],\"pie\":[{\"automargin\":true,\"type\":\"pie\"}]},\"layout\":{\"autotypenumbers\":\"strict\",\"colorway\":[\"#636efa\",\"#EF553B\",\"#00cc96\",\"#ab63fa\",\"#FFA15A\",\"#19d3f3\",\"#FF6692\",\"#B6E880\",\"#FF97FF\",\"#FECB52\"],\"font\":{\"color\":\"#2a3f5f\"},\"hovermode\":\"closest\",\"hoverlabel\":{\"align\":\"left\"},\"paper_bgcolor\":\"white\",\"plot_bgcolor\":\"#E5ECF6\",\"polar\":{\"bgcolor\":\"#E5ECF6\",\"angularaxis\":{\"gridcolor\":\"white\",\"linecolor\":\"white\",\"ticks\":\"\"},\"radialaxis\":{\"gridcolor\":\"white\",\"linecolor\":\"white\",\"ticks\":\"\"}},\"ternary\":{\"bgcolor\":\"#E5ECF6\",\"aaxis\":{\"gridcolor\":\"white\",\"linecolor\":\"white\",\"ticks\":\"\"},\"baxis\":{\"gridcolor\":\"white\",\"linecolor\":\"white\",\"ticks\":\"\"},\"caxis\":{\"gridcolor\":\"white\",\"linecolor\":\"white\",\"ticks\":\"\"}},\"coloraxis\":{\"colorbar\":{\"outlinewidth\":0,\"ticks\":\"\"}},\"colorscale\":{\"sequential\":[[0.0,\"#0d0887\"],[0.1111111111111111,\"#46039f\"],[0.2222222222222222,\"#7201a8\"],[0.3333333333333333,\"#9c179e\"],[0.4444444444444444,\"#bd3786\"],[0.5555555555555556,\"#d8576b\"],[0.6666666666666666,\"#ed7953\"],[0.7777777777777778,\"#fb9f3a\"],[0.8888888888888888,\"#fdca26\"],[1.0,\"#f0f921\"]],\"sequentialminus\":[[0.0,\"#0d0887\"],[0.1111111111111111,\"#46039f\"],[0.2222222222222222,\"#7201a8\"],[0.3333333333333333,\"#9c179e\"],[0.4444444444444444,\"#bd3786\"],[0.5555555555555556,\"#d8576b\"],[0.6666666666666666,\"#ed7953\"],[0.7777777777777778,\"#fb9f3a\"],[0.8888888888888888,\"#fdca26\"],[1.0,\"#f0f921\"]],\"diverging\":[[0,\"#8e0152\"],[0.1,\"#c51b7d\"],[0.2,\"#de77ae\"],[0.3,\"#f1b6da\"],[0.4,\"#fde0ef\"],[0.5,\"#f7f7f7\"],[0.6,\"#e6f5d0\"],[0.7,\"#b8e186\"],[0.8,\"#7fbc41\"],[0.9,\"#4d9221\"],[1,\"#276419\"]]},\"xaxis\":{\"gridcolor\":\"white\",\"linecolor\":\"white\",\"ticks\":\"\",\"title\":{\"standoff\":15},\"zerolinecolor\":\"white\",\"automargin\":true,\"zerolinewidth\":2},\"yaxis\":{\"gridcolor\":\"white\",\"linecolor\":\"white\",\"ticks\":\"\",\"title\":{\"standoff\":15},\"zerolinecolor\":\"white\",\"automargin\":true,\"zerolinewidth\":2},\"scene\":{\"xaxis\":{\"backgroundcolor\":\"#E5ECF6\",\"gridcolor\":\"white\",\"linecolor\":\"white\",\"showbackground\":true,\"ticks\":\"\",\"zerolinecolor\":\"white\",\"gridwidth\":2},\"yaxis\":{\"backgroundcolor\":\"#E5ECF6\",\"gridcolor\":\"white\",\"linecolor\":\"white\",\"showbackground\":true,\"ticks\":\"\",\"zerolinecolor\":\"white\",\"gridwidth\":2},\"zaxis\":{\"backgroundcolor\":\"#E5ECF6\",\"gridcolor\":\"white\",\"linecolor\":\"white\",\"showbackground\":true,\"ticks\":\"\",\"zerolinecolor\":\"white\",\"gridwidth\":2}},\"shapedefaults\":{\"line\":{\"color\":\"#2a3f5f\"}},\"annotationdefaults\":{\"arrowcolor\":\"#2a3f5f\",\"arrowhead\":0,\"arrowwidth\":1},\"geo\":{\"bgcolor\":\"white\",\"landcolor\":\"#E5ECF6\",\"subunitcolor\":\"white\",\"showland\":true,\"showlakes\":true,\"lakecolor\":\"white\"},\"title\":{\"x\":0.05},\"mapbox\":{\"style\":\"light\"}}},\"xaxis\":{\"anchor\":\"y\",\"domain\":[0.0,1.0],\"title\":{\"text\":\"MonthYr\"}},\"yaxis\":{\"anchor\":\"x\",\"domain\":[0.0,1.0],\"title\":{\"text\":\"TweetCountbyMonth\"}},\"legend\":{\"tracegroupgap\":0},\"margin\":{\"t\":60},\"barmode\":\"relative\"},                        {\"responsive\": true}                    ).then(function(){\n",
       "                            \n",
       "var gd = document.getElementById('f103c5d9-a692-4284-b3ef-7078795c79b4');\n",
       "var x = new MutationObserver(function (mutations, observer) {{\n",
       "        var display = window.getComputedStyle(gd).display;\n",
       "        if (!display || display === 'none') {{\n",
       "            console.log([gd, 'removed!']);\n",
       "            Plotly.purge(gd);\n",
       "            observer.disconnect();\n",
       "        }}\n",
       "}});\n",
       "\n",
       "// Listen for the removal of the full notebook cells\n",
       "var notebookContainer = gd.closest('#notebook-container');\n",
       "if (notebookContainer) {{\n",
       "    x.observe(notebookContainer, {childList: true});\n",
       "}}\n",
       "\n",
       "// Listen for the clearing of the current output cell\n",
       "var outputEl = gd.closest('.output');\n",
       "if (outputEl) {{\n",
       "    x.observe(outputEl, {childList: true});\n",
       "}}\n",
       "\n",
       "                        })                };                });            </script>        </div>"
      ]
     },
     "metadata": {},
     "output_type": "display_data"
    }
   ],
   "source": [
    "tempdf = ps.DataFrame(dfMonth)\n",
    "\n",
    "fig = tempdf.plot(kind='bar', x='MonthYr', y='TweetCountbyMonth')\n",
    "fig.show()\n",
    "fig.write_image(\"Images/TweetCountByMonth.svg\")\n",
    "fig.write_html(\"Images/TweetCountByMonth.html\")"
   ]
  },
  {
   "cell_type": "markdown",
   "id": "0c854ddd",
   "metadata": {},
   "source": [
    "### Next up is text clean up "
   ]
  },
  {
   "cell_type": "code",
   "execution_count": 174,
   "id": "7232fafd",
   "metadata": {},
   "outputs": [],
   "source": [
    "#%pip install wordcloud\n",
    "#%pip install vadersentiment\n",
    "## sentiment analysis ref: https://www.geeksforgeeks.org/python-sentiment-analysis-using-vader/?ref=lbp\n",
    "from vaderSentiment.vaderSentiment import SentimentIntensityAnalyzer\n",
    "\n",
    "# function to print sentiments\n",
    "# of the sentence.\n",
    "def sentiment_scores(sentence):\n",
    " \n",
    "    # Create a SentimentIntensityAnalyzer object.\n",
    "    sid_obj = SentimentIntensityAnalyzer()\n",
    " \n",
    "    # polarity_scores method of SentimentIntensityAnalyzer\n",
    "    # object gives a sentiment dictionary.\n",
    "    # which contains pos, neg, neu, and compound scores.\n",
    "    sentiment_dict = sid_obj.polarity_scores(sentence)\n",
    "     \n",
    "    print(\"Overall sentiment dictionary is : \", sentiment_dict)\n",
    "    #print(\"sentence was rated as \", sentiment_dict['neg']*100, \"% Negative\")\n",
    "    #print(\"sentence was rated as \", sentiment_dict['neu']*100, \"% Neutral\")\n",
    "    #print(\"sentence was rated as \", sentiment_dict['pos']*100, \"% Positive\")\n",
    " \n",
    "    #print(\"Sentence Overall Rated As\", end = \" \")\n",
    " \n",
    "    # decide sentiment as positive, negative and neutral\n",
    "    if sentiment_dict['compound'] >= 0.05 :\n",
    "        print(\"Positive\")\n",
    " \n",
    "    elif sentiment_dict['compound'] <= - 0.05 :\n",
    "       print(\"Negative\")\n",
    " \n",
    "    else :\n",
    "        print(\"Neutral\")\n",
    "    \n",
    "    return sentiment_dict['compound']"
   ]
  },
  {
   "cell_type": "code",
   "execution_count": 175,
   "id": "7a46273e",
   "metadata": {},
   "outputs": [
    {
     "name": "stderr",
     "output_type": "stream",
     "text": [
      "                                                                                \r"
     ]
    },
    {
     "name": "stdout",
     "output_type": "stream",
     "text": [
      "+-------------------+--------------------+\n",
      "|                 id|                text|\n",
      "+-------------------+--------------------+\n",
      "|1444274428221734923|What a game of ru...|\n",
      "|1444187035678425092|RT @ForcesNews: W...|\n",
      "|1477502056814444544|why are rugby lea...|\n",
      "|1444181687936688129|RT @FindinLangued...|\n",
      "|1576543830710493184|RT @T2Rugby: The ...|\n",
      "|1477389703984865287|RT @labour_histor...|\n",
      "|1477323861788086273|RT @rugby_sport_x...|\n",
      "|1477243301812183043|RT @scarlets_rugb...|\n",
      "|1430144262642061313|RT @premrugby: We...|\n",
      "|1478080333912612865|@AdamWarwick86 @i...|\n",
      "|1444634089756168199|@rugby_ap @ColmGr...|\n",
      "|1577002075170357248|RT @raysrugby: I'...|\n",
      "|1576920479192915969|The Women's @rugb...|\n",
      "|1511701614725320710|RT @MattHardyJour...|\n",
      "|1477194664642072577|RT @berwickrugby:...|\n",
      "|1444399334578032646|RT @therugbynetwo...|\n",
      "|1477681992468733955|RT @premrugby: Is...|\n",
      "|1356290118911483915|English rugby can...|\n",
      "|1576619382695788544|@Dermotom @malahi...|\n",
      "|1444582998972657671|RT @FreemanrugbyJ...|\n",
      "+-------------------+--------------------+\n",
      "only showing top 20 rows\n",
      "\n"
     ]
    },
    {
     "name": "stderr",
     "output_type": "stream",
     "text": [
      "                                                                                \r"
     ]
    },
    {
     "data": {
      "text/plain": [
       "48726"
      ]
     },
     "execution_count": 175,
     "metadata": {},
     "output_type": "execute_result"
    }
   ],
   "source": [
    "dfText = spark.sql(\"SELECT DISTINCT id, text AS text FROM en_tweets\")\n",
    "dfText.createOrReplaceTempView(\"text\")\n",
    "dfText.show()\n",
    "dfText.count()\n"
   ]
  },
  {
   "cell_type": "markdown",
   "id": "5e65d385",
   "metadata": {},
   "source": [
    "Count the number of words in the tweets "
   ]
  },
  {
   "cell_type": "code",
   "execution_count": 176,
   "id": "73fdd30a",
   "metadata": {},
   "outputs": [
    {
     "name": "stderr",
     "output_type": "stream",
     "text": [
      "[Stage 808:===============================================>         (5 + 1) / 6]\r"
     ]
    },
    {
     "name": "stdout",
     "output_type": "stream",
     "text": [
      "+-----+-----+\n",
      "| Word|count|\n",
      "+-----+-----+\n",
      "|  the|25866|\n",
      "|   RT|24751|\n",
      "|rugby|24389|\n",
      "|   to|16333|\n",
      "|    a|14673|\n",
      "|   in|11306|\n",
      "|   of|11130|\n",
      "|  and|10737|\n",
      "|  for| 8756|\n",
      "|   is| 7034|\n",
      "|   on| 5671|\n",
      "|    I| 5522|\n",
      "|   at| 4442|\n",
      "|  you| 4143|\n",
      "| this| 4107|\n",
      "| with| 4051|\n",
      "|     | 3820|\n",
      "| that| 3302|\n",
      "|  are| 3197|\n",
      "| from| 3192|\n",
      "+-----+-----+\n",
      "only showing top 20 rows\n",
      "\n"
     ]
    },
    {
     "name": "stderr",
     "output_type": "stream",
     "text": [
      "\r",
      "                                                                                \r"
     ]
    }
   ],
   "source": [
    "from pyspark.sql.functions import * \n",
    "from pyspark.sql.types import StringType, ArrayType\n",
    "# heavy reliance on SQL functions in the following code\n",
    "\n",
    "dfWord = dfText.withColumn(\"Word\", explode(split(col(\"text\"), ' '))).groupBy(\"Word\").count().orderBy(desc(\"count\"))\n",
    "\n",
    "dfWord.show()"
   ]
  },
  {
   "cell_type": "markdown",
   "id": "0a213b15",
   "metadata": {},
   "source": [
    "Count the number of characters including spaces"
   ]
  },
  {
   "cell_type": "code",
   "execution_count": 177,
   "id": "9a1d5e4a",
   "metadata": {},
   "outputs": [
    {
     "name": "stderr",
     "output_type": "stream",
     "text": [
      "[Stage 814:===============================================>         (5 + 1) / 6]\r"
     ]
    },
    {
     "name": "stdout",
     "output_type": "stream",
     "text": [
      "+--------------------+----+\n",
      "|                text|char|\n",
      "+--------------------+----+\n",
      "|RT @Jabu_Macdonal...| 163|\n",
      "|RT @alt_11013: Ka...| 152|\n",
      "|RT @OfficialKRU: ...| 152|\n",
      "|RT @SportsNewsSLi...| 152|\n",
      "|RT @OfficialKRU: ...| 152|\n",
      "+--------------------+----+\n",
      "only showing top 5 rows\n",
      "\n"
     ]
    },
    {
     "name": "stderr",
     "output_type": "stream",
     "text": [
      "\r",
      "                                                                                \r"
     ]
    }
   ],
   "source": [
    "dfChar = spark.sql(\"SELECT text, LENGTH(text) AS char FROM text ORDER BY char DESC\")\n",
    "dfChar.show(5)"
   ]
  },
  {
   "cell_type": "markdown",
   "id": "24d9bf93",
   "metadata": {},
   "source": [
    "Check for special characters i.e. Hashtags"
   ]
  },
  {
   "cell_type": "code",
   "execution_count": 178,
   "id": "c3d58adb",
   "metadata": {},
   "outputs": [
    {
     "name": "stderr",
     "output_type": "stream",
     "text": [
      "\r",
      "[Stage 817:>                                                        (0 + 1) / 1]\r"
     ]
    },
    {
     "name": "stdout",
     "output_type": "stream",
     "text": [
      "+--------------------+--------------------+\n",
      "|                text|            Hashtags|\n",
      "+--------------------+--------------------+\n",
      "|RT @ForcesNews: W...|            [#rugby]|\n",
      "|RT @loverugbyleag...|[#RugbyLeague, #IMG]|\n",
      "|RT @leinsterrugby...|    [#LEIvZEB, #URC]|\n",
      "|RT @rugbyworldcup...|              [#OTD]|\n",
      "|The latest The iS...|[#rugby, #tokyo2020]|\n",
      "|Check out my rece...|[#england, #rugby...|\n",
      "|RT @WomenBoks: Wh...|  [#TogetherMovingF]|\n",
      "|@DoveMenUK @Scotl...|            [#AsOne]|\n",
      "|RT @Pac12Network:...|      [#NeverForget]|\n",
      "|#rugby history Bo...|            [#rugby]|\n",
      "|RT @ultimaterugby...|          [#USAvNZL]|\n",
      "|RT @wrugbymuseum:...|        [#OnThisDay]|\n",
      "|RT @kcbrugby: Wak...|[#believe, #commi...|\n",
      "|@_jodieounsley ha...|[#womensrugby, #w...|\n",
      "|Great to see so m...|             [#BFEO]|\n",
      "|RT @btsportrugby:...|    [#GallagherPrem]|\n",
      "|RT @KobsrugbyUg: ...|[#MilekeShield, #...|\n",
      "|RT @WalesRugbyL: ...|      [#rugbyleague]|\n",
      "|I’m I’m of these ...|[#rugby, #footbal...|\n",
      "|RT @piratesrugbyU...|[#PiratesStrong, ...|\n",
      "+--------------------+--------------------+\n",
      "only showing top 20 rows\n",
      "\n"
     ]
    },
    {
     "name": "stderr",
     "output_type": "stream",
     "text": [
      "\r",
      "                                                                                \r"
     ]
    }
   ],
   "source": [
    "dfSpecChar = spark.sql(\"SELECT text, regexp_extract_all(text, '(#\\\\\\\\w+)', 1) AS Hashtags \\\n",
    "                        FROM text WHERE text like '%#%' \")\n",
    "dfSpecChar.show()"
   ]
  },
  {
   "cell_type": "markdown",
   "id": "e59219aa",
   "metadata": {},
   "source": [
    "Check for upper case "
   ]
  },
  {
   "cell_type": "code",
   "execution_count": 179,
   "id": "ad4f54f8",
   "metadata": {},
   "outputs": [
    {
     "name": "stderr",
     "output_type": "stream",
     "text": [
      "[Stage 820:===============================================>         (5 + 1) / 6]\r"
     ]
    },
    {
     "name": "stdout",
     "output_type": "stream",
     "text": [
      "+----+\n",
      "|text|\n",
      "+----+\n",
      "+----+\n",
      "\n"
     ]
    },
    {
     "name": "stderr",
     "output_type": "stream",
     "text": [
      "\r",
      "                                                                                \r"
     ]
    }
   ],
   "source": [
    "dfUpper = spark.sql(\"SELECT text FROM text WHERE translate(text, 'ABCDEFGHIJKLMNOPQRSTUVWXYZ', '') = ''\")\n",
    "dfUpper.show()\n"
   ]
  },
  {
   "cell_type": "markdown",
   "id": "fd4fcee0",
   "metadata": {},
   "source": [
    "Check for numbers \n",
    "\n"
   ]
  },
  {
   "cell_type": "code",
   "execution_count": 180,
   "id": "f0800f96",
   "metadata": {},
   "outputs": [
    {
     "name": "stderr",
     "output_type": "stream",
     "text": [
      "[Stage 823:===============================================>         (5 + 1) / 6]\r"
     ]
    },
    {
     "name": "stdout",
     "output_type": "stream",
     "text": [
      "+--------------------+\n",
      "|                text|\n",
      "+--------------------+\n",
      "|why are rugby lea...|\n",
      "|RT @FindinLangued...|\n",
      "|RT @T2Rugby: The ...|\n",
      "|RT @rugby_sport_x...|\n",
      "|RT @scarlets_rugb...|\n",
      "|@AdamWarwick86 @i...|\n",
      "|@rugby_ap @ColmGr...|\n",
      "|The Women's @rugb...|\n",
      "|So football as en...|\n",
      "|RT @BorkThunder: ...|\n",
      "|@ShaneWilliams11 ...|\n",
      "|@MoistenedTart @J...|\n",
      "|RT @MattHardyJour...|\n",
      "|RT @berwickrugby:...|\n",
      "|RT @therugbynetwo...|\n",
      "|RT @premrugby: Is...|\n",
      "|English rugby can...|\n",
      "|@Dermotom @malahi...|\n",
      "|RT @HowdleSi: Fan...|\n",
      "|Tag Coaches Corne...|\n",
      "+--------------------+\n",
      "only showing top 20 rows\n",
      "\n"
     ]
    },
    {
     "name": "stderr",
     "output_type": "stream",
     "text": [
      "\r",
      "                                                                                \r"
     ]
    }
   ],
   "source": [
    "dfNum = spark.sql(\"SELECT text FROM text WHERE translate(text, '0123456789', '') <> text\")\n",
    "dfNum.show()"
   ]
  },
  {
   "cell_type": "markdown",
   "id": "36f71ccd",
   "metadata": {},
   "source": [
    "This check does not really advance our understanding of the data, a lot of twitter names have numbers in them"
   ]
  },
  {
   "cell_type": "code",
   "execution_count": 181,
   "id": "2be29cf6",
   "metadata": {},
   "outputs": [
    {
     "name": "stderr",
     "output_type": "stream",
     "text": [
      "                                                                                \r"
     ]
    },
    {
     "data": {
      "text/plain": [
       "29132"
      ]
     },
     "execution_count": 181,
     "metadata": {},
     "output_type": "execute_result"
    }
   ],
   "source": [
    "dfNum.count()"
   ]
  },
  {
   "cell_type": "markdown",
   "id": "c1388760",
   "metadata": {},
   "source": [
    "Leave only text in the strings, all non alpha numeric characters are removed with the application of the regular expression "
   ]
  },
  {
   "cell_type": "code",
   "execution_count": 182,
   "id": "e2f71dcc",
   "metadata": {},
   "outputs": [
    {
     "name": "stderr",
     "output_type": "stream",
     "text": [
      "                                                                                \r"
     ]
    },
    {
     "data": {
      "text/plain": [
       "[Row(id=1444274428221734923, orignialText='What a game of rugby. Top quality from both teams. So much better than last week 😌', text='What a game of rugby Top quality from both teams So much better than last week '),\n",
       " Row(id=1444187035678425092, orignialText=\"RT @ForcesNews: We've got more LIVE #rugby for you tomorrow. 🏉\\n\\n@ArmyRugbyLeague 🆚 @RAFRugbyLeague\\n\\n✅ Two matches\\n\\nWatch live on our Facebo…\", text='RT ForcesNews Weve got more LIVE rugby for you tomorrow \\n\\nArmyRugbyLeague  RAFRugbyLeague\\n\\n Two matches\\n\\nWatch live on our Facebo'),\n",
       " Row(id=1477502056814444544, orignialText='why are rugby league players to consistently stupid? Blake Ferguson getting caught with cocaine in Japan is yet ano… https://t.co/2V396Qztle', text='why are rugby league players to consistently stupid Blake Ferguson getting caught with cocaine in Japan is yet ano httpstco2V396Qztle'),\n",
       " Row(id=1444181687936688129, orignialText=\"RT @FindinLanguedoc: Narbonne. Women's rugby in full swing (Finding Languedoc). In Carcassonne, this\\nSaturday, October 2, the Mayrevielle p…\", text='RT FindinLanguedoc Narbonne Womens rugby in full swing Finding Languedoc In Carcassonne this\\nSaturday October 2 the Mayrevielle p'),\n",
       " Row(id=1576543830710493184, orignialText='RT @T2Rugby: The state of Romanian youth rugby is truly one of the saddest things in rugby right now.\\n\\nThey are on course to suffer an abso…', text='RT T2Rugby The state of Romanian youth rugby is truly one of the saddest things in rugby right now\\n\\nThey are on course to suffer an abso')]"
      ]
     },
     "execution_count": 182,
     "metadata": {},
     "output_type": "execute_result"
    }
   ],
   "source": [
    "\n",
    "pattern = r'[^a-zA-Z0-9\\s]'\n",
    "\n",
    "dfText = spark.sql(\"SELECT id, text AS orignialText, text FROM text\")\n",
    "dfText = dfText.withColumn(\"text\", regexp_replace('text', pattern, ''))\n",
    "dfText.take(5)"
   ]
  },
  {
   "cell_type": "code",
   "execution_count": 183,
   "id": "9495e67e",
   "metadata": {},
   "outputs": [
    {
     "name": "stderr",
     "output_type": "stream",
     "text": [
      "                                                                                \r"
     ]
    },
    {
     "data": {
      "text/plain": [
       "[Row(id=1444274428221734923, orignialText='What a game of rugby. Top quality from both teams. So much better than last week 😌', text='what a game of rugby top quality from both teams so much better than last week'),\n",
       " Row(id=1444187035678425092, orignialText=\"RT @ForcesNews: We've got more LIVE #rugby for you tomorrow. 🏉\\n\\n@ArmyRugbyLeague 🆚 @RAFRugbyLeague\\n\\n✅ Two matches\\n\\nWatch live on our Facebo…\", text='rt forcesnews weve got more live rugby for you tomorrow \\n\\narmyrugbyleague  rafrugbyleague\\n\\n two matches\\n\\nwatch live on our facebo'),\n",
       " Row(id=1477502056814444544, orignialText='why are rugby league players to consistently stupid? Blake Ferguson getting caught with cocaine in Japan is yet ano… https://t.co/2V396Qztle', text='why are rugby league players to consistently stupid blake ferguson getting caught with cocaine in japan is yet ano httpstco2v396qztle'),\n",
       " Row(id=1444181687936688129, orignialText=\"RT @FindinLanguedoc: Narbonne. Women's rugby in full swing (Finding Languedoc). In Carcassonne, this\\nSaturday, October 2, the Mayrevielle p…\", text='rt findinlanguedoc narbonne womens rugby in full swing finding languedoc in carcassonne this\\nsaturday october 2 the mayrevielle p'),\n",
       " Row(id=1576543830710493184, orignialText='RT @T2Rugby: The state of Romanian youth rugby is truly one of the saddest things in rugby right now.\\n\\nThey are on course to suffer an abso…', text='rt t2rugby the state of romanian youth rugby is truly one of the saddest things in rugby right now\\n\\nthey are on course to suffer an abso')]"
      ]
     },
     "execution_count": 183,
     "metadata": {},
     "output_type": "execute_result"
    }
   ],
   "source": [
    "dfText.createOrReplaceTempView(\"text\") # this is cleaned txt\n",
    "dfText = spark.sql(\"SELECT id, orignialText, LOWER(TRIM(text)) AS text FROM text\")\n",
    "\n",
    "dfText.take(5)"
   ]
  },
  {
   "cell_type": "code",
   "execution_count": 184,
   "id": "c5673de1",
   "metadata": {},
   "outputs": [
    {
     "name": "stderr",
     "output_type": "stream",
     "text": [
      "[Stage 838:===============================================>         (5 + 1) / 6]\r"
     ]
    },
    {
     "name": "stdout",
     "output_type": "stream",
     "text": [
      "+-------------------+--------------------+--------------------+\n",
      "|                 id|        orignialText|                text|\n",
      "+-------------------+--------------------+--------------------+\n",
      "|1444274428221734923|What a game of ru...|what a game of ru...|\n",
      "|1444187035678425092|RT @ForcesNews: W...|rt forcesnews wev...|\n",
      "|1477502056814444544|why are rugby lea...|why are rugby lea...|\n",
      "|1444181687936688129|RT @FindinLangued...|rt findinlanguedo...|\n",
      "|1576543830710493184|RT @T2Rugby: The ...|rt t2rugby the st...|\n",
      "+-------------------+--------------------+--------------------+\n",
      "only showing top 5 rows\n",
      "\n"
     ]
    },
    {
     "name": "stderr",
     "output_type": "stream",
     "text": [
      "\r",
      "                                                                                \r"
     ]
    }
   ],
   "source": [
    "#now build a word cloud\n",
    "from wordcloud import WordCloud, STOPWORDS\n",
    "dfText.createOrReplaceTempView(\"text\") # this is the trimmed and lowercase txt\n",
    "dfText = spark.sql(\"SELECT id, orignialText, text FROM text\")\n",
    "dfText.show(5)"
   ]
  },
  {
   "cell_type": "markdown",
   "id": "e99875b0",
   "metadata": {},
   "source": [
    "Fix the spelling"
   ]
  },
  {
   "cell_type": "code",
   "execution_count": 185,
   "id": "b37b93c2",
   "metadata": {},
   "outputs": [
    {
     "name": "stderr",
     "output_type": "stream",
     "text": [
      "[Stage 841:===============================================>         (5 + 1) / 6]\r"
     ]
    },
    {
     "name": "stdout",
     "output_type": "stream",
     "text": [
      "+-------------------+--------------------+--------------------+\n",
      "|                 id|        orignialText|                text|\n",
      "+-------------------+--------------------+--------------------+\n",
      "|1477389703984865287|RT @labour_histor...|rt labourhistory ...|\n",
      "|1477323861788086273|RT @rugby_sport_x...|rt rugbysportxx  ...|\n",
      "|1477243301812183043|RT @scarlets_rugb...|rt scarletsrugby ...|\n",
      "|1511701614725320710|RT @MattHardyJour...|rt matthardyjourn...|\n",
      "|1477194664642072577|RT @berwickrugby:...|rt berwickrugby w...|\n",
      "+-------------------+--------------------+--------------------+\n",
      "only showing top 5 rows\n",
      "\n"
     ]
    },
    {
     "name": "stderr",
     "output_type": "stream",
     "text": [
      "\r",
      "                                                                                \r"
     ]
    }
   ],
   "source": [
    "#%pip install textblob\n",
    "from textblob import TextBlob\n",
    "\n",
    "dfText = spark.sql(\"SELECT id, orignialText, text FROM text\")\n",
    "#dfText = dfText.withColumn(\"newtext\", col(TextBlob(\"text\").correct()))\n",
    "\n",
    "dfText.show(5)\n",
    "dfText.createOrReplaceTempView(\"text\") # this is the preprocessed SQL Style txt"
   ]
  },
  {
   "cell_type": "code",
   "execution_count": 186,
   "id": "fa68d3a6",
   "metadata": {},
   "outputs": [
    {
     "name": "stderr",
     "output_type": "stream",
     "text": [
      "[Stage 844:===============================================>         (5 + 1) / 6]\r"
     ]
    },
    {
     "name": "stdout",
     "output_type": "stream",
     "text": [
      "+-------------------+--------------------+--------------------+\n",
      "|                 id|        orignialText|                text|\n",
      "+-------------------+--------------------+--------------------+\n",
      "|1477389703984865287|RT @labour_histor...|rt labourhistory ...|\n",
      "|1477323861788086273|RT @rugby_sport_x...|rt rugbysportxx  ...|\n",
      "|1477243301812183043|RT @scarlets_rugb...|rt scarletsrugby ...|\n",
      "|1511701614725320710|RT @MattHardyJour...|rt matthardyjourn...|\n",
      "|1477194664642072577|RT @berwickrugby:...|rt berwickrugby w...|\n",
      "+-------------------+--------------------+--------------------+\n",
      "only showing top 5 rows\n",
      "\n"
     ]
    },
    {
     "name": "stderr",
     "output_type": "stream",
     "text": [
      "\r",
      "                                                                                \r"
     ]
    }
   ],
   "source": [
    "\n",
    "\n",
    "\n",
    "dfText = spark.sql(\"SELECT * FROM text\")\n",
    "\n",
    "dfText.show(5)"
   ]
  },
  {
   "cell_type": "markdown",
   "id": "4cfa2907",
   "metadata": {},
   "source": [
    "### Tokenize and Stem the tweets"
   ]
  },
  {
   "cell_type": "code",
   "execution_count": 187,
   "id": "96a9baf1",
   "metadata": {},
   "outputs": [],
   "source": [
    "#%pip install nltk"
   ]
  },
  {
   "cell_type": "code",
   "execution_count": 188,
   "id": "7a60c90c",
   "metadata": {},
   "outputs": [],
   "source": [
    "# stackoverflow ref: https://stackoverflow.com/questions/53579444\n",
    "\n",
    "from pyspark.ml.feature import Tokenizer, StopWordsRemover, CountVectorizer, IDF, StringIndexer\n",
    "from nltk.stem.snowball import SnowballStemmer"
   ]
  },
  {
   "cell_type": "code",
   "execution_count": 189,
   "id": "7f8bd404",
   "metadata": {},
   "outputs": [
    {
     "name": "stderr",
     "output_type": "stream",
     "text": [
      "[Stage 848:===============================================>         (5 + 1) / 6]\r"
     ]
    },
    {
     "name": "stdout",
     "output_type": "stream",
     "text": [
      "+--------------------+-------------------+--------------------+--------------------+\n",
      "|                text|                 id|        orignialText|              tokens|\n",
      "+--------------------+-------------------+--------------------+--------------------+\n",
      "|diddlyone kazimkz...|1429767303747489792|@DIDDLYONE @kazim...|[diddlyone, kazim...|\n",
      "|rt rugbysportxx  ...|1477323861788086273|RT @rugby_sport_x...|[rt, rugbysportxx...|\n",
      "|rt rugbysportxx  ...|1477323861788086273|RT @rugby_sport_x...|[rt, rugbysportxx...|\n",
      "|rt rugbysportxx  ...|1477323861788086273|RT @rugby_sport_x...|[rt, rugbysportxx...|\n",
      "|rt rugbysportxx  ...|1477323861788086273|RT @rugby_sport_x...|[rt, rugbysportxx...|\n",
      "+--------------------+-------------------+--------------------+--------------------+\n",
      "only showing top 5 rows\n",
      "\n"
     ]
    },
    {
     "name": "stderr",
     "output_type": "stream",
     "text": [
      "\r",
      "[Stage 852:=============================================>           (4 + 1) / 5]\r",
      "\r",
      "                                                                                \r"
     ]
    }
   ],
   "source": [
    "# Tokenize text\n",
    "tokenizer = Tokenizer(inputCol=\"text\", outputCol=\"tokens\")\n",
    "dfTextTok = tokenizer.transform(dfText).select(\"text\",\"tokens\")\n",
    "dfText = dfText.join(dfTextTok, on=['text'], how='left_outer')\n",
    "dfText.show(5)"
   ]
  },
  {
   "cell_type": "code",
   "execution_count": 190,
   "id": "780c3062",
   "metadata": {},
   "outputs": [
    {
     "name": "stderr",
     "output_type": "stream",
     "text": [
      "[Stage 857:===============================================>         (5 + 1) / 6]\r"
     ]
    },
    {
     "name": "stdout",
     "output_type": "stream",
     "text": [
      "+-------------------+--------------------+--------------------+--------------------+\n",
      "|                 id|                text|              tokens|            filtered|\n",
      "+-------------------+--------------------+--------------------+--------------------+\n",
      "|1576543830710493184|rt t2rugby the st...|[rt, t2rugby, the...|[rt, t2rugby, sta...|\n",
      "|1444274428221734923|what a game of ru...|[what, a, game, o...|[game, rugby, top...|\n",
      "|1444187035678425092|rt forcesnews wev...|[rt, forcesnews, ...|[rt, forcesnews, ...|\n",
      "|1444181687936688129|rt findinlanguedo...|[rt, findinlangue...|[rt, findinlangue...|\n",
      "|1477389703984865287|rt labourhistory ...|[rt, labourhistor...|[rt, labourhistor...|\n",
      "+-------------------+--------------------+--------------------+--------------------+\n",
      "only showing top 5 rows\n",
      "\n"
     ]
    },
    {
     "name": "stderr",
     "output_type": "stream",
     "text": [
      "\r",
      "                                                                                \r"
     ]
    }
   ],
   "source": [
    "# Remove stopwords\n",
    "remover = StopWordsRemover(inputCol=\"tokens\", outputCol=\"filtered\")\n",
    "dfText = remover.transform(dfText).select(\"id\", \"text\",\"tokens\",\"filtered\")\n",
    "dfText.show(5)"
   ]
  },
  {
   "cell_type": "markdown",
   "id": "734132fd",
   "metadata": {},
   "source": [
    "Now recheck for the most common words and decide if they need to be removed "
   ]
  },
  {
   "cell_type": "code",
   "execution_count": 191,
   "id": "aadb3c3a",
   "metadata": {},
   "outputs": [],
   "source": [
    "#dfWord = dfText.withColumn(\"Word\", explode(split(col(\"filtered\"), ' '))).groupBy(\"Word\").count().orderBy(desc(\"count\").limit(10))\n",
    "\n",
    "#dfWord.show()"
   ]
  },
  {
   "cell_type": "markdown",
   "id": "911b9595",
   "metadata": {},
   "source": [
    "Now look at rare words "
   ]
  },
  {
   "cell_type": "code",
   "execution_count": 192,
   "id": "fec13397",
   "metadata": {},
   "outputs": [],
   "source": [
    "#dfWord = dfText.withColumn(\"Word\", explode(split(col(\"text\"), ' '))).groupBy(\"Word\").count().orderBy(asc(\"count\").limit(10))\n",
    "\n",
    "#dfWord.show()"
   ]
  },
  {
   "cell_type": "markdown",
   "id": "c8fcdc7c",
   "metadata": {},
   "source": [
    "Decided to stem the words as per this page https://stackoverflow.com/questions/53579444"
   ]
  },
  {
   "cell_type": "code",
   "execution_count": 193,
   "id": "125a892b",
   "metadata": {},
   "outputs": [
    {
     "name": "stderr",
     "output_type": "stream",
     "text": [
      "                                                                                \r"
     ]
    },
    {
     "name": "stdout",
     "output_type": "stream",
     "text": [
      "+-------------------+--------------------+--------------------+--------------------+--------------------+\n",
      "|                 id|                text|              tokens|            filtered|    filtered_stemmed|\n",
      "+-------------------+--------------------+--------------------+--------------------+--------------------+\n",
      "|1576543830710493184|rt t2rugby the st...|[rt, t2rugby, the...|[rt, t2rugby, sta...|[rt, t2rugbi, sta...|\n",
      "|1444274428221734923|what a game of ru...|[what, a, game, o...|[game, rugby, top...|[game, rugbi, top...|\n",
      "|1356893087864250369|rugbygayy yeah bu...|[rugbygayy, yeah,...|[rugbygayy, yeah,...|[rugbygayi, yeah,...|\n",
      "|1444187035678425092|rt forcesnews wev...|[rt, forcesnews, ...|[rt, forcesnews, ...|[rt, forcesnew, w...|\n",
      "|1444181687936688129|rt findinlanguedo...|[rt, findinlangue...|[rt, findinlangue...|[rt, findinlangue...|\n",
      "+-------------------+--------------------+--------------------+--------------------+--------------------+\n",
      "only showing top 5 rows\n",
      "\n"
     ]
    }
   ],
   "source": [
    "# stem the words\n",
    "stemmer = SnowballStemmer(language='english')\n",
    "stemmer_udf = udf(lambda tokens: [stemmer.stem(token) for token in tokens], ArrayType(StringType()))\n",
    "dfText = dfText.withColumn(\"filtered_stemmed\", stemmer_udf(\"filtered\"))\n",
    "dfText.show(5)"
   ]
  },
  {
   "cell_type": "code",
   "execution_count": 194,
   "id": "c9e0bc94",
   "metadata": {},
   "outputs": [
    {
     "name": "stderr",
     "output_type": "stream",
     "text": [
      "                                                                                \r"
     ]
    },
    {
     "name": "stdout",
     "output_type": "stream",
     "text": [
      "+-------------------+--------------------+--------------------+--------------------+--------------------+\n",
      "|                 id|                text|              tokens|            filtered|    filtered_stemmed|\n",
      "+-------------------+--------------------+--------------------+--------------------+--------------------+\n",
      "|1477323861788086273|rt rugbysportxx  ...|[rt, rugbysportxx...|[rt, rugbysportxx...|[rugbysportxx, ch...|\n",
      "|1477323861788086273|rt rugbysportxx  ...|[rt, rugbysportxx...|[rt, rugbysportxx...|[rugbysportxx, ch...|\n",
      "|1477323861788086273|rt rugbysportxx  ...|[rt, rugbysportxx...|[rt, rugbysportxx...|[rugbysportxx, ch...|\n",
      "|1477323861788086273|rt rugbysportxx  ...|[rt, rugbysportxx...|[rt, rugbysportxx...|[rugbysportxx, ch...|\n",
      "|1477323861788086273|rt rugbysportxx  ...|[rt, rugbysportxx...|[rt, rugbysportxx...|[rugbysportxx, ch...|\n",
      "+-------------------+--------------------+--------------------+--------------------+--------------------+\n",
      "only showing top 5 rows\n",
      "\n"
     ]
    }
   ],
   "source": [
    "# Filter out short words\n",
    "filterShortWords = udf(lambda row: [x for x in row if len(x) >= 4], ArrayType(StringType()))\n",
    "dfText = dfText.withColumn(\"filtered_stemmed\", filterShortWords(\"filtered_stemmed\"))\n",
    "\n",
    "dfText.show(5)\n"
   ]
  },
  {
   "cell_type": "code",
   "execution_count": 195,
   "id": "6ae79004",
   "metadata": {},
   "outputs": [
    {
     "name": "stderr",
     "output_type": "stream",
     "text": [
      "                                                                                \r"
     ]
    },
    {
     "data": {
      "text/plain": [
       "110992"
      ]
     },
     "execution_count": 195,
     "metadata": {},
     "output_type": "execute_result"
    }
   ],
   "source": [
    "dfText.count()"
   ]
  },
  {
   "cell_type": "code",
   "execution_count": 196,
   "id": "3a0c9e92",
   "metadata": {},
   "outputs": [
    {
     "name": "stderr",
     "output_type": "stream",
     "text": [
      "                                                                                \r"
     ]
    },
    {
     "name": "stdout",
     "output_type": "stream",
     "text": [
      "Found 2 items\r\n",
      "-rw-r--r--   1 sba22230 supergroup          0 2023-05-18 18:11 /ca4/rugby_twitter.parquet/_SUCCESS\r\n",
      "-rw-r--r--   1 sba22230 supergroup   12883520 2023-05-18 18:11 /ca4/rugby_twitter.parquet/part-00000-cd431531-9956-4dea-afee-2766393b332b-c000.snappy.parquet\r\n"
     ]
    }
   ],
   "source": [
    "# clean up hadoop outplut location\n",
    "!hadoop fs -rm -R -f /ca4/rugby_twitter.parquet\n",
    "\n",
    "# write it to hadoop\n",
    "dfText.coalesce(1).write.parquet(\"/ca4/rugby_twitter.parquet\")\n",
    "\n",
    "# check if the file was written out\n",
    "!hadoop fs -ls /ca4/rugby_twitter.parquet\n",
    "\n",
    "# output to the project folder \n",
    "!hadoop fs -get '/ca4/rugby_twitter.parquet' './'"
   ]
  },
  {
   "cell_type": "code",
   "execution_count": 197,
   "id": "8726e7a9",
   "metadata": {},
   "outputs": [
    {
     "name": "stderr",
     "output_type": "stream",
     "text": [
      "[Stage 905:===============================================>         (5 + 1) / 6]\r"
     ]
    },
    {
     "name": "stdout",
     "output_type": "stream",
     "text": [
      "+-------------------+----+-----+---+------+-----------+-----------+-------------+--------------+----+\n",
      "|                 id|Year|Month|Day|wkofYr|quote_count|reply_count|retweet_count|favorite_count|lang|\n",
      "+-------------------+----+-----+---+------+-----------+-----------+-------------+--------------+----+\n",
      "|1576199117604372480|2022|   10|  1|    39|          0|          0|            0|             0|  en|\n",
      "|1444404896208465922|2021|   10|  2|    39|          0|          0|            0|             0|  en|\n",
      "|1477742977636356098|2022|    1|  2|    52|          0|          0|            0|             0|  en|\n",
      "|1478691234289967109|2022|    1|  5|     1|          0|          0|            0|             0|  en|\n",
      "|1431734084213092353|2021|    8| 28|    34|          0|          0|            0|             0|  en|\n",
      "|1577754675943772164|2022|   10|  5|    40|          0|          0|            0|             0|  en|\n",
      "|1431658960013062145|2021|    8| 28|    34|          0|          0|            0|             0|  en|\n",
      "|1357310630852763657|2021|    2|  4|     5|          0|          0|            0|             0|  en|\n",
      "|1431633097934651402|2021|    8| 28|    34|          0|          0|            0|             0|  en|\n",
      "|1431557654976081922|2021|    8| 28|    34|          0|          0|            0|             0|  en|\n",
      "|1399875660974280708|2021|    6|  1|    22|          0|          0|            0|             0|  en|\n",
      "|1479532678772928522|2022|    1|  7|     1|          0|          0|            0|             0|  en|\n",
      "|1432092596525010944|2021|    8| 29|    34|          0|          0|            0|             0|  en|\n",
      "|1446150158706610179|2021|   10|  7|    40|          0|          0|            0|             0|  en|\n",
      "|1377985529661251585|2021|    4|  2|    13|          0|          0|            0|             0|  en|\n",
      "|1577965880088166400|2022|   10|  6|    40|          0|          0|            0|             0|  en|\n",
      "|1358056071894597634|2021|    2|  6|     5|          0|          0|            0|             0|  en|\n",
      "|1400456446219669506|2021|    6|  3|    22|          0|          0|            0|             0|  en|\n",
      "|1446866134767177729|2021|   10|  9|    40|          0|          0|            0|             0|  en|\n",
      "|1446839777773424643|2021|   10|  9|    40|          0|          0|            0|             0|  en|\n",
      "+-------------------+----+-----+---+------+-----------+-----------+-------------+--------------+----+\n",
      "only showing top 20 rows\n",
      "\n"
     ]
    },
    {
     "name": "stderr",
     "output_type": "stream",
     "text": [
      "\r",
      "                                                                                \r"
     ]
    }
   ],
   "source": [
    "# select tweet id, geo, lang, quoted_status,quoted_status.geo \n",
    "# Having a look at some the data\n",
    "dfdashboard = spark.sql(\"SELECT DISTINCT id, CAST(substring(created_at, 27, 4) AS INT) as Year, \\\n",
    "                    CAST(from_unixtime(unix_timestamp(substring(created_at, 5, 3), 'MMM'), 'MM') As INT) as Month, \\\n",
    "                    CAST(substring(created_at, 9, 2) AS INT) as Day,\\\n",
    "                    weekofyear(make_date(CAST(substring(created_at, 27, 4) AS INT),\\\n",
    "                    CAST(from_unixtime(unix_timestamp(substring(created_at, 5, 3), 'MMM'), 'MM') As INT),\\\n",
    "                    CAST(substring(created_at, 9, 2) AS INT))) as wkofYr, \\\n",
    "                    quote_count, reply_count, retweet_count, favorite_count, \\\n",
    "                    lang  \\\n",
    "                    FROM en_tweets\")\n",
    "\n",
    "dfdashboard.show()\n"
   ]
  },
  {
   "cell_type": "code",
   "execution_count": 198,
   "id": "7629f2a4",
   "metadata": {},
   "outputs": [
    {
     "name": "stdout",
     "output_type": "stream",
     "text": [
      "root\n",
      " |-- id: long (nullable = true)\n",
      " |-- Year: integer (nullable = true)\n",
      " |-- Month: integer (nullable = true)\n",
      " |-- Day: integer (nullable = true)\n",
      " |-- wkofYr: integer (nullable = true)\n",
      " |-- quote_count: integer (nullable = true)\n",
      " |-- reply_count: integer (nullable = true)\n",
      " |-- retweet_count: integer (nullable = true)\n",
      " |-- favorite_count: integer (nullable = true)\n",
      " |-- lang: string (nullable = true)\n",
      "\n"
     ]
    }
   ],
   "source": [
    "dfdashboard.printSchema()"
   ]
  },
  {
   "cell_type": "code",
   "execution_count": 199,
   "id": "21873b54",
   "metadata": {
    "scrolled": true
   },
   "outputs": [
    {
     "name": "stderr",
     "output_type": "stream",
     "text": [
      "                                                                                \r"
     ]
    },
    {
     "data": {
      "text/plain": [
       "48726"
      ]
     },
     "metadata": {},
     "output_type": "display_data"
    },
    {
     "name": "stderr",
     "output_type": "stream",
     "text": [
      "                                                                                \r"
     ]
    },
    {
     "name": "stdout",
     "output_type": "stream",
     "text": [
      "Found 2 items\r\n",
      "-rw-r--r--   1 sba22230 supergroup          0 2023-05-18 18:12 /ca4/dashboard.parquet/_SUCCESS\r\n",
      "-rw-r--r--   1 sba22230 supergroup     491576 2023-05-18 18:12 /ca4/dashboard.parquet/part-00000-c18540f7-593f-4fb0-b248-bf2787e12643-c000.snappy.parquet\r\n"
     ]
    }
   ],
   "source": [
    "display(dfdashboard.count())\n",
    "dfdashboard.coalesce(1).write.parquet(\"/ca4/dashboard.parquet\")\n",
    "\n",
    "# check if the file was written out\n",
    "!hadoop fs -ls /ca4/dashboard.parquet\n",
    "\n",
    "\n",
    "# output to the project folder \n",
    "!hadoop fs -get '/ca4/dashboard.parquet' './'"
   ]
  },
  {
   "cell_type": "markdown",
   "id": "3f08f06d",
   "metadata": {},
   "source": [
    "### Advanced Text processing\n",
    "\n",
    "N-grams"
   ]
  },
  {
   "cell_type": "code",
   "execution_count": null,
   "id": "b3fecdbd",
   "metadata": {},
   "outputs": [],
   "source": []
  },
  {
   "cell_type": "code",
   "execution_count": 200,
   "id": "abccf034",
   "metadata": {},
   "outputs": [
    {
     "name": "stderr",
     "output_type": "stream",
     "text": [
      "                                                                                \r"
     ]
    }
   ],
   "source": [
    "\n",
    "\n",
    "pdfText = dfText.toPandas()\n"
   ]
  },
  {
   "cell_type": "markdown",
   "id": "547023fd",
   "metadata": {},
   "source": [
    "Term Frequency"
   ]
  },
  {
   "cell_type": "code",
   "execution_count": 201,
   "id": "7e1a1e03",
   "metadata": {},
   "outputs": [
    {
     "data": {
      "text/plain": [
       "pandas.core.frame.DataFrame"
      ]
     },
     "execution_count": 201,
     "metadata": {},
     "output_type": "execute_result"
    }
   ],
   "source": [
    "type(pdfText)"
   ]
  },
  {
   "cell_type": "markdown",
   "id": "eb942367",
   "metadata": {},
   "source": [
    "Inverse Document Frequency"
   ]
  },
  {
   "cell_type": "code",
   "execution_count": null,
   "id": "9e24b4e7",
   "metadata": {},
   "outputs": [],
   "source": []
  },
  {
   "cell_type": "markdown",
   "id": "0bb9068b",
   "metadata": {},
   "source": [
    "## Building the model "
   ]
  },
  {
   "cell_type": "code",
   "execution_count": null,
   "id": "21bd109f",
   "metadata": {},
   "outputs": [],
   "source": [
    "\n"
   ]
  },
  {
   "cell_type": "code",
   "execution_count": null,
   "id": "e1a0f73a",
   "metadata": {},
   "outputs": [],
   "source": []
  },
  {
   "cell_type": "code",
   "execution_count": null,
   "id": "69cfdafc",
   "metadata": {},
   "outputs": [],
   "source": []
  }
 ],
 "metadata": {
  "kernelspec": {
   "display_name": "Python 3 (ipykernel)",
   "language": "python",
   "name": "python3"
  },
  "language_info": {
   "codemirror_mode": {
    "name": "ipython",
    "version": 3
   },
   "file_extension": ".py",
   "mimetype": "text/x-python",
   "name": "python",
   "nbconvert_exporter": "python",
   "pygments_lexer": "ipython3",
   "version": "3.10.6"
  }
 },
 "nbformat": 4,
 "nbformat_minor": 5
}
