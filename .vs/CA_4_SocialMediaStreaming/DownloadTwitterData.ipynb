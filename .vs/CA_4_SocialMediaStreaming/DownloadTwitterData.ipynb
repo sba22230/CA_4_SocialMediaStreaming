{
 "cells": [
  {
   "cell_type": "raw",
   "metadata": {},
   "source": [
    "---\n",
    "title: \"Get the Twitter Stream Tar files from Archive Team\"\n",
    "format: html\n",
    "---"
   ]
  },
  {
   "cell_type": "code",
   "execution_count": 1,
   "metadata": {},
   "outputs": [],
   "source": [
    "from urllib import request as rq\n",
    "import pandas as pd\n",
    "import os"
   ]
  },
  {
   "cell_type": "code",
   "execution_count": 4,
   "metadata": {},
   "outputs": [
    {
     "name": "stdout",
     "output_type": "stream",
     "text": [
      "https://archive.org/download/archiveteam-twitter-stream-2018-01/archiveteam-twitter-stream-2018-01.tar\n"
     ]
    }
   ],
   "source": [
    "mnth = ['01','02','03']\n",
    "yr = ['2018']\n",
    "dest = 'E:/TwitterStream'\n",
    "\n",
    "for y in yr:\n",
    "    for m in mnth:\n",
    "        url = 'https://archive.org/download/archiveteam-twitter-stream-' + y + '-' + m + '/archiveteam-twitter-stream-' + y + '-' + m + '.tar' \n",
    "        print(url)\n",
    "        dest =  dest + '/archiveteam-twitter-stream-' + y + '-' + m + '.tar'\n",
    "        twtstr = rq.urlretrieve(url, dest)\n",
    "\n",
    "\n",
    "\n",
    "\n",
    "\n",
    "#"
   ]
  },
  {
   "cell_type": "code",
   "execution_count": null,
   "metadata": {},
   "outputs": [],
   "source": [
    "mnth = ['04','05','06','07','08','09','10','11','12']\n",
    "\n",
    "for y in yr:\n",
    "    for m in mnth: \n",
    "        url = 'https://archive.org/download/archiveteam-twitter-stream-' + y + '-' + m + '/formats=TAR&file=/archiveteam-twitter-stream-' + y + '-' + m + '.zip'\n",
    "        print(url)\n",
    "        dest =  dest + '/archiveteam-twitter-stream-' + y + '-' + m + '.tar'\n",
    "        twtstr = rq.urlretrieve(url, dest)"
   ]
  },
  {
   "cell_type": "code",
   "execution_count": null,
   "metadata": {},
   "outputs": [],
   "source": []
  }
 ],
 "metadata": {
  "kernelspec": {
   "display_name": "tf",
   "language": "python",
   "name": "python3"
  },
  "language_info": {
   "codemirror_mode": {
    "name": "ipython",
    "version": 3
   },
   "file_extension": ".py",
   "mimetype": "text/x-python",
   "name": "python",
   "nbconvert_exporter": "python",
   "pygments_lexer": "ipython3",
   "version": "3.9.9"
  },
  "orig_nbformat": 4
 },
 "nbformat": 4,
 "nbformat_minor": 2
}
