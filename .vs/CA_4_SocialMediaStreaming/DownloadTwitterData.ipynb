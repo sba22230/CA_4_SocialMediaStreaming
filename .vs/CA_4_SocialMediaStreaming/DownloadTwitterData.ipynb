{
 "cells": [
  {
   "cell_type": "raw",
   "metadata": {},
   "source": [
    "---\n",
    "title: \"Get the Twitter Stream Tar files from Archive Team\"\n",
    "format: html\n",
    "---"
   ]
  },
  {
   "cell_type": "code",
   "execution_count": 1,
   "metadata": {},
   "outputs": [],
   "source": [
    "from urllib import request as rq\n",
    "import pandas as pd\n",
    "import os\n",
    "from datetime import datetime as dt\n",
    "import calendar\n",
    "from bs4 import BeautifulSoup # for web scraping\n",
    "import requests # for web scraping\n"
   ]
  },
  {
   "cell_type": "code",
   "execution_count": 2,
   "metadata": {},
   "outputs": [
    {
     "name": "stdout",
     "output_type": "stream",
     "text": [
      "Downloading: https://archive.org/download/archiveteam-twitter-stream-2021-01/twitter-stream-2021-01-01.zip\n",
      "File exists: E:/TwitterStream/twitter-stream-2021-01-01.zip\n",
      "Downloading: https://archive.org/download/archiveteam-twitter-stream-2021-01/twitter-stream-2021-01-02.zip\n",
      "File exists: E:/TwitterStream/twitter-stream-2021-01-02.zip\n",
      "Downloading: https://archive.org/download/archiveteam-twitter-stream-2021-01/twitter-stream-2021-01-03.zip\n",
      "Downloaded: https://archive.org/download/archiveteam-twitter-stream-2021-01/twitter-stream-2021-01-03.zip\n",
      "Downloading: https://archive.org/download/archiveteam-twitter-stream-2021-01/twitter-stream-2021-01-04.zip\n"
     ]
    }
   ],
   "source": [
    "year = {2021, 2022}\n",
    "\n",
    "for y in year:\n",
    "    if y == 2021:\n",
    "        month = range(1, 13, 1)\n",
    "    else:\n",
    "        month = range(1, 12, 1)\n",
    "       \n",
    "    for m in month:\n",
    "        str_Year = str(y)\n",
    "        if m < 10:\n",
    "            str_Month = '0' + str(m)\n",
    "        else:\n",
    "            str_Month = str(m)\n",
    "\n",
    "        baseurl = \"https://archive.org/download/archiveteam-twitter-stream-\" + str_Year + '-' + str_Month\n",
    "\n",
    "# https://archive.org/download/archiveteam-twitter-stream-2021-06/twitter-stream-2021-06-14.zip\n",
    "        # resorted to web scraping because there are too many variables to statically code for. \n",
    "        r = requests.get(baseurl)\n",
    "        soup = BeautifulSoup(r.content)\n",
    "        soup = soup.find('table')\n",
    "        soup = soup.find_all('a')\n",
    "        for element in soup:\n",
    "            dest = 'E:/TwitterStream'\n",
    "            lnkurl = element.get('href')\n",
    "            # only download the files that are zip or tar \n",
    "            if lnkurl.endswith('.zip') or lnkurl.endswith('.tar'):\n",
    "                dest =  dest + '/' + lnkurl\n",
    "                lnkurl = baseurl + '/' + lnkurl\n",
    "                print('Downloading: ' + lnkurl)\n",
    "                \n",
    "                if os.path.exists(dest):\n",
    "                    print('File exists: ' + dest)\n",
    "                    continue\n",
    "                else:\n",
    "                # download the file\n",
    "                    try:\n",
    "                        rq.urlretrieve(lnkurl, dest)\n",
    "                    except:\n",
    "                        print('Error: ' + lnkurl)\n",
    "                        continue\n",
    "                print('Downloaded: ' + lnkurl)\n",
    "        \n",
    "            \n",
    "            \n",
    "                \n",
    "\n",
    "\n",
    "\n",
    "\n",
    "\n",
    "\n",
    "\n",
    "\n",
    "#"
   ]
  },
  {
   "cell_type": "code",
   "execution_count": null,
   "metadata": {},
   "outputs": [],
   "source": []
  }
 ],
 "metadata": {
  "kernelspec": {
   "display_name": "tf",
   "language": "python",
   "name": "python3"
  },
  "language_info": {
   "codemirror_mode": {
    "name": "ipython",
    "version": 3
   },
   "file_extension": ".py",
   "mimetype": "text/x-python",
   "name": "python",
   "nbconvert_exporter": "python",
   "pygments_lexer": "ipython3",
   "version": "3.9.9"
  },
  "orig_nbformat": 4
 },
 "nbformat": 4,
 "nbformat_minor": 2
}
