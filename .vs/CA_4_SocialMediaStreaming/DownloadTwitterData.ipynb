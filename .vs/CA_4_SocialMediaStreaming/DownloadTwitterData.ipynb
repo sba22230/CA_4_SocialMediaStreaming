{
 "cells": [
  {
   "cell_type": "raw",
   "metadata": {},
   "source": [
    "---\n",
    "title: \"Get the Twitter Stream Tar files from Archive Team\"\n",
    "format: html\n",
    "---"
   ]
  },
  {
   "cell_type": "code",
   "execution_count": null,
   "metadata": {},
   "outputs": [],
   "source": [
    "from urllib import request as rq\n",
    "import pandas as pd\n",
    "import os\n",
    "from datetime import datetime as dt\n",
    "import calendar"
   ]
  },
  {
   "cell_type": "code",
   "execution_count": null,
   "metadata": {},
   "outputs": [],
   "source": [
    "dest = 'E:/TwitterStream'\n",
    "\n",
    "year = {2021, 2022}\n",
    "#year = {2022}\n",
    "\n",
    "# https://archive.org/download/archiveteam-twitter-stream-2021-01/twitter-stream-2021-01-01.zip\n",
    "for y in year:\n",
    "    if y == 2021:\n",
    "        month = range(1, 13, 1)\n",
    "    else:\n",
    "        month = range(1, 12, 1)\n",
    "    for m in month:\n",
    "        days =  range(1, calendar.monthrange(y,m)[1] + 1, 1)\n",
    "        for d in days:\n",
    "            str_Year = str(y)\n",
    "            if m < 10:\n",
    "                str_Month = '0' + str(m)\n",
    "            else:\n",
    "                str_Month = str(m)\n",
    "            if d < 10: \n",
    "                str_Day = '0' + str(d)\n",
    "            else:\n",
    "                str_Day = str(d)\n",
    "            url = 'https://archive.org/download/archiveteam-twitter-stream-' + y + '-' + m + '/formats=TAR&file=/archiveteam-twitter-stream-' + y + '-' + m + '.zip'\n",
    "            print(url)\n",
    "            dest =  dest + '/archiveteam-twitter-stream-' + y + '-' + m + '.zip'\n",
    "            twtstr = rq.urlretrieve(url, dest)\n",
    "\n",
    "\n",
    "\n",
    "\n",
    "\n",
    "#"
   ]
  },
  {
   "cell_type": "code",
   "execution_count": null,
   "metadata": {},
   "outputs": [],
   "source": []
  }
 ],
 "metadata": {
  "kernelspec": {
   "display_name": "tf",
   "language": "python",
   "name": "python3"
  },
  "language_info": {
   "codemirror_mode": {
    "name": "ipython",
    "version": 3
   },
   "file_extension": ".py",
   "mimetype": "text/x-python",
   "name": "python",
   "nbconvert_exporter": "python",
   "pygments_lexer": "ipython3",
   "version": "3.9.9"
  },
  "orig_nbformat": 4
 },
 "nbformat": 4,
 "nbformat_minor": 2
}
