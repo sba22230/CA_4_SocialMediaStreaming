{
 "cells": [
  {
   "cell_type": "code",
   "execution_count": null,
   "metadata": {},
   "outputs": [],
   "source": [
    "from azure.storage.blob import BlobServiceClient, PublicAccess\n",
    "from azure.core.exceptions import HttpResponseError, ResourceExistsError\n",
    "#from azure.storage.blob.models import Blob\n",
    "import os\n",
    "import requests\n"
   ]
  },
  {
   "cell_type": "code",
   "execution_count": null,
   "metadata": {},
   "outputs": [],
   "source": [
    "connection_string = os.getenv(\"AZURE_STORAGE_CONNECTION_STRING\")\n",
    "blob_service_client = BlobServiceClient.from_connection_string(connection_string)\n",
    "container_name ='twitterstream'\n",
    "container_client = blob_service_client.get_container_client(container_name)"
   ]
  },
  {
   "cell_type": "code",
   "execution_count": null,
   "metadata": {},
   "outputs": [],
   "source": [
    "source_blob = \"https://archive.org/download/archiveteam-twitter-stream-2020-01/twitter_stream_2020_01_02.tar\"\n",
    "copied_blob = blob_service_client.get_blob_client(container_name, 'twitter_stream_2020_01_01.tar')\n",
    "import requests\n",
    "response = requests.head(source_blob, allow_redirects=True)\n",
    "print(response.url)\n",
    "source_blob = response.url"
   ]
  },
  {
   "cell_type": "code",
   "execution_count": null,
   "metadata": {},
   "outputs": [],
   "source": [
    "copy = copied_blob.start_copy_from_url(source_blob)\n",
    "props = copied_blob.get_blob_properties()\n",
    "print(props.copy.status)"
   ]
  },
  {
   "cell_type": "code",
   "execution_count": null,
   "metadata": {},
   "outputs": [],
   "source": [
    "props = copied_blob.get_blob_properties()\n",
    "print(props.copy.status)"
   ]
  },
  {
   "cell_type": "code",
   "execution_count": null,
   "metadata": {},
   "outputs": [],
   "source": []
  },
  {
   "cell_type": "code",
   "execution_count": null,
   "metadata": {},
   "outputs": [],
   "source": []
  }
 ],
 "metadata": {
  "kernelspec": {
   "display_name": "tf",
   "language": "python",
   "name": "python3"
  },
  "language_info": {
   "codemirror_mode": {
    "name": "ipython",
    "version": 3
   },
   "file_extension": ".py",
   "mimetype": "text/x-python",
   "name": "python",
   "nbconvert_exporter": "python",
   "pygments_lexer": "ipython3",
   "version": "3.9.9"
  },
  "orig_nbformat": 4
 },
 "nbformat": 4,
 "nbformat_minor": 2
}
